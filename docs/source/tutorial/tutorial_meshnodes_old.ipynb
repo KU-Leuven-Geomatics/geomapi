{
 "cells": [
  {
   "cell_type": "markdown",
   "metadata": {},
   "source": [
    "# MeshNode\n",
    "The meshNode class in Geomapi represents the data and metadata of polygonal mesh data. The data itself and methods build upon Open3D TriangleMesh and Trimesh concepts while the metadata builds upon the RDFlib framework:\n",
    "\n",
    "[http://www.open3d.org/docs/latest/tutorial/Basic/mesh.html#](http://www.open3d.org/docs/latest/tutorial/Basic/mesh.html#) \n",
    "\n",
    "[https://trimsh.org/trimesh.base.html](https://trimsh.org/trimesh.base.html)\n",
    "\n",
    "[https://rdflib.readthedocs.io/](https://rdflib.readthedocs.io/) \n",
    "\n",
    "The code below shows how to create a MeshNode from various inputs. "
   ]
  },
  {
   "cell_type": "markdown",
   "metadata": {},
   "source": [
    "First the geomapi and external packages are imported"
   ]
  },
  {
   "cell_type": "code",
   "execution_count": 125,
   "metadata": {},
   "outputs": [],
   "source": [
    "#IMPORT PACKAGES\n",
    "from rdflib import Graph, URIRef, Literal\n",
    "import open3d as o3d\n",
    "import os\n",
    "from pathlib import Path\n",
    "\n",
    "#IMPORT MODULES\n",
    "from context import geomapi \n",
    "from geomapi.nodes import *\n",
    "import geomapi.utils as ut\n",
    "from geomapi.utils import geometryutils as gmu\n",
    "import geomapi.tools as tl"
   ]
  },
  {
   "cell_type": "markdown",
   "metadata": {},
   "source": [
    "## MeshNode from properties"
   ]
  },
  {
   "cell_type": "markdown",
   "metadata": {},
   "source": [
    "A placeholder MeshNode can be initialised without any data or metadata"
   ]
  },
  {
   "cell_type": "code",
   "execution_count": 128,
   "metadata": {},
   "outputs": [
    {
     "data": {
      "text/plain": [
       "{'pointCount': None,\n",
       " 'faceCount': None,\n",
       " '_cartesianBounds': None,\n",
       " '_orientedBounds': None,\n",
       " '_orientedBoundingBox': None,\n",
       " '_subject': rdflib.term.URIRef('file:///myNode'),\n",
       " '_graph': None,\n",
       " '_graphPath': None,\n",
       " '_path': None,\n",
       " '_name': 'myName',\n",
       " '_timestamp': None,\n",
       " '_resource': None,\n",
       " '_cartesianTransform': None}"
      ]
     },
     "execution_count": 128,
     "metadata": {},
     "output_type": "execute_result"
    }
   ],
   "source": [
    "node=MeshNode(subject='myNode',\n",
    "              name='myName')\n",
    "{key:value for key, value in node.__dict__.items() if not key.startswith('__') and not callable(key)}              \n"
   ]
  },
  {
   "cell_type": "markdown",
   "metadata": {},
   "source": [
    "## MeshNode from Path"
   ]
  },
  {
   "cell_type": "markdown",
   "metadata": {},
   "source": [
    "Instead, it is much more likely to initialise a MeshNode from a path containing an .obj or .ply file. This sets the: <br>\n",
    "1. subject\n",
    "2. name\n",
    "3. timestamp"
   ]
  },
  {
   "cell_type": "code",
   "execution_count": 129,
   "metadata": {},
   "outputs": [
    {
     "data": {
      "text/plain": [
       "{'pointCount': None,\n",
       " 'faceCount': None,\n",
       " '_cartesianBounds': None,\n",
       " '_orientedBounds': None,\n",
       " '_orientedBoundingBox': None,\n",
       " '_subject': rdflib.term.URIRef('file:///Precast_Stair_Stair_1181900_Landing_1'),\n",
       " '_graph': None,\n",
       " '_graphPath': None,\n",
       " '_path': 'd:\\\\Scan-to-BIM repository\\\\geomapi\\\\test\\\\testfiles\\\\MESH\\\\Precast Stair_Stair_1181900 Landing 1.obj',\n",
       " '_name': 'Precast Stair_Stair_1181900 Landing 1',\n",
       " '_timestamp': '2022-08-02T08:25:01',\n",
       " '_resource': None,\n",
       " '_cartesianTransform': None}"
      ]
     },
     "execution_count": 129,
     "metadata": {},
     "output_type": "execute_result"
    }
   ],
   "source": [
    "filePath=os.path.join(Path(os.getcwd()).parents[2],'test','testfiles','MESH','Precast Stair_Stair_1181900 Landing 1.obj')\n",
    "node=MeshNode(path=filePath)\n",
    "{key:value for key, value in node.__dict__.items() if not key.startswith('__') and not callable(key)}              \n"
   ]
  },
  {
   "cell_type": "markdown",
   "metadata": {},
   "source": [
    "**NOTE**: GetResource is optional and might slow down any analysis. Only work with data when all metadata options have been exhausted."
   ]
  },
  {
   "cell_type": "code",
   "execution_count": 130,
   "metadata": {},
   "outputs": [
    {
     "data": {
      "text/plain": [
       "{'pointCount': 24,\n",
       " 'faceCount': 44,\n",
       " '_cartesianBounds': array([-15.33829975, -12.29339981,  72.86849976,  75.14150238,\n",
       "          9.96000004,  10.22000027]),\n",
       " '_orientedBounds': array([[-14.77782442,  75.91900201,  10.22442134],\n",
       "        [-11.71133823,  73.70850378,  10.21801638],\n",
       "        [-16.18895543,  73.96140652,  10.23185056],\n",
       "        [-14.77867795,  75.91859696,   9.95557148],\n",
       "        [-13.12332277,  71.75050325,   9.95659574],\n",
       "        [-16.18980896,  73.96100148,   9.9630007 ],\n",
       "        [-11.71219175,  73.70809874,   9.94916652],\n",
       "        [-13.12246924,  71.75090829,  10.2254456 ]]),\n",
       " '_orientedBoundingBox': OrientedBoundingBox: center: (-13.9506, 73.8348, 10.0905), extent: 3.78017, 2.4132, 0.268852),\n",
       " '_subject': rdflib.term.URIRef('file:///Precast_Stair_Stair_1181900_Landing_1'),\n",
       " '_graph': None,\n",
       " '_graphPath': None,\n",
       " '_path': 'd:\\\\Scan-to-BIM repository\\\\geomapi\\\\test\\\\testfiles\\\\MESH\\\\Precast Stair_Stair_1181900 Landing 1.obj',\n",
       " '_name': 'Precast Stair_Stair_1181900 Landing 1',\n",
       " '_timestamp': '2022-08-02T08:25:01',\n",
       " '_resource': TriangleMesh with 24 points and 44 triangles.,\n",
       " '_cartesianTransform': array([[  1.        ,   0.        ,   0.        , -13.47834166],\n",
       "        [  0.        ,   1.        ,   0.        ,  73.99623426],\n",
       "        [  0.        ,   0.        ,   1.        ,  10.09000015],\n",
       "        [  0.        ,   0.        ,   0.        ,   1.        ]])}"
      ]
     },
     "execution_count": 130,
     "metadata": {},
     "output_type": "execute_result"
    }
   ],
   "source": [
    "node=MeshNode(path=filePath, getResource=True)\n",
    "{key:value for key, value in node.__dict__.items() if not key.startswith('__') and not callable(key)}              "
   ]
  },
  {
   "cell_type": "markdown",
   "metadata": {},
   "source": [
    "**NOTE**: GetMetadata (bool) by default is True. As such, when data is imported, the cartesianBounds, orientedBounds, cartesianTransform and orientedBoundingBox is automatically extracted."
   ]
  },
  {
   "cell_type": "markdown",
   "metadata": {},
   "source": [
    "## MeshNode from resource"
   ]
  },
  {
   "cell_type": "markdown",
   "metadata": {},
   "source": [
    "A similar result is achieved by initialising a MeshNode from a Open3D.Geometry.TriangleMesh or Trimesh.trimesh instance. In this case, GetResource (bool) means nothing. "
   ]
  },
  {
   "cell_type": "code",
   "execution_count": 131,
   "metadata": {},
   "outputs": [
    {
     "data": {
      "text/plain": [
       "{'pointCount': 24,\n",
       " 'faceCount': 44,\n",
       " '_cartesianBounds': array([-15.33829975, -12.29339981,  72.86849976,  75.14150238,\n",
       "          9.96000004,  10.22000027]),\n",
       " '_orientedBounds': array([[-14.77782442,  75.91900201,  10.22442134],\n",
       "        [-11.71133823,  73.70850378,  10.21801638],\n",
       "        [-16.18895543,  73.96140652,  10.23185056],\n",
       "        [-14.77867795,  75.91859696,   9.95557148],\n",
       "        [-13.12332277,  71.75050325,   9.95659574],\n",
       "        [-16.18980896,  73.96100148,   9.9630007 ],\n",
       "        [-11.71219175,  73.70809874,   9.94916652],\n",
       "        [-13.12246924,  71.75090829,  10.2254456 ]]),\n",
       " '_orientedBoundingBox': OrientedBoundingBox: center: (-13.9506, 73.8348, 10.0905), extent: 3.78017, 2.4132, 0.268852),\n",
       " '_subject': rdflib.term.URIRef('file:///c1bc9eaa-1d70-11ed-b067-c8f75043ce59'),\n",
       " '_graph': None,\n",
       " '_graphPath': None,\n",
       " '_path': None,\n",
       " '_name': 'c1bc9eaa-1d70-11ed-b067-c8f75043ce59',\n",
       " '_timestamp': None,\n",
       " '_resource': TriangleMesh with 24 points and 44 triangles.,\n",
       " '_cartesianTransform': array([[  1.        ,   0.        ,   0.        , -13.47834166],\n",
       "        [  0.        ,   1.        ,   0.        ,  73.99623426],\n",
       "        [  0.        ,   0.        ,   1.        ,  10.09000015],\n",
       "        [  0.        ,   0.        ,   0.        ,   1.        ]])}"
      ]
     },
     "execution_count": 131,
     "metadata": {},
     "output_type": "execute_result"
    }
   ],
   "source": [
    "mesh=o3d.io.read_triangle_mesh(filePath)\n",
    "node=MeshNode(resource=mesh)\n",
    "{key:value for key, value in node.__dict__.items() if not key.startswith('__') and not callable(key)}            "
   ]
  },
  {
   "cell_type": "markdown",
   "metadata": {},
   "source": [
    "**NOTE**: The cartesianTransform extracted from paths or resources are void of rotationmatrices as this metadata is not part of the fileformat. The translation thus represents the center of the geometry."
   ]
  },
  {
   "cell_type": "markdown",
   "metadata": {},
   "source": [
    "## MeshNode from Graph and graphPath"
   ]
  },
  {
   "cell_type": "markdown",
   "metadata": {},
   "source": [
    "If a mesh was already serialized, a node can be initialised from the graph or graphPath. \n",
    "\n",
    "**NOTE**: The graphPath is the more complete option as it is used to absolutize the node's path information. However, it is also the slower option as the entire graph encapsulation the node is parsed multiple times.\n",
    "\n",
    "**USE**: linkeddatatools.graph_to_nodes resolves this issue."
   ]
  },
  {
   "cell_type": "code",
   "execution_count": 146,
   "metadata": {},
   "outputs": [
    {
     "name": "stdout",
     "output_type": "stream",
     "text": [
      "@prefix e57: <http://libe57.org#> .\n",
      "@prefix openlabel: <https://www.asam.net/index.php?eID=dumpFile&t=f&f=3876&token=413e8c85031ae64cc35cf42d0768627514868b2f#> .\n",
      "@prefix v4d: <https://w3id.org/v4d/core#> .\n",
      "@prefix xsd: <http://www.w3.org/2001/XMLSchema#> .\n",
      "\n",
      "<file:///Basic_Wall_000_WA_DummyWall_20mm_1130411> a v4d:MeshNode ;\n",
      "    e57:cartesianBounds \"\"\"[-14.01650047 -13.62110043  69.10179901  69.13130188  13.97000027\\r\n",
      "  17.20999908]\"\"\" ;\n",
      "    e57:cartesianTransform \"\"\"[[  1.           0.           0.         -13.81880021]\\r\n",
      " [  0.           1.           0.          69.11655045]\\r\n",
      " [  0.           0.           1.          15.58999968]\\r\n",
      " [  0.           0.           0.           1.        ]]\"\"\" ;\n",
      "    e57:pointCount 8 ;\n",
      "    v4d:accuracy \"0.05\"^^xsd:float ;\n",
      "    v4d:faceCount 12 ;\n",
      "    v4d:name \"Basic Wall_000_WA_DummyWall 20mm_1130411\" ;\n",
      "    v4d:path \"MESH\\\\Basic Wall_000_WA_DummyWall 20mm_1130411.obj\" ;\n",
      "    openlabel:sensor \"Hololens 2\" ;\n",
      "    openlabel:timestamp \"2022-04-06 15:16:28\" .\n",
      "\n",
      "\n"
     ]
    }
   ],
   "source": [
    "graphPath = os.path.join(Path(os.getcwd()).parents[2],'test','testfiles','meshGraph.ttl')\n",
    "graph=Graph().parse(graphPath)\n",
    "\n",
    "#only print first node\n",
    "newGraph=Graph()\n",
    "newGraph=ut.bind_ontologies(newGraph)\n",
    "newGraph+=graph.triples((URIRef('file:///Basic_Wall_000_WA_DummyWall_20mm_1130411'),None,None))\n",
    "print(newGraph.serialize())"
   ]
  },
  {
   "cell_type": "code",
   "execution_count": 133,
   "metadata": {},
   "outputs": [
    {
     "data": {
      "text/plain": [
       "{'pointCount': 8,\n",
       " 'faceCount': 12,\n",
       " '_cartesianBounds': array([-14.01650047, -13.62110043,  69.10179901,  69.13130188,\n",
       "         13.97000027,  17.20999908]),\n",
       " '_orientedBounds': None,\n",
       " '_orientedBoundingBox': None,\n",
       " '_subject': rdflib.term.URIRef('file:///Basic_Wall_000_WA_DummyWall_20mm_1130411'),\n",
       " '_graph': <Graph identifier=N77dd02aa430140ae8f8a6b853162824b (<class 'rdflib.graph.Graph'>)>,\n",
       " '_graphPath': 'd:\\\\Scan-to-BIM repository\\\\geomapi\\\\test\\\\testfiles\\\\meshGraph.ttl',\n",
       " '_path': 'd:\\\\Scan-to-BIM repository\\\\geomapi\\\\test\\\\testfiles\\\\MESH\\\\Basic Wall_000_WA_DummyWall 20mm_1130411.obj',\n",
       " '_name': 'Basic Wall_000_WA_DummyWall 20mm_1130411',\n",
       " '_timestamp': '2022-04-06T15:16:28',\n",
       " '_resource': None,\n",
       " '_cartesianTransform': array([[  1.        ,   0.        ,   0.        , -13.81880021],\n",
       "        [  0.        ,   1.        ,   0.        ,  69.11655045],\n",
       "        [  0.        ,   0.        ,   1.        ,  15.58999968],\n",
       "        [  0.        ,   0.        ,   0.        ,   1.        ]]),\n",
       " 'type': 'https://w3id.org/v4d/core#MeshNode',\n",
       " 'accuracy': 0.05,\n",
       " 'sensor': 'Hololens 2'}"
      ]
     },
     "execution_count": 133,
     "metadata": {},
     "output_type": "execute_result"
    }
   ],
   "source": [
    "node=MeshNode(graphPath=graphPath)\n",
    "{key:value for key, value in node.__dict__.items() if not key.startswith('__') and not callable(key)}"
   ]
  },
  {
   "cell_type": "markdown",
   "metadata": {},
   "source": [
    "## MeshNode to Graph"
   ]
  },
  {
   "cell_type": "markdown",
   "metadata": {},
   "source": [
    "The Graph serialisation is inherited from Node functionality."
   ]
  },
  {
   "cell_type": "code",
   "execution_count": 134,
   "metadata": {},
   "outputs": [
    {
     "name": "stdout",
     "output_type": "stream",
     "text": [
      "@prefix e57: <http://libe57.org#> .\n",
      "@prefix openlabel: <https://www.asam.net/index.php?eID=dumpFile&t=f&f=3876&token=413e8c85031ae64cc35cf42d0768627514868b2f#> .\n",
      "@prefix v4d: <https://w3id.org/v4d/core#> .\n",
      "@prefix xsd: <http://www.w3.org/2001/XMLSchema#> .\n",
      "\n",
      "<file:///myNode> a v4d:MeshNode ;\n",
      "    e57:cartesianBounds \"\"\"[-15.33829975 -12.29339981  72.86849976  75.14150238   9.96000004\n",
      "  10.22000027]\"\"\" ;\n",
      "    e57:cartesianTransform \"\"\"[[  1.           0.           0.         -13.47834166]\n",
      " [  0.           1.           0.          73.99623426]\n",
      " [  0.           0.           1.          10.09000015]\n",
      " [  0.           0.           0.           1.        ]]\"\"\" ;\n",
      "    e57:pointCount 24 ;\n",
      "    v4d:faceCount 44 ;\n",
      "    v4d:name \"Precast Stair_Stair_1181900 Landing 1\" ;\n",
      "    v4d:orientedBounds \"\"\"[[-14.77782442  75.91900201  10.22442134]\n",
      " [-11.71133823  73.70850378  10.21801638]\n",
      " [-16.18895543  73.96140652  10.23185056]\n",
      " [-14.77867795  75.91859696   9.95557148]\n",
      " [-13.12332277  71.75050325   9.95659574]\n",
      " [-16.18980896  73.96100148   9.9630007 ]\n",
      " [-11.71219175  73.70809874   9.94916652]\n",
      " [-13.12246924  71.75090829  10.2254456 ]]\"\"\" ;\n",
      "    v4d:path \"..\\\\..\\\\..\\\\test\\\\testfiles\\\\MESH\\\\Precast Stair_Stair_1181900 Landing 1.obj\" ;\n",
      "    openlabel:timestamp \"2022-08-02T08:25:01\" .\n",
      "\n",
      "\n"
     ]
    }
   ],
   "source": [
    "node=MeshNode(subject='myNode',\n",
    "                path=filePath,\n",
    "                getResource=True)\n",
    "\n",
    "newGraphPath = os.path.join(os.getcwd(),'myGraph.ttl')\n",
    "node.to_graph(newGraphPath)\n",
    "\n",
    "newNode=Node(graphPath=newGraphPath)\n",
    "print(node.graph.serialize())"
   ]
  },
  {
   "cell_type": "markdown",
   "metadata": {},
   "source": [
    "## MeshNode prefix relations"
   ]
  },
  {
   "cell_type": "markdown",
   "metadata": {},
   "source": [
    "MeshNodes can be attributed with a range of relationships. This is extremely usefull for Graph navigation and linking together different resources. In [Semantic Web Technologies](https://rdflib.readthedocs.io/en/stable/intro_to_creating_rdf.html), relationships are defined by triples that have other subjects as literals. \n"
   ]
  },
  {
   "cell_type": "markdown",
   "metadata": {},
   "source": [
    "In this first example, we perform a subselection on a node based on the [omg.isDerivedFromGeometry](https://www.projekt-scope.de/ontologies/omg/) relation."
   ]
  },
  {
   "cell_type": "code",
   "execution_count": 135,
   "metadata": {},
   "outputs": [
    {
     "name": "stdout",
     "output_type": "stream",
     "text": [
      "TriangleMesh with 330263 points and 485077 triangles.\n"
     ]
    }
   ],
   "source": [
    "filePath=os.path.join(Path(os.getcwd()).parents[2],'test','testfiles','MESH','week22.obj')\n",
    "myNode=MeshNode(path=filePath,getResource=True)\n",
    "print(myNode.resource)"
   ]
  },
  {
   "cell_type": "code",
   "execution_count": 137,
   "metadata": {},
   "outputs": [
    {
     "name": "stdout",
     "output_type": "stream",
     "text": [
      "[Open3D WARNING] [SelectByIndex] This mesh contains triangle uvs that are not handled in this function\n",
      "TriangleMesh with 5457 points and 10637 triangles.\n"
     ]
    }
   ],
   "source": [
    "#croppingGeometry\n",
    "box=o3d.geometry.TriangleMesh.create_box(width=10, height=10, depth=10)\n",
    "box=box.get_oriented_bounding_box()\n",
    "box.translate([50,50,0])\n",
    "box.color=[1,0,0]\n",
    "croppedGeometry=myNode.resource.crop(box)\n",
    "print(croppedGeometry)"
   ]
  },
  {
   "cell_type": "markdown",
   "metadata": {},
   "source": [
    "![rendering](../../pics/subMesh1.PNG)"
   ]
  },
  {
   "cell_type": "code",
   "execution_count": 138,
   "metadata": {},
   "outputs": [
    {
     "name": "stdout",
     "output_type": "stream",
     "text": [
      "@prefix e57: <http://libe57.org#> .\n",
      "@prefix omg: <https://w3id.org/omg#> .\n",
      "@prefix v4d: <https://w3id.org/v4d/core#> .\n",
      "@prefix xsd: <http://www.w3.org/2001/XMLSchema#> .\n",
      "\n",
      "<file:///mySubNode> a v4d:MeshNode ;\n",
      "    e57:cartesianBounds \"[50.00110626 59.99737167 50.00030136 59.99775696  3.61150765  6.80015469]\" ;\n",
      "    e57:cartesianTransform \"\"\"[[ 1.          0.          0.         54.76393966]\n",
      " [ 0.          1.          0.         54.55544061]\n",
      " [ 0.          0.          1.          3.96772196]\n",
      " [ 0.          0.          0.          1.        ]]\"\"\" ;\n",
      "    e57:pointCount 5457 ;\n",
      "    omg:isDerivedFromGeometry \"file:///week22\" ;\n",
      "    v4d:faceCount 10637 ;\n",
      "    v4d:orientedBounds \"\"\"[[54.98500194 65.04216759  5.28071617]\n",
      " [65.00704144 55.38643459  5.6780494 ]\n",
      " [45.48973927 55.26101097  7.08691   ]\n",
      " [54.73196446 64.63378783  1.73896801]\n",
      " [55.25874129 45.19689822  3.94249506]\n",
      " [45.23670179 54.85263122  3.54516184]\n",
      " [64.75400396 54.97805483  2.13630124]\n",
      " [55.51177877 45.60527797  7.48424322]]\"\"\" .\n",
      "\n",
      "\n"
     ]
    }
   ],
   "source": [
    "subNode=MeshNode(subject='mySubNode',\n",
    "                resource=croppedGeometry,\n",
    "                isDerivedFromGeometry=myNode.subject)\n",
    "subNode.to_graph()\n",
    "print(subNode.graph.serialize())"
   ]
  },
  {
   "cell_type": "markdown",
   "metadata": {},
   "source": [
    "## MeshNode custom relationships"
   ]
  },
  {
   "cell_type": "markdown",
   "metadata": {},
   "source": [
    "When designing a new analysis, there is often need for custom relations and properties. Both can be just asssigned as **instance variables**, which will be serialized by default under the v4d ontology. "
   ]
  },
  {
   "cell_type": "code",
   "execution_count": 141,
   "metadata": {},
   "outputs": [
    {
     "name": "stdout",
     "output_type": "stream",
     "text": [
      "file:///Basic_Wall_168_WA_f2_Soilmix_600mm_956569_06v1k9ENv8DhGMCvKUuLQV\n"
     ]
    }
   ],
   "source": [
    "import ifcopenshell\n",
    "\n",
    "ifcPath=os.path.join(Path(os.getcwd()).parents[2],'test','testfiles','IFC','Academiestraat_parking.ifc')\n",
    "ifc = ifcopenshell.open(ifcPath)   \n",
    "ifcWall=ifc.by_guid('06v1k9ENv8DhGMCvKUuLQV')\n",
    "bimNode=BIMNode(resource=ifcWall)\n",
    "print(bimNode.subject)"
   ]
  },
  {
   "cell_type": "code",
   "execution_count": 143,
   "metadata": {},
   "outputs": [
    {
     "name": "stdout",
     "output_type": "stream",
     "text": [
      "[Open3D WARNING] [SelectByIndex] This mesh contains triangle uvs that are not handled in this function\n",
      "TriangleMesh with 176 points and 217 triangles.\n"
     ]
    }
   ],
   "source": [
    "croppedGeometry=myNode.resource.crop(bimNode.resource.get_oriented_bounding_box())\n",
    "print(croppedGeometry)"
   ]
  },
  {
   "cell_type": "markdown",
   "metadata": {},
   "source": [
    "![rendering](../../pics/selection_BB_mesh2.PNG)"
   ]
  },
  {
   "cell_type": "code",
   "execution_count": 144,
   "metadata": {},
   "outputs": [
    {
     "name": "stdout",
     "output_type": "stream",
     "text": [
      "@prefix e57: <http://libe57.org#> .\n",
      "@prefix omg: <https://w3id.org/omg#> .\n",
      "@prefix v4d: <https://w3id.org/v4d/core#> .\n",
      "@prefix xsd: <http://www.w3.org/2001/XMLSchema#> .\n",
      "\n",
      "<file:///mySubNode> a v4d:MeshNode ;\n",
      "    e57:cartesianBounds \"\"\"[-15.47279358 -14.65663528  72.94135284  75.88972473   4.45037508\n",
      "   6.42876816]\"\"\" ;\n",
      "    e57:cartesianTransform \"\"\"[[  1.           0.           0.         -15.14809074]\n",
      " [  0.           1.           0.          74.72710605]\n",
      " [  0.           0.           1.           5.3706931 ]\n",
      " [  0.           0.           0.           1.        ]]\"\"\" ;\n",
      "    e57:pointCount 176 ;\n",
      "    omg:isDerivedFromGeometry \"file:///week22\" ;\n",
      "    v4d:faceCount 217 ;\n",
      "    v4d:isDerivedFromIFC \"d:\\\\Scan-to-BIM repository\\\\geomapi\\\\test\\\\testfiles\\\\IFC\\\\Academiestraat_parking.ifc\" ;\n",
      "    v4d:isWithinBoundaryOf \"file:///Basic_Wall_168_WA_f2_Soilmix_600mm_956569_06v1k9ENv8DhGMCvKUuLQV\" ;\n",
      "    v4d:offsetDistanceCalculation \"0.1\"^^xsd:float ;\n",
      "    v4d:orientedBounds \"\"\"[[-14.64414204  72.9709104    6.37267627]\n",
      " [-15.39184782  75.87261175   6.44123073]\n",
      " [-14.58012432  73.03350824   4.4213251 ]\n",
      " [-14.87577248  72.91144883   6.36316971]\n",
      " [-15.55946053  75.87574803   4.48037301]\n",
      " [-14.81175476  72.97404668   4.41181855]\n",
      " [-15.62347825  75.81315019   6.43172418]\n",
      " [-15.32783009  75.9352096    4.48987956]]\"\"\" .\n",
      "\n",
      "\n"
     ]
    }
   ],
   "source": [
    "subNode=MeshNode(subject='mySubNode',\n",
    "                resource=croppedGeometry,\n",
    "                isDerivedFromGeometry=myNode.subject,\n",
    "                isDerivedFromIFC=ifcPath, #custom\n",
    "                isWithinBoundaryOf=bimNode.subject,\n",
    "                offsetDistanceCalculation=0.1)\n",
    "subNode.to_graph()\n",
    "print(subNode.graph.serialize())"
   ]
  },
  {
   "cell_type": "markdown",
   "metadata": {},
   "source": [
    "## MeshNode with 3rd party ontologies"
   ]
  },
  {
   "cell_type": "markdown",
   "metadata": {},
   "source": [
    "Additionally, 3rd party ontologies can be registered in the namespace of the node.graph and the relationship can be manually attached to the graph."
   ]
  },
  {
   "cell_type": "code",
   "execution_count": 145,
   "metadata": {},
   "outputs": [
    {
     "name": "stdout",
     "output_type": "stream",
     "text": [
      "@prefix myOntology: <http://myOntology#> .\n",
      "@prefix v4d: <https://w3id.org/v4d/core#> .\n",
      "@prefix xsd: <http://www.w3.org/2001/XMLSchema#> .\n",
      "\n",
      "<file:///mySubNode> a v4d:MeshNode ;\n",
      "    myOntology:myProperty 1e-01 ;\n",
      "    myOntology:myRelation <file:///week22> .\n",
      "\n",
      "\n"
     ]
    }
   ],
   "source": [
    "import rdflib\n",
    "subNode=MeshNode(subject='mySubNode')\n",
    "subNode.to_graph()\n",
    "\n",
    "myOntology = rdflib.Namespace('http://myOntology#')\n",
    "subNode.graph.bind('myOntology', myOntology)\n",
    "subNode.graph.add((subNode.subject,myOntology['myProperty'],Literal(0.1) ))\n",
    "subNode.graph.add((subNode.subject,myOntology['myRelation'],myNode.subject ))\n",
    "\n",
    "print(subNode.graph.serialize())"
   ]
  }
 ],
 "metadata": {
  "kernelspec": {
   "display_name": "env",
   "language": "python",
   "name": "python3"
  },
  "language_info": {
   "codemirror_mode": {
    "name": "ipython",
    "version": 3
   },
   "file_extension": ".py",
   "mimetype": "text/x-python",
   "name": "python",
   "nbconvert_exporter": "python",
   "pygments_lexer": "ipython3",
   "version": "3.11.7"
  },
  "orig_nbformat": 4
 },
 "nbformat": 4,
 "nbformat_minor": 2
}

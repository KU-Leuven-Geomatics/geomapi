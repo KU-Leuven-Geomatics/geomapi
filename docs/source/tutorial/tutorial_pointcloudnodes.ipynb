{
 "cells": [
  {
   "cell_type": "markdown",
   "metadata": {},
   "source": [
    "# PointCloudNode\n",
    "The PointCloudNode class in Geomapi represents the data and metadata of point cloud data. The data itself and methods build upon Open3D PointCloud concepts while the metadata builds upon the RDFlib framework:\n",
    "\n",
    "[http://www.open3d.org/docs/release/python_api/open3d.geometry.PointCloud.html](http://www.open3d.org/docs/release/python_api/open3d.geometry.PointCloud.html)\n",
    "\n",
    "[https://rdflib.readthedocs.io/](https://rdflib.readthedocs.io/)\n",
    "\n",
    "The code below shows how to create a PointCloudNode from various inputs. "
   ]
  },
  {
   "cell_type": "code",
   "execution_count": 127,
   "metadata": {},
   "outputs": [],
   "source": [
    "#IMPORT PACKAGES\n",
    "from rdflib import Graph, URIRef, Literal\n",
    "import open3d as o3d\n",
    "import os\n",
    "from pathlib import Path\n",
    "\n",
    "#IMPORT MODULES\n",
    "from context import geomapi \n",
    "from geomapi.nodes import *\n",
    "import geomapi.utils as ut\n",
    "from geomapi.utils import geometryutils as gmu\n",
    "import geomapi.tools as tl"
   ]
  },
  {
   "cell_type": "code",
   "execution_count": 80,
   "metadata": {},
   "outputs": [
    {
     "name": "stdout",
     "output_type": "stream",
     "text": [
      "The autoreload extension is already loaded. To reload it, use:\n",
      "  %reload_ext autoreload\n"
     ]
    }
   ],
   "source": [
    "%load_ext autoreload"
   ]
  },
  {
   "cell_type": "code",
   "execution_count": 81,
   "metadata": {},
   "outputs": [],
   "source": [
    "%autoreload 2"
   ]
  },
  {
   "cell_type": "markdown",
   "metadata": {},
   "source": [
    "## PointCloudNode from properties"
   ]
  },
  {
   "cell_type": "markdown",
   "metadata": {},
   "source": [
    "A placeholder PointCloudNode can be initialised without any data or metadata"
   ]
  },
  {
   "cell_type": "code",
   "execution_count": 82,
   "metadata": {},
   "outputs": [
    {
     "data": {
      "text/plain": [
       "{'_e57Index': 0,\n",
       " 'pointCount': None,\n",
       " '_cartesianBounds': None,\n",
       " '_orientedBounds': None,\n",
       " '_orientedBoundingBox': None,\n",
       " '_subject': rdflib.term.URIRef('file:///myNode'),\n",
       " '_graph': None,\n",
       " '_graphPath': None,\n",
       " '_path': None,\n",
       " '_name': 'myName',\n",
       " '_timestamp': None,\n",
       " '_resource': None,\n",
       " '_cartesianTransform': None}"
      ]
     },
     "execution_count": 82,
     "metadata": {},
     "output_type": "execute_result"
    }
   ],
   "source": [
    "node=PointCloudNode(subject='myNode',\n",
    "                    name='myName')\n",
    "{key:value for key, value in node.__dict__.items() if not key.startswith('__') and not callable(key)}              "
   ]
  },
  {
   "cell_type": "markdown",
   "metadata": {},
   "source": [
    "## PointCloudNode from Path"
   ]
  },
  {
   "cell_type": "markdown",
   "metadata": {},
   "source": [
    "Instead, it is much more likely to initialise a PointCloudNode from a path containing an .pcd or .e57 file. This sets the: <br>\n",
    "1. subject\n",
    "2. name\n",
    "3. timestamp"
   ]
  },
  {
   "cell_type": "code",
   "execution_count": 83,
   "metadata": {},
   "outputs": [
    {
     "data": {
      "text/plain": [
       "{'_e57Index': 0,\n",
       " 'pointCount': None,\n",
       " '_cartesianBounds': None,\n",
       " '_orientedBounds': None,\n",
       " '_orientedBoundingBox': None,\n",
       " '_subject': rdflib.term.URIRef('file:///academiestraat_week_22_a_20'),\n",
       " '_graph': None,\n",
       " '_graphPath': None,\n",
       " '_path': 'd:\\\\Scan-to-BIM repository\\\\geomapi\\\\test\\\\testfiles\\\\PCD\\\\academiestraat week 22 a 20.pcd',\n",
       " '_name': 'academiestraat week 22 a 20',\n",
       " '_timestamp': '2022-08-02T08:25:02',\n",
       " '_resource': None,\n",
       " '_cartesianTransform': None}"
      ]
     },
     "execution_count": 83,
     "metadata": {},
     "output_type": "execute_result"
    }
   ],
   "source": [
    "filePath=os.path.join(Path(os.getcwd()).parents[2],'test','testfiles','PCD','academiestraat week 22 a 20.pcd')\n",
    "node=PointCloudNode(path=filePath)\n",
    "{key:value for key, value in node.__dict__.items() if not key.startswith('__') and not callable(key)}              \n"
   ]
  },
  {
   "cell_type": "markdown",
   "metadata": {},
   "source": [
    "### PointCloudNode from E57 file\n",
    "For E57 files, the header is parsed so significantly more metadata can be extracted without loading in the actual data."
   ]
  },
  {
   "cell_type": "code",
   "execution_count": 84,
   "metadata": {},
   "outputs": [
    {
     "data": {
      "text/plain": [
       "{'_e57Index': 0,\n",
       " 'pointCount': 11936498,\n",
       " '_cartesianBounds': array([-36.77039719,  44.17316818,  61.75132751, 112.70298767,\n",
       "          1.28037024,  10.4529705 ]),\n",
       " '_orientedBounds': None,\n",
       " '_orientedBoundingBox': None,\n",
       " '_subject': rdflib.term.URIRef('file:///academiestraat_week_22_20'),\n",
       " '_graph': None,\n",
       " '_graphPath': None,\n",
       " '_path': 'd:\\\\Scan-to-BIM repository\\\\geomapi\\\\test\\\\testfiles\\\\PCD\\\\week 22 - Lidar.e57',\n",
       " '_name': 'academiestraat week 22 20',\n",
       " '_timestamp': '2022-08-02T08:25:15',\n",
       " '_resource': None,\n",
       " '_cartesianTransform': array([[-4.32203630e-01,  9.01764516e-01,  4.55851494e-03,\n",
       "          5.10162327e-01],\n",
       "        [-9.01695863e-01, -4.32092277e-01, -1.55188352e-02,\n",
       "          8.75119260e+01],\n",
       "        [-1.20246358e-02, -1.08176910e-02,  9.99869184e-01,\n",
       "          4.74824153e+00],\n",
       "        [ 0.00000000e+00,  0.00000000e+00,  0.00000000e+00,\n",
       "          1.00000000e+00]])}"
      ]
     },
     "execution_count": 84,
     "metadata": {},
     "output_type": "execute_result"
    }
   ],
   "source": [
    "filePath=os.path.join(Path(os.getcwd()).parents[2],'test','testfiles','PCD','week 22 - Lidar.e57')\n",
    "node=PointCloudNode(path=filePath)\n",
    "{key:value for key, value in node.__dict__.items() if not key.startswith('__') and not callable(key)}              \n"
   ]
  },
  {
   "cell_type": "markdown",
   "metadata": {},
   "source": [
    "**NOTE**: Unless e57Index is specified, the first scan in the e57 file is retained."
   ]
  },
  {
   "cell_type": "markdown",
   "metadata": {},
   "source": [
    "### PointCloudNode from E57 XML file\n",
    "Analogue, the same information can be extracted from e57 xml files. These files are generated from e57 files by [e57xmldump.exe](http://www.libe57.org/data.html)"
   ]
  },
  {
   "cell_type": "code",
   "execution_count": 85,
   "metadata": {},
   "outputs": [
    {
     "data": {
      "text/plain": [
       "{'_e57Index': 0,\n",
       " 'pointCount': 1000000,\n",
       " '_cartesianBounds': array([-4.35110378, 31.89645767, -6.84530544, 21.42576599, -1.5266    ,\n",
       "         4.38528442]),\n",
       " '_orientedBounds': None,\n",
       " '_orientedBoundingBox': None,\n",
       " '_subject': rdflib.term.URIRef('file:///week_22_-_Lidar'),\n",
       " '_graph': None,\n",
       " '_graphPath': None,\n",
       " '_path': 'd:\\\\Scan-to-BIM repository\\\\geomapi\\\\test\\\\testfiles\\\\PCD\\\\week 22 - Lidar.xml',\n",
       " '_name': 'week 22 - Lidar_0',\n",
       " '_timestamp': '2022-08-17T09:15:09',\n",
       " '_resource': None,\n",
       " '_cartesianTransform': array([[-3.99988529e-01, -9.16520103e-01, -2.77684704e-04,\n",
       "          3.79711752e-01],\n",
       "        [-9.16520136e-01,  3.99988550e-01, -2.33828576e-05,\n",
       "          1.30182122e+01],\n",
       "        [ 1.32501561e-04,  2.45150748e-04, -9.99999961e-01,\n",
       "          3.69457244e-02],\n",
       "        [ 0.00000000e+00,  0.00000000e+00,  0.00000000e+00,\n",
       "          1.00000000e+00]])}"
      ]
     },
     "execution_count": 85,
     "metadata": {},
     "output_type": "execute_result"
    }
   ],
   "source": [
    "filePath=os.path.join(Path(os.getcwd()).parents[2],'test','testfiles','PCD','week 22 - Lidar.xml')\n",
    "node=PointCloudNode(path=filePath)\n",
    "{key:value for key, value in node.__dict__.items() if not key.startswith('__') and not callable(key)}              \n"
   ]
  },
  {
   "cell_type": "markdown",
   "metadata": {},
   "source": [
    "### PointCloudNode with getResource"
   ]
  },
  {
   "cell_type": "markdown",
   "metadata": {},
   "source": [
    "**NOTE**: GetResource is optional and might slow down any analysis. Only work with data when all metadata options have been exhausted.\n",
    "\n",
    "**E.g.**: This 11M point cloud takes 11s to import while its metadata variant is initialised within 0.2s. Especially with E57 files, where there is so much metadata already present, this is a major computational burden."
   ]
  },
  {
   "cell_type": "code",
   "execution_count": 86,
   "metadata": {},
   "outputs": [
    {
     "data": {
      "text/plain": [
       "{'_e57Index': 0,\n",
       " 'pointCount': 11936498,\n",
       " '_cartesianBounds': array([-36.77039719,  44.17316818,  61.75132751, 112.70298767,\n",
       "          1.28037024,  10.4529705 ]),\n",
       " '_orientedBounds': array([[-27.59671761,  51.72761543,  -1.25327158],\n",
       "        [ 49.06238386,  63.57009377,  -2.84643678],\n",
       "        [-36.96459257, 113.19129453,   4.86625159],\n",
       "        [-27.30329385,  50.94547305,   7.05164109],\n",
       "        [ 39.98793266, 124.25163049,  11.57799906],\n",
       "        [-36.67116881, 112.40915215,  13.17116426],\n",
       "        [ 49.35580762,  62.78795139,   5.45847589],\n",
       "        [ 39.6945089 , 125.03377287,   3.27308639]]),\n",
       " '_orientedBoundingBox': OrientedBoundingBox: center: (6.19561, 87.9896, 5.16236), extent: 77.5848, 62.4739, 8.34682),\n",
       " '_subject': rdflib.term.URIRef('file:///academiestraat_week_22_a_20'),\n",
       " '_graph': None,\n",
       " '_graphPath': None,\n",
       " '_path': 'd:\\\\Scan-to-BIM repository\\\\geomapi\\\\test\\\\testfiles\\\\PCD\\\\academiestraat week 22 a 20.pcd',\n",
       " '_name': 'academiestraat week 22 a 20',\n",
       " '_timestamp': '2022-08-02T08:25:02',\n",
       " '_resource': PointCloud with 11936498 points.,\n",
       " '_cartesianTransform': array([[ 1.        ,  0.        ,  0.        ,  0.58767088],\n",
       "        [ 0.        ,  1.        ,  0.        , 87.49782357],\n",
       "        [ 0.        ,  0.        ,  1.        ,  5.07468233],\n",
       "        [ 0.        ,  0.        ,  0.        ,  1.        ]])}"
      ]
     },
     "execution_count": 86,
     "metadata": {},
     "output_type": "execute_result"
    }
   ],
   "source": [
    "filePath=os.path.join(Path(os.getcwd()).parents[2],'test','testfiles','PCD','academiestraat week 22 a 20.pcd')\n",
    "node=PointCloudNode(path=filePath, getResource=True)\n",
    "{key:value for key, value in node.__dict__.items() if not key.startswith('__') and not callable(key)}              \n"
   ]
  },
  {
   "cell_type": "markdown",
   "metadata": {},
   "source": [
    "![rendering](../../pics/PCD1.png)"
   ]
  },
  {
   "cell_type": "markdown",
   "metadata": {},
   "source": [
    "## PointCloudNode from resource"
   ]
  },
  {
   "cell_type": "markdown",
   "metadata": {},
   "source": [
    "A similar result is achieved by initialising a PointCloudNode from a Open3D.Geometry.PointCloud or E57 instance. In this case, GetResource (bool) means nothing. "
   ]
  },
  {
   "cell_type": "code",
   "execution_count": 88,
   "metadata": {},
   "outputs": [
    {
     "data": {
      "text/plain": [
       "{'_e57Index': 0,\n",
       " 'pointCount': 11936498,\n",
       " '_cartesianBounds': array([-36.77039719,  44.17316818,  61.75132751, 112.70298767,\n",
       "          1.28037024,  10.4529705 ]),\n",
       " '_orientedBounds': array([[-27.59671761,  51.72761543,  -1.25327158],\n",
       "        [ 49.06238386,  63.57009377,  -2.84643678],\n",
       "        [-36.96459257, 113.19129453,   4.86625159],\n",
       "        [-27.30329385,  50.94547305,   7.05164109],\n",
       "        [ 39.98793266, 124.25163049,  11.57799906],\n",
       "        [-36.67116881, 112.40915215,  13.17116426],\n",
       "        [ 49.35580762,  62.78795139,   5.45847589],\n",
       "        [ 39.6945089 , 125.03377287,   3.27308639]]),\n",
       " '_orientedBoundingBox': OrientedBoundingBox: center: (6.19561, 87.9896, 5.16236), extent: 77.5848, 62.4739, 8.34682),\n",
       " '_subject': rdflib.term.URIRef('file:///58d62ae0-1dfe-11ed-8a65-c8f75043ce59'),\n",
       " '_graph': None,\n",
       " '_graphPath': None,\n",
       " '_path': None,\n",
       " '_name': '58d62ae0-1dfe-11ed-8a65-c8f75043ce59',\n",
       " '_timestamp': None,\n",
       " '_resource': PointCloud with 11936498 points.,\n",
       " '_cartesianTransform': array([[ 1.        ,  0.        ,  0.        ,  0.58767088],\n",
       "        [ 0.        ,  1.        ,  0.        , 87.49782357],\n",
       "        [ 0.        ,  0.        ,  1.        ,  5.07468233],\n",
       "        [ 0.        ,  0.        ,  0.        ,  1.        ]])}"
      ]
     },
     "execution_count": 88,
     "metadata": {},
     "output_type": "execute_result"
    }
   ],
   "source": [
    "filePath=os.path.join(Path(os.getcwd()).parents[2],'test','testfiles','PCD','academiestraat week 22 a 20.pcd')\n",
    "pcd=o3d.io.read_point_cloud(filePath)\n",
    "node=PointCloudNode(resource=pcd)\n",
    "{key:value for key, value in node.__dict__.items() if not key.startswith('__') and not callable(key)}            "
   ]
  },
  {
   "cell_type": "markdown",
   "metadata": {},
   "source": [
    "**NOTE**: The cartesianTransform extracted from resources are void of rotationmatrices as this metadata is not part of the fileformat. The translation thus represents the center of the geometry."
   ]
  },
  {
   "cell_type": "markdown",
   "metadata": {},
   "source": [
    "### PointCloudNode from e57 instance"
   ]
  },
  {
   "cell_type": "code",
   "execution_count": 89,
   "metadata": {},
   "outputs": [
    {
     "data": {
      "text/plain": [
       "{'_e57Index': 0,\n",
       " 'pointCount': 242750,\n",
       " '_cartesianBounds': array([-37.36532974, 106.94235229,  16.87863541, 130.69406128,\n",
       "          0.71651864,  23.73304749]),\n",
       " '_orientedBounds': array([[-1.96025758e+01,  1.65884155e+02,  2.22874746e+01],\n",
       "        [ 1.22465470e+02,  1.23859440e+02,  2.29468276e+01],\n",
       "        [-5.26111779e+01,  5.43129133e+01,  2.33762930e+01],\n",
       "        [-1.95654774e+01,  1.65648750e+02, -7.09825603e-01],\n",
       "        [ 8.94939663e+01,  1.20527928e+01,  1.03834566e+00],\n",
       "        [-5.25740795e+01,  5.40775081e+01,  3.78992731e-01],\n",
       "        [ 1.22502568e+02,  1.23624035e+02, -5.04726756e-02],\n",
       "        [ 8.94568679e+01,  1.22881979e+01,  2.40356459e+01]]),\n",
       " '_orientedBoundingBox': OrientedBoundingBox: center: (34.9457, 88.9685, 11.6629), extent: 148.155, 116.357, 22.9985),\n",
       " '_subject': rdflib.term.URIRef('file:///26e1ed26-1dff-11ed-832f-c8f75043ce59'),\n",
       " '_graph': None,\n",
       " '_graphPath': None,\n",
       " '_path': None,\n",
       " '_name': '26e1ed26-1dff-11ed-832f-c8f75043ce59',\n",
       " '_timestamp': None,\n",
       " '_resource': PointCloud with 242750 points.,\n",
       " '_cartesianTransform': array([[ 1.        ,  0.        ,  0.        , 28.03427131],\n",
       "        [ 0.        ,  1.        ,  0.        , 72.25597195],\n",
       "        [ 0.        ,  0.        ,  1.        ,  4.47910446],\n",
       "        [ 0.        ,  0.        ,  0.        ,  1.        ]])}"
      ]
     },
     "execution_count": 89,
     "metadata": {},
     "output_type": "execute_result"
    }
   ],
   "source": [
    "import pye57\n",
    "\n",
    "filePath=os.path.join(Path(os.getcwd()).parents[2],'test','testfiles','PCD','week22 photogrammetry - Cloud.e57')\n",
    "e57 = pye57.E57(filePath)\n",
    "       \n",
    "node=PointCloudNode(resource=e57)\n",
    "{key:value for key, value in node.__dict__.items() if not key.startswith('__') and not callable(key)}     "
   ]
  },
  {
   "cell_type": "markdown",
   "metadata": {},
   "source": [
    "## PointCloudNode from Graph and graphPath"
   ]
  },
  {
   "cell_type": "markdown",
   "metadata": {},
   "source": [
    "If a point cloud was already serialized, a node can be initialised from the graph or graphPath. \n",
    "\n",
    "**NOTE**: The graphPath is the more complete option as it is used to absolutize the node's path information. However, it is also the slower option as the entire graph encapsulation the node is parsed multiple times.\n",
    "\n",
    "**USE**: linkeddatatools.graph_to_nodes resolves this issue."
   ]
  },
  {
   "cell_type": "code",
   "execution_count": 94,
   "metadata": {},
   "outputs": [
    {
     "name": "stdout",
     "output_type": "stream",
     "text": [
      "@prefix e57: <http://libe57.org#> .\n",
      "@prefix openlabel: <https://www.asam.net/index.php?eID=dumpFile&t=f&f=3876&token=413e8c85031ae64cc35cf42d0768627514868b2f#> .\n",
      "@prefix v4d: <https://w3id.org/v4d/core#> .\n",
      "@prefix xsd: <http://www.w3.org/2001/XMLSchema#> .\n",
      "\n",
      "<file:///_65FBBFC3-1192-47C2-BCC1-B2BF66840C4A_-Cloud-1> a v4d:PointCloudNode ;\n",
      "    e57:cartesianBounds \"\"\"[-14.56856251  18.11331177 -16.01319885  15.32858181  -1.11594343\\r\n",
      "  15.32411003]\"\"\" ;\n",
      "    e57:cartesianTransform \"\"\"[[1. 0. 0. 0.]\\r\n",
      " [0. 1. 0. 0.]\\r\n",
      " [0. 0. 1. 0.]\\r\n",
      " [0. 0. 0. 1.]]\"\"\" ;\n",
      "    e57:e57Index 0 ;\n",
      "    e57:pointCount 20168806 ;\n",
      "    v4d:name \"{65FBBFC3-1192-47C2-BCC1-B2BF66840C4A}-Cloud-1\" ;\n",
      "    v4d:orientedBounds \"\"\"[[-13.47140023 -17.40796858  -0.17794121]\\r\n",
      " [ 19.16010023 -15.45181523  -1.25154832]\\r\n",
      " [-15.44981412  13.51956681  -3.95922326]\\r\n",
      " [-13.02567042 -15.24017258  17.31949716]\\r\n",
      " [ 17.62741617  17.64351618  12.46460799]\\r\n",
      " [-15.0040843   15.68736282  13.5382151 ]\\r\n",
      " [ 19.60583005 -13.28401922  16.24589004]\\r\n",
      " [ 17.18168635  15.47572017  -5.03283037]]\"\"\" ;\n",
      "    v4d:path \"PCD\\\\navvis.e57\" ;\n",
      "    openlabel:timestamp \"2022-07-25 10:26:49\" .\n",
      "\n",
      "\n"
     ]
    }
   ],
   "source": [
    "graphPath = os.path.join(Path(os.getcwd()).parents[2],'test','testfiles','pcdGraph.ttl')\n",
    "graph=Graph().parse(graphPath)\n",
    "\n",
    "#only print first node\n",
    "newGraph=Graph()\n",
    "newGraph=ut.bind_ontologies(newGraph)\n",
    "newGraph+=graph.triples((URIRef('file:///_65FBBFC3-1192-47C2-BCC1-B2BF66840C4A_-Cloud-1'),None,None))\n",
    "print(newGraph.serialize())"
   ]
  },
  {
   "cell_type": "code",
   "execution_count": 93,
   "metadata": {},
   "outputs": [
    {
     "data": {
      "text/plain": [
       "{'_e57Index': 0,\n",
       " 'pointCount': 20168806,\n",
       " '_cartesianBounds': array([-14.56856251,  18.11331177, -16.01319885,  15.32858181,\n",
       "         -1.11594343,  15.32411003]),\n",
       " '_orientedBounds': array([[-13.47140023, -17.40796858,  -0.17794121],\n",
       "        [ 19.16010023, -15.45181523,  -1.25154832],\n",
       "        [-15.44981412,  13.51956681,  -3.95922326],\n",
       "        [-13.02567042, -15.24017258,  17.31949716],\n",
       "        [ 17.62741617,  17.64351618,  12.46460799],\n",
       "        [-15.0040843 ,  15.68736282,  13.5382151 ],\n",
       "        [ 19.60583005, -13.28401922,  16.24589004],\n",
       "        [ 17.18168635,  15.47572017,  -5.03283037]]),\n",
       " '_orientedBoundingBox': None,\n",
       " '_subject': rdflib.term.URIRef('file:///_65FBBFC3-1192-47C2-BCC1-B2BF66840C4A_-Cloud-1'),\n",
       " '_graph': <Graph identifier=N23cf548e77ad47fe98f9a262c673613f (<class 'rdflib.graph.Graph'>)>,\n",
       " '_graphPath': 'd:\\\\Scan-to-BIM repository\\\\geomapi\\\\test\\\\testfiles\\\\pcdGraph.ttl',\n",
       " '_path': 'd:\\\\Scan-to-BIM repository\\\\geomapi\\\\test\\\\testfiles\\\\PCD\\\\navvis.e57',\n",
       " '_name': '{65FBBFC3-1192-47C2-BCC1-B2BF66840C4A}-Cloud-1',\n",
       " '_timestamp': '2022-07-25T10:26:49',\n",
       " '_resource': None,\n",
       " '_cartesianTransform': array([[1., 0., 0., 0.],\n",
       "        [0., 1., 0., 0.],\n",
       "        [0., 0., 1., 0.],\n",
       "        [0., 0., 0., 1.]]),\n",
       " 'type': 'https://w3id.org/v4d/core#PointCloudNode'}"
      ]
     },
     "execution_count": 93,
     "metadata": {},
     "output_type": "execute_result"
    }
   ],
   "source": [
    "node=PointCloudNode(graphPath=graphPath)\n",
    "{key:value for key, value in node.__dict__.items() if not key.startswith('__') and not callable(key)}"
   ]
  },
  {
   "cell_type": "markdown",
   "metadata": {},
   "source": [
    "## PointCloudNode to Graph"
   ]
  },
  {
   "cell_type": "markdown",
   "metadata": {},
   "source": [
    "The Graph serialisation is inherited from Node functionality."
   ]
  },
  {
   "cell_type": "code",
   "execution_count": 95,
   "metadata": {},
   "outputs": [
    {
     "name": "stdout",
     "output_type": "stream",
     "text": [
      "@prefix e57: <http://libe57.org#> .\n",
      "@prefix openlabel: <https://www.asam.net/index.php?eID=dumpFile&t=f&f=3876&token=413e8c85031ae64cc35cf42d0768627514868b2f#> .\n",
      "@prefix v4d: <https://w3id.org/v4d/core#> .\n",
      "@prefix xsd: <http://www.w3.org/2001/XMLSchema#> .\n",
      "\n",
      "<file:///week22_photogrammetry_-_Cloud> a v4d:PointCloudNode ;\n",
      "    e57:cartesianBounds \"\"\"[-37.36532974 106.94235229  16.87863541 130.69406128   0.71651864\n",
      "  23.73304749]\"\"\" ;\n",
      "    e57:cartesianTransform \"\"\"[[ 1.          0.          0.         28.03427131]\n",
      " [ 0.          1.          0.         72.25597195]\n",
      " [ 0.          0.          1.          4.47910446]\n",
      " [ 0.          0.          0.          1.        ]]\"\"\" ;\n",
      "    e57:e57Index 0 ;\n",
      "    e57:pointCount 242750 ;\n",
      "    v4d:name \"week22 photogrammetry - Cloud\" ;\n",
      "    v4d:orientedBounds \"\"\"[[-1.96025758e+01  1.65884155e+02  2.22874746e+01]\n",
      " [ 1.22465470e+02  1.23859440e+02  2.29468276e+01]\n",
      " [-5.26111779e+01  5.43129133e+01  2.33762930e+01]\n",
      " [-1.95654774e+01  1.65648750e+02 -7.09825603e-01]\n",
      " [ 8.94939663e+01  1.20527928e+01  1.03834566e+00]\n",
      " [-5.25740795e+01  5.40775081e+01  3.78992731e-01]\n",
      " [ 1.22502568e+02  1.23624035e+02 -5.04726756e-02]\n",
      " [ 8.94568679e+01  1.22881979e+01  2.40356459e+01]]\"\"\" ;\n",
      "    v4d:path \"..\\\\..\\\\..\\\\test\\\\testfiles\\\\PCD\\\\week22 photogrammetry - Cloud.e57\" ;\n",
      "    openlabel:timestamp \"2022-08-02T08:25:27\" .\n",
      "\n",
      "\n"
     ]
    }
   ],
   "source": [
    "node=PointCloudNode(subject='myNode',\n",
    "                    path=filePath,\n",
    "                    getResource=True)\n",
    "\n",
    "newGraphPath = os.path.join(os.getcwd(),'myGraph.ttl')\n",
    "node.to_graph(newGraphPath)\n",
    "\n",
    "newNode=Node(graphPath=newGraphPath)\n",
    "print(node.graph.serialize())"
   ]
  },
  {
   "cell_type": "markdown",
   "metadata": {},
   "source": [
    "## PointCloudNode prefix relations"
   ]
  },
  {
   "cell_type": "markdown",
   "metadata": {},
   "source": [
    "PointCloudNodes can be attributed with a range of relationships. This is extremely usefull for Graph navigation and linking together different resources. In [Semantic Web Technologies](https://rdflib.readthedocs.io/en/stable/intro_to_creating_rdf.html), relationships are defined by triples that have other subjects as literals. "
   ]
  },
  {
   "cell_type": "markdown",
   "metadata": {},
   "source": [
    "In this first example, we perform a subselection on a node based on the [omg.isDerivedFromGeometry](https://www.projekt-scope.de/ontologies/omg/) relation."
   ]
  },
  {
   "cell_type": "code",
   "execution_count": 100,
   "metadata": {},
   "outputs": [
    {
     "name": "stdout",
     "output_type": "stream",
     "text": [
      "PointCloud with 11936498 points.\n"
     ]
    }
   ],
   "source": [
    "myNode=PointCloudNode(subject='file:///academiestraat_week_22_a_20',graphPath=graphPath, getResource=True)\n",
    "print(myNode.resource)"
   ]
  },
  {
   "cell_type": "code",
   "execution_count": 107,
   "metadata": {},
   "outputs": [
    {
     "name": "stdout",
     "output_type": "stream",
     "text": [
      "PointCloud with 63856 points.\n"
     ]
    }
   ],
   "source": [
    "#croppingGeometry\n",
    "box=o3d.geometry.TriangleMesh.create_box(width=10, height=10, depth=10)\n",
    "box=box.get_oriented_bounding_box()\n",
    "box.translate([7,77,0])\n",
    "box.color=[1,0,0]\n",
    "croppedGeometry=myNode.resource.crop(box)\n",
    "print(croppedGeometry)"
   ]
  },
  {
   "cell_type": "markdown",
   "metadata": {},
   "source": [
    "![rendering](../../pics/subPCD2.png)"
   ]
  },
  {
   "cell_type": "code",
   "execution_count": 111,
   "metadata": {},
   "outputs": [
    {
     "name": "stdout",
     "output_type": "stream",
     "text": [
      "@prefix e57: <http://libe57.org#> .\n",
      "@prefix omg: <https://w3id.org/omg#> .\n",
      "@prefix v4d: <https://w3id.org/v4d/core#> .\n",
      "@prefix xsd: <http://www.w3.org/2001/XMLSchema#> .\n",
      "\n",
      "<file:///mySubNode> a v4d:PointCloudNode ;\n",
      "    e57:cartesianBounds \"[ 7.00004864 16.99991798 77.00058746 86.99999237  3.01331043  7.22578764]\" ;\n",
      "    e57:cartesianTransform \"\"\"[[ 1.          0.          0.          9.84694508]\n",
      " [ 0.          1.          0.         83.50834556]\n",
      " [ 0.          0.          1.          5.98616932]\n",
      " [ 0.          0.          0.          1.        ]]\"\"\" ;\n",
      "    e57:e57Index 0 ;\n",
      "    e57:pointCount 63856 ;\n",
      "    omg:isDerivedFromGeometry \"file:///academiestraat_week_22_a_20\" ;\n",
      "    v4d:orientedBounds \"\"\"[[11.92503234 91.95077613  7.2293572 ]\n",
      " [21.88910944 81.98219128  7.41400688]\n",
      " [ 2.17810184 82.20761211  7.19474963]\n",
      " [11.97234966 91.91866715  2.94256659]\n",
      " [12.18949625 72.20691828  3.09260868]\n",
      " [ 2.22541916 82.17550313  2.90795901]\n",
      " [21.93642675 81.95008229  3.12721626]\n",
      " [12.14217894 72.23902726  7.3793993 ]]\"\"\" .\n",
      "\n",
      "\n"
     ]
    }
   ],
   "source": [
    "subNode=PointCloudNode(subject='mySubNode',\n",
    "                resource=croppedGeometry,\n",
    "                isDerivedFromGeometry=myNode.subject)\n",
    "subNode.to_graph()\n",
    "print(subNode.graph.serialize())"
   ]
  },
  {
   "cell_type": "markdown",
   "metadata": {},
   "source": [
    "## PointCloudNode custom relationships"
   ]
  },
  {
   "cell_type": "markdown",
   "metadata": {},
   "source": [
    "When designing a new analysis, there is often need for custom relations and properties. Both can be just asssigned as **instance variables**, which will be serialized by default under the v4d ontology. "
   ]
  },
  {
   "cell_type": "code",
   "execution_count": 113,
   "metadata": {},
   "outputs": [],
   "source": [
    "import ifcopenshell\n",
    "import ifcopenshell.util.selector \n",
    "\n",
    "\n",
    "ifcPath=os.path.join(Path(os.getcwd()).parents[2],'test','testfiles','IFC','Academiestraat_parking.ifc')\n",
    "ifc = ifcopenshell.open(ifcPath)   \n",
    "classes='IfcColumn'\n",
    "bimNodes=[]\n",
    "for ifcElement in ifcopenshell.util.selector.filter_elements(ifc,classes): \n",
    "    bimNodes.append(BIMNode(resource=ifcElement, ifcPath=ifcPath))\n",
    "geometries=[node.resource for node in bimNodes if node.resource is not None]"
   ]
  },
  {
   "cell_type": "code",
   "execution_count": 116,
   "metadata": {},
   "outputs": [
    {
     "name": "stdout",
     "output_type": "stream",
     "text": [
      "PointCloud with 11936498 points.\n"
     ]
    }
   ],
   "source": [
    "myNode=PointCloudNode(subject='file:///academiestraat_week_22_a_20',graphPath=graphPath, getResource=True)\n",
    "print(myNode.resource)"
   ]
  },
  {
   "cell_type": "code",
   "execution_count": 124,
   "metadata": {},
   "outputs": [
    {
     "name": "stdout",
     "output_type": "stream",
     "text": [
      "PointCloud with 290245 points.\n"
     ]
    }
   ],
   "source": [
    "\n",
    "subCloud=gmu.crop_geometry_by_distance(myNode.resource, geometries, threshold=0.1)\n",
    "print(subCloud)"
   ]
  },
  {
   "cell_type": "markdown",
   "metadata": {},
   "source": [
    "![rendering](../../pics/subCloud3.PNG)"
   ]
  },
  {
   "cell_type": "code",
   "execution_count": 126,
   "metadata": {},
   "outputs": [
    {
     "name": "stdout",
     "output_type": "stream",
     "text": [
      "@prefix e57: <http://libe57.org#> .\n",
      "@prefix omg: <https://w3id.org/omg#> .\n",
      "@prefix v4d: <https://w3id.org/v4d/core#> .\n",
      "@prefix xsd: <http://www.w3.org/2001/XMLSchema#> .\n",
      "\n",
      "<file:///mySubNode> a v4d:PointCloudNode ;\n",
      "    e57:cartesianBounds \"[ 7.00004864 16.99991798 77.00058746 86.99999237  3.01331043  7.22578764]\" ;\n",
      "    e57:cartesianTransform \"\"\"[[ 1.          0.          0.          9.84694508]\n",
      " [ 0.          1.          0.         83.50834556]\n",
      " [ 0.          0.          1.          5.98616932]\n",
      " [ 0.          0.          0.          1.        ]]\"\"\" ;\n",
      "    e57:e57Index 0 ;\n",
      "    e57:pointCount 63856 ;\n",
      "    omg:isDerivedFromGeometry \"file:///academiestraat_week_22_a_20\" ;\n",
      "    v4d:ifcClass \".IfcColumn\" ;\n",
      "    v4d:isDerivedFromIFC \"d:\\\\Scan-to-BIM repository\\\\geomapi\\\\test\\\\testfiles\\\\IFC\\\\Academiestraat_parking.ifc\" ;\n",
      "    v4d:offsetDistanceCalculation \"0.1\"^^xsd:float ;\n",
      "    v4d:orientedBounds \"\"\"[[11.92503234 91.95077613  7.2293572 ]\n",
      " [21.88910944 81.98219128  7.41400688]\n",
      " [ 2.17810184 82.20761211  7.19474963]\n",
      " [11.97234966 91.91866715  2.94256659]\n",
      " [12.18949625 72.20691828  3.09260868]\n",
      " [ 2.22541916 82.17550313  2.90795901]\n",
      " [21.93642675 81.95008229  3.12721626]\n",
      " [12.14217894 72.23902726  7.3793993 ]]\"\"\" .\n",
      "\n",
      "\n"
     ]
    }
   ],
   "source": [
    "subNode=PointCloudNode(subject='mySubNode',\n",
    "                resource=croppedGeometry,\n",
    "                isDerivedFromGeometry=myNode.subject,\n",
    "                isDerivedFromIFC=ifcPath, #custom\n",
    "                ifcClass=classes,\n",
    "                offsetDistanceCalculation=0.1)\n",
    "subNode.to_graph()\n",
    "print(subNode.graph.serialize())"
   ]
  },
  {
   "cell_type": "markdown",
   "metadata": {},
   "source": [
    "## PointCloudNode with 3rd party ontologies"
   ]
  },
  {
   "cell_type": "markdown",
   "metadata": {},
   "source": [
    "Additionally, 3rd party ontologies can be registered in the namespace of the node.graph and the relationship can be manually attached to the graph."
   ]
  },
  {
   "cell_type": "code",
   "execution_count": 128,
   "metadata": {},
   "outputs": [
    {
     "name": "stdout",
     "output_type": "stream",
     "text": [
      "@prefix e57: <http://libe57.org#> .\n",
      "@prefix myOntology: <http://myOntology#> .\n",
      "@prefix v4d: <https://w3id.org/v4d/core#> .\n",
      "@prefix xsd: <http://www.w3.org/2001/XMLSchema#> .\n",
      "\n",
      "<file:///mySubNode> a v4d:PointCloudNode ;\n",
      "    e57:e57Index 0 ;\n",
      "    myOntology:myProperty 1e-01 ;\n",
      "    myOntology:myRelation <file:///academiestraat_week_22_a_20> .\n",
      "\n",
      "\n"
     ]
    }
   ],
   "source": [
    "import rdflib\n",
    "subNode=PointCloudNode(subject='mySubNode')\n",
    "subNode.to_graph()\n",
    "\n",
    "myOntology = rdflib.Namespace('http://myOntology#')\n",
    "subNode.graph.bind('myOntology', myOntology)\n",
    "subNode.graph.add((subNode.subject,myOntology['myProperty'],Literal(0.1) ))\n",
    "subNode.graph.add((subNode.subject,myOntology['myRelation'],myNode.subject ))\n",
    "\n",
    "print(subNode.graph.serialize())"
   ]
  }
 ],
 "metadata": {
  "kernelspec": {
   "display_name": "Python 3.8.13 ('conda_environment3')",
   "language": "python",
   "name": "python3"
  },
  "language_info": {
   "codemirror_mode": {
    "name": "ipython",
    "version": 3
   },
   "file_extension": ".py",
   "mimetype": "text/x-python",
   "name": "python",
   "nbconvert_exporter": "python",
   "pygments_lexer": "ipython3",
   "version": "3.8.13"
  },
  "orig_nbformat": 4,
  "vscode": {
   "interpreter": {
    "hash": "801b4083378541fd050d6c91abf6ec053c863905e8162e031d57b83e7cdb3051"
   }
  }
 },
 "nbformat": 4,
 "nbformat_minor": 2
}

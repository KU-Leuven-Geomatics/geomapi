{
 "cells": [
  {
   "cell_type": "markdown",
   "metadata": {},
   "source": [
    "# BIMNode\n",
    "The BIMNode class in Geomapi represents the data and metadata of ifc data. The data itself and methods build upon Open3D TriangleMesh and IFCOPENSHELL concepts while the metadata builds upon the RDFlib framework:\n",
    "\n",
    "[http://www.open3d.org/docs/latest/tutorial/Basic/mesh.html#](http://www.open3d.org/docs/latest/tutorial/Basic/mesh.html#) \n",
    "\n",
    "[http://ifcopenshell.org/](http://ifcopenshell.org/)\n",
    "\n",
    "[https://rdflib.readthedocs.io/](https://rdflib.readthedocs.io/) \n",
    "\n",
    "The code below shows how to create a BIMNode from various inputs. "
   ]
  },
  {
   "cell_type": "markdown",
   "metadata": {},
   "source": [
    "First the geomapi and external packages are imported"
   ]
  },
  {
   "cell_type": "code",
   "execution_count": 1,
   "metadata": {},
   "outputs": [
    {
     "name": "stdout",
     "output_type": "stream",
     "text": [
      "Jupyter environment detected. Enabling Open3D WebVisualizer.\n",
      "[Open3D INFO] WebRTC GUI backend enabled.\n",
      "[Open3D INFO] WebRTCWindowSystem: HTTP handshake server disabled.\n"
     ]
    }
   ],
   "source": [
    "#IMPORT PACKAGES\n",
    "from rdflib import Graph, URIRef, Literal\n",
    "import open3d as o3d\n",
    "import os\n",
    "from pathlib import Path\n",
    "import ifcopenshell\n",
    "import ifcopenshell.util.selector\n",
    "\n",
    "#IMPORT MODULES\n",
    "from context import geomapi \n",
    "from geomapi.nodes import *\n",
    "import geomapi.utils as ut\n",
    "from geomapi.utils import geometryutils as gmu\n",
    "import geomapi.tools as tl"
   ]
  },
  {
   "cell_type": "code",
   "execution_count": 2,
   "metadata": {},
   "outputs": [],
   "source": [
    "%load_ext autoreload"
   ]
  },
  {
   "cell_type": "code",
   "execution_count": 3,
   "metadata": {},
   "outputs": [],
   "source": [
    "%autoreload 2"
   ]
  },
  {
   "cell_type": "markdown",
   "metadata": {},
   "source": [
    "## BIMNode from properties"
   ]
  },
  {
   "cell_type": "markdown",
   "metadata": {},
   "source": [
    "A placeholder BIMNode can be initialised without any data or metadata"
   ]
  },
  {
   "cell_type": "code",
   "execution_count": 4,
   "metadata": {},
   "outputs": [
    {
     "data": {
      "text/plain": [
       "{'_ifcPath': None,\n",
       " '_globalId': None,\n",
       " '_cartesianBounds': None,\n",
       " '_orientedBounds': None,\n",
       " '_orientedBoundingBox': None,\n",
       " '_subject': rdflib.term.URIRef('file:///myNode'),\n",
       " '_graph': None,\n",
       " '_graphPath': None,\n",
       " '_path': None,\n",
       " '_name': 'myName',\n",
       " '_timestamp': None,\n",
       " '_resource': None,\n",
       " '_cartesianTransform': None}"
      ]
     },
     "execution_count": 4,
     "metadata": {},
     "output_type": "execute_result"
    }
   ],
   "source": [
    "node=BIMNode(subject='myNode',\n",
    "              name='myName')\n",
    "{key:value for key, value in node.__dict__.items() if not key.startswith('__') and not callable(key)}              \n"
   ]
  },
  {
   "cell_type": "markdown",
   "metadata": {},
   "source": [
    "## BIMNode from ifcPath"
   ]
  },
  {
   "cell_type": "markdown",
   "metadata": {},
   "source": [
    "Instead, it is much more likely to initialise a BIMNode from a path containing an .ifc file. This sets the: <br>\n",
    "1. subject\n",
    "2. name  (name + globalID as some files have overlapping names for different objects)\n",
    "3. timestamp\n",
    "4. ifcClass\n",
    "5. GlobalId (ifc guid)\n",
    "6. ifcPath"
   ]
  },
  {
   "cell_type": "code",
   "execution_count": 5,
   "metadata": {},
   "outputs": [
    {
     "data": {
      "text/plain": [
       "{'_ifcPath': 'd:\\\\Scan-to-BIM repository\\\\geomapi\\\\test\\\\testfiles\\\\IFC\\\\Academiestraat_parking.ifc',\n",
       " '_globalId': '2n_QS$kOz7M9BWCXzp5rs4',\n",
       " '_cartesianBounds': None,\n",
       " '_orientedBounds': None,\n",
       " '_orientedBoundingBox': None,\n",
       " '_subject': rdflib.term.URIRef('file:///Floor_232_FL_Wide_slab_50mm_974795_2n_QS_kOz7M9BWCXzp5rs4'),\n",
       " '_graph': None,\n",
       " '_graphPath': None,\n",
       " '_path': None,\n",
       " '_name': 'Floor:232_FL_Wide slab 50mm:974795',\n",
       " '_timestamp': None,\n",
       " '_resource': None,\n",
       " '_cartesianTransform': None,\n",
       " 'className': 'IfcSlab'}"
      ]
     },
     "execution_count": 5,
     "metadata": {},
     "output_type": "execute_result"
    }
   ],
   "source": [
    "filePath=os.path.join(Path(os.getcwd()).parents[2],'test','testfiles','IFC','Academiestraat_parking.ifc')\n",
    "node=BIMNode(ifcPath=filePath)\n",
    "{key:value for key, value in node.__dict__.items() if not key.startswith('__') and not callable(key)}              "
   ]
  },
  {
   "cell_type": "markdown",
   "metadata": {},
   "source": [
    "**NOTE**: GetResource is optional and might slow down any analysis. Only work with data when all metadata options have been exhausted."
   ]
  },
  {
   "cell_type": "markdown",
   "metadata": {},
   "source": [
    "**NOTE**: if no globalId is given, the first .ifcObject is retained"
   ]
  },
  {
   "cell_type": "code",
   "execution_count": 6,
   "metadata": {},
   "outputs": [
    {
     "data": {
      "text/plain": [
       "{'_ifcPath': 'd:\\\\Scan-to-BIM repository\\\\geomapi\\\\test\\\\testfiles\\\\IFC\\\\Academiestraat_parking.ifc',\n",
       " '_globalId': '1K2OFoocT0bub_jVpw2PsR',\n",
       " '_cartesianBounds': array([-19.38519689, 114.01719939,  45.19729363, 125.59687726,\n",
       "          3.35      ,   3.75      ]),\n",
       " '_orientedBounds': array([[-11.28238184,  37.99919902,   3.35      ],\n",
       "        [116.01357152,  57.68952212,   3.35      ],\n",
       "        [-21.90604793, 106.68012904,   3.35      ],\n",
       "        [-11.28238184,  37.99919902,   3.75      ],\n",
       "        [105.38990543, 126.37045214,   3.75      ],\n",
       "        [-21.90604793, 106.68012904,   3.75      ],\n",
       "        [116.01357152,  57.68952212,   3.75      ],\n",
       "        [105.38990543, 126.37045214,   3.35      ]]),\n",
       " '_orientedBoundingBox': OrientedBoundingBox: center: (47.0538, 82.1848, 3.55), extent: 128.81, 69.4977, 0.4),\n",
       " '_subject': rdflib.term.URIRef('file:///Floor_164_FL_Foundation_slab_400mm_C35_45_1276320_1K2OFoocT0bub_jVpw2PsR'),\n",
       " '_graph': None,\n",
       " '_graphPath': None,\n",
       " '_path': None,\n",
       " '_name': 'Floor:164_FL_Foundation slab 400mm C35/45:1276320',\n",
       " '_timestamp': None,\n",
       " '_resource': TriangleMesh with 1576 points and 3636 triangles.,\n",
       " '_cartesianTransform': array([[ 1.        ,  0.        ,  0.        , 52.24275107],\n",
       "        [ 0.        ,  1.        ,  0.        , 85.37826532],\n",
       "        [ 0.        ,  0.        ,  1.        ,  3.55659287],\n",
       "        [ 0.        ,  0.        ,  0.        ,  1.        ]]),\n",
       " 'className': 'IfcSlab',\n",
       " 'pointCount': 1576,\n",
       " 'faceCount': 3636}"
      ]
     },
     "execution_count": 6,
     "metadata": {},
     "output_type": "execute_result"
    }
   ],
   "source": [
    "node=BIMNode(ifcPath=filePath, globalId='1K2OFoocT0bub_jVpw2PsR',getResource=True)\n",
    "{key:value for key, value in node.__dict__.items() if not key.startswith('__') and not callable(key)}              "
   ]
  },
  {
   "cell_type": "markdown",
   "metadata": {},
   "source": [
    "**NOTE**: GetMetadata (bool) by default is True. As such, when data is imported, the cartesianBounds, orientedBounds, cartesianTransform and orientedBoundingBox is automatically extracted."
   ]
  },
  {
   "cell_type": "markdown",
   "metadata": {},
   "source": [
    "## MeshNode from resource"
   ]
  },
  {
   "cell_type": "markdown",
   "metadata": {},
   "source": [
    "A similar result is achieved by initialising a MeshNode from a Open3D.Geometry.TriangleMesh or IFCOpenShell instance. In this case, GetResource (bool) means nothing. "
   ]
  },
  {
   "cell_type": "markdown",
   "metadata": {},
   "source": [
    "**NOTE**: initialising from an .obj or .ply mesh of an ifcElement does not contain any IFC information as those formats do not include such metadata. Initialise from .ifc files whenever possible."
   ]
  },
  {
   "cell_type": "code",
   "execution_count": 7,
   "metadata": {},
   "outputs": [
    {
     "data": {
      "text/plain": [
       "{'_ifcPath': None,\n",
       " '_globalId': None,\n",
       " '_cartesianBounds': array([ 50.07300091,  50.80691124, 110.31694196, 111.98929461,\n",
       "          0.36      ,   2.75      ]),\n",
       " '_orientedBounds': array([[ 50.11916531, 110.31694196,   0.36      ],\n",
       "        [ 50.11916531, 110.31694196,   2.75      ],\n",
       "        [ 50.80691124, 111.97008919,   0.36      ],\n",
       "        [ 50.07300091, 110.33614737,   0.36      ],\n",
       "        [ 50.76074684, 111.98929461,   2.75      ],\n",
       "        [ 50.76074684, 111.98929461,   0.36      ],\n",
       "        [ 50.07300091, 110.33614737,   2.75      ],\n",
       "        [ 50.80691124, 111.97008919,   2.75      ]]),\n",
       " '_orientedBoundingBox': OrientedBoundingBox: center: (50.44, 111.153, 1.555), extent: 2.39, 1.7905, 0.05),\n",
       " '_subject': rdflib.term.URIRef('file:///4de4d5d4-1e34-11ed-9ccc-c8f75043ce59'),\n",
       " '_graph': None,\n",
       " '_graphPath': None,\n",
       " '_path': None,\n",
       " '_name': '4de4d5d4-1e34-11ed-9ccc-c8f75043ce59',\n",
       " '_timestamp': None,\n",
       " '_resource': TriangleMesh with 8 points and 12 triangles.,\n",
       " '_cartesianTransform': array([[  1.        ,   0.        ,   0.        ,  50.43995608],\n",
       "        [  0.        ,   1.        ,   0.        , 111.15311828],\n",
       "        [  0.        ,   0.        ,   1.        ,   1.555     ],\n",
       "        [  0.        ,   0.        ,   0.        ,   1.        ]]),\n",
       " 'pointCount': 8,\n",
       " 'faceCount': 12}"
      ]
     },
     "execution_count": 7,
     "metadata": {},
     "output_type": "execute_result"
    }
   ],
   "source": [
    "filePath=os.path.join(Path(os.getcwd()).parents[2],'test','testfiles','BIM','System_Panel_Precast_Thinshell_50mm_1677890_3fhPSHjyH7lghMFf1Y5rrB.ply')\n",
    "mesh=o3d.io.read_triangle_mesh(filePath)\n",
    "node=BIMNode(resource=mesh)\n",
    "{key:value for key, value in node.__dict__.items() if not key.startswith('__') and not callable(key)}            "
   ]
  },
  {
   "cell_type": "markdown",
   "metadata": {},
   "source": [
    "**NOTE**: The cartesianTransform extracted from paths or resources are void of rotationmatrices as this metadata is not part of the fileformat. The translation thus represents the center of the geometry."
   ]
  },
  {
   "cell_type": "code",
   "execution_count": 8,
   "metadata": {},
   "outputs": [
    {
     "data": {
      "text/plain": [
       "{'_ifcPath': None,\n",
       " '_globalId': None,\n",
       " '_cartesianBounds': array([ 50.07300091,  50.80691124, 110.31694196, 111.98929461,\n",
       "          0.36      ,   2.75      ]),\n",
       " '_orientedBounds': array([[ 50.11916531, 110.31694196,   0.36      ],\n",
       "        [ 50.11916531, 110.31694196,   2.75      ],\n",
       "        [ 50.80691124, 111.97008919,   0.36      ],\n",
       "        [ 50.07300091, 110.33614737,   0.36      ],\n",
       "        [ 50.76074684, 111.98929461,   2.75      ],\n",
       "        [ 50.76074684, 111.98929461,   0.36      ],\n",
       "        [ 50.07300091, 110.33614737,   2.75      ],\n",
       "        [ 50.80691124, 111.97008919,   2.75      ]]),\n",
       " '_orientedBoundingBox': OrientedBoundingBox: center: (50.44, 111.153, 1.555), extent: 2.39, 1.7905, 0.05),\n",
       " '_subject': rdflib.term.URIRef('file:///4de4d5d4-1e34-11ed-9ccc-c8f75043ce59'),\n",
       " '_graph': None,\n",
       " '_graphPath': None,\n",
       " '_path': None,\n",
       " '_name': '4de4d5d4-1e34-11ed-9ccc-c8f75043ce59',\n",
       " '_timestamp': None,\n",
       " '_resource': TriangleMesh with 8 points and 12 triangles.,\n",
       " '_cartesianTransform': array([[  1.        ,   0.        ,   0.        ,  50.43995608],\n",
       "        [  0.        ,   1.        ,   0.        , 111.15311828],\n",
       "        [  0.        ,   0.        ,   1.        ,   1.555     ],\n",
       "        [  0.        ,   0.        ,   0.        ,   1.        ]]),\n",
       " 'pointCount': 8,\n",
       " 'faceCount': 12}"
      ]
     },
     "execution_count": 8,
     "metadata": {},
     "output_type": "execute_result"
    }
   ],
   "source": [
    "ifcPath=os.path.join(Path(os.getcwd()).parents[2],'test','testfiles','IFC','Academiestraat_parking.ifc')\n",
    "ifc = ifcopenshell.open(ifcPath)   \n",
    "ifcWall=ifc.by_guid('06v1k9ENv8DhGMCvKUuLQV')\n",
    "bimNode=BIMNode(resource=ifcWall)\n",
    "{key:value for key, value in node.__dict__.items() if not key.startswith('__') and not callable(key)}              "
   ]
  },
  {
   "cell_type": "markdown",
   "metadata": {},
   "source": [
    "## BIMNodes from entire IFC"
   ]
  },
  {
   "cell_type": "markdown",
   "metadata": {},
   "source": [
    "As one wants to frequently parse entire ifc files, linkeddatatools incorportes the functionality to parse ifc files given a set of classses.\n",
    "\n",
    "\n",
    "**NOTE**: By default, all objects in the ifc (.ifcObject) are retained which do not necessarily contains geometry.\n",
    "\n",
    "**NOTE**: By default, getResource =  True. Turn it off to speed up the process (you can always get the geometry later). "
   ]
  },
  {
   "cell_type": "code",
   "execution_count": 9,
   "metadata": {},
   "outputs": [
    {
     "name": "stdout",
     "output_type": "stream",
     "text": [
      "1192\n"
     ]
    }
   ],
   "source": [
    "ifcPath=os.path.join(Path(os.getcwd()).parents[2],'test','testfiles','IFC','Academiestraat_building_1.ifc')\n",
    "ifc = ifcopenshell.open(ifcPath)   \n",
    "bimNodes=[]\n",
    "for ifcElement in ifcopenshell.util.selector.filter_elements(ifc,\"IfcElement\"): \n",
    "    bimNodes.append(BIMNode(ifcElement=ifcElement))\n",
    "print(len(bimNodes))"
   ]
  },
  {
   "cell_type": "markdown",
   "metadata": {},
   "source": [
    "and now with specific classes..."
   ]
  },
  {
   "cell_type": "markdown",
   "metadata": {},
   "source": [
    "![rendering](../../pics/BIM1.PNG)"
   ]
  },
  {
   "cell_type": "code",
   "execution_count": 12,
   "metadata": {},
   "outputs": [
    {
     "name": "stdout",
     "output_type": "stream",
     "text": [
      "460\n"
     ]
    }
   ],
   "source": [
    "classes='.ifcWall | .ifcColumn'\n",
    "bimNodes=tl.ifc_to_nodes(ifcPath, classes=classes,getResource=True)\n",
    "print(len(bimNodes))"
   ]
  },
  {
   "cell_type": "markdown",
   "metadata": {},
   "source": [
    "## BIMNode from Graph and graphPath"
   ]
  },
  {
   "cell_type": "markdown",
   "metadata": {},
   "source": [
    "If a ifc object was already serialized, a node can be initialised from the graph or graphPath. \n",
    "\n",
    "**NOTE**: The graphPath is the more complete option as it is used to absolutize the node's path information. However, it is also the slower option as the entire graph encapsulation the node is parsed multiple times.\n",
    "\n",
    "**USE**: linkeddatatools.graph_to_nodes resolves this issue."
   ]
  },
  {
   "cell_type": "code",
   "execution_count": 13,
   "metadata": {},
   "outputs": [
    {
     "name": "stdout",
     "output_type": "stream",
     "text": [
      "@prefix e57: <http://libe57.org#> .\n",
      "@prefix ifc: <http://ifcowl.openbimstandards.org/IFC2X3_Final#> .\n",
      "@prefix v4d: <https://w3id.org/v4d/core#> .\n",
      "@prefix xsd: <http://www.w3.org/2001/XMLSchema#> .\n",
      "\n",
      "<file:///Basic_Wall_211_WA_Ff1_Glued_brickwork_sandlime_150mm_1118860_0KysUSO6T3_gOJKtAiUE7d> a v4d:BIMNode ;\n",
      "    ifc:className \"IfcWall\" ;\n",
      "    ifc:globalId \"0KysUSO6T3_gOJKtAiUE7d\" ;\n",
      "    ifc:ifcPath \"IFC\\\\Academiestraat_building_1.ifc\" ;\n",
      "    ifc:phase \"BIM-UF\" ;\n",
      "    e57:cartesianBounds \"\"\"[ 31.3840053   37.25142541 100.31983802 100.57972895   7.49\n",
      "  10.48      ]\"\"\" ;\n",
      "    e57:cartesianTransform \"\"\"[[  1.           0.           0.          34.91152793]\n",
      " [  0.           1.           0.         100.43864519]\n",
      " [  0.           0.           1.           9.31833333]\n",
      " [  0.           0.           0.           1.        ]]\"\"\" ;\n",
      "    e57:pointCount 24 ;\n",
      "    v4d:accuracy \"0.05\"^^xsd:float ;\n",
      "    v4d:faceCount 44 ;\n",
      "    v4d:lod 300 ;\n",
      "    v4d:name \"Basic Wall:211_WA_Ff1_Glued brickwork sandlime 150mm:1118860\" ;\n",
      "    v4d:orientedBounds \"\"\"[[ 31.38400511 100.42974533  10.48      ]\n",
      " [ 37.24861442 100.31982342  10.48      ]\n",
      " [ 31.38400511 100.42974533   7.49      ]\n",
      " [ 31.38681629 100.57972895  10.48      ]\n",
      " [ 37.2514256  100.46980704   7.49      ]\n",
      " [ 31.38681629 100.57972895   7.49      ]\n",
      " [ 37.2514256  100.46980704  10.48      ]\n",
      " [ 37.24861442 100.31982342   7.49      ]]\"\"\" ;\n",
      "    v4d:path \"BIM\\\\Basic_Wall_211_WA_Ff1_Glued_brickwork_sandlime_150mm_1118860_0KysUSO6T3_gOJKtAiUE7d.ply\" .\n",
      "\n",
      "\n"
     ]
    }
   ],
   "source": [
    "graphPath = os.path.join(Path(os.getcwd()).parents[2],'test','testfiles','bimGraph1.ttl')\n",
    "graph=Graph().parse(graphPath)\n",
    "\n",
    "#only print first node\n",
    "newGraph=Graph()\n",
    "newGraph=ut.bind_ontologies(newGraph)\n",
    "newGraph+=graph.triples((URIRef('file:///Basic_Wall_211_WA_Ff1_Glued_brickwork_sandlime_150mm_1118860_0KysUSO6T3_gOJKtAiUE7d'),None,None))\n",
    "print(newGraph.serialize())"
   ]
  },
  {
   "cell_type": "code",
   "execution_count": 14,
   "metadata": {},
   "outputs": [
    {
     "data": {
      "text/plain": [
       "{'_ifcPath': 'd:\\\\Scan-to-BIM repository\\\\geomapi\\\\test\\\\testfiles\\\\IFC\\\\Academiestraat_building_1.ifc',\n",
       " '_globalId': '1sAc4Xyq99bfet1lGbGxNb',\n",
       " '_cartesianBounds': array([-10.82253789,  -9.66331336,  72.20498616,  72.63245695,\n",
       "         16.99      ,  17.04      ]),\n",
       " '_orientedBounds': array([[-10.8129766 ,  72.63260805,  17.04      ],\n",
       "        [ -9.66325013,  72.60493317,  17.04      ],\n",
       "        [-10.82260366,  72.23266104,  17.04      ],\n",
       "        [-10.8129766 ,  72.63260805,  16.99      ],\n",
       "        [ -9.67287719,  72.20498616,  16.99      ],\n",
       "        [-10.82260366,  72.23266104,  16.99      ],\n",
       "        [ -9.66325013,  72.60493317,  16.99      ],\n",
       "        [ -9.67287719,  72.20498616,  17.04      ]]),\n",
       " '_orientedBoundingBox': None,\n",
       " '_subject': rdflib.term.URIRef('file:///1faada72-1493-11ed-8ec2-c8f75043ce59'),\n",
       " '_graph': <Graph identifier=Nb1446c85b0e64370916b01c9da7f5639 (<class 'rdflib.graph.Graph'>)>,\n",
       " '_graphPath': 'd:\\\\Scan-to-BIM repository\\\\geomapi\\\\test\\\\testfiles\\\\bimGraph1.ttl',\n",
       " '_path': 'd:\\\\Scan-to-BIM repository\\\\geomapi\\\\test\\\\testfiles\\\\BIM\\\\1faada72-1493-11ed-8ec2-c8f75043ce59.ply',\n",
       " '_name': '1faada72-1493-11ed-8ec2-c8f75043ce59',\n",
       " '_timestamp': None,\n",
       " '_resource': None,\n",
       " '_cartesianTransform': array([[  1.        ,   0.        ,   0.        , -10.24292717],\n",
       "        [  0.        ,   1.        ,   0.        ,  72.41878611],\n",
       "        [  0.        ,   0.        ,   1.        ,  17.015     ],\n",
       "        [  0.        ,   0.        ,   0.        ,   1.        ]]),\n",
       " 'type': 'https://w3id.org/v4d/core#BIMNode',\n",
       " 'className': 'IfcOpeningElement',\n",
       " 'phase': 'BIM-UF',\n",
       " 'pointCount': 8,\n",
       " 'accuracy': 0.05,\n",
       " 'faceCount': 12,\n",
       " 'lod': 300}"
      ]
     },
     "execution_count": 14,
     "metadata": {},
     "output_type": "execute_result"
    }
   ],
   "source": [
    "node=BIMNode(graphPath=graphPath)\n",
    "{key:value for key, value in node.__dict__.items() if not key.startswith('__') and not callable(key)}"
   ]
  },
  {
   "cell_type": "markdown",
   "metadata": {},
   "source": [
    "## BIMNode save resource\n",
    "\n",
    "It is interesting to buffer the geometries of ifc files on drive to speed up future analyses. \n",
    "Set save=True on node.to_graph with an optional filepath to store the geometry as .ply or .obj."
   ]
  },
  {
   "cell_type": "code",
   "execution_count": 19,
   "metadata": {},
   "outputs": [
    {
     "data": {
      "text/plain": [
       "True"
      ]
     },
     "execution_count": 19,
     "metadata": {},
     "output_type": "execute_result"
    }
   ],
   "source": [
    "ifcPath=os.path.join(Path(os.getcwd()).parents[2],'test','testfiles','IFC','Academiestraat_parking.ifc')\n",
    "ifc = ifcopenshell.open(ifcPath)   \n",
    "ifcWall=ifc.by_guid('06v1k9ENv8DhGMCvKUuLQV')\n",
    "bimNode=BIMNode(resource=ifcWall)\n",
    "\n",
    "bimNode.save_resource(directory=os.path.join(Path(os.getcwd()).parents[2],'test','testfiles','IFC','resources'),\n",
    "                        extension='.ply')"
   ]
  },
  {
   "cell_type": "markdown",
   "metadata": {},
   "source": [
    "## BIMNode to Graph"
   ]
  },
  {
   "cell_type": "markdown",
   "metadata": {},
   "source": [
    "The Graph serialisation is inherited from Node functionality."
   ]
  },
  {
   "cell_type": "code",
   "execution_count": 21,
   "metadata": {},
   "outputs": [
    {
     "name": "stdout",
     "output_type": "stream",
     "text": [
      "@prefix e57: <http://libe57.org#> .\n",
      "@prefix ifc: <http://ifcowl.openbimstandards.org/IFC2X3_Final#> .\n",
      "@prefix v4d: <https://w3id.org/v4d/core#> .\n",
      "@prefix xsd: <http://www.w3.org/2001/XMLSchema#> .\n",
      "\n",
      "<file:///Basic_Wall_168_WA_f2_Soilmix_600mm_956569_06v1k9ENv8DhGMCvKUuLQV> a v4d:BIMNode ;\n",
      "    ifc:className \"IfcWallStandardCase\" ;\n",
      "    ifc:globalId \"06v1k9ENv8DhGMCvKUuLQV\" ;\n",
      "    ifc:ifcPath \"..\\\\..\\\\..\\\\test\\\\testfiles\\\\IFC\\\\Academiestraat_parking.ifc\" ;\n",
      "    e57:cartesianBounds \"\"\"[-19.83659837 -12.40836166  64.55835804  90.40079018  -0.25\n",
      "   6.45      ]\"\"\" ;\n",
      "    e57:cartesianTransform \"\"\"[[  1.           0.           0.         -16.04308554]\n",
      " [  0.           1.           0.          77.58409117]\n",
      " [  0.           0.           1.           3.325     ]\n",
      " [  0.           0.           0.           1.        ]]\"\"\" ;\n",
      "    e57:pointCount 16 ;\n",
      "    v4d:faceCount 28 ;\n",
      "    v4d:name \"Basic Wall:168_WA_f2_Soilmix 600mm:956569\" ;\n",
      "    v4d:orientedBounds \"\"\"[[-19.83941221  90.32921075   6.45      ]\n",
      " [-12.98842887  64.40506348   6.45      ]\n",
      " [-19.83941221  90.32921075  -0.25      ]\n",
      " [-19.25652179  90.48325141   6.45      ]\n",
      " [-12.40553844  64.55910413  -0.25      ]\n",
      " [-19.25652179  90.48325141  -0.25      ]\n",
      " [-12.40553844  64.55910413   6.45      ]\n",
      " [-12.98842887  64.40506348  -0.25      ]]\"\"\" .\n",
      "\n",
      "\n"
     ]
    }
   ],
   "source": [
    "node=BIMNode(globalId='06v1k9ENv8DhGMCvKUuLQV',\n",
    "                ifcPath=ifcPath,\n",
    "                getResource=True)\n",
    "\n",
    "newGraphPath = os.path.join(os.getcwd(),'myGraph.ttl')\n",
    "node.to_graph(newGraphPath)\n",
    "\n",
    "newNode=Node(graphPath=newGraphPath)\n",
    "print(node.graph.serialize())"
   ]
  },
  {
   "cell_type": "markdown",
   "metadata": {},
   "source": [
    "## BIMNode Analyses"
   ]
  },
  {
   "cell_type": "markdown",
   "metadata": {},
   "source": [
    "BIMNodes can be attributed with a range of relationships. This is extremely usefull for Graph navigation and linking together different resources. In [Semantic Web Technologies](https://rdflib.readthedocs.io/en/stable/intro_to_creating_rdf.html), relationships are defined by triples that have other subjects as literals. \n"
   ]
  },
  {
   "cell_type": "markdown",
   "metadata": {},
   "source": [
    "In this first example, we determine the percentage of completion on a subselection on an ifc file to asses which objects are built based on point cloud inliers. To this end, we use the [v4d.analysesBasedOn](https://w3id.org/v4d/core#) relation."
   ]
  },
  {
   "cell_type": "code",
   "execution_count": 22,
   "metadata": {},
   "outputs": [
    {
     "name": "stdout",
     "output_type": "stream",
     "text": [
      "TriangleMesh with 1576 points and 3636 triangles.\n",
      "TriangleMesh with 8 points and 12 triangles.\n"
     ]
    }
   ],
   "source": [
    "ifcPath=os.path.join(Path(os.getcwd()).parents[2],'test','testfiles','IFC','Academiestraat_parking.ifc')\n",
    "node1= BIMNode(ifcPath=ifcPath,globalId='1K2OFoocT0bub_jVpw2PsR',getResource=True)\n",
    "node2= BIMNode(ifcPath=ifcPath,globalId='23JN72MijBOfF91SkLzf3a',getResource=True)\n",
    "print(node1.resource)\n",
    "print(node2.resource)"
   ]
  },
  {
   "cell_type": "code",
   "execution_count": 24,
   "metadata": {},
   "outputs": [
    {
     "name": "stdout",
     "output_type": "stream",
     "text": [
      "PointCloud with 242750 points.\n"
     ]
    }
   ],
   "source": [
    "graphPath=os.path.join(Path(os.getcwd()).parents[2],'test','testfiles','pcdGraph.ttl')\n",
    "myNode=PointCloudNode(subject='file:///week22_photogrammetry_-_Cloud',graphPath=graphPath, getResource=True)\n",
    "print(myNode.resource)"
   ]
  },
  {
   "cell_type": "code",
   "execution_count": 26,
   "metadata": {},
   "outputs": [
    {
     "name": "stdout",
     "output_type": "stream",
     "text": [
      "[[0.15218456]\n",
      " [0.70726916]]\n"
     ]
    }
   ],
   "source": [
    "sources= [node1.resource,node2.resource]\n",
    "reference=myNode.resource\n",
    "threshold=0.1\n",
    "percentages=gmu.determine_percentage_of_coverage(sources=sources, reference=reference)\n",
    "print(percentages)\n"
   ]
  },
  {
   "cell_type": "markdown",
   "metadata": {},
   "source": [
    "These percentages indicate the percentage of the surface area that have points of a reference point cloud/mesh within a threshold Euclidean distance of the surface. It is a measure for the observed/built state of objects."
   ]
  },
  {
   "cell_type": "markdown",
   "metadata": {},
   "source": [
    "![rendering](../../pics/POC1.PNG)"
   ]
  },
  {
   "cell_type": "code",
   "execution_count": 29,
   "metadata": {},
   "outputs": [
    {
     "name": "stdout",
     "output_type": "stream",
     "text": [
      "@prefix omg: <https://w3id.org/omg#> .\n",
      "@prefix v4d: <https://w3id.org/v4d/core#> .\n",
      "@prefix xsd: <http://www.w3.org/2001/XMLSchema#> .\n",
      "\n",
      "<file:///Floor_164_FL_Foundation_slab_400mm_C35_45_1276320_1K2OFoocT0bub_jVpw2PsR> a v4d:BIMNode ;\n",
      "    omg:isDerivedFromGeometry \"file:///week22_photogrammetry_-_Cloud\" ;\n",
      "    v4d:analysisTimestamp \"2022-07-18T15:47:20\" ;\n",
      "    v4d:offsetDistanceCalculation \"0.1\"^^xsd:float ;\n",
      "    v4d:percentageOfCompletion \"[0.15218456]\" .\n",
      "\n",
      "\n"
     ]
    }
   ],
   "source": [
    "analysisNode1=BIMNode(subject=node1.subject,\n",
    "                percentageOfCompletion=percentages[0],\n",
    "                isDerivedFromGeometry=myNode.subject,\n",
    "                offsetDistanceCalculation=threshold,\n",
    "                analysisTimestamp=myNode.timestamp)\n",
    "analysisNode1.to_graph()\n",
    "print(analysisNode1.graph.serialize())"
   ]
  },
  {
   "cell_type": "markdown",
   "metadata": {},
   "source": [
    "These analyses nodes can be stored in seperate graphs and combined at later stages to be used in future analyses."
   ]
  }
 ],
 "metadata": {
  "kernelspec": {
   "display_name": "Python 3.5.6 ('UplinkBIM2_python')",
   "language": "python",
   "name": "python3"
  },
  "language_info": {
   "codemirror_mode": {
    "name": "ipython",
    "version": 3
   },
   "file_extension": ".py",
   "mimetype": "text/x-python",
   "name": "python",
   "nbconvert_exporter": "python",
   "pygments_lexer": "ipython3",
   "version": "3.5.6"
  },
  "orig_nbformat": 4,
  "vscode": {
   "interpreter": {
    "hash": "8033d097d0ad4267019e37ebcadd3db20b5b166982a91b6ae6a402bc2ef4e829"
   }
  }
 },
 "nbformat": 4,
 "nbformat_minor": 2
}

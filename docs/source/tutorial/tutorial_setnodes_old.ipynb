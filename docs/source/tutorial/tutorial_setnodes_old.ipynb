{
 "cells": [
  {
   "cell_type": "markdown",
   "metadata": {},
   "source": [
    "# SetNode\n",
    "The SetNode class in Geomapi represents the data and metadata captured within a single epoch. The data itself can consist of various remote sensing inputs (point clouds, meshes, etc.) and mostly builds upon OPEN3D. The metadata of the SetNode consists of the overarching properties and builds upon the RDFlib framework:\n",
    "\n",
    "[http://www.open3d.org/docs/latest/tutorial/Basic/mesh.html#](http://www.open3d.org/docs/latest/tutorial/Basic/mesh.html#) \n",
    "\n",
    "[https://rdflib.readthedocs.io/](https://rdflib.readthedocs.io/)\n",
    "\n",
    "The code below shows how to create a SetNode from various inputs. "
   ]
  },
  {
   "cell_type": "markdown",
   "metadata": {},
   "source": [
    "First the geomapi and external packages are imported"
   ]
  },
  {
   "cell_type": "code",
   "execution_count": 1,
   "metadata": {},
   "outputs": [
    {
     "name": "stdout",
     "output_type": "stream",
     "text": [
      "Jupyter environment detected. Enabling Open3D WebVisualizer.\n",
      "[Open3D INFO] WebRTC GUI backend enabled.\n",
      "[Open3D INFO] WebRTCWindowSystem: HTTP handshake server disabled.\n"
     ]
    }
   ],
   "source": [
    "#IMPORT PACKAGES\n",
    "from rdflib import Graph\n",
    "import os\n",
    "import numpy as np\n",
    "\n",
    "#IMPORT MODULES\n",
    "from context import geomapi #context import for documentation only\n",
    "from geomapi.nodes import SetNode"
   ]
  },
  {
   "cell_type": "markdown",
   "metadata": {},
   "source": [
    "## SetNode from properties"
   ]
  },
  {
   "cell_type": "markdown",
   "metadata": {},
   "source": [
    "A placeholder SetNode can be initialised without any data or metadata"
   ]
  },
  {
   "cell_type": "code",
   "execution_count": null,
   "metadata": {},
   "outputs": [
    {
     "data": {
      "text/plain": [
       "{'_linkedNodes': [],\n",
       " '_linkedSubjects': [],\n",
       " '_subject': rdflib.term.URIRef('file:///myNode'),\n",
       " '_graph': None,\n",
       " '_graphPath': None,\n",
       " '_path': None,\n",
       " '_name': 'myName',\n",
       " '_cartesianBounds': None,\n",
       " '_orientedBounds': None,\n",
       " '_orientedBoundingBox': None,\n",
       " '_timestamp': None,\n",
       " '_resource': None,\n",
       " '_cartesianTransform': None}"
      ]
     },
     "execution_count": 4,
     "metadata": {},
     "output_type": "execute_result"
    }
   ],
   "source": [
    "node=SetNode(subject='myNode',\n",
    "                name='myName')\n",
    "{key:value for key, value in node.__dict__.items() if not key.startswith('__') and not callable(key)}              \n"
   ]
  },
  {
   "cell_type": "markdown",
   "metadata": {},
   "source": [
    "### Add linkedNodes"
   ]
  },
  {
   "cell_type": "markdown",
   "metadata": {},
   "source": [
    "Once a SetNode is established, any Node can be added to it that is part of the epoch. The instance variables linkedNodes and linkedSubjects (which is automatically updated) are used for this purpose."
   ]
  },
  {
   "cell_type": "code",
   "execution_count": 5,
   "metadata": {},
   "outputs": [],
   "source": [
    "filePath=os.path.join(Path(os.getcwd()).parents[2],'test','testfiles','MESH','week22.obj')\n",
    "resourceNode1=MeshNode(path=filePath,getResource=True)"
   ]
  },
  {
   "cell_type": "code",
   "execution_count": 6,
   "metadata": {},
   "outputs": [
    {
     "data": {
      "text/plain": [
       "{'_linkedNodes': [<geomapi.nodes.meshnode.MeshNode at 0x24e15ea11c0>],\n",
       " '_linkedSubjects': [rdflib.term.URIRef('file:///week22')],\n",
       " '_subject': rdflib.term.URIRef('file:///myNode'),\n",
       " '_graph': None,\n",
       " '_graphPath': None,\n",
       " '_path': None,\n",
       " '_name': 'myName',\n",
       " '_cartesianBounds': None,\n",
       " '_orientedBounds': None,\n",
       " '_orientedBoundingBox': None,\n",
       " '_timestamp': None,\n",
       " '_resource': None,\n",
       " '_cartesianTransform': None}"
      ]
     },
     "execution_count": 6,
     "metadata": {},
     "output_type": "execute_result"
    }
   ],
   "source": [
    "node.add_linked_nodes(resourceNode1)\n",
    "{key:value for key, value in node.__dict__.items() if not key.startswith('__') and not callable(key)}              "
   ]
  },
  {
   "cell_type": "markdown",
   "metadata": {},
   "source": [
    "### Compute metadata\n",
    "If a set of nodes is present in a set, one can compute the overarching metadata. First, add a second node."
   ]
  },
  {
   "cell_type": "code",
   "execution_count": 7,
   "metadata": {},
   "outputs": [],
   "source": [
    "filePath=os.path.join(Path(os.getcwd()).parents[2],'test','testfiles','PCD','academiestraat week 22 a 20.pcd')\n",
    "resourceNode2=PointCloudNode(path=filePath,getResource=True)\n",
    "node.add_linked_nodes(resourceNode2)"
   ]
  },
  {
   "cell_type": "code",
   "execution_count": 8,
   "metadata": {},
   "outputs": [
    {
     "data": {
      "text/plain": [
       "{'_linkedNodes': [<geomapi.nodes.meshnode.MeshNode at 0x24e15ea11c0>,\n",
       "  <geomapi.nodes.pointcloudnode.PointCloudNode at 0x24e15ea1af0>],\n",
       " '_linkedSubjects': [rdflib.term.URIRef('file:///week22'),\n",
       "  rdflib.term.URIRef('file:///academiestraat_week_22_a_20')],\n",
       " '_subject': rdflib.term.URIRef('file:///myNode'),\n",
       " '_graph': None,\n",
       " '_graphPath': None,\n",
       " '_path': None,\n",
       " '_name': 'myName',\n",
       " '_cartesianBounds': array([-52.61117755, 122.50257926,  12.05279306, 165.88417048,\n",
       "         -2.84643678,  24.03564393]),\n",
       " '_orientedBounds': array([[-23.32604321, 166.79579552,  25.50980916],\n",
       "        [123.61436625, 128.38233267,  26.79035759],\n",
       "        [-54.06530499,  49.13654472,  23.27674533],\n",
       "        [-22.97196977, 167.22821067,  -2.1479756 ],\n",
       "        [ 93.22917791,  11.15549702,  -3.10049101],\n",
       "        [-53.71123155,  49.56895987,  -4.38103943],\n",
       "        [123.96843969, 128.81474782,  -0.86742718],\n",
       "        [ 92.87510447,  10.72308187,  24.55729376]]),\n",
       " '_orientedBoundingBox': OrientedBoundingBox: center: (34.9516, 88.9756, 11.2047), extent: 151.884, 121.629, 27.6634),\n",
       " '_timestamp': '2022-08-02T08:25:01',\n",
       " '_resource': TriangleMesh with 12 points and 20 triangles.,\n",
       " '_cartesianTransform': array([[ 1.        ,  0.        ,  0.        , 20.57065419],\n",
       "        [ 0.        ,  1.        ,  0.        , 88.47905237],\n",
       "        [ 0.        ,  0.        ,  1.        ,  8.41263647],\n",
       "        [ 0.        ,  0.        ,  0.        ,  1.        ]])}"
      ]
     },
     "execution_count": 8,
     "metadata": {},
     "output_type": "execute_result"
    }
   ],
   "source": [
    "node.get_metadata_from_linked_nodes()\n",
    "{key:value for key, value in node.__dict__.items() if not key.startswith('__') and not callable(key)}              "
   ]
  },
  {
   "cell_type": "markdown",
   "metadata": {},
   "source": [
    "**NOTE**: the set's geometric metadata i.e. cartesianBounds, orientedBounds, cartesianTransform and orientedBounding box encompas the entire set. As such, these properties represent the average and the extremes of the nodes in the set.   "
   ]
  },
  {
   "cell_type": "markdown",
   "metadata": {},
   "source": [
    "![rendering](../../pics/session2.PNG)"
   ]
  },
  {
   "cell_type": "markdown",
   "metadata": {},
   "source": [
    "## SetNode from Nodes"
   ]
  },
  {
   "cell_type": "markdown",
   "metadata": {},
   "source": [
    "SetNodes can also be directly initialised from a set of nodes."
   ]
  },
  {
   "cell_type": "code",
   "execution_count": 9,
   "metadata": {},
   "outputs": [],
   "source": [
    "meshNode=MeshNode(path=os.path.join(Path(os.getcwd()).parents[2],'test','testfiles','Mesh','Basic Wall_211_WA_Ff1_Glued brickwork sandlime 150mm_1095339.obj'),getResource=True)\n",
    "imgNode=ImageNode(xmpPath=os.path.join(Path(os.getcwd()).parents[2],'test','testfiles','IMG','IMG_2174.xmp'),getResource=True)\n",
    "pcdNode=PointCloudNode(path=os.path.join(Path(os.getcwd()).parents[2],'test','testfiles','PCD','week22 photogrammetry - Cloud.pcd'),getResource=True)\n",
    "bimNode=BIMNode(ifcPath=os.path.join(Path(os.getcwd()).parents[2],'test','testfiles','IFC','Academiestraat_parking.ifc'),getResource=True)\n",
    "nodeList=[meshNode,imgNode,pcdNode,bimNode]     "
   ]
  },
  {
   "cell_type": "code",
   "execution_count": null,
   "metadata": {},
   "outputs": [
    {
     "data": {
      "text/plain": [
       "{'_linkedNodes': [<geomapi.nodes.meshnode.MeshNode at 0x24e15ebc6d0>,\n",
       "  <geomapi.nodes.imagenode.ImageNode at 0x24e15ebc670>,\n",
       "  <geomapi.nodes.pointcloudnode.PointCloudNode at 0x24e15e7df40>,\n",
       "  <geomapi.nodes.bimnode.BIMNode at 0x24e175d4fd0>],\n",
       " '_linkedSubjects': [rdflib.term.URIRef('file:///Basic_Wall_211_WA_Ff1_Glued_brickwork_sandlime_150mm_1095339'),\n",
       "  rdflib.term.URIRef('file:///IMG_2174'),\n",
       "  rdflib.term.URIRef('file:///week22_photogrammetry_-_Cloud'),\n",
       "  rdflib.term.URIRef('file:///Circular_Mullion_Grouting_pile_680mm_1072728_3M75Mhp4L2Aei641BocJ1v')],\n",
       " '_subject': rdflib.term.URIRef('file:///b46569bd-1ef7-11ed-9c4a-c8f75043ce59'),\n",
       " '_graph': None,\n",
       " '_graphPath': None,\n",
       " '_path': None,\n",
       " '_name': None,\n",
       " '_cartesianBounds': array([-52.61117792, 122.50256846,   9.21354145, 165.88415522,\n",
       "         -0.7098256 ,  24.0356459 ]),\n",
       " '_orientedBounds': array([[-9.66526260e+00,  1.86468386e+02,  3.02287259e+01],\n",
       "        [ 1.39268037e+02,  1.15739611e+02,  2.71940092e+01],\n",
       "        [-7.84479065e+01,  4.18226980e+01,  2.58085749e+01],\n",
       "        [-9.81006206e+00,  1.87462216e+02, -4.02857866e-02],\n",
       "        [ 7.03405939e+01, -2.79122459e+01, -7.49515344e+00],\n",
       "        [-7.85927059e+01,  4.28165285e+01, -4.46043679e+00],\n",
       "        [ 1.39123238e+02,  1.16733442e+02, -3.07500244e+00],\n",
       "        [ 7.04853934e+01, -2.89060764e+01,  2.27738582e+01]]),\n",
       " '_orientedBoundingBox': OrientedBoundingBox: center: (30.3377, 79.2781, 11.3668), extent: 164.903, 160.228, 30.2857),\n",
       " '_timestamp': '2022-08-02T08:25:01',\n",
       " '_resource': TriangleMesh with 12 points and 20 triangles.,\n",
       " '_cartesianTransform': array([[ 1.        ,  0.        ,  0.        , 37.79468033],\n",
       "        [ 0.        ,  1.        ,  0.        , 71.92163471],\n",
       "        [ 0.        ,  0.        ,  1.        ,  8.91496436],\n",
       "        [ 0.        ,  0.        ,  0.        ,  1.        ]])}"
      ]
     },
     "execution_count": 10,
     "metadata": {},
     "output_type": "execute_result"
    }
   ],
   "source": [
    "node=SetNode(linkedNodes=nodeList)\n",
    "{key:value for key, value in node.__dict__.items() if not key.startswith('__') and not callable(key)}   "
   ]
  },
  {
   "cell_type": "markdown",
   "metadata": {},
   "source": [
    "**NOTE**: GetMetadata (bool) by default is True. As such, when data is imported, the cartesianBounds, orientedBounds, cartesianTransform and orientedBoundingBox is automatically extracted."
   ]
  },
  {
   "cell_type": "markdown",
   "metadata": {},
   "source": [
    "## SetNode from resources"
   ]
  },
  {
   "cell_type": "markdown",
   "metadata": {},
   "source": [
    "A similar result is achieved by initialising a SetNode from a set of geometries. In this case, GetResource (bool) means nothing. "
   ]
  },
  {
   "cell_type": "code",
   "execution_count": null,
   "metadata": {},
   "outputs": [
    {
     "data": {
      "text/plain": [
       "{'_linkedNodes': [<geomapi.nodes.meshnode.MeshNode at 0x24e15ea1f40>,\n",
       "  <geomapi.nodes.imagenode.ImageNode at 0x24e15ea1a00>,\n",
       "  <geomapi.nodes.pointcloudnode.PointCloudNode at 0x24e15ea1070>,\n",
       "  <geomapi.nodes.meshnode.MeshNode at 0x24e126f28e0>],\n",
       " '_linkedSubjects': [rdflib.term.URIRef('file:///b48b8164-1ef7-11ed-9a09-c8f75043ce59'),\n",
       "  rdflib.term.URIRef('file:///b48b8165-1ef7-11ed-b91e-c8f75043ce59'),\n",
       "  rdflib.term.URIRef('file:///b48b8166-1ef7-11ed-a400-c8f75043ce59'),\n",
       "  rdflib.term.URIRef('file:///b49ca47b-1ef7-11ed-a13f-c8f75043ce59')],\n",
       " '_subject': rdflib.term.URIRef('file:///b48b8163-1ef7-11ed-884c-c8f75043ce59'),\n",
       " '_graph': None,\n",
       " '_graphPath': None,\n",
       " '_path': None,\n",
       " '_name': None,\n",
       " '_cartesianBounds': array([-52.61117792, 122.50256846,  12.05279275, 165.88415522,\n",
       "         -0.7098256 ,  24.0356459 ]),\n",
       " '_orientedBounds': array([[ -2.80881716, 195.04328414,  30.48888509],\n",
       "        [146.03830992, 110.2994234 ,  26.99612434],\n",
       "        [-76.00408274,  66.6405539 ,  26.60602343],\n",
       "        [ -2.9516538 , 196.04025482,   0.21255762],\n",
       "        [ 72.7002077 , -17.10633616,  -7.16306479],\n",
       "        [-76.14691938,  67.63752458,  -3.67030404],\n",
       "        [145.89547327, 111.29639407,  -3.28020313],\n",
       "        [ 72.84304434, -18.10330684,  23.11326268]]),\n",
       " '_orientedBoundingBox': OrientedBoundingBox: center: (34.9457, 88.9685, 11.6629), extent: 171.316, 147.851, 30.2931),\n",
       " '_timestamp': '2022-08-18T15:14:35',\n",
       " '_resource': TriangleMesh with 11 points and 18 triangles.,\n",
       " '_cartesianTransform': array([[ 1.        ,  0.        ,  0.        , 39.72931617],\n",
       "        [ 0.        ,  1.        ,  0.        , 74.53447192],\n",
       "        [ 0.        ,  0.        ,  1.        ,  9.01263668],\n",
       "        [ 0.        ,  0.        ,  0.        ,  1.        ]])}"
      ]
     },
     "execution_count": 11,
     "metadata": {},
     "output_type": "execute_result"
    }
   ],
   "source": [
    "resources=[meshNode.resource,imgNode.resource,pcdNode.resource,bimNode.resource]\n",
    "node=SetNode(linkedResources=resources)\n",
    "{key:value for key, value in node.__dict__.items() if not key.startswith('__') and not callable(key)}            "
   ]
  },
  {
   "cell_type": "markdown",
   "metadata": {},
   "source": [
    "**NOTE**: The cartesianTransform extracted from paths or resources are void of rotationmatrices as this metadata is not part of the fileformat. The translation thus represents the center of the geometry."
   ]
  },
  {
   "cell_type": "markdown",
   "metadata": {},
   "source": [
    "## SetNode from Graph and graphPath"
   ]
  },
  {
   "cell_type": "markdown",
   "metadata": {},
   "source": [
    "If a set was already serialized, a SetNode can be initialised from the graph or graphPath. \n",
    "\n",
    "**NOTE**: The graphPath is the more complete option as it is used to absolutize the node's path information. However, it is also the slower option as the entire graph encapsulation the node is parsed multiple times.\n",
    "\n",
    "**USE**: linkeddatatools.graph_to_nodes resolves this issue.\n",
    "\n",
    "It is important to notice that a SetNode can be initiliased from **3 types of Graphs**."
   ]
  },
  {
   "cell_type": "markdown",
   "metadata": {},
   "source": [
    "### SetGraph\n",
    "The setGraph is the nodes own metadata and is considered the one true graph that should occupy the SetNode.graph variable"
   ]
  },
  {
   "cell_type": "code",
   "execution_count": 12,
   "metadata": {},
   "outputs": [
    {
     "name": "stdout",
     "output_type": "stream",
     "text": [
      "@prefix e57: <http://libe57.org#> .\n",
      "@prefix openlabel: <https://www.asam.net/index.php?eID=dumpFile&t=f&f=3876&token=413e8c85031ae64cc35cf42d0768627514868b2f#> .\n",
      "@prefix v4d: <https://w3id.org/v4d/core#> .\n",
      "\n",
      "<file:///17dc31bc-17f2-11ed-bdae-c8f75043ce59> a v4d:SessionNode ;\n",
      "    e57:cartesianBounds \"\"\"[-52.61117792 122.50256846   9.21354145 165.88415522  -0.7098256\n",
      "  24.0356459 ]\"\"\" ;\n",
      "    e57:cartesianTransform \"\"\"[[ 1.          0.          0.         30.86556763]\n",
      " [ 0.          1.          0.         93.16462374]\n",
      " [ 0.          0.          1.         10.82216436]\n",
      " [ 0.          0.          0.          1.        ]]\"\"\" ;\n",
      "    v4d:linkedSubjects \"['file:///Basic_Wall_211_WA_Ff1_Glued_brickwork_sandlime_150mm_1095339', 'file:///IMG_2174', 'file:///week22_photogrammetry_-_Cloud', 'file:///Basic_Wall_211_WA_Ff1_Glued_brickwork_sandlime_150mm_1118860_0KysUSO6T3_gOJKtAiUE7d']\" ;\n",
      "    v4d:name \"17dc31bc-17f2-11ed-bdae-c8f75043ce59\" ;\n",
      "    v4d:orientedBounds \"\"\"[[-3.63772704e+01  1.68281221e+02  2.37857820e+01]\n",
      " [ 1.25493633e+02  1.45094167e+02  2.49074918e+01]\n",
      " [-5.81517614e+01  1.62450831e+01  2.32386533e+01]\n",
      " [-3.61957602e+01  1.68344760e+02 -1.09404387e+00]\n",
      " [ 1.03900652e+02 -6.87843298e+00 -5.19462782e-01]\n",
      " [-5.79702512e+01  1.63086218e+01 -1.64117262e+00]\n",
      " [ 1.25675143e+02  1.45157705e+02  2.76659619e-02]\n",
      " [ 1.03719142e+02 -6.94197166e+00  2.43603631e+01]]\"\"\" ;\n",
      "    v4d:path \"SESSION\\\\17dc31bc-17f2-11ed-bdae-c8f75043ce59.ply\" ;\n",
      "    openlabel:timestamp \"2022-08-02T08:25:01\" .\n",
      "\n",
      "\n"
     ]
    }
   ],
   "source": [
    "graphPath = os.path.join(Path(os.getcwd()).parents[2],'test','testfiles','sessionGraph.ttl')\n",
    "graph=Graph().parse(graphPath)\n",
    "print(graph.serialize())"
   ]
  },
  {
   "cell_type": "code",
   "execution_count": null,
   "metadata": {},
   "outputs": [
    {
     "name": "stdout",
     "output_type": "stream",
     "text": [
      "file:///17dc31bc-17f2-11ed-bdae-c8f75043ce59\n"
     ]
    }
   ],
   "source": [
    "node=SetNode(graphPath=graphPath)\n",
    "print(node.subject)"
   ]
  },
  {
   "cell_type": "markdown",
   "metadata": {},
   "source": [
    "calling getResource on this graph will gather the convex hull of all the nodes that comprised the Set."
   ]
  },
  {
   "cell_type": "code",
   "execution_count": 14,
   "metadata": {},
   "outputs": [
    {
     "name": "stdout",
     "output_type": "stream",
     "text": [
      "TriangleMesh with 9 points and 14 triangles.\n"
     ]
    }
   ],
   "source": [
    "node.get_resource()\n",
    "print(node.resource)"
   ]
  },
  {
   "cell_type": "markdown",
   "metadata": {},
   "source": [
    "### ResourceGraph\n",
    "Alternatively, a Set can also be initialised from a graph that only contains resources. \n",
    "\n",
    "**NOTE**: this graph can consists of any nodetypes"
   ]
  },
  {
   "cell_type": "code",
   "execution_count": 15,
   "metadata": {},
   "outputs": [
    {
     "name": "stdout",
     "output_type": "stream",
     "text": [
      "[rdflib.term.URIRef('file:///Basic_Wall_211_WA_Ff1_Glued_brickwork_sandlime_150mm_1095339'), rdflib.term.URIRef('file:///Basic_Wall_211_WA_Ff1_Glued_brickwork_sandlime_150mm_1118860_0KysUSO6T3_gOJKtAiUE7d'), rdflib.term.URIRef('file:///IMG_2174'), rdflib.term.URIRef('file:///week22_photogrammetry_-_Cloud')]\n"
     ]
    }
   ],
   "source": [
    "graphPath = os.path.join(Path(os.getcwd()).parents[2],'test','testfiles','resourceGraph.ttl')\n",
    "graph=Graph().parse(graphPath)\n",
    "\n",
    "subjects=[s for s in graph.subjects(RDF.type)]\n",
    "print(subjects)"
   ]
  },
  {
   "cell_type": "code",
   "execution_count": null,
   "metadata": {},
   "outputs": [
    {
     "name": "stdout",
     "output_type": "stream",
     "text": [
      "no sessionSubjects found\n"
     ]
    },
    {
     "data": {
      "text/plain": [
       "{'_linkedNodes': [<geomapi.nodes.meshnode.MeshNode at 0x24e175e1a30>,\n",
       "  <geomapi.nodes.bimnode.BIMNode at 0x24e182d5190>,\n",
       "  <geomapi.nodes.imagenode.ImageNode at 0x24e182d5910>,\n",
       "  <geomapi.nodes.pointcloudnode.PointCloudNode at 0x24e175e1700>],\n",
       " '_linkedSubjects': [rdflib.term.URIRef('file:///Basic_Wall_211_WA_Ff1_Glued_brickwork_sandlime_150mm_1095339'),\n",
       "  rdflib.term.URIRef('file:///Basic_Wall_211_WA_Ff1_Glued_brickwork_sandlime_150mm_1118860_0KysUSO6T3_gOJKtAiUE7d'),\n",
       "  rdflib.term.URIRef('file:///IMG_2174'),\n",
       "  rdflib.term.URIRef('file:///week22_photogrammetry_-_Cloud')],\n",
       " '_subject': rdflib.term.URIRef('file:///b56f7eaf-1ef7-11ed-8315-c8f75043ce59'),\n",
       " '_graph': <Graph identifier=N71506f93b1a24d4a90046464f99554b3 (<class 'rdflib.graph.Graph'>)>,\n",
       " '_graphPath': 'd:\\\\Scan-to-BIM repository\\\\geomapi\\\\test\\\\testfiles\\\\resourceGraph.ttl',\n",
       " '_path': None,\n",
       " '_name': None,\n",
       " '_cartesianBounds': array([-52.61117797, 122.50256846,   9.21354145, 165.88415534,\n",
       "         -0.70982566,  24.03564597]),\n",
       " '_orientedBounds': array([[-3.63772707e+01,  1.68281221e+02,  2.37857820e+01],\n",
       "        [ 1.25493633e+02,  1.45094167e+02,  2.49074919e+01],\n",
       "        [-5.81517614e+01,  1.62450830e+01,  2.32386533e+01],\n",
       "        [-3.61957605e+01,  1.68344760e+02, -1.09404394e+00],\n",
       "        [ 1.03900652e+02, -6.87843277e+00, -5.19462770e-01],\n",
       "        [-5.79702512e+01,  1.63086216e+01, -1.64117265e+00],\n",
       "        [ 1.25675143e+02,  1.45157706e+02,  2.76659342e-02],\n",
       "        [ 1.03719142e+02, -6.94197144e+00,  2.43603632e+01]]),\n",
       " '_orientedBoundingBox': OrientedBoundingBox: center: (33.7617, 80.7014, 11.6332), extent: 163.527, 153.588, 24.8806),\n",
       " '_timestamp': '2022-08-02T08:25:01',\n",
       " '_resource': TriangleMesh with 9 points and 14 triangles.,\n",
       " '_cartesianTransform': array([[ 1.        ,  0.        ,  0.        , 30.86556763],\n",
       "        [ 0.        ,  1.        ,  0.        , 93.16462375],\n",
       "        [ 0.        ,  0.        ,  1.        , 10.82216436],\n",
       "        [ 0.        ,  0.        ,  0.        ,  1.        ]])}"
      ]
     },
     "execution_count": 16,
     "metadata": {},
     "output_type": "execute_result"
    }
   ],
   "source": [
    "node=SetNode(graphPath=graphPath)\n",
    "{key:value for key, value in node.__dict__.items() if not key.startswith('__') and not callable(key)}            "
   ]
  },
  {
   "cell_type": "markdown",
   "metadata": {},
   "source": [
    "### Combined Graph\n",
    "A third option is a combined graph of SetNode(s) and resourceNodes. \n"
   ]
  },
  {
   "cell_type": "code",
   "execution_count": 17,
   "metadata": {},
   "outputs": [
    {
     "name": "stdout",
     "output_type": "stream",
     "text": [
      "[{rdflib.term.URIRef('file:///17dc31bc-17f2-11ed-bdae-c8f75043ce59'),\n",
      "  rdflib.term.URIRef('https://w3id.org/v4d/core#SessionNode')},\n",
      " {rdflib.term.URIRef('file:///Basic_Wall_211_WA_Ff1_Glued_brickwork_sandlime_150mm_1095339'),\n",
      "  rdflib.term.URIRef('https://w3id.org/v4d/core#MeshNode')},\n",
      " {rdflib.term.URIRef('file:///Basic_Wall_211_WA_Ff1_Glued_brickwork_sandlime_150mm_1118860_0KysUSO6T3_gOJKtAiUE7d'),\n",
      "  rdflib.term.URIRef('https://w3id.org/v4d/core#BIMNode')},\n",
      " {rdflib.term.URIRef('file:///IMG_2174'),\n",
      "  rdflib.term.URIRef('https://w3id.org/v4d/core#ImageNode')},\n",
      " {rdflib.term.URIRef('file:///week22_photogrammetry_-_Cloud'),\n",
      "  rdflib.term.URIRef('https://w3id.org/v4d/core#PointCloudNode')}]\n"
     ]
    }
   ],
   "source": [
    "import pprint\n",
    "\n",
    "graphPath = os.path.join(Path(os.getcwd()).parents[2],'test','testfiles','combinedGraph.ttl')\n",
    "graph=Graph().parse(graphPath)\n",
    "\n",
    "dict=[{s,o} for s,o in graph.subject_objects(RDF.type)]\n",
    "pprint.pprint(dict)"
   ]
  },
  {
   "cell_type": "code",
   "execution_count": null,
   "metadata": {},
   "outputs": [
    {
     "data": {
      "text/plain": [
       "{'_linkedNodes': [<geomapi.nodes.meshnode.MeshNode at 0x24e182d6fa0>,\n",
       "  <geomapi.nodes.bimnode.BIMNode at 0x24e182d6280>,\n",
       "  <geomapi.nodes.imagenode.ImageNode at 0x24e182d6af0>,\n",
       "  <geomapi.nodes.pointcloudnode.PointCloudNode at 0x24e182d6d90>],\n",
       " '_linkedSubjects': [rdflib.term.URIRef('file:///Basic_Wall_211_WA_Ff1_Glued_brickwork_sandlime_150mm_1095339'),\n",
       "  rdflib.term.URIRef('file:///Basic_Wall_211_WA_Ff1_Glued_brickwork_sandlime_150mm_1118860_0KysUSO6T3_gOJKtAiUE7d'),\n",
       "  rdflib.term.URIRef('file:///IMG_2174'),\n",
       "  rdflib.term.URIRef('file:///week22_photogrammetry_-_Cloud')],\n",
       " '_subject': rdflib.term.URIRef('file:///17dc31bc-17f2-11ed-bdae-c8f75043ce59'),\n",
       " '_graph': <Graph identifier=N49190a6bb6d748fba3b8f30b7cb84dc2 (<class 'rdflib.graph.Graph'>)>,\n",
       " '_graphPath': 'd:\\\\Scan-to-BIM repository\\\\geomapi\\\\test\\\\testfiles\\\\combinedGraph.ttl',\n",
       " '_path': 'd:\\\\Scan-to-BIM repository\\\\geomapi\\\\test\\\\testfiles\\\\SESSION\\\\17dc31bc-17f2-11ed-bdae-c8f75043ce59.ply',\n",
       " '_name': '17dc31bc-17f2-11ed-bdae-c8f75043ce59',\n",
       " '_cartesianBounds': array([-52.61117797, 122.50256846,   9.21354145, 165.88415534,\n",
       "         -0.70982566,  24.03564597]),\n",
       " '_orientedBounds': array([[-3.63772707e+01,  1.68281221e+02,  2.37857820e+01],\n",
       "        [ 1.25493633e+02,  1.45094167e+02,  2.49074919e+01],\n",
       "        [-5.81517614e+01,  1.62450830e+01,  2.32386533e+01],\n",
       "        [-3.61957605e+01,  1.68344760e+02, -1.09404394e+00],\n",
       "        [ 1.03900652e+02, -6.87843277e+00, -5.19462770e-01],\n",
       "        [-5.79702512e+01,  1.63086216e+01, -1.64117265e+00],\n",
       "        [ 1.25675143e+02,  1.45157706e+02,  2.76659342e-02],\n",
       "        [ 1.03719142e+02, -6.94197144e+00,  2.43603632e+01]]),\n",
       " '_orientedBoundingBox': OrientedBoundingBox: center: (33.7617, 80.7014, 11.6332), extent: 163.527, 153.588, 24.8806),\n",
       " '_timestamp': '2022-08-02T08:25:01',\n",
       " '_resource': TriangleMesh with 9 points and 14 triangles.,\n",
       " '_cartesianTransform': array([[ 1.        ,  0.        ,  0.        , 30.86556763],\n",
       "        [ 0.        ,  1.        ,  0.        , 93.16462375],\n",
       "        [ 0.        ,  0.        ,  1.        , 10.82216436],\n",
       "        [ 0.        ,  0.        ,  0.        ,  1.        ]]),\n",
       " 'type': 'https://w3id.org/v4d/core#SessionNode'}"
      ]
     },
     "execution_count": 18,
     "metadata": {},
     "output_type": "execute_result"
    }
   ],
   "source": [
    "node=SetNode(graphPath=graphPath)\n",
    "{key:value for key, value in node.__dict__.items() if not key.startswith('__') and not callable(key)}     "
   ]
  },
  {
   "cell_type": "markdown",
   "metadata": {},
   "source": [
    "## SetNode get linked Nodes\n",
    "\n",
    "It is also possible to add specific Nodes from a graph to an existing Set"
   ]
  },
  {
   "cell_type": "code",
   "execution_count": null,
   "metadata": {},
   "outputs": [
    {
     "name": "stdout",
     "output_type": "stream",
     "text": [
      "[]\n"
     ]
    }
   ],
   "source": [
    "graphPath = os.path.join(Path(os.getcwd()).parents[2],'test','testfiles','sessionGraph.ttl')\n",
    "node=SetNode(graphPath=graphPath)\n",
    "print(node.linkedNodes)"
   ]
  },
  {
   "cell_type": "code",
   "execution_count": 20,
   "metadata": {},
   "outputs": [
    {
     "name": "stdout",
     "output_type": "stream",
     "text": [
      "[rdflib.term.URIRef('file:///Basic_Wall_211_WA_Ff1_Glued_brickwork_sandlime_150mm_1095339'), rdflib.term.URIRef('file:///Basic_Wall_211_WA_Ff1_Glued_brickwork_sandlime_150mm_1118860_0KysUSO6T3_gOJKtAiUE7d')]\n"
     ]
    }
   ],
   "source": [
    "graphPath = os.path.join(Path(os.getcwd()).parents[2],'test','testfiles','resourceGraph.ttl')\n",
    "graph=Graph().parse(graphPath)\n",
    "subjects=[s for s in graph.subjects(RDF.type)]\n",
    "mysubjects=subjects[0:2]\n",
    "print(mysubjects)"
   ]
  },
  {
   "cell_type": "code",
   "execution_count": 21,
   "metadata": {},
   "outputs": [
    {
     "name": "stdout",
     "output_type": "stream",
     "text": [
      "[<geomapi.nodes.meshnode.MeshNode object at 0x0000024E182D3670>, <geomapi.nodes.bimnode.BIMNode object at 0x0000024E182D3640>]\n"
     ]
    }
   ],
   "source": [
    "node.get_linked_nodes(graph,mysubjects)\n",
    "print(node.linkedNodes)"
   ]
  },
  {
   "cell_type": "markdown",
   "metadata": {},
   "source": [
    "## SetNode get linked resources\n",
    "The resources of the linkedNodes can also be directly called from the SetNodes. Obviously, this only works if the resources are stored in the directory/subdirectory of the Set graphPath"
   ]
  },
  {
   "cell_type": "code",
   "execution_count": null,
   "metadata": {},
   "outputs": [
    {
     "name": "stdout",
     "output_type": "stream",
     "text": [
      "[<geomapi.nodes.meshnode.MeshNode object at 0x0000024E182BF460>, <geomapi.nodes.bimnode.BIMNode object at 0x0000024E182BF250>, <geomapi.nodes.imagenode.ImageNode object at 0x0000024E182D0370>, <geomapi.nodes.pointcloudnode.PointCloudNode object at 0x0000024E182BFAF0>]\n"
     ]
    }
   ],
   "source": [
    "graphPath = os.path.join(Path(os.getcwd()).parents[2],'test','testfiles','combinedGraph.ttl')\n",
    "node=SetNode(graphPath=graphPath)\n",
    "print(node.linkedNodes)"
   ]
  },
  {
   "cell_type": "code",
   "execution_count": 23,
   "metadata": {},
   "outputs": [
    {
     "name": "stdout",
     "output_type": "stream",
     "text": [
      "[<class 'open3d.cpu.pybind.geometry.TriangleMesh'>, <class 'open3d.cpu.pybind.geometry.TriangleMesh'>, <class 'numpy.ndarray'>, <class 'open3d.cpu.pybind.geometry.PointCloud'>]\n"
     ]
    }
   ],
   "source": [
    "resources=node.get_linked_resources()\n",
    "print([type(r) for r in resources])"
   ]
  },
  {
   "cell_type": "markdown",
   "metadata": {},
   "source": [
    "## SetNode save linked resources\n",
    "We can also save these resources to a new directory. Default file types will be used for each nodetype."
   ]
  },
  {
   "cell_type": "code",
   "execution_count": 24,
   "metadata": {},
   "outputs": [
    {
     "name": "stdout",
     "output_type": "stream",
     "text": [
      "['d:\\\\Scan-to-BIM repository\\\\geomapi\\\\test\\\\testfiles\\\\resources\\\\17dc31bc-17f2-11ed-bdae-c8f75043ce59.ply', 'd:\\\\Scan-to-BIM repository\\\\geomapi\\\\test\\\\testfiles\\\\resources\\\\Basic_Wall_211_WA_Ff1_Glued_brickwork_sandlime_150mm_1095339.ply', 'd:\\\\Scan-to-BIM repository\\\\geomapi\\\\test\\\\testfiles\\\\resources\\\\Basic_Wall_211_WA_Ff1_Glued_brickwork_sandlime_150mm_1118860_0KysUSO6T3_gOJKtAiUE7d.ply', 'd:\\\\Scan-to-BIM repository\\\\geomapi\\\\test\\\\testfiles\\\\resources\\\\IMG_2174.png', 'd:\\\\Scan-to-BIM repository\\\\geomapi\\\\test\\\\testfiles\\\\resources\\\\week22_photogrammetry_-_Cloud.pcd']\n"
     ]
    }
   ],
   "source": [
    "directory=os.path.join(Path(os.getcwd()).parents[2],'test','testfiles','resources')\n",
    "node.save_linked_resources(directory)\n",
    "print(ut.get_list_of_files(directory))"
   ]
  },
  {
   "cell_type": "markdown",
   "metadata": {},
   "source": [
    "## SetNode save resource\n",
    "\n",
    "It is interesting to buffer the geometries on drive to speed up future analyses. \n",
    "Set save=True on node.to_graph with an optional filepath to store the geometry as .ply or .obj."
   ]
  },
  {
   "cell_type": "code",
   "execution_count": 25,
   "metadata": {},
   "outputs": [
    {
     "name": "stdout",
     "output_type": "stream",
     "text": [
      "d:\\Scan-to-BIM repository\\geomapi\\test\\testfiles\\SESSION\\17dc31bc-17f2-11ed-bdae-c8f75043ce59.ply\n"
     ]
    }
   ],
   "source": [
    "node.save_resource(directory)\n",
    "print(node.path)"
   ]
  },
  {
   "cell_type": "markdown",
   "metadata": {},
   "source": [
    "## SetNode to Graph"
   ]
  },
  {
   "cell_type": "markdown",
   "metadata": {},
   "source": [
    "The Graph serialisation is inherited from Node functionality."
   ]
  },
  {
   "cell_type": "code",
   "execution_count": null,
   "metadata": {},
   "outputs": [
    {
     "name": "stdout",
     "output_type": "stream",
     "text": [
      "@prefix e57: <http://libe57.org#> .\n",
      "@prefix openlabel: <https://www.asam.net/index.php?eID=dumpFile&t=f&f=3876&token=413e8c85031ae64cc35cf42d0768627514868b2f#> .\n",
      "@prefix v4d: <https://w3id.org/v4d/core#> .\n",
      "\n",
      "<file:///17dc31bc-17f2-11ed-bdae-c8f75043ce59> a v4d:SessionNode ;\n",
      "    e57:cartesianBounds \"\"\"[-52.61117797 122.50256846   9.21354145 165.88415534  -0.70982566\n",
      "  24.03564597]\"\"\" ;\n",
      "    e57:cartesianTransform \"\"\"[[ 1.          0.          0.         30.86556763]\n",
      " [ 0.          1.          0.         93.16462375]\n",
      " [ 0.          0.          1.         10.82216436]\n",
      " [ 0.          0.          0.          1.        ]]\"\"\" ;\n",
      "    v4d:linkedSubjects \"['file:///Basic_Wall_211_WA_Ff1_Glued_brickwork_sandlime_150mm_1095339', 'file:///Basic_Wall_211_WA_Ff1_Glued_brickwork_sandlime_150mm_1118860_0KysUSO6T3_gOJKtAiUE7d', 'file:///IMG_2174', 'file:///week22_photogrammetry_-_Cloud']\" ;\n",
      "    v4d:name \"17dc31bc-17f2-11ed-bdae-c8f75043ce59\" ;\n",
      "    v4d:orientedBounds \"\"\"[[-3.63772707e+01  1.68281221e+02  2.37857820e+01]\n",
      " [ 1.25493633e+02  1.45094167e+02  2.49074919e+01]\n",
      " [-5.81517614e+01  1.62450830e+01  2.32386533e+01]\n",
      " [-3.61957605e+01  1.68344760e+02 -1.09404394e+00]\n",
      " [ 1.03900652e+02 -6.87843277e+00 -5.19462770e-01]\n",
      " [-5.79702512e+01  1.63086216e+01 -1.64117265e+00]\n",
      " [ 1.25675143e+02  1.45157706e+02  2.76659342e-02]\n",
      " [ 1.03719142e+02 -6.94197144e+00  2.43603632e+01]]\"\"\" ;\n",
      "    v4d:path \"..\\\\..\\\\..\\\\test\\\\testfiles\\\\SESSION\\\\17dc31bc-17f2-11ed-bdae-c8f75043ce59.ply\" ;\n",
      "    openlabel:timestamp \"2022-08-02T08:25:01\" .\n",
      "\n",
      "\n"
     ]
    }
   ],
   "source": [
    "graphPath= os.path.join(Path(os.getcwd()).parents[2],'test','testfiles','combinedGraph.ttl')\n",
    "\n",
    "node=SetNode(graphPath=graphPath)\n",
    "\n",
    "newGraphPath = os.path.join(os.getcwd(),'myGraph.ttl')\n",
    "node.to_graph(newGraphPath)\n",
    "\n",
    "newNode=Node(graphPath=newGraphPath)\n",
    "print(node.graph.serialize())"
   ]
  },
  {
   "cell_type": "markdown",
   "metadata": {},
   "source": [
    "## LinkedNodes linked nodes to Graph\n",
    "Additionally, SetNodes have the functionality to serialize all of their linkedNodes aswell. This effectively creates a new resourceGraph in the target directory"
   ]
  },
  {
   "cell_type": "code",
   "execution_count": 27,
   "metadata": {},
   "outputs": [
    {
     "name": "stdout",
     "output_type": "stream",
     "text": [
      "[rdflib.term.URIRef('file:///Basic_Wall_211_WA_Ff1_Glued_brickwork_sandlime_150mm_1095339'), rdflib.term.URIRef('file:///Basic_Wall_211_WA_Ff1_Glued_brickwork_sandlime_150mm_1118860_0KysUSO6T3_gOJKtAiUE7d'), rdflib.term.URIRef('file:///IMG_2174'), rdflib.term.URIRef('file:///week22_photogrammetry_-_Cloud')]\n"
     ]
    }
   ],
   "source": [
    "node.linked_nodes_to_graph(newGraphPath,save=True)\n",
    "\n",
    "newGraph=Graph().parse(newGraphPath)\n",
    "subjects=[s for s in newGraph.subjects(RDF.type)]\n",
    "print(subjects)"
   ]
  },
  {
   "cell_type": "markdown",
   "metadata": {},
   "source": [
    "## LinkedNodes Set to Graph\n",
    "Finally, a combined Graph can also be serialized consisting of both the SetNode and each of the LinkedNodes."
   ]
  },
  {
   "cell_type": "code",
   "execution_count": 28,
   "metadata": {},
   "outputs": [
    {
     "name": "stdout",
     "output_type": "stream",
     "text": [
      "[{rdflib.term.URIRef('file:///17dc31bc-17f2-11ed-bdae-c8f75043ce59'),\n",
      "  rdflib.term.URIRef('https://w3id.org/v4d/core#SessionNode')},\n",
      " {rdflib.term.URIRef('file:///Basic_Wall_211_WA_Ff1_Glued_brickwork_sandlime_150mm_1095339'),\n",
      "  rdflib.term.URIRef('https://w3id.org/v4d/core#MeshNode')},\n",
      " {rdflib.term.URIRef('file:///Basic_Wall_211_WA_Ff1_Glued_brickwork_sandlime_150mm_1118860_0KysUSO6T3_gOJKtAiUE7d'),\n",
      "  rdflib.term.URIRef('https://w3id.org/v4d/core#BIMNode')},\n",
      " {rdflib.term.URIRef('file:///IMG_2174'),\n",
      "  rdflib.term.URIRef('https://w3id.org/v4d/core#ImageNode')},\n",
      " {rdflib.term.URIRef('file:///week22_photogrammetry_-_Cloud'),\n",
      "  rdflib.term.URIRef('https://w3id.org/v4d/core#PointCloudNode')}]\n"
     ]
    }
   ],
   "source": [
    "node.session_to_graph(newGraphPath,save=True)\n",
    "\n",
    "newGraph=Graph().parse(newGraphPath)\n",
    "dict=[{s,o} for s,o in newGraph.subject_objects(RDF.type)]\n",
    "pprint.pprint(dict)"
   ]
  },
  {
   "cell_type": "markdown",
   "metadata": {},
   "source": [
    "## SetNode Analysis"
   ]
  },
  {
   "cell_type": "markdown",
   "metadata": {},
   "source": [
    "SetNodes are usefull for a range of analyses. Most notably, their metadata allows for fast selection of which resources are to be used in any given analysis.\n",
    "\n",
    "E.g. Image we want to asses which objects of a BIM model are potentially observed in an epochs."
   ]
  },
  {
   "cell_type": "markdown",
   "metadata": {},
   "source": [
    "Consider the following resource (convex hull) of the following SetNode:"
   ]
  },
  {
   "cell_type": "code",
   "execution_count": 29,
   "metadata": {},
   "outputs": [],
   "source": [
    "imgNode=ImageNode(xmpPath=os.path.join(Path(os.getcwd()).parents[2],'test','testfiles','IMG','IMG_2174.xmp'),getResource=True)\n",
    "pcdNode=PointCloudNode(path=os.path.join(Path(os.getcwd()).parents[2],'test','testfiles','PCD','academiestraat week 22 a 20.pcd'),getResource=True)\n",
    "bimNode=BIMNode(ifcPath=os.path.join(Path(os.getcwd()).parents[2],'test','testfiles','IFC','Academiestraat_parking.ifc'),getResource=True)\n",
    "nodeList=[imgNode,pcdNode,bimNode]     "
   ]
  },
  {
   "cell_type": "code",
   "execution_count": null,
   "metadata": {},
   "outputs": [
    {
     "name": "stdout",
     "output_type": "stream",
     "text": [
      "TriangleMesh with 12 points and 20 triangles.\n"
     ]
    }
   ],
   "source": [
    "week1=SetNode(linkedNodes=nodeList)\n",
    "print(week1.resource)"
   ]
  },
  {
   "cell_type": "markdown",
   "metadata": {},
   "source": [
    "The already serialized ifc model and its geometry can be efficiently retrieved from the graphPath "
   ]
  },
  {
   "cell_type": "code",
   "execution_count": 31,
   "metadata": {},
   "outputs": [
    {
     "name": "stdout",
     "output_type": "stream",
     "text": [
      "[Open3D WARNING] Unable to load file d:\\Scan-to-BIM repository\\geomapi\\test\\testfiles\\282_SC_f2_Round:Ø30:883870.obj with ASSIMP\n",
      "[Open3D WARNING] Unable to load file d:\\Scan-to-BIM repository\\geomapi\\test\\testfiles\\B1_CL.obj with ASSIMP\n",
      "[Open3D WARNING] Unable to load file d:\\Scan-to-BIM repository\\geomapi\\test\\testfiles\\Default Grid.obj with ASSIMP\n",
      "[Open3D WARNING] Unable to load file d:\\Scan-to-BIM repository\\geomapi\\test\\testfiles\\Precast Stair:Stair:1194239.obj with ASSIMP\n",
      "[Open3D WARNING] Unable to load file d:\\Scan-to-BIM repository\\geomapi\\test\\testfiles\\Precast Stair:Stair:1195754.obj with ASSIMP\n"
     ]
    }
   ],
   "source": [
    "bimGraphPath= os.path.join(Path(os.getcwd()).parents[2],'test','testfiles','bimGraph1.ttl')\n",
    "bimGraph=Graph().parse(bimGraphPath)\n",
    "bimNodes=[]\n",
    "for s in bimGraph.subjects(RDF.type):\n",
    "    bimNodes.append(BIMNode(subject=s,graphPath=bimGraphPath,getResource=True))"
   ]
  },
  {
   "cell_type": "markdown",
   "metadata": {},
   "source": [
    "next, we can easily asses whether the BIM geometries are contained within the convex hull of the Set"
   ]
  },
  {
   "cell_type": "code",
   "execution_count": 49,
   "metadata": {},
   "outputs": [
    {
     "name": "stdout",
     "output_type": "stream",
     "text": [
      "100\n"
     ]
    }
   ],
   "source": [
    "BIMgeometries=[n.resource for n in bimNodes]\n",
    "print(len(BIMgeometries))"
   ]
  },
  {
   "cell_type": "code",
   "execution_count": 38,
   "metadata": {},
   "outputs": [
    {
     "name": "stdout",
     "output_type": "stream",
     "text": [
      "[False, False, False, True, True, True, None, False, False, False, False, True, False, True, False, False, False, False, True, False, False, False, False, False, True, False, True, True, None, True, True, False, True, True, False, True, True, False, False, False, False, False, True, True, False, False, False, True, True, True, True, False, False, True, True, True, True, True, True, True, False, True, True, True, True, True, True, False, False, False, False, False, False, False, False, False, False, False, False, False, False, False, False, True, None, False, False, False, True, False, False, True, False, False, False, None, True, True, None, False]\n"
     ]
    }
   ],
   "source": [
    "inliers=gmu.get_mesh_inliers(sources=BIMgeometries, reference=week1.resource)\n",
    "print(inliers)"
   ]
  },
  {
   "cell_type": "code",
   "execution_count": 40,
   "metadata": {},
   "outputs": [
    {
     "data": {
      "text/plain": [
       "LineSet with 30 lines."
      ]
     },
     "execution_count": 40,
     "metadata": {},
     "output_type": "execute_result"
    }
   ],
   "source": [
    "inside=[g for i,g in enumerate(BIMgeometries) if inliers[i]==True]\n",
    "outside=[g for i,g in enumerate(BIMgeometries) if inliers[i]!=True]\n",
    "lineset1=o3d.geometry.LineSet.create_from_triangle_mesh(week1.resource)\n",
    "lineset1.paint_uniform_color([1,0,0])\n",
    "[g.paint_uniform_color([0,1,0]) for g in inside]\n",
    "o3d.visualization.draw_geometries(inside + outside + [lineset1,pcdNode.resource])"
   ]
  },
  {
   "cell_type": "markdown",
   "metadata": {},
   "source": [
    "![rendering](../../pics/session4.PNG)"
   ]
  },
  {
   "cell_type": "code",
   "execution_count": 46,
   "metadata": {},
   "outputs": [
    {
     "name": "stdout",
     "output_type": "stream",
     "text": [
      "39\n"
     ]
    }
   ],
   "source": [
    "subjects=[node.subject for i,node in enumerate(bimNodes) if inliers[i]==True]\n",
    "print(len(subjects))"
   ]
  },
  {
   "cell_type": "code",
   "execution_count": null,
   "metadata": {},
   "outputs": [
    {
     "name": "stdout",
     "output_type": "stream",
     "text": [
      "@prefix omg: <https://w3id.org/omg#> .\n",
      "@prefix v4d: <https://w3id.org/v4d/core#> .\n",
      "\n",
      "<file:///c23e6f1b-1ef7-11ed-9a6f-c8f75043ce59> a v4d:SessionNode ;\n",
      "    omg:isDerivedFromGeometry \"TriangleMesh with 12 points and 20 triangles.\" ;\n",
      "    v4d:analysisTimestamp \"2022-03-13T13:55:30\" ;\n",
      "    v4d:observableBIMNodes \"[rdflib.term.URIRef('file:///20946a35-1493-11ed-a3e0-c8f75043ce59'), rdflib.term.URIRef('file:///282_SC_f2_Rectangular_20_20_902338_0WczkhEJb5j9vKUsZ2C8Xb'), rdflib.term.URIRef('file:///282_SC_f2_Rectangular_50_20_1128324_3fzMBiyqn35x9PKxUuI9k5'), rdflib.term.URIRef('file:///282_SC_h2_Circular_Hollow_Sections_CHS219x8_874044_2VkCuCs_XE6Oa0y_VskRw_'), rdflib.term.URIRef('file:///282_SF_f2_Rectangular_20_45_883681_3vj_SCnYn1ygZxCAXgDJ8E'), rdflib.term.URIRef('file:///282_SF_f2_Rectangular_20_50_882150_1uRDEANfn5uQudsbYskAIQ'), rdflib.term.URIRef('file:///282_SF_f2_Rectangular_precast__20_20_910622_0xd_OlqWn3CPWz5_iJaRR3'), rdflib.term.URIRef('file:///282_SF_h2_H-Wide_Flange_HEM180_1087611_3X7b5jdTP3qPcQ8PFZIQyv'), rdflib.term.URIRef('file:///282_SF_h2_UPN_UPN240_1204348_3UjGj1LDDF4OdGVnMEh_PL'), rdflib.term.URIRef('file:///Basic_Wall_211_WA_Ff1_Glued_brickwork_sandlime_150mm_1118860_0KysUSO6T3_gOJKtAiUE7d'), rdflib.term.URIRef('file:///Basic_Wall_211_WA_Ff1_Glued_brickwork_sandlime_150mm_1119623_2KGJL8gr1CSxNi9E5OsTC5'), rdflib.term.URIRef('file:///Basic_Wall_211_WA_Ff1_Glued_brickwork_sandlime_214mm_871840_0xEj5E_xb0xuG9m0PNp3LQ'), rdflib.term.URIRef('file:///Basic_Wall_211_WA_Ff1_Glued_brickwork_sandlime_214mm_875067_0tYm_oWnH4EO9KOnrQ_LTZ'), rdflib.term.URIRef('file:///Basic_Wall_211_WA_Ff1_Glued_brickwork_sandlime_214mm_909296_1_1LnVDAG8H2GhtSGFUjv0cw'), rdflib.term.URIRef('file:///Basic_Wall_211_WA_Ff1_Glued_brickwork_sandlime_214mm_915343_0igX5ELYf27gUEXdl0c9BO'), rdflib.term.URIRef('file:///Basic_Wall_211_WA_Ff1_Glued_brickwork_sandlime_214mm_957051_1r0ua9H6vBcgWG64YK_7sP'), rdflib.term.URIRef('file:///Basic_Wall_211_WA_Ff1_Glued_brickwork_sandlime_214mm_957053_1r0ua9H6vBcgWG64YK_7sV'), rdflib.term.URIRef('file:///Basic_Wall_211_WA_Fg2_Masonry_perforated_brick_420mm_890813_1_1viIg84R51EQ3AC_ORnWPI'), rdflib.term.URIRef('file:///Basic_Wall_211_WA_Fg2_Masonry_perforated_brick_420mm_890813_35DaG1pibDM8EXj9_uGbw5'), rdflib.term.URIRef('file:///Basic_Wall_211_WA_f2_Concrete_interior_150mm_871551_27Y0jzhqDDngyHLzsbzFWM'), rdflib.term.URIRef('file:///Basic_Wall_211_WA_f2_Concrete_interior_200mm_1094351_3dwB2NAe1Bwg5iNk81I6l1'), rdflib.term.URIRef('file:///Basic_Wall_211_WA_f2_Concrete_interior_200mm_871479_14ggU2wNT39gT0cJEPcQ2T'), rdflib.term.URIRef('file:///Basic_Wall_211_WA_f2_Concrete_interior_200mm_871524_1MQAV8CnbF1gfS2oQu3BTB'), rdflib.term.URIRef('file:///Basic_Wall_211_WA_f2_Concrete_interior_200mm_871539_1naLsFzZjExgYlxSPIk5Fv'), rdflib.term.URIRef('file:///Basic_Wall_211_WA_f2_Concrete_interior_200mm_871546_27Y0jzhqDDngyHLzsbzFWJ'), rdflib.term.URIRef('file:///Basic_Wall_211_WA_f2_Concrete_interior_200mm_871605_36EK3dgtj5kvzLoe__DpK_'), rdflib.term.URIRef('file:///Basic_Wall_211_WA_f2_Concrete_interior_200mm_871610_36EK3dgtj5kvzLoe__DpKn'), rdflib.term.URIRef('file:///Basic_Wall_211_WA_f2_Concrete_interior_200mm_871615_36EK3dgtj5kvzLoe__DpKq'), rdflib.term.URIRef('file:///Basic_Wall_211_WA_f2_Concrete_interior_200mm_871640_3m98g9juf6duIoC__K0IiP'), rdflib.term.URIRef('file:///Basic_Wall_211_WA_f2_Concrete_interior_200mm_871749_24_a_Hzkf0MQ_ZwECgKMG1'), rdflib.term.URIRef('file:///Basic_Wall_211_WA_f2_Concrete_interior_200mm_872964_21RVJrNGr989BN7TXOhOb6'), rdflib.term.URIRef('file:///Basic_Wall_211_WA_f2_Concrete_interior_200mm_872969_21RVJrNGr989BN7TXOhObB'), rdflib.term.URIRef('file:///Basic_Wall_211_WA_f2_Concrete_interior_200mm_873082_1naLsFzZjExgYlxSPIk59_'), rdflib.term.URIRef('file:///Basic_Wall_211_WA_f2_Concrete_interior_200mm_892869_3_XZi7pMP9Ng_MI42c_pXP'), rdflib.term.URIRef('file:///Basic_Wall_211_WA_f2_Concrete_interior_250mm_881587_1i_PelBQv4sR9_JJI0Ie0o'), rdflib.term.URIRef('file:///Floor_232_FL_Compression_slab_150_CIP__200mm__957651_2IS4Dw5in8hOx8w270ibl_'), rdflib.term.URIRef('file:///Floor_232_FL_Wide_slab_50mm_1012024_37fvQW5Ab3jRe12QYYQFCn'), rdflib.term.URIRef('file:///Precast_Stair_Stair_1194239_Landing_1_0zVTcSmQj60w7eOLIJ1eQZ'), rdflib.term.URIRef('file:///Precast_Stair_Stair_1194239_Run_2_0zVTcSmQj60w7eOLIJ1eQX')]\" .\n",
      "\n",
      "\n"
     ]
    }
   ],
   "source": [
    "analysisNode1=SetNode(subject=week1.subject,\n",
    "                observableBIMNodes=subjects,\n",
    "                isDerivedFromGeometry=week1.resource,\n",
    "                analysisTimestamp=week1.timestamp)\n",
    "analysisNode1.to_graph()\n",
    "print(analysisNode1.graph.serialize())"
   ]
  },
  {
   "cell_type": "markdown",
   "metadata": {},
   "source": [
    "These analyses nodes can be stored in seperate graphs and combined at later stages to be used in future analyses."
   ]
  }
 ],
 "metadata": {
  "kernelspec": {
   "display_name": "env",
   "language": "python",
   "name": "python3"
  },
  "language_info": {
   "codemirror_mode": {
    "name": "ipython",
    "version": 3
   },
   "file_extension": ".py",
   "mimetype": "text/x-python",
   "name": "python",
   "nbconvert_exporter": "python",
   "pygments_lexer": "ipython3",
   "version": "3.11.7"
  },
  "orig_nbformat": 4
 },
 "nbformat": 4,
 "nbformat_minor": 2
}

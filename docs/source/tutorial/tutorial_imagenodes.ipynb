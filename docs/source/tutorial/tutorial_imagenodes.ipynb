{
 "cells": [
  {
   "cell_type": "markdown",
   "metadata": {},
   "source": [
    "# ImageNode\n",
    "The ImageNode class in Geomapi represents the data and metadata of image data. The data itself and methods build upon Open3D and OpenCV concepts while the metadata builds upon the RDFlib framework:\n",
    "\n",
    "[https://docs.opencv.org/4.x/d3/df2/tutorial_py_basic_ops.html](https://docs.opencv.org/4.x/d3/df2/tutorial_py_basic_ops.html)\n",
    "\n",
    "[https://rdflib.readthedocs.io/](https://docs.opencv.org/4.x/d3/df2/tutorial_py_basic_ops.html)\n",
    "\n",
    "The code below shows how to create a ImageNode from various inputs. "
   ]
  },
  {
   "cell_type": "code",
   "execution_count": 28,
   "metadata": {},
   "outputs": [],
   "source": [
    "#IMPORT PACKAGES\n",
    "from rdflib import Graph, URIRef, Literal, RDF\n",
    "import open3d as o3d\n",
    "import os\n",
    "from pathlib import Path\n",
    "import cv2\n",
    "from PIL import Image\n",
    "import matplotlib.pyplot as plt\n",
    "\n",
    "\n",
    "#IMPORT MODULES\n",
    "from context import geomapi \n",
    "from geomapi.nodes import *\n",
    "import geomapi.utils as ut\n",
    "from geomapi.utils import geometryutils as gmu\n",
    "import geomapi.tools as tl"
   ]
  },
  {
   "cell_type": "code",
   "execution_count": 58,
   "metadata": {},
   "outputs": [
    {
     "name": "stdout",
     "output_type": "stream",
     "text": [
      "The autoreload extension is already loaded. To reload it, use:\n",
      "  %reload_ext autoreload\n"
     ]
    }
   ],
   "source": [
    "%load_ext autoreload"
   ]
  },
  {
   "cell_type": "code",
   "execution_count": 59,
   "metadata": {},
   "outputs": [],
   "source": [
    "%autoreload 2"
   ]
  },
  {
   "cell_type": "markdown",
   "metadata": {},
   "source": [
    "## ImageNode from properties"
   ]
  },
  {
   "cell_type": "markdown",
   "metadata": {},
   "source": [
    "A placeholder ImageNode can be initialised without any data or metadata."
   ]
  },
  {
   "cell_type": "code",
   "execution_count": 5,
   "metadata": {},
   "outputs": [
    {
     "data": {
      "text/plain": [
       "{'_xmlPath': None,\n",
       " '_xmpPath': None,\n",
       " 'imageWidth': None,\n",
       " 'imageHeight': None,\n",
       " 'focalLength35mm': None,\n",
       " '_subject': rdflib.term.URIRef('file:///myNode'),\n",
       " '_graph': None,\n",
       " '_graphPath': None,\n",
       " '_path': None,\n",
       " '_name': 'myName',\n",
       " '_timestamp': None,\n",
       " '_resource': None,\n",
       " '_cartesianTransform': None}"
      ]
     },
     "execution_count": 5,
     "metadata": {},
     "output_type": "execute_result"
    }
   ],
   "source": [
    "node=ImageNode(subject='myNode',\n",
    "                    name='myName')\n",
    "{key:value for key, value in node.__dict__.items() if not key.startswith('__') and not callable(key)}              "
   ]
  },
  {
   "cell_type": "markdown",
   "metadata": {},
   "source": [
    "## ImageNode from Path"
   ]
  },
  {
   "cell_type": "markdown",
   "metadata": {},
   "source": [
    "Instead, it is much more likely to initialise a ImageNode from a path containing an image file. This sets the: <br>\n",
    "1. subject\n",
    "2. name\n",
    "3. timestamp\n",
    "4. path\n"
   ]
  },
  {
   "cell_type": "code",
   "execution_count": 6,
   "metadata": {},
   "outputs": [
    {
     "data": {
      "text/plain": [
       "{'_xmlPath': None,\n",
       " '_xmpPath': None,\n",
       " 'imageWidth': 5472,\n",
       " 'imageHeight': 3078,\n",
       " 'focalLength35mm': None,\n",
       " '_subject': rdflib.term.URIRef('file:///DJI_0067'),\n",
       " '_graph': None,\n",
       " '_graphPath': None,\n",
       " '_path': 'd:\\\\Scan-to-BIM repository\\\\geomapi\\\\test\\\\testfiles\\\\IMG\\\\DJI_0067.JPG',\n",
       " '_name': 'DJI_0067',\n",
       " '_timestamp': '2018-06-06T15:21:17',\n",
       " '_resource': None,\n",
       " '_cartesianTransform': None,\n",
       " 'resolutionUnit': 2,\n",
       " 'geospatialTransform': [51.05982777777778, 3.7198242777777777, 1.814],\n",
       " 'coordinateSystem': 'geospatial-wgs84'}"
      ]
     },
     "execution_count": 6,
     "metadata": {},
     "output_type": "execute_result"
    }
   ],
   "source": [
    "filePath=os.path.join(Path(os.getcwd()).parents[2],'test','testfiles','IMG','DJI_0067.JPG')\n",
    "node=ImageNode(path=filePath)\n",
    "{key:value for key, value in node.__dict__.items() if not key.startswith('__') and not callable(key)}              "
   ]
  },
  {
   "cell_type": "markdown",
   "metadata": {},
   "source": [
    "Additionally, any relevant properties from the EXIF data will be stored such as the geospatial transform. "
   ]
  },
  {
   "cell_type": "markdown",
   "metadata": {},
   "source": [
    "## ImageNode from Structure-from-Motion pipelines\n",
    "\n",
    "As GEOMAPI is a geomatics API, the cartesianTransform of nodes is crucial to many of its functionality. For images, this is generally derived from Structure-from-Motion (SfM) pipelines. These pipelines allign the images in a common coordinate system of which the geospatial components are stored in software specific formats.\n",
    "\n",
    "<br>\n",
    "\n",
    "GEOMAPI currently supports two formats. [Agisoft Metashape](https://www.agisoft.com/) and [Capturing Reality](https://www.capturingreality.com/)."
   ]
  },
  {
   "cell_type": "markdown",
   "metadata": {},
   "source": [
    "### Capturing Reality\n",
    "To import the pose of an image from the Capturing Reality pipeline, one should export the coordinate information of the image to an [XMP](https://support.capturingreality.com/hc/en-us/articles/360012410660-Coordinate-System-Preservation-with-XMPs-Full-body-Scans) file. These files are xml formatted and stored per image."
   ]
  },
  {
   "cell_type": "markdown",
   "metadata": {},
   "source": [
    "![rendering](../../pics/capturingreality1.PNG)"
   ]
  },
  {
   "cell_type": "code",
   "execution_count": 7,
   "metadata": {},
   "outputs": [
    {
     "data": {
      "text/plain": [
       "{'_xmlPath': None,\n",
       " '_xmpPath': 'd:\\\\Scan-to-BIM repository\\\\geomapi\\\\test\\\\testfiles\\\\IMG\\\\IMG_2173.xmp',\n",
       " 'imageWidth': 5616,\n",
       " 'imageHeight': 3744,\n",
       " 'focalLength35mm': 24.3771542355288,\n",
       " '_subject': rdflib.term.URIRef('file:///IMG_2173'),\n",
       " '_graph': None,\n",
       " '_graphPath': None,\n",
       " '_path': 'd:\\\\Scan-to-BIM repository\\\\geomapi\\\\test\\\\testfiles\\\\IMG\\\\IMG_2173.JPG',\n",
       " '_name': 'IMG_2173',\n",
       " '_timestamp': '2022-03-13T13:55:26',\n",
       " '_resource': None,\n",
       " '_cartesianTransform': array([[-0.05442451,  0.08978218,  0.99447329, -8.94782375],\n",
       "        [-0.78368672, -0.62101649,  0.01317728, 11.25314019],\n",
       "        [ 0.6187674 , -0.77863835,  0.10415962,  6.54284524],\n",
       "        [ 0.        ,  0.        ,  0.        ,  1.        ]]),\n",
       " 'coordinateSystem': 'geospatial-wgs84',\n",
       " 'principalPointU': -0.00291855667677505,\n",
       " 'principalPointV': -0.00415035446181888,\n",
       " 'distortionCoeficients': [-0.126115439984335,\n",
       "  0.0981832072267781,\n",
       "  0.0312044509604729,\n",
       "  0.0,\n",
       "  0.0,\n",
       "  0.0],\n",
       " 'resolutionUnit': 2,\n",
       " 'geospatialTransform': [None, None, None]}"
      ]
     },
     "execution_count": 7,
     "metadata": {},
     "output_type": "execute_result"
    }
   ],
   "source": [
    "xmpPath=os.path.join(Path(os.getcwd()).parents[2],'test','testfiles','IMG','IMG_2173.xmp')\n",
    "node=ImageNode(xmpPath=xmpPath)\n",
    "{key:value for key, value in node.__dict__.items() if not key.startswith('__') and not callable(key)}              "
   ]
  },
  {
   "cell_type": "markdown",
   "metadata": {},
   "source": [
    "which yields cartesianTransform and some internal camera parameters such as the focalLength35mm, which is needed for digital renders. "
   ]
  },
  {
   "cell_type": "markdown",
   "metadata": {},
   "source": [
    "### Agisoft Metashape\n",
    "Alternatively, Metashape exports its camera poses and properties in a common [XML file ](https://www.agisoft.com/forum/index.php?topic=6211.0). Therefore, one should provide both the subject in the form of the camera label, and the XML file."
   ]
  },
  {
   "cell_type": "code",
   "execution_count": 8,
   "metadata": {},
   "outputs": [
    {
     "data": {
      "text/plain": [
       "{'_xmlPath': 'd:\\\\Scan-to-BIM repository\\\\geomapi\\\\test\\\\testfiles\\\\IMG\\\\ReferenceLAMBERT08_TAW.xml',\n",
       " '_xmpPath': None,\n",
       " 'imageWidth': 5472,\n",
       " 'imageHeight': 3648,\n",
       " 'focalLength35mm': None,\n",
       " '_subject': rdflib.term.URIRef('file:///101_0366_0037'),\n",
       " '_graph': None,\n",
       " '_graphPath': None,\n",
       " '_path': 'd:\\\\Scan-to-BIM repository\\\\geomapi\\\\test\\\\testfiles\\\\IMG\\\\101_0366_0037.jpg',\n",
       " '_name': '101_0366_0037',\n",
       " '_timestamp': '2021-06-07T16:49:33',\n",
       " '_resource': None,\n",
       " '_cartesianTransform': array([[-9.02585284e-01, -4.30511097e-01,  0.00000000e+00,\n",
       "          6.00578072e+05],\n",
       "        [ 4.30511097e-01, -9.02585284e-01,  0.00000000e+00,\n",
       "          6.96277256e+05],\n",
       "        [ 0.00000000e+00,  0.00000000e+00,  1.00000000e+00,\n",
       "          3.13904134e+01],\n",
       "        [ 0.00000000e+00,  0.00000000e+00,  0.00000000e+00,\n",
       "          1.00000000e+00]]),\n",
       " 'sxy': 0.02,\n",
       " 'sz': 0.05,\n",
       " 'resolutionUnit': 2,\n",
       " 'geospatialTransform': [51.074569000007855,\n",
       "  3.6636115834699305,\n",
       "  74.1250002610359],\n",
       " 'coordinateSystem': 'geospatial-wgs84'}"
      ]
     },
     "execution_count": 8,
     "metadata": {},
     "output_type": "execute_result"
    }
   ],
   "source": [
    "xmlPath=os.path.join(Path(os.getcwd()).parents[2],'test','testfiles','IMG','ReferenceLAMBERT08_TAW.xml')\n",
    "node=ImageNode(subject='101_0366_0037',xmlPath=xmlPath)\n",
    "{key:value for key, value in node.__dict__.items() if not key.startswith('__') and not callable(key)}  "
   ]
  },
  {
   "cell_type": "markdown",
   "metadata": {},
   "source": [
    "which also yields the accuracies of the SfM pose estimation."
   ]
  },
  {
   "cell_type": "markdown",
   "metadata": {},
   "source": [
    "![rendering](../../pics/Georeferencedoutput.png)"
   ]
  },
  {
   "cell_type": "markdown",
   "metadata": {},
   "source": [
    "## ImageNode with getResource"
   ]
  },
  {
   "cell_type": "markdown",
   "metadata": {},
   "source": [
    "Given the above XMP or XML files, all metadata of the node can be set. However, one can call getResource to also load the image."
   ]
  },
  {
   "cell_type": "markdown",
   "metadata": {},
   "source": [
    "**NOTE**: GetResource is optional and might slow down any analysis. Only work with data when all metadata options have been exhausted."
   ]
  },
  {
   "cell_type": "code",
   "execution_count": 18,
   "metadata": {},
   "outputs": [
    {
     "name": "stdout",
     "output_type": "stream",
     "text": [
      "<class 'numpy.ndarray'>\n"
     ]
    }
   ],
   "source": [
    "xmpPath=os.path.join(Path(os.getcwd()).parents[2],'test','testfiles','IMG','IMG_7257.xmp')\n",
    "node=ImageNode(xmpPath=xmpPath, getResource=True)\n",
    "print(type(node.resource))"
   ]
  },
  {
   "cell_type": "markdown",
   "metadata": {},
   "source": [
    "![rendering](../../pics/IMG_7257.JPG)"
   ]
  },
  {
   "cell_type": "markdown",
   "metadata": {},
   "source": [
    "## ImageNode from resource"
   ]
  },
  {
   "cell_type": "markdown",
   "metadata": {},
   "source": [
    "A similar result is achieved by initialising a ImageNode from a PIL, Open3D or nd.array(OPENCV) instance. In this case, GetResource (bool) means nothing. "
   ]
  },
  {
   "cell_type": "markdown",
   "metadata": {},
   "source": [
    "OpenCV images are stored as np.ndarrays "
   ]
  },
  {
   "cell_type": "code",
   "execution_count": 11,
   "metadata": {},
   "outputs": [
    {
     "name": "stdout",
     "output_type": "stream",
     "text": [
      "<class 'numpy.ndarray'>\n"
     ]
    }
   ],
   "source": [
    "filePath=os.path.join(Path(os.getcwd()).parents[2],'test','testfiles','IMG','IMG_202200706_00___70_.png')\n",
    "img=cv2.imread(filePath)          \n",
    "node=ImageNode(resource=img)\n",
    "print(type(node.resource))"
   ]
  },
  {
   "cell_type": "markdown",
   "metadata": {},
   "source": [
    "PIL images are a seperate class but are transferred to np.ndarrays"
   ]
  },
  {
   "cell_type": "code",
   "execution_count": 14,
   "metadata": {},
   "outputs": [
    {
     "name": "stdout",
     "output_type": "stream",
     "text": [
      "<class 'numpy.ndarray'>\n"
     ]
    }
   ],
   "source": [
    "filePath=os.path.join(Path(os.getcwd()).parents[2],'test','testfiles','IMG','IMG_202200706_00___70_.png')\n",
    "img=Image.open( filePath)   \n",
    "node=ImageNode(resource=img)\n",
    "print(type(node.resource))"
   ]
  },
  {
   "cell_type": "markdown",
   "metadata": {},
   "source": [
    "Finally, Open3D also has a seperate class but also uses np.ndarrays to buffer the data"
   ]
  },
  {
   "cell_type": "code",
   "execution_count": 16,
   "metadata": {},
   "outputs": [
    {
     "name": "stdout",
     "output_type": "stream",
     "text": [
      "Image of size 5472x3078, with 3 channels.\n",
      "Use numpy.asarray to access buffer data.\n",
      "<class 'numpy.ndarray'>\n"
     ]
    }
   ],
   "source": [
    "filePath=os.path.join(Path(os.getcwd()).parents[2],'test','testfiles','IMG','IMG_202200706_00___70_.png')\n",
    "img=o3d.io.read_image( filePath)   \n",
    "print(img)\n",
    "node=ImageNode(resource=img)\n",
    "print(type(node.resource))"
   ]
  },
  {
   "cell_type": "markdown",
   "metadata": {},
   "source": [
    "## ImageNode from Graph and graphPath"
   ]
  },
  {
   "cell_type": "markdown",
   "metadata": {},
   "source": [
    "If a Image was already serialized, a node can be initialised from the graph or graphPath. \n",
    "\n",
    "**NOTE**: The graphPath is the more complete option as it is used to absolutize the node's path information. However, it is also the slower option as the entire graph encapsulation the node is parsed multiple times.\n",
    "\n",
    "**USE**: linkeddatatools.graph_to_nodes resolves this issue."
   ]
  },
  {
   "cell_type": "code",
   "execution_count": 18,
   "metadata": {},
   "outputs": [
    {
     "name": "stdout",
     "output_type": "stream",
     "text": [
      "@prefix e57: <http://libe57.org#> .\n",
      "@prefix exif: <http://www.w3.org/2003/12/exif/ns#> .\n",
      "@prefix gom: <https://w3id.org/gom#> .\n",
      "@prefix openlabel: <https://www.asam.net/index.php?eID=dumpFile&t=f&f=3876&token=413e8c85031ae64cc35cf42d0768627514868b2f#> .\n",
      "@prefix v4d: <https://w3id.org/v4d/core#> .\n",
      "@prefix xsd: <http://www.w3.org/2001/XMLSchema#> .\n",
      "\n",
      "<file:///101_0366_0037> a v4d:ImageNode ;\n",
      "    e57:cartesianTransform \"\"\"[[-9.02585284e-01 -4.30511097e-01  0.00000000e+00  6.00578072e+05]\n",
      " [ 4.30511097e-01 -9.02585284e-01  0.00000000e+00  6.96277256e+05]\n",
      " [ 0.00000000e+00  0.00000000e+00  1.00000000e+00  3.13904134e+01]\n",
      " [ 0.00000000e+00  0.00000000e+00  0.00000000e+00  1.00000000e+00]]\"\"\" ;\n",
      "    e57:geospatialTransform \"[51.074569000007855, 3.6636115834699305, 74.1250002610359]\" ;\n",
      "    exif:imageHeight 3648 ;\n",
      "    exif:imageWidth 5472 ;\n",
      "    exif:resolutionUnit 2 ;\n",
      "    gom:coordinateSystem \"geospatial-wgs84\" ;\n",
      "    v4d:name \"101_0366_0037\" ;\n",
      "    v4d:path \"IMG\\\\101_0366_0037.jpg\" ;\n",
      "    v4d:sxy \"0.02\"^^xsd:float ;\n",
      "    v4d:sz \"0.05\"^^xsd:float ;\n",
      "    v4d:xmlPath \"IMG\\\\ReferenceLAMBERT08_TAW.xml\" ;\n",
      "    openlabel:timestamp \"2021-06-07T16:49:33\" .\n",
      "\n",
      "\n"
     ]
    }
   ],
   "source": [
    "graphPath = os.path.join(Path(os.getcwd()).parents[2],'test','testfiles','imgGraph.ttl')\n",
    "graph=Graph().parse(graphPath)\n",
    "\n",
    "#only print first node\n",
    "newGraph=Graph()\n",
    "newGraph=ut.bind_ontologies(newGraph)\n",
    "newGraph+=graph.triples((URIRef('file:///101_0366_0037'),None,None))\n",
    "print(newGraph.serialize())"
   ]
  },
  {
   "cell_type": "code",
   "execution_count": 19,
   "metadata": {},
   "outputs": [
    {
     "data": {
      "text/plain": [
       "{'_xmlPath': 'd:\\\\Scan-to-BIM repository\\\\geomapi\\\\test\\\\testfiles\\\\IMG\\\\ReferenceLAMBERT08_TAW.xml',\n",
       " '_xmpPath': None,\n",
       " 'imageWidth': 5472.0,\n",
       " 'imageHeight': 3648.0,\n",
       " 'focalLength35mm': None,\n",
       " '_subject': rdflib.term.URIRef('file:///101_0366_0036'),\n",
       " '_graph': <Graph identifier=Na1390b788e234a5bba013b41d08c95c5 (<class 'rdflib.graph.Graph'>)>,\n",
       " '_graphPath': 'd:\\\\Scan-to-BIM repository\\\\geomapi\\\\test\\\\testfiles\\\\imgGraph.ttl',\n",
       " '_path': 'd:\\\\Scan-to-BIM repository\\\\geomapi\\\\test\\\\testfiles\\\\IMG\\\\101_0366_0036.jpg',\n",
       " '_name': '101_0366_0036',\n",
       " '_timestamp': '2021-06-07T16:49:28',\n",
       " '_resource': None,\n",
       " '_cartesianTransform': array([[-9.01077021e-01, -4.33659085e-01,  0.00000000e+00,\n",
       "          6.00575993e+05],\n",
       "        [ 4.33659085e-01, -9.01077021e-01,  0.00000000e+00,\n",
       "          6.96281654e+05],\n",
       "        [ 0.00000000e+00,  0.00000000e+00,  1.00000000e+00,\n",
       "          3.13845765e+01],\n",
       "        [ 0.00000000e+00,  0.00000000e+00,  0.00000000e+00,\n",
       "          1.00000000e+00]]),\n",
       " 'type': 'https://w3id.org/v4d/core#ImageNode',\n",
       " 'geospatialTransform': array([51.07460836,  3.66358133, 74.11900087]),\n",
       " 'resolutionUnit': 2,\n",
       " 'coordinateSystem': 'geospatial-wgs84',\n",
       " 'sxy': 0.02,\n",
       " 'sz': 0.05}"
      ]
     },
     "execution_count": 19,
     "metadata": {},
     "output_type": "execute_result"
    }
   ],
   "source": [
    "node=ImageNode(graphPath=graphPath)\n",
    "{key:value for key, value in node.__dict__.items() if not key.startswith('__') and not callable(key)}"
   ]
  },
  {
   "cell_type": "markdown",
   "metadata": {},
   "source": [
    "## ImageNode to Graph"
   ]
  },
  {
   "cell_type": "markdown",
   "metadata": {},
   "source": [
    "The Graph serialisation is inherited from Node functionality."
   ]
  },
  {
   "cell_type": "code",
   "execution_count": 20,
   "metadata": {},
   "outputs": [
    {
     "name": "stdout",
     "output_type": "stream",
     "text": [
      "@prefix exif: <http://www.w3.org/2003/12/exif/ns#> .\n",
      "@prefix openlabel: <https://www.asam.net/index.php?eID=dumpFile&t=f&f=3876&token=413e8c85031ae64cc35cf42d0768627514868b2f#> .\n",
      "@prefix v4d: <https://w3id.org/v4d/core#> .\n",
      "@prefix xsd: <http://www.w3.org/2001/XMLSchema#> .\n",
      "\n",
      "<file:///myNode> a v4d:ImageNode ;\n",
      "    exif:imageHeight 3078 ;\n",
      "    exif:imageWidth 5472 ;\n",
      "    v4d:name \"IMG_202200706_00___70_\" ;\n",
      "    v4d:path \"..\\\\..\\\\..\\\\test\\\\testfiles\\\\IMG\\\\IMG_202200706_00___70_.png\" ;\n",
      "    openlabel:timestamp \"2022-08-08T14:32:56\" .\n",
      "\n",
      "\n"
     ]
    }
   ],
   "source": [
    "node=ImageNode(subject='myNode',\n",
    "                    path=filePath,\n",
    "                    getResource=True)\n",
    "\n",
    "newGraphPath = os.path.join(os.getcwd(),'myGraph.ttl')\n",
    "node.to_graph(newGraphPath)\n",
    "\n",
    "newNode=Node(graphPath=newGraphPath)\n",
    "print(node.graph.serialize())"
   ]
  },
  {
   "cell_type": "markdown",
   "metadata": {},
   "source": [
    "## ImageNode analysis"
   ]
  },
  {
   "cell_type": "markdown",
   "metadata": {},
   "source": [
    "ImageNodes can be attributed with a range of relationships. This is extremely usefull for Graph navigation and linking together different resources. In [Semantic Web Technologies](https://rdflib.readthedocs.io/en/stable/intro_to_creating_rdf.html), relationships are defined by triples that have other subjects as literals. "
   ]
  },
  {
   "cell_type": "markdown",
   "metadata": {},
   "source": [
    "In this first example, we create both virtual images of the BIM and a mesh from the same location as a geolocalised image. "
   ]
  },
  {
   "cell_type": "code",
   "execution_count": 21,
   "metadata": {},
   "outputs": [
    {
     "name": "stdout",
     "output_type": "stream",
     "text": [
      "TriangleMesh with 330263 points and 485077 triangles.\n"
     ]
    }
   ],
   "source": [
    "meshNode=MeshNode(path=os.path.join(Path(os.getcwd()).parents[2],'test','testfiles','MESH','week22.obj'),getResource=True)\n",
    "print(meshNode.resource)"
   ]
  },
  {
   "cell_type": "code",
   "execution_count": 24,
   "metadata": {},
   "outputs": [
    {
     "name": "stdout",
     "output_type": "stream",
     "text": [
      "[Open3D WARNING] Unable to load file d:\\Scan-to-BIM repository\\geomapi\\test\\testfiles\\282_SC_f2_Round:Ø30:883870.obj with ASSIMP\n",
      "[Open3D WARNING] Unable to load file d:\\Scan-to-BIM repository\\geomapi\\test\\testfiles\\B1_CL.obj with ASSIMP\n",
      "[Open3D WARNING] Unable to load file d:\\Scan-to-BIM repository\\geomapi\\test\\testfiles\\Default Grid.obj with ASSIMP\n",
      "[Open3D WARNING] Unable to load file d:\\Scan-to-BIM repository\\geomapi\\test\\testfiles\\Precast Stair:Stair:1194239.obj with ASSIMP\n",
      "[Open3D WARNING] Unable to load file d:\\Scan-to-BIM repository\\geomapi\\test\\testfiles\\Precast Stair:Stair:1195754.obj with ASSIMP\n",
      "100\n"
     ]
    }
   ],
   "source": [
    "bimGraphPath= os.path.join(Path(os.getcwd()).parents[2],'test','testfiles','bimGraph1.ttl')\n",
    "bimGraph=Graph().parse(bimGraphPath)\n",
    "bimNodes=[]\n",
    "for s in bimGraph.subjects(RDF.type):\n",
    "    bimNodes.append(BIMNode(subject=s,graphPath=bimGraphPath,getResource=True))\n",
    "print(len(bimNodes))\n",
    "geometry=gmu.join_geometries([n.resource for n in bimNodes])"
   ]
  },
  {
   "cell_type": "code",
   "execution_count": 66,
   "metadata": {},
   "outputs": [
    {
     "name": "stdout",
     "output_type": "stream",
     "text": [
      "<class 'numpy.ndarray'>\n",
      "[[-9.73302276e-01  2.28468791e-01  2.20156949e-02  4.27609137e+01]\n",
      " [ 3.17698956e-02  2.29092449e-01 -9.72886079e-01  9.87548132e+01]\n",
      " [-2.27317735e-01 -9.46212799e-01 -2.30234632e-01  5.42623981e+00]\n",
      " [ 0.00000000e+00  0.00000000e+00  0.00000000e+00  1.00000000e+00]]\n"
     ]
    }
   ],
   "source": [
    "xmpPath=os.path.join(Path(os.getcwd()).parents[2],'test','testfiles','IMG','IMG_7255.xmp')\n",
    "node=ImageNode(xmpPath=xmpPath,getResource=True)\n",
    "print(type(node.resource))\n",
    "print(node.cartesianTransform)\n"
   ]
  },
  {
   "cell_type": "markdown",
   "metadata": {},
   "source": [
    "Downsampling is advised as geometry repositories typically are not as dense as actual image footage."
   ]
  },
  {
   "cell_type": "code",
   "execution_count": 64,
   "metadata": {},
   "outputs": [],
   "source": [
    "im=node.get_virtual_image(meshNode.resource, downsampling=2)"
   ]
  },
  {
   "cell_type": "code",
   "execution_count": 67,
   "metadata": {},
   "outputs": [
    {
     "data": {
      "image/png": "[encoded data removed]",
      "text/plain": [
       "<Figure size 432x288 with 2 Axes>"
      ]
     },
     "metadata": {
      "needs_background": "light"
     },
     "output_type": "display_data"
    }
   ],
   "source": [
    "plt.subplot(1, 2, 1)\n",
    "plt.title('Real image')\n",
    "plt.imshow(node.resource)\n",
    "plt.subplot(1, 2, 2)\n",
    "plt.title('Virtual image')\n",
    "plt.imshow(im)\n",
    "plt.show()"
   ]
  },
  {
   "cell_type": "markdown",
   "metadata": {},
   "source": [
    "**NOTE**: there is a rotational error on the virtual image, perhaps due to a misalignemtn of the mesh or the image within the structure-from-motion pipeline."
   ]
  },
  {
   "cell_type": "code",
   "execution_count": 69,
   "metadata": {},
   "outputs": [
    {
     "name": "stdout",
     "output_type": "stream",
     "text": [
      "@prefix omg: <https://w3id.org/omg#> .\n",
      "@prefix v4d: <https://w3id.org/v4d/core#> .\n",
      "\n",
      "<file:///IMG_7255-virtual> a v4d:ImageNode ;\n",
      "    omg:isDerivedFromGeometry \"file:///week22\" ;\n",
      "    v4d:analysisTimestamp \"2022-08-02T08:25:01\" ;\n",
      "    v4d:isDerivedFromImage \"file:///IMG_7255\" .\n",
      "\n",
      "\n"
     ]
    }
   ],
   "source": [
    "virtualNode=ImageNode(subject=node.subject.toPython() + '-virtual',\n",
    "                isDerivedFromGeometry=meshNode.subject,\n",
    "                isDerivedFromImage=node.subject,\n",
    "                analysisTimestamp=meshNode.timestamp)\n",
    "virtualNode.to_graph()\n",
    "print(virtualNode.graph.serialize())"
   ]
  }
 ],
 "metadata": {
  "kernelspec": {
   "display_name": "Python 3.8.13 ('conda_environment3')",
   "language": "python",
   "name": "python3"
  },
  "language_info": {
   "codemirror_mode": {
    "name": "ipython",
    "version": 3
   },
   "file_extension": ".py",
   "mimetype": "text/x-python",
   "name": "python",
   "nbconvert_exporter": "python",
   "pygments_lexer": "ipython3",
   "version": "3.8.13"
  },
  "orig_nbformat": 4,
  "vscode": {
   "interpreter": {
    "hash": "801b4083378541fd050d6c91abf6ec053c863905e8162e031d57b83e7cdb3051"
   }
  }
 },
 "nbformat": 4,
 "nbformat_minor": 2
}

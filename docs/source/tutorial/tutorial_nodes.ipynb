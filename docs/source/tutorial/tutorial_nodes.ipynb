{
 "cells": [
  {
   "cell_type": "markdown",
   "metadata": {},
   "source": [
    "# Node\n",
    "The Node class in Geomapi is the abstract metadata class from which all other classes inherit. While this node should not be frequently used (unless to govern unknown geospatial data), and has limited capabilities, it governs the basic properties and RDF Graph interaction.\n",
    "\n",
    "[https://rdflib.readthedocs.io/](https://rdflib.readthedocs.io/)\n",
    "\n",
    "As such, the Node class incorporates all functionalities to read and write metadata to RDF Graphs, and format it approprietly to be used in geomatics analyses.\n",
    "\n",
    "The code below shows how to create a abstract Node class works and how it interacts with RDF Graphs."
   ]
  },
  {
   "cell_type": "markdown",
   "metadata": {},
   "source": [
    "First the geomapi and external packages are imported"
   ]
  },
  {
   "cell_type": "code",
   "execution_count": 3,
   "metadata": {},
   "outputs": [],
   "source": [
    "#IMPORT PACKAGES\n",
    "from rdflib import Graph, URIRef, Literal\n",
    "import open3d as o3d\n",
    "import os\n",
    "from pathlib import Path\n",
    "import numpy as np\n",
    "\n",
    "#IMPORT MODULES\n",
    "from context import geomapi \n",
    "from geomapi.nodes import *\n",
    "import geomapi.utils as ut\n",
    "from geomapi.utils import geometryutils as gmu\n",
    "import geomapi.tools as tl"
   ]
  },
  {
   "cell_type": "code",
   "execution_count": 4,
   "metadata": {},
   "outputs": [],
   "source": [
    "%load_ext autoreload"
   ]
  },
  {
   "cell_type": "code",
   "execution_count": 5,
   "metadata": {},
   "outputs": [],
   "source": [
    "%autoreload 2"
   ]
  },
  {
   "cell_type": "markdown",
   "metadata": {},
   "source": [
    "## Create empty Node\n",
    "Node classes can be initiliased without any inputs. In this case, a GUID subject and a name are asigned upon initialisation. "
   ]
  },
  {
   "cell_type": "code",
   "execution_count": 6,
   "metadata": {},
   "outputs": [
    {
     "name": "stdout",
     "output_type": "stream",
     "text": [
      "file:///a20c8d41-1d57-11ed-8772-c8f75043ce59\n",
      "<class 'rdflib.term.URIRef'>\n",
      "a20c8d41-1d57-11ed-8772-c8f75043ce59\n"
     ]
    }
   ],
   "source": [
    "node=Node()\n",
    "print(node.subject)\n",
    "print(type(node.subject))\n",
    "print(node.name)"
   ]
  },
  {
   "cell_type": "markdown",
   "metadata": {},
   "source": [
    "This [subject](https://rdflib.readthedocs.io/en/stable/rdf_terms.html) serves as the key identifier for the Node with [RDF Graphs](https://rdflib.readthedocs.io/en/stable/intro_to_graphs.html) and thus is restricted from using characters that can break its serialisation. \n",
    "In contrast, the [name](https://geomatics.pages.gitlab.kuleuven.be/research-projects/geomapi/geomapi/geomapi.nodes.node.html) property is a string without any conditions. "
   ]
  },
  {
   "cell_type": "code",
   "execution_count": 7,
   "metadata": {},
   "outputs": [
    {
     "name": "stdout",
     "output_type": "stream",
     "text": [
      "file:///_this_has_to_change_\n"
     ]
    }
   ],
   "source": [
    "node=Node('[this<has$to^change]')\n",
    "print(node.subject)"
   ]
  },
  {
   "cell_type": "markdown",
   "metadata": {},
   "source": [
    "The type of these subjects is a [URIRef](https://rdflib.readthedocs.io/en/stable/rdf_terms.html#uriref) which is compatible with any standardised Graph Navigation. Notice that both online (http:///) and local (file:///) subjects can be used with Geomapi (although the focus is more in offline processing)."
   ]
  },
  {
   "cell_type": "markdown",
   "metadata": {},
   "source": [
    "## Create Node with properties\n",
    "\n",
    "Node has the following standard concepts, which are input protected: <br><br>\n",
    "    > subject (URIRef) <br>\n",
    "    > name (str)<br>\n",
    "    > path (str, optional at this level)<br>\n",
    "    > graph (Graph)<br>\n",
    "    > graphPath (str)<br>\n",
    "    > timestamp(str,(yyyy-MM-ddTHH:mm:ss))<br>\n",
    "    > resource (geometry, abstract at this level)<br>\n",
    "    > cartesianTransform (np.array, abstract on this level)<br>\n",
    "\n",
    "Each of these properties also has call() methods, which attempt to form values based on present instance variables in the Node.\n"
   ]
  },
  {
   "cell_type": "code",
   "execution_count": 8,
   "metadata": {},
   "outputs": [
    {
     "data": {
      "text/plain": [
       "{'_subject': rdflib.term.URIRef('file:///myNode'),\n",
       " '_graph': <Graph identifier=N00a16e4e3610488190308520f358dd29 (<class 'rdflib.graph.Graph'>)>,\n",
       " '_graphPath': 'somePathWithaGraph.ttl',\n",
       " '_path': 'mypathWithValidExtension.txt',\n",
       " '_name': 'mypathWithValidExtension',\n",
       " '_timestamp': '2021-12-07T09:38:13',\n",
       " '_resource': None,\n",
       " '_cartesianTransform': None,\n",
       " 'newAttribute1': 0.0,\n",
       " 'newAttribute2': 'attrib2'}"
      ]
     },
     "execution_count": 8,
     "metadata": {},
     "output_type": "execute_result"
    }
   ],
   "source": [
    "# properties\n",
    "node=Node(subject='myNode',\n",
    "          name='myName',\n",
    "          path='mypathWithValidExtension.txt',\n",
    "          graph=Graph(),\n",
    "          graphPath='somePathWithaGraph.ttl',\n",
    "          cartesianTransform=np.diag(np.diag(np.ones((4,4)))),\n",
    "          timestamp=\"Tue Dec  7 09:38:13 2021\",\n",
    "          newAttribute1=0.0,\n",
    "          newAttribute2='attrib2',)\n",
    "{key:value for key, value in node.__dict__.items() if not key.startswith('__') and not callable(key)}"
   ]
  },
  {
   "cell_type": "markdown",
   "metadata": {},
   "source": [
    "Note that timestamp is formatted as \"%Y-%m-%dT%H:%M:%S\" and that any kwarg can be added to the class. cartesianTransform methods differs between ImageNode and other nodes so the abstractr Node class doesn't incorporate functionality for this class."
   ]
  },
  {
   "cell_type": "markdown",
   "metadata": {},
   "source": [
    "Every Node class also has call methods for the internal properties. If these instance variables are None, they are reconstructed from other information that is present in the Node."
   ]
  },
  {
   "cell_type": "code",
   "execution_count": 9,
   "metadata": {},
   "outputs": [
    {
     "name": "stdout",
     "output_type": "stream",
     "text": [
      "Basic Wall_000_WA_DummyWall 20mm_1130411\n",
      "None\n",
      "d:\\Scan-to-BIM repository\\geomapi\\test\\testfiles\\Basic Wall_000_WA_DummyWall 20mm_1130411.txt\n",
      "[a rdfg:Graph;rdflib:storage [a rdflib:Store;rdfs:label 'Memory']].\n",
      "2022-04-06T15:16:28\n",
      "None\n"
     ]
    }
   ],
   "source": [
    "#call methods\n",
    "graphPath = os.path.join(Path(os.getcwd()).parents[2],'test','testfiles','meshGraph.ttl')\n",
    "\n",
    "node=Node(graphPath=graphPath)\n",
    "print(node.get_name())\n",
    "print(node.get_cartesianTransform())\n",
    "print(node.get_path())\n",
    "print(node.get_graph())\n",
    "print(node.get_timestamp())\n",
    "print(node.get_resource())"
   ]
  },
  {
   "cell_type": "markdown",
   "metadata": {},
   "source": [
    "## Node from graph\n",
    "\n",
    "Every node class can be initiliased from a graph. There are three possibilities: "
   ]
  },
  {
   "cell_type": "code",
   "execution_count": 14,
   "metadata": {},
   "outputs": [
    {
     "name": "stdout",
     "output_type": "stream",
     "text": [
      "@prefix ns1: <http://ifcowl.openbimstandards.org/IFC2X3_Final#> .\n",
      "@prefix ns2: <https://w3id.org/v4d/core#> .\n",
      "@prefix ns3: <http://libe57.org#> .\n",
      "@prefix xsd: <http://www.w3.org/2001/XMLSchema#> .\n",
      "\n",
      "<file:///Basic_Wall_211_WA_Ff1_Glued_brickwork_sandlime_150mm_1118860_0KysUSO6T3_gOJKtAiUE7d> a ns2:BIMNode ;\n",
      "    ns1:className \"IfcWall\" ;\n",
      "    ns1:globalId \"0KysUSO6T3_gOJKtAiUE7d\" ;\n",
      "    ns1:ifcPath \"IFC\\\\Academiestraat_building_1.ifc\" ;\n",
      "    ns1:phase \"BIM-UF\" ;\n",
      "    ns3:cartesianBounds \"\"\"[ 31.3840053   37.25142541 100.31983802 100.57972895   7.49\n",
      "  10.48      ]\"\"\" ;\n",
      "    ns3:cartesianTransform \"\"\"[[  1.           0.           0.          34.91152793]\n",
      " [  0.           1.           0.         100.43864519]\n",
      " [  0.           0.           1.           9.31833333]\n",
      " [  0.           0.           0.           1.        ]]\"\"\" ;\n",
      "    ns3:pointCount 24 ;\n",
      "    ns2:accuracy \"0.05\"^^xsd:float ;\n",
      "    ns2:faceCount 44 ;\n",
      "    ns2:lod 300 ;\n",
      "    ns2:name \"Basic Wall:211_WA_Ff1_Glued brickwork sandlime 150mm:1118860\" ;\n",
      "    ns2:orientedBounds \"\"\"[[ 31.38400511 100.42974533  10.48      ]\n",
      " [ 37.24861442 100.31982342  10.48      ]\n",
      " [ 31.38400511 100.42974533   7.49      ]\n",
      " [ 31.38681629 100.57972895  10.48      ]\n",
      " [ 37.2514256  100.46980704   7.49      ]\n",
      " [ 31.38681629 100.57972895   7.49      ]\n",
      " [ 37.2514256  100.46980704  10.48      ]\n",
      " [ 37.24861442 100.31982342   7.49      ]]\"\"\" ;\n",
      "    ns2:path \"BIM\\\\Basic_Wall_211_WA_Ff1_Glued_brickwork_sandlime_150mm_1118860_0KysUSO6T3_gOJKtAiUE7d.ply\" .\n",
      "\n",
      "\n"
     ]
    }
   ],
   "source": [
    "filePath = os.path.join(Path(os.getcwd()).parents[2],'test','testfiles','bimGraph1.ttl')\n",
    "graph=Graph().parse(filePath)\n",
    "\n",
    "#only print first node\n",
    "newGraph=Graph()\n",
    "newGraph+=graph.triples((URIRef('file:///Basic_Wall_211_WA_Ff1_Glued_brickwork_sandlime_150mm_1118860_0KysUSO6T3_gOJKtAiUE7d'),None,None))\n",
    "print(newGraph.serialize())"
   ]
  },
  {
   "cell_type": "markdown",
   "metadata": {},
   "source": [
    "### 1. A graph with a subject -> only retain graph snippet of that subject <br>"
   ]
  },
  {
   "cell_type": "code",
   "execution_count": 40,
   "metadata": {},
   "outputs": [
    {
     "name": "stdout",
     "output_type": "stream",
     "text": [
      "This is the base Node functionality, overwite for each childNode to retrieve the relevant cartesianTransform\n",
      "@prefix e57: <http://libe57.org#> .\n",
      "@prefix openlabel: <https://www.asam.net/index.php?eID=dumpFile&t=f&f=3876&token=413e8c85031ae64cc35cf42d0768627514868b2f#> .\n",
      "@prefix v4d: <https://w3id.org/v4d/core#> .\n",
      "@prefix xsd: <http://www.w3.org/2001/XMLSchema#> .\n",
      "\n",
      "<file:///Floor_232_FL_Wide_slab_50mm_1017640> a v4d:MeshNode ;\n",
      "    e57:cartesianBounds \"[31.04750061 46.16619873 87.48919678 93.76270294 13.72000027 13.77000046]\" ;\n",
      "    e57:cartesianTransform \"\"\"[[ 1.          0.          0.         38.63791847]\\r\n",
      " [ 0.          1.          0.         91.44094992]\\r\n",
      " [ 0.          0.          1.         13.74500036]\\r\n",
      " [ 0.          0.          0.          1.        ]]\"\"\" ;\n",
      "    e57:pointCount 32 ;\n",
      "    v4d:accuracy \"0.05\"^^xsd:float ;\n",
      "    v4d:faceCount 64 ;\n",
      "    v4d:name \"Floor_232_FL_Wide slab 50mm_1017640\" ;\n",
      "    v4d:path \"MESH\\\\Floor_232_FL_Wide slab 50mm_1017640.obj\" ;\n",
      "    openlabel:sensor \"Hololens 2\" ;\n",
      "    openlabel:timestamp \"2022-04-06 15:16:27\" .\n",
      "\n",
      "\n"
     ]
    }
   ],
   "source": [
    "subject=next(s for s in graph.subjects())\n",
    "node=Node(subject,graph=graph)\n",
    "print(node.graph.serialize())"
   ]
  },
  {
   "cell_type": "markdown",
   "metadata": {},
   "source": [
    "### 2. A graph without a subject -> take graph snippet of first subject <br>\n"
   ]
  },
  {
   "cell_type": "code",
   "execution_count": 41,
   "metadata": {},
   "outputs": [
    {
     "name": "stdout",
     "output_type": "stream",
     "text": [
      "This is the base Node functionality, overwite for each childNode to retrieve the relevant cartesianTransform\n",
      "@prefix e57: <http://libe57.org#> .\n",
      "@prefix openlabel: <https://www.asam.net/index.php?eID=dumpFile&t=f&f=3876&token=413e8c85031ae64cc35cf42d0768627514868b2f#> .\n",
      "@prefix v4d: <https://w3id.org/v4d/core#> .\n",
      "@prefix xsd: <http://www.w3.org/2001/XMLSchema#> .\n",
      "\n",
      "<file:///Basic_Wall_000_WA_DummyWall_20mm_1130411> a v4d:MeshNode ;\n",
      "    e57:cartesianBounds \"\"\"[-14.01650047 -13.62110043  69.10179901  69.13130188  13.97000027\\r\n",
      "  17.20999908]\"\"\" ;\n",
      "    e57:cartesianTransform \"\"\"[[  1.           0.           0.         -13.81880021]\\r\n",
      " [  0.           1.           0.          69.11655045]\\r\n",
      " [  0.           0.           1.          15.58999968]\\r\n",
      " [  0.           0.           0.           1.        ]]\"\"\" ;\n",
      "    e57:pointCount 8 ;\n",
      "    v4d:accuracy \"0.05\"^^xsd:float ;\n",
      "    v4d:faceCount 12 ;\n",
      "    v4d:name \"Basic Wall_000_WA_DummyWall 20mm_1130411\" ;\n",
      "    v4d:path \"MESH\\\\Basic Wall_000_WA_DummyWall 20mm_1130411.obj\" ;\n",
      "    openlabel:sensor \"Hololens 2\" ;\n",
      "    openlabel:timestamp \"2022-04-06 15:16:28\" .\n",
      "\n",
      "\n"
     ]
    }
   ],
   "source": [
    "node=Node(graph=graph)\n",
    "print(node.graph.serialize())"
   ]
  },
  {
   "cell_type": "markdown",
   "metadata": {},
   "source": [
    "### 3. A graph with a subject that is not in the graph -> error <br>\n"
   ]
  },
  {
   "cell_type": "code",
   "execution_count": 42,
   "metadata": {},
   "outputs": [
    {
     "ename": "ValueError",
     "evalue": "Subject not in graph",
     "output_type": "error",
     "traceback": [
      "\u001b[1;31m---------------------------------------------------------------------------\u001b[0m",
      "\u001b[1;31mValueError\u001b[0m                                Traceback (most recent call last)",
      "\u001b[1;32m~\\AppData\\Local\\Temp/ipykernel_16704/3265785765.py\u001b[0m in \u001b[0;36m<module>\u001b[1;34m\u001b[0m\n\u001b[1;32m----> 1\u001b[1;33m \u001b[0mnode\u001b[0m\u001b[1;33m=\u001b[0m\u001b[0mNode\u001b[0m\u001b[1;33m(\u001b[0m\u001b[0msubject\u001b[0m\u001b[1;33m=\u001b[0m\u001b[1;34m'myNode'\u001b[0m\u001b[1;33m,\u001b[0m\u001b[0mgraph\u001b[0m\u001b[1;33m=\u001b[0m\u001b[0mgraph\u001b[0m\u001b[1;33m)\u001b[0m\u001b[1;33m\u001b[0m\u001b[1;33m\u001b[0m\u001b[0m\n\u001b[0m",
      "\u001b[1;32md:\\Scan-to-BIM repository\\geomapi\\geomapi\\nodes\\node.py\u001b[0m in \u001b[0;36m__init__\u001b[1;34m(self, subject, graph, graphPath, name, path, timestamp, resource, cartesianTransform, **kwargs)\u001b[0m\n\u001b[0;32m     89\u001b[0m                 \u001b[0mself\u001b[0m\u001b[1;33m.\u001b[0m\u001b[0mget_metadata_from_graph\u001b[0m\u001b[1;33m(\u001b[0m\u001b[0mself\u001b[0m\u001b[1;33m.\u001b[0m\u001b[0m_graph\u001b[0m\u001b[1;33m,\u001b[0m\u001b[0mself\u001b[0m\u001b[1;33m.\u001b[0m\u001b[0m_subject\u001b[0m\u001b[1;33m)\u001b[0m\u001b[1;33m\u001b[0m\u001b[1;33m\u001b[0m\u001b[0m\n\u001b[0;32m     90\u001b[0m             \u001b[1;32melse\u001b[0m\u001b[1;33m:\u001b[0m\u001b[1;33m\u001b[0m\u001b[1;33m\u001b[0m\u001b[0m\n\u001b[1;32m---> 91\u001b[1;33m                 \u001b[1;32mraise\u001b[0m \u001b[0mValueError\u001b[0m\u001b[1;33m(\u001b[0m \u001b[1;34m'Subject not in graph'\u001b[0m\u001b[1;33m)\u001b[0m\u001b[1;33m\u001b[0m\u001b[1;33m\u001b[0m\u001b[0m\n\u001b[0m\u001b[0;32m     92\u001b[0m         \u001b[0mself\u001b[0m\u001b[1;33m.\u001b[0m\u001b[0m__dict__\u001b[0m\u001b[1;33m.\u001b[0m\u001b[0mupdate\u001b[0m\u001b[1;33m(\u001b[0m\u001b[0mkwargs\u001b[0m\u001b[1;33m)\u001b[0m\u001b[1;33m\u001b[0m\u001b[1;33m\u001b[0m\u001b[0m\n\u001b[0;32m     93\u001b[0m \u001b[1;33m\u001b[0m\u001b[0m\n",
      "\u001b[1;31mValueError\u001b[0m: Subject not in graph"
     ]
    }
   ],
   "source": [
    "node=Node(subject='myNode',graph=graph)"
   ]
  },
  {
   "cell_type": "markdown",
   "metadata": {},
   "source": [
    "## Node from graphPath\n",
    "\n",
    "Every node class can be initiliased from a graphPath. The same three possibilities apply here as well: "
   ]
  },
  {
   "cell_type": "markdown",
   "metadata": {},
   "source": [
    "1. A graphPath with a subject -> only retain graph snippet of that subject <br>"
   ]
  },
  {
   "cell_type": "code",
   "execution_count": null,
   "metadata": {},
   "outputs": [],
   "source": [
    "subject=next(s for s in graph.subjects())\n",
    "node=Node(subject,graphPath=graphPath)\n",
    "print(node.graph.serialize())"
   ]
  },
  {
   "cell_type": "markdown",
   "metadata": {},
   "source": [
    "2. A graphPath without a subject -> take graph snippet of first subject <br>\n"
   ]
  },
  {
   "cell_type": "code",
   "execution_count": null,
   "metadata": {},
   "outputs": [],
   "source": [
    "node=Node(graphPath=graphPath)\n",
    "print(node.graph.serialize())"
   ]
  },
  {
   "cell_type": "markdown",
   "metadata": {},
   "source": [
    "3. A graphPath with a subject that is not in the graph -> error <br>\n"
   ]
  },
  {
   "cell_type": "code",
   "execution_count": null,
   "metadata": {},
   "outputs": [],
   "source": [
    "node=Node(subject='myNode',graphPath=graphPath)"
   ]
  },
  {
   "cell_type": "markdown",
   "metadata": {},
   "source": [
    "## Get Metadata from graph\n",
    "\n",
    "Upon initialisation from a graph or graphPath, the graph's triples are assigned as instance variables. "
   ]
  },
  {
   "cell_type": "code",
   "execution_count": 44,
   "metadata": {},
   "outputs": [
    {
     "name": "stdout",
     "output_type": "stream",
     "text": [
      "This is the base Node functionality, overwite for each childNode to retrieve the relevant cartesianTransform\n"
     ]
    },
    {
     "data": {
      "text/plain": [
       "{'_subject': rdflib.term.URIRef('file:///1faada72-1493-11ed-8ec2-c8f75043ce59'),\n",
       " '_graph': <Graph identifier=Na23302d6b7a04f44851bb45d5e2dee8d (<class 'rdflib.graph.Graph'>)>,\n",
       " '_graphPath': None,\n",
       " '_path': 'BIM\\\\1faada72-1493-11ed-8ec2-c8f75043ce59.ply',\n",
       " '_name': '1faada72-1493-11ed-8ec2-c8f75043ce59',\n",
       " '_timestamp': None,\n",
       " '_resource': None,\n",
       " '_cartesianTransform': None,\n",
       " 'type': 'https://w3id.org/v4d/core#BIMNode',\n",
       " 'className': 'IfcOpeningElement',\n",
       " 'globalId': '1sAc4Xyq99bfet1lGbGxNb',\n",
       " 'ifcPath': 'IFC\\\\Academiestraat_building_1.ifc',\n",
       " 'phase': 'BIM-UF',\n",
       " 'cartesianBounds': array([-10.82253789,  -9.66331336,  72.20498616,  72.63245695,\n",
       "         16.99      ,  17.04      ]),\n",
       " 'pointCount': 8,\n",
       " 'accuracy': 0.05,\n",
       " 'faceCount': 12,\n",
       " 'lod': 300,\n",
       " 'orientedBounds': array([[-10.8129766 ,  72.63260805,  17.04      ],\n",
       "        [ -9.66325013,  72.60493317,  17.04      ],\n",
       "        [-10.82260366,  72.23266104,  17.04      ],\n",
       "        [-10.8129766 ,  72.63260805,  16.99      ],\n",
       "        [ -9.67287719,  72.20498616,  16.99      ],\n",
       "        [-10.82260366,  72.23266104,  16.99      ],\n",
       "        [ -9.66325013,  72.60493317,  16.99      ],\n",
       "        [ -9.67287719,  72.20498616,  17.04      ]])}"
      ]
     },
     "execution_count": 44,
     "metadata": {},
     "output_type": "execute_result"
    }
   ],
   "source": [
    "node=Node(graph=graph)\n",
    "{key:value for key, value in node.__dict__.items() if not key.startswith('__') and not callable(key)}"
   ]
  },
  {
   "cell_type": "markdown",
   "metadata": {},
   "source": [
    "**NOTE**: Paths are stored relative to the graphPath so graph files and files can be moved without breaking the serialization. Moreover, when a graphPath is present, it is used to reconstruct the absolute paths wihtin the node."
   ]
  },
  {
   "cell_type": "code",
   "execution_count": 45,
   "metadata": {},
   "outputs": [
    {
     "name": "stdout",
     "output_type": "stream",
     "text": [
      "This is the base Node functionality, overwite for each childNode to retrieve the relevant cartesianTransform\n",
      "BIM\\1faada72-1493-11ed-8ec2-c8f75043ce59.ply\n",
      "This is the base Node functionality, overwite for each childNode to retrieve the relevant cartesianTransform\n",
      "d:\\Scan-to-BIM repository\\geomapi\\test\\testfiles\\MESH\\Basic Wall_000_WA_DummyWall 20mm_1130411.obj\n"
     ]
    }
   ],
   "source": [
    "node=Node(graph=graph)\n",
    "print(node.path) # -> absolute path can not be reconstructed \n",
    "\n",
    "node=Node(graphPath=graphPath)\n",
    "print(node.path)\n"
   ]
  },
  {
   "cell_type": "markdown",
   "metadata": {},
   "source": [
    "## Node to Graph\n",
    "\n",
    "Similarly, all instance variables are transferred to triples. \n",
    "\n",
    "**NOTE**: Actual data is not serialized incl. resources (point clouds, meshes, etc.), the graphPath, etc. These would not fit with semantic web technology concepts and can be hundreds of gigabytes in filesize.  <br> <br> \n",
    "Instead, resources should be stored seperately in their respective file formats while the graphs govern their metadata.\n"
   ]
  },
  {
   "cell_type": "code",
   "execution_count": 49,
   "metadata": {},
   "outputs": [
    {
     "name": "stdout",
     "output_type": "stream",
     "text": [
      "@prefix v4d: <https://w3id.org/v4d/core#> .\n",
      "@prefix xsd: <http://www.w3.org/2001/XMLSchema#> .\n",
      "\n",
      "<file:///myNode> a v4d:Node ;\n",
      "    v4d:myAttr \"0.5\"^^xsd:float ;\n",
      "    v4d:myAttr2 5 ;\n",
      "    v4d:myAttr3 \"[1 2 3]\" .\n",
      "\n",
      "\n"
     ]
    }
   ],
   "source": [
    "node=Node('myNode',\n",
    "            myAttr=0.5,\n",
    "            myAttr2=5, \n",
    "            myAttr3=np.array([1,2,3]))\n",
    "node.to_graph()\n",
    "print(node.graph.serialize())"
   ]
  },
  {
   "cell_type": "markdown",
   "metadata": {},
   "source": [
    "[XSD](https://rdflib.readthedocs.io/en/stable/rdf_terms.html#common-xsd-datatypes) datatypes are used to serialize the data. **str** is used if no type is recognized."
   ]
  },
  {
   "cell_type": "markdown",
   "metadata": {},
   "source": [
    "## Graph ontologies\n",
    "\n",
    "Geomapi currently uses the following ontologies. For unrecognised properties, [v4d] is used as the default Namespace."
   ]
  },
  {
   "cell_type": "code",
   "execution_count": 53,
   "metadata": {},
   "outputs": [],
   "source": [
    "import rdflib\n",
    "exif = rdflib.Namespace('http://www.w3.org/2003/12/exif/ns#') # -> image properties\n",
    "geo=rdflib.Namespace('http://www.opengis.net/ont/geosparql#') # -> coordinate system information\n",
    "gom=rdflib.Namespace('https://w3id.org/gom#') # -> geometry representations \n",
    "omg=rdflib.Namespace('https://w3id.org/omg#') # -> geometry relations\n",
    "fog=rdflib.Namespace('https://w3id.org/fog#')\n",
    "v4d=rdflib.Namespace('https://w3id.org/v4d/core#') # -> Our project specific concepts\n",
    "openlabel=rdflib.Namespace('https://www.asam.net/index.php?eID=dumpFile&t=f&f=3876&token=413e8c85031ae64cc35cf42d0768627514868b2f#') # geometry and CV concepts\n",
    "e57=rdflib.Namespace('http://libe57.org#') # -> point cloud concepts\n",
    "xcr=rdflib.Namespace('http://www.w3.org/1999/02/22-rdf-syntax-ns#') # -> image concepts from RealityCapture\n",
    "ifc=rdflib.Namespace('http://ifcowl.openbimstandards.org/IFC2X3_Final#') # -> BIM concepts"
   ]
  },
  {
   "cell_type": "markdown",
   "metadata": {},
   "source": [
    "## Save to Graph\n",
    "\n",
    "Storing one or more nodes in a graph on drive is an extension of the to_graph() function.\n",
    "<br>\n",
    "\n",
    "Just add a new graphPath or use the existing one, and set save==True\n"
   ]
  },
  {
   "cell_type": "code",
   "execution_count": 56,
   "metadata": {},
   "outputs": [
    {
     "name": "stdout",
     "output_type": "stream",
     "text": [
      "@prefix v4d: <https://w3id.org/v4d/core#> .\n",
      "@prefix xsd: <http://www.w3.org/2001/XMLSchema#> .\n",
      "\n",
      "<file:///myNode> a v4d:Node ;\n",
      "    v4d:myAttr \"0.5\"^^xsd:float ;\n",
      "    v4d:myAttr2 5 ;\n",
      "    v4d:myAttr3 \"[1 2 3]\" .\n",
      "\n",
      "\n"
     ]
    }
   ],
   "source": [
    "node=Node('myNode',\n",
    "            myAttr=0.5,\n",
    "            myAttr2=5, \n",
    "            myAttr3=np.array([1,2,3]))\n",
    "\n",
    "newGraphPath = os.path.join(os.getcwd(),'myGraph.ttl')\n",
    "node.to_graph(newGraphPath)\n",
    "\n",
    "newNode=Node(graphPath=newGraphPath)\n",
    "print(node.graph.serialize())"
   ]
  }
 ],
 "metadata": {
  "interpreter": {
   "hash": "801b4083378541fd050d6c91abf6ec053c863905e8162e031d57b83e7cdb3051"
  },
  "kernelspec": {
   "display_name": "Python 3.8.13 ('conda_environment3')",
   "language": "python",
   "name": "python3"
  },
  "language_info": {
   "codemirror_mode": {
    "name": "ipython",
    "version": 3
   },
   "file_extension": ".py",
   "mimetype": "text/x-python",
   "name": "python",
   "nbconvert_exporter": "python",
   "pygments_lexer": "ipython3",
   "version": "3.8.13"
  },
  "orig_nbformat": 4,
  "vscode": {
   "interpreter": {
    "hash": "832bf5fd5c6660b37dd2a90a45a57b02f877bb0a297fe89ca9c261a7f9e32997"
   }
  }
 },
 "nbformat": 4,
 "nbformat_minor": 2
}

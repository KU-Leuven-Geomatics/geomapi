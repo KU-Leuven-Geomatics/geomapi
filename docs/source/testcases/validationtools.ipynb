{
 "cells": [
  {
   "cell_type": "markdown",
   "metadata": {},
   "source": [
    "# Validation Tools\n",
    "Tools for validating BIM objects\n",
    "\n",
    "Currently the validation of BIM models before they are delivered to the client takes a significant amount of time. Using different sections an experienced modeler tries to validate each BIM element with the point cloud as background. To speed up this process this tools provides a per BIM element analysis between the BIM geometry and the point cloud data.\n",
    "\n"
   ]
  },
  {
   "cell_type": "markdown",
   "metadata": {},
   "source": [
    "First the geomapi and external packages are imported"
   ]
  },
  {
   "cell_type": "code",
   "execution_count": 1,
   "metadata": {},
   "outputs": [
    {
     "name": "stdout",
     "output_type": "stream",
     "text": [
      "Jupyter environment detected. Enabling Open3D WebVisualizer.\n",
      "[Open3D INFO] WebRTC GUI backend enabled.\n",
      "[Open3D INFO] WebRTCWindowSystem: HTTP handshake server disabled.\n"
     ]
    }
   ],
   "source": [
    "import os\n",
    "import open3d as o3d\n",
    "import time\n",
    "from pathlib import Path"
   ]
  },
  {
   "cell_type": "code",
   "execution_count": 15,
   "metadata": {},
   "outputs": [],
   "source": [
    "#IMPORT MODULES\n",
    "from context import geomapi\n",
    "import geomapi.utils as ut\n",
    "import geomapi.tools as tl\n",
    "from geomapi.nodes import *\n",
    "import geomapi.tools.validationtools as vt"
   ]
  },
  {
   "cell_type": "code",
   "execution_count": null,
   "metadata": {},
   "outputs": [],
   "source": [
    "%load_ext autoreload"
   ]
  },
  {
   "cell_type": "code",
   "execution_count": null,
   "metadata": {},
   "outputs": [],
   "source": [
    "%autoreload 2"
   ]
  },
  {
   "cell_type": "markdown",
   "metadata": {},
   "source": [
    "## Preprocessing the BIM Model\n",
    "\n",
    "Following the GEOMAPI principles, we serialize all relevent objects in the BIM model to an RDF Graph."
   ]
  },
  {
   "cell_type": "code",
   "execution_count": 5,
   "metadata": {},
   "outputs": [],
   "source": [
    "ifcPath = os.path.join(Path(os.getcwd()).parents[2],'test','testfiles','IFC','steel_structure.ifc')\n",
    "BIMNodes = []"
   ]
  },
  {
   "cell_type": "markdown",
   "metadata": {},
   "source": [
    "For this analysis, we parse the ifc files using all CPU's."
   ]
  },
  {
   "cell_type": "code",
   "execution_count": 6,
   "metadata": {},
   "outputs": [],
   "source": [
    "BIMNodes.extend(tl.ifc_to_nodes_multiprocessing(ifcPath = ifcPath, getResource = True))"
   ]
  },
  {
   "cell_type": "markdown",
   "metadata": {},
   "source": [
    "Next code block visualizes all elements within the BIM Model that were succesfully converted into GEOMAPI BIMNodes containing a geometry.\n",
    "It is not uncommon for certain elements to not have geometry or have some invalid meshes. These will yield **Geometry Production Errors** and are not stored in a GEOMAPI BIMNode because we only retrieve those elments containing a geometry.\n",
    "\n",
    "![image](../../pics/BIM.PNG)\n",
    "\n",
    "***figure 1:*** BIM model"
   ]
  },
  {
   "cell_type": "code",
   "execution_count": null,
   "metadata": {},
   "outputs": [],
   "source": [
    "#Now we can visualize the BIM data\n",
    "# o3d.visualization.draw_geometries([BIMNode.resource for BIMNode in BIMNodes])"
   ]
  },
  {
   "cell_type": "markdown",
   "metadata": {},
   "source": [
    "For this analysis we zere only interested in the structural elemens such as beams and columns (But the provided code will work accordingly for other classes like walls). The model looks very clean on first sigth but when we color the elements corresponding to the classes we want, it can be seen that also other elements are present in the model. Those elements, colored in red are not needed for the analysis because after inspection there can be concluded that those elments exisit of connection between steel elements, anckers for the concrete, bolts and screws,... \n",
    "\n",
    "![image](../../pics/BIMclasses.PNG)\n",
    "\n",
    "***figure 2:*** BIM model classified as IfcBeams (green), IfcColumns (orange) and clutter (red)"
   ]
  },
  {
   "cell_type": "code",
   "execution_count": 7,
   "metadata": {},
   "outputs": [],
   "source": [
    "for BIMNode in BIMNodes:\n",
    "    if BIMNode.className == 'IfcBeam':\n",
    "        BIMNode.resource.paint_uniform_color([0.788,1.0,0.0])\n",
    "    elif BIMNode.className == 'IfcColumn':\n",
    "        BIMNode.resource.paint_uniform_color([1.0,0.753,0.0])\n",
    "    else:\n",
    "        BIMNode.resource.paint_uniform_color([1.0,0.0,0.0])\n",
    "\n",
    "# o3d.visualization.draw_geometries([BIMNode.resource for BIMNode in BIMNodes])"
   ]
  },
  {
   "cell_type": "markdown",
   "metadata": {},
   "source": [
    "Those elements are mostly very small or are not visible in the scanning data. Therfore these elements will be removed from the BIMNodes list and ignored for further analysis. This reduces the number of BIMNodes to be processed from 301 to 173"
   ]
  },
  {
   "cell_type": "code",
   "execution_count": 8,
   "metadata": {},
   "outputs": [
    {
     "name": "stdout",
     "output_type": "stream",
     "text": [
      "Before class filtering: 301 BIMNodes\n",
      "After class filtering: 173 BIMNodes\n"
     ]
    }
   ],
   "source": [
    "print(\"Before class filtering: %s BIMNodes\" % len(BIMNodes))\n",
    "i=0\n",
    "while i < len(BIMNodes):\n",
    "    BIMNode = BIMNodes[i]\n",
    "    BIMNode.name = BIMNode.className + BIMNode.globalId\n",
    "    if BIMNode.className == 'IfcBeam' or BIMNode.className == 'IfcColumn':\n",
    "        i += 1\n",
    "    else:\n",
    "        BIMNodes.pop(i)\n",
    "print(\"After class filtering: %s BIMNodes\" % len(BIMNodes))"
   ]
  },
  {
   "cell_type": "markdown",
   "metadata": {},
   "source": [
    "To be able to make computations between the BIM geometry and the captured point cloud all BIM geometries are sampled to a point cloud. To this end the GEOMAPI theoretical visibility functions are used. This allows us to achieve better results where unvisible point mostly influnce the analysisi results by matching with clutter objects."
   ]
  },
  {
   "cell_type": "code",
   "execution_count": 9,
   "metadata": {},
   "outputs": [],
   "source": [
    "\n",
    "#First the resolution of the sampling is determined\n",
    "resolution = 0.01\n",
    "\n",
    "#Then the visibility pointCloud is created for every BIMNode and stored in meshPCD variable that is added to the BIMNode\n",
    "referencepcds =[]\n",
    "referenceids = []\n",
    "visibility = []\n",
    "\n",
    "BIMpcdNodes = []\n",
    "\n",
    "for BIMNode in BIMNodes:\n",
    "    BIMNode.linkedNodes = []\n",
    "    meshPCD, theoreticalVisibility = geomapi.utils.geometryutils.create_visible_point_cloud_from_meshes(\n",
    "                                                            geometries=BIMNode.resource,\n",
    "                                                            references=[bm.resource for bm in BIMNodes if bm is not BIMNode],\n",
    "                                                            resolution=resolution,\n",
    "                                                            getNormals= True)\n",
    "    BIMNode.theoreticalVisibility = theoreticalVisibility[0]\n",
    "    \n",
    "    if theoreticalVisibility[0] > 0.1:\n",
    "        referencepcds.append(meshPCD[0])\n",
    "        referenceids.append(BIMNode.subject)\n",
    "        visibility.append((BIMNode.subject, theoreticalVisibility[0]))\n",
    "        BIMpcdNode = geomapi.nodes.PointCloudNode(subject = BIMNode.subject, name = BIMNode.name, resource = meshPCD[0])\n",
    "        BIMpcdNodes.append(BIMpcdNode)"
   ]
  },
  {
   "cell_type": "code",
   "execution_count": 10,
   "metadata": {},
   "outputs": [],
   "source": [
    "referenceSession = geomapi.nodes.SessionNode(name = \"reference_session\",linkedNodes= BIMNodes)\n",
    "#Why not?? Session moet een convex hull hebben als resource kan geen folder zijn\n",
    "# referenceSession.path = os.path.join(Path(os.getcwd()).parents[2],'tests','Samples14','myAnalysisFolder',referenceSession.name)\n",
    "\n",
    "referenceSession_path = os.path.join(Path(os.getcwd()).parents[2],'test','testfiles','SESSION',referenceSession.name)\n",
    "if not os.path.exists(referenceSession_path):\n",
    "    os.mkdir(referenceSession_path)\n"
   ]
  },
  {
   "cell_type": "code",
   "execution_count": 11,
   "metadata": {},
   "outputs": [
    {
     "data": {
      "text/plain": [
       "<Graph identifier=N781e70a9757f4d67aa4361bdcda60114 (<class 'rdflib.graph.Graph'>)>"
      ]
     },
     "execution_count": 11,
     "metadata": {},
     "output_type": "execute_result"
    }
   ],
   "source": [
    "for BIMNode in BIMNodes:\n",
    "    # Make sure the BIM elemnts have a unique name before saving them\n",
    "    BIMNode.name = BIMNode.className + BIMNode.globalId + str(time.time_ns())\n",
    "    # Save all BIMNode resources (meshes) to disk to save memory.\n",
    "    BIMNode.save_resource(os.path.join(referenceSession_path,'MESHES'))\n",
    "    del BIMNode.resource\n",
    "BIMgraphPath=os.path.join(referenceSession_path,'bimGraph.ttl')\n",
    "geomapi.tl.nodes_to_graph(nodelist=BIMNodes,graphPath=BIMgraphPath,save=True)\n",
    "\n",
    "for BIMpcdNode in BIMpcdNodes:\n",
    "    #Make sure the BIM elemnts have a unique name before saving them\n",
    "    BIMpcdNode.name = BIMpcdNode.name + str(time.time_ns())\n",
    "    #Save all BIMNode resources (meshes) to disk to save memory.\n",
    "    BIMpcdNode.save_resource(os.path.join(referenceSession_path,'PCDS'))\n",
    "BIMpcdgraphPath=os.path.join(referenceSession_path,'bimPcdGraph.ttl')\n",
    "geomapi.tl.nodes_to_graph(nodelist=BIMpcdNodes,graphPath=BIMpcdgraphPath,save=True)\n"
   ]
  },
  {
   "cell_type": "markdown",
   "metadata": {},
   "source": [
    "## Pointcloud processing\n",
    "Now the reference object are processed and the captured data will be processed. This data is not reference data and can change, for example during the construction phase where sequential measurement campaigns are organised. Therefore, the reults of these analysis are stored separetly in a SessionNode containing all BIMnodes from above."
   ]
  },
  {
   "cell_type": "code",
   "execution_count": 12,
   "metadata": {},
   "outputs": [],
   "source": [
    "pcdPath = os.path.join(Path(os.getcwd()).parents[2],'test','testfiles','PCD','pointcloud2sub.e57')\n",
    "pcdNodes=tl.e57header_to_nodes(pcdPath)"
   ]
  },
  {
   "cell_type": "markdown",
   "metadata": {},
   "source": [
    "Create a session conteining all the data that can change, such as the captured data and the analysis"
   ]
  },
  {
   "cell_type": "code",
   "execution_count": 13,
   "metadata": {},
   "outputs": [
    {
     "data": {
      "text/plain": [
       "<Graph identifier=N6cd6364d43d34bf68d90e597ff453f08 (<class 'rdflib.graph.Graph'>)>"
      ]
     },
     "execution_count": 13,
     "metadata": {},
     "output_type": "execute_result"
    }
   ],
   "source": [
    "session = geomapi.nodes.SessionNode(name = \"session_\" + time.strftime(\"%Y%m%d-%H%M%S\"), linkedNodes = pcdNodes + BIMNodes + BIMpcdNodes)\n",
    "\n",
    "sessionFolder=os.path.join(Path(os.getcwd()).parents[2],'test','testfiles','SESSION',session.name)\n",
    "if not os.path.exists(sessionFolder):\n",
    "    os.mkdir(sessionFolder)\n",
    "\n",
    "graphPath=os.path.join(sessionFolder,'SessionGraph.ttl')\n",
    "tl.nodes_to_graph(nodelist=pcdNodes,graphPath=graphPath,save=True)"
   ]
  },
  {
   "cell_type": "markdown",
   "metadata": {},
   "source": [
    "Because we don't have any information about the pointclouds such as their boundingboxes, the pointclouds must be loaded to determine these parameters"
   ]
  },
  {
   "cell_type": "code",
   "execution_count": 14,
   "metadata": {},
   "outputs": [],
   "source": [
    "for pcdNode in pcdNodes:\n",
    "    pcdNode.get_resource() \n",
    "pcd = [pcdNode.resource for pcdNode in pcdNodes]"
   ]
  },
  {
   "cell_type": "markdown",
   "metadata": {},
   "source": [
    "## LOA comparison\n",
    "The next function will determines yo which element each point of the point cloud belongs + the distance between these points. By doing this matching the LOA percentages will be more accurate, ignore more clutter."
   ]
  },
  {
   "cell_type": "code",
   "execution_count": 17,
   "metadata": {},
   "outputs": [],
   "source": [
    "joinedPCD, identityArray, distances = vt.match_BIM_points(sources = pcd, references = referencepcds, referenceIds= referenceids)"
   ]
  },
  {
   "cell_type": "markdown",
   "metadata": {},
   "source": [
    "The next function determines the percentage of inliers per LOA bracket"
   ]
  },
  {
   "cell_type": "code",
   "execution_count": 18,
   "metadata": {},
   "outputs": [],
   "source": [
    "LOA = vt.compute_LOA(identityArray, distances, byElement=True)"
   ]
  },
  {
   "cell_type": "markdown",
   "metadata": {},
   "source": [
    "## Result visualization\n",
    "Next we will demonstrate the different options to visualize the analysis results. This can be done by element or for the entire project at once\n",
    "\n",
    "## Histograms per element\n",
    "![image](../../pics/perelementhist.PNG)\n",
    "\n",
    "***figure 3:*** Histogram illustrating the cistances between the source point and the matched reference point"
   ]
  },
  {
   "cell_type": "code",
   "execution_count": 19,
   "metadata": {},
   "outputs": [
    {
     "data": {
      "image/png": "[encoded data removed]",
      "text/plain": [
       "<Figure size 640x480 with 1 Axes>"
      ]
     },
     "metadata": {},
     "output_type": "display_data"
    }
   ],
   "source": [
    "vt.plot_histogram(identityArray, distances, directory = sessionFolder, byElement= True, show = False)\n",
    "vt.plot_histogram(identityArray, distances)"
   ]
  },
  {
   "cell_type": "markdown",
   "metadata": {},
   "source": [
    "## Pointclouds\n",
    "![image](../../pics/ColoredPCD.PNG)\n",
    "\n",
    "***figure 4:*** Pointcloud where the points are colored by LOA"
   ]
  },
  {
   "cell_type": "code",
   "execution_count": 20,
   "metadata": {},
   "outputs": [
    {
     "data": {
      "text/plain": [
       "True"
      ]
     },
     "execution_count": 20,
     "metadata": {},
     "output_type": "execute_result"
    }
   ],
   "source": [
    "coloredPCD = vt.color_point_cloud_by_LOA(joinedPCD, identityArray, distances)\n",
    "# o3d.visualization.draw_geometries(coloredPCD)\n",
    "o3d.io.write_point_cloud(os.path.join(sessionFolder, 'CompleteColoredresult' + '.pcd'), coloredPCD)"
   ]
  },
  {
   "cell_type": "markdown",
   "metadata": {},
   "source": [
    "![image](../../pics/GradientPCD.PNG)\n",
    "\n",
    "***figure 4:*** Pointcloud where the points are colored by their distance"
   ]
  },
  {
   "cell_type": "code",
   "execution_count": 21,
   "metadata": {},
   "outputs": [
    {
     "data": {
      "text/plain": [
       "True"
      ]
     },
     "execution_count": 21,
     "metadata": {},
     "output_type": "execute_result"
    }
   ],
   "source": [
    "gradientPCD = vt.color_point_cloud_by_distance(joinedPCD, identityArray, distances)\n",
    "# o3d.visualization.draw_geometries(coloredPCD)\n",
    "o3d.io.write_point_cloud(os.path.join(sessionFolder, 'CompleteGradientresult' + '.pcd'), gradientPCD)"
   ]
  },
  {
   "cell_type": "markdown",
   "metadata": {},
   "source": [
    "## Data files\n",
    "![image](../../pics/csv.PNG)\n",
    "\n",
    "***figure 5:*** A csv file with the analysis results"
   ]
  },
  {
   "cell_type": "code",
   "execution_count": 22,
   "metadata": {},
   "outputs": [
    {
     "data": {
      "text/plain": [
       "True"
      ]
     },
     "execution_count": 22,
     "metadata": {},
     "output_type": "execute_result"
    }
   ],
   "source": [
    "vt.csv_by_LOA(sessionFolder, LOA, visibility=visibility)"
   ]
  },
  {
   "cell_type": "markdown",
   "metadata": {},
   "source": [
    "![image](../../pics/excel.PNG)\n",
    "\n",
    "***figure 6:*** Excel file with the analysis results"
   ]
  },
  {
   "cell_type": "code",
   "execution_count": 23,
   "metadata": {},
   "outputs": [
    {
     "data": {
      "text/plain": [
       "True"
      ]
     },
     "execution_count": 23,
     "metadata": {},
     "output_type": "execute_result"
    }
   ],
   "source": [
    "vt.excel_by_LOA(sessionFolder, LOA, visibility=visibility)"
   ]
  },
  {
   "cell_type": "markdown",
   "metadata": {},
   "source": [
    "## Meshes\n",
    "![image](../../pics/ColoredMesh.PNG)\n",
    "\n",
    "***figure 7:*** Mesh colored according to the LOA level of the element"
   ]
  },
  {
   "cell_type": "code",
   "execution_count": 24,
   "metadata": {},
   "outputs": [],
   "source": [
    "vt.color_BIMNode(LOA, BIMNodes)\n",
    "geometries = [BIMNode.resource for BIMNode in BIMNodes]\n",
    "for BIMNode in BIMNodes:\n",
    "    BIMNode.save_resource(directory = os.path.join(sessionFolder, \"meshes\"))\n",
    "# o3d.visualization.draw_geometries(geometries)"
   ]
  }
 ],
 "metadata": {
  "kernelspec": {
   "display_name": "conda_environment3",
   "language": "python",
   "name": "python3"
  },
  "language_info": {
   "codemirror_mode": {
    "name": "ipython",
    "version": 3
   },
   "file_extension": ".py",
   "mimetype": "text/x-python",
   "name": "python",
   "nbconvert_exporter": "python",
   "pygments_lexer": "ipython3",
   "version": "3.8.13 | packaged by conda-forge | (default, Mar 25 2022, 05:59:00) [MSC v.1929 64 bit (AMD64)]"
  },
  "orig_nbformat": 4,
  "vscode": {
   "interpreter": {
    "hash": "801b4083378541fd050d6c91abf6ec053c863905e8162e031d57b83e7cdb3051"
   }
  }
 },
 "nbformat": 4,
 "nbformat_minor": 2
}

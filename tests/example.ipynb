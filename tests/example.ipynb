{
 "cells": [
  {
   "cell_type": "code",
   "execution_count": 1,
   "metadata": {},
   "outputs": [
    {
     "name": "stdout",
     "output_type": "stream",
     "text": [
      "Jupyter environment detected. Enabling Open3D WebVisualizer.\n",
      "[Open3D INFO] WebRTC GUI backend enabled.\n",
      "[Open3D INFO] WebRTCWindowSystem: HTTP handshake server disabled.\n"
     ]
    },
    {
     "ename": "ModuleNotFoundError",
     "evalue": "No module named 'shapely'",
     "output_type": "error",
     "traceback": [
      "\u001b[1;31m---------------------------------------------------------------------------\u001b[0m",
      "\u001b[1;31mModuleNotFoundError\u001b[0m                       Traceback (most recent call last)",
      "\u001b[1;32md:\\geomapi\\tests\\example.ipynb Cell 1\u001b[0m line \u001b[0;36m<cell line: 15>\u001b[1;34m()\u001b[0m\n\u001b[0;32m     <a href='vscode-notebook-cell:/d%3A/geomapi/tests/example.ipynb#W0sZmlsZQ%3D%3D?line=11'>12</a>\u001b[0m \u001b[39mimport\u001b[39;00m \u001b[39mtime\u001b[39;00m\n\u001b[0;32m     <a href='vscode-notebook-cell:/d%3A/geomapi/tests/example.ipynb#W0sZmlsZQ%3D%3D?line=12'>13</a>\u001b[0m \u001b[39mimport\u001b[39;00m \u001b[39mifcopenshell\u001b[39;00m\n\u001b[1;32m---> <a href='vscode-notebook-cell:/d%3A/geomapi/tests/example.ipynb#W0sZmlsZQ%3D%3D?line=14'>15</a>\u001b[0m \u001b[39mimport\u001b[39;00m \u001b[39mshapely\u001b[39;00m\n",
      "\u001b[1;31mModuleNotFoundError\u001b[0m: No module named 'shapely'"
     ]
    }
   ],
   "source": [
    "#IMPORT PACKAGES\n",
    "import sys\n",
    "import os\n",
    "from rdflib import Graph\n",
    "from pathlib import Path\n",
    "import rdflib\n",
    "import open3d as o3d\n",
    "import numpy as np\n",
    "import cv2\n",
    "import ezdxf as cad\n",
    "import pye57 \n",
    "import time\n",
    "import ifcopenshell\n",
    "\n",
    "import shapely\n",
    "\n",
    "\n",
    "# from rdflib import Graph, URIRef\n",
    "# import os.path\n",
    "# import importlib\n",
    "# import numpy as np\n",
    "# import xml.etree.ElementTree as ET\n",
    "# import open3d as o3d\n",
    "# import uuid    \n",
    "# import pye57 \n",
    "# import ifcopenshell\n",
    "# import ifcopenshell.geom as geom\n",
    "# import ifcopenshell.util\n",
    "# from ifcopenshell.util.selector import Selector\n",
    "# import random as rd\n",
    "# import pandas as pd\n",
    "# from tabulate import tabulate\n",
    "# import cv2\n",
    "\n",
    "\n",
    "# #IMPORT MODULES\n",
    "# from context import geomapi \n",
    "# from geomapi.nodes import *\n",
    "# import geomapi.utils as ut\n",
    "# from geomapi.utils import geometryutils as gmu\n",
    "# import geomapi.tools as tl"
   ]
  },
  {
   "cell_type": "code",
   "execution_count": null,
   "metadata": {},
   "outputs": [],
   "source": [
    "%autoreload 2"
   ]
  },
  {
   "cell_type": "code",
   "execution_count": null,
   "metadata": {},
   "outputs": [
    {
     "name": "stdout",
     "output_type": "stream",
     "text": [
      "The autoreload extension is already loaded. To reload it, use:\n",
      "  %reload_ext autoreload\n"
     ]
    }
   ],
   "source": [
    "%load_ext autoreload"
   ]
  },
  {
   "cell_type": "code",
   "execution_count": null,
   "metadata": {},
   "outputs": [],
   "source": [
    "# #GEOMAPI\n",
    "parent_dir = os.path.dirname(Path(os.getcwd()))\n",
    "sys.path.append(parent_dir)\n",
    "import geomapi.utils.geometryutils as gmu\n",
    "import geomapi.utils as ut\n",
    "from geomapi.nodes import *"
   ]
  },
  {
   "cell_type": "code",
   "execution_count": null,
   "metadata": {},
   "outputs": [
    {
     "name": "stdout",
     "output_type": "stream",
     "text": [
      "Creating Road DataLoader:\n",
      "    loaded d:\\geomapi\\tests\\testfiles\\graphs\\parking_resource_graph.ttl\n",
      "    loaded 64 bimNodes from ifc file\n",
      "    loaded d:\\geomapi\\tests\\testfiles\\graphs\\road_ifc_graph.ttl\n",
      "    loaded PointCloud with 700000 points.\n",
      "    loaded d:\\geomapi\\tests\\testfiles\\pcd\\lidar.e57\n",
      "    loaded d:\\geomapi\\tests\\testfiles\\graphs\\pcd_graph.ttl\n",
      "    loaded TriangleMesh with 26002 points and 49999 triangles.\n",
      "    loaded d:\\geomapi\\tests\\testfiles\\graphs\\mesh_graph.ttl\n",
      "    loaded d:\\geomapi\\tests\\testfiles\\graphs\\road_img_graph.ttl\n",
      "    loaded d:\\geomapi\\tests\\testfiles\\img\\101_0367_0007.JPG\n",
      "    loaded d:\\geomapi\\tests\\testfiles\\img\\101_0367_0055.JPG\n",
      "DataLoader succesfully loaded in 6.031972885131836 seconds!\n",
      "Creating Parking DataLoader:\n",
      "    loaded d:\\geomapi\\tests\\testfiles\\graphs\\parking_resource_graph.ttl\n",
      "    loaded PointCloud with 556485 points.\n",
      "    loaded d:\\geomapi\\tests\\testfiles\\pcd\\lidar.e57\n",
      "    loaded d:\\geomapi\\tests\\testfiles\\pcd\\parking.e57\n",
      "    loaded d:\\geomapi\\tests\\testfiles\\pcd\\parking.las\n",
      "    loaded d:\\geomapi\\tests\\testfiles\\graphs\\pcd_graph.ttl\n",
      "    loaded TriangleMesh with 62135 points and 49999 triangles.\n",
      "    loaded d:\\geomapi\\tests\\testfiles\\graphs\\mesh_graph.ttl\n",
      "    loaded d:\\geomapi\\tests\\testfiles\\graphs\\parking_img_graph.ttl\n",
      "    loaded d:\\geomapi\\tests\\testfiles\\img\\DJI_0085.JPG\n",
      "    loaded d:\\geomapi\\tests\\testfiles\\img\\IMG_8834.JPG\n",
      "DataLoader succesfully loaded in 2.8994157314300537 seconds!\n"
     ]
    }
   ],
   "source": [
    "#DATA\n",
    "from data_loader_road import DataLoaderRoad\n",
    "dataLoaderRoad=DataLoaderRoad(Path.cwd()/\"testfiles\"  )\n",
    "\n",
    "from data_loader_parking import DataLoaderParking\n",
    "dataLoaderParking=DataLoaderParking(Path.cwd()/\"testfiles\"  )"
   ]
  },
  {
   "cell_type": "code",
   "execution_count": null,
   "metadata": {},
   "outputs": [],
   "source": [
    "# # imgNodes=[geomapi.imgNode(xmlPath=imageXmpPath1),imgNode(xmlPath=imageXmpPath1)]\n",
    "# imgNode1=ImageNode(xmpPath=imageXmpPath1,getResource=True)\n",
    "# imgNode2=ImageNode(xmpPath=imageXmpPath2,getResource=True)\n",
    "# meshNode=MeshNode(path=meshPath,getResource=True)\n",
    "# pcdNode=PointCloudNode(path=pcdPath,getResource=True)"
   ]
  },
  {
   "cell_type": "code",
   "execution_count": null,
   "metadata": {},
   "outputs": [
    {
     "name": "stdout",
     "output_type": "stream",
     "text": [
      "['D:\\\\geomapi\\\\tests\\\\testfiles\\\\IMG\\\\DJI_0085.xmp', 'D:\\\\geomapi\\\\tests\\\\testfiles\\\\IMG\\\\IMG_8834.xmp']\n",
      "2 / 2 Nodes created (remainder is not properly localised)!\n"
     ]
    }
   ],
   "source": [
    "# #get list of files\n",
    "# files=[str(path / 'IMG' / 'DJI_0085.xmp'),str(path / 'IMG' / 'IMG_8834.xmp')]\n",
    "# print(files)\n",
    "# #select every fifth files\n",
    "# imgNodes=[]\n",
    "# for f in files:     \n",
    "#     n=ImageNode(name=ut.get_filename(f),  #! this took quite long from remote drive                            \n",
    "#                                 xmpPath=f,getResource=True)\n",
    "#     del n.resource\n",
    "#     if getattr(n,'imageWidth',None) is not None:\n",
    "#     #delete resource\n",
    "    \n",
    "\n",
    "#         #set focallength and cartesianTransform\n",
    "#         n.focalLength35mm=n.focalLength35mm/36*n.imageWidth #! multiple definitions possible    \n",
    "#         rotation= n.cartesianTransform[0:3,0:3].T #! RC uses column-based rotaton matrix\n",
    "#         translation=n.cartesianTransform[0:3,3]\n",
    "#         n.cartesianTransform=gmu.get_cartesian_transform(rotation=rotation,translation=translation)\n",
    "        \n",
    "#         imgNodes.append(n)\n",
    "    \n",
    "# number=len(imgNodes)\n",
    "# imgNodes=[n for n in imgNodes if all(n.cartesianTransform[0:3,3] !=0)]\n",
    "# joinedImages=gmu.join_geometries([gmu.generate_visual_cone_from_image(n.cartesianTransform, height =1).paint_uniform_color([1,0,0]) for n in imgNodes])\n",
    "# print(f\"{len(imgNodes)} / {number} Nodes created (remainder is not properly localised)!\")"
   ]
  },
  {
   "cell_type": "code",
   "execution_count": null,
   "metadata": {},
   "outputs": [
    {
     "ename": "AttributeError",
     "evalue": "'DataLoaderRoad' object has no attribute 'meshSubject'",
     "output_type": "error",
     "traceback": [
      "\u001b[1;31m---------------------------------------------------------------------------\u001b[0m",
      "\u001b[1;31mAttributeError\u001b[0m                            Traceback (most recent call last)",
      "\u001b[1;32md:\\geomapi\\tests\\example.ipynb Cell 8\u001b[0m line \u001b[0;36m<cell line: 1>\u001b[1;34m()\u001b[0m\n\u001b[1;32m----> <a href='vscode-notebook-cell:/d%3A/geomapi/tests/example.ipynb#X15sZmlsZQ%3D%3D?line=0'>1</a>\u001b[0m node\u001b[39m=\u001b[39m MeshNode(subject\u001b[39m=\u001b[39mdataLoaderRoad\u001b[39m.\u001b[39;49mmeshSubject,\n\u001b[0;32m      <a href='vscode-notebook-cell:/d%3A/geomapi/tests/example.ipynb#X15sZmlsZQ%3D%3D?line=1'>2</a>\u001b[0m                     path\u001b[39m=\u001b[39mdataLoaderRoad\u001b[39m.\u001b[39mmeshPath,\n\u001b[0;32m      <a href='vscode-notebook-cell:/d%3A/geomapi/tests/example.ipynb#X15sZmlsZQ%3D%3D?line=2'>3</a>\u001b[0m                     graph\u001b[39m=\u001b[39mdataLoaderRoad\u001b[39m.\u001b[39mmeshGraph,\n\u001b[0;32m      <a href='vscode-notebook-cell:/d%3A/geomapi/tests/example.ipynb#X15sZmlsZQ%3D%3D?line=3'>4</a>\u001b[0m                     getResource\u001b[39m=\u001b[39m\u001b[39mTrue\u001b[39;00m)\n\u001b[0;32m      <a href='vscode-notebook-cell:/d%3A/geomapi/tests/example.ipynb#X15sZmlsZQ%3D%3D?line=4'>5</a>\u001b[0m \u001b[39mprint\u001b[39m(node\u001b[39m.\u001b[39msubject,dataLoaderRoad\u001b[39m.\u001b[39mmeshSubject)\n\u001b[0;32m      <a href='vscode-notebook-cell:/d%3A/geomapi/tests/example.ipynb#X15sZmlsZQ%3D%3D?line=5'>6</a>\u001b[0m node\u001b[39m.\u001b[39mto_graph()\n",
      "\u001b[1;31mAttributeError\u001b[0m: 'DataLoaderRoad' object has no attribute 'meshSubject'"
     ]
    }
   ],
   "source": [
    "node= MeshNode(subject=dataLoaderRoad.meshSubject,\n",
    "                    path=dataLoaderRoad.meshPath,\n",
    "                    graph=dataLoaderRoad.meshGraph,\n",
    "                    getResource=True)\n",
    "print(node.subject,dataLoaderRoad.meshSubject)\n",
    "node.to_graph()\n",
    "initialGraph=ut.get_subject_graph(dataLoaderRoad.meshGraph,subject=dataLoaderRoad.meshSubject)\n",
    "print(len(node.graph),len(initialGraph))\n",
    "box= dataLoaderRoad.mesh.get_axis_aligned_bounding_box()\n",
    "min=box.get_min_bound()\n",
    "print(node.cartesianBounds[0],min[0],delta=0.01)"
   ]
  },
  {
   "cell_type": "code",
   "execution_count": 12,
   "metadata": {},
   "outputs": [
    {
     "name": "stdout",
     "output_type": "stream",
     "text": [
      "[<trimesh.Trimesh(vertices.shape=(29271, 3), faces.shape=(53387, 3))>]\n"
     ]
    }
   ],
   "source": [
    "sourceMesh=gmu.mesh_to_trimesh(dataLoaderParking.mesh)\n",
    "cutters=[gmu.mesh_to_trimesh(mesh) for mesh in dataLoaderParking.bimMeshes]\n",
    "\n",
    "innerCrop=gmu.crop_mesh_by_convex_hull(source=sourceMesh, cutters=cutters, inside = True )\n",
    "outerCrop=gmu.crop_mesh_by_convex_hull(source=sourceMesh, cutters=cutters[0], inside = False ) \n",
    "\n",
    "print(outerCrop)\n",
    "# len(innerCrop)\n",
    "# len(innerCrop[0].vertices)\n",
    "# len(innerCrop[1].vertices)"
   ]
  },
  {
   "cell_type": "code",
   "execution_count": 132,
   "metadata": {},
   "outputs": [],
   "source": [
    "boxGt=dataLoaderRoad.mesh.get_axis_aligned_bounding_box()\n",
    "boxGt.color=[0,1,0]\n",
    "boxPointsGt=np.asarray(boxGt.get_box_points())\n",
    "cartesianBounds=gmu.get_cartesian_bounds(dataLoaderRoad.mesh)\n",
    "box=gmu.get_oriented_bounding_box(cartesianBounds)\n",
    "box.color=[1,0,0]\n",
    "boxPoints=np.asarray(box.get_box_points())\n"
   ]
  },
  {
   "cell_type": "code",
   "execution_count": 135,
   "metadata": {},
   "outputs": [],
   "source": [
    "o3d.visualization.draw_geometries( [dataLoaderRoad.mesh,box])"
   ]
  },
  {
   "cell_type": "code",
   "execution_count": 7,
   "metadata": {},
   "outputs": [
    {
     "data": {
      "text/plain": [
       "'[[-8.13902571e-02]\\n [ 6.83059476e-01]\\n [-7.25813597e-01]\\n [ 5.18276221e+01]\\n [ 9.96648497e-01]\\n [ 4.97790854e-02]\\n [-6.49139139e-02]\\n [ 6.10007435e+01]\\n [-8.20972697e-03]\\n [-7.28664391e-01]\\n [-6.84821733e-01]\\n [ 1.50408221e+01]\\n [ 0.00000000e+00]\\n [ 0.00000000e+00]\\n [ 0.00000000e+00]\\n [ 1.00000000e+00]]'"
      ]
     },
     "execution_count": 7,
     "metadata": {},
     "output_type": "execute_result"
    }
   ],
   "source": [
    "ut.cartesianTransform_to_literal(imageCartesianTransform1)"
   ]
  },
  {
   "cell_type": "code",
   "execution_count": 10,
   "metadata": {},
   "outputs": [
    {
     "ename": "AssertionError",
     "evalue": "",
     "output_type": "error",
     "traceback": [
      "\u001b[1;31m---------------------------------------------------------------------------\u001b[0m",
      "\u001b[1;31mAssertionError\u001b[0m                            Traceback (most recent call last)",
      "\u001b[1;32m~\\AppData\\Local\\Temp/ipykernel_11772/2115818224.py\u001b[0m in \u001b[0;36m<module>\u001b[1;34m\u001b[0m\n\u001b[1;32m----> 1\u001b[1;33m \u001b[1;32massert\u001b[0m \u001b[1;34m'-8.1390571e-02'\u001b[0m \u001b[1;32min\u001b[0m \u001b[0mut\u001b[0m\u001b[1;33m.\u001b[0m\u001b[0mcartesianTransform_to_literal\u001b[0m\u001b[1;33m(\u001b[0m\u001b[0mimageCartesianTransform1\u001b[0m\u001b[1;33m)\u001b[0m\u001b[1;33m\u001b[0m\u001b[1;33m\u001b[0m\u001b[0m\n\u001b[0m",
      "\u001b[1;31mAssertionError\u001b[0m: "
     ]
    }
   ],
   "source": [
    "assert '-8.1390571e-02' in ut.cartesianTransform_to_literal(imageCartesianTransform1)"
   ]
  }
 ],
 "metadata": {
  "kernelspec": {
   "display_name": "conda_environment3",
   "language": "python",
   "name": "python3"
  },
  "language_info": {
   "codemirror_mode": {
    "name": "ipython",
    "version": 3
   },
   "file_extension": ".py",
   "mimetype": "text/x-python",
   "name": "python",
   "nbconvert_exporter": "python",
   "pygments_lexer": "ipython3",
   "version": "3.9.13"
  },
  "orig_nbformat": 4,
  "vscode": {
   "interpreter": {
    "hash": "801b4083378541fd050d6c91abf6ec053c863905e8162e031d57b83e7cdb3051"
   }
  }
 },
 "nbformat": 4,
 "nbformat_minor": 2
}

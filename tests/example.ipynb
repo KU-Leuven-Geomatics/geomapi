{
 "cells": [
  {
   "cell_type": "code",
   "execution_count": 68,
   "metadata": {},
   "outputs": [],
   "source": [
    "#IMPORT PACKAGES\n",
    "import sys\n",
    "import os\n",
    "from rdflib import Graph\n",
    "from pathlib import Path\n",
    "import rdflib\n",
    "import open3d as o3d\n",
    "import numpy as np\n",
    "import cv2\n",
    "import ezdxf as cad\n",
    "import pye57 \n",
    "import time\n",
    "import ifcopenshell\n",
    "\n",
    "# import shapely\n",
    "from rdflib import RDF, RDFS, Graph, Literal, URIRef\n",
    "\n",
    "\n",
    "# from rdflib import Graph, URIRef\n",
    "# import os.path\n",
    "# import importlib\n",
    "# import numpy as np\n",
    "# import xml.etree.ElementTree as ET\n",
    "# import open3d as o3d\n",
    "# import uuid    \n",
    "# import pye57 \n",
    "# import ifcopenshell\n",
    "# import ifcopenshell.geom as geom\n",
    "# import ifcopenshell.util\n",
    "# from ifcopenshell.util.selector import Selector\n",
    "# import random as rd\n",
    "# import pandas as pd\n",
    "# from tabulate import tabulate\n",
    "# import cv2\n",
    "\n",
    "\n",
    "# #IMPORT MODULES\n",
    "# from context import geomapi \n",
    "# from geomapi.nodes import *\n",
    "# import geomapi.utils as ut\n",
    "# from geomapi.utils import geometryutils as gmu\n",
    "# import geomapi.tools as tl"
   ]
  },
  {
   "cell_type": "code",
   "execution_count": 69,
   "metadata": {},
   "outputs": [],
   "source": [
    "%autoreload 2"
   ]
  },
  {
   "cell_type": "code",
   "execution_count": 70,
   "metadata": {},
   "outputs": [
    {
     "name": "stdout",
     "output_type": "stream",
     "text": [
      "The autoreload extension is already loaded. To reload it, use:\n",
      "  %reload_ext autoreload\n"
     ]
    }
   ],
   "source": [
    "%load_ext autoreload"
   ]
  },
  {
   "cell_type": "code",
   "execution_count": 71,
   "metadata": {},
   "outputs": [],
   "source": [
    "# #GEOMAPI\n",
    "parent_dir = os.path.dirname(Path(os.getcwd()))\n",
    "sys.path.append(parent_dir)\n",
    "import geomapi.utils.geometryutils as gmu\n",
    "import geomapi.utils as ut\n",
    "from geomapi.nodes import *"
   ]
  },
  {
   "cell_type": "code",
   "execution_count": 72,
   "metadata": {},
   "outputs": [
    {
     "name": "stdout",
     "output_type": "stream",
     "text": [
      "Creating Road DataLoader:\n",
      "    loaded d:\\geomapi\\tests\\testfiles\\graphs\\road_session_graph.ttl\n",
      "    loaded 64 bimNodes from ifc file\n",
      "    loaded d:\\geomapi\\tests\\testfiles\\graphs\\road_ifc_graph.ttl\n",
      "    loaded PointCloud with 700000 points.\n",
      "    loaded d:\\geomapi\\tests\\testfiles\\pcd\\lidar.e57\n",
      "    loaded d:\\geomapi\\tests\\testfiles\\graphs\\pcd_graph.ttl\n",
      "    loaded TriangleMesh with 26002 points and 49999 triangles.\n",
      "    loaded d:\\geomapi\\tests\\testfiles\\graphs\\mesh_graph.ttl\n",
      "    loaded d:\\geomapi\\tests\\testfiles\\graphs\\road_img_graph.ttl\n",
      "    loaded d:\\geomapi\\tests\\testfiles\\img\\101_0367_0007.JPG\n",
      "    loaded d:\\geomapi\\tests\\testfiles\\img\\101_0367_0055.JPG\n",
      "DataLoader succesfully loaded in 6.486962080001831 seconds!\n",
      "Creating Parking DataLoader:\n",
      "    loaded d:\\geomapi\\tests\\testfiles\\graphs\\parking_resource_graph.ttl\n",
      "    loaded PointCloud with 556485 points.\n",
      "    loaded d:\\geomapi\\tests\\testfiles\\pcd\\lidar.e57\n",
      "    loaded d:\\geomapi\\tests\\testfiles\\pcd\\parking.e57\n",
      "    loaded d:\\geomapi\\tests\\testfiles\\pcd\\parking.las\n",
      "    loaded d:\\geomapi\\tests\\testfiles\\graphs\\pcd_graph.ttl\n",
      "    loaded TriangleMesh with 62135 points and 49999 triangles.\n",
      "    loaded d:\\geomapi\\tests\\testfiles\\graphs\\mesh_graph.ttl\n",
      "    loaded d:\\geomapi\\tests\\testfiles\\graphs\\parking_ifc_graph.ttl\n",
      "    loaded d:\\geomapi\\tests\\testfiles\\graphs\\parking_img_graph.ttl\n",
      "    loaded d:\\geomapi\\tests\\testfiles\\img\\DJI_0085.JPG\n",
      "    loaded d:\\geomapi\\tests\\testfiles\\img\\IMG_8834.JPG\n",
      "DataLoader succesfully loaded in 3.287785053253174 seconds!\n"
     ]
    }
   ],
   "source": [
    "#DATA\n",
    "from data_loader_road import DataLoaderRoad\n",
    "dataLoaderRoad=DataLoaderRoad(Path.cwd()/\"testfiles\"  )\n",
    "\n",
    "from data_loader_parking import DataLoaderParking\n",
    "dataLoaderParking=DataLoaderParking(Path.cwd()/\"testfiles\"  )"
   ]
  },
  {
   "cell_type": "code",
   "execution_count": 73,
   "metadata": {},
   "outputs": [],
   "source": [
    "# # imgNodes=[geomapi.imgNode(xmlPath=imageXmpPath1),imgNode(xmlPath=imageXmpPath1)]\n",
    "# imgNode1=ImageNode(xmpPath=imageXmpPath1,getResource=True)\n",
    "# imgNode2=ImageNode(xmpPath=imageXmpPath2,getResource=True)\n",
    "# meshNode=MeshNode(path=meshPath,getResource=True)\n",
    "# pcdNode=PointCloudNode(path=pcdPath,getResource=True)"
   ]
  },
  {
   "cell_type": "markdown",
   "metadata": {},
   "source": []
  },
  {
   "cell_type": "code",
   "execution_count": 74,
   "metadata": {},
   "outputs": [],
   "source": [
    "# #get list of files\n",
    "# files=[str(path / 'IMG' / 'DJI_0085.xmp'),str(path / 'IMG' / 'IMG_8834.xmp')]\n",
    "# print(files)\n",
    "# #select every fifth files\n",
    "# imgNodes=[]\n",
    "# for f in files:     \n",
    "#     n=ImageNode(name=ut.get_filename(f),  #! this took quite long from remote drive                            \n",
    "#                                 xmpPath=f,getResource=True)\n",
    "#     del n.resource\n",
    "#     if getattr(n,'imageWidth',None) is not None:\n",
    "#     #delete resource\n",
    "    \n",
    "\n",
    "#         #set focallength and cartesianTransform\n",
    "#         n.focalLength35mm=n.focalLength35mm/36*n.imageWidth #! multiple definitions possible    \n",
    "#         rotation= n.cartesianTransform[0:3,0:3].T #! RC uses column-based rotaton matrix\n",
    "#         translation=n.cartesianTransform[0:3,3]\n",
    "#         n.cartesianTransform=gmu.get_cartesian_transform(rotation=rotation,translation=translation)\n",
    "        \n",
    "#         imgNodes.append(n)\n",
    "    \n",
    "# number=len(imgNodes)\n",
    "# imgNodes=[n for n in imgNodes if all(n.cartesianTransform[0:3,3] !=0)]\n",
    "# joinedImages=gmu.join_geometries([gmu.generate_visual_cone_from_image(n.cartesianTransform, height =1).paint_uniform_color([1,0,0]) for n in imgNodes])\n",
    "# print(f\"{len(imgNodes)} / {number} Nodes created (remainder is not properly localised)!\")"
   ]
  },
  {
   "cell_type": "code",
   "execution_count": 77,
   "metadata": {},
   "outputs": [
    {
     "name": "stdout",
     "output_type": "stream",
     "text": [
      "no sessionSubjects found\n"
     ]
    },
    {
     "data": {
      "text/plain": [
       "True"
      ]
     },
     "execution_count": 77,
     "metadata": {},
     "output_type": "execute_result"
    }
   ],
   "source": [
    "node= SessionNode(graph=dataLoaderParking.resourceGraph)\n",
    "node.to_graph()\n",
    "node.save_graph(graphPath=r'D:\\geomapi\\tests\\testfiles\\graphs\\road_session_graph.ttl')"
   ]
  },
  {
   "cell_type": "code",
   "execution_count": 122,
   "metadata": {},
   "outputs": [
    {
     "name": "stdout",
     "output_type": "stream",
     "text": [
      "64 64\n",
      "[ 0  1  2  3  4  5  6  7  8  9 10 11 12 13 14 15 16 17 18 19 20 21 22 23\n",
      " 24 25 26 27 28 29 30 31 32 33 34 35 36 37 38 39 40 41 42 43 44 45 46 47\n",
      " 48 49 50 51 52 53 54 55 56 57 58 59 60 61 62 63]\n"
     ]
    }
   ],
   "source": [
    "import geomapi.tools as tl\n",
    "pcdNode = PointCloudNode(path=dataLoaderRoad.pcdPath,getResource=True)\n",
    "nodes=tl.ifc_to_nodes_multiprocessing(path=dataLoaderRoad.ifcPath,getResource=True)\n",
    "print(len(nodes),64)\n",
    "\n",
    "list= tl.select_nodes_with_intersecting_resources(pcdNode,nodes)"
   ]
  },
  {
   "cell_type": "code",
   "execution_count": 119,
   "metadata": {},
   "outputs": [
    {
     "ename": "IndexError",
     "evalue": "list index out of range",
     "output_type": "error",
     "traceback": [
      "\u001b[1;31m---------------------------------------------------------------------------\u001b[0m",
      "\u001b[1;31mIndexError\u001b[0m                                Traceback (most recent call last)",
      "\u001b[1;32md:\\geomapi\\tests\\example.ipynb Cell 11\u001b[0m line \u001b[0;36m<cell line: 1>\u001b[1;34m()\u001b[0m\n\u001b[1;32m----> <a href='vscode-notebook-cell:/d%3A/geomapi/tests/example.ipynb#X40sZmlsZQ%3D%3D?line=0'>1</a>\u001b[0m nodes[\u001b[39m0\u001b[39;49m]\u001b[39m.\u001b[39mresource\n",
      "\u001b[1;31mIndexError\u001b[0m: list index out of range"
     ]
    }
   ],
   "source": [
    "nodes[0].resource"
   ]
  },
  {
   "cell_type": "code",
   "execution_count": 117,
   "metadata": {},
   "outputs": [
    {
     "ename": "TypeError",
     "evalue": "draw_geometries(): incompatible function arguments. The following argument types are supported:\n    1. (geometry_list: List[open3d.cpu.pybind.geometry.Geometry], window_name: str = 'Open3D', width: int = 1920, height: int = 1080, left: int = 50, top: int = 50, point_show_normal: bool = False, mesh_show_wireframe: bool = False, mesh_show_back_face: bool = False) -> None\n    2. (geometry_list: List[open3d.cpu.pybind.geometry.Geometry], window_name: str = 'Open3D', width: int = 1920, height: int = 1080, left: int = 50, top: int = 50, point_show_normal: bool = False, mesh_show_wireframe: bool = False, mesh_show_back_face: bool = False, lookat: numpy.ndarray[numpy.float64[3, 1]], up: numpy.ndarray[numpy.float64[3, 1]], front: numpy.ndarray[numpy.float64[3, 1]], zoom: float) -> None\n\nInvoked with: [[], PointCloud with 700000 points.]",
     "output_type": "error",
     "traceback": [
      "\u001b[1;31m---------------------------------------------------------------------------\u001b[0m",
      "\u001b[1;31mTypeError\u001b[0m                                 Traceback (most recent call last)",
      "\u001b[1;32md:\\geomapi\\tests\\example.ipynb Cell 12\u001b[0m line \u001b[0;36m<cell line: 1>\u001b[1;34m()\u001b[0m\n\u001b[1;32m----> <a href='vscode-notebook-cell:/d%3A/geomapi/tests/example.ipynb#X20sZmlsZQ%3D%3D?line=0'>1</a>\u001b[0m o3d\u001b[39m.\u001b[39;49mvisualization\u001b[39m.\u001b[39;49mdraw_geometries([gmu\u001b[39m.\u001b[39;49mjoin_geometries([n\u001b[39m.\u001b[39;49mresource \u001b[39mfor\u001b[39;49;00m n \u001b[39min\u001b[39;49;00m nodes]),pcdNode\u001b[39m.\u001b[39;49mresource])\n",
      "\u001b[1;31mTypeError\u001b[0m: draw_geometries(): incompatible function arguments. The following argument types are supported:\n    1. (geometry_list: List[open3d.cpu.pybind.geometry.Geometry], window_name: str = 'Open3D', width: int = 1920, height: int = 1080, left: int = 50, top: int = 50, point_show_normal: bool = False, mesh_show_wireframe: bool = False, mesh_show_back_face: bool = False) -> None\n    2. (geometry_list: List[open3d.cpu.pybind.geometry.Geometry], window_name: str = 'Open3D', width: int = 1920, height: int = 1080, left: int = 50, top: int = 50, point_show_normal: bool = False, mesh_show_wireframe: bool = False, mesh_show_back_face: bool = False, lookat: numpy.ndarray[numpy.float64[3, 1]], up: numpy.ndarray[numpy.float64[3, 1]], front: numpy.ndarray[numpy.float64[3, 1]], zoom: float) -> None\n\nInvoked with: [[], PointCloud with 700000 points.]"
     ]
    }
   ],
   "source": [
    "o3d.visualization.draw_geometries([gmu.join_geometries([n.resource for n in nodes]),pcdNode.resource])"
   ]
  },
  {
   "cell_type": "code",
   "execution_count": 7,
   "metadata": {},
   "outputs": [
    {
     "data": {
      "text/plain": [
       "'[[-8.13902571e-02]\\n [ 6.83059476e-01]\\n [-7.25813597e-01]\\n [ 5.18276221e+01]\\n [ 9.96648497e-01]\\n [ 4.97790854e-02]\\n [-6.49139139e-02]\\n [ 6.10007435e+01]\\n [-8.20972697e-03]\\n [-7.28664391e-01]\\n [-6.84821733e-01]\\n [ 1.50408221e+01]\\n [ 0.00000000e+00]\\n [ 0.00000000e+00]\\n [ 0.00000000e+00]\\n [ 1.00000000e+00]]'"
      ]
     },
     "execution_count": 7,
     "metadata": {},
     "output_type": "execute_result"
    }
   ],
   "source": [
    "ut.cartesianTransform_to_literal(imageCartesianTransform1)"
   ]
  },
  {
   "cell_type": "code",
   "execution_count": 10,
   "metadata": {},
   "outputs": [
    {
     "ename": "AssertionError",
     "evalue": "",
     "output_type": "error",
     "traceback": [
      "\u001b[1;31m---------------------------------------------------------------------------\u001b[0m",
      "\u001b[1;31mAssertionError\u001b[0m                            Traceback (most recent call last)",
      "\u001b[1;32m~\\AppData\\Local\\Temp/ipykernel_11772/2115818224.py\u001b[0m in \u001b[0;36m<module>\u001b[1;34m\u001b[0m\n\u001b[1;32m----> 1\u001b[1;33m \u001b[1;32massert\u001b[0m \u001b[1;34m'-8.1390571e-02'\u001b[0m \u001b[1;32min\u001b[0m \u001b[0mut\u001b[0m\u001b[1;33m.\u001b[0m\u001b[0mcartesianTransform_to_literal\u001b[0m\u001b[1;33m(\u001b[0m\u001b[0mimageCartesianTransform1\u001b[0m\u001b[1;33m)\u001b[0m\u001b[1;33m\u001b[0m\u001b[1;33m\u001b[0m\u001b[0m\n\u001b[0m",
      "\u001b[1;31mAssertionError\u001b[0m: "
     ]
    }
   ],
   "source": [
    "assert '-8.1390571e-02' in ut.cartesianTransform_to_literal(imageCartesianTransform1)"
   ]
  }
 ],
 "metadata": {
  "kernelspec": {
   "display_name": "conda_environment3",
   "language": "python",
   "name": "python3"
  },
  "language_info": {
   "codemirror_mode": {
    "name": "ipython",
    "version": 3
   },
   "file_extension": ".py",
   "mimetype": "text/x-python",
   "name": "python",
   "nbconvert_exporter": "python",
   "pygments_lexer": "ipython3",
   "version": "3.9.13"
  },
  "orig_nbformat": 4,
  "vscode": {
   "interpreter": {
    "hash": "801b4083378541fd050d6c91abf6ec053c863905e8162e031d57b83e7cdb3051"
   }
  }
 },
 "nbformat": 4,
 "nbformat_minor": 2
}

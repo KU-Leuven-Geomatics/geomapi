{
 "cells": [
  {
   "cell_type": "code",
   "execution_count": 29,
   "metadata": {},
   "outputs": [],
   "source": [
    "#IMPORT PACKAGES\n",
    "from rdflib import Graph, URIRef, RDF\n",
    "import os.path\n",
    "import importlib\n",
    "import numpy as np\n",
    "import xml.etree.ElementTree as ET\n",
    "import open3d as o3d\n",
    "import uuid    \n",
    "import copy\n",
    "import pye57 \n",
    "import ifcopenshell\n",
    "import multiprocessing as mp\n",
    "import time\n",
    "from pathlib import Path\n",
    "#IMPORT MODULES\n",
    "from context import geomapi \n",
    "from geomapi.nodes import *\n",
    "import geomapi.utils as ut\n",
    "from geomapi.utils import geometryutils as gmu\n",
    "import geomapi.tools as tl"
   ]
  },
  {
   "cell_type": "code",
   "execution_count": 197,
   "metadata": {},
   "outputs": [
    {
     "name": "stdout",
     "output_type": "stream",
     "text": [
      "The autoreload extension is already loaded. To reload it, use:\n",
      "  %reload_ext autoreload\n"
     ]
    }
   ],
   "source": [
    "%load_ext autoreload"
   ]
  },
  {
   "cell_type": "code",
   "execution_count": 198,
   "metadata": {},
   "outputs": [],
   "source": [
    "%autoreload 2"
   ]
  },
  {
   "cell_type": "code",
   "execution_count": 6,
   "metadata": {},
   "outputs": [],
   "source": [
    "path= os.path.join(os.path.abspath(os.path.join(os.getcwd(), os.pardir)),\"test\",'testfiles')#\"D:\\\\Data\\\\2018-06 Werfopvolging Academiestraat Gent\" \n",
    "ifcPath= os.path.join(path,'IFC','linked project4.ifc' )\n",
    "graphPath= os.path.join(path,'myAnalysisFolder','BIM','bimGraph.ttl')"
   ]
  },
  {
   "cell_type": "code",
   "execution_count": 34,
   "metadata": {},
   "outputs": [
    {
     "name": "stdout",
     "output_type": "stream",
     "text": [
      "[Open3D WARNING] Unable to load file d:\\Scan-to-BIM repository\\geomapi\\test\\testfiles\\myAnalysisFolder\\BIM\\282_SC_f2_Round:Ø30:882687.obj with ASSIMP\n",
      "[Open3D WARNING] Unable to load file d:\\Scan-to-BIM repository\\geomapi\\test\\testfiles\\myAnalysisFolder\\BIM\\282_SC_f2_Round:Ø30:883780.obj with ASSIMP\n",
      "[Open3D WARNING] Unable to load file d:\\Scan-to-BIM repository\\geomapi\\test\\testfiles\\myAnalysisFolder\\BIM\\282_SC_f2_Round:Ø30:883870.obj with ASSIMP\n",
      "3528\n",
      "417\n",
      "220\n"
     ]
    }
   ],
   "source": [
    "BIMNodes=tl.graph_path_to_nodes(graphPath=graphPath,getResource=True)\n",
    "print(len(BIMNodes))\n",
    "ifcBeamNodes=[n for n in BIMNodes if 'IfcBeam' in n.className]\n",
    "print(len(ifcBeamNodes))\n",
    "ifcColumnNodes=[n for n in BIMNodes if 'IfcColumn' in n.className]\n",
    "print(len(ifcColumnNodes))"
   ]
  },
  {
   "cell_type": "code",
   "execution_count": 51,
   "metadata": {},
   "outputs": [
    {
     "name": "stdout",
     "output_type": "stream",
     "text": [
      "3528\n"
     ]
    }
   ],
   "source": [
    "geometries=[n.resource for n in BIMNodes ]\n",
    "print(len(geometries))"
   ]
  },
  {
   "cell_type": "code",
   "execution_count": 236,
   "metadata": {},
   "outputs": [
    {
     "name": "stdout",
     "output_type": "stream",
     "text": [
      "7288\n",
      "7288\n"
     ]
    }
   ],
   "source": [
    "mygeometries=geometries[0:10]\n",
    "pcd,array=gmu.create_identity_point_cloud(mygeometries)\n",
    "print(len(pcd.points))\n",
    "print(len(array))\n",
    "# pcdCropped, percentages= gmu.determine_observable_point_cloud(pcd,indentityArray=array)\n",
    "# print(len(pcdCropped.points))\n",
    "# print(percentages)"
   ]
  },
  {
   "cell_type": "code",
   "execution_count": 239,
   "metadata": {},
   "outputs": [],
   "source": [
    "o3d.visualization.draw_geometries([pcd,identityPointCloud,reference])"
   ]
  },
  {
   "cell_type": "code",
   "execution_count": 241,
   "metadata": {},
   "outputs": [
    {
     "name": "stdout",
     "output_type": "stream",
     "text": [
      "[0, 933, 1028, 1250, 3024, 3390]\n"
     ]
    }
   ],
   "source": [
    "geometryboxes=[g.get_oriented_bounding_box() for g in geometries if g != None]\n",
    "mybox=geometryboxes[0]\n",
    "\n",
    "indices=gmu.get_box_inliers(sourceBox=gmu.expand_box(mybox), testBoxes=geometryboxes) # boxes collision should be tested\n",
    "print(indices)\n",
    "mygeometries=[g for i,g in enumerate( geometries) if i in indices]"
   ]
  },
  {
   "cell_type": "code",
   "execution_count": 232,
   "metadata": {},
   "outputs": [
    {
     "name": "stdout",
     "output_type": "stream",
     "text": [
      "0.0\n",
      "0.45353159851301117\n",
      "0.4365079365079365\n",
      "0.4777777777777778\n",
      "0.6444444444444445\n",
      "0.5624275222265172\n",
      "0.4773218142548596\n",
      "0.466955579631636\n",
      "0.5099337748344371\n",
      "0.5208791208791209\n"
     ]
    }
   ],
   "source": [
    "resolution=0.1\n",
    "identityPointCloud=o3d.geometry.PointCloud()\n",
    "\n",
    "for geometry in mygeometries:\n",
    "    referenceGeometries=[g for g in mygeometries if g !=geometry ]\n",
    "    reference=gmu.join_geometries(referenceGeometries)\n",
    "    scene = o3d.t.geometry.RaycastingScene()\n",
    "    cpuReference = o3d.t.geometry.TriangleMesh.from_legacy(reference)\n",
    "    _ = scene.add_triangles(cpuReference)\n",
    "\n",
    "    # sample mesh\n",
    "    area=geometry.get_surface_area()\n",
    "    count=int(area/(resolution*resolution))\n",
    "    pcd=geometry.sample_points_uniformly(number_of_points=10*count)\n",
    "    pcd=pcd.voxel_down_sample(resolution)\n",
    "    # create identity matrix\n",
    "    query_points = o3d.core.Tensor(np.asarray(pcd.points), dtype=o3d.core.Dtype.Float32)\n",
    "    unsigned_distance = scene.compute_distance(query_points)\n",
    "    occupancy = scene.compute_occupancy(query_points)\n",
    "\n",
    "    indices=np.where((unsigned_distance.numpy() <=0.5*resolution) & (occupancy.numpy() ==0) )[0]     \n",
    "\n",
    "\n",
    "    # for i,p in enumerate(pcd.points):\n",
    "    #     unsigned_distance = scene.compute_distance(p)\n",
    "    #     occupancy = scene.compute_occupancy(p)\n",
    "\n",
    "    #     if unsigned_distance <=0.5*resolution and occupancy==0:\n",
    "    #         indices.append(i)\n",
    "    \n",
    "    #add cropped pcd to \n",
    "    #report percentage\n",
    "    pcdCropped = pcd.select_by_index(indices)\n",
    "    print(len(pcdCropped.points)/len(pcd.points))\n",
    "    identityPointCloud +=pcdCropped\n"
   ]
  },
  {
   "cell_type": "code",
   "execution_count": null,
   "metadata": {},
   "outputs": [],
   "source": [
    "\n",
    "    # sources=ut.item_to_list(sources)\n",
    "    # inliers=[None]*len(sources)\n",
    "\n",
    "    # test=str(type(reference))\n",
    "    # #validate reference\n",
    "    # if ('TriangleMesh' in str(type(reference)) and \n",
    "    #     len(reference.triangles)>=2 and\n",
    "    #     reference.is_watertight()):    \n",
    "    #     pass\n",
    "    # elif 'TriangleMesh' in str(type(reference)) and len(reference.triangles)>=2:\n",
    "    #     reference,_=reference.compute_convex_hull()\n",
    "    # elif ('PointCloud' in str(type(reference)) and len(reference.points)>=3):\n",
    "    #     reference,_=reference.compute_convex_hull()\n",
    "    # else: \n",
    "    #     raise ValueError(' Only TriangleMesh and PointCloud allowed')\n",
    "    #add reference to scene\n",
    "scene = o3d.t.geometry.RaycastingScene()\n",
    "reference = o3d.t.geometry.TriangleMesh.from_legacy(reference)\n",
    "_ = scene.add_triangles(reference)\n",
    "\n",
    "unsigned_distance = scene.compute_distance(query_point)\n",
    "\n",
    "for i,s in enumerate(sources):\n",
    "    #validate sources\n",
    "    if ('TriangleMesh' in str(type(s)) and \n",
    "        len(s.triangles)>=2 and\n",
    "        s.is_watertight()): \n",
    "        pass\n",
    "    elif 'TriangleMesh' in str(type(s)) and len(s.triangles)>=2:\n",
    "        s,_=sources[i].compute_convex_hull()\n",
    "    elif ('PointCloud' in str(type(reference)) and len(reference.points)>=3):\n",
    "        s,_=sources[i].compute_convex_hull()\n",
    "    else:\n",
    "        continue\n",
    "    \n",
    "    #sample geometries\n",
    "    pcd=s.sample_points_uniformly(10)\n",
    "    query_points = o3d.core.Tensor(np.asarray(pcd.points), dtype=o3d.core.Dtype.Float32)\n",
    "    occupancy = scene.compute_occupancy(query_points)\n",
    "    if np.any(occupancy.numpy()):\n",
    "        inliers[i]=True\n",
    "        continue\n",
    "    inliers[i]=False\n",
    "\n",
    "#select indices    \n",
    "ind=np.where(np.asarray(inliers) ==True)[0]     \n",
    "return ind"
   ]
  },
  {
   "cell_type": "code",
   "execution_count": 209,
   "metadata": {},
   "outputs": [
    {
     "name": "stdout",
     "output_type": "stream",
     "text": [
      "1203005\n"
     ]
    }
   ],
   "source": [
    "pointcloud=pcd\n",
    "resolution=0.1\n",
    "indentityArray=array\n",
    "\n",
    "# dists = np.asarray(pointcloud.compute_point_cloud_distance(pointcloud))\n",
    "pcd_tree = o3d.geometry.KDTreeFlann(pcd)\n",
    "\n",
    "unique0, counts0 = np.unique(indentityArray, return_counts=True)\n",
    "indices=[]\n",
    "\n",
    "for p in pointcloud.points:\n",
    "    # [_, idx, _] = pcd_tree.search_hybrid_vector_3d(p, radius=0.5*resolution, max_nn=2)\n",
    "    p=np.asarray(p)\n",
    "    [_, idx, distance] = pcd_tree.search_radius_vector_xd(p, radius =0.2*resolution)\n",
    "    \n",
    "    distance=np.asarray(distance)\n",
    "    if len(np.asarray(idx))==1:\n",
    "        indices.append(np.asarray(idx)[0])\n",
    "    # if len(idx) >1:\n",
    "    #     indices.append(idx)\n",
    "pcdCropped = pointcloud.select_by_index(indices)\n",
    "\n",
    "# print(dists)\n",
    "# indices = np.where((dists < resolution) & (dists >0.001))[0]\n",
    "print(len(indices))"
   ]
  },
  {
   "cell_type": "markdown",
   "metadata": {},
   "source": [
    "for every object, crop the point cloud around it."
   ]
  },
  {
   "cell_type": "code",
   "execution_count": 116,
   "metadata": {},
   "outputs": [
    {
     "ename": "TypeError",
     "evalue": "'BIMNode' object is not iterable",
     "output_type": "error",
     "traceback": [
      "\u001b[1;31m---------------------------------------------------------------------------\u001b[0m",
      "\u001b[1;31mTypeError\u001b[0m                                 Traceback (most recent call last)",
      "\u001b[1;32m~\\AppData\\Local\\Temp/ipykernel_12544/1608754437.py\u001b[0m in \u001b[0;36m<module>\u001b[1;34m\u001b[0m\n\u001b[0;32m      1\u001b[0m \u001b[0mn\u001b[0m\u001b[1;33m=\u001b[0m\u001b[1;36m1\u001b[0m\u001b[1;33m\u001b[0m\u001b[1;33m\u001b[0m\u001b[0m\n\u001b[0;32m      2\u001b[0m \u001b[0mmyNodes\u001b[0m\u001b[1;33m=\u001b[0m\u001b[0mBIMNodes\u001b[0m\u001b[1;33m[\u001b[0m\u001b[1;36m1\u001b[0m\u001b[1;33m]\u001b[0m\u001b[1;33m\u001b[0m\u001b[1;33m\u001b[0m\u001b[0m\n\u001b[1;32m----> 3\u001b[1;33m \u001b[1;32mfor\u001b[0m \u001b[0mnode\u001b[0m \u001b[1;32min\u001b[0m \u001b[0mmyNodes\u001b[0m\u001b[1;33m:\u001b[0m\u001b[1;33m\u001b[0m\u001b[1;33m\u001b[0m\u001b[0m\n\u001b[0m\u001b[0;32m      4\u001b[0m     \u001b[0mbox\u001b[0m\u001b[1;33m=\u001b[0m\u001b[0mnode\u001b[0m\u001b[1;33m.\u001b[0m\u001b[0mget_oriented_bounding_box\u001b[0m\u001b[1;33m(\u001b[0m\u001b[1;33m)\u001b[0m\u001b[1;33m\u001b[0m\u001b[1;33m\u001b[0m\u001b[0m\n\u001b[0;32m      5\u001b[0m     \u001b[0mbox\u001b[0m\u001b[1;33m=\u001b[0m\u001b[0mgt\u001b[0m\u001b[1;33m.\u001b[0m\u001b[0mexpand_box\u001b[0m\u001b[1;33m(\u001b[0m\u001b[0mbox\u001b[0m\u001b[1;33m,\u001b[0m\u001b[0mu\u001b[0m\u001b[1;33m=\u001b[0m\u001b[1;36m0.1\u001b[0m\u001b[1;33m,\u001b[0m\u001b[0mv\u001b[0m\u001b[1;33m=\u001b[0m\u001b[1;36m0.1\u001b[0m\u001b[1;33m,\u001b[0m\u001b[0mw\u001b[0m\u001b[1;33m=\u001b[0m\u001b[1;36m0.1\u001b[0m\u001b[1;33m)\u001b[0m\u001b[1;33m\u001b[0m\u001b[1;33m\u001b[0m\u001b[0m\n",
      "\u001b[1;31mTypeError\u001b[0m: 'BIMNode' object is not iterable"
     ]
    }
   ],
   "source": [
    "n=1\n",
    "myNodes=BIMNodes[1]\n",
    "myNodes\n",
    "for node in myNodes:\n",
    "    box=node.get_oriented_bounding_box()\n",
    "    box=gmu.expand_box(box,u=0.1,v=0.1,w=0.1)\n",
    "    pcdCropped=pcd.crop(box)\n",
    "o3d.visualization.draw_geometries([node.resource,myPcd])"
   ]
  },
  {
   "cell_type": "code",
   "execution_count": 111,
   "metadata": {},
   "outputs": [],
   "source": [
    "dists = np.asarray(pcd_raw.compute_point_cloud_distance(pcdCropped))\n",
    "indices = np.where(dists > 0.00001)[0]\n",
    "pcd_cropped_inv = pcd_raw.select_by_index(indices)"
   ]
  },
  {
   "cell_type": "code",
   "execution_count": 33,
   "metadata": {},
   "outputs": [
    {
     "ename": "NameError",
     "evalue": "name 'BIMNodes' is not defined",
     "output_type": "error",
     "traceback": [
      "\u001b[1;31m---------------------------------------------------------------------------\u001b[0m",
      "\u001b[1;31mNameError\u001b[0m                                 Traceback (most recent call last)",
      "\u001b[1;32m~\\AppData\\Local\\Temp/ipykernel_12544/1760806942.py\u001b[0m in \u001b[0;36m<module>\u001b[1;34m\u001b[0m\n\u001b[1;32m----> 1\u001b[1;33m \u001b[0mbimGeometries\u001b[0m\u001b[1;33m=\u001b[0m\u001b[1;33m[\u001b[0m\u001b[0mn\u001b[0m\u001b[1;33m.\u001b[0m\u001b[0mresource\u001b[0m \u001b[1;32mfor\u001b[0m \u001b[0mn\u001b[0m \u001b[1;32min\u001b[0m \u001b[0mBIMNodes\u001b[0m \u001b[1;32mif\u001b[0m \u001b[1;33m(\u001b[0m\u001b[1;34m'IfcBeam'\u001b[0m \u001b[1;32mnot\u001b[0m \u001b[1;32min\u001b[0m \u001b[0mn\u001b[0m\u001b[1;33m.\u001b[0m\u001b[0mclassName\u001b[0m \u001b[1;32mand\u001b[0m \u001b[1;34m'IfcColumn'\u001b[0m \u001b[1;32mnot\u001b[0m \u001b[1;32min\u001b[0m \u001b[0mn\u001b[0m\u001b[1;33m.\u001b[0m\u001b[0mclassName\u001b[0m\u001b[1;33m)\u001b[0m\u001b[1;33m]\u001b[0m\u001b[1;33m\u001b[0m\u001b[1;33m\u001b[0m\u001b[0m\n\u001b[0m",
      "\u001b[1;31mNameError\u001b[0m: name 'BIMNodes' is not defined"
     ]
    }
   ],
   "source": [
    "bimGeometries=[n.resource for n in BIMNodes if ('IfcBeam' not in n.className and 'IfcColumn' not in n.className)]"
   ]
  },
  {
   "cell_type": "code",
   "execution_count": null,
   "metadata": {},
   "outputs": [],
   "source": [
    "percentages=gmu.determine_percentage_of_coverage(sources: o3d.geometry, reference:o3d.geometry,threshold:float=0.1)"
   ]
  }
 ],
 "metadata": {
  "kernelspec": {
   "display_name": "Python 3.8.13 ('conda_environment3')",
   "language": "python",
   "name": "python3"
  },
  "language_info": {
   "codemirror_mode": {
    "name": "ipython",
    "version": 3
   },
   "file_extension": ".py",
   "mimetype": "text/x-python",
   "name": "python",
   "nbconvert_exporter": "python",
   "pygments_lexer": "ipython3",
   "version": "3.8.13"
  },
  "orig_nbformat": 4,
  "vscode": {
   "interpreter": {
    "hash": "801b4083378541fd050d6c91abf6ec053c863905e8162e031d57b83e7cdb3051"
   }
  }
 },
 "nbformat": 4,
 "nbformat_minor": 2
}

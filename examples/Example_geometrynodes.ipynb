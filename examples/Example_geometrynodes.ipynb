{
 "cells": [
  {
   "cell_type": "markdown",
   "metadata": {},
   "source": [
    "# EXAMPLE GEOMETRYNODES"
   ]
  },
  {
   "cell_type": "code",
   "execution_count": 34,
   "metadata": {},
   "outputs": [],
   "source": [
    "#IMPORT PACKAGES\n",
    "from rdflib import Graph,URIRef,Literal, RDFS,XSD\n",
    "import rdflib\n",
    "import os, time\n",
    "import importlib\n",
    "import numpy as np\n",
    "import open3d as o3d\n",
    "import ifcopenshell\n",
    "import ifcopenshell.util.selector\n",
    "\n",
    "#IMPORT MODULES\n",
    "from context import geomapi \n",
    "from geomapi.nodes import *\n",
    "import geomapi.utils as ut\n",
    "from geomapi.utils import geometryutils as gmu\n",
    "import geomapi.tools as tl\n",
    "\n",
    "from rdflib import RDF"
   ]
  },
  {
   "cell_type": "code",
   "execution_count": 35,
   "metadata": {},
   "outputs": [
    {
     "name": "stdout",
     "output_type": "stream",
     "text": [
      "The autoreload extension is already loaded. To reload it, use:\n",
      "  %reload_ext autoreload\n"
     ]
    }
   ],
   "source": [
    "%load_ext autoreload"
   ]
  },
  {
   "cell_type": "code",
   "execution_count": 36,
   "metadata": {},
   "outputs": [],
   "source": [
    "%autoreload 2"
   ]
  },
  {
   "cell_type": "markdown",
   "metadata": {},
   "source": [
    "## 1. INPUT"
   ]
  },
  {
   "cell_type": "code",
   "execution_count": 37,
   "metadata": {},
   "outputs": [],
   "source": [
    "path= os.path.join(os.path.abspath(os.path.join(os.getcwd(), os.pardir)),\"test\",\"testfiles\" )#\"D:\\\\Data\\\\2018-06 Werfopvolging Academiestraat Gent\" \n",
    "\n",
    "#PCDGRAPH\n",
    "graphPath1=os.path.join(path,'pcdGraph.ttl')\n",
    "graph1=Graph().parse(graphPath1)\n",
    "\n",
    "#MESHGRAPH\n",
    "graphPath2=os.path.join(path,'meshGraph.ttl')\n",
    "graph2=Graph().parse(graphPath2)\n",
    "        \n",
    "#PCD1 \n",
    "path1=os.path.join(path,'PCD',\"academiestraat week 22 20a.pcd\")  \n",
    "pcd1= o3d.io.read_point_cloud(path1)\n",
    "subject1=next(s for s in graph1.subjects() if \"file:///academiestraat_week_22_20a\" in s.toPython())\n",
    "\n",
    "#MESH2 \n",
    "path2=os.path.join(path,'MESH',\"Precast Stair_Stair_1181900 Landing 1.obj\")  \n",
    "mesh2 = o3d.io.read_triangle_mesh(path2)\n",
    "box2=mesh2.get_oriented_bounding_box()\n",
    "cartesianTransform2=gmu.get_cartesian_transform(translation=box2.get_center())\n",
    "subject2=next(s for s in graph2.subjects() if \"file:///Precast_Stair_Stair_1181900_Landing_1\" in s.toPython())\n",
    "\n",
    "\n",
    "resourcePath=os.path.join(path,'resources')\n",
    "tempGraphPath=os.path.join(resourcePath,'myNode.ttl')\n",
    "if not os.path.exists(resourcePath):\n",
    "    os.mkdir(resourcePath)"
   ]
  },
  {
   "cell_type": "code",
   "execution_count": 38,
   "metadata": {},
   "outputs": [],
   "source": [
    "exif = rdflib.Namespace('http://www.w3.org/2003/12/exif/ns#')\n",
    "geo=rdflib.Namespace('http://www.opengis.net/ont/geosparql#') #coordinate system information\n",
    "gom=rdflib.Namespace('https://w3id.org/gom#') # geometry representations => this is from mathias\n",
    "omg=rdflib.Namespace('https://w3id.org/omg#') # geometry relations\n",
    "fog=rdflib.Namespace('https://w3id.org/fog#')\n",
    "v4d=rdflib.Namespace('https://w3id.org/v4d/core#')\n",
    "openlabel=rdflib.Namespace('https://www.asam.net/index.php?eID=dumpFile&t=f&f=3876&token=413e8c85031ae64cc35cf42d0768627514868b2f#')\n",
    "e57=rdflib.Namespace('http://libe57.org#')\n",
    "xcr=rdflib.Namespace('http://www.w3.org/1999/02/22-rdf-syntax-ns#')\n",
    "ifc=rdflib.Namespace('http://ifcowl.openbimstandards.org/IFC2X3_Final#')\n"
   ]
  },
  {
   "cell_type": "code",
   "execution_count": 39,
   "metadata": {},
   "outputs": [
    {
     "name": "stdout",
     "output_type": "stream",
     "text": [
      "file:///c4ba0edd-13d0-11ed-b399-c8f75043ce59\n"
     ]
    }
   ],
   "source": [
    "node= PointCloudNode(path=path2,getResource=True)  \n",
    "print(node.subject)\n",
    "\n",
    "# self.assertEqual(, orientedBounds[2,2])\n"
   ]
  },
  {
   "cell_type": "code",
   "execution_count": 22,
   "metadata": {},
   "outputs": [
    {
     "ename": "IndexError",
     "evalue": "index 8 is out of bounds for axis 0 with size 8",
     "output_type": "error",
     "traceback": [
      "\u001b[1;31m---------------------------------------------------------------------------\u001b[0m",
      "\u001b[1;31mIndexError\u001b[0m                                Traceback (most recent call last)",
      "\u001b[1;32m~\\AppData\\Local\\Temp/ipykernel_19524/4267425869.py\u001b[0m in \u001b[0;36m<module>\u001b[1;34m\u001b[0m\n\u001b[0;32m      2\u001b[0m \u001b[0mnode\u001b[0m\u001b[1;33m=\u001b[0m \u001b[0mGeometryNode\u001b[0m\u001b[1;33m(\u001b[0m\u001b[0morientedBounds\u001b[0m\u001b[1;33m=\u001b[0m\u001b[0morientedBounds\u001b[0m\u001b[1;33m)\u001b[0m\u001b[1;33m\u001b[0m\u001b[1;33m\u001b[0m\u001b[0m\n\u001b[0;32m      3\u001b[0m \u001b[1;31m# print(node.orientedBounds)\u001b[0m\u001b[1;33m\u001b[0m\u001b[1;33m\u001b[0m\u001b[1;33m\u001b[0m\u001b[0m\n\u001b[1;32m----> 4\u001b[1;33m \u001b[1;33m[\u001b[0m\u001b[0mnode\u001b[0m\u001b[1;33m.\u001b[0m\u001b[0morientedBounds\u001b[0m\u001b[1;33m[\u001b[0m\u001b[0mi\u001b[0m\u001b[1;33m]\u001b[0m\u001b[1;33m==\u001b[0m\u001b[0morientedBounds\u001b[0m\u001b[1;33m[\u001b[0m\u001b[0mi\u001b[0m\u001b[1;33m]\u001b[0m \u001b[1;32mfor\u001b[0m \u001b[0mi\u001b[0m \u001b[1;32min\u001b[0m \u001b[0mrange\u001b[0m\u001b[1;33m(\u001b[0m\u001b[0morientedBounds\u001b[0m\u001b[1;33m.\u001b[0m\u001b[0msize\u001b[0m\u001b[1;33m)\u001b[0m\u001b[1;33m]\u001b[0m\u001b[1;33m\u001b[0m\u001b[1;33m\u001b[0m\u001b[0m\n\u001b[0m",
      "\u001b[1;32m~\\AppData\\Local\\Temp/ipykernel_19524/4267425869.py\u001b[0m in \u001b[0;36m<listcomp>\u001b[1;34m(.0)\u001b[0m\n\u001b[0;32m      2\u001b[0m \u001b[0mnode\u001b[0m\u001b[1;33m=\u001b[0m \u001b[0mGeometryNode\u001b[0m\u001b[1;33m(\u001b[0m\u001b[0morientedBounds\u001b[0m\u001b[1;33m=\u001b[0m\u001b[0morientedBounds\u001b[0m\u001b[1;33m)\u001b[0m\u001b[1;33m\u001b[0m\u001b[1;33m\u001b[0m\u001b[0m\n\u001b[0;32m      3\u001b[0m \u001b[1;31m# print(node.orientedBounds)\u001b[0m\u001b[1;33m\u001b[0m\u001b[1;33m\u001b[0m\u001b[1;33m\u001b[0m\u001b[0m\n\u001b[1;32m----> 4\u001b[1;33m \u001b[1;33m[\u001b[0m\u001b[0mnode\u001b[0m\u001b[1;33m.\u001b[0m\u001b[0morientedBounds\u001b[0m\u001b[1;33m[\u001b[0m\u001b[0mi\u001b[0m\u001b[1;33m]\u001b[0m\u001b[1;33m==\u001b[0m\u001b[0morientedBounds\u001b[0m\u001b[1;33m[\u001b[0m\u001b[0mi\u001b[0m\u001b[1;33m]\u001b[0m \u001b[1;32mfor\u001b[0m \u001b[0mi\u001b[0m \u001b[1;32min\u001b[0m \u001b[0mrange\u001b[0m\u001b[1;33m(\u001b[0m\u001b[0morientedBounds\u001b[0m\u001b[1;33m.\u001b[0m\u001b[0msize\u001b[0m\u001b[1;33m)\u001b[0m\u001b[1;33m]\u001b[0m\u001b[1;33m\u001b[0m\u001b[1;33m\u001b[0m\u001b[0m\n\u001b[0m",
      "\u001b[1;31mIndexError\u001b[0m: index 8 is out of bounds for axis 0 with size 8"
     ]
    }
   ],
   "source": [
    "orientedBounds=np.array([[1,2,3],[4,5,6],[7,8,9],[10,11,12],[13,14,15],[16,17,18],[19,20,21],[22,23,24]])\n",
    "node= GeometryNode(orientedBounds=orientedBounds)\n",
    "# print(node.orientedBounds)\n",
    "[node.orientedBounds[i]==orientedBounds[i] for i in range(orientedBounds.size)]   \n"
   ]
  }
 ],
 "metadata": {
  "interpreter": {
   "hash": "801b4083378541fd050d6c91abf6ec053c863905e8162e031d57b83e7cdb3051"
  },
  "kernelspec": {
   "display_name": "Python 3.8.13 ('conda_environment3')",
   "language": "python",
   "name": "python3"
  },
  "language_info": {
   "codemirror_mode": {
    "name": "ipython",
    "version": 3
   },
   "file_extension": ".py",
   "mimetype": "text/x-python",
   "name": "python",
   "nbconvert_exporter": "python",
   "pygments_lexer": "ipython3",
   "version": "3.8.13"
  },
  "orig_nbformat": 4,
  "vscode": {
   "interpreter": {
    "hash": "832bf5fd5c6660b37dd2a90a45a57b02f877bb0a297fe89ca9c261a7f9e32997"
   }
  }
 },
 "nbformat": 4,
 "nbformat_minor": 2
}

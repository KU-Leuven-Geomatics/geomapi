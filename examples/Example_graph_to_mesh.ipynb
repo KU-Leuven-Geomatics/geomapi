{
 "cells": [
  {
   "cell_type": "markdown",
   "metadata": {},
   "source": [
    "# READING MESH REFERENCE DATA FOR POSE MAPPING\n",
    "In this notebook, we evaluate the RDF GRAPHS in a session repository.\n",
    "For every MESHNODE resource, a MESHNODE metadata class is created and its data is loaded. \n",
    "The following files will be imported and represented in memory\n",
    ">meshnodelist[]\n",
    "\n",
    ">This codebase operates on the scan2bim2.yml environment (python 3.8)"
   ]
  },
  {
   "cell_type": "code",
   "execution_count": 12,
   "metadata": {},
   "outputs": [],
   "source": [
    "# import APIs\n",
    "import rdflib\n",
    "from rdflib import Graph\n",
    "from rdflib import URIRef, BNode, Literal\n",
    "from rdflib.namespace import CSVW, DC, DCAT, DCTERMS, DOAP, FOAF, ODRL2, ORG, OWL, \\\n",
    "                           PROF, PROV, RDF, RDFS, SDO, SH, SKOS, SOSA, SSN, TIME, \\\n",
    "                           VOID, XMLNS, XSD\n",
    "import os.path, time\n",
    "import importlib\n",
    "import PIL\n",
    "import PIL.Image as PILimage\n",
    "import numpy as np\n",
    "import open3d as o3d\n",
    "\n",
    "#IMPORT MODULES\n",
    "from context import geomapi \n",
    "from geomapi.nodes import *\n",
    "import geomapi.utils as ut\n",
    "from geomapi.utils import geometryutils as gmu\n",
    "import geomapi.tools as tl"
   ]
  },
  {
   "cell_type": "code",
   "execution_count": null,
   "metadata": {},
   "outputs": [],
   "source": [
    "%load_ext autoreload"
   ]
  },
  {
   "cell_type": "code",
   "execution_count": null,
   "metadata": {},
   "outputs": [],
   "source": [
    "%autoreload 2"
   ]
  },
  {
   "cell_type": "markdown",
   "metadata": {},
   "source": [
    "## 1. INITIALIZE SESSION"
   ]
  },
  {
   "cell_type": "code",
   "execution_count": 13,
   "metadata": {},
   "outputs": [],
   "source": [
    "## INPUTS\n",
    "projectPath= os.path.abspath(os.path.join(os.getcwd(), os.pardir))+\"\\\\tests\"#\"D:\\\\Data\\\\2018-06 Werfopvolging Academiestraat Gent\" \n",
    "sessionPath = projectPath + \"\\\\Samples5\" #\"K:\\Projects\\2025-03 Project FWO SB Jelle\\7.Data\\21-11 House Maarten\\RAW data\\session_22-03-13 canon"
   ]
  },
  {
   "cell_type": "markdown",
   "metadata": {},
   "source": [
    "## 2. READ AND MERGE All THE RDF GRAPHS IN THE SESSION (save for feature.ttl files)"
   ]
  },
  {
   "cell_type": "code",
   "execution_count": 15,
   "metadata": {},
   "outputs": [
    {
     "name": "stdout",
     "output_type": "stream",
     "text": [
      "Graph found with 10 triples\n"
     ]
    }
   ],
   "source": [
    "## read all graph files in a session and merge them\n",
    "allSessionFilePaths=ut.get_list_of_files(sessionPath) \n",
    "rdfGraphPaths=[]\n",
    "\n",
    "# collect all RDF graphs in the session\n",
    "sessionGraph = Graph()\n",
    "for path in allSessionFilePaths:        \n",
    "    if 'meshGraph' in path: \n",
    "        rdfGraphPaths.append(path)\n",
    "        sessionGraph.parse(path)     \n",
    "        print('Graph found with '+str(len(sessionGraph)) +' triples')"
   ]
  },
  {
   "cell_type": "code",
   "execution_count": 16,
   "metadata": {},
   "outputs": [
    {
     "name": "stdout",
     "output_type": "stream",
     "text": [
      "@prefix e57: <http://libe57.org#> .\n",
      "@prefix openlabel: <https://www.asam.net/index.php?eID=dumpFile&t=f&f=3876&token=413e8c85031ae64cc35cf42d0768627514868b2f#> .\n",
      "@prefix v4d: <https://w3id.org/v4d/core#> .\n",
      "\n",
      "<http://week22> a \"<class 'geomapi.meshnode.MeshNode'>\" ;\n",
      "    e57:cartesianBounds \"\"\"[-37.36532974 106.94235229  16.87863541 130.69406128   0.71651864\n",
      "  23.73304558]\"\"\" ;\n",
      "    e57:cartesianTransform \"\"\"[[ 1.          0.          0.         27.45802746]\n",
      " [ 0.          1.          0.         72.81697582]\n",
      " [ 0.          0.          1.          4.60116236]\n",
      " [ 0.          0.          0.          1.        ]]\"\"\" ;\n",
      "    e57:pointCount \"330263\" ;\n",
      "    v4d:accuracy \"0.05\" ;\n",
      "    v4d:faceCount \"485077\" ;\n",
      "    v4d:orientedBounds \"\"\"[[-1.96025705e+01  1.65884170e+02  2.22874728e+01]\n",
      " [ 1.22465481e+02  1.23859452e+02  2.29468259e+01]\n",
      " [-5.26111776e+01  5.43129171e+01  2.33762909e+01]\n",
      " [-1.95654721e+01  1.65648765e+02 -7.09825518e-01]\n",
      " [ 8.94939722e+01  1.20527931e+01  1.03834556e+00]\n",
      " [-5.25740791e+01  5.40775120e+01  3.78992525e-01]\n",
      " [ 1.22502579e+02  1.23624046e+02 -5.04724793e-02]\n",
      " [ 8.94568738e+01  1.22881982e+01  2.40356439e+01]]\"\"\" ;\n",
      "    v4d:path \"week22.obj\" ;\n",
      "    openlabel:sensor \"Hololens 2\" ;\n",
      "    openlabel:timestamp \"2022-05-06 09:44:01\" .\n",
      "\n",
      "\n"
     ]
    }
   ],
   "source": [
    "#test\n",
    "print(sessionGraph.serialize())"
   ]
  },
  {
   "cell_type": "markdown",
   "metadata": {},
   "source": [
    "# 3. An MeshNode is created per image subject in the RDF Graph"
   ]
  },
  {
   "cell_type": "code",
   "execution_count": 22,
   "metadata": {},
   "outputs": [
    {
     "name": "stdout",
     "output_type": "stream",
     "text": [
      "1 Nodes succesfully created from the session!\n"
     ]
    }
   ],
   "source": [
    "nodelist=tl.graph_to_nodes(sessionGraph,sessionPath=sessionPath)\n",
    "print (str(len(nodelist))+' Nodes succesfully created from the session!')"
   ]
  },
  {
   "cell_type": "markdown",
   "metadata": {},
   "source": [
    "## 4. IMPORT O3D.Trianglemesh\n",
    "import o3d.geometry.trianglemesh for each pointcloudnode if present"
   ]
  },
  {
   "cell_type": "code",
   "execution_count": 18,
   "metadata": {},
   "outputs": [
    {
     "name": "stdout",
     "output_type": "stream",
     "text": [
      "week22 succusfully imported\n",
      "1 of 1 MeshNodes have their o3d.geometry.trianglemesh imported!\n"
     ]
    }
   ],
   "source": [
    "counter=0\n",
    "for node in nodelist:\n",
    "    if node.get_geometry():\n",
    "        print(str(node.name)+' succusfully imported')\n",
    "        counter +=1\n",
    "\n",
    "print (str(counter)+' of '+str(len(nodelist))+ ' MeshNodes have their o3d.geometry.trianglemesh imported!')"
   ]
  },
  {
   "cell_type": "code",
   "execution_count": 21,
   "metadata": {},
   "outputs": [],
   "source": [
    "nodelist[0].visualize()"
   ]
  }
 ],
 "metadata": {
  "kernelspec": {
   "display_name": "Python 3.5.6 ('UplinkBIM2_python')",
   "language": "python",
   "name": "python3"
  },
  "language_info": {
   "codemirror_mode": {
    "name": "ipython",
    "version": 3
   },
   "file_extension": ".py",
   "mimetype": "text/x-python",
   "name": "python",
   "nbconvert_exporter": "python",
   "pygments_lexer": "ipython3",
   "version": "3.5.6"
  },
  "orig_nbformat": 4,
  "vscode": {
   "interpreter": {
    "hash": "8033d097d0ad4267019e37ebcadd3db20b5b166982a91b6ae6a402bc2ef4e829"
   }
  }
 },
 "nbformat": 4,
 "nbformat_minor": 2
}

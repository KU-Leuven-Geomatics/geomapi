{
 "cells": [
  {
   "cell_type": "markdown",
   "metadata": {},
   "source": [
    "# PREPROCESSING IMAGE DATA TO LINKED DATA\n",
    "In this notebook, we evaluate the image assets in a session repository.\n",
    "For every jpeg/png with its accompanying xmp or xmp file, an IMAGENODE metadata class is created \n",
    "that governs all the metadata of the image (paths, pose, etc.).\n",
    "As ouput, the method generates RDF GRAPHS (.ttl) files\n",
    "\n",
    ">This codebase operates on the scan2bim2.yml environment (python 3.8)"
   ]
  },
  {
   "cell_type": "code",
   "execution_count": 154,
   "metadata": {},
   "outputs": [],
   "source": [
    "from rdflib import Graph, plugin\n",
    "import uuid    \n",
    "import importlib\n",
    "import PIL.Image as PILimage\n",
    "import os.path\n",
    "import open3d   as o3d\n",
    "import cv2\n",
    "#IMPORT MODULES\n",
    "from context import geomapi \n",
    "from geomapi.nodes import *\n",
    "import geomapi.utils as ut\n",
    "from geomapi.utils import geometryutils as gmu\n",
    "import geomapi.tools as tl"
   ]
  },
  {
   "cell_type": "code",
   "execution_count": 155,
   "metadata": {},
   "outputs": [
    {
     "name": "stdout",
     "output_type": "stream",
     "text": [
      "The autoreload extension is already loaded. To reload it, use:\n",
      "  %reload_ext autoreload\n"
     ]
    }
   ],
   "source": [
    "%load_ext autoreload"
   ]
  },
  {
   "cell_type": "code",
   "execution_count": 156,
   "metadata": {},
   "outputs": [],
   "source": [
    "%autoreload 2"
   ]
  },
  {
   "cell_type": "markdown",
   "metadata": {},
   "source": [
    "## 1. INITIALIZE SESSION"
   ]
  },
  {
   "cell_type": "code",
   "execution_count": 157,
   "metadata": {},
   "outputs": [],
   "source": [
    "## INPUTS\n",
    "projectPath= os.path.join(os.path.abspath(os.path.join(os.getcwd(), os.pardir)),\"tests\")#\"D:\\\\Data\\\\2018-06 Werfopvolging Academiestraat Gent\" \n",
    "sessionPath = os.path.join(projectPath , \"Sample2\") #\"K:\\Projects\\2025-03 Project FWO SB Jelle\\7.Data\\21-11 House Maarten\\RAW data\\session_22-03-13 canon\n",
    "graphPath= os.path.join(sessionPath,\"sessionGraph.ttl\") "
   ]
  },
  {
   "cell_type": "markdown",
   "metadata": {},
   "source": [
    "## 2. READ PRESENT JPEG/PNG/XMP/XML CONTAINING IMAGES + METADATA\n",
    "An IMAGENODE is created per image in the session"
   ]
  },
  {
   "cell_type": "code",
   "execution_count": 158,
   "metadata": {},
   "outputs": [],
   "source": [
    "flightnode1=MeshNode(path=os.path.join(sessionPath,'101_0366','MeshLAMBERT72_TAW.ply'),getResource=True) \n",
    "flightnode2=MeshNode(path=os.path.join(sessionPath,'101_0367','MeshLAMBERT72_TAW.ply'),getResource=True)\n"
   ]
  },
  {
   "cell_type": "code",
   "execution_count": 159,
   "metadata": {},
   "outputs": [],
   "source": [
    "ifcnodelist=tl.ifc_to_nodes(os.path.join(sessionPath,'Mariakerke_AWV_Conform_3D_BT_l72.ifc'),classes='.IfcSite',getResource=True)"
   ]
  },
  {
   "cell_type": "code",
   "execution_count": 160,
   "metadata": {},
   "outputs": [
    {
     "name": "stdout",
     "output_type": "stream",
     "text": [
      "65\n",
      "TriangleMesh with 8 points and 12 triangles.\n"
     ]
    }
   ],
   "source": [
    "print(len(ifcnodelist))\n",
    "print(ifcnodelist[0].resource)"
   ]
  },
  {
   "cell_type": "code",
   "execution_count": 161,
   "metadata": {},
   "outputs": [],
   "source": [
    "geometrylist=[node.resource.get_oriented_bounding_box() for node in ifcnodelist if node.resource is not None]\n",
    "meshlist = []\n",
    "for node in ifcnodelist:\n",
    "    if node.resource is not None:\n",
    "        meshlist.append(node.resource)\n",
    "        # meshlist[-1].paint_uniform_color([0,0,1])\n",
    "meshlist.append(flightnode1.resource)\n",
    "meshlist[-1].paint_uniform_color([0,0,1])\n",
    "meshlist.append(flightnode2.resource)\n",
    "meshlist[-1].paint_uniform_color([1,0,0])\n",
    "\n",
    "o3d.visualization.draw_geometries(meshlist)\n"
   ]
  },
  {
   "cell_type": "code",
   "execution_count": 162,
   "metadata": {},
   "outputs": [],
   "source": [
    "# path=sessionPath+\"\\\\100_0848_0005.JPG\"\n",
    "# img=cv2.imread(path)\n",
    "# graphPath=sessionPath+\"\\\\imgGraph.ttl\"\n",
    "# xmpPath=sessionPath+\"\\\\IMG_2173.xmp\"\n",
    "# node1=ImageNode(path=path, sessionPath=sessionPath, sensor=sensor, accuracy=accuracy)\n",
    "# node2=ImageNode(img=img, sessionPath=sessionPath, sensor=sensor, accuracy=accuracy)\n",
    "# # node3=ImageNode(graphPath=graphPath, sessionPath=sessionPath, sensor=sensor, accuracy=accuracy)\n",
    "# # node3=ImageNode(xmpPath=xmpPath, sessionPath=sessionPath, sensor=sensor, accuracy=accuracy)\n"
   ]
  },
  {
   "cell_type": "code",
   "execution_count": 163,
   "metadata": {},
   "outputs": [],
   "source": [
    "# print(node1.subject)\n",
    "# print(node1.geospatialTransform)"
   ]
  },
  {
   "cell_type": "code",
   "execution_count": 164,
   "metadata": {},
   "outputs": [],
   "source": [
    "# path='C:\\\\RepoHeinder\\\\geomapi\\\\tests\\\\Sample3\\\\101_0366_0036.jpg'\n",
    "# subject='101_0366_0036'\n",
    "# fileformat=['.jpg','.png']\n",
    "# print(ut.get_extension(path))\n",
    "# print(subject)\n",
    "# print(path)\n",
    "# if ut.get_extension(path) in fileformat:\n",
    "#     print('wowowo')\n",
    "# if subject in path:\n",
    "#     print('jippie')"
   ]
  },
  {
   "cell_type": "code",
   "execution_count": 165,
   "metadata": {},
   "outputs": [
    {
     "name": "stdout",
     "output_type": "stream",
     "text": [
      "156 ImageNodes are created.\n",
      "Note that these nodes do not yet contain actual data but only the metadata\n"
     ]
    }
   ],
   "source": [
    "import xml.etree.ElementTree as ET \n",
    "import numpy as np\n",
    "from rdflib import URIRef\n",
    "# Retrieve all image files in the session along with their xml metadata\n",
    "allSessionFilePaths=ut.get_list_of_files(sessionPath) \n",
    "nodelist=[]\n",
    "\n",
    "for path in allSessionFilePaths:        \n",
    "    \n",
    "    if path.endswith(\".JPG\") or path.endswith(\".PNG\"): \n",
    "        testXmpPath=path.replace('JPG','xmp')\n",
    "        if testXmpPath in allSessionFilePaths:\n",
    "            nodelist.append(ImageNode(path=path,xmpPath=testXmpPath,sessionPath=sessionPath))\n",
    "        else:\n",
    "            nodelist.append(ImageNode(path=path,sessionPath=sessionPath))\n",
    "\n",
    "    if path.endswith(\".xml\"):\n",
    "        nodelist.extend(tl.img_xml_to_nodes(path, getResource=True,graphPath=graphPath))\n",
    "          \n",
    "print(str(len(nodelist))+' ImageNodes are created.')\n",
    "# print(str(exifCounter)+' have poses in exif data')\n",
    "# print(str(xmpCounter)+' have poses in xmp data')\n",
    "# print(str(xmlCounter)+' have poses in xml data (not implemented yet)')\n",
    "print('Note that these nodes do not yet contain actual data but only the metadata')"
   ]
  },
  {
   "cell_type": "markdown",
   "metadata": {},
   "source": [
    "## 3. CREATE RDF GRAPH FOR All IMAGENODES AND EXPORT THEM TO .TTL\n",
    "An RDF graph and .ttl file is created for all images in the session\n",
    "(images themselves are not stored in the graph, only metadata)"
   ]
  },
  {
   "cell_type": "code",
   "execution_count": 166,
   "metadata": {},
   "outputs": [
    {
     "name": "stdout",
     "output_type": "stream",
     "text": [
      "221 Nodes succesfully serialized in: c:\\RepoHeinder\\geomapi\\tests\\Sample2\\sessionGraph.ttl\n"
     ]
    }
   ],
   "source": [
    "graph=tl.nodes_to_graph(nodelist,graphPath=graphPath)\n",
    "subjectList=[1 for node in nodelist if node.graph is not None]\n",
    "# print (str(len(subjectList))+' Nodes succesfully serialized in: '+ graphPath)\n",
    "graphifc=tl.nodes_to_graph(ifcnodelist)\n",
    "subjectListifc=[1 for node in ifcnodelist if node.graph is not None]\n",
    "# graphifc.serialize(destination=graphPath)\n",
    "# print(str(len(subjectList)))\n",
    "# print(str(len(subjectList)))\n",
    "# print(str(len(subjectListifc)))\n",
    "subjectList = subjectList + subjectListifc\n",
    "graph=graph+graphifc\n",
    "graph.serialize(destination=graphPath)\n",
    "print (str(len(subjectList))+' Nodes succesfully serialized in: '+ graphPath)"
   ]
  }
 ],
 "metadata": {
  "kernelspec": {
   "display_name": "Python 3.8.12 ('Geomapi')",
   "language": "python",
   "name": "python3"
  },
  "language_info": {
   "codemirror_mode": {
    "name": "ipython",
    "version": 3
   },
   "file_extension": ".py",
   "mimetype": "text/x-python",
   "name": "python",
   "nbconvert_exporter": "python",
   "pygments_lexer": "ipython3",
   "version": "3.8.12"
  },
  "orig_nbformat": 4,
  "vscode": {
   "interpreter": {
    "hash": "41e361d874c5bf24880bdc5de3bf30e3d02387e54aa546656a1c0508602fb985"
   }
  }
 },
 "nbformat": 4,
 "nbformat_minor": 2
}

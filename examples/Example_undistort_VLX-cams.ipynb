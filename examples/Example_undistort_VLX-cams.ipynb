{
 "cells": [
  {
   "cell_type": "code",
   "execution_count": 1,
   "metadata": {},
   "outputs": [],
   "source": [
    "import yaml\n",
    "import cv2\n",
    "assert cv2.__version__[0] >= '3', 'The fisheye module requires opencv version >= 3.1.1'\n",
    "import numpy as np\n",
    "import glob\n",
    "import os"
   ]
  },
  {
   "attachments": {},
   "cell_type": "markdown",
   "metadata": {},
   "source": [
    "Calibration of the camera using images of the calibration pattern"
   ]
  },
  {
   "cell_type": "code",
   "execution_count": 2,
   "metadata": {},
   "outputs": [
    {
     "name": "stdout",
     "output_type": "stream",
     "text": [
      "Found 41 valid images for calibration\n",
      "DIM=(3648, 5472)\n",
      "K=np.array([[1403.442016286783, 0.0, 1840.6343029057366], [0.0, 1404.3440637808894, 2750.572088406907], [0.0, 0.0, 1.0]])\n",
      "D=np.array([[0.00818846874508137], [0.0008806729094210791], [-0.0008884260133839184], [0.0002617989606467281]])\n"
     ]
    }
   ],
   "source": [
    "CHECKERBOARD = (5,8)\n",
    "subpix_criteria = (cv2.TERM_CRITERIA_EPS+cv2.TERM_CRITERIA_MAX_ITER, 30, 0.1)\n",
    "calibration_flags = cv2.fisheye.CALIB_RECOMPUTE_EXTRINSIC+cv2.fisheye.CALIB_FIX_SKEW\n",
    "objp = np.zeros((1, CHECKERBOARD[0]*CHECKERBOARD[1], 3), np.float32)\n",
    "objp[0,:,:2] = np.mgrid[0:CHECKERBOARD[0], 0:CHECKERBOARD[1]].T.reshape(-1, 2)\n",
    "_img_shape = None\n",
    "objpoints = [] # 3d point in real world space\n",
    "imgpoints = [] # 2d points in image plane.\n",
    "images = glob.glob(r\"C:\\Repo\\GEOMAPI\\tests\\Kalibrationsamples\\kal\\*.jpg\")\n",
    "\n",
    "\n",
    "for fname in images:\n",
    "    img = cv2.imread(fname)\n",
    "    if _img_shape == None:\n",
    "        _img_shape = img.shape[:2]\n",
    "    else:\n",
    "        assert _img_shape == img.shape[:2], \"All images must share the same size.\"\n",
    "    gray = cv2.cvtColor(img,cv2.COLOR_BGR2GRAY)\n",
    "    # Find the chess board corners\n",
    "    ret, corners = cv2.findChessboardCorners(gray, CHECKERBOARD, cv2.CALIB_CB_ADAPTIVE_THRESH+cv2.CALIB_CB_FAST_CHECK+cv2.CALIB_CB_NORMALIZE_IMAGE)\n",
    "    # If found, add object points, image points (after refining them)\n",
    "    if ret == True:\n",
    "        objpoints.append(objp)\n",
    "        cv2.cornerSubPix(gray,corners,(3,3),(-1,-1),subpix_criteria)\n",
    "        imgpoints.append(corners)\n",
    "DIM = gray.shape[::-1]\n",
    "N_OK = len(objpoints)\n",
    "K = np.zeros((3, 3))\n",
    "D = np.zeros((4, 1))\n",
    "rvecs = [np.zeros((1, 1, 3), dtype=np.float64) for i in range(N_OK)]\n",
    "tvecs = [np.zeros((1, 1, 3), dtype=np.float64) for i in range(N_OK)]\n",
    "rms, _, _, _, _ = \\\n",
    "    cv2.fisheye.calibrate(\n",
    "        objpoints,\n",
    "        imgpoints,\n",
    "        gray.shape[::-1],\n",
    "        K,\n",
    "        D,\n",
    "        rvecs,\n",
    "        tvecs,\n",
    "        calibration_flags,\n",
    "        (cv2.TERM_CRITERIA_EPS+cv2.TERM_CRITERIA_MAX_ITER, 30, 1e-6)\n",
    "    )\n",
    "print(\"Found \" + str(N_OK) + \" valid images for calibration\")\n",
    "print(\"DIM=\" + str(_img_shape[::-1]))\n",
    "print(\"K=np.array(\" + str(K.tolist()) + \")\")\n",
    "print(\"D=np.array(\" + str(D.tolist()) + \")\")"
   ]
  },
  {
   "attachments": {},
   "cell_type": "markdown",
   "metadata": {},
   "source": [
    "Undistort the iamges taken by the fish eyes"
   ]
  },
  {
   "cell_type": "code",
   "execution_count": 3,
   "metadata": {},
   "outputs": [],
   "source": [
    "\n",
    "def undistort(img_path, balance=0.0, dim2=None, dim3=None):\n",
    "    img = cv2.imread(img_path)\n",
    "\n",
    "    dim1 = img.shape[:2][::-1]  #dim1 is the dimension of input image to un-distort\n",
    "    assert dim1[0]/dim1[1] == DIM[0]/DIM[1], \"Image to undistort needs to have same aspect ratio as the ones used in calibration\"\n",
    "    if not dim2:\n",
    "        dim2 = dim1\n",
    "    if not dim3:\n",
    "        dim3 = dim1\n",
    "    scaled_K = K * dim1[0] / DIM[0]  # The values of K is to scale with image dimension.\n",
    "    scaled_K[2][2] = 1.0  # Except that K[2][2] is always 1.0\n",
    "    # This is how scaled_K, dim2 and balance are used to determine the final K used to un-distort image. OpenCV document failed to make this clear!\n",
    "    new_K = cv2.fisheye.estimateNewCameraMatrixForUndistortRectify(scaled_K, D, dim2, np.eye(3), balance=balance)\n",
    "    map1, map2 = cv2.fisheye.initUndistortRectifyMap(scaled_K, D, np.eye(3), new_K, dim3, cv2.CV_16SC2)\n",
    "    undistorted_img = cv2.remap(img, map1, map2, interpolation=cv2.INTER_LINEAR, borderMode=cv2.BORDER_CONSTANT)\n",
    "\n",
    "    return undistorted_img\n",
    "        "
   ]
  },
  {
   "cell_type": "code",
   "execution_count": 4,
   "metadata": {},
   "outputs": [],
   "source": [
    "\n",
    "raw_dir = glob.glob(r\"K:\\Projects\\2025-02 Project BAEKELAND MEETHET\\7.Recordings\\2021-02-NAV-Technologycampus_Ghent\\DATA\\VLX\\datasets_proc\\2021-02-09_10.39.09\\cam\\*.jpg\")\n",
    "undistorted_dir = r\"C:\\Repo\\GEOMAPI\\tests\\Kalibrationsamples\\Results\\2021-02-09_10.39.09\"\n",
    "\n",
    "tags = []\n",
    "for fname in raw_dir:\n",
    "    filename = fname.split('\\\\')[-1]\n",
    "    tag = filename.split(\"-\")[0]\n",
    "    if tag not in tags:\n",
    "        tags.append(tag)\n",
    "\n",
    "    undistorted_img = undistort(fname, balance=0.0)\n",
    "    cv2.imwrite(os.path.join(undistorted_dir,filename), undistorted_img)\n",
    "    \n"
   ]
  }
 ],
 "metadata": {
  "kernelspec": {
   "display_name": "image2",
   "language": "python",
   "name": "python3"
  },
  "language_info": {
   "codemirror_mode": {
    "name": "ipython",
    "version": 3
   },
   "file_extension": ".py",
   "mimetype": "text/x-python",
   "name": "python",
   "nbconvert_exporter": "python",
   "pygments_lexer": "ipython3",
   "version": "3.9.15"
  },
  "orig_nbformat": 4,
  "vscode": {
   "interpreter": {
    "hash": "f15cb16b7194de92a7541b76f4a660b66fd6477cff771635fec523045ea719c0"
   }
  }
 },
 "nbformat": 4,
 "nbformat_minor": 2
}

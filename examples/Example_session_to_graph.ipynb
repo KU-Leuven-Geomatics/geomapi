{
 "cells": [
  {
   "cell_type": "markdown",
   "metadata": {},
   "source": [
    "# SESSION TO GRAPH\n",
    "In this notebook, we merge multiple sources in a sessionNode\n",
    "For every resource, its respective NODE type is created after which a joint sessionNode is created \n",
    "that governs the metadata of the resources \n",
    "As ouput, the method generates an RDF GRAPH (.ttl) \n",
    "\n",
    ">This codebase operates on the scan2bim2.yml environment (python 3.8) and ifcopenshell"
   ]
  },
  {
   "cell_type": "code",
   "execution_count": 1,
   "metadata": {},
   "outputs": [
    {
     "name": "stdout",
     "output_type": "stream",
     "text": [
      "Jupyter environment detected. Enabling Open3D WebVisualizer.\n",
      "[Open3D INFO] WebRTC GUI backend enabled.\n",
      "[Open3D INFO] WebRTCWindowSystem: HTTP handshake server disabled.\n"
     ]
    }
   ],
   "source": [
    "#IMPORT PACKAGES\n",
    "from rdflib import Graph\n",
    "import os.path\n",
    "import importlib\n",
    "import numpy as np\n",
    "import xml.etree.ElementTree as ET\n",
    "import open3d as o3d\n",
    "import uuid    \n",
    "import pye57 \n",
    "import ifcopenshell\n",
    "import ifcopenshell.geom as geom\n",
    "import ifcopenshell.util\n",
    "import ifcopenshell.util.selector\n",
    "import sys\n",
    "#IMPORT MODULES\n",
    "from context import geomapi \n",
    "from geomapi.nodes import *\n",
    "from geomapi.utils import *\n",
    "import geomapi.tools as tl\n"
   ]
  },
  {
   "cell_type": "code",
   "execution_count": 2,
   "metadata": {},
   "outputs": [],
   "source": [
    "%load_ext autoreload"
   ]
  },
  {
   "cell_type": "code",
   "execution_count": 3,
   "metadata": {},
   "outputs": [],
   "source": [
    "%autoreload 2"
   ]
  },
  {
   "cell_type": "markdown",
   "metadata": {},
   "source": [
    "## 1. INITIALIZE SESSION"
   ]
  },
  {
   "cell_type": "code",
   "execution_count": 4,
   "metadata": {},
   "outputs": [],
   "source": [
    "## INPUTS\n",
    "projectPath= os.path.abspath(os.path.join(os.getcwd(), os.pardir))+\"\\\\tests\"#\"D:\\\\Data\\\\2018-06 Werfopvolging Academiestraat Gent\" \n",
    "sessionPath = projectPath + \"\\\\Samples7\" #\"K:\\Projects\\2025-03 Project FWO SB Jelle\\7.Data\\21-11 House Maarten\\RAW data\\session_22-03-13 canon\n",
    "graphPath=sessionPath + \"\\\\sessionGraph.ttl\"\n",
    "remark1='remark'\n",
    "\n",
    "meshPath=sessionPath+\"\\\\mesh.obj\"\n",
    "imgPath=sessionPath+\"\\\\IMG_2174.JPG\"\n",
    "pcdPath=sessionPath+\"\\\\pointcloud.pcd\"\n",
    "ifcPath=sessionPath+\"\\\\012103-07-BIM-Zwevegem Brucqstraat.ifc\""
   ]
  },
  {
   "cell_type": "markdown",
   "metadata": {},
   "source": [
    "## 2. CREATE DATA NODES\n"
   ]
  },
  {
   "cell_type": "code",
   "execution_count": 5,
   "metadata": {},
   "outputs": [
    {
     "name": "stdout",
     "output_type": "stream",
     "text": [
      "[TriangleMesh with 4735 points and 9581 triangles., array([[[168, 154, 136],\n",
      "        [168, 154, 136],\n",
      "        [169, 153, 136],\n",
      "        ...,\n",
      "        [ 27,  24,  26],\n",
      "        [ 25,  22,  24],\n",
      "        [ 20,  19,  21]],\n",
      "\n",
      "       [[168, 154, 136],\n",
      "        [168, 154, 136],\n",
      "        [169, 153, 136],\n",
      "        ...,\n",
      "        [ 27,  24,  26],\n",
      "        [ 24,  21,  23],\n",
      "        [ 20,  19,  21]],\n",
      "\n",
      "       [[168, 154, 136],\n",
      "        [168, 154, 136],\n",
      "        [169, 153, 136],\n",
      "        ...,\n",
      "        [ 26,  23,  25],\n",
      "        [ 22,  21,  23],\n",
      "        [ 19,  21,  22]],\n",
      "\n",
      "       ...,\n",
      "\n",
      "       [[ 63,  75,  81],\n",
      "        [ 63,  75,  81],\n",
      "        [ 64,  76,  82],\n",
      "        ...,\n",
      "        [ 65,  73,  73],\n",
      "        [ 65,  73,  73],\n",
      "        [ 66,  74,  74]],\n",
      "\n",
      "       [[ 63,  75,  79],\n",
      "        [ 63,  75,  81],\n",
      "        [ 64,  76,  82],\n",
      "        ...,\n",
      "        [ 65,  73,  73],\n",
      "        [ 64,  72,  72],\n",
      "        [ 65,  73,  73]],\n",
      "\n",
      "       [[ 64,  76,  80],\n",
      "        [ 64,  76,  82],\n",
      "        [ 64,  76,  82],\n",
      "        ...,\n",
      "        [ 64,  71,  74],\n",
      "        [ 65,  73,  73],\n",
      "        [ 66,  74,  74]]], dtype=uint8), PointCloud with 1000000 points.]\n"
     ]
    }
   ],
   "source": [
    "\n",
    "meshNode=MeshNode(path=meshPath,getResource=True, remark1=remark1)\n",
    "imgNode=ImageNode(path=imgPath,getResource=True, remark1=remark1)\n",
    "pcdNode=PointCloudNode(path=pcdPath,getResource=True, remark1=remark1)\n",
    "# ifcNodes=tl.ifc_to_nodes(ifcPath=ifcPath,getResource=True,remark1=remark1)\n",
    "\n",
    "nodeList=[meshNode,imgNode,pcdNode]\n",
    "\n",
    "mesh=meshNode.mesh\n",
    "img=imgNode.image\n",
    "pcd=pcdNode.pcd\n",
    "resources=[mesh,img,pcd]\n",
    "print(resources)"
   ]
  },
  {
   "cell_type": "code",
   "execution_count": 6,
   "metadata": {},
   "outputs": [
    {
     "name": "stderr",
     "output_type": "stream",
     "text": [
      "test with nodes: mySession does not look like a valid URI, trying to serialize this will break.\n",
      "test with nodes: 4499de21-f13f-11ec-a70d-c8f75043ce59 does not look like a valid URI, trying to serialize this will break.\n",
      "test with resources: 449a530d-f13f-11ec-815d-c8f75043ce59 does not look like a valid URI, trying to serialize this will break.\n"
     ]
    },
    {
     "name": "stdout",
     "output_type": "stream",
     "text": [
      "test with nodes: mySession\n",
      "test with nodes: 4499de21-f13f-11ec-a70d-c8f75043ce59\n",
      "test with resources: 449a530d-f13f-11ec-815d-c8f75043ce59\n"
     ]
    }
   ],
   "source": [
    "sessionNode0=SessionNode(subject='mySession')\n",
    "print('test with nodes: '+ sessionNode0.subject)\n",
    "\n",
    "sessionNode5=SessionNode(linkedNodes=nodeList)\n",
    "print('test with nodes: '+ sessionNode5.subject)\n",
    "\n",
    "sessionNode6=SessionNode(resources=resources)\n",
    "print('test with resources: '+ sessionNode6.subject)\n"
   ]
  },
  {
   "cell_type": "markdown",
   "metadata": {},
   "source": [
    "## 3. EXPORT DATA"
   ]
  },
  {
   "cell_type": "code",
   "execution_count": 7,
   "metadata": {},
   "outputs": [
    {
     "name": "stderr",
     "output_type": "stream",
     "text": [
      "\\Scan-to-BIM repository\\geomapi\\tests\\Samples7\\Resources\\43be9b1c-f13f-11ec-8e65-c8f75043ce59 does not look like a valid URI, trying to serialize this will break.\n",
      "\\Scan-to-BIM repository\\geomapi\\tests\\Samples7\\Resources\\43be9b1c-f13f-11ec-8e65-c8f75043ce59\\ does not look like a valid URI, trying to serialize this will break.\n",
      "\\Scan-to-BIM repository\\geomapi\\tests\\Samples7\\Resources\\43be9b1c-f13f-11ec-8e65-c8f75043ce59\\.ply does not look like a valid URI, trying to serialize this will break.\n",
      "d:\\Scan-to-BIM repository\\geomapi\\tests\\Samples7\\Resources\\43be9b1c-f13f-11ec-8e65-c8f75043ce59\\.ply does not look like a valid URI, trying to serialize this will break.\n",
      "\\Scan-to-BIM repository\\geomapi\\tests\\Samples7\\Resources\\43be9b1c-f13f-11ec-8e65-c8f75043ce59.ply does not look like a valid URI, trying to serialize this will break.\n",
      "d:\\Scan-to-BIM repository\\geomapi\\tests\\Samples7\\Resources\\43be9b1c-f13f-11ec-8e65-c8f75043ce59.ply does not look like a valid URI, trying to serialize this will break.\n",
      "\\Scan-to-BIM repository\\geomapi\\tests\\Samples7\\Resources\\43cb15e5-f13f-11ec-a718-c8f75043ce59 does not look like a valid URI, trying to serialize this will break.\n",
      "\\Scan-to-BIM repository\\geomapi\\tests\\Samples7\\Resources\\43cb15e5-f13f-11ec-a718-c8f75043ce59\\ does not look like a valid URI, trying to serialize this will break.\n",
      "\\Scan-to-BIM repository\\geomapi\\tests\\Samples7\\Resources\\43cb15e5-f13f-11ec-a718-c8f75043ce59\\.png does not look like a valid URI, trying to serialize this will break.\n",
      "d:\\Scan-to-BIM repository\\geomapi\\tests\\Samples7\\Resources\\43cb15e5-f13f-11ec-a718-c8f75043ce59\\.png does not look like a valid URI, trying to serialize this will break.\n",
      "\\Scan-to-BIM repository\\geomapi\\tests\\Samples7\\Resources\\43cb15e5-f13f-11ec-a718-c8f75043ce59.png does not look like a valid URI, trying to serialize this will break.\n",
      "d:\\Scan-to-BIM repository\\geomapi\\tests\\Samples7\\Resources\\43cb15e5-f13f-11ec-a718-c8f75043ce59.png does not look like a valid URI, trying to serialize this will break.\n",
      "\\Scan-to-BIM repository\\geomapi\\tests\\Samples7\\Resources\\4426ccd7-f13f-11ec-bab4-c8f75043ce59 does not look like a valid URI, trying to serialize this will break.\n",
      "\\Scan-to-BIM repository\\geomapi\\tests\\Samples7\\Resources\\4426ccd7-f13f-11ec-bab4-c8f75043ce59\\ does not look like a valid URI, trying to serialize this will break.\n",
      "\\Scan-to-BIM repository\\geomapi\\tests\\Samples7\\Resources\\4426ccd7-f13f-11ec-bab4-c8f75043ce59\\.pcd does not look like a valid URI, trying to serialize this will break.\n",
      "d:\\Scan-to-BIM repository\\geomapi\\tests\\Samples7\\Resources\\4426ccd7-f13f-11ec-bab4-c8f75043ce59\\.pcd does not look like a valid URI, trying to serialize this will break.\n",
      "\\Scan-to-BIM repository\\geomapi\\tests\\Samples7\\Resources\\4426ccd7-f13f-11ec-bab4-c8f75043ce59.pcd does not look like a valid URI, trying to serialize this will break.\n",
      "d:\\Scan-to-BIM repository\\geomapi\\tests\\Samples7\\Resources\\4426ccd7-f13f-11ec-bab4-c8f75043ce59.pcd does not look like a valid URI, trying to serialize this will break.\n"
     ]
    }
   ],
   "source": [
    "resourceFolder=os.path.join(sessionPath,'Resources')\n",
    "sessionNode5.export_resource(resourceFolder)"
   ]
  },
  {
   "cell_type": "markdown",
   "metadata": {},
   "source": [
    "## 4. CREATE RDF GRAPHS "
   ]
  },
  {
   "cell_type": "code",
   "execution_count": 8,
   "metadata": {},
   "outputs": [
    {
     "name": "stdout",
     "output_type": "stream",
     "text": [
      "@prefix e57: <http://libe57.org#> .\n",
      "@prefix v4d: <https://w3id.org/v4d/core#> .\n",
      "\n",
      "<4499de21-f13f-11ec-a70d-c8f75043ce59> a \"<class 'geomapi.nodes.sessionnode.SessionNode'>\" ;\n",
      "    e57:cartesianBounds \"\"\"[-1.16820610e+01  7.79959866e+04 -1.17144113e+01  1.62223097e+05\n",
      " -3.75158827e+00  5.10806510e+01]\"\"\" ;\n",
      "    e57:cartesianTransform \"\"\"[[1.         0.         0.         8.09790678]\n",
      " [0.         1.         0.         3.80675837]\n",
      " [0.         0.         1.         0.88035253]\n",
      " [0.         0.         0.         1.        ]]\"\"\" ;\n",
      "    v4d:linkedSubjects \"['43be9b1c-f13f-11ec-8e65-c8f75043ce59', '43cb15e5-f13f-11ec-a718-c8f75043ce59', '4426ccd7-f13f-11ec-bab4-c8f75043ce59']\" ;\n",
      "    v4d:orientedBounds \"\"\"[[ 1.52193051e+01 -2.09293550e+01 -2.07175653e+00]\n",
      " [ 7.80061468e+04  1.62214824e+05  4.50607285e+01]\n",
      " [-1.48406610e+01 -6.47778610e+00 -5.39298974e+00]\n",
      " [ 1.45372471e+01 -2.06036772e+01  5.51855517e+00]\n",
      " [ 7.79754048e+04  1.62229601e+05  4.93298070e+01]\n",
      " [-1.55227190e+01 -6.15210829e+00  2.19732197e+00]\n",
      " [ 7.80054647e+04  1.62215150e+05  5.26510402e+01]\n",
      " [ 7.79760868e+04  1.62229275e+05  4.17394953e+01]]\"\"\" .\n",
      "\n",
      "\n"
     ]
    }
   ],
   "source": [
    "sessionGraph=sessionNode5.to_graph(graphPath, save=True)\n",
    "print(sessionGraph.serialize())"
   ]
  },
  {
   "cell_type": "code",
   "execution_count": 9,
   "metadata": {},
   "outputs": [
    {
     "name": "stdout",
     "output_type": "stream",
     "text": [
      "@prefix e57: <http://libe57.org#> .\n",
      "@prefix exif: <http://www.w3.org/2003/12/exif/ns#> .\n",
      "@prefix gom: <https://w3id.org/gom#> .\n",
      "@prefix openlabel: <https://www.asam.net/index.php?eID=dumpFile&t=f&f=3876&token=413e8c85031ae64cc35cf42d0768627514868b2f#> .\n",
      "@prefix v4d: <https://w3id.org/v4d/core#> .\n",
      "\n",
      "<43be9b1c-f13f-11ec-8e65-c8f75043ce59> a \"<class 'geomapi.nodes.meshnode.MeshNode'>\" ;\n",
      "    e57:cartesianBounds \"\"\"[7.79770000e+04 7.79952969e+04 1.62204000e+05 1.62222000e+05\n",
      " 4.42299995e+01 5.04599991e+01]\"\"\" ;\n",
      "    e57:cartesianTransform \"\"\"[[1.00000000e+00 0.00000000e+00 0.00000000e+00 7.79862707e+04]\n",
      " [0.00000000e+00 1.00000000e+00 0.00000000e+00 1.62213175e+05]\n",
      " [0.00000000e+00 0.00000000e+00 1.00000000e+00 4.71473521e+01]\n",
      " [0.00000000e+00 0.00000000e+00 0.00000000e+00 1.00000000e+00]]\"\"\" ;\n",
      "    e57:pointCount \"4735\" ;\n",
      "    v4d:faceCount \"9581\" ;\n",
      "    v4d:name \"mesh\" ;\n",
      "    v4d:orientedBounds \"\"\"[[7.79831774e+04 1.62203744e+05 4.43347990e+01]\n",
      " [7.79959866e+04 1.62214984e+05 4.41869699e+01]\n",
      " [7.79765087e+04 1.62211331e+05 4.33639157e+01]\n",
      " [7.79827937e+04 1.62204270e+05 5.10806510e+01]\n",
      " [7.79889341e+04 1.62223097e+05 4.99619387e+01]\n",
      " [7.79761250e+04 1.62211857e+05 5.01097677e+01]\n",
      " [7.79956029e+04 1.62215510e+05 5.09328219e+01]\n",
      " [7.79893178e+04 1.62222571e+05 4.32160867e+01]]\"\"\" ;\n",
      "    v4d:path \"Resources\\\\43be9b1c-f13f-11ec-8e65-c8f75043ce59.ply\" ;\n",
      "    v4d:remark1 \"remark\" ;\n",
      "    openlabel:timestamp \"2022-06-13 18:26:34\" .\n",
      "\n",
      "<43cb15e5-f13f-11ec-a718-c8f75043ce59> a \"<class 'geomapi.nodes.imagenode.ImageNode'>\" ;\n",
      "    e57:geospatialTransform \"[None, None, None]\" ;\n",
      "    exif:imageHeight \"5616\" ;\n",
      "    exif:imageWidth \"3744\" ;\n",
      "    exif:resolutionUnit \"2\" ;\n",
      "    exif:xResolution \"72.0\" ;\n",
      "    exif:yResolution \"72.0\" ;\n",
      "    gom:coordinateSystem \"geospatial-wgs84\" ;\n",
      "    v4d:name \"IMG_2174\" ;\n",
      "    v4d:path \"Resources\\\\43cb15e5-f13f-11ec-a718-c8f75043ce59.png\" ;\n",
      "    v4d:remark1 \"remark\" ;\n",
      "    openlabel:timestamp \"2022:03:13 13:55:30\" .\n",
      "\n",
      "<4426ccd7-f13f-11ec-bab4-c8f75043ce59> a \"<class 'geomapi.nodes.pointcloudnode.PointCloudNode'>\" ;\n",
      "    e57:cartesianBounds \"\"\"[ -5.69620943  26.36108017 -10.44684124  12.4038868   -1.75461483\n",
      "   3.10030627]\"\"\" ;\n",
      "    e57:cartesianTransform \"\"\"[[ 1.          0.          0.         -0.02297958]\n",
      " [ 0.          1.          0.         -0.07019371]\n",
      " [ 0.          0.          1.          0.16903987]\n",
      " [ 0.          0.          0.          1.        ]]\"\"\" ;\n",
      "    v4d:PointCount \"1000000\" ;\n",
      "    v4d:name \"pointcloud\" ;\n",
      "    v4d:orientedBounds \"\"\"[[ -3.94936101 -11.71441126  -2.31143   ]\n",
      " [ 27.8778746    5.9032238    0.11318279]\n",
      " [-11.11453195   1.42806837  -3.75158827]\n",
      " [ -4.51689011 -11.43218668   3.08768054]\n",
      " [ 20.14517457  19.327928     4.07213506]\n",
      " [-11.68206104   1.71029294   1.64752227]\n",
      " [ 27.31034551   6.18544838   5.51229334]\n",
      " [ 20.71270366  19.04570343  -1.32697548]]\"\"\" ;\n",
      "    v4d:path \"Resources\\\\4426ccd7-f13f-11ec-bab4-c8f75043ce59.pcd\" ;\n",
      "    v4d:remark1 \"remark\" ;\n",
      "    openlabel:timestamp \"2022-05-17 16:05:08\" .\n",
      "\n",
      "\n"
     ]
    }
   ],
   "source": [
    "resourceGraphPath=os.path.join(sessionPath,'resourceGraph.ttl')\n",
    "resourceGraph=tl.nodes_to_graph(nodelist=nodeList,graphPath=resourceGraphPath, save=True)\n",
    "print(resourceGraph.serialize())"
   ]
  },
  {
   "cell_type": "code",
   "execution_count": 10,
   "metadata": {},
   "outputs": [
    {
     "name": "stdout",
     "output_type": "stream",
     "text": [
      "[<geomapi.nodes.meshnode.MeshNode object at 0x000001EA98EC7280>, <geomapi.nodes.imagenode.ImageNode object at 0x000001EA98EC71F0>, <geomapi.nodes.pointcloudnode.PointCloudNode object at 0x000001EA98EC7370>, <geomapi.nodes.sessionnode.SessionNode object at 0x000001EA98E98940>]\n",
      "@prefix e57: <http://libe57.org#> .\n",
      "@prefix exif: <http://www.w3.org/2003/12/exif/ns#> .\n",
      "@prefix gom: <https://w3id.org/gom#> .\n",
      "@prefix openlabel: <https://www.asam.net/index.php?eID=dumpFile&t=f&f=3876&token=413e8c85031ae64cc35cf42d0768627514868b2f#> .\n",
      "@prefix v4d: <https://w3id.org/v4d/core#> .\n",
      "\n",
      "<43be9b1c-f13f-11ec-8e65-c8f75043ce59> a \"<class 'geomapi.nodes.meshnode.MeshNode'>\" ;\n",
      "    e57:cartesianBounds \"\"\"[7.79770000e+04 7.79952969e+04 1.62204000e+05 1.62222000e+05\n",
      " 4.42299995e+01 5.04599991e+01]\"\"\" ;\n",
      "    e57:cartesianTransform \"\"\"[[1.00000000e+00 0.00000000e+00 0.00000000e+00 7.79862707e+04]\n",
      " [0.00000000e+00 1.00000000e+00 0.00000000e+00 1.62213175e+05]\n",
      " [0.00000000e+00 0.00000000e+00 1.00000000e+00 4.71473521e+01]\n",
      " [0.00000000e+00 0.00000000e+00 0.00000000e+00 1.00000000e+00]]\"\"\" ;\n",
      "    e57:pointCount \"4735\" ;\n",
      "    v4d:faceCount \"9581\" ;\n",
      "    v4d:name \"mesh\" ;\n",
      "    v4d:orientedBounds \"\"\"[[7.79831774e+04 1.62203744e+05 4.43347990e+01]\n",
      " [7.79959866e+04 1.62214984e+05 4.41869699e+01]\n",
      " [7.79765087e+04 1.62211331e+05 4.33639157e+01]\n",
      " [7.79827937e+04 1.62204270e+05 5.10806510e+01]\n",
      " [7.79889341e+04 1.62223097e+05 4.99619387e+01]\n",
      " [7.79761250e+04 1.62211857e+05 5.01097677e+01]\n",
      " [7.79956029e+04 1.62215510e+05 5.09328219e+01]\n",
      " [7.79893178e+04 1.62222571e+05 4.32160867e+01]]\"\"\" ;\n",
      "    v4d:path \"Resources\\\\43be9b1c-f13f-11ec-8e65-c8f75043ce59.ply\" ;\n",
      "    v4d:remark1 \"remark\" ;\n",
      "    openlabel:timestamp \"2022-06-13 18:26:34\" .\n",
      "\n",
      "<43cb15e5-f13f-11ec-a718-c8f75043ce59> a \"<class 'geomapi.nodes.imagenode.ImageNode'>\" ;\n",
      "    e57:geospatialTransform \"[None, None, None]\" ;\n",
      "    exif:imageHeight \"5616\" ;\n",
      "    exif:imageWidth \"3744\" ;\n",
      "    exif:resolutionUnit \"2\" ;\n",
      "    exif:xResolution \"72.0\" ;\n",
      "    exif:yResolution \"72.0\" ;\n",
      "    gom:coordinateSystem \"geospatial-wgs84\" ;\n",
      "    v4d:name \"IMG_2174\" ;\n",
      "    v4d:path \"Resources\\\\43cb15e5-f13f-11ec-a718-c8f75043ce59.png\" ;\n",
      "    v4d:remark1 \"remark\" ;\n",
      "    openlabel:timestamp \"2022:03:13 13:55:30\" .\n",
      "\n",
      "<4426ccd7-f13f-11ec-bab4-c8f75043ce59> a \"<class 'geomapi.nodes.pointcloudnode.PointCloudNode'>\" ;\n",
      "    e57:cartesianBounds \"\"\"[ -5.69620943  26.36108017 -10.44684124  12.4038868   -1.75461483\n",
      "   3.10030627]\"\"\" ;\n",
      "    e57:cartesianTransform \"\"\"[[ 1.          0.          0.         -0.02297958]\n",
      " [ 0.          1.          0.         -0.07019371]\n",
      " [ 0.          0.          1.          0.16903987]\n",
      " [ 0.          0.          0.          1.        ]]\"\"\" ;\n",
      "    v4d:PointCount \"1000000\" ;\n",
      "    v4d:name \"pointcloud\" ;\n",
      "    v4d:orientedBounds \"\"\"[[ -3.94936101 -11.71441126  -2.31143   ]\n",
      " [ 27.8778746    5.9032238    0.11318279]\n",
      " [-11.11453195   1.42806837  -3.75158827]\n",
      " [ -4.51689011 -11.43218668   3.08768054]\n",
      " [ 20.14517457  19.327928     4.07213506]\n",
      " [-11.68206104   1.71029294   1.64752227]\n",
      " [ 27.31034551   6.18544838   5.51229334]\n",
      " [ 20.71270366  19.04570343  -1.32697548]]\"\"\" ;\n",
      "    v4d:path \"Resources\\\\4426ccd7-f13f-11ec-bab4-c8f75043ce59.pcd\" ;\n",
      "    v4d:remark1 \"remark\" ;\n",
      "    openlabel:timestamp \"2022-05-17 16:05:08\" .\n",
      "\n",
      "<4499de21-f13f-11ec-a70d-c8f75043ce59> a \"<class 'geomapi.nodes.sessionnode.SessionNode'>\" ;\n",
      "    e57:cartesianBounds \"\"\"[-1.16820610e+01  7.79959866e+04 -1.17144113e+01  1.62223097e+05\n",
      " -3.75158827e+00  5.10806510e+01]\"\"\" ;\n",
      "    e57:cartesianTransform \"\"\"[[1.         0.         0.         8.09790678]\n",
      " [0.         1.         0.         3.80675837]\n",
      " [0.         0.         1.         0.88035253]\n",
      " [0.         0.         0.         1.        ]]\"\"\" ;\n",
      "    v4d:linkedSubjects \"['43be9b1c-f13f-11ec-8e65-c8f75043ce59', '43cb15e5-f13f-11ec-a718-c8f75043ce59', '4426ccd7-f13f-11ec-bab4-c8f75043ce59']\" ;\n",
      "    v4d:orientedBounds \"\"\"[[ 1.52193051e+01 -2.09293550e+01 -2.07175653e+00]\n",
      " [ 7.80061468e+04  1.62214824e+05  4.50607285e+01]\n",
      " [-1.48406610e+01 -6.47778610e+00 -5.39298974e+00]\n",
      " [ 1.45372471e+01 -2.06036772e+01  5.51855517e+00]\n",
      " [ 7.79754048e+04  1.62229601e+05  4.93298070e+01]\n",
      " [-1.55227190e+01 -6.15210829e+00  2.19732197e+00]\n",
      " [ 7.80054647e+04  1.62215150e+05  5.26510402e+01]\n",
      " [ 7.79760868e+04  1.62229275e+05  4.17394953e+01]]\"\"\" .\n",
      "\n",
      "\n"
     ]
    }
   ],
   "source": [
    "combinedList=nodeList + [sessionNode5]\n",
    "print(combinedList)\n",
    "combinedGraphPath=os.path.join(sessionPath,'combinedGraph.ttl')\n",
    "combinedGraph=tl.nodes_to_graph(nodelist=combinedList,graphPath=combinedGraphPath, save=True)\n",
    "print(combinedGraph.serialize())"
   ]
  }
 ],
 "metadata": {
  "kernelspec": {
   "display_name": "Python 3.8.13 ('conda_environment3')",
   "language": "python",
   "name": "python3"
  },
  "language_info": {
   "codemirror_mode": {
    "name": "ipython",
    "version": 3
   },
   "file_extension": ".py",
   "mimetype": "text/x-python",
   "name": "python",
   "nbconvert_exporter": "python",
   "pygments_lexer": "ipython3",
   "version": "3.8.13"
  },
  "orig_nbformat": 4,
  "vscode": {
   "interpreter": {
    "hash": "801b4083378541fd050d6c91abf6ec053c863905e8162e031d57b83e7cdb3051"
   }
  }
 },
 "nbformat": 4,
 "nbformat_minor": 2
}

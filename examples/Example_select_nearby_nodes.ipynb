{
 "cells": [
  {
   "cell_type": "markdown",
   "metadata": {},
   "source": [
    "# SELECT NEARBY NODES \n",
    "In this notebook, we make a subselection of the sessionGraph based on each nodes' cartesianTransform & orientedBounds\n",
    "For every node, we evaluate the Euclidean distance within a threshold to the source.\n",
    "As ouput, the method generates a selection of nodes \n",
    "\n",
    ">This codebase operates on the scan2bim2.yml environment (python 3.8)"
   ]
  },
  {
   "cell_type": "code",
   "execution_count": 8,
   "metadata": {},
   "outputs": [],
   "source": [
    "#IMPORT PACKAGES\n",
    "from rdflib import Graph\n",
    "\n",
    "import os.path, time\n",
    "import importlib\n",
    "import numpy as np\n",
    "import open3d as o3d\n",
    "\n",
    "#IMPORT MODULES\n",
    "from context import geomapi \n",
    "from geomapi.nodes import *\n",
    "import geomapi.utils as ut\n",
    "from geomapi.utils import geometryutils as gmu\n",
    "import geomapi.tools as tl"
   ]
  },
  {
   "cell_type": "code",
   "execution_count": 9,
   "metadata": {},
   "outputs": [
    {
     "name": "stdout",
     "output_type": "stream",
     "text": [
      "The autoreload extension is already loaded. To reload it, use:\n",
      "  %reload_ext autoreload\n"
     ]
    }
   ],
   "source": [
    "%load_ext autoreload"
   ]
  },
  {
   "cell_type": "code",
   "execution_count": 10,
   "metadata": {},
   "outputs": [],
   "source": [
    "%autoreload 2"
   ]
  },
  {
   "cell_type": "markdown",
   "metadata": {},
   "source": [
    "## 1. INITIALIZE SESSION"
   ]
  },
  {
   "cell_type": "code",
   "execution_count": 11,
   "metadata": {},
   "outputs": [],
   "source": [
    "## INPUTS\n",
    "projectPath= os.path.abspath(os.path.join(os.getcwd(), os.pardir))+\"\\\\tests\"#\"D:\\\\Data\\\\2018-06 Werfopvolging Academiestraat Gent\" \n",
    "sessionPath = projectPath + \"\\\\Samples3\" #\"K:\\Projects\\2025-03 Project FWO SB Jelle\\7.Data\\21-11 House Maarten\\RAW data\\session_22-03-13 canon\n",
    "t_d =10.0 # (float) search distance\n",
    "t_x=2.0 # (float) search distance in X given the boundingbox\n",
    "t_y=2.0 # (float) search distance in Y given the boundingbox\n",
    "t_z=1.0 # (float) search distance in Z given the boundingbox\n",
    "\n",
    "idx=2 # index of the node you want to test"
   ]
  },
  {
   "cell_type": "markdown",
   "metadata": {},
   "source": [
    "## 2. READ PRESENT GRAPHS\n",
    "A specifc NodeType (Mesh,PCD,IMG,BIM) is created per resource in the session"
   ]
  },
  {
   "cell_type": "code",
   "execution_count": 12,
   "metadata": {},
   "outputs": [
    {
     "name": "stdout",
     "output_type": "stream",
     "text": [
      "Total graph size = 13691 triples from 2 paths\n"
     ]
    }
   ],
   "source": [
    "## read all graph files in a session and merge them\n",
    "allSessionFilePaths=ut.get_list_of_files(sessionPath) \n",
    "rdfGraphPaths=[]\n",
    "\n",
    "# collect all RDF graphs in the session\n",
    "sessionGraph = Graph()\n",
    "for path in allSessionFilePaths:        \n",
    "    if path.endswith(\".ttl\") and 'features' not in path:\n",
    "        rdfGraphPaths.append(path)\n",
    "        sessionGraph.parse(path)     \n",
    "print('Total graph size = '+str(len(sessionGraph)) +' triples from '+ str(len(rdfGraphPaths))+' paths')"
   ]
  },
  {
   "cell_type": "markdown",
   "metadata": {},
   "source": [
    "# 3. A Node is created per subject in the joint RDF Graph"
   ]
  },
  {
   "cell_type": "code",
   "execution_count": 13,
   "metadata": {},
   "outputs": [
    {
     "name": "stdout",
     "output_type": "stream",
     "text": [
      "971 Nodes succesfully created from the session!\n"
     ]
    }
   ],
   "source": [
    "nodelist=tl.graph_to_nodes(sessionGraph,sessionPath=sessionPath)\n",
    "print (str(len(nodelist))+' Nodes succesfully created from the session!')\n",
    "node=nodelist[idx]"
   ]
  },
  {
   "cell_type": "markdown",
   "metadata": {},
   "source": [
    "# WRAPPED SELECTIONS"
   ]
  },
  {
   "cell_type": "code",
   "execution_count": 14,
   "metadata": {},
   "outputs": [
    {
     "name": "stdout",
     "output_type": "stream",
     "text": [
      "No file containing this object's name and extension is found in the sessionfolder\n"
     ]
    },
    {
     "ename": "TypeError",
     "evalue": "read_triangle_mesh(): incompatible function arguments. The following argument types are supported:\n    1. (filename: str, enable_post_processing: bool = False, print_progress: bool = False) -> open3d.cpu.pybind.geometry.TriangleMesh\n\nInvoked with: None",
     "output_type": "error",
     "traceback": [
      "\u001b[1;31m---------------------------------------------------------------------------\u001b[0m",
      "\u001b[1;31mTypeError\u001b[0m                                 Traceback (most recent call last)",
      "\u001b[1;32m~\\AppData\\Local\\Temp/ipykernel_14528/289304725.py\u001b[0m in \u001b[0;36m<module>\u001b[1;34m\u001b[0m\n\u001b[0;32m      4\u001b[0m \u001b[0mselectedNodes4\u001b[0m\u001b[1;33m=\u001b[0m\u001b[0mld\u001b[0m\u001b[1;33m.\u001b[0m\u001b[0mselect_nodes_with_bounding_points_in_bounding_box\u001b[0m\u001b[1;33m(\u001b[0m\u001b[0mnode\u001b[0m\u001b[1;33m,\u001b[0m\u001b[0mnodelist\u001b[0m\u001b[1;33m,\u001b[0m\u001b[0mu\u001b[0m\u001b[1;33m=\u001b[0m\u001b[1;36m1\u001b[0m\u001b[1;33m,\u001b[0m\u001b[0mv\u001b[0m\u001b[1;33m=\u001b[0m\u001b[1;36m1\u001b[0m\u001b[1;33m,\u001b[0m\u001b[0mw\u001b[0m\u001b[1;33m=\u001b[0m\u001b[1;36m0.5\u001b[0m\u001b[1;33m)\u001b[0m\u001b[1;33m\u001b[0m\u001b[1;33m\u001b[0m\u001b[0m\n\u001b[0;32m      5\u001b[0m \u001b[0mselectedNodes5\u001b[0m\u001b[1;33m=\u001b[0m\u001b[0mld\u001b[0m\u001b[1;33m.\u001b[0m\u001b[0mselect_nodes_with_intersecting_bounding_box\u001b[0m\u001b[1;33m(\u001b[0m\u001b[0mnode\u001b[0m\u001b[1;33m,\u001b[0m\u001b[0mnodelist\u001b[0m\u001b[1;33m,\u001b[0m\u001b[0mu\u001b[0m\u001b[1;33m=\u001b[0m\u001b[1;36m1\u001b[0m\u001b[1;33m,\u001b[0m\u001b[0mv\u001b[0m\u001b[1;33m=\u001b[0m\u001b[1;36m1\u001b[0m\u001b[1;33m,\u001b[0m\u001b[0mw\u001b[0m\u001b[1;33m=\u001b[0m\u001b[1;36m0.5\u001b[0m\u001b[1;33m)\u001b[0m\u001b[1;33m\u001b[0m\u001b[1;33m\u001b[0m\u001b[0m\n\u001b[1;32m----> 6\u001b[1;33m \u001b[0mselectedNodes6\u001b[0m\u001b[1;33m=\u001b[0m\u001b[0mld\u001b[0m\u001b[1;33m.\u001b[0m\u001b[0mselect_nodes_with_intersecting_meshes\u001b[0m\u001b[1;33m(\u001b[0m\u001b[0mnode\u001b[0m\u001b[1;33m,\u001b[0m\u001b[0mnodelist\u001b[0m\u001b[1;33m)\u001b[0m\u001b[1;33m\u001b[0m\u001b[1;33m\u001b[0m\u001b[0m\n\u001b[0m\u001b[0;32m      7\u001b[0m \u001b[1;33m\u001b[0m\u001b[0m\n\u001b[0;32m      8\u001b[0m \u001b[0mprint\u001b[0m\u001b[1;33m(\u001b[0m\u001b[1;34m'selectedNodes1: '\u001b[0m\u001b[1;33m+\u001b[0m\u001b[0mstr\u001b[0m\u001b[1;33m(\u001b[0m\u001b[0mlen\u001b[0m\u001b[1;33m(\u001b[0m\u001b[0mselectedNodes1\u001b[0m\u001b[1;33m)\u001b[0m\u001b[1;33m)\u001b[0m\u001b[1;33m)\u001b[0m\u001b[1;33m\u001b[0m\u001b[1;33m\u001b[0m\u001b[0m\n",
      "\u001b[1;32md:\\Scan-to-BIM repository\\geomapi\\geomapi\\tools\\linkeddatatools.py\u001b[0m in \u001b[0;36mselect_nodes_with_intersecting_meshes\u001b[1;34m(node, nodelist)\u001b[0m\n\u001b[0;32m    337\u001b[0m     \"\"\"\n\u001b[0;32m    338\u001b[0m     \u001b[1;31m#get geometry source node\u001b[0m\u001b[1;33m\u001b[0m\u001b[1;33m\u001b[0m\u001b[1;33m\u001b[0m\u001b[0m\n\u001b[1;32m--> 339\u001b[1;33m     \u001b[1;32mif\u001b[0m \u001b[0mgetattr\u001b[0m\u001b[1;33m(\u001b[0m\u001b[0mnode\u001b[0m\u001b[1;33m,\u001b[0m\u001b[1;34m'get_mesh'\u001b[0m\u001b[1;33m,\u001b[0m\u001b[1;32mNone\u001b[0m\u001b[1;33m)\u001b[0m \u001b[1;32mis\u001b[0m \u001b[1;32mnot\u001b[0m \u001b[1;32mNone\u001b[0m \u001b[1;32mand\u001b[0m \u001b[0mnode\u001b[0m\u001b[1;33m.\u001b[0m\u001b[0mget_mesh\u001b[0m\u001b[1;33m(\u001b[0m\u001b[1;33m)\u001b[0m \u001b[1;32mis\u001b[0m \u001b[1;32mnot\u001b[0m \u001b[1;32mNone\u001b[0m\u001b[1;33m:\u001b[0m\u001b[1;33m\u001b[0m\u001b[1;33m\u001b[0m\u001b[0m\n\u001b[0m\u001b[0;32m    340\u001b[0m         \u001b[1;31m# get geometries nodelist\u001b[0m\u001b[1;33m\u001b[0m\u001b[1;33m\u001b[0m\u001b[1;33m\u001b[0m\u001b[0m\n\u001b[0;32m    341\u001b[0m         \u001b[0mmeshes\u001b[0m\u001b[1;33m=\u001b[0m\u001b[0mnp\u001b[0m\u001b[1;33m.\u001b[0m\u001b[0mempty\u001b[0m\u001b[1;33m(\u001b[0m\u001b[1;33m(\u001b[0m\u001b[0mlen\u001b[0m\u001b[1;33m(\u001b[0m\u001b[0mnodelist\u001b[0m\u001b[1;33m)\u001b[0m\u001b[1;33m,\u001b[0m\u001b[1;36m1\u001b[0m\u001b[1;33m)\u001b[0m\u001b[1;33m,\u001b[0m\u001b[0mdtype\u001b[0m\u001b[1;33m=\u001b[0m\u001b[0mo3d\u001b[0m\u001b[1;33m.\u001b[0m\u001b[0mgeometry\u001b[0m\u001b[1;33m.\u001b[0m\u001b[0mTriangleMesh\u001b[0m\u001b[1;33m)\u001b[0m\u001b[1;33m\u001b[0m\u001b[1;33m\u001b[0m\u001b[0m\n",
      "\u001b[1;32md:\\Scan-to-BIM repository\\geomapi\\geomapi\\nodes\\bimnode.py\u001b[0m in \u001b[0;36mget_mesh\u001b[1;34m(self)\u001b[0m\n\u001b[0;32m    138\u001b[0m         \u001b[1;32mif\u001b[0m \u001b[0mgetattr\u001b[0m\u001b[1;33m(\u001b[0m\u001b[0mself\u001b[0m\u001b[1;33m,\u001b[0m\u001b[1;34m'mesh'\u001b[0m\u001b[1;33m,\u001b[0m\u001b[1;32mNone\u001b[0m\u001b[1;33m)\u001b[0m \u001b[1;32mis\u001b[0m \u001b[1;32mnot\u001b[0m \u001b[1;32mNone\u001b[0m \u001b[1;32mand\u001b[0m \u001b[0mlen\u001b[0m\u001b[1;33m(\u001b[0m\u001b[0mself\u001b[0m\u001b[1;33m.\u001b[0m\u001b[0mmesh\u001b[0m\u001b[1;33m.\u001b[0m\u001b[0mtriangles\u001b[0m\u001b[1;33m)\u001b[0m\u001b[1;33m>\u001b[0m\u001b[1;36m1\u001b[0m\u001b[1;33m:\u001b[0m\u001b[1;33m\u001b[0m\u001b[1;33m\u001b[0m\u001b[0m\n\u001b[0;32m    139\u001b[0m             \u001b[1;32mreturn\u001b[0m \u001b[0mself\u001b[0m\u001b[1;33m.\u001b[0m\u001b[0mmesh\u001b[0m\u001b[1;33m\u001b[0m\u001b[1;33m\u001b[0m\u001b[0m\n\u001b[1;32m--> 140\u001b[1;33m         \u001b[1;32melif\u001b[0m \u001b[0mself\u001b[0m\u001b[1;33m.\u001b[0m\u001b[0mget_resource\u001b[0m\u001b[1;33m(\u001b[0m\u001b[1;33m)\u001b[0m\u001b[1;33m:\u001b[0m\u001b[1;33m\u001b[0m\u001b[1;33m\u001b[0m\u001b[0m\n\u001b[0m\u001b[0;32m    141\u001b[0m             \u001b[1;32mreturn\u001b[0m \u001b[0mself\u001b[0m\u001b[1;33m.\u001b[0m\u001b[0mmesh\u001b[0m\u001b[1;33m\u001b[0m\u001b[1;33m\u001b[0m\u001b[0m\n\u001b[0;32m    142\u001b[0m         \u001b[1;32mreturn\u001b[0m \u001b[1;32mNone\u001b[0m\u001b[1;33m\u001b[0m\u001b[1;33m\u001b[0m\u001b[0m\n",
      "\u001b[1;32md:\\Scan-to-BIM repository\\geomapi\\geomapi\\nodes\\bimnode.py\u001b[0m in \u001b[0;36mget_resource\u001b[1;34m(self)\u001b[0m\n\u001b[0;32m    147\u001b[0m         \"\"\"\n\u001b[0;32m    148\u001b[0m         \u001b[1;32mif\u001b[0m \u001b[0mgetattr\u001b[0m\u001b[1;33m(\u001b[0m\u001b[0mself\u001b[0m\u001b[1;33m,\u001b[0m\u001b[1;34m'mesh'\u001b[0m\u001b[1;33m,\u001b[0m\u001b[1;32mNone\u001b[0m\u001b[1;33m)\u001b[0m \u001b[1;32mis\u001b[0m \u001b[1;32mNone\u001b[0m\u001b[1;33m:\u001b[0m\u001b[1;33m\u001b[0m\u001b[1;33m\u001b[0m\u001b[0m\n\u001b[1;32m--> 149\u001b[1;33m             \u001b[0mself\u001b[0m\u001b[1;33m.\u001b[0m\u001b[0mmesh\u001b[0m \u001b[1;33m=\u001b[0m \u001b[0mo3d\u001b[0m\u001b[1;33m.\u001b[0m\u001b[0mio\u001b[0m\u001b[1;33m.\u001b[0m\u001b[0mread_triangle_mesh\u001b[0m\u001b[1;33m(\u001b[0m\u001b[0mself\u001b[0m\u001b[1;33m.\u001b[0m\u001b[0mget_resource_path\u001b[0m\u001b[1;33m(\u001b[0m\u001b[0mfileFormat\u001b[0m\u001b[1;33m=\u001b[0m\u001b[0mut\u001b[0m\u001b[1;33m.\u001b[0m\u001b[0mMESH_EXTENSION\u001b[0m\u001b[1;33m)\u001b[0m\u001b[1;33m)\u001b[0m\u001b[1;33m\u001b[0m\u001b[1;33m\u001b[0m\u001b[0m\n\u001b[0m\u001b[0;32m    150\u001b[0m \u001b[1;33m\u001b[0m\u001b[0m\n\u001b[0;32m    151\u001b[0m             \u001b[1;32mif\u001b[0m \u001b[0mgetattr\u001b[0m\u001b[1;33m(\u001b[0m\u001b[0mself\u001b[0m\u001b[1;33m,\u001b[0m\u001b[1;34m'ifcPath'\u001b[0m\u001b[1;33m,\u001b[0m\u001b[1;32mNone\u001b[0m\u001b[1;33m)\u001b[0m \u001b[1;32mis\u001b[0m \u001b[1;32mnot\u001b[0m \u001b[1;32mNone\u001b[0m \u001b[1;32mand\u001b[0m \u001b[0mgetattr\u001b[0m\u001b[1;33m(\u001b[0m\u001b[0mself\u001b[0m\u001b[1;33m,\u001b[0m\u001b[1;34m'globalId'\u001b[0m\u001b[1;33m,\u001b[0m\u001b[1;32mNone\u001b[0m\u001b[1;33m)\u001b[0m \u001b[1;32mis\u001b[0m \u001b[1;32mnot\u001b[0m \u001b[1;32mNone\u001b[0m \u001b[1;33m:\u001b[0m\u001b[1;33m\u001b[0m\u001b[1;33m\u001b[0m\u001b[0m\n",
      "\u001b[1;31mTypeError\u001b[0m: read_triangle_mesh(): incompatible function arguments. The following argument types are supported:\n    1. (filename: str, enable_post_processing: bool = False, print_progress: bool = False) -> open3d.cpu.pybind.geometry.TriangleMesh\n\nInvoked with: None"
     ]
    }
   ],
   "source": [
    "selectedNodes1=tl.select_k_nearest_nodes(node,nodelist,k=1)\n",
    "selectedNodes2=tl.select_nodes_with_centers_in_radius(node,nodelist,r=20)\n",
    "selectedNodes3=tl.select_nodes_with_centers_in_bounding_box(node,nodelist,u=1,v=1,w=0.5)\n",
    "selectedNodes4=tl.select_nodes_with_bounding_points_in_bounding_box(node,nodelist,u=1,v=1,w=0.5)\n",
    "selectedNodes5=tl.select_nodes_with_intersecting_bounding_box(node,nodelist,u=1,v=1,w=0.5)\n",
    "selectedNodes6=tl.select_nodes_with_intersecting_meshes(node,nodelist)\n",
    "\n",
    "print('selectedNodes1: '+str(len(selectedNodes1)))\n",
    "print('selectedNodes2: '+str(len(selectedNodes2)))\n",
    "print('selectedNodes3: '+str(len(selectedNodes3)))\n",
    "print('selectedNodes4: '+str(len(selectedNodes4)))\n",
    "print('selectedNodes5: '+str(len(selectedNodes5)))\n",
    "print('selectedNodes6: '+str(len(selectedNodes6)))\n"
   ]
  },
  {
   "cell_type": "markdown",
   "metadata": {},
   "source": [
    "## SELECTION 1\n",
    "select nodes within t_d"
   ]
  },
  {
   "cell_type": "code",
   "execution_count": null,
   "metadata": {},
   "outputs": [
    {
     "name": "stdout",
     "output_type": "stream",
     "text": [
      "IntVector[200, 466, 686, 788, 209, 264, 263, 799, 242, 243, 886, 635, 915, 780, 888, 269, 673, 634, 889, 124, 21, 672, 930, 445, 855, 719, 459, 633, 54, 914, 793, 241, 674, 240, 965, 310, 814, 518, 590, 508, 608, 694, 671, 22, 589, 853, 935, 713, 588, 715, 931, 783, 708, 657, 446, 450, 507, 151, 757, 443, 509, 815, 100, 781, 318, 837, 772, 854, 838, 882, 933, 710, 964, 718, 963, 675, 510, 891, 932, 439, 709, 620, 448, 810, 109, 918, 948, 890, 949, 693, 506, 809, 637, 950, 677, 591, 670, 631, 511, 11, 835, 636, 244, 201, 512, 377, 211, 386, 856, 720, 881, 540, 592, 449, 539, 522, 224, 387, 756, 12, 505, 685, 808, 378, 945, 616, 586, 541, 652, 538, 839, 789, 753, 885, 947, 98, 53, 222, 123, 542, 946, 800, 707, 564, 916, 775, 841, 563, 692, 836, 2, 609, 23, 617, 682, 444, 447, 50, 99, 829, 740, 831, 289, 782, 669, 168, 58, 618, 219, 834, 307, 565, 232, 108, 255, 893, 535, 857, 239, 892, 562, 458, 227, 218, 77, 57, 441, 630, 379, 290, 388, 784, 13, 265, 629, 394, 566, 97, 668, 752]\n",
      "IntVector[0]\n"
     ]
    }
   ],
   "source": [
    "#create pcd from cartesianTransforms or cartesianBounds\n",
    "pcd = o3d.geometry.PointCloud()\n",
    "array=np.empty((1,3),dtype=float)\n",
    "for node in nodelist:\n",
    "    if getattr(node,'cartesianTransform',None) is not None: \n",
    "        center=gmu.get_translation(node.cartesianTransform) \n",
    "        array=np.vstack([array,center])\n",
    "    elif getattr(node,'cartesianBounds',None) is not None:\n",
    "        center=gmu.get_center_of_cartesian_bounds(node.cartesianBounds) \n",
    "        array=np.vstack([array,center])\n",
    "pcd.points = o3d.utility.Vector3dVector(array)\n",
    "\n",
    "#Create KDTree from pcd\n",
    "pcdTree = o3d.geometry.KDTreeFlann(pcd)\n",
    "\n",
    "#Find its 200 nearest neighbors\")\n",
    "[k1, indices1, _] = pcdTree.search_knn_vector_3d(pcd.points[200], 200)\n",
    "\n",
    "#Find its neighbors with distance less than 0.2\n",
    "[k2, indices2, _] = pcdTree.search_radius_vector_3d(pcd.points[0], 0.2)\n",
    "print(str(indices1))\n",
    "print(str(indices2))\n"
   ]
  },
  {
   "cell_type": "code",
   "execution_count": null,
   "metadata": {},
   "outputs": [
    {
     "name": "stdout",
     "output_type": "stream",
     "text": [
      "[86.96807314 66.24003458 47.85120527]\n"
     ]
    }
   ],
   "source": [
    "print(pcd.points[0])"
   ]
  },
  {
   "cell_type": "code",
   "execution_count": null,
   "metadata": {},
   "outputs": [],
   "source": [
    "pcd.paint_uniform_color([1,0,0])\n",
    "# a = o3d.geometry.TriangleMesh.create_sphere(radius=10)\n",
    "# a.translate([-11.96593745 , 95.40430626 ,  8.92250137])\n",
    "a = o3d.geometry.TriangleMesh.create_sphere(radius=10)\n",
    "a.translate([-3.96593745 , 95.40430626 ,  8.92250137])\n",
    "box=a.get_oriented_bounding_box()\n",
    "box.color=[0,0,1]\n",
    "np.asarray(pcd.colors)[idx[1:], :] = [0, 0, 1]\n",
    "o3d.visualization.draw_geometries([pcd,box])"
   ]
  },
  {
   "cell_type": "markdown",
   "metadata": {},
   "source": [
    "# 5. SELECTION 2\n",
    "Select nodes of which the centers lie within bounding box of the source node with an offset [u,v,z]"
   ]
  },
  {
   "cell_type": "code",
   "execution_count": null,
   "metadata": {},
   "outputs": [
    {
     "name": "stdout",
     "output_type": "stream",
     "text": [
      "[0, 1, 4, 5, 6, 7, 8, 9, 10, 11, 12, 17, 18, 19, 20, 21, 22, 23, 27, 28, 29, 30, 31, 32, 33, 34, 35, 36, 37, 38, 39, 40, 41, 42, 43, 44, 45, 46, 47, 49, 50, 52, 53, 56, 57, 59, 60, 61, 62, 63, 66, 67, 68, 69, 70, 73, 74, 75, 76, 77, 80, 81, 82, 83, 84, 85, 87, 89, 90, 91, 92, 95, 96, 97, 98, 99, 100, 101, 102, 103, 104, 105, 107, 108, 109, 110, 111, 112, 113, 114, 115, 116, 117, 118, 119, 120, 121, 122, 123, 128, 129, 130, 131, 133, 134, 143, 144, 145, 146, 147, 148, 149, 150, 151, 152, 153, 154, 155, 156, 157, 158, 159, 160, 161, 162, 163, 164, 165, 166, 167, 168, 169, 170, 171, 172, 173, 174, 175, 176, 177, 178, 179, 180, 183, 184, 191, 192, 194, 198, 199, 200, 201, 202, 203, 204, 206, 207, 208, 210, 215, 216, 217, 218, 219, 220, 221, 222, 223, 224, 225, 226, 230, 231, 232, 237, 238, 239, 240, 241, 242, 243, 244, 245, 246, 247, 248, 249, 250, 251, 252, 253, 254, 255, 256, 257, 258, 259, 260, 261, 262, 263, 264, 268, 269, 270, 271, 272, 273, 274, 275, 276, 277, 278, 279, 280, 281, 285, 286, 287, 288, 289, 290, 295, 299, 300, 301, 302, 306, 307, 309, 310, 311, 313, 314, 316, 317, 320, 321, 322, 325, 326, 327, 330, 332, 333, 334, 335, 336, 341, 342, 343, 365, 366, 367, 368, 369, 370, 371, 372, 373, 374, 375, 376, 377, 378, 385, 386, 387, 391, 392, 393, 394, 395, 396, 397, 398, 399, 400, 401, 402, 403, 404, 405, 406, 407, 408, 409, 410, 411, 412, 413, 414, 415, 416, 417, 418, 419, 420, 421, 422, 423, 424, 425, 426, 427, 428, 429, 430, 431, 432, 433, 434, 435, 436, 437, 438, 439, 440, 441, 442, 443, 444, 445, 446, 447, 448, 449, 457, 458, 459, 465, 466, 481, 482, 492, 503, 504, 505, 506, 507, 508, 509, 510, 511, 516, 517, 519, 520, 521, 522, 523, 524, 525, 526, 527, 528, 529, 530, 531, 532, 533, 534, 535, 536, 537, 538, 539, 540, 541, 560, 561, 562, 563, 564, 565, 566, 567, 568, 569, 574, 575, 576, 577, 578, 579, 580, 581, 582, 583, 584, 585, 586, 587, 588, 589, 590, 591, 594, 595, 596, 597, 607, 608, 609, 613, 614, 615, 616, 617, 618, 619, 620, 621, 622, 623, 624, 625, 626, 627, 628, 629, 630, 631, 632, 633, 634, 635, 636, 637, 638, 639, 640, 641, 642, 651, 653, 654, 655, 656, 657, 659, 660, 661, 662, 663, 664, 665, 666, 667, 668, 669, 670, 671, 672, 673, 674, 675, 676, 677, 678, 681, 682, 683, 684, 685, 686, 688, 689, 690, 691, 692, 693, 696, 699, 702, 703, 704, 705, 706, 707, 708, 709, 712, 713, 714, 715, 716, 717, 718, 719, 720, 721, 722, 723, 724, 725, 726, 727, 728, 729, 730, 731, 732, 733, 734, 735, 736, 737, 738, 739, 740, 741, 742, 743, 744, 745, 746, 747, 748, 749, 750, 751, 752, 753, 754, 755, 756, 762, 765, 766, 767, 769, 770, 771, 772, 773, 774, 775, 776, 777, 778, 779, 780, 781, 782, 783, 785, 787, 788, 792, 797, 798, 799, 804, 805, 806, 807, 808, 809, 810, 813, 814, 815, 816, 817, 818, 819, 820, 821, 822, 823, 824, 825, 826, 827, 828, 829, 830, 831, 832, 833, 834, 835, 836, 837, 838, 839, 840, 841, 852, 853, 854, 855, 856, 857, 858, 859, 860, 861, 862, 863, 864, 865, 866, 867, 868, 869, 870, 871, 872, 873, 874, 875, 876, 877, 878, 879, 880, 881, 882, 883, 884, 885, 887, 888, 889, 890, 891, 892, 893, 894, 895, 901, 902, 903, 904, 905, 906, 907, 908, 909, 910, 911, 912, 913, 914, 915, 917, 918, 919, 920, 921, 922, 929, 930, 931, 932, 934, 936, 937, 938, 940, 941, 942, 944, 945, 946, 948, 949, 950, 952, 953, 954, 962, 972, 974, 975, 978, 979, 980, 981]\n"
     ]
    }
   ],
   "source": [
    "centers=np.empty((len(nodelist),3),dtype=float)\n",
    "boxes=np.empty((len(nodelist),1),dtype=o3d.geometry.OrientedBoundingBox)\n",
    "# pcds=np.empty((len(nodelist),1),dtype=o3d.geometry.PointCloud)\n",
    "\n",
    "for idx,node in enumerate(nodelist):\n",
    "    if getattr(node,'orientedBounds',None) is not None:\n",
    "        centers[idx,:]=node.get_center() \n",
    "        box=gmu.oriented_bounds_to_open3d_oriented_bounding_box(node.orientedBounds)      \n",
    "        box=gmu.expand_box(box,u=t_x,v=t_y,w=t_z) # to be tested\n",
    "        box.color=[1, 0, 0]\n",
    "        boxes[idx] = box\n",
    "\n",
    "#points are the centers of all the nodes\n",
    "pcd = o3d.geometry.PointCloud()\n",
    "points = o3d.utility.Vector3dVector(centers)\n",
    "pcd.points=points\n",
    "\n",
    "# #Find the nodes that lie within the index box \n",
    "idx=boxes[idx,0].get_point_indices_within_bounding_box(points)\n",
    "print(str(idx))"
   ]
  },
  {
   "cell_type": "code",
   "execution_count": null,
   "metadata": {},
   "outputs": [],
   "source": [
    "#visualize the result\n",
    "colors=np.zeros((len(nodelist),3))\n",
    "# pcd.paint_uniform_color([0, 0.651, 0.929])\n",
    "for i,color in enumerate(colors):\n",
    "    colors[idx,:]=[0.0, 0.0, 1.0]\n",
    "    if i==idx:\n",
    "        colors[idx,:]=[1.0,0.0,0.0]\n",
    "\n",
    "pcd.colors = o3d.utility.Vector3dVector(colors)\n",
    "o3d.visualization.draw_geometries([pcd,boxes[idx,0]])"
   ]
  },
  {
   "cell_type": "markdown",
   "metadata": {},
   "source": [
    "# 6. SELECTION 3\n",
    "Select nodes of which the verices of the bounding boxes intersect"
   ]
  },
  {
   "cell_type": "code",
   "execution_count": 31,
   "metadata": {},
   "outputs": [
    {
     "name": "stdout",
     "output_type": "stream",
     "text": [
      "[2, 3, 4, 7, 13, 15, 24, 25, 26, 28, 30, 32, 35, 36, 38, 39, 42, 45, 46, 51, 52, 53, 55, 56, 57, 58, 59, 60, 63, 67, 68, 69, 71, 74, 77, 80, 81, 82, 83, 85, 86, 88, 89, 90, 91, 94, 95, 96, 107, 110, 115, 121, 125, 126, 128, 131, 132, 138, 139, 145, 146, 148, 149, 151, 152, 154, 155, 156, 158, 160, 165, 171, 172, 173, 175, 177, 179, 181, 188, 192, 201, 203, 206, 207, 212, 220, 221, 224, 225, 233, 234, 238, 242, 244, 245, 248, 250, 253, 256, 258, 259, 265, 268, 270, 271, 272, 273, 274, 275, 276, 277, 279, 280, 282, 283, 284, 285, 288, 289, 290, 291, 295, 298, 299, 300, 301, 305, 308, 310, 311, 312, 315, 316, 320, 322, 328, 330, 331, 332, 334, 336, 338, 341, 343, 345, 346, 349, 353, 354, 356, 358, 360, 363, 365, 366, 371, 374, 377, 379, 380, 381, 388, 389, 390, 391, 393, 395, 396, 397, 398, 399, 400, 402, 403, 407, 408, 410, 411, 412, 415, 421, 424, 426, 427, 428, 430, 432, 434, 435, 438, 439, 440, 443, 445, 451, 452, 453, 457, 460, 462, 464, 465, 466, 468, 470, 472, 473, 476, 478, 482, 488, 489, 490, 491, 494, 495, 497, 500, 504, 507, 508, 509, 512, 513, 514, 516, 519, 520, 522, 524, 525, 526, 527, 528, 529, 532, 533, 534, 536, 537, 538, 539, 540, 542, 543, 544, 547, 548, 550, 551, 552, 553, 554, 555, 557, 566, 570, 571, 572, 573, 575, 576, 577, 579, 580, 585, 588, 592, 593, 594, 595, 599, 600, 602, 603, 605, 607, 608, 613, 616, 619, 621, 622, 623, 624, 625, 629, 630, 632, 638, 640, 641, 642, 645, 647, 648, 649, 650, 651, 654, 656, 657, 663, 664, 665, 668, 669, 670, 671, 672, 673, 675, 678, 680, 682, 683, 684, 686, 688, 689, 691, 694, 696, 698, 699, 702, 703, 705, 708, 709, 710, 713, 714, 715, 718, 719, 722, 723, 726, 729, 730, 732, 734, 735, 740, 741, 742, 744, 747, 751, 755, 758, 759, 762, 764, 765, 776, 780, 781, 782, 783, 786, 787, 788, 789, 792, 793, 795, 798, 799, 800, 803, 810, 812, 813, 814, 816, 821, 829, 830, 831, 832, 833, 837, 838, 841, 842, 843, 844, 846, 850, 851, 852, 853, 854, 856, 858, 859, 862, 866, 868, 872, 873, 876, 879, 881, 882, 883, 884, 885, 889, 892, 893, 895, 896, 897, 899, 901, 903, 904, 907, 915, 922, 923, 924, 927, 928, 931, 932, 933, 937, 940, 945, 946, 949, 950, 954, 956, 957, 960, 961, 962, 964, 965, 966, 970, 974, 977, 978, 981]\n"
     ]
    }
   ],
   "source": [
    "centers=np.empty((len(nodelist),3),dtype=float)\n",
    "boxes=np.empty((len(nodelist),1),dtype=o3d.geometry.OrientedBoundingBox)\n",
    "\n",
    "for idx,node in enumerate(nodelist):\n",
    "    if getattr(node,'orientedBounds',None) is not None:\n",
    "        centers[idx,:]=node.get_center()  \n",
    "        box=gmu.oriented_bounds_to_open3d_oriented_bounding_box(node.orientedBounds)      \n",
    "        box=gmu.expand_box(box,u=t_x,v=t_y,w=t_z) # to be tested\n",
    "        box.color=[1, 0, 0]\n",
    "        boxes[idx] = box\n",
    "\n",
    "result=gmu.get_box_inliers(boxes[idx,0],boxes[:,0])\n",
    "print(str(result))"
   ]
  },
  {
   "cell_type": "code",
   "execution_count": null,
   "metadata": {},
   "outputs": [],
   "source": [
    "#visualise results\n",
    "list=[]\n",
    "for i,box in enumerate(boxes[:,0]):\n",
    "    if box !=None and len(result) !=0:\n",
    "        box.color=[1, 0, 0]\n",
    "        if i in result:\n",
    "            box.color=[0, 0, 1]\n",
    "        list.append(box)\n",
    "o3d.visualization.draw_geometries(list)"
   ]
  },
  {
   "cell_type": "markdown",
   "metadata": {},
   "source": [
    "# 7. SELECTION 4\n",
    "Select nodes of which the geometry of the bounding boxes intersect"
   ]
  },
  {
   "cell_type": "code",
   "execution_count": 33,
   "metadata": {},
   "outputs": [
    {
     "name": "stdout",
     "output_type": "stream",
     "text": [
      "[0, 1, 4, 5, 6, 7, 8, 9, 10, 11, 12, 13, 17, 18, 19, 20, 21, 22, 23, 27, 28, 29, 30, 31, 32, 33, 34, 35, 36, 37, 38, 39, 40, 41, 42, 43, 44, 45, 46, 47, 49, 50, 51, 52, 53, 56, 57, 59, 60, 61, 62, 63, 66, 67, 68, 69, 70, 71, 73, 74, 75, 76, 77, 80, 81, 82, 83, 84, 85, 87, 89, 90, 91, 92, 95, 96, 97, 98, 99, 100, 101, 102, 103, 104, 105, 107, 108, 109, 110, 111, 112, 113, 114, 115, 116, 117, 118, 119, 120, 121, 122, 123, 128, 129, 130, 131, 133, 134, 141, 142, 143, 144, 145, 146, 147, 148, 149, 150, 151, 152, 153, 154, 155, 156, 157, 158, 159, 160, 161, 162, 163, 164, 165, 166, 167, 168, 169, 170, 171, 172, 173, 174, 175, 176, 177, 178, 179, 180, 181, 183, 184, 187, 188, 191, 192, 194, 198, 199, 200, 201, 202, 203, 204, 206, 207, 208, 210, 215, 216, 217, 218, 219, 220, 221, 222, 223, 224, 225, 226, 227, 230, 231, 232, 233, 237, 238, 239, 240, 241, 242, 243, 244, 245, 246, 247, 248, 249, 250, 251, 252, 253, 254, 255, 256, 257, 258, 259, 260, 261, 262, 263, 264, 265, 268, 269, 270, 271, 272, 273, 274, 275, 276, 277, 278, 279, 280, 281, 285, 286, 287, 288, 289, 290, 295, 298, 299, 300, 301, 302, 305, 306, 307, 309, 310, 311, 313, 314, 316, 317, 320, 321, 322, 325, 326, 327, 330, 332, 333, 334, 335, 336, 337, 338, 341, 342, 343, 344, 345, 351, 361, 362, 365, 366, 367, 368, 369, 370, 371, 372, 373, 374, 375, 376, 377, 378, 385, 386, 387, 391, 392, 393, 394, 395, 396, 397, 398, 399, 400, 401, 402, 403, 404, 405, 406, 407, 408, 409, 410, 411, 412, 413, 414, 415, 416, 417, 418, 419, 420, 421, 422, 423, 424, 425, 426, 427, 428, 429, 430, 431, 432, 433, 434, 435, 436, 437, 438, 439, 440, 441, 442, 443, 444, 445, 446, 447, 448, 449, 450, 457, 458, 459, 460, 462, 465, 466, 468, 470, 471, 473, 475, 476, 480, 481, 482, 483, 488, 492, 493, 494, 502, 503, 504, 505, 506, 507, 508, 509, 510, 511, 512, 514, 516, 517, 519, 520, 521, 522, 523, 524, 525, 526, 527, 528, 529, 530, 531, 532, 533, 534, 535, 536, 537, 538, 539, 540, 541, 545, 546, 547, 548, 560, 561, 562, 563, 564, 565, 566, 567, 568, 569, 574, 575, 576, 577, 578, 579, 580, 581, 582, 583, 584, 585, 586, 587, 588, 589, 590, 591, 592, 593, 594, 595, 596, 597, 607, 608, 609, 613, 614, 615, 616, 617, 618, 619, 620, 621, 622, 623, 624, 625, 626, 627, 628, 629, 630, 631, 632, 633, 634, 635, 636, 637, 638, 639, 640, 641, 642, 651, 653, 654, 655, 656, 657, 659, 660, 661, 662, 663, 664, 665, 666, 667, 668, 669, 670, 671, 672, 673, 674, 675, 676, 677, 678, 681, 682, 683, 684, 685, 686, 688, 689, 690, 691, 692, 693, 694, 696, 699, 700, 702, 703, 704, 705, 706, 707, 708, 709, 712, 713, 714, 715, 716, 717, 718, 719, 720, 721, 722, 723, 724, 725, 726, 727, 728, 729, 730, 731, 732, 733, 734, 735, 736, 737, 738, 739, 740, 741, 742, 743, 744, 745, 746, 747, 748, 749, 750, 751, 752, 753, 754, 755, 756, 757, 759, 762, 763, 765, 766, 767, 769, 770, 771, 772, 773, 774, 775, 776, 777, 778, 779, 780, 781, 782, 783, 785, 787, 788, 792, 793, 797, 798, 799, 803, 804, 805, 806, 807, 808, 809, 810, 813, 814, 815, 816, 817, 818, 819, 820, 821, 822, 823, 824, 825, 826, 827, 828, 829, 830, 831, 832, 833, 834, 835, 836, 837, 838, 839, 840, 841, 842, 843, 852, 853, 854, 855, 856, 857, 858, 859, 860, 861, 862, 863, 864, 865, 866, 867, 868, 869, 870, 871, 872, 873, 874, 875, 876, 877, 878, 879, 880, 881, 882, 883, 884, 885, 887, 888, 889, 890, 891, 892, 893, 894, 895, 896, 901, 902, 903, 904, 905, 906, 907, 908, 909, 910, 911, 912, 913, 914, 915, 917, 918, 919, 920, 921, 922, 923, 924, 929, 930, 931, 932, 934, 936, 937, 938, 940, 941, 942, 944, 945, 946, 948, 949, 950, 952, 953, 954, 956, 958, 960, 961, 962, 972, 974, 975, 976, 977, 978, 979, 980, 981]\n"
     ]
    }
   ],
   "source": [
    "centers=np.empty((len(nodelist),3),dtype=float)\n",
    "boxes=np.empty((len(nodelist),1),dtype=o3d.geometry.OrientedBoundingBox)\n",
    "\n",
    "for idx,node in enumerate(nodelist):\n",
    "    if getattr(node,'orientedBounds',None) is not None:\n",
    "        centers[idx,:]=node.get_center()  \n",
    "        box=gmu.oriented_bounds_to_open3d_oriented_bounding_box(node.orientedBounds)      \n",
    "        box=gmu.expand_box(box,u=t_x,v=t_y,w=t_z) # to be tested\n",
    "        box.color=[1, 0, 0]\n",
    "        boxes[idx] = box\n",
    "\n",
    "\n",
    "result=gmu.get_box_intersections(boxes[idx,0],boxes[:,0]) #to check\n",
    "print(str(result))"
   ]
  },
  {
   "cell_type": "code",
   "execution_count": null,
   "metadata": {},
   "outputs": [],
   "source": [
    "#visualise results\n",
    "list=[]\n",
    "for i,box in enumerate(boxes[:,0]):\n",
    "    if box !=None and len(result) !=0:\n",
    "        box.color=[1, 0, 0]\n",
    "        if i in result:\n",
    "            box.color=[0, 0, 1]\n",
    "        list.append(box)\n",
    "list[0].color=[0,1,0]\n",
    "o3d.visualization.draw_geometries(list)"
   ]
  }
 ],
 "metadata": {
  "interpreter": {
   "hash": "801b4083378541fd050d6c91abf6ec053c863905e8162e031d57b83e7cdb3051"
  },
  "kernelspec": {
   "display_name": "Python 3.8.13 ('conda_environment3')",
   "language": "python",
   "name": "python3"
  },
  "language_info": {
   "codemirror_mode": {
    "name": "ipython",
    "version": 3
   },
   "file_extension": ".py",
   "mimetype": "text/x-python",
   "name": "python",
   "nbconvert_exporter": "python",
   "pygments_lexer": "ipython3",
   "version": "3.8.13"
  },
  "orig_nbformat": 4,
  "vscode": {
   "interpreter": {
    "hash": "832bf5fd5c6660b37dd2a90a45a57b02f877bb0a297fe89ca9c261a7f9e32997"
   }
  }
 },
 "nbformat": 4,
 "nbformat_minor": 2
}

{
 "cells": [
  {
   "cell_type": "markdown",
   "metadata": {},
   "source": [
    "# DETECT COLLIDING GEOMETRIES\n",
    "In this notebook, we evaluate a set of nodes whether their geometries collide with a mesh\n",
    "As ouput, the method generates a selection of nodes \n",
    "\n",
    ">This codebase operates on the scan2bim2.yml environment (python 3.8)"
   ]
  },
  {
   "cell_type": "code",
   "execution_count": 2,
   "metadata": {},
   "outputs": [
    {
     "name": "stdout",
     "output_type": "stream",
     "text": [
      "Jupyter environment detected. Enabling Open3D WebVisualizer.\n",
      "[Open3D INFO] WebRTC GUI backend enabled.\n",
      "[Open3D INFO] WebRTCWindowSystem: HTTP handshake server disabled.\n"
     ]
    }
   ],
   "source": [
    "#IMPORT PACKAGES\n",
    "from rdflib import Graph\n",
    "\n",
    "import os.path, time\n",
    "import importlib\n",
    "import numpy as np\n",
    "import open3d as o3d\n",
    "\n",
    "#IMPORT MODULES\n",
    "from context import geomapi \n",
    "from geomapi.nodes import *\n",
    "import geomapi.utils as ut\n",
    "from geomapi.utils import geometryutils as gmu\n",
    "import geomapi.tools as tl\n"
   ]
  },
  {
   "cell_type": "code",
   "execution_count": null,
   "metadata": {},
   "outputs": [],
   "source": [
    "%load_ext autoreload"
   ]
  },
  {
   "cell_type": "code",
   "execution_count": null,
   "metadata": {},
   "outputs": [],
   "source": [
    "%autoreload 2"
   ]
  },
  {
   "cell_type": "markdown",
   "metadata": {},
   "source": [
    "## 1. INITIALIZE SESSION"
   ]
  },
  {
   "cell_type": "code",
   "execution_count": 3,
   "metadata": {},
   "outputs": [],
   "source": [
    "## INPUTS\n",
    "projectPath= os.path.abspath(os.path.join(os.getcwd(), os.pardir))+\"\\\\tests\"#\"D:\\\\Data\\\\2018-06 Werfopvolging Academiestraat Gent\" \n",
    "sessionPath = projectPath + \"\\\\Samples3\" #\"K:\\Projects\\2025-03 Project FWO SB Jelle\\7.Data\\21-11 House Maarten\\RAW data\\session_22-03-13 canon\n",
    "t_d =10.0 # (float) search distance\n",
    "t_x=2.0 # (float) search distance in X given the boundingbox\n",
    "t_y=2.0 # (float) search distance in Y given the boundingbox\n",
    "t_z=1.0 # (float) search distance in Z given the boundingbox\n",
    "\n",
    "idx=2 # index of the node you want to test"
   ]
  },
  {
   "cell_type": "markdown",
   "metadata": {},
   "source": [
    "## 2. READ PRESENT GRAPHS\n",
    "A specifc NodeType (Mesh,PCD,IMG,BIM) is created per resource in the session"
   ]
  },
  {
   "cell_type": "code",
   "execution_count": 4,
   "metadata": {},
   "outputs": [
    {
     "name": "stdout",
     "output_type": "stream",
     "text": [
      "Total graph size = 14939 triples from 2 paths\n"
     ]
    }
   ],
   "source": [
    "## read all graph files in a session and merge them\n",
    "allSessionFilePaths=ut.get_list_of_files(sessionPath) \n",
    "rdfGraphPaths=[]\n",
    "\n",
    "# collect all RDF graphs in the session\n",
    "sessionGraph = Graph()\n",
    "for path in allSessionFilePaths:        \n",
    "    if path.endswith(\".ttl\") and 'features' not in path:\n",
    "        rdfGraphPaths.append(path)\n",
    "        sessionGraph.parse(path)     \n",
    "print('Total graph size = '+str(len(sessionGraph)) +' triples from '+ str(len(rdfGraphPaths))+' paths')"
   ]
  },
  {
   "cell_type": "markdown",
   "metadata": {},
   "source": [
    "# 3. A Node is created per subject in the joint RDF Graph"
   ]
  },
  {
   "cell_type": "code",
   "execution_count": 5,
   "metadata": {},
   "outputs": [
    {
     "name": "stdout",
     "output_type": "stream",
     "text": [
      "982 Nodes succesfully created from the session!\n"
     ]
    }
   ],
   "source": [
    "nodelist=tl.graph_to_nodes(sessionGraph,sessionPath=sessionPath)\n",
    "print (str(len(nodelist))+' Nodes succesfully created from the session!')\n",
    "node=nodelist[idx]"
   ]
  },
  {
   "cell_type": "markdown",
   "metadata": {},
   "source": [
    "## 6. TEST COLLISIONS"
   ]
  },
  {
   "cell_type": "code",
   "execution_count": 7,
   "metadata": {},
   "outputs": [],
   "source": [
    "#isolate some examples\n",
    "testmeshes=[node.get_mesh() for idx,node in enumerate(nodelist) if idx in range(350,400) ]\n",
    "mesh = o3d.io.read_triangle_mesh(\"D:\\\\Scan-to-BIM repository\\\\geomapi\\\\tests\\\\Samples5\\\\week22.obj\")\n",
    "node=MeshNode(mesh=mesh)\n",
    "sourceMesh=node.get_mesh()"
   ]
  },
  {
   "cell_type": "code",
   "execution_count": 8,
   "metadata": {},
   "outputs": [],
   "source": [
    "#draw these geometries\n",
    "o3d.visualization.draw_geometries(testmeshes+[sourceMesh])"
   ]
  },
  {
   "cell_type": "code",
   "execution_count": 9,
   "metadata": {},
   "outputs": [
    {
     "name": "stderr",
     "output_type": "stream",
     "text": [
      "unable to convert colors!\n"
     ]
    },
    {
     "name": "stdout",
     "output_type": "stream",
     "text": [
      "68\n"
     ]
    }
   ],
   "source": [
    "selectedNodes6=tl.select_nodes_with_intersecting_meshes(node,nodelist)\n",
    "print(len(selectedNodes6))"
   ]
  },
  {
   "cell_type": "code",
   "execution_count": 10,
   "metadata": {},
   "outputs": [],
   "source": [
    "hitMeshes=[node.mesh.paint_uniform_color([1,0,0]) for node in selectedNodes6]"
   ]
  },
  {
   "cell_type": "code",
   "execution_count": 11,
   "metadata": {},
   "outputs": [],
   "source": [
    "meshes=[node.mesh for node in nodelist if getattr(node,'mesh',None) is not None]"
   ]
  },
  {
   "cell_type": "code",
   "execution_count": 12,
   "metadata": {},
   "outputs": [],
   "source": [
    "o3d.visualization.draw_geometries(meshes+[sourceMesh])"
   ]
  },
  {
   "cell_type": "code",
   "execution_count": 13,
   "metadata": {},
   "outputs": [
    {
     "ename": "NameError",
     "evalue": "name 'nodes' is not defined",
     "output_type": "error",
     "traceback": [
      "\u001b[1;31m---------------------------------------------------------------------------\u001b[0m",
      "\u001b[1;31mNameError\u001b[0m                                 Traceback (most recent call last)",
      "\u001b[1;32m~\\AppData\\Local\\Temp/ipykernel_24536/2996381485.py\u001b[0m in \u001b[0;36m<module>\u001b[1;34m\u001b[0m\n\u001b[1;32m----> 1\u001b[1;33m \u001b[0mhitMeshes\u001b[0m\u001b[1;33m=\u001b[0m\u001b[1;33m[\u001b[0m\u001b[0mnode\u001b[0m\u001b[1;33m.\u001b[0m\u001b[0mmesh\u001b[0m\u001b[1;33m.\u001b[0m\u001b[0mpaint_uniform_color\u001b[0m\u001b[1;33m(\u001b[0m\u001b[1;33m[\u001b[0m\u001b[1;36m1\u001b[0m\u001b[1;33m,\u001b[0m\u001b[1;36m0\u001b[0m\u001b[1;33m,\u001b[0m\u001b[1;36m0\u001b[0m\u001b[1;33m]\u001b[0m\u001b[1;33m)\u001b[0m \u001b[1;32mfor\u001b[0m \u001b[0midx\u001b[0m\u001b[1;33m,\u001b[0m\u001b[0mnode\u001b[0m \u001b[1;32min\u001b[0m \u001b[0menumerate\u001b[0m\u001b[1;33m(\u001b[0m\u001b[0mnodes\u001b[0m\u001b[1;33m)\u001b[0m \u001b[1;32mif\u001b[0m \u001b[0midx\u001b[0m \u001b[1;32min\u001b[0m \u001b[0mnames\u001b[0m\u001b[1;33m]\u001b[0m\u001b[1;33m\u001b[0m\u001b[1;33m\u001b[0m\u001b[0m\n\u001b[0m\u001b[0;32m      2\u001b[0m \u001b[0mo3d\u001b[0m\u001b[1;33m.\u001b[0m\u001b[0mvisualization\u001b[0m\u001b[1;33m.\u001b[0m\u001b[0mdraw_geometries\u001b[0m\u001b[1;33m(\u001b[0m\u001b[0mtestmeshes\u001b[0m\u001b[1;33m+\u001b[0m\u001b[0mhitMeshes\u001b[0m\u001b[1;33m+\u001b[0m\u001b[1;33m[\u001b[0m\u001b[0msourceMesh\u001b[0m\u001b[1;33m]\u001b[0m\u001b[1;33m)\u001b[0m\u001b[1;33m\u001b[0m\u001b[1;33m\u001b[0m\u001b[0m\n",
      "\u001b[1;31mNameError\u001b[0m: name 'nodes' is not defined"
     ]
    }
   ],
   "source": [
    "hitMeshes=[node.mesh.paint_uniform_color([1,0,0]) for idx,node in enumerate(nodes) if idx in names]\n",
    "o3d.visualization.draw_geometries(testmeshes+hitMeshes+[sourceMesh])"
   ]
  }
 ],
 "metadata": {
  "interpreter": {
   "hash": "801b4083378541fd050d6c91abf6ec053c863905e8162e031d57b83e7cdb3051"
  },
  "kernelspec": {
   "display_name": "Python 3.8.13 ('conda_environment3')",
   "language": "python",
   "name": "python3"
  },
  "language_info": {
   "codemirror_mode": {
    "name": "ipython",
    "version": 3
   },
   "file_extension": ".py",
   "mimetype": "text/x-python",
   "name": "python",
   "nbconvert_exporter": "python",
   "pygments_lexer": "ipython3",
   "version": "3.8.13"
  },
  "orig_nbformat": 4,
  "vscode": {
   "interpreter": {
    "hash": "832bf5fd5c6660b37dd2a90a45a57b02f877bb0a297fe89ca9c261a7f9e32997"
   }
  }
 },
 "nbformat": 4,
 "nbformat_minor": 2
}

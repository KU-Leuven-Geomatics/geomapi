{
 "cells": [
  {
   "cell_type": "markdown",
   "metadata": {},
   "source": [
    "# PREPROCESSING BIM DATA TO LINKED DATA\n",
    "In this notebook, we evaluate the BIM assets in a session repository.\n",
    "For every ifcElement in an ifcfile, a BIMNODE metadata class is created \n",
    "that governs the metadata of the BIM element (paths, pose, etc.).\n",
    "As ouput, the method generates RDF GRAPHS (.ttl) and O3D.MESH (.obj) files\n",
    "\n",
    ">This codebase operates on the scan2bim2.yml environment (python 3.8) and ifcopenshell"
   ]
  },
  {
   "cell_type": "code",
   "execution_count": 1,
   "metadata": {},
   "outputs": [
    {
     "name": "stdout",
     "output_type": "stream",
     "text": [
      "Jupyter environment detected. Enabling Open3D WebVisualizer.\n",
      "[Open3D INFO] WebRTC GUI backend enabled.\n",
      "[Open3D INFO] WebRTCWindowSystem: HTTP handshake server disabled.\n"
     ]
    }
   ],
   "source": [
    "#IMPORT PACKAGES\n",
    "import rdflib\n",
    "from rdflib import Graph, plugin\n",
    "from rdflib.serializer import Serializer #pip install rdflib-jsonld https://pypi.org/project/rdflib-jsonld/\n",
    "from rdflib import Graph\n",
    "from rdflib import URIRef, BNode, Literal\n",
    "from rdflib.namespace import CSVW, DC, DCAT, DCTERMS, DOAP, FOAF, ODRL2, ORG, OWL, \\\n",
    "                           PROF, PROV, RDF, RDFS, SDO, SH, SKOS, SOSA, SSN, TIME, \\\n",
    "                           VOID, XMLNS, XSD\n",
    "\n",
    "import os.path, time\n",
    "import importlib\n",
    "import numpy as np\n",
    "import xml.etree.ElementTree as ET\n",
    "import open3d as o3d\n",
    "import uuid    \n",
    "import pye57 \n",
    "import ifcopenshell\n",
    "import ifcopenshell.geom as geom\n",
    "import ifcopenshell.util\n",
    "from ifcopenshell.util.selector import Selector\n",
    "\n",
    "#IMPORT MODULES\n",
    "from context import geomapi \n",
    "from geomapi.nodes import *\n",
    "import geomapi.utils as ut\n",
    "import geomapi.tools as tl\n",
    "from geomapi.utils import geometryutils as gmu"
   ]
  },
  {
   "cell_type": "code",
   "execution_count": 2,
   "metadata": {},
   "outputs": [],
   "source": [
    "%load_ext autoreload"
   ]
  },
  {
   "cell_type": "code",
   "execution_count": 3,
   "metadata": {},
   "outputs": [],
   "source": [
    "%autoreload 2"
   ]
  },
  {
   "cell_type": "markdown",
   "metadata": {},
   "source": [
    "## 1. INITIALIZE SESSION"
   ]
  },
  {
   "cell_type": "code",
   "execution_count": 4,
   "metadata": {},
   "outputs": [],
   "source": [
    "## INPUTS\n",
    "projectPath= os.path.join(os.path.abspath(os.path.join(os.getcwd(), os.pardir)),\"test\" )#\"D:\\\\Data\\\\2018-06 Werfopvolging Academiestraat Gent\" \n",
    "sessionPath = os.path.join(projectPath,\"testfiles\") #\"K:\\Projects\\2025-03 Project FWO SB Jelle\\7.Data\\21-11 House Maarten\\RAW data\\session_22-03-13 canon\n",
    "graphPath = os.path.join(sessionPath,\"bimGraph1.ttl\")\n",
    "resourcePath=os.path.join(sessionPath,\"resources\")\n",
    "\n",
    "phase='BIM-UF'\n",
    "accuracy=0.05\n",
    "# classes= '.IfcBeam | .IfcColumn | .IfcWall | .IfcSlab'#'.IfcElement' #"
   ]
  },
  {
   "cell_type": "markdown",
   "metadata": {},
   "source": [
    "## 2. READ IFC FILES \n",
    "A BIMNode is created per ifcElement in the session. Mesh geometry is created for every node"
   ]
  },
  {
   "cell_type": "code",
   "execution_count": 5,
   "metadata": {},
   "outputs": [],
   "source": [
    "ifcPath1=os.path.join(sessionPath,'IFC','Academiestraat_building_1.ifc')\n",
    "ifcPath2=os.path.join(sessionPath,'IFC',\"Mariakerke_AWV_Conform_3D_BT_l72.ifc\")  \n",
    "ifcPath3=os.path.join(sessionPath,'IFC',\"Academiestraat_parking.ifc\")  \n",
    "ifcPath4=os.path.join(sessionPath,'IFC',\"B1_ALG_Model.ifc\")  \n",
    "\n",
    "graphPath1 = os.path.join(sessionPath,\"bimGraph1.ttl\")\n",
    "graphPath2 = os.path.join(sessionPath,\"bimGraph2.ttl\")\n",
    "graphPath3 = os.path.join(sessionPath,\"bimGraph3.ttl\")\n",
    "graphPath4 = os.path.join(sessionPath,\"bimGraph4.ttl\")\n",
    "\n",
    "bimpath=os.path.join(sessionPath,\"BIM\")\n",
    "\n"
   ]
  },
  {
   "cell_type": "code",
   "execution_count": 6,
   "metadata": {},
   "outputs": [
    {
     "name": "stdout",
     "output_type": "stream",
     "text": [
      "file:///BT5_Rioolpijp_Aansluiting_WRP2_0zVea_7dP248qp_1F_Pwch\n",
      "file:///BT1_Onderbouw_Fundering_2vLNF4ypr1AxRTiBL6oGaV\n",
      "file:///BT5_Rioolpijp_Aansluiting_WRP2_14e880Gfj5GPb8b3TpG1KT\n",
      "file:///BT1_Onderbouw_Fundering_3Cgs0xWeXE_eicfza_5qQT\n",
      "file:///BT9_Deksel_Prive_Huisaansluiting_WPI22_2dpn5DCfn1dQru1BA3q36r\n",
      "file:///BT5_Rioolpijp_Aansluiting_WRP2_2F6EQDaKz39ARyiADh_9v_\n",
      "file:///BT8_Loofboom_Laag_WGI2_2aQMlZejr2ZPwOlbJD8cvR\n",
      "file:///BT5_Rioolpijp_Aansluiting_WRP2_1cClrsMXT6J8Jsvtaoqt2a\n",
      "file:///BT1_Onderbouw_Fundering_1n_3RrgP59tB3ZdWRm77Wq\n",
      "file:///BT9_Deksel_Prive_Huisaansluiting_WPI22_0JMve7Yh595gmEQlxhR7Eb\n",
      "file:///BT1_Onderbouw_Fundering_0jLihvjbj3jO6QBgJ8M5et\n",
      "file:///BT9_Deksel_Prive_Huisaansluiting_WPI22_2WUk6SOuP77h2rmEuAXpk4\n",
      "file:///BT8_Loofboom_Laag_WGI2_2gFVkBjcL9XARvz30P5ZPw\n",
      "file:///BT9_Deksel_Prive_Huisaansluiting_WPI22_2fWnjw29HCdATDk4mDNxDe\n",
      "file:///BT8_Loofboom_Laag_WGI2_2J_7gS4cHC08lLLAG8Cp_q\n",
      "file:///BT5_Rioolpijp_Aansluiting_WRP2_1KuzWboA9BIBSW8R10MlKs\n",
      "file:///BT5_Rioolpijp_Aansluiting_WRP2_2LNClAiYLAnQQ1nSN1r4I5\n",
      "file:///BT1_Onderbouw_Fundering_2MxTfjYxT9XvqcDc73pwYh\n",
      "file:///BT1_Watergang_Onverhard_Bovenkant_WGL3_3YrAuPCND3BfLKvBdk0Nal\n",
      "file:///BT1_Verhardingstype_WSV1_34yiahMn11GPuRBInvIx9c\n",
      "file:///BT1_Onderbouw_Fundering_0hrtBDBRf8lx8pD52o5U1P\n",
      "file:///BT1_Soort_Bedekking_WSV11_2PpmXyFnz1_QUVtw0_xe4L\n",
      "file:///BT1_Watergang_Onverhard_Bovenkant_WGL3_03js89vg9EdQqUgD344yJr\n",
      "file:///BT5_Rioolpijp_Aansluiting_WRP2_3mdkkuQirF3OsSNNlNgekv\n",
      "file:///BT9_Deksel_Prive_Huisaansluiting_WPI22_3H7DyiHwT7hwR69f2l72fp\n",
      "file:///BT8_Loofboom_Laag_WGI2_0ospEh8kzDreHXJEZwj4K3\n",
      "file:///BT1_Bodembedekking_WSV10_3dzlFaOIb0bx0z6uxD96Sz\n",
      "file:///BT9_Deksel_Prive_Huisaansluiting_WPI22_1ojLcbvHnAhfEtebQIsjjY\n",
      "file:///BT9_Deksel_Waterafvoer_Rond_WRI1_0LQpWG_GX4rA6NvvP3ddlP\n",
      "file:///BT9_Deksel_Prive_Huisaansluiting_WPI22_0iHQz_0bP5KgZgVt8tDVtX\n",
      "file:///BT9_Deksel_Prive_Huisaansluiting_WPI22_0TIlRB_hX9cOF3knr1ty7Y\n",
      "file:///BT1_Onderbouw_Fundering_2NYKFQWFP12wHMSLLUof9b\n",
      "file:///BT8_Loofboom_Laag_WGI2_2MevW3iyf0OgJc3QSKX9U_\n",
      "file:///BT1_Watergang_Onverhard_Bovenkant_WGL3_37Ot_p_VDD3QugDPX14yi_\n",
      "file:///BT8_Loofboom_Laag_WGI2_06qFz8Mtn3vuK2RGgto3hS\n",
      "file:///Mariakerke_AWV_Conform_3D_BT_With_Name_1gtmE5SEnBHQYwvMXJoMj2\n",
      "file:///BT9_Deksel_Waterafvoer_Rond_WRI1_0glNTziDbCZvp0b6vyEk92\n",
      "file:///BT5_Rioolpijp_Aansluiting_WRP2_1qWn_qG5nFQ9TBc4K6m52R\n",
      "file:///BT1_Watergang_Onverhard_Bovenkant_WGL3_3Dqp5wCZD4i8WKCQkpS1Di\n",
      "file:///BT1_Watergang_Onverhard_Bovenkant_WGL3_0P8SeEi_X6NOPnbo1lrqcz\n",
      "file:///BT5_Rioolpijp_Aansluiting_WRP2_2sFWN4Spr5fegnupyER9kl\n",
      "file:///BT5_Rioolpijp_Hoofdriolering_WRP1_2uBwuWih17i88F_yfVOX5J\n",
      "file:///Site_20vpzcJqv6we_SbpWZGEMS\n",
      "file:///BT1_Grens_Circulatiezone_Zwakke_Weggebruiker_WCZ_1qiKt8vRr9BAr6p6RgEbBH\n",
      "file:///BT9_Deksel_Prive_Huisaansluiting_WPI22_2BtsHHllvDZuc0ENP2CYRB\n",
      "file:///BT5_Rioolpijp_Aansluiting_WRP2_2qV68kGC938fJTFVFppO4E\n",
      "file:///BT8_Loofboom_Laag_WGI2_1qWamQ78z9aem02aRyulFH\n",
      "file:///BT3_Waterbouwkundige_Constructie_KNW2_1o3B_qZ1zDJ8f_yWqBiQOZ\n",
      "file:///BT8_Loofboom_Laag_WGI2_0zWS7ucnz6R8cQzZFNoTnt\n",
      "file:///BT9_Deksel_Prive_Huisaansluiting_WPI22_0bpLB2ldbBjQkyC_bwN3nO\n",
      "file:///BT9_Deksel_Prive_Huisaansluiting_WPI22_1NMLE03ID7DRoipqNSAF38\n",
      "file:///BT1_Watergang_Onverhard_Bovenkant_WGL3_145DOTDqHEWAEMJ7eWwRc7\n",
      "file:///BT1_Watergang_Onverhard_Bovenkant_WGL3_05erDX1WT2_9pgx6rCffRK\n",
      "file:///BT1_Watergang_Onverhard_Bovenkant_WGL3_2sRaldmsjAoAUg_1_7jhc3\n",
      "file:///BT8_Loofboom_Laag_WGI2_1_lYnnnF55z9fqX592UODl\n",
      "file:///BT5_Rioolpijp_Aansluiting_WRP2_2PKVozkBfF3hfnsYGOjEPD\n",
      "file:///BT5_Rioolpijp_Aansluiting_WRP2_1u9kVD_Rb08AEORaF8MuNW\n",
      "file:///BT8_Loofboom_Laag_WGI2_2_Qt_aJL16FPKOpAWDNpcW\n",
      "file:///BT1_Watergang_Onverhard_Onderkant_WTO3_044Upox9b75P7HuOV4aXdi\n",
      "file:///BT1_Bodembedekking_WSV10_1nj0iZxXz9KwaRtJh__age\n",
      "file:///BT1_Watergang_Onverhard_Bovenkant_WGL3_2klIqw8SH8U9ZZxjc06Pzq\n",
      "file:///BT9_Deksel_Waterafvoer_Rond_WRI1_23sg14bfP8rADssyq2f5iy\n",
      "file:///BT9_Deksel_Prive_Huisaansluiting_WPI22_3pwqjmd9b4XhthYzNGb46u\n",
      "file:///BT1_Watergang_Onverhard_Bovenkant_WGL3_3C50M_KU96X8JDOISLfPw1\n",
      "file:///BT8_Loofboom_Laag_WGI2_1FkeRKbjvE3OcAG4D8Sdo0\n",
      "file:///BT1_Verhardingstype_WSV1_2kLZYfl_1CigVpsvzrB2xb\n"
     ]
    }
   ],
   "source": [
    "#ifc3\n",
    "ifc=ifcopenshell.open(ifcPath2)   \n",
    "a=0\n",
    "selector = Selector()\n",
    "nodelist=[]\n",
    "for ifcElement in selector.parse(ifc, '.ifcObject'):\n",
    "    node=BIMNode(resource=ifcElement, ifcPath=ifcPath2,phase=phase,accuracy=accuracy, lod=300)\n",
    "    node.save_resource(os.path.join(sessionPath,\"BIMtest\"))\n",
    "    nodelist.append(node)\n",
    "    print(node.subject)\n",
    "    a+=1\n",
    "    if a==100:\n",
    "        break\n",
    "   "
   ]
  },
  {
   "cell_type": "code",
   "execution_count": 7,
   "metadata": {},
   "outputs": [],
   "source": [
    "geometries=[node.resource for node in nodelist if node.resource]"
   ]
  },
  {
   "cell_type": "code",
   "execution_count": 8,
   "metadata": {},
   "outputs": [],
   "source": [
    "o3d.visualization.draw_geometries(geometries)"
   ]
  },
  {
   "cell_type": "code",
   "execution_count": 14,
   "metadata": {},
   "outputs": [
    {
     "name": "stdout",
     "output_type": "stream",
     "text": [
      "IfcOpenShell parsing error. Note that an error is generated when no objects can be parsed from the selector. E.g. parsing for .ifcWall elements without the presence of ifcWalls will generate an error \n"
     ]
    }
   ],
   "source": [
    "# Retrieve all (.ifc) files in the session\n",
    "allSessionFilePaths=ut.get_list_of_files(sessionPath) \n",
    "nodelist=[]\n",
    "\n",
    "for path in allSessionFilePaths:\n",
    "    if path.endswith(\".ifc\"): \n",
    "        list=tl.ifc_to_nodes(ifcPath=path,classes='ifcSite',getResource=True, phase=phase,accuracy=accuracy)\n",
    "        nodelist.extend(list)\n",
    "        for node in list:\n",
    "            node.sessionPath=sessionPath\n",
    "            node.awvLayer = node.name\n",
    "            node.name = node.name  + \"_\" + node.globalId\n",
    "            \n",
    "print(str(len(nodelist))+ ' BIMNodes are created')\n",
    "print('Depending on getGeometry setting, these nodes do not yet contain data but only the metadata')"
   ]
  },
  {
   "cell_type": "code",
   "execution_count": 31,
   "metadata": {},
   "outputs": [
    {
     "name": "stdout",
     "output_type": "stream",
     "text": [
      "Node coordinate systems have been set based on file names (l72, l2008, wgs84, local)!\n"
     ]
    }
   ],
   "source": [
    "for node in nodelist:\n",
    "    node.accuracy=accuracy\n",
    "    node.phase=phase\n",
    "    if 'l72'in node.ifcPath:\n",
    "        node.coordinateSystem='Lambert72'\n",
    "    elif 'l2008' in node.ifcPath:\n",
    "        node.coordinateSystem='Lambert2008'\n",
    "    elif 'wgs84' in node.ifcPathh:\n",
    "        node.coordinateSystem='geospatial-wgs84'\n",
    "    else:\n",
    "        node.coordinateSystem='local'\n",
    "print('Node coordinate systems have been set based on file names (l72, l2008, wgs84, local)!')"
   ]
  },
  {
   "cell_type": "markdown",
   "metadata": {},
   "source": [
    "## 3. Create and write MESH FILES \n",
    "create mesh geometry if not yet available and write it in the location of the sessionPath"
   ]
  },
  {
   "cell_type": "code",
   "execution_count": 32,
   "metadata": {},
   "outputs": [
    {
     "name": "stdout",
     "output_type": "stream",
     "text": [
      "64 of 64 Nodes already have data!\n",
      "0 of 64 Nodes newly created!\n"
     ]
    }
   ],
   "source": [
    "#Read e57 files, create o3d point clouds and write them to \\\\PCD\\\\'pcdnode.name'.pcd\n",
    "newCounter=0\n",
    "oldCounter=0\n",
    "for node in nodelist:\n",
    "    name=node.name.replace(':','_')\n",
    "    path=sessionPath+'\\\\BIM\\\\'+name+'.ply'\n",
    "    if os.path.exists(path):\n",
    "        node.path=path\n",
    "        oldCounter+=1\n",
    "        pass\n",
    "    else:\n",
    "        # node.mesh=tl.ifc_to_mesh(node.ifcElement)\n",
    "        name=node.name\n",
    "        node.path=path\n",
    "        try:\n",
    "            o3d.io.write_triangle_mesh(node.path, node.mesh)\n",
    "            newCounter+=1\n",
    "        except:\n",
    "            print(\"Export failed. Perhaps geometry creation failed or path is faulty?\")\n",
    "print (str(oldCounter)+' of '+str(len(nodelist))+ ' Nodes already have data!')\n",
    "print (str(newCounter)+' of '+str(len(nodelist))+ ' Nodes newly created!')"
   ]
  },
  {
   "cell_type": "markdown",
   "metadata": {},
   "source": [
    "## 4. CREATE RDF GRAPHS FOR EACH NODE AND EXPORT THEM TO .TTL\n",
    "An RDF graph and .ttl file is created for all nodes in the session\n",
    "(data itself is not stored in the graph, only metadata)"
   ]
  },
  {
   "cell_type": "code",
   "execution_count": 33,
   "metadata": {},
   "outputs": [
    {
     "name": "stdout",
     "output_type": "stream",
     "text": [
      "64 Nodes succesfully serialized in: K:\\Projects\\2021-03 Project FWO SB Heinder\\7.Data\\2021-09 Testcase code\\IFC\\BIM-UF\\bimGraph.ttl\n"
     ]
    }
   ],
   "source": [
    "graph=tl.nodes_to_graph(nodelist)\n",
    "graph.serialize(destination=sessionPath+\"\\\\bimGraph.ttl\", format='ttl')\n",
    "print (str(len(nodelist))+' Nodes succesfully serialized in: '+sessionPath+\"\\\\bimGraph.ttl\")"
   ]
  }
 ],
 "metadata": {
  "kernelspec": {
   "display_name": "Python 3.8.12 ('Geomapi')",
   "language": "python",
   "name": "python3"
  },
  "language_info": {
   "codemirror_mode": {
    "name": "ipython",
    "version": 3
   },
   "file_extension": ".py",
   "mimetype": "text/x-python",
   "name": "python",
   "nbconvert_exporter": "python",
   "pygments_lexer": "ipython3",
   "version": "3.8.12"
  },
  "orig_nbformat": 4,
  "vscode": {
   "interpreter": {
    "hash": "41e361d874c5bf24880bdc5de3bf30e3d02387e54aa546656a1c0508602fb985"
   }
  }
 },
 "nbformat": 4,
 "nbformat_minor": 2
}

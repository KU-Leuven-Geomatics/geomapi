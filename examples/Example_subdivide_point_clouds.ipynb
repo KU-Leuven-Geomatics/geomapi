{
 "cells": [
  {
   "attachments": {},
   "cell_type": "markdown",
   "metadata": {},
   "source": [
    "# Subdivide point clouds into different regions"
   ]
  },
  {
   "attachments": {},
   "cell_type": "markdown",
   "metadata": {},
   "source": [
    "## Import lib"
   ]
  },
  {
   "cell_type": "code",
   "execution_count": 150,
   "metadata": {},
   "outputs": [],
   "source": [
    "# from rdflib import Graph, URIRef, Literal, RDF\n",
    "import open3d as o3d\n",
    "import os\n",
    "from pathlib import Path\n",
    "import numpy as np\n",
    "import laspy\n",
    "import cv2\n",
    "import copy\n",
    "import ezdxf\n",
    "from ezdxf.groupby import groupby\n",
    "import itertools\n",
    "import math\n",
    "#IMPORT MODULES\n",
    "from context import geomapi \n",
    "from geomapi.nodes import *\n",
    "import geomapi.utils as ut\n",
    "from geomapi.utils import geometryutils as gmu\n",
    "from geomapi.utils import cadutils as cadu\n",
    "import geomapi.tools as tl\n",
    "import geomapi.tools.progresstools as pt"
   ]
  },
  {
   "cell_type": "code",
   "execution_count": 151,
   "metadata": {},
   "outputs": [
    {
     "name": "stdout",
     "output_type": "stream",
     "text": [
      "The autoreload extension is already loaded. To reload it, use:\n",
      "  %reload_ext autoreload\n"
     ]
    }
   ],
   "source": [
    "%load_ext autoreload"
   ]
  },
  {
   "cell_type": "code",
   "execution_count": 152,
   "metadata": {},
   "outputs": [],
   "source": [
    "%autoreload 2"
   ]
  },
  {
   "attachments": {},
   "cell_type": "markdown",
   "metadata": {},
   "source": [
    "## Inputs"
   ]
  },
  {
   "cell_type": "code",
   "execution_count": 153,
   "metadata": {},
   "outputs": [],
   "source": [
    "pcd_paths=[\"D:/Data/2023-03 Elia Substation/PCD/lokeren_classificatie_elia_equipment.las\",\n",
    "           \"D:/Data/2023-03 Elia Substation/PCD/lokeren_classificatie_elia_terrein.las\",\n",
    "           \"D:/Data/2023-03 Elia Substation/PCD/lokeren_classificatie_elia_vegetatie.las\"]\n",
    "pcd_path=\"D:/Data/2023-03 Elia Substation/PCD/lokeren_classificatie_elia_all.las\"\n",
    "pcd_results_path='D:/Data/2023-03 Elia Substation/PCD/lokeren_classificatie_results.las'\n",
    "pcd_path_small='D:/Data/2023-03 Elia Substation/Eval_small/pcd.las'\n",
    "# size=10#m\n",
    "output_dir='D:/Data/2023-03 Elia Substation/PCD/subclouds2/'\n",
    "dxf_path='D:/Data/2023-03 Elia Substation/DWG3/cad_autocad_correect_scale.dxf'\n",
    "# dxf_path='D:/Data/2023-03 Elia Substation/DWG2/cad2.dxf'\n",
    "blocks_dir='D:/Data/2023-03 Elia Substation/BLOCKS'\n",
    "cad_dir='D:/Data/2023-03 Elia Substation/BLOCKS_ply'\n",
    "num_classes=14\n",
    "transform=np.array([[1,0,0,-122700.00],[0,1,0,-199600.00],[0,0,1,0],[0,0,0,1]])"
   ]
  },
  {
   "cell_type": "code",
   "execution_count": 154,
   "metadata": {},
   "outputs": [],
   "source": [
    "#subsectie\n",
    "ground_truth_built=[0,2,4,5,6,7,9,10,11,12,13,14,15,16,19,20,21,22,23,24,27,28,29,30,31,32,33,34,35,37,38,39,40,41,42,43,44,45,46,47,48,49,50,51,52,53,54,55,56,57,58,64,65,66,68,69,70,72,74]\n",
    "ground_truth_not_built=[1,3,8,17,18,25,26,36,59,60,61,62,63,67,71,73]"
   ]
  },
  {
   "cell_type": "code",
   "execution_count": 155,
   "metadata": {},
   "outputs": [],
   "source": [
    "pcd_results_path='D:/Data/2023-03 Elia Substation/PCD/lokeren_classificatie_result_final.las'"
   ]
  },
  {
   "attachments": {},
   "cell_type": "markdown",
   "metadata": {},
   "source": [
    "## Process point clouds as o3d"
   ]
  },
  {
   "attachments": {},
   "cell_type": "markdown",
   "metadata": {},
   "source": [
    "merge point clouds"
   ]
  },
  {
   "cell_type": "code",
   "execution_count": 156,
   "metadata": {},
   "outputs": [
    {
     "ename": "KeyboardInterrupt",
     "evalue": "",
     "output_type": "error",
     "traceback": [
      "\u001b[1;31m---------------------------------------------------------------------------\u001b[0m",
      "\u001b[1;31mKeyboardInterrupt\u001b[0m                         Traceback (most recent call last)",
      "\u001b[1;32m~\\AppData\\Local\\Temp/ipykernel_9104/4114389641.py\u001b[0m in \u001b[0;36m<module>\u001b[1;34m\u001b[0m\n\u001b[0;32m      2\u001b[0m \u001b[1;32mfor\u001b[0m \u001b[0mp\u001b[0m \u001b[1;32min\u001b[0m \u001b[0mpcd_paths\u001b[0m\u001b[1;33m:\u001b[0m\u001b[1;33m\u001b[0m\u001b[1;33m\u001b[0m\u001b[0m\n\u001b[0;32m      3\u001b[0m     \u001b[0mlas\u001b[0m  \u001b[1;33m=\u001b[0m \u001b[0mlaspy\u001b[0m\u001b[1;33m.\u001b[0m\u001b[0mread\u001b[0m\u001b[1;33m(\u001b[0m\u001b[0mp\u001b[0m\u001b[1;33m)\u001b[0m\u001b[1;33m\u001b[0m\u001b[1;33m\u001b[0m\u001b[0m\n\u001b[1;32m----> 4\u001b[1;33m     \u001b[0mpcd\u001b[0m \u001b[1;33m=\u001b[0m \u001b[0mgmu\u001b[0m\u001b[1;33m.\u001b[0m\u001b[0mlas_to_pcd\u001b[0m\u001b[1;33m(\u001b[0m\u001b[0mlas\u001b[0m\u001b[1;33m)\u001b[0m\u001b[1;33m\u001b[0m\u001b[1;33m\u001b[0m\u001b[0m\n\u001b[0m\u001b[0;32m      5\u001b[0m     \u001b[0mpcds\u001b[0m\u001b[1;33m.\u001b[0m\u001b[0mappend\u001b[0m\u001b[1;33m(\u001b[0m\u001b[0mgmu\u001b[0m\u001b[1;33m.\u001b[0m\u001b[0mcolor_by_intensity\u001b[0m\u001b[1;33m(\u001b[0m\u001b[0mpcd\u001b[0m\u001b[1;33m,\u001b[0m\u001b[0mlas\u001b[0m\u001b[1;33m[\u001b[0m\u001b[1;34m'intensity'\u001b[0m\u001b[1;33m]\u001b[0m\u001b[1;33m)\u001b[0m\u001b[1;33m)\u001b[0m\u001b[1;33m\u001b[0m\u001b[1;33m\u001b[0m\u001b[0m\n\u001b[0;32m      6\u001b[0m \u001b[1;33m\u001b[0m\u001b[0m\n",
      "\u001b[1;32md:\\Scan-to-BIM repository\\geomapi\\geomapi\\utils\\geometryutils.py\u001b[0m in \u001b[0;36mlas_to_pcd\u001b[1;34m(las, transform, getColors, getNormals)\u001b[0m\n\u001b[0;32m   1121\u001b[0m     \u001b[0mpcd\u001b[0m \u001b[1;33m=\u001b[0m \u001b[0mo3d\u001b[0m\u001b[1;33m.\u001b[0m\u001b[0mgeometry\u001b[0m\u001b[1;33m.\u001b[0m\u001b[0mPointCloud\u001b[0m\u001b[1;33m(\u001b[0m\u001b[1;33m)\u001b[0m\u001b[1;33m\u001b[0m\u001b[1;33m\u001b[0m\u001b[0m\n\u001b[0;32m   1122\u001b[0m     \u001b[0mnewxyz\u001b[0m\u001b[1;33m=\u001b[0m\u001b[0mtransform_points\u001b[0m\u001b[1;33m(\u001b[0m \u001b[0mlas\u001b[0m\u001b[1;33m.\u001b[0m\u001b[0mxyz\u001b[0m\u001b[1;33m,\u001b[0m\u001b[0mtransform\u001b[0m\u001b[1;33m)\u001b[0m \u001b[1;32mif\u001b[0m \u001b[0mtransform\u001b[0m \u001b[1;32mis\u001b[0m \u001b[1;32mnot\u001b[0m \u001b[1;32mNone\u001b[0m \u001b[1;32melse\u001b[0m \u001b[0mlas\u001b[0m\u001b[1;33m.\u001b[0m\u001b[0mxyz\u001b[0m\u001b[1;33m\u001b[0m\u001b[1;33m\u001b[0m\u001b[0m\n\u001b[1;32m-> 1123\u001b[1;33m     \u001b[0mpcd\u001b[0m\u001b[1;33m.\u001b[0m\u001b[0mpoints\u001b[0m\u001b[1;33m=\u001b[0m\u001b[0mo3d\u001b[0m\u001b[1;33m.\u001b[0m\u001b[0mutility\u001b[0m\u001b[1;33m.\u001b[0m\u001b[0mVector3dVector\u001b[0m\u001b[1;33m(\u001b[0m\u001b[0mnewxyz\u001b[0m\u001b[1;33m)\u001b[0m\u001b[1;33m\u001b[0m\u001b[1;33m\u001b[0m\u001b[0m\n\u001b[0m\u001b[0;32m   1124\u001b[0m \u001b[1;33m\u001b[0m\u001b[0m\n\u001b[0;32m   1125\u001b[0m     \u001b[1;31m#compute colors\u001b[0m\u001b[1;33m\u001b[0m\u001b[1;33m\u001b[0m\u001b[1;33m\u001b[0m\u001b[0m\n",
      "\u001b[1;31mKeyboardInterrupt\u001b[0m: "
     ]
    }
   ],
   "source": [
    "pcds=[]\n",
    "for p in pcd_paths: \n",
    "    las  = laspy.read(p)\n",
    "    pcd = gmu.las_to_pcd(las)\n",
    "    pcds.append(gmu.color_by_intensity(pcd,las['intensity']))\n",
    "    \n",
    "joined_pcd=gmu.join_geometries(pcds)"
   ]
  },
  {
   "cell_type": "code",
   "execution_count": null,
   "metadata": {},
   "outputs": [],
   "source": [
    "o3d.visualization.draw_geometries([joined_pcd])\n"
   ]
  },
  {
   "cell_type": "code",
   "execution_count": null,
   "metadata": {},
   "outputs": [],
   "source": [
    "test=copy.deepcopy(joined_pcd)"
   ]
  },
  {
   "attachments": {},
   "cell_type": "markdown",
   "metadata": {},
   "source": [
    "create octree"
   ]
  },
  {
   "cell_type": "code",
   "execution_count": null,
   "metadata": {},
   "outputs": [],
   "source": [
    "octree = o3d.geometry.Octree(max_depth=4)\n",
    "octree.convert_from_point_cloud(test, size_expand=0.01)"
   ]
  },
  {
   "cell_type": "code",
   "execution_count": null,
   "metadata": {},
   "outputs": [
    {
     "name": "stdout",
     "output_type": "stream",
     "text": [
      "            3: Leaf node at depth 3 has 178654 points with origin [ 1.22721987e+05  1.99577959e+05 -1.06033570e+01]\n",
      "            7: Leaf node at depth 3 has 2387 points with origin [1.22721987e+05 1.99577959e+05 7.41971381e+00]\n",
      "            0: Leaf node at depth 3 has 401151 points with origin [ 1.22740010e+05  1.99559936e+05 -1.06033570e+01]\n",
      "            1: Leaf node at depth 3 has 109424 points with origin [ 1.22758033e+05  1.99559936e+05 -1.06033570e+01]\n",
      "            2: Leaf node at depth 3 has 1619090 points with origin [ 1.22740010e+05  1.99577959e+05 -1.06033570e+01]\n",
      "            3: Leaf node at depth 3 has 1096213 points with origin [ 1.22758033e+05  1.99577959e+05 -1.06033570e+01]\n",
      "            4: Leaf node at depth 3 has 4422 points with origin [1.22740010e+05 1.99559936e+05 7.41971381e+00]\n",
      "            5: Leaf node at depth 3 has 1463 points with origin [1.22758033e+05 1.99559936e+05 7.41971381e+00]\n",
      "            6: Leaf node at depth 3 has 79354 points with origin [1.22740010e+05 1.99577959e+05 7.41971381e+00]\n",
      "            7: Leaf node at depth 3 has 245375 points with origin [1.22758033e+05 1.99577959e+05 7.41971381e+00]\n",
      "            0: Leaf node at depth 3 has 6690 points with origin [ 1.22703964e+05  1.99595982e+05 -1.06033570e+01]\n",
      "            1: Leaf node at depth 3 has 1355386 points with origin [ 1.22721987e+05  1.99595982e+05 -1.06033570e+01]\n",
      "            2: Leaf node at depth 3 has 291353 points with origin [ 1.22703964e+05  1.99614005e+05 -1.06033570e+01]\n",
      "            3: Leaf node at depth 3 has 1741699 points with origin [ 1.22721987e+05  1.99614005e+05 -1.06033570e+01]\n",
      "            5: Leaf node at depth 3 has 59515 points with origin [1.22721987e+05 1.99595982e+05 7.41971381e+00]\n",
      "            6: Leaf node at depth 3 has 9436 points with origin [1.22703964e+05 1.99614005e+05 7.41971381e+00]\n",
      "            7: Leaf node at depth 3 has 893677 points with origin [1.22721987e+05 1.99614005e+05 7.41971381e+00]\n",
      "            0: Leaf node at depth 3 has 1085896 points with origin [ 1.22740010e+05  1.99595982e+05 -1.06033570e+01]\n",
      "            1: Leaf node at depth 3 has 784585 points with origin [ 1.22758033e+05  1.99595982e+05 -1.06033570e+01]\n",
      "            2: Leaf node at depth 3 has 1969914 points with origin [ 1.22740010e+05  1.99614005e+05 -1.06033570e+01]\n",
      "            3: Leaf node at depth 3 has 1794549 points with origin [ 1.22758033e+05  1.99614005e+05 -1.06033570e+01]\n",
      "            5: Leaf node at depth 3 has 452129 points with origin [1.22758033e+05 1.99595982e+05 7.41971381e+00]\n",
      "            6: Leaf node at depth 3 has 1281310 points with origin [1.22740010e+05 1.99614005e+05 7.41971381e+00]\n",
      "            7: Leaf node at depth 3 has 1326624 points with origin [1.22758033e+05 1.99614005e+05 7.41971381e+00]\n",
      "            2: Leaf node at depth 3 has 786431 points with origin [ 1.22776056e+05  1.99577959e+05 -1.06033570e+01]\n",
      "            3: Leaf node at depth 3 has 9094 points with origin [ 1.22794079e+05  1.99577959e+05 -1.06033570e+01]\n",
      "            6: Leaf node at depth 3 has 1558660 points with origin [1.22776056e+05 1.99577959e+05 7.41971381e+00]\n",
      "            7: Leaf node at depth 3 has 13053 points with origin [1.22794079e+05 1.99577959e+05 7.41971381e+00]\n",
      "            0: Leaf node at depth 3 has 1335721 points with origin [ 1.22776056e+05  1.99595982e+05 -1.06033570e+01]\n",
      "            1: Leaf node at depth 3 has 1229418 points with origin [ 1.22794079e+05  1.99595982e+05 -1.06033570e+01]\n",
      "            2: Leaf node at depth 3 has 1161172 points with origin [ 1.22776056e+05  1.99614005e+05 -1.06033570e+01]\n",
      "            3: Leaf node at depth 3 has 714883 points with origin [ 1.22794079e+05  1.99614005e+05 -1.06033570e+01]\n",
      "            4: Leaf node at depth 3 has 717481 points with origin [1.22776056e+05 1.99595982e+05 7.41971381e+00]\n",
      "            5: Leaf node at depth 3 has 1877158 points with origin [1.22794079e+05 1.99595982e+05 7.41971381e+00]\n",
      "            6: Leaf node at depth 3 has 143484 points with origin [1.22776056e+05 1.99614005e+05 7.41971381e+00]\n",
      "            7: Leaf node at depth 3 has 427537 points with origin [1.22794079e+05 1.99614005e+05 7.41971381e+00]\n",
      "            0: Leaf node at depth 3 has 517085 points with origin [ 1.22812102e+05  1.99595982e+05 -1.06033570e+01]\n",
      "            2: Leaf node at depth 3 has 796428 points with origin [ 1.22812102e+05  1.99614005e+05 -1.06033570e+01]\n",
      "            3: Leaf node at depth 3 has 638898 points with origin [ 1.22830125e+05  1.99614005e+05 -1.06033570e+01]\n",
      "            4: Leaf node at depth 3 has 957423 points with origin [1.22812102e+05 1.99595982e+05 7.41971381e+00]\n",
      "            6: Leaf node at depth 3 has 1944695 points with origin [1.22812102e+05 1.99614005e+05 7.41971381e+00]\n",
      "            7: Leaf node at depth 3 has 1177400 points with origin [1.22830125e+05 1.99614005e+05 7.41971381e+00]\n",
      "            0: Leaf node at depth 3 has 902665 points with origin [ 1.22703964e+05  1.99632028e+05 -1.06033570e+01]\n",
      "            1: Leaf node at depth 3 has 1295856 points with origin [ 1.22721987e+05  1.99632028e+05 -1.06033570e+01]\n",
      "            2: Leaf node at depth 3 has 1821608 points with origin [ 1.22703964e+05  1.99650051e+05 -1.06033570e+01]\n",
      "            3: Leaf node at depth 3 has 1989689 points with origin [ 1.22721987e+05  1.99650051e+05 -1.06033570e+01]\n",
      "            4: Leaf node at depth 3 has 58457 points with origin [1.22703964e+05 1.99632028e+05 7.41971381e+00]\n",
      "            5: Leaf node at depth 3 has 399415 points with origin [1.22721987e+05 1.99632028e+05 7.41971381e+00]\n",
      "            6: Leaf node at depth 3 has 1929503 points with origin [1.22703964e+05 1.99650051e+05 7.41971381e+00]\n",
      "            7: Leaf node at depth 3 has 844727 points with origin [1.22721987e+05 1.99650051e+05 7.41971381e+00]\n",
      "            0: Leaf node at depth 3 has 1522325 points with origin [ 1.22740010e+05  1.99632028e+05 -1.06033570e+01]\n",
      "            1: Leaf node at depth 3 has 1268436 points with origin [ 1.22758033e+05  1.99632028e+05 -1.06033570e+01]\n",
      "            2: Leaf node at depth 3 has 1265263 points with origin [ 1.22740010e+05  1.99650051e+05 -1.06033570e+01]\n",
      "            3: Leaf node at depth 3 has 1132824 points with origin [ 1.22758033e+05  1.99650051e+05 -1.06033570e+01]\n",
      "            4: Leaf node at depth 3 has 292295 points with origin [1.22740010e+05 1.99632028e+05 7.41971381e+00]\n",
      "            5: Leaf node at depth 3 has 105890 points with origin [1.22758033e+05 1.99632028e+05 7.41971381e+00]\n",
      "            6: Leaf node at depth 3 has 311260 points with origin [1.22740010e+05 1.99650051e+05 7.41971381e+00]\n",
      "            7: Leaf node at depth 3 has 2821936 points with origin [1.22758033e+05 1.99650051e+05 7.41971381e+00]\n",
      "            0: Leaf node at depth 3 has 502078 points with origin [ 1.22703964e+05  1.99668074e+05 -1.06033570e+01]\n",
      "            1: Leaf node at depth 3 has 4087440 points with origin [ 1.22721987e+05  1.99668074e+05 -1.06033570e+01]\n",
      "            3: Leaf node at depth 3 has 66128 points with origin [ 1.22721987e+05  1.99686097e+05 -1.06033570e+01]\n",
      "            4: Leaf node at depth 3 has 246883 points with origin [1.22703964e+05 1.99668074e+05 7.41971381e+00]\n",
      "            5: Leaf node at depth 3 has 2016605 points with origin [1.22721987e+05 1.99668074e+05 7.41971381e+00]\n",
      "            7: Leaf node at depth 3 has 71211 points with origin [1.22721987e+05 1.99686097e+05 7.41971381e+00]\n",
      "            0: Leaf node at depth 3 has 1700363 points with origin [ 1.22740010e+05  1.99668074e+05 -1.06033570e+01]\n",
      "            1: Leaf node at depth 3 has 2237748 points with origin [ 1.22758033e+05  1.99668074e+05 -1.06033570e+01]\n",
      "            2: Leaf node at depth 3 has 803684 points with origin [ 1.22740010e+05  1.99686097e+05 -1.06033570e+01]\n",
      "            3: Leaf node at depth 3 has 20366 points with origin [ 1.22758033e+05  1.99686097e+05 -1.06033570e+01]\n",
      "            4: Leaf node at depth 3 has 3719475 points with origin [1.22740010e+05 1.99668074e+05 7.41971381e+00]\n",
      "            5: Leaf node at depth 3 has 4264950 points with origin [1.22758033e+05 1.99668074e+05 7.41971381e+00]\n",
      "            6: Leaf node at depth 3 has 852970 points with origin [1.22740010e+05 1.99686097e+05 7.41971381e+00]\n",
      "            7: Leaf node at depth 3 has 8479 points with origin [1.22758033e+05 1.99686097e+05 7.41971381e+00]\n",
      "            0: Leaf node at depth 3 has 1466517 points with origin [ 1.22776056e+05  1.99632028e+05 -1.06033570e+01]\n",
      "            1: Leaf node at depth 3 has 812893 points with origin [ 1.22794079e+05  1.99632028e+05 -1.06033570e+01]\n",
      "            2: Leaf node at depth 3 has 942154 points with origin [ 1.22776056e+05  1.99650051e+05 -1.06033570e+01]\n",
      "            3: Leaf node at depth 3 has 908620 points with origin [ 1.22794079e+05  1.99650051e+05 -1.06033570e+01]\n",
      "            4: Leaf node at depth 3 has 2583983 points with origin [1.22776056e+05 1.99632028e+05 7.41971381e+00]\n",
      "            5: Leaf node at depth 3 has 2845889 points with origin [1.22794079e+05 1.99632028e+05 7.41971381e+00]\n",
      "            6: Leaf node at depth 3 has 3026264 points with origin [1.22776056e+05 1.99650051e+05 7.41971381e+00]\n",
      "            7: Leaf node at depth 3 has 1163863 points with origin [1.22794079e+05 1.99650051e+05 7.41971381e+00]\n",
      "            0: Leaf node at depth 3 has 115313 points with origin [ 1.22812102e+05  1.99632028e+05 -1.06033570e+01]\n",
      "            1: Leaf node at depth 3 has 129453 points with origin [ 1.22830125e+05  1.99632028e+05 -1.06033570e+01]\n",
      "            4: Leaf node at depth 3 has 363380 points with origin [1.22812102e+05 1.99632028e+05 7.41971381e+00]\n",
      "            5: Leaf node at depth 3 has 114280 points with origin [1.22830125e+05 1.99632028e+05 7.41971381e+00]\n",
      "            0: Leaf node at depth 3 has 111673 points with origin [ 1.22776056e+05  1.99668074e+05 -1.06033570e+01]\n",
      "            4: Leaf node at depth 3 has 251474 points with origin [1.22776056e+05 1.99668074e+05 7.41971381e+00]\n",
      "            3: Leaf node at depth 3 has 1996 points with origin [1.22758033e+05 1.99577959e+05 2.54427846e+01]\n",
      "            3: Leaf node at depth 3 has 1216 points with origin [1.22794079e+05 1.99614005e+05 2.54427846e+01]\n",
      "            3: Leaf node at depth 3 has 4469 points with origin [1.22721987e+05 1.99650051e+05 2.54427846e+01]\n",
      "            0: Leaf node at depth 3 has 129 points with origin [1.22703964e+05 1.99668074e+05 2.54427846e+01]\n",
      "            1: Leaf node at depth 3 has 368572 points with origin [1.22721987e+05 1.99668074e+05 2.54427846e+01]\n",
      "            5: Leaf node at depth 3 has 11615 points with origin [1.22721987e+05 1.99668074e+05 4.34658554e+01]\n",
      "            1: Leaf node at depth 3 has 22 points with origin [1.22794079e+05 1.99632028e+05 2.54427846e+01]\n"
     ]
    }
   ],
   "source": [
    "octree.traverse(get_indices_per_octree_node)"
   ]
  },
  {
   "attachments": {},
   "cell_type": "markdown",
   "metadata": {},
   "source": [
    "traverse and export data"
   ]
  },
  {
   "cell_type": "code",
   "execution_count": null,
   "metadata": {},
   "outputs": [],
   "source": [
    "import uuid\n",
    "\n",
    "lowEnd=150000\n",
    "highEnd=1500000\n",
    "a=len(octree.root_node.children)\n",
    "a=-1\n",
    "for node in octree.root_node.children[0:1]: # depth1\n",
    "    a+=1\n",
    "    count=len(node.indices) if getattr(node,'indices',None) is not None else 0\n",
    "    if (getattr(node,'indices',None) is not None and \n",
    "        len(node.indices)> lowEnd and \n",
    "        len(node.indices)< highEnd):\n",
    "        o3d.io.write_point_cloud( os.path.join(output_dir,f'pcd_{a}.pcd'),joined_pcd.select_by_index(node.indices))\n",
    "       \n",
    "    else:\n",
    "        # b=len(getattr(node,'children',[]))\n",
    "        b=-1\n",
    "        for childnode in getattr(node,'children',[]): #depth 2\n",
    "            b+=1\n",
    "            # count=len(childnode.indices) if getattr(childnode,'indices',None) is not None else 0\n",
    "            if (getattr(childnode,'indices',None) is not None and \n",
    "                len(childnode.indices)> lowEnd and \n",
    "                len(childnode.indices)< highEnd):\n",
    "                o3d.io.write_point_cloud( os.path.join(output_dir,f'pcd_{a}_{b}.pcd'),joined_pcd.select_by_index(childnode.indices))\n",
    "                np.save(os.path.join(output_dir,f'pcd_{a}_{b}.npy'),)\n",
    "                \n",
    "                pcd=joined_pcd.select_by_index(childnode.indices)\n",
    "                points=np.asarray(pcd.points)\n",
    "                feat=np.asarray(pcd.colors)\n",
    "                labels=labelarray[childnode.indices]\n",
    "                # data = {'point': points, 'feat': feat, 'label': labels}\n",
    "                data=np.vstack((points,labels,feat))\n",
    "            else:\n",
    "                # c=len(getattr(childnode,'children',[]))\n",
    "                c=-1\n",
    "                for grandchildnode in getattr(childnode,'children',[]): #depth 3\n",
    "                    c+=1\n",
    "                    # count=len(grandchildnode.indices) if getattr(grandchildnode,'indices',None) is not None else 0\n",
    "                    if (getattr(grandchildnode,'indices',None) is not None and \n",
    "                        len(grandchildnode.indices)> lowEnd and \n",
    "                        len(grandchildnode.indices)< highEnd):\n",
    "                    # if count> lowEnd and count<highEnd:\n",
    "                        o3d.io.write_point_cloud( os.path.join(output_dir,f'pcd_{a}_{b}_{c}.pcd'),joined_pcd.select_by_index(grandchildnode.indices))\n",
    "                        \n",
    "                    else:\n",
    "                        # d=len(getattr(grandchildnode,'children',[]))\n",
    "                        d=-1\n",
    "                        for grandgrandchildnode in getattr(grandchildnode,'children',[]): #depth 4\n",
    "                            d+=1\n",
    "                            if (getattr(grandgrandchildnode,'indices',None) is not None and \n",
    "                                len(grandgrandchildnode.indices)> lowEnd and \n",
    "                                len(grandgrandchildnode.indices)< highEnd):\n",
    "                            # count=len(grandgrandchildnode.indices) if getattr(grandgrandchildnode,'indices',None) is not None else 0\n",
    "                            # if count> lowEnd and count<highEnd:\n",
    "                                o3d.io.write_point_cloud( os.path.join(output_dir,f'pcd_{a}_{b}_{c}_{d}.pcd'),joined_pcd.select_by_index(grandgrandchildnode.indices))\n",
    "                                \n"
   ]
  },
  {
   "cell_type": "code",
   "execution_count": null,
   "metadata": {},
   "outputs": [],
   "source": [
    "def get_indices_per_octree_node(node, node_info):\n",
    "    lowEnd=100000\n",
    "    highEnd=500000\n",
    "    if isinstance(node, o3d.geometry.OctreePointColorLeafNode):\n",
    "        print(\"{}{}: Leaf node at depth {} has {} points with origin {}\".\n",
    "                  format('    ' * node_info.depth, node_info.child_index,\n",
    "                         node_info.depth, len(node.indices), node_info.origin))\n",
    "        count=len(node.indices)\n",
    "        if count>lowEnd and count<highEnd:\n",
    "            o3d.io.write_point_cloud( os.path.join(output_dir,f'pcd_{str(uuid.uuid1())}.pcd') ,joined_pcd.select_by_index(node.indices))"
   ]
  },
  {
   "attachments": {},
   "cell_type": "markdown",
   "metadata": {},
   "source": [
    "## Process point clouds as las files"
   ]
  },
  {
   "attachments": {},
   "cell_type": "markdown",
   "metadata": {},
   "source": [
    "import las file"
   ]
  },
  {
   "cell_type": "code",
   "execution_count": null,
   "metadata": {},
   "outputs": [],
   "source": [
    "las  = laspy.read(pcd_path)"
   ]
  },
  {
   "cell_type": "code",
   "execution_count": null,
   "metadata": {},
   "outputs": [
    {
     "name": "stdout",
     "output_type": "stream",
     "text": [
      "['X', 'Y', 'Z', 'intensity', 'return_number', 'number_of_returns', 'synthetic', 'key_point', 'withheld', 'overlap', 'scanner_channel', 'scan_direction_flag', 'edge_of_flight_line', 'classification', 'user_data', 'scan_angle', 'point_source_id', 'gps_time', 'red', 'green', 'blue']\n"
     ]
    }
   ],
   "source": [
    "print(list(las.point_format.dimension_names))"
   ]
  },
  {
   "cell_type": "code",
   "execution_count": null,
   "metadata": {},
   "outputs": [],
   "source": [
    "points = np.array(las.xyz, dtype=np.float32)\n",
    "feat = np.array([las['intensity']], dtype=np.int32).T\n",
    "labels = np.array([las['classification']], dtype=np.int32).T\n",
    "data=np.hstack((points,labels,feat))"
   ]
  },
  {
   "attachments": {},
   "cell_type": "markdown",
   "metadata": {},
   "source": [
    "create point cloud"
   ]
  },
  {
   "cell_type": "code",
   "execution_count": null,
   "metadata": {},
   "outputs": [
    {
     "name": "stdout",
     "output_type": "stream",
     "text": [
      "86580621\n"
     ]
    }
   ],
   "source": [
    "pcd=o3d.geometry.PointCloud()\n",
    "pcd.points=o3d.utility.Vector3dVector(las.xyz)\n",
    "pcd=gmu.color_by_intensity(pcd,las['intensity'])\n",
    "print(len(np.asarray(pcd.points)))"
   ]
  },
  {
   "attachments": {},
   "cell_type": "markdown",
   "metadata": {},
   "source": [
    "create octree"
   ]
  },
  {
   "cell_type": "code",
   "execution_count": null,
   "metadata": {},
   "outputs": [],
   "source": [
    "octree = o3d.geometry.Octree(max_depth=4)\n",
    "octree.convert_from_point_cloud(test, size_expand=0.01)"
   ]
  },
  {
   "attachments": {},
   "cell_type": "markdown",
   "metadata": {},
   "source": [
    "traverse and gather data"
   ]
  },
  {
   "cell_type": "code",
   "execution_count": null,
   "metadata": {},
   "outputs": [
    {
     "name": "stdout",
     "output_type": "stream",
     "text": [
      "23\n"
     ]
    }
   ],
   "source": [
    "idxLists,pathLists= pt.subdivide_pcd_per_octree(pcd,maxDepth=4,lowEnd=0,highEnd=2000000)\n",
    "print(len(pathLists))"
   ]
  },
  {
   "cell_type": "code",
   "execution_count": null,
   "metadata": {},
   "outputs": [],
   "source": [
    "print(f'number of paths:{len(pathLists)}')"
   ]
  },
  {
   "cell_type": "code",
   "execution_count": null,
   "metadata": {},
   "outputs": [
    {
     "name": "stdout",
     "output_type": "stream",
     "text": [
      "number of paths:23\n"
     ]
    }
   ],
   "source": [
    "lowEnd=0\n",
    "highEnd=2000000\n",
    "a=-1\n",
    "pathLists=[]\n",
    "idxLists=[]\n",
    "for node in octree.root_node.children[0:1]: # depth1\n",
    "    a+=1\n",
    "    if (getattr(node,'indices',None) is not None and \n",
    "        len(node.indices)> lowEnd and \n",
    "        len(node.indices)< highEnd):\n",
    "        pathLists.append(os.path.join(output_dir,f'pcd_{a}.npy'))\n",
    "        idxLists.append(node.indices)\n",
    "       \n",
    "    else:\n",
    "        b=-1\n",
    "        for childnode in getattr(node,'children',[]): #depth 2\n",
    "            b+=1\n",
    "            if (getattr(childnode,'indices',None) is not None and \n",
    "                len(childnode.indices)> lowEnd and \n",
    "                len(childnode.indices)< highEnd):\n",
    "                pathLists.append(os.path.join(output_dir,f'pcd_{a}_{b}.npy'))\n",
    "                idxLists.append(childnode.indices)\n",
    "        \n",
    "            else:\n",
    "                c=-1\n",
    "                for grandchildnode in getattr(childnode,'children',[]): #depth 3\n",
    "                    c+=1\n",
    "                    if (getattr(grandchildnode,'indices',None) is not None and \n",
    "                        len(grandchildnode.indices)> lowEnd and \n",
    "                        len(grandchildnode.indices)< highEnd):\n",
    "                        pathLists.append(os.path.join(output_dir,f'pcd_{a}_{b}_{c}.npy'))\n",
    "                        idxLists.append(grandchildnode.indices)\n",
    "                    else:\n",
    "                        d=-1\n",
    "                        for grandgrandchildnode in getattr(grandchildnode,'children',[]): #depth 4\n",
    "                            d+=1\n",
    "                            if (getattr(grandgrandchildnode,'indices',None) is not None and \n",
    "                                len(grandgrandchildnode.indices)> lowEnd and \n",
    "                                len(grandgrandchildnode.indices)< highEnd):\n",
    "                                pathLists.append(os.path.join(output_dir,f'pcd_{a}_{b}_{c}_{d}.npy'))\n",
    "                                idxLists.append(grandgrandchildnode.indices)\n"
   ]
  },
  {
   "cell_type": "code",
   "execution_count": null,
   "metadata": {},
   "outputs": [
    {
     "name": "stdout",
     "output_type": "stream",
     "text": [
      "['D:/Data/2023-03 Elia Substation/PCD/subclouds/pcd_0_4.npy', 'D:/Data/2023-03 Elia Substation/PCD/subclouds/pcd_0_5_0.npy', 'D:/Data/2023-03 Elia Substation/PCD/subclouds/pcd_0_5_1.npy', 'D:/Data/2023-03 Elia Substation/PCD/subclouds/pcd_0_5_2_4.npy', 'D:/Data/2023-03 Elia Substation/PCD/subclouds/pcd_0_5_2_5.npy', 'D:/Data/2023-03 Elia Substation/PCD/subclouds/pcd_0_5_2_6.npy', 'D:/Data/2023-03 Elia Substation/PCD/subclouds/pcd_0_5_2_7.npy', 'D:/Data/2023-03 Elia Substation/PCD/subclouds/pcd_0_5_3_4.npy', 'D:/Data/2023-03 Elia Substation/PCD/subclouds/pcd_0_5_3_5.npy', 'D:/Data/2023-03 Elia Substation/PCD/subclouds/pcd_0_5_3_6.npy', 'D:/Data/2023-03 Elia Substation/PCD/subclouds/pcd_0_5_3_7.npy', 'D:/Data/2023-03 Elia Substation/PCD/subclouds/pcd_0_5_7.npy', 'D:/Data/2023-03 Elia Substation/PCD/subclouds/pcd_0_6_1_4.npy', 'D:/Data/2023-03 Elia Substation/PCD/subclouds/pcd_0_6_1_5.npy', 'D:/Data/2023-03 Elia Substation/PCD/subclouds/pcd_0_6_1_6.npy', 'D:/Data/2023-03 Elia Substation/PCD/subclouds/pcd_0_6_1_7.npy', 'D:/Data/2023-03 Elia Substation/PCD/subclouds/pcd_0_6_2.npy', 'D:/Data/2023-03 Elia Substation/PCD/subclouds/pcd_0_6_3_4.npy', 'D:/Data/2023-03 Elia Substation/PCD/subclouds/pcd_0_6_3_5.npy', 'D:/Data/2023-03 Elia Substation/PCD/subclouds/pcd_0_6_3_6.npy', 'D:/Data/2023-03 Elia Substation/PCD/subclouds/pcd_0_6_3_7.npy', 'D:/Data/2023-03 Elia Substation/PCD/subclouds/pcd_0_6_7.npy', 'D:/Data/2023-03 Elia Substation/PCD/subclouds/pcd_0_7_0_4.npy', 'D:/Data/2023-03 Elia Substation/PCD/subclouds/pcd_0_7_0_5.npy', 'D:/Data/2023-03 Elia Substation/PCD/subclouds/pcd_0_7_0_6.npy', 'D:/Data/2023-03 Elia Substation/PCD/subclouds/pcd_0_7_0_7.npy', 'D:/Data/2023-03 Elia Substation/PCD/subclouds/pcd_0_7_1.npy', 'D:/Data/2023-03 Elia Substation/PCD/subclouds/pcd_0_7_2_4.npy', 'D:/Data/2023-03 Elia Substation/PCD/subclouds/pcd_0_7_2_5.npy', 'D:/Data/2023-03 Elia Substation/PCD/subclouds/pcd_0_7_2_6.npy', 'D:/Data/2023-03 Elia Substation/PCD/subclouds/pcd_0_7_2_7.npy', 'D:/Data/2023-03 Elia Substation/PCD/subclouds/pcd_0_7_3_4.npy', 'D:/Data/2023-03 Elia Substation/PCD/subclouds/pcd_0_7_3_5.npy', 'D:/Data/2023-03 Elia Substation/PCD/subclouds/pcd_0_7_3_6.npy', 'D:/Data/2023-03 Elia Substation/PCD/subclouds/pcd_0_7_3_7.npy', 'D:/Data/2023-03 Elia Substation/PCD/subclouds/pcd_0_7_5.npy', 'D:/Data/2023-03 Elia Substation/PCD/subclouds/pcd_0_7_6_0.npy', 'D:/Data/2023-03 Elia Substation/PCD/subclouds/pcd_0_7_6_1.npy', 'D:/Data/2023-03 Elia Substation/PCD/subclouds/pcd_0_7_6_2.npy', 'D:/Data/2023-03 Elia Substation/PCD/subclouds/pcd_0_7_6_3.npy', 'D:/Data/2023-03 Elia Substation/PCD/subclouds/pcd_0_7_7_0.npy', 'D:/Data/2023-03 Elia Substation/PCD/subclouds/pcd_0_7_7_2.npy', 'D:/Data/2023-03 Elia Substation/PCD/subclouds/pcd_0_7_7_3.npy']\n"
     ]
    }
   ],
   "source": [
    "print(pathLists)"
   ]
  },
  {
   "attachments": {},
   "cell_type": "markdown",
   "metadata": {},
   "source": [
    "gather data and export"
   ]
  },
  {
   "cell_type": "code",
   "execution_count": null,
   "metadata": {},
   "outputs": [],
   "source": [
    "for p,indices in zip(pathLists,idxLists):\n",
    "    np.save(p,data[indices])"
   ]
  },
  {
   "attachments": {},
   "cell_type": "markdown",
   "metadata": {},
   "source": [
    "## Process point clouds with fixed regions"
   ]
  },
  {
   "cell_type": "code",
   "execution_count": null,
   "metadata": {},
   "outputs": [],
   "source": [
    "las  = laspy.read(pcd_path)"
   ]
  },
  {
   "cell_type": "code",
   "execution_count": null,
   "metadata": {},
   "outputs": [
    {
     "name": "stdout",
     "output_type": "stream",
     "text": [
      "['X', 'Y', 'Z', 'red', 'green', 'blue', 'intensity', 'classification']\n"
     ]
    }
   ],
   "source": [
    "array,names=gmu.las_get_data(las)\n",
    "print(names)"
   ]
  },
  {
   "cell_type": "code",
   "execution_count": null,
   "metadata": {},
   "outputs": [
    {
     "name": "stdout",
     "output_type": "stream",
     "text": [
      "86580621\n"
     ]
    }
   ],
   "source": [
    "pcd=o3d.geometry.PointCloud()\n",
    "pcd.points=o3d.utility.Vector3dVector(las.xyz)\n",
    "print(len(np.asarray(pcd.points)))"
   ]
  },
  {
   "cell_type": "code",
   "execution_count": null,
   "metadata": {},
   "outputs": [],
   "source": [
    "pcd=gmu.color_by_intensity(pcd,las['intensity'])"
   ]
  },
  {
   "cell_type": "code",
   "execution_count": null,
   "metadata": {},
   "outputs": [],
   "source": [
    "# pcd=pcd.random_down_sample(0.1)"
   ]
  },
  {
   "attachments": {},
   "cell_type": "markdown",
   "metadata": {},
   "source": [
    "subdivide space"
   ]
  },
  {
   "cell_type": "code",
   "execution_count": null,
   "metadata": {},
   "outputs": [
    {
     "name": "stdout",
     "output_type": "stream",
     "text": [
      " number of boxes: 49\n"
     ]
    }
   ],
   "source": [
    "size=[10,100,100]#m\n",
    "parts=[7,7,1]\n",
    "box=pcd.get_axis_aligned_bounding_box()\n",
    "boxes,names=gmu.divide_box_in_boxes(box,parts=parts)\n",
    "for box in boxes:\n",
    "    box.color=[1,0,0]\n",
    "print(f' number of boxes: {len(boxes)}')"
   ]
  },
  {
   "cell_type": "code",
   "execution_count": null,
   "metadata": {},
   "outputs": [],
   "source": [
    "# create boxes\n",
    "o3d.visualization.draw_geometries(boxes[0:15]+[pcd])"
   ]
  },
  {
   "attachments": {},
   "cell_type": "markdown",
   "metadata": {},
   "source": [
    "select point clouds"
   ]
  },
  {
   "cell_type": "code",
   "execution_count": null,
   "metadata": {},
   "outputs": [],
   "source": [
    "idxLists,names=pt.subdivide_pcd_per_box(pcd,parts=parts)"
   ]
  },
  {
   "cell_type": "code",
   "execution_count": null,
   "metadata": {},
   "outputs": [
    {
     "name": "stdout",
     "output_type": "stream",
     "text": [
      "(29658, 3) (29658,) (29658,)\n",
      "(1302618, 3) (1302618,) (1302618,)\n",
      "(218999, 3) (218999,) (218999,)\n",
      "(1608, 3) (1608,) (1608,)\n",
      "(1366239, 3) (1366239,) (1366239,)\n",
      "(1303602, 3) (1303602,) (1303602,)\n",
      "(3209538, 3) (3209538,) (3209538,)\n",
      "(2760910, 3) (2760910,) (2760910,)\n",
      "(14798, 3) (14798,) (14798,)\n",
      "(209227, 3) (209227,) (209227,)\n",
      "(2871610, 3) (2871610,) (2871610,)\n",
      "(2175844, 3) (2175844,) (2175844,)\n",
      "(1642834, 3) (1642834,) (1642834,)\n",
      "(1838064, 3) (1838064,) (1838064,)\n",
      "(4128509, 3) (4128509,) (4128509,)\n",
      "(47589, 3) (47589,) (47589,)\n",
      "(881204, 3) (881204,) (881204,)\n",
      "(2521304, 3) (2521304,) (2521304,)\n",
      "(3045488, 3) (3045488,) (3045488,)\n",
      "(2415779, 3) (2415779,) (2415779,)\n",
      "(2137054, 3) (2137054,) (2137054,)\n",
      "(1837935, 3) (1837935,) (1837935,)\n",
      "(2447464, 3) (2447464,) (2447464,)\n",
      "(1483865, 3) (1483865,) (1483865,)\n",
      "(2491931, 3) (2491931,) (2491931,)\n",
      "(1761270, 3) (1761270,) (1761270,)\n",
      "(4319148, 3) (4319148,) (4319148,)\n",
      "(7523220, 3) (7523220,) (7523220,)\n",
      "(171218, 3) (171218,) (171218,)\n",
      "(4875449, 3) (4875449,) (4875449,)\n",
      "(4888283, 3) (4888283,) (4888283,)\n",
      "(4021207, 3) (4021207,) (4021207,)\n",
      "(6664894, 3) (6664894,) (6664894,)\n",
      "(106803, 3) (106803,) (106803,)\n",
      "(249218, 3) (249218,) (249218,)\n",
      "(3449330, 3) (3449330,) (3449330,)\n",
      "(5995381, 3) (5995381,) (5995381,)\n",
      "(171527, 3) (171527,) (171527,)\n"
     ]
    }
   ],
   "source": [
    "for idx,name in zip(idxLists,names):\n",
    "    if idx:\n",
    "        data,_=gmu.las_get_data(las,indices=idx)\n",
    "        print(data[:,0:3].shape,data[:,7].shape,data[:,6].shape)\n",
    "        train_data=np.hstack((data[:,0:3],np.array([data[:,7]]).T,np.array([data[:,6]]).T))\n",
    "        train_dir=os.path.join(output_dir,name+'.npy')\n",
    "        np.save(train_dir, train_data)\n",
    "        # pcdtest=pcd.select_by_index(idx)"
   ]
  },
  {
   "cell_type": "code",
   "execution_count": null,
   "metadata": {},
   "outputs": [
    {
     "name": "stdout",
     "output_type": "stream",
     "text": [
      "PointCloud with 31067 points.\n"
     ]
    }
   ],
   "source": [
    "inliers_pcd = pcd.select_by_index(inliers_indices[1], invert=False) # select inside points = cropped \n",
    "print(inliers_pcd)"
   ]
  },
  {
   "cell_type": "code",
   "execution_count": null,
   "metadata": {},
   "outputs": [],
   "source": [
    "array=gmu.las_get_data(las,idxLists[0:1])\n"
   ]
  },
  {
   "cell_type": "code",
   "execution_count": null,
   "metadata": {},
   "outputs": [],
   "source": [
    "las_sub=gmu.pcd_to_dataframe()\n"
   ]
  },
  {
   "cell_type": "code",
   "execution_count": null,
   "metadata": {},
   "outputs": [],
   "source": [
    "df=gmu.las_to_dataframe(pcd)"
   ]
  },
  {
   "cell_type": "code",
   "execution_count": null,
   "metadata": {},
   "outputs": [],
   "source": [
    "describe_element('test',)"
   ]
  },
  {
   "cell_type": "code",
   "execution_count": null,
   "metadata": {},
   "outputs": [],
   "source": [
    "o3d.visualization.draw_geometries(boxes[0:30]+[pcdtest])"
   ]
  },
  {
   "attachments": {},
   "cell_type": "markdown",
   "metadata": {},
   "source": [
    "# load seperate files to check validity"
   ]
  },
  {
   "cell_type": "code",
   "execution_count": null,
   "metadata": {},
   "outputs": [],
   "source": [
    "data=np.load(os.path.join(output_dir,'pcd_0_3_0.npy'))"
   ]
  },
  {
   "cell_type": "code",
   "execution_count": null,
   "metadata": {},
   "outputs": [
    {
     "ename": "RuntimeError",
     "evalue": "",
     "output_type": "error",
     "traceback": [
      "\u001b[1;31m---------------------------------------------------------------------------\u001b[0m",
      "\u001b[1;31mRuntimeError\u001b[0m                              Traceback (most recent call last)",
      "\u001b[1;32m~\\AppData\\Local\\Temp/ipykernel_4964/4068383001.py\u001b[0m in \u001b[0;36m<module>\u001b[1;34m\u001b[0m\n\u001b[0;32m      1\u001b[0m \u001b[0mpcd\u001b[0m\u001b[1;33m=\u001b[0m\u001b[0mo3d\u001b[0m\u001b[1;33m.\u001b[0m\u001b[0mgeometry\u001b[0m\u001b[1;33m.\u001b[0m\u001b[0mPointCloud\u001b[0m\u001b[1;33m(\u001b[0m\u001b[0mo3d\u001b[0m\u001b[1;33m.\u001b[0m\u001b[0mutility\u001b[0m\u001b[1;33m.\u001b[0m\u001b[0mVector3dVector\u001b[0m\u001b[1;33m(\u001b[0m\u001b[0mdata\u001b[0m\u001b[1;33m[\u001b[0m\u001b[1;33m:\u001b[0m\u001b[1;33m,\u001b[0m\u001b[1;36m0\u001b[0m\u001b[1;33m:\u001b[0m\u001b[1;36m3\u001b[0m\u001b[1;33m]\u001b[0m\u001b[1;33m)\u001b[0m\u001b[1;33m)\u001b[0m\u001b[1;33m\u001b[0m\u001b[1;33m\u001b[0m\u001b[0m\n\u001b[0;32m      2\u001b[0m \u001b[1;33m\u001b[0m\u001b[0m\n\u001b[1;32m----> 3\u001b[1;33m \u001b[0mpcd\u001b[0m\u001b[1;33m=\u001b[0m\u001b[0mgmu\u001b[0m\u001b[1;33m.\u001b[0m\u001b[0mcolor_by_intensity\u001b[0m\u001b[1;33m(\u001b[0m\u001b[0mpcd\u001b[0m\u001b[1;33m,\u001b[0m\u001b[0mdata\u001b[0m\u001b[1;33m[\u001b[0m\u001b[1;33m:\u001b[0m\u001b[1;33m,\u001b[0m\u001b[1;36m0\u001b[0m\u001b[1;33m:\u001b[0m\u001b[1;36m4\u001b[0m\u001b[1;33m]\u001b[0m\u001b[1;33m)\u001b[0m\u001b[1;33m\u001b[0m\u001b[1;33m\u001b[0m\u001b[0m\n\u001b[0m\u001b[0;32m      4\u001b[0m \u001b[0mprint\u001b[0m\u001b[1;33m(\u001b[0m\u001b[0mlen\u001b[0m\u001b[1;33m(\u001b[0m\u001b[0mnp\u001b[0m\u001b[1;33m.\u001b[0m\u001b[0masarray\u001b[0m\u001b[1;33m(\u001b[0m\u001b[0mpcd\u001b[0m\u001b[1;33m.\u001b[0m\u001b[0mpoints\u001b[0m\u001b[1;33m)\u001b[0m\u001b[1;33m)\u001b[0m\u001b[1;33m)\u001b[0m\u001b[1;33m\u001b[0m\u001b[1;33m\u001b[0m\u001b[0m\n",
      "\u001b[1;32md:\\Scan-to-BIM repository\\geomapi\\geomapi\\utils\\geometryutils.py\u001b[0m in \u001b[0;36mcolor_by_intensity\u001b[1;34m(pcd, intensities)\u001b[0m\n\u001b[0;32m    797\u001b[0m \u001b[1;33m\u001b[0m\u001b[0m\n\u001b[0;32m    798\u001b[0m     \u001b[1;31m# Now colors array is grayscale array (r = g = b)\u001b[0m\u001b[1;33m\u001b[0m\u001b[1;33m\u001b[0m\u001b[1;33m\u001b[0m\u001b[0m\n\u001b[1;32m--> 799\u001b[1;33m     \u001b[0mpcd\u001b[0m\u001b[1;33m.\u001b[0m\u001b[0mcolors\u001b[0m \u001b[1;33m=\u001b[0m \u001b[0mo3d\u001b[0m\u001b[1;33m.\u001b[0m\u001b[0mutility\u001b[0m\u001b[1;33m.\u001b[0m\u001b[0mVector3dVector\u001b[0m\u001b[1;33m(\u001b[0m\u001b[0mcolors\u001b[0m\u001b[1;33m)\u001b[0m\u001b[1;33m\u001b[0m\u001b[1;33m\u001b[0m\u001b[0m\n\u001b[0m\u001b[0;32m    800\u001b[0m     \u001b[1;32mreturn\u001b[0m \u001b[0mpcd\u001b[0m\u001b[1;33m\u001b[0m\u001b[1;33m\u001b[0m\u001b[0m\n\u001b[0;32m    801\u001b[0m \u001b[1;33m\u001b[0m\u001b[0m\n",
      "\u001b[1;31mRuntimeError\u001b[0m: "
     ]
    }
   ],
   "source": [
    "pcd=o3d.geometry.PointCloud(o3d.utility.Vector3dVector(data[:,0:3]))\n",
    "\n",
    "pcd=gmu.color_by_intensity(pcd,data[:,0:4])\n",
    "print(len(np.asarray(pcd.points)))"
   ]
  },
  {
   "cell_type": "code",
   "execution_count": null,
   "metadata": {},
   "outputs": [
    {
     "name": "stdout",
     "output_type": "stream",
     "text": [
      "881204\n"
     ]
    }
   ],
   "source": [
    "pcd=o3d.geometry.PointCloud()\n",
    "pcd.points=o3d.utility.Vector3dVector(data[:,0:3])\n",
    "print(len(np.asarray(pcd.points)))"
   ]
  },
  {
   "cell_type": "code",
   "execution_count": null,
   "metadata": {},
   "outputs": [],
   "source": [
    "pcd.colors=o3d.utility.Vector3dVector(gmu.array_to_colors(data[:,3]))"
   ]
  },
  {
   "cell_type": "code",
   "execution_count": null,
   "metadata": {},
   "outputs": [
    {
     "name": "stdout",
     "output_type": "stream",
     "text": [
      "PointCloud with 881204 points.\n"
     ]
    }
   ],
   "source": [
    "print (pcd)"
   ]
  },
  {
   "cell_type": "code",
   "execution_count": null,
   "metadata": {},
   "outputs": [
    {
     "name": "stdout",
     "output_type": "stream",
     "text": [
      "[Open3D WARNING] GLFW Error: WGL: Failed to make context current: De aangevraagde overdrachtsbewerking wordt niet ondersteund. \n",
      "[Open3D WARNING] GLFW Error: WGL: Failed to make context current: De aangevraagde overdrachtsbewerking wordt niet ondersteund. \n",
      "[Open3D WARNING] GLFW Error: WGL: Failed to make context current: De ingang is ongeldig. \n",
      "[Open3D WARNING] GLFW Error: WGL: Failed to make context current: De ingang is ongeldig. \n",
      "[Open3D WARNING] GLFW Error: WGL: Failed to make context current: De aangevraagde overdrachtsbewerking wordt niet ondersteund. \n",
      "[Open3D WARNING] GLFW Error: WGL: Failed to make context current: De ingang is ongeldig. \n",
      "[Open3D WARNING] GLFW Error: WGL: Failed to make context current: De ingang is ongeldig. \n"
     ]
    }
   ],
   "source": [
    "o3d.visualization.draw_geometries([pcd])"
   ]
  },
  {
   "attachments": {},
   "cell_type": "markdown",
   "metadata": {},
   "source": [
    "# Parse DXF"
   ]
  },
  {
   "attachments": {},
   "cell_type": "markdown",
   "metadata": {},
   "source": [
    "load data"
   ]
  },
  {
   "cell_type": "code",
   "execution_count": null,
   "metadata": {},
   "outputs": [],
   "source": [
    "import ezdxf\n",
    "\n",
    "#open dxf file\n",
    "dwg = ezdxf.readfile(dxf_path)\n",
    "\n",
    "#select layout: Modelspace,Paperspace,Blocklayout\n",
    "msp = dwg.modelspace()\n"
   ]
  },
  {
   "attachments": {},
   "cell_type": "markdown",
   "metadata": {},
   "source": [
    "print info"
   ]
  },
  {
   "cell_type": "code",
   "execution_count": null,
   "metadata": {},
   "outputs": [
    {
     "name": "stdout",
     "output_type": "stream",
     "text": [
      "['0', 'structure', 'fondation', 'flange', 'equipement', 'equipement_10', 'earthing', 'earthing_17', 'level 14', 'level 27', 'level 13', 'flange_16', 'level 4', 'level 50', 'level 3', 'structure_11', 'cable_naked_14', 'fondation_5', 'tube_15', 'level 2', 'malt', 'various', 'dimension_50', 'level 63', 'level 16', 'level 11', 'level 35', 'level 15', 'level 8', 'am_0', 'level 1', 'level 7', 'raccords', 'cotations', 'charpente', 'cable_18', 'noise_barriers_35', 'gutter_6', 'level 12', 'level 6', 'level 5', 'level 17', 'level 18', 'level 10', 'level 40', 'cable', 'roof_36', 'grates_38', 'cable_naked_14_bis', 'porte  pour batiment', 'escalier beton', 'border_1', 'level 9', 'fondations', 'hatching_29', 'safety_lighting_24', 'toit', 'sewage_7', 'text_fr_40', 'text_nl_41', 'building_30', 'permits_text_43', 'level 57', 'dimension', 'tube', 'gutter', 'armoire travee', 'level 41', 'various_27', 'eclairage poste', 'point accrochage', 'tiles_33', 'fondation future', 'route fill', 'colonne logette tfo', 'defpoints', 'cable_naked_14_bis (construction)']\n"
     ]
    }
   ],
   "source": [
    "#layers\n",
    "print([key for key in dwg.layers.entries])"
   ]
  },
  {
   "attachments": {},
   "cell_type": "markdown",
   "metadata": {},
   "source": [
    "convert data"
   ]
  },
  {
   "cell_type": "code",
   "execution_count": null,
   "metadata": {},
   "outputs": [
    {
     "name": "stdout",
     "output_type": "stream",
     "text": [
      "77 layers found.\n",
      "29821 entities found.\n",
      "Converting entities to open3d geometries...\n"
     ]
    },
    {
     "name": "stderr",
     "output_type": "stream",
     "text": [
      "d:\\Scan-to-BIM repository\\geomapi\\geomapi\\utils\\cadutils.py:553: VisibleDeprecationWarning: Creating an ndarray from ragged nested sequences (which is a list-or-tuple of lists-or-tuples-or ndarrays with different lengths or shapes) is deprecated. If you meant to do this, you must specify 'dtype=object' when creating the ndarray.\n",
      "  faces=gmu.split_quad_faces(np.array(entity.faces))\n"
     ]
    },
    {
     "ename": "RuntimeError",
     "evalue": "",
     "output_type": "error",
     "traceback": [
      "\u001b[1;31m---------------------------------------------------------------------------\u001b[0m",
      "\u001b[1;31mRuntimeError\u001b[0m                              Traceback (most recent call last)",
      "\u001b[1;32m~\\AppData\\Local\\Temp/ipykernel_5436/1323413070.py\u001b[0m in \u001b[0;36m<module>\u001b[1;34m\u001b[0m\n\u001b[1;32m----> 1\u001b[1;33m geometry_groups,layers=cadu.ezdxf_to_o3d(dwg,\n\u001b[0m\u001b[0;32m      2\u001b[0m                                     \u001b[1;31m# dtypes=['LINE','POLYLINE'],\u001b[0m\u001b[1;33m\u001b[0m\u001b[1;33m\u001b[0m\u001b[1;33m\u001b[0m\u001b[0m\n\u001b[0;32m      3\u001b[0m                                     \u001b[1;31m# layers=['0'],\u001b[0m\u001b[1;33m\u001b[0m\u001b[1;33m\u001b[0m\u001b[1;33m\u001b[0m\u001b[0m\n\u001b[0;32m      4\u001b[0m                     \u001b[0mjoin_geometries\u001b[0m\u001b[1;33m=\u001b[0m\u001b[1;32mTrue\u001b[0m\u001b[1;33m,\u001b[0m\u001b[1;33m\u001b[0m\u001b[1;33m\u001b[0m\u001b[0m\n\u001b[0;32m      5\u001b[0m                     explode_blocks=False) \n",
      "\u001b[1;32md:\\Scan-to-BIM repository\\geomapi\\geomapi\\utils\\cadutils.py\u001b[0m in \u001b[0;36mezdxf_to_o3d\u001b[1;34m(dxf, dtypes, layers, join_geometries, explode_blocks)\u001b[0m\n\u001b[0;32m     78\u001b[0m     \u001b[1;32mfor\u001b[0m \u001b[0mlayer\u001b[0m\u001b[1;33m,\u001b[0m \u001b[0mgroupentities\u001b[0m \u001b[1;32min\u001b[0m \u001b[0mgroup\u001b[0m\u001b[1;33m.\u001b[0m\u001b[0mitems\u001b[0m\u001b[1;33m(\u001b[0m\u001b[1;33m)\u001b[0m\u001b[1;33m:\u001b[0m\u001b[1;33m\u001b[0m\u001b[1;33m\u001b[0m\u001b[0m\n\u001b[0;32m     79\u001b[0m         \u001b[1;32mif\u001b[0m \u001b[0mlayer\u001b[0m\u001b[1;33m.\u001b[0m\u001b[0mcasefold\u001b[0m\u001b[1;33m(\u001b[0m\u001b[1;33m)\u001b[0m \u001b[1;32min\u001b[0m \u001b[0mlayers\u001b[0m\u001b[1;33m:\u001b[0m\u001b[1;33m\u001b[0m\u001b[1;33m\u001b[0m\u001b[0m\n\u001b[1;32m---> 80\u001b[1;33m             \u001b[0mgeometries\u001b[0m\u001b[1;33m,\u001b[0m\u001b[0m_\u001b[0m\u001b[1;33m=\u001b[0m\u001b[0mezdxf_entities_to_o3d\u001b[0m\u001b[1;33m(\u001b[0m\u001b[0mgroupentities\u001b[0m\u001b[1;33m)\u001b[0m\u001b[1;33m\u001b[0m\u001b[1;33m\u001b[0m\u001b[0m\n\u001b[0m\u001b[0;32m     81\u001b[0m             \u001b[0mgeometries\u001b[0m\u001b[1;33m=\u001b[0m\u001b[0mgmu\u001b[0m\u001b[1;33m.\u001b[0m\u001b[0mjoin_geometries\u001b[0m\u001b[1;33m(\u001b[0m\u001b[0mgeometries\u001b[0m\u001b[1;33m)\u001b[0m    \u001b[1;32mif\u001b[0m \u001b[0mjoin_geometries\u001b[0m \u001b[1;32melse\u001b[0m \u001b[0mgeometries\u001b[0m\u001b[1;33m\u001b[0m\u001b[1;33m\u001b[0m\u001b[0m\n\u001b[0;32m     82\u001b[0m             \u001b[0mgeometries\u001b[0m\u001b[1;33m=\u001b[0m\u001b[0mut\u001b[0m\u001b[1;33m.\u001b[0m\u001b[0mitem_to_list\u001b[0m\u001b[1;33m(\u001b[0m\u001b[0mgeometries\u001b[0m\u001b[1;33m)\u001b[0m\u001b[1;33m\u001b[0m\u001b[1;33m\u001b[0m\u001b[0m\n",
      "\u001b[1;32md:\\Scan-to-BIM repository\\geomapi\\geomapi\\utils\\cadutils.py\u001b[0m in \u001b[0;36mezdxf_entities_to_o3d\u001b[1;34m(entities)\u001b[0m\n\u001b[0;32m    214\u001b[0m         \u001b[1;31m#     o3d_geometries.append(hatch_to_o3d(entity))\u001b[0m\u001b[1;33m\u001b[0m\u001b[1;33m\u001b[0m\u001b[1;33m\u001b[0m\u001b[0m\n\u001b[0;32m    215\u001b[0m         \u001b[1;32melif\u001b[0m \u001b[0mentity\u001b[0m\u001b[1;33m.\u001b[0m\u001b[0mdxftype\u001b[0m\u001b[1;33m(\u001b[0m\u001b[1;33m)\u001b[0m \u001b[1;33m==\u001b[0m \u001b[1;34m'SOLID'\u001b[0m \u001b[1;32mor\u001b[0m \u001b[0mentity\u001b[0m\u001b[1;33m.\u001b[0m\u001b[0mdxftype\u001b[0m\u001b[1;33m(\u001b[0m\u001b[1;33m)\u001b[0m \u001b[1;33m==\u001b[0m\u001b[1;34m'3DFACE'\u001b[0m \u001b[1;32mor\u001b[0m \u001b[0mentity\u001b[0m\u001b[1;33m.\u001b[0m\u001b[0mdxftype\u001b[0m\u001b[1;33m(\u001b[0m\u001b[1;33m)\u001b[0m \u001b[1;33m==\u001b[0m\u001b[1;34m'3DSOLID'\u001b[0m\u001b[1;33m:\u001b[0m\u001b[1;33m\u001b[0m\u001b[1;33m\u001b[0m\u001b[0m\n\u001b[1;32m--> 216\u001b[1;33m             \u001b[0mg\u001b[0m\u001b[1;33m,\u001b[0m\u001b[0ml\u001b[0m\u001b[1;33m=\u001b[0m\u001b[0msolids_to_o3d\u001b[0m\u001b[1;33m(\u001b[0m\u001b[0mentity\u001b[0m\u001b[1;33m)\u001b[0m\u001b[1;33m\u001b[0m\u001b[1;33m\u001b[0m\u001b[0m\n\u001b[0m\u001b[0;32m    217\u001b[0m         \u001b[1;32melse\u001b[0m\u001b[1;33m:\u001b[0m\u001b[1;33m\u001b[0m\u001b[1;33m\u001b[0m\u001b[0m\n\u001b[0;32m    218\u001b[0m             \u001b[1;32mcontinue\u001b[0m\u001b[1;33m\u001b[0m\u001b[1;33m\u001b[0m\u001b[0m\n",
      "\u001b[1;32md:\\Scan-to-BIM repository\\geomapi\\geomapi\\utils\\cadutils.py\u001b[0m in \u001b[0;36msolids_to_o3d\u001b[1;34m(entities)\u001b[0m\n\u001b[0;32m    476\u001b[0m         \u001b[0mmesh\u001b[0m\u001b[1;33m=\u001b[0m\u001b[0mo3d\u001b[0m\u001b[1;33m.\u001b[0m\u001b[0mgeometry\u001b[0m\u001b[1;33m.\u001b[0m\u001b[0mTriangleMesh\u001b[0m\u001b[1;33m(\u001b[0m\u001b[1;33m)\u001b[0m\u001b[1;33m\u001b[0m\u001b[1;33m\u001b[0m\u001b[0m\n\u001b[0;32m    477\u001b[0m         \u001b[0mmesh\u001b[0m\u001b[1;33m.\u001b[0m\u001b[0mvertices\u001b[0m\u001b[1;33m=\u001b[0m\u001b[0mo3d\u001b[0m\u001b[1;33m.\u001b[0m\u001b[0mutility\u001b[0m\u001b[1;33m.\u001b[0m\u001b[0mVector3dVector\u001b[0m\u001b[1;33m(\u001b[0m\u001b[0mpoints\u001b[0m\u001b[1;33m)\u001b[0m\u001b[1;33m\u001b[0m\u001b[1;33m\u001b[0m\u001b[0m\n\u001b[1;32m--> 478\u001b[1;33m         \u001b[0mmesh\u001b[0m\u001b[1;33m.\u001b[0m\u001b[0mtriangles\u001b[0m\u001b[1;33m=\u001b[0m\u001b[0mo3d\u001b[0m\u001b[1;33m.\u001b[0m\u001b[0mutility\u001b[0m\u001b[1;33m.\u001b[0m\u001b[0mVector3iVector\u001b[0m\u001b[1;33m(\u001b[0m\u001b[0mfaces\u001b[0m\u001b[1;33m)\u001b[0m\u001b[1;33m\u001b[0m\u001b[1;33m\u001b[0m\u001b[0m\n\u001b[0m\u001b[0;32m    479\u001b[0m         \u001b[0mmesh\u001b[0m\u001b[1;33m.\u001b[0m\u001b[0mpaint_uniform_color\u001b[0m\u001b[1;33m(\u001b[0m\u001b[0mnp\u001b[0m\u001b[1;33m.\u001b[0m\u001b[0mrepeat\u001b[0m\u001b[1;33m(\u001b[0m\u001b[0mentity\u001b[0m\u001b[1;33m.\u001b[0m\u001b[0mdxf\u001b[0m\u001b[1;33m.\u001b[0m\u001b[0mcolor\u001b[0m\u001b[1;33m/\u001b[0m\u001b[1;36m256\u001b[0m\u001b[1;33m,\u001b[0m\u001b[1;36m3\u001b[0m\u001b[1;33m)\u001b[0m\u001b[1;33m)\u001b[0m\u001b[1;33m\u001b[0m\u001b[1;33m\u001b[0m\u001b[0m\n\u001b[0;32m    480\u001b[0m         \u001b[0mgeometries\u001b[0m\u001b[1;33m.\u001b[0m\u001b[0mappend\u001b[0m\u001b[1;33m(\u001b[0m\u001b[0mmesh\u001b[0m\u001b[1;33m)\u001b[0m\u001b[1;33m\u001b[0m\u001b[1;33m\u001b[0m\u001b[0m\n",
      "\u001b[1;31mRuntimeError\u001b[0m: "
     ]
    }
   ],
   "source": [
    "geometry_groups,layers=cadu.ezdxf_to_o3d(dwg,\n",
    "                                    # dtypes=['LINE','POLYLINE'],\n",
    "                                    # layers=['0'],\n",
    "                    join_geometries=True,\n",
    "                    explode_blocks=False) \n",
    "print(len(geometry_groups),len(layers))\n",
    "print(geometry_groups[0:5])\n",
    "print(layers[0:5])"
   ]
  },
  {
   "cell_type": "code",
   "execution_count": null,
   "metadata": {},
   "outputs": [
    {
     "name": "stdout",
     "output_type": "stream",
     "text": [
      "['3DFACE' '3DSOLID' 'ARC' 'CIRCLE' 'DIMENSION' 'ELLIPSE' 'HATCH' 'INSERT'\n",
      " 'LEADER' 'LINE' 'LWPOLYLINE' 'MTEXT' 'POINT' 'POLYLINE' 'REGION' 'SOLID'\n",
      " 'SPLINE' 'SURFACE' 'TEXT'] [  329  1873   423   366     2    28    59  1074     2 24051  2665     8\n",
      "   139  1611    42    31   178    14    30]\n"
     ]
    }
   ],
   "source": [
    "dtypes=[]\n",
    "for entity in msp:\n",
    "    dtypes.append(entity.dxftype())\n",
    "    # if entity.dxftype() == 'LINE':\n",
    "    #     None\n",
    "    #     #    print(entity)\n",
    "    # if entity.dxftype() == 'ARC':\n",
    "    #     None\n",
    "    #     # print(entity)\n",
    "    # if entity.dxftype() == 'CIRCLE':\n",
    "    #     None\n",
    "    #     # print(entity)\n",
    "    # if entity.dxftype() == 'POINT':\n",
    "    #     None\n",
    "    #     # print(entity)\n",
    "    # if entity.dxftype() == 'SPLINE':\n",
    "    #     None\n",
    "    # #    print(entity)\n",
    "    # if entity.dxftype() == 'POLYLINE':\n",
    "    #     None\n",
    "    #     print(entity)\n",
    "    # if entity.dxftype() == 'LWPOLYLINE':\n",
    "    #     None\n",
    "    #     print(entity)\n",
    "    # if entity.dxftype() == 'MESH':        \n",
    "    #     print(entity)\n",
    "    # if entity.dxftype() == 'ELLIPSE':\n",
    "    #     None\n",
    "        # print(entity)\n",
    "    # elif entity.dxftype() == 'HATCH':\n",
    "    #     o3d_geometries.append(hatch_to_o3d(entity))\n",
    "    # if entity.dxftype() == 'SOLID or 3DFACE':\n",
    "    #    print(entity)\n",
    "    # else:\n",
    "    #     None\n",
    "        # print(entity)\n",
    "array=np.array(dtypes)\n",
    "unique,counts= np.unique(array,return_counts=True)\n",
    "print(unique, counts)"
   ]
  },
  {
   "cell_type": "code",
   "execution_count": null,
   "metadata": {},
   "outputs": [
    {
     "name": "stdout",
     "output_type": "stream",
     "text": [
      "129027 1567 0\n"
     ]
    }
   ],
   "source": [
    "# linecounter=0\n",
    "# meshcounter=0\n",
    "# pcdcounter=0\n",
    "# for g in list(itertools.chain(*geometry_groups)):\n",
    "#     if type(g)==o3d.geometry.LineSet:\n",
    "#         linecounter+=1\n",
    "#     if type(g)==o3d.geometry.TriangleMesh:\n",
    "#         meshcounter+=1\n",
    "#     if 'cloud' in str(type(g)):\n",
    "#         pcdcounter+=1\n",
    "# print(linecounter,meshcounter,pcdcounter)"
   ]
  },
  {
   "attachments": {},
   "cell_type": "markdown",
   "metadata": {},
   "source": [
    "filter far away entities"
   ]
  },
  {
   "cell_type": "code",
   "execution_count": null,
   "metadata": {},
   "outputs": [
    {
     "name": "stdout",
     "output_type": "stream",
     "text": [
      "[PointCloud with 12 points., LineSet with 498 lines., PointCloud with 22 points., PointCloud with 1 points., LineSet with 897 lines., PointCloud with 1 points., PointCloud with 89 points., PointCloud with 1 points., PointCloud with 3 points., LineSet with 211 lines., LineSet with 2636 lines., PointCloud with 6 points., LineSet with 122 lines., PointCloud with 4 points., LineSet with 72 lines.]\n"
     ]
    }
   ],
   "source": [
    "geometries=geometry_groups\n",
    "center_point=np.array([122697.25,199620.05,5])\n",
    "geometries=gmu.filter_geometry_by_distance(geometries,center_point,distance_threshold=500)\n",
    "print(geometries)"
   ]
  },
  {
   "attachments": {},
   "cell_type": "markdown",
   "metadata": {},
   "source": [
    "visualize"
   ]
  },
  {
   "cell_type": "code",
   "execution_count": null,
   "metadata": {},
   "outputs": [],
   "source": [
    "# testgeometries=geometries\n",
    "# for geom in testgeometries:\n",
    "[g.paint_uniform_color(ut.random_color()) for g in geometries]\n",
    "# test=[g.paint_uniform_color([1,0,0]) for g in list(itertools.chain(*testgeometries))]\n",
    "# test=gmu.join_geometries(geometries)\n",
    "# flat_list = list(itertools.chain(*testgeometries))\n",
    "o3d.visualization.draw_geometries(geometries)  "
   ]
  },
  {
   "cell_type": "code",
   "execution_count": null,
   "metadata": {},
   "outputs": [],
   "source": [
    "testgeometries=geometries\n",
    "for geom in testgeometries:\n",
    "    [g.paint_uniform_color(ut.random_color()) for g in ut.item_to_list(geom)]\n",
    "# test=[g.paint_uniform_color([1,0,0]) for g in list(itertools.chain(*testgeometries))]\n",
    "# test=gmu.join_geometries(geometries)\n",
    "flat_list = list(itertools.chain(*testgeometries))\n",
    "o3d.visualization.draw_geometries(flat_list)  "
   ]
  },
  {
   "attachments": {},
   "cell_type": "markdown",
   "metadata": {},
   "source": [
    "access blocks"
   ]
  },
  {
   "cell_type": "code",
   "execution_count": null,
   "metadata": {},
   "outputs": [],
   "source": [
    "test=o3d.io.read_triangle_mesh('D:/Data/2023-03 Elia Substation/BLOCKS/ARE STA170kV 40kA Cde tri manuelle.ply')\n",
    "o3d.visualization.draw_geometries([test])  "
   ]
  },
  {
   "cell_type": "code",
   "execution_count": null,
   "metadata": {},
   "outputs": [
    {
     "name": "stdout",
     "output_type": "stream",
     "text": [
      "['ARE STA170kV 40kA Cde tri manuelle' 'ART CA170 B1-B4-B5-B6'\n",
      " 'ART CA170 B1-B4-B5-B6_1' 'ART CA170 B1-B4-B5-B6_2' 'ART UTE 170'\n",
      " 'ART UTE 170_1' 'ART UTE 170_2' 'BC01' 'BOUCHON 1' 'BOUCHON 2'\n",
      " 'BOUCHON 2_1' 'CAPTEUR MALT 6' 'CAPTEUR MALT 6_1' 'CAPTEUR MALT 8'\n",
      " 'CHAIN4' 'CHAIN4_1' 'CHAIN4_2' 'DILATATION 3' 'DILATATION 5' 'From Solid'\n",
      " 'GADE CORPS' 'GADE CORPS_1' 'HE300A' 'HEB220'\n",
      " 'ISO C16 750 III Posé (3D)_3' 'ISO C8 750  III (3D)' 'ISO02' 'ISO06'\n",
      " 'ISO5' 'MALT PIECE W' 'MALT PIECE W 1 BOULE' 'MALT02' 'PAR05'\n",
      " 'PAU TFO PN 30kV 2000A-5sec' 'PLAT_D' 'POINT.DIAM6' 'PORTE 1'\n",
      " 'PORTE+IMPOSTE' 'PORTIQUE JEU DE BARRES (2010)_1' 'RAC DROIT 4' 'RAC T 2'\n",
      " 'RAC T 36' 'RAC T 36_1' 'RAC004' 'RAC010' 'RAC010_1' 'RAC022' 'RAC025'\n",
      " 'RAC025_1' 'RAC03' 'RAC031' 'RAC031_1' 'RAC034' 'RAC03_1' 'RAC043'\n",
      " 'RAC043_1' 'RAC043_2' 'RAC043_3' 'RAC043_4' 'RAC043_5' 'RAC043_6'\n",
      " 'RAC050' 'RAC050_1' 'RAC051' 'RAC057' 'RAC057_1' 'RAC058' 'RAC089'\n",
      " 'RAC090' 'RAC091' 'RAC093' 'RAC093_1' 'RAC093_2' 'RAC094' 'RAC094_1'\n",
      " 'RAC160' 'RAC160_1' 'RAC160_2' 'RAC193' 'RAC_DR' 'RAC_DR_1' 'RAYC01'\n",
      " 'RAYC01_1' 'SECT4' 'SECT41' 'SECT42' 'SUPPORT (Ht 2500) TP UTE170'\n",
      " 'SUPPORT (Ht 2500) TP UTE170_1' 'SUPPORT (Ht 2500) TP UTE170_2'\n",
      " 'SUPPORT (Ht 2500) TP UTE170_3' 'SUPPORT ARE STA 170kV 40kA Cde mono'\n",
      " 'SUPPORT ARE STA 170kV 40kA Cde mono_1'\n",
      " 'SUPPORT ARE STA 170kV 40kA Cde mono_2' 'TEST4' 'TI01' 'TI01_1' 'TP01'\n",
      " 'TP01_1' 'VEG001' 'VEG007' 'VEG009' 'VEG013_10' 'VEG019' 'VEG019_1']\n",
      "[Open3D WARNING] Unable to load file D:/Data/2023-03 Elia Substation/BLOCKS/ARE STA170kV 40kA Cde tri manuelle.obj with ASSIMP\n",
      "[Open3D WARNING] Unable to load file D:/Data/2023-03 Elia Substation/BLOCKS/ART UTE 170.obj with ASSIMP\n",
      "[Open3D WARNING] Unable to load file D:/Data/2023-03 Elia Substation/BLOCKS/ART UTE 170_1.obj with ASSIMP\n",
      "[Open3D WARNING] Unable to load file D:/Data/2023-03 Elia Substation/BLOCKS/ART UTE 170_2.obj with ASSIMP\n",
      "[Open3D INFO] Skipping non-triangle primitive geometry of type: 1\n",
      "[Open3D INFO] Skipping non-triangle primitive geometry of type: 1\n",
      "[Open3D WARNING] Unable to load file D:/Data/2023-03 Elia Substation/BLOCKS/BOUCHON 2.obj with ASSIMP\n",
      "[Open3D WARNING] Unable to load file D:/Data/2023-03 Elia Substation/BLOCKS/BOUCHON 2_1.obj with ASSIMP\n",
      "[Open3D WARNING] Unable to load file D:/Data/2023-03 Elia Substation/BLOCKS/From Solid.obj with ASSIMP\n",
      "[Open3D WARNING] Unable to load file D:/Data/2023-03 Elia Substation/BLOCKS/HE300A.obj with ASSIMP\n",
      "[Open3D WARNING] Unable to load file D:/Data/2023-03 Elia Substation/BLOCKS/HEB220.obj with ASSIMP\n",
      "[Open3D INFO] Skipping non-triangle primitive geometry of type: 1\n",
      "[Open3D INFO] Skipping non-triangle primitive geometry of type: 1\n",
      "[Open3D INFO] Skipping non-triangle primitive geometry of type: 1\n",
      "[Open3D INFO] Skipping non-triangle primitive geometry of type: 1\n",
      "[Open3D INFO] Skipping non-triangle primitive geometry of type: 1\n",
      "[Open3D WARNING] Unable to load file D:/Data/2023-03 Elia Substation/BLOCKS/PAR05.obj with ASSIMP\n",
      "[Open3D WARNING] Unable to load file D:/Data/2023-03 Elia Substation/BLOCKS/PAU TFO PN 30kV 2000A-5sec.obj with ASSIMP\n",
      "[Open3D WARNING] Unable to load file D:/Data/2023-03 Elia Substation/BLOCKS/PLATEAU 17     DIAMETRE 160.obj with ASSIMP\n",
      "[Open3D WARNING] Unable to load file D:/Data/2023-03 Elia Substation/BLOCKS/PLATEAU 17     DIAMETRE 160_1.obj with ASSIMP\n",
      "[Open3D WARNING] Unable to load file D:/Data/2023-03 Elia Substation/BLOCKS/PLATEAU 17     DIAMETRE 160_2.obj with ASSIMP\n",
      "[Open3D INFO] Skipping non-triangle primitive geometry of type: 1\n",
      "[Open3D INFO] Skipping non-triangle primitive geometry of type: 1\n",
      "[Open3D INFO] Skipping non-triangle primitive geometry of type: 1\n",
      "[Open3D WARNING] Unable to load file D:/Data/2023-03 Elia Substation/BLOCKS/RAC004.obj with ASSIMP\n",
      "[Open3D WARNING] Unable to load file D:/Data/2023-03 Elia Substation/BLOCKS/RAC010.obj with ASSIMP\n",
      "[Open3D WARNING] Unable to load file D:/Data/2023-03 Elia Substation/BLOCKS/RAC010_1.obj with ASSIMP\n",
      "[Open3D INFO] Skipping non-triangle primitive geometry of type: 1\n",
      "[Open3D WARNING] Unable to load file D:/Data/2023-03 Elia Substation/BLOCKS/RAC025.obj with ASSIMP\n",
      "[Open3D WARNING] Unable to load file D:/Data/2023-03 Elia Substation/BLOCKS/RAC025_1.obj with ASSIMP\n",
      "[Open3D INFO] Skipping non-triangle primitive geometry of type: 1\n",
      "[Open3D INFO] Skipping non-triangle primitive geometry of type: 1\n",
      "[Open3D WARNING] Unable to load file D:/Data/2023-03 Elia Substation/BLOCKS/RAC034.obj with ASSIMP\n",
      "[Open3D WARNING] Unable to load file D:/Data/2023-03 Elia Substation/BLOCKS/RAC043.obj with ASSIMP\n",
      "[Open3D WARNING] Unable to load file D:/Data/2023-03 Elia Substation/BLOCKS/RAC043_1.obj with ASSIMP\n",
      "[Open3D WARNING] Unable to load file D:/Data/2023-03 Elia Substation/BLOCKS/RAC043_2.obj with ASSIMP\n",
      "[Open3D WARNING] Unable to load file D:/Data/2023-03 Elia Substation/BLOCKS/RAC043_3.obj with ASSIMP\n",
      "[Open3D WARNING] Unable to load file D:/Data/2023-03 Elia Substation/BLOCKS/RAC043_4.obj with ASSIMP\n",
      "[Open3D WARNING] Unable to load file D:/Data/2023-03 Elia Substation/BLOCKS/RAC043_5.obj with ASSIMP\n",
      "[Open3D WARNING] Unable to load file D:/Data/2023-03 Elia Substation/BLOCKS/RAC043_6.obj with ASSIMP\n",
      "[Open3D WARNING] Unable to load file D:/Data/2023-03 Elia Substation/BLOCKS/RAC050.obj with ASSIMP\n",
      "[Open3D WARNING] Unable to load file D:/Data/2023-03 Elia Substation/BLOCKS/RAC050_1.obj with ASSIMP\n",
      "[Open3D WARNING] Unable to load file D:/Data/2023-03 Elia Substation/BLOCKS/RAC051.obj with ASSIMP\n",
      "[Open3D INFO] Skipping non-triangle primitive geometry of type: 1\n",
      "[Open3D INFO] Skipping non-triangle primitive geometry of type: 1\n",
      "[Open3D INFO] Skipping non-triangle primitive geometry of type: 1\n",
      "[Open3D INFO] Skipping non-triangle primitive geometry of type: 1\n",
      "[Open3D INFO] Skipping non-triangle primitive geometry of type: 1\n",
      "[Open3D WARNING] Unable to load file D:/Data/2023-03 Elia Substation/BLOCKS/RAC093.obj with ASSIMP\n",
      "[Open3D WARNING] Unable to load file D:/Data/2023-03 Elia Substation/BLOCKS/RAC093_1.obj with ASSIMP\n",
      "[Open3D WARNING] Unable to load file D:/Data/2023-03 Elia Substation/BLOCKS/RAC093_2.obj with ASSIMP\n",
      "[Open3D INFO] Skipping non-triangle primitive geometry of type: 1\n",
      "[Open3D INFO] Skipping non-triangle primitive geometry of type: 1\n",
      "[Open3D WARNING] Unable to load file D:/Data/2023-03 Elia Substation/BLOCKS/RAC193.obj with ASSIMP\n",
      "[Open3D WARNING] Unable to load file D:/Data/2023-03 Elia Substation/BLOCKS/SECT4.obj with ASSIMP\n",
      "[Open3D WARNING] Unable to load file D:/Data/2023-03 Elia Substation/BLOCKS/SECT41.obj with ASSIMP\n",
      "[Open3D WARNING] Unable to load file D:/Data/2023-03 Elia Substation/BLOCKS/SECT42.obj with ASSIMP\n",
      "[Open3D WARNING] Unable to load file D:/Data/2023-03 Elia Substation/BLOCKS/SIE 3EQ4 147-2PL31-4DB1.obj with ASSIMP\n",
      "[Open3D WARNING] Unable to load file D:/Data/2023-03 Elia Substation/BLOCKS/SIE 3EQ4 147-2PL31-4DB1_1.obj with ASSIMP\n",
      "[Open3D WARNING] Unable to load file D:/Data/2023-03 Elia Substation/BLOCKS/SIE 3EQ4 147-2PL31-4DB1_2.obj with ASSIMP\n",
      "[Open3D WARNING] Unable to load file D:/Data/2023-03 Elia Substation/BLOCKS/SUPPORT ARE STA 170kV 40kA Cde mono.obj with ASSIMP\n",
      "[Open3D WARNING] Unable to load file D:/Data/2023-03 Elia Substation/BLOCKS/SUPPORT ARE STA 170kV 40kA Cde mono_1.obj with ASSIMP\n",
      "[Open3D WARNING] Unable to load file D:/Data/2023-03 Elia Substation/BLOCKS/SUPPORT ARE STA 170kV 40kA Cde mono_2.obj with ASSIMP\n",
      "[Open3D WARNING] Unable to load file D:/Data/2023-03 Elia Substation/BLOCKS/TerminatorOpen_0.5.obj with ASSIMP\n",
      "[Open3D INFO] Skipping non-triangle primitive geometry of type: 1\n",
      "[Open3D WARNING] Unable to load file D:/Data/2023-03 Elia Substation/BLOCKS/TI01.obj with ASSIMP\n",
      "[Open3D WARNING] Unable to load file D:/Data/2023-03 Elia Substation/BLOCKS/TI01_1.obj with ASSIMP\n",
      "[Open3D WARNING] Unable to load file D:/Data/2023-03 Elia Substation/BLOCKS/TI02.obj with ASSIMP\n",
      "[Open3D WARNING] Unable to load file D:/Data/2023-03 Elia Substation/BLOCKS/TP01.obj with ASSIMP\n",
      "[Open3D WARNING] Unable to load file D:/Data/2023-03 Elia Substation/BLOCKS/TP01_1.obj with ASSIMP\n",
      "{'ARE STA170kV 40kA Cde tri manuelle': [TriangleMesh with 0 points and 0 triangles.], 'ART CA170 B1-B4-B5-B6': [TriangleMesh with 69571 points and 113536 triangles.], 'ART CA170 B1-B4-B5-B6_1': [TriangleMesh with 69483 points and 113360 triangles.], 'ART CA170 B1-B4-B5-B6_2': [TriangleMesh with 69189 points and 112772 triangles.], 'ART UTE 170': [TriangleMesh with 0 points and 0 triangles.], 'ART UTE 170_1': [TriangleMesh with 0 points and 0 triangles.], 'ART UTE 170_2': [TriangleMesh with 0 points and 0 triangles.], 'BC01': [TriangleMesh with 2407 points and 4778 triangles.], 'BOUCHON 1': [TriangleMesh with 4491 points and 8978 triangles.], 'BOUCHON 2': [TriangleMesh with 0 points and 0 triangles.], 'BOUCHON 2_1': [TriangleMesh with 0 points and 0 triangles.], 'CAPTEUR MALT 6': [TriangleMesh with 453 points and 894 triangles.], 'CAPTEUR MALT 6_1': [TriangleMesh with 453 points and 894 triangles.], 'CAPTEUR MALT 8': [TriangleMesh with 424 points and 836 triangles.], 'CHAIN4': [TriangleMesh with 28126 points and 52200 triangles.], 'CHAIN4_1': [TriangleMesh with 26044 points and 48472 triangles.], 'CHAIN4_2': [TriangleMesh with 32972 points and 62985 triangles.], 'DILATATION 3': [TriangleMesh with 19924 points and 96384 triangles.], 'DILATATION 5': [TriangleMesh with 7266 points and 13936 triangles.], 'From Solid': [TriangleMesh with 0 points and 0 triangles.], 'GADE CORPS': [TriangleMesh with 2780 points and 5532 triangles.], 'GADE CORPS_1': [TriangleMesh with 2792 points and 5556 triangles.], 'HE300A': [TriangleMesh with 0 points and 0 triangles.], 'HEB220': [TriangleMesh with 0 points and 0 triangles.], 'ISO C12': [TriangleMesh with 19951 points and 39356 triangles.], 'ISO C16 750 III Posé (3D)': [TriangleMesh with 18826 points and 20996 triangles.], 'ISO C16 750 III Posé (3D)_1': [TriangleMesh with 18826 points and 20996 triangles.], 'ISO02': [TriangleMesh with 19427 points and 21558 triangles.], 'ISO06': [TriangleMesh with 5024 points and 9992 triangles.], 'ISO5': [TriangleMesh with 18566 points and 20476 triangles.], 'MALT PIECE W 1 BOULE': [TriangleMesh with 2391 points and 4632 triangles.], 'MALT PIECE W': [TriangleMesh with 1901 points and 3830 triangles.], 'MALT02': [TriangleMesh with 5661 points and 10562 triangles.], 'PAR05': [TriangleMesh with 0 points and 0 triangles.], 'PAU TFO PN 30kV 2000A-5sec': [TriangleMesh with 0 points and 0 triangles.], 'PLATEAU 17     DIAMETRE 160': [TriangleMesh with 0 points and 0 triangles.], 'PLATEAU 17     DIAMETRE 160_1': [TriangleMesh with 0 points and 0 triangles.], 'PLATEAU 17     DIAMETRE 160_2': [TriangleMesh with 0 points and 0 triangles.], 'PLAT_D': [TriangleMesh with 796 points and 1572 triangles.], 'POINT': [TriangleMesh with 17 points and 24 triangles.], 'POINTE DIAMANT 800': [TriangleMesh with 13 points and 22 triangles.], 'POINTE DIAMANT 800_1': [TriangleMesh with 13 points and 22 triangles.], 'PORTE 1': [TriangleMesh with 1102 points and 2184 triangles.], 'PORTE+IMPOSTE': [TriangleMesh with 8 points and 4 triangles.], 'PORTE+IMPOSTE_1': [TriangleMesh with 8 points and 4 triangles.], 'PORTE+IMPOSTE_2': [TriangleMesh with 8 points and 4 triangles.], 'PORTIQUE JEU DE BARRES (2010)': [TriangleMesh with 56927 points and 118514 triangles.], 'PORTIQUE JEU DE BARRES (2010)_1': [TriangleMesh with 57157 points and 120094 triangles.], 'PORTIQUE JEU DE BARRES (2010)_2': [TriangleMesh with 56802 points and 118596 triangles.], 'RAC DROIT 4': [TriangleMesh with 2619 points and 5142 triangles.], 'RAC T 2': [TriangleMesh with 6088 points and 22967 triangles.], 'RAC T 36': [TriangleMesh with 1695 points and 3133 triangles.], 'RAC T 36_1': [TriangleMesh with 1697 points and 3137 triangles.], 'RAC001': [TriangleMesh with 12848 points and 82910 triangles.], 'RAC004': [TriangleMesh with 0 points and 0 triangles.], 'RAC010': [TriangleMesh with 0 points and 0 triangles.], 'RAC010_1': [TriangleMesh with 0 points and 0 triangles.], 'RAC022': [TriangleMesh with 785 points and 1504 triangles.], 'RAC025': [TriangleMesh with 0 points and 0 triangles.], 'RAC025_1': [TriangleMesh with 0 points and 0 triangles.], 'RAC03': [TriangleMesh with 298 points and 588 triangles.], 'RAC031': [TriangleMesh with 1385 points and 2700 triangles.], 'RAC031_1': [TriangleMesh with 3517 points and 6964 triangles.], 'RAC034': [TriangleMesh with 0 points and 0 triangles.], 'RAC03_1': [TriangleMesh with 294 points and 580 triangles.], 'RAC043': [TriangleMesh with 0 points and 0 triangles.], 'RAC043_1': [TriangleMesh with 0 points and 0 triangles.], 'RAC043_2': [TriangleMesh with 0 points and 0 triangles.], 'RAC043_3': [TriangleMesh with 0 points and 0 triangles.], 'RAC043_4': [TriangleMesh with 0 points and 0 triangles.], 'RAC043_5': [TriangleMesh with 0 points and 0 triangles.], 'RAC043_6': [TriangleMesh with 0 points and 0 triangles.], 'RAC050': [TriangleMesh with 0 points and 0 triangles.], 'RAC050_1': [TriangleMesh with 0 points and 0 triangles.], 'RAC051': [TriangleMesh with 0 points and 0 triangles.], 'RAC057': [TriangleMesh with 695 points and 1378 triangles.], 'RAC057_1': [TriangleMesh with 740 points and 1468 triangles.], 'RAC058': [TriangleMesh with 614 points and 1216 triangles.], 'RAC089': [TriangleMesh with 1411 points and 2752 triangles.], 'RAC090': [TriangleMesh with 1859 points and 3699 triangles.], 'RAC091': [TriangleMesh with 598 points and 1184 triangles.], 'RAC093': [TriangleMesh with 0 points and 0 triangles.], 'RAC093_1': [TriangleMesh with 0 points and 0 triangles.], 'RAC093_2': [TriangleMesh with 0 points and 0 triangles.], 'RAC094': [TriangleMesh with 34921 points and 69772 triangles.], 'RAC094_1': [TriangleMesh with 34856 points and 69642 triangles.], 'RAC160': [TriangleMesh with 2333 points and 4634 triangles.], 'RAC160_1': [TriangleMesh with 1921 points and 3678 triangles.], 'RAC160_2': [TriangleMesh with 1948 points and 3718 triangles.], 'RAC193': [TriangleMesh with 0 points and 0 triangles.], 'RAC_DR': [TriangleMesh with 3078 points and 6086 triangles.], 'RAC_DR_1': [TriangleMesh with 3074 points and 6078 triangles.], 'RAYC01': [TriangleMesh with 2842 points and 5578 triangles.], 'RAYC01_1': [TriangleMesh with 2922 points and 5738 triangles.], 'SECT4': [TriangleMesh with 0 points and 0 triangles.], 'SECT41': [TriangleMesh with 0 points and 0 triangles.], 'SECT42': [TriangleMesh with 0 points and 0 triangles.], 'SIE 3EQ4 147-2PL31-4DB1': [TriangleMesh with 0 points and 0 triangles.], 'SIE 3EQ4 147-2PL31-4DB1_1': [TriangleMesh with 0 points and 0 triangles.], 'SIE 3EQ4 147-2PL31-4DB1_2': [TriangleMesh with 0 points and 0 triangles.], 'SOUL01': [TriangleMesh with 525 points and 976 triangles.], 'SOUL01_1': [TriangleMesh with 545 points and 1016 triangles.], 'SUPPORT (Ht 2500) TP UTE170': [TriangleMesh with 6837 points and 13682 triangles.], 'SUPPORT (Ht 2500) TP UTE170_1': [TriangleMesh with 6898 points and 13900 triangles.], 'SUPPORT (Ht 2500) TP UTE170_2': [TriangleMesh with 6876 points and 13868 triangles.], 'SUPPORT (Ht 2500) TP UTE170_3': [TriangleMesh with 6770 points and 13550 triangles.], 'SUPPORT ARE STA 170kV 40kA Cde mono': [TriangleMesh with 0 points and 0 triangles.], 'SUPPORT ARE STA 170kV 40kA Cde mono_1': [TriangleMesh with 0 points and 0 triangles.], 'SUPPORT ARE STA 170kV 40kA Cde mono_2': [TriangleMesh with 0 points and 0 triangles.], 'TerminatorOpen_0': [TriangleMesh with 0 points and 0 triangles.], 'TEST4': [TriangleMesh with 1566 points and 2964 triangles.], 'TI01': [TriangleMesh with 0 points and 0 triangles.], 'TI01_1': [TriangleMesh with 0 points and 0 triangles.], 'TI02': [TriangleMesh with 0 points and 0 triangles.], 'TI03': [TriangleMesh with 3728 points and 7220 triangles.], 'TP01': [TriangleMesh with 0 points and 0 triangles.], 'TP01_1': [TriangleMesh with 0 points and 0 triangles.], 'valbeveiliging': [TriangleMesh with 1593 points and 3182 triangles.], 'valbeveiliging_1': [TriangleMesh with 1619 points and 3234 triangles.]}\n"
     ]
    }
   ],
   "source": [
    "import glob, os\n",
    "\n",
    "# 0. get block definitions\n",
    "\n",
    "# get all blocks_refs\n",
    "block_refs=list(msp.query(\"INSERT\"))\n",
    "\n",
    "\n",
    "# select unique blocks that occur in block_refs and do have an internal *\n",
    "block_refs=[b for b in block_refs if b.dxf.name[0] != \"*\"]\n",
    "names,indices=np.unique(np.array([b.dxf.name for b in block_refs]),return_index=True)\n",
    "print(names)\n",
    "\n",
    "#get exterior blocks if exists\n",
    "open3d_blocks={}\n",
    "if os.path.exists(blocks_dir):\n",
    "    files=ut.get_list_of_files(blocks_dir)\n",
    "    for f in files:\n",
    "        open3d_blocks[ut.get_filename(f)]=ut.item_to_list(o3d.io.read_triangle_mesh(f))\n",
    "\n",
    "\n",
    "# convert block geometries to open3d geometries\n",
    "for block_ref in np.array(block_refs)[indices[0:1]]:  \n",
    "    #get geometries from seperate folder\n",
    "    if block_ref.dxf.name in list(open3d_blocks.keys()):\n",
    "        continue\n",
    "    else:\n",
    "    # else get geometries directly from dxf (this is imperfect)\n",
    "        geometries,_=cadu.ezdxf_entities_to_o3d([e for e in block_ref.virtual_entities()])\n",
    "        open3d_blocks[block_ref.dxf.name]=ut.item_to_list(geometries)\n",
    "        # print(block_ref.dxf.name)\n",
    "        # print(entities)\n",
    "    \n",
    " \n",
    "print(open3d_blocks)          "
   ]
  },
  {
   "cell_type": "code",
   "execution_count": null,
   "metadata": {},
   "outputs": [
    {
     "name": "stdout",
     "output_type": "stream",
     "text": [
      "ART CA170 B1-B4-B5-B6\n",
      "[LineSet with 35 lines., LineSet with 35 lines., LineSet with 35 lines., LineSet with 35 lines., LineSet with 35 lines., LineSet with 35 lines., LineSet with 35 lines., LineSet with 35 lines., LineSet with 35 lines., LineSet with 35 lines., LineSet with 35 lines., LineSet with 35 lines., LineSet with 35 lines., LineSet with 35 lines., LineSet with 35 lines., LineSet with 35 lines., LineSet with 35 lines., LineSet with 35 lines., LineSet with 35 lines., LineSet with 35 lines., LineSet with 35 lines., LineSet with 35 lines., LineSet with 35 lines., LineSet with 35 lines., LineSet with 35 lines., LineSet with 35 lines., LineSet with 35 lines., LineSet with 35 lines., LineSet with 35 lines., LineSet with 35 lines., LineSet with 35 lines., LineSet with 35 lines., LineSet with 35 lines., LineSet with 35 lines., LineSet with 35 lines., LineSet with 35 lines., LineSet with 35 lines., LineSet with 35 lines., LineSet with 35 lines., LineSet with 35 lines., LineSet with 35 lines., LineSet with 35 lines., LineSet with 35 lines., LineSet with 35 lines., LineSet with 35 lines., LineSet with 35 lines., LineSet with 35 lines., LineSet with 35 lines., LineSet with 35 lines., LineSet with 35 lines., LineSet with 35 lines., LineSet with 35 lines., LineSet with 35 lines., LineSet with 35 lines., LineSet with 35 lines., LineSet with 35 lines., LineSet with 35 lines., LineSet with 35 lines., LineSet with 35 lines., LineSet with 35 lines., LineSet with 35 lines., LineSet with 35 lines., LineSet with 35 lines., LineSet with 35 lines., LineSet with 35 lines., LineSet with 35 lines., LineSet with 35 lines., LineSet with 35 lines., LineSet with 35 lines., LineSet with 35 lines., LineSet with 35 lines., LineSet with 35 lines., LineSet with 35 lines., LineSet with 35 lines., LineSet with 35 lines., LineSet with 35 lines., LineSet with 35 lines., LineSet with 35 lines., LineSet with 35 lines., LineSet with 35 lines., LineSet with 35 lines., LineSet with 35 lines., LineSet with 35 lines., LineSet with 35 lines., LineSet with 35 lines., LineSet with 35 lines., LineSet with 35 lines., LineSet with 35 lines., LineSet with 35 lines., LineSet with 35 lines., LineSet with 35 lines., LineSet with 35 lines., LineSet with 35 lines., LineSet with 35 lines., LineSet with 35 lines., LineSet with 35 lines., LineSet with 35 lines., LineSet with 35 lines., LineSet with 35 lines., LineSet with 35 lines., LineSet with 35 lines., LineSet with 35 lines., LineSet with 35 lines., LineSet with 35 lines., LineSet with 35 lines., LineSet with 35 lines., LineSet with 35 lines., LineSet with 35 lines., LineSet with 35 lines., LineSet with 35 lines., LineSet with 35 lines., LineSet with 35 lines., LineSet with 35 lines., LineSet with 35 lines., LineSet with 35 lines., LineSet with 35 lines., LineSet with 35 lines., LineSet with 35 lines., LineSet with 35 lines., LineSet with 35 lines., LineSet with 35 lines., LineSet with 35 lines., LineSet with 35 lines., LineSet with 35 lines., LineSet with 35 lines., LineSet with 35 lines., LineSet with 35 lines., LineSet with 35 lines., LineSet with 35 lines., LineSet with 35 lines., LineSet with 35 lines., LineSet with 35 lines., LineSet with 35 lines., LineSet with 35 lines., LineSet with 35 lines., LineSet with 35 lines., LineSet with 35 lines., LineSet with 35 lines., LineSet with 35 lines., LineSet with 35 lines., LineSet with 35 lines., LineSet with 35 lines., LineSet with 35 lines., LineSet with 35 lines., LineSet with 35 lines., LineSet with 35 lines., LineSet with 35 lines., LineSet with 35 lines., LineSet with 35 lines., LineSet with 35 lines., LineSet with 35 lines., LineSet with 35 lines., LineSet with 35 lines., LineSet with 35 lines., LineSet with 35 lines., LineSet with 35 lines., LineSet with 35 lines., LineSet with 35 lines., LineSet with 35 lines., LineSet with 35 lines., LineSet with 35 lines., LineSet with 35 lines., LineSet with 35 lines., LineSet with 35 lines., LineSet with 35 lines., LineSet with 35 lines., LineSet with 35 lines., LineSet with 35 lines., LineSet with 35 lines., LineSet with 35 lines., LineSet with 35 lines., LineSet with 35 lines., LineSet with 35 lines., LineSet with 35 lines., LineSet with 35 lines., LineSet with 35 lines., LineSet with 35 lines., LineSet with 35 lines., LineSet with 35 lines., LineSet with 35 lines., LineSet with 35 lines., LineSet with 35 lines., LineSet with 35 lines., LineSet with 35 lines., LineSet with 35 lines., LineSet with 35 lines., LineSet with 35 lines., LineSet with 35 lines., LineSet with 35 lines., LineSet with 35 lines., LineSet with 35 lines., LineSet with 35 lines., LineSet with 35 lines., LineSet with 35 lines., LineSet with 35 lines., LineSet with 35 lines., LineSet with 35 lines., LineSet with 35 lines., LineSet with 35 lines., LineSet with 35 lines., LineSet with 35 lines., LineSet with 35 lines., LineSet with 35 lines., LineSet with 35 lines., LineSet with 35 lines., LineSet with 35 lines., LineSet with 35 lines., LineSet with 35 lines., LineSet with 35 lines., LineSet with 35 lines., LineSet with 35 lines., LineSet with 35 lines., LineSet with 35 lines., LineSet with 35 lines., LineSet with 35 lines., LineSet with 35 lines., LineSet with 35 lines., LineSet with 35 lines., LineSet with 35 lines., LineSet with 35 lines., LineSet with 35 lines., LineSet with 35 lines., LineSet with 35 lines., LineSet with 35 lines., LineSet with 35 lines., LineSet with 35 lines., LineSet with 35 lines., LineSet with 35 lines., LineSet with 35 lines., LineSet with 35 lines., LineSet with 35 lines., LineSet with 35 lines., LineSet with 35 lines., LineSet with 35 lines., LineSet with 35 lines., LineSet with 35 lines., LineSet with 35 lines., LineSet with 35 lines., LineSet with 35 lines., LineSet with 35 lines., LineSet with 35 lines., LineSet with 35 lines., LineSet with 35 lines., LineSet with 35 lines., LineSet with 35 lines., LineSet with 35 lines., LineSet with 35 lines., LineSet with 35 lines., LineSet with 35 lines., LineSet with 35 lines., LineSet with 35 lines., LineSet with 35 lines., LineSet with 35 lines., LineSet with 35 lines., LineSet with 35 lines., LineSet with 35 lines., LineSet with 35 lines., LineSet with 35 lines., LineSet with 35 lines., LineSet with 35 lines., LineSet with 35 lines., LineSet with 35 lines., LineSet with 35 lines., LineSet with 35 lines., LineSet with 35 lines., LineSet with 35 lines., LineSet with 35 lines., LineSet with 35 lines., LineSet with 35 lines., LineSet with 35 lines., LineSet with 35 lines., LineSet with 35 lines., LineSet with 35 lines., LineSet with 35 lines., LineSet with 35 lines., LineSet with 35 lines., LineSet with 35 lines., LineSet with 35 lines., LineSet with 35 lines., LineSet with 35 lines., LineSet with 35 lines., LineSet with 35 lines., LineSet with 35 lines., LineSet with 35 lines., LineSet with 35 lines., LineSet with 35 lines., LineSet with 35 lines., LineSet with 35 lines., LineSet with 35 lines., LineSet with 35 lines., LineSet with 35 lines., LineSet with 35 lines., LineSet with 35 lines., LineSet with 35 lines., LineSet with 35 lines., LineSet with 35 lines., LineSet with 35 lines., LineSet with 35 lines., array([1.22749989e+05, 1.99655912e+05, 7.62037900e+00]), LineSet with 1 lines., LineSet with 1 lines., LineSet with 9 lines., LineSet with 1 lines., TriangleMesh with 24 points and 12 triangles., TriangleMesh with 24 points and 12 triangles., LineSet with 9 lines., TriangleMesh with 24 points and 12 triangles., LineSet with 9 lines., LineSet with 35 lines., LineSet with 35 lines., LineSet with 35 lines., LineSet with 35 lines., LineSet with 35 lines., LineSet with 35 lines., LineSet with 35 lines., LineSet with 35 lines., LineSet with 35 lines., LineSet with 35 lines., LineSet with 35 lines., LineSet with 35 lines., LineSet with 35 lines., LineSet with 35 lines., LineSet with 35 lines., LineSet with 35 lines., LineSet with 35 lines., TriangleMesh with 24 points and 12 triangles., LineSet with 1 lines., LineSet with 9 lines., LineSet with 1 lines., LineSet with 1 lines., LineSet with 1 lines., LineSet with 9 lines., LineSet with 1 lines., LineSet with 1 lines., LineSet with 1 lines., LineSet with 9 lines., LineSet with 1 lines., LineSet with 1 lines., LineSet with 1 lines., LineSet with 9 lines., LineSet with 1 lines., LineSet with 1 lines., LineSet with 1 lines., LineSet with 9 lines., LineSet with 1 lines., LineSet with 1 lines., LineSet with 9 lines., LineSet with 9 lines., LineSet with 9 lines., LineSet with 9 lines., LineSet with 1 lines., LineSet with 9 lines., LineSet with 1 lines., LineSet with 1 lines., LineSet with 1 lines., LineSet with 9 lines., LineSet with 1 lines., LineSet with 1 lines., LineSet with 1 lines., LineSet with 9 lines., LineSet with 1 lines., LineSet with 1 lines., LineSet with 1 lines., LineSet with 9 lines., LineSet with 1 lines., LineSet with 1 lines., LineSet with 9 lines., LineSet with 9 lines., LineSet with 9 lines., LineSet with 9 lines., TriangleMesh with 24 points and 12 triangles., TriangleMesh with 18 points and 8 triangles., LineSet with 1 lines., LineSet with 1 lines., LineSet with 9 lines., LineSet with 1 lines., LineSet with 1 lines., LineSet with 1 lines., LineSet with 9 lines., LineSet with 1 lines., LineSet with 1 lines., LineSet with 1 lines., LineSet with 9 lines., LineSet with 1 lines., LineSet with 1 lines., LineSet with 1 lines., LineSet with 9 lines., LineSet with 1 lines., LineSet with 1 lines., LineSet with 9 lines., LineSet with 9 lines., LineSet with 9 lines., LineSet with 9 lines., LineSet with 1 lines., LineSet with 9 lines., LineSet with 1 lines., LineSet with 1 lines., LineSet with 1 lines., LineSet with 9 lines., LineSet with 1 lines., LineSet with 1 lines., LineSet with 1 lines., LineSet with 9 lines., LineSet with 1 lines., LineSet with 1 lines., LineSet with 1 lines., LineSet with 9 lines., LineSet with 1 lines., LineSet with 1 lines., LineSet with 9 lines., LineSet with 9 lines., LineSet with 9 lines., LineSet with 9 lines., LineSet with 1 lines., LineSet with 9 lines., LineSet with 1 lines., LineSet with 1 lines., LineSet with 1 lines., LineSet with 9 lines., LineSet with 1 lines., LineSet with 1 lines., LineSet with 1 lines., LineSet with 9 lines., LineSet with 1 lines., LineSet with 1 lines., LineSet with 1 lines., LineSet with 9 lines., LineSet with 1 lines., LineSet with 1 lines., LineSet with 9 lines., LineSet with 9 lines., LineSet with 9 lines., LineSet with 9 lines., TriangleMesh with 24 points and 12 triangles., TriangleMesh with 18 points and 8 triangles., LineSet with 1 lines., LineSet with 1 lines., LineSet with 9 lines., LineSet with 1 lines., LineSet with 1 lines., LineSet with 1 lines., LineSet with 9 lines., LineSet with 1 lines., LineSet with 1 lines., LineSet with 1 lines., LineSet with 9 lines., LineSet with 1 lines., LineSet with 1 lines., LineSet with 1 lines., LineSet with 9 lines., LineSet with 1 lines., LineSet with 1 lines., LineSet with 9 lines., LineSet with 9 lines., LineSet with 9 lines., LineSet with 9 lines., LineSet with 1 lines., LineSet with 9 lines., LineSet with 1 lines., LineSet with 1 lines., LineSet with 1 lines., LineSet with 9 lines., LineSet with 1 lines., LineSet with 1 lines., LineSet with 1 lines., LineSet with 9 lines., LineSet with 1 lines., LineSet with 1 lines., LineSet with 1 lines., LineSet with 9 lines., LineSet with 1 lines., LineSet with 1 lines., LineSet with 9 lines., LineSet with 9 lines., LineSet with 9 lines., LineSet with 9 lines., LineSet with 1 lines., LineSet with 9 lines., LineSet with 1 lines., LineSet with 1 lines., LineSet with 1 lines., LineSet with 9 lines., LineSet with 1 lines., LineSet with 1 lines., LineSet with 1 lines., LineSet with 9 lines., LineSet with 1 lines., LineSet with 1 lines., LineSet with 1 lines., LineSet with 9 lines., LineSet with 1 lines., LineSet with 1 lines., LineSet with 9 lines., LineSet with 9 lines., LineSet with 9 lines., LineSet with 9 lines., TriangleMesh with 24 points and 12 triangles., TriangleMesh with 18 points and 8 triangles., LineSet with 1 lines., LineSet with 1 lines., LineSet with 9 lines., LineSet with 1 lines., LineSet with 1 lines., LineSet with 1 lines., LineSet with 9 lines., LineSet with 1 lines., LineSet with 1 lines., LineSet with 1 lines., LineSet with 9 lines., LineSet with 1 lines., LineSet with 1 lines., LineSet with 1 lines., LineSet with 9 lines., LineSet with 1 lines., LineSet with 1 lines., LineSet with 9 lines., LineSet with 9 lines., LineSet with 9 lines., LineSet with 9 lines.]\n",
      "[Open3D WARNING] GLFW Error: WGL: Failed to make context current: The requested transformation operation is not supported. \n"
     ]
    }
   ],
   "source": [
    "n=1\n",
    "show=open3d_blocks.get('ARE STA170kV 40kA Cde tri manuelle')\n",
    "print(names[n])\n",
    "print(show)\n",
    "\n",
    "geo=[s for s in show if type(s)==o3d.geometry.LineSet or type(s)==o3d.geometry.TriangleMesh]\n",
    "o3d.visualization.draw_geometries(geo)  "
   ]
  },
  {
   "cell_type": "code",
   "execution_count": null,
   "metadata": {},
   "outputs": [],
   "source": [
    "from scipy.spatial.transform import Rotation as R         \n",
    "# fetch and place blocks in correct places\n",
    "for block_ref in block_refs:\n",
    "    if block_ref.dxf.name in list(open3d_blocks.keys()):\n",
    "        #get geometry\n",
    "        geometries=open3d_blocks['block_ref.dxf.name'].value() \n",
    "        #get cartesian transform\n",
    "        translation=block_ref.dxf.insert\n",
    "        r = R.from_euler('z', block_ref.dxf.rotation, degrees=True) #degrees\n",
    "        rotation=r.as_matrix()\n",
    "        scale=block.dxf.scale\n",
    "        transform=gmu.get_cartesian_transform(rotation=rotation,\n",
    "                                    translation=translation,\n",
    "                                    scale=scale)\n",
    "        #transform geometry\n",
    "        geometries=gmu.transform_geometries(geometries,transform) #more general transform function \n",
    "        geometry_groups.append(geometries)"
   ]
  },
  {
   "cell_type": "code",
   "execution_count": null,
   "metadata": {},
   "outputs": [
    {
     "name": "stdout",
     "output_type": "stream",
     "text": [
      "blocks : 1074\n",
      "lines : 24051\n",
      "([LineSet with 1 lines., LineSet with 1 lines., LineSet with 1 lines.], ['0', '0', '0'])\n",
      "arcs : 423\n",
      "([LineSet with 9 lines., LineSet with 9 lines., LineSet with 9 lines.], ['Level 4', 'Level 1', 'Level 12'])\n",
      "points : 139\n",
      "(array([[1.22772566e+05, 1.99649039e+05, 5.01728683e+00],\n",
      "       [1.22735858e+05, 1.99650773e+05, 9.79696529e+00],\n",
      "       [1.22708818e+05, 1.99666051e+05, 5.03729683e+00]]), ['POINT ACCROCHAGE', 'RACCORDS', '0'])\n",
      "circle : 366\n",
      "([LineSet with 35 lines., LineSet with 35 lines., LineSet with 35 lines.], ['Level 7', 'Level 7', 'Level 7'])\n",
      "spline : 178\n",
      "([LineSet with 3 lines., LineSet with 3 lines., LineSet with 3 lines.], ['CABLE_NAKED_14', 'CABLE_NAKED_14', 'CABLE_NAKED_14'])\n",
      "polyline : 1611\n",
      "([TriangleMesh with 24 points and 12 triangles., TriangleMesh with 48 points and 20 triangles., TriangleMesh with 48 points and 20 triangles.], ['FONDATION', 'STRUCTURE', 'STRUCTURE'])\n",
      "elipse : 28\n",
      "([LineSet with 9 lines., LineSet with 9 lines., LineSet with 9 lines.], ['FLANGE_16', 'FLANGE_16', 'FLANGE_16'])\n",
      "solids : 360\n",
      "([TriangleMesh with 4 points and 2 triangles., TriangleMesh with 4 points and 2 triangles., TriangleMesh with 4 points and 2 triangles.], ['FONDATION', 'FONDATION', 'Level 14'])\n",
      "solids : 1873\n"
     ]
    },
    {
     "ename": "DXFAttributeError",
     "evalue": "Invalid DXF attribute \"vtx0\" for entity 3DSOLID",
     "output_type": "error",
     "traceback": [
      "\u001b[1;31m---------------------------------------------------------------------------\u001b[0m",
      "\u001b[1;31mDXFAttributeError\u001b[0m                         Traceback (most recent call last)",
      "\u001b[1;32m~\\AppData\\Local\\Temp/ipykernel_4556/1203136848.py\u001b[0m in \u001b[0;36m<module>\u001b[1;34m\u001b[0m\n\u001b[0;32m     33\u001b[0m \u001b[1;33m\u001b[0m\u001b[0m\n\u001b[0;32m     34\u001b[0m \u001b[0mprint\u001b[0m\u001b[1;33m(\u001b[0m\u001b[1;34mf'solids : {len(msp.query(\"3DSOLID\"))}'\u001b[0m\u001b[1;33m)\u001b[0m\u001b[1;33m\u001b[0m\u001b[1;33m\u001b[0m\u001b[0m\n\u001b[1;32m---> 35\u001b[1;33m \u001b[0mprint\u001b[0m\u001b[1;33m(\u001b[0m\u001b[0mcadu\u001b[0m\u001b[1;33m.\u001b[0m\u001b[0msolids_to_o3d\u001b[0m\u001b[1;33m(\u001b[0m\u001b[0mmsp\u001b[0m\u001b[1;33m.\u001b[0m\u001b[0mquery\u001b[0m\u001b[1;33m(\u001b[0m\u001b[1;34m\"3DSOLID\"\u001b[0m\u001b[1;33m)\u001b[0m\u001b[1;33m[\u001b[0m\u001b[1;36m0\u001b[0m\u001b[1;33m:\u001b[0m\u001b[1;36m3\u001b[0m\u001b[1;33m]\u001b[0m\u001b[1;33m)\u001b[0m\u001b[1;33m)\u001b[0m\u001b[1;33m\u001b[0m\u001b[1;33m\u001b[0m\u001b[0m\n\u001b[0m",
      "\u001b[1;32md:\\Scan-to-BIM repository\\geomapi\\geomapi\\utils\\cadutils.py\u001b[0m in \u001b[0;36msolids_to_o3d\u001b[1;34m(entities)\u001b[0m\n\u001b[0;32m    462\u001b[0m     \u001b[1;32mfor\u001b[0m \u001b[0mentity\u001b[0m \u001b[1;32min\u001b[0m \u001b[0mentities\u001b[0m\u001b[1;33m:\u001b[0m\u001b[1;33m\u001b[0m\u001b[1;33m\u001b[0m\u001b[0m\n\u001b[0;32m    463\u001b[0m         \u001b[1;31m#get points & faces\u001b[0m\u001b[1;33m\u001b[0m\u001b[1;33m\u001b[0m\u001b[1;33m\u001b[0m\u001b[0m\n\u001b[1;32m--> 464\u001b[1;33m         \u001b[0mp0\u001b[0m\u001b[1;33m=\u001b[0m\u001b[0mentity\u001b[0m\u001b[1;33m.\u001b[0m\u001b[0mdxf\u001b[0m\u001b[1;33m.\u001b[0m\u001b[0mvtx0\u001b[0m\u001b[1;33m\u001b[0m\u001b[1;33m\u001b[0m\u001b[0m\n\u001b[0m\u001b[0;32m    465\u001b[0m         \u001b[0mp1\u001b[0m\u001b[1;33m=\u001b[0m\u001b[0mentity\u001b[0m\u001b[1;33m.\u001b[0m\u001b[0mdxf\u001b[0m\u001b[1;33m.\u001b[0m\u001b[0mvtx1\u001b[0m\u001b[1;33m\u001b[0m\u001b[1;33m\u001b[0m\u001b[0m\n\u001b[0;32m    466\u001b[0m         \u001b[0mp2\u001b[0m\u001b[1;33m=\u001b[0m\u001b[0mentity\u001b[0m\u001b[1;33m.\u001b[0m\u001b[0mdxf\u001b[0m\u001b[1;33m.\u001b[0m\u001b[0mvtx2\u001b[0m\u001b[1;33m\u001b[0m\u001b[1;33m\u001b[0m\u001b[0m\n",
      "\u001b[1;32mc:\\Users\\u0094523\\.conda\\envs\\geomapi3\\lib\\site-packages\\ezdxf\\entities\\dxfns.py\u001b[0m in \u001b[0;36m__getattr__\u001b[1;34m(self, key)\u001b[0m\n\u001b[0;32m    106\u001b[0m                 \u001b[1;32mreturn\u001b[0m \u001b[0mattrib_def\u001b[0m\u001b[1;33m.\u001b[0m\u001b[0mdefault\u001b[0m\u001b[1;33m\u001b[0m\u001b[1;33m\u001b[0m\u001b[0m\n\u001b[0;32m    107\u001b[0m         \u001b[1;32melse\u001b[0m\u001b[1;33m:\u001b[0m\u001b[1;33m\u001b[0m\u001b[1;33m\u001b[0m\u001b[0m\n\u001b[1;32m--> 108\u001b[1;33m             raise const.DXFAttributeError(\n\u001b[0m\u001b[0;32m    109\u001b[0m                 \u001b[0mERR_INVALID_DXF_ATTRIB\u001b[0m\u001b[1;33m.\u001b[0m\u001b[0mformat\u001b[0m\u001b[1;33m(\u001b[0m\u001b[0mkey\u001b[0m\u001b[1;33m,\u001b[0m \u001b[0mself\u001b[0m\u001b[1;33m.\u001b[0m\u001b[0mdxftype\u001b[0m\u001b[1;33m)\u001b[0m\u001b[1;33m\u001b[0m\u001b[1;33m\u001b[0m\u001b[0m\n\u001b[0;32m    110\u001b[0m             )\n",
      "\u001b[1;31mDXFAttributeError\u001b[0m: Invalid DXF attribute \"vtx0\" for entity 3DSOLID"
     ]
    }
   ],
   "source": [
    "print(f'blocks : {len(msp.query(\"INSERT\"))}')\n",
    "# for e in msp.query(\"INSERT\"):\n",
    "#     e.explode()\n",
    "    \n",
    "print(f'lines : {len(msp.query(\"LINE\"))}') # cadu.\n",
    "print(cadu.lines_to_o3d(msp.query(\"LINE\")[0:3]))\n",
    "\n",
    "print(f'arcs : {len(msp.query(\"ARC\"))}')\n",
    "print(cadu.arcs_to_o3d(msp.query(\"ARC\")[0:3]))\n",
    "\n",
    "print(f'points : {len(msp.query(\"POINT\"))}')\n",
    "print(cadu.points_to_o3d(msp.query(\"POINT\")[0:3]))\n",
    "\n",
    "print(f'circle : {len(msp.query(\"CIRCLE\"))}')\n",
    "print(cadu.circles_to_o3d(msp.query(\"CIRCLE\")[0:3]))\n",
    "\n",
    "print(f'spline : {len(msp.query(\"SPLINE\"))}')\n",
    "print(cadu.splines_to_o3d(msp.query(\"SPLINE\")[0:3]))\n",
    "\n",
    "print(f'polyline : {len(msp.query(\"POLYLINE\"))}')\n",
    "print(cadu.polylines_to_o3d(msp.query(\"POLYLINE\")[0:3]))\n",
    "\n",
    "# print(f'mesh : {len(msp.query(\"MESH\"))}')\n",
    "\n",
    "print(f'elipse : {len(msp.query(\"ELLIPSE\"))}')\n",
    "print(cadu.ellipses_to_o3d(msp.query(\"ELLIPSE\")[0:3]))\n",
    "\n",
    "# print(f'hatch : {len(msp.query(\"HATCH\"))}') #! is this necessary\n",
    "# print(cadu.hatches_to_o3d(msp.query(\"HATCH\")[0:3]))\n",
    "\n",
    "print(f'solids : {len(msp.query(\"SOLID or 3DFACE\"))}')\n",
    "print(cadu.solids_to_o3d(msp.query(\"SOLID\")[0:3]))\n",
    "\n",
    "print(f'solids : {len(msp.query(\"3DSOLID\"))}')\n",
    "print(cadu.solids_to_o3d(msp.query(\"3DSOLID\")[0:3]))\n"
   ]
  },
  {
   "attachments": {},
   "cell_type": "markdown",
   "metadata": {},
   "source": [
    "sample geometries"
   ]
  },
  {
   "cell_type": "code",
   "execution_count": null,
   "metadata": {},
   "outputs": [
    {
     "name": "stdout",
     "output_type": "stream",
     "text": [
      "[PointCloud with 40959324 points.]\n"
     ]
    }
   ],
   "source": [
    "sampled_geometries=gmu.sample_geometry(geometries[0][0])\n",
    "print(sampled_geometries)"
   ]
  },
  {
   "cell_type": "code",
   "execution_count": null,
   "metadata": {},
   "outputs": [],
   "source": [
    "testgeometries=[geometries[0][0]]\n",
    "test=[g.paint_uniform_color([1,0,0]) for g in testgeometries]\n",
    "# test=gmu.join_geometries(geometries)\n",
    "o3d.visualization.draw_geometries(test)  "
   ]
  },
  {
   "attachments": {},
   "cell_type": "markdown",
   "metadata": {},
   "source": [
    "# CAD vs PCD validation"
   ]
  },
  {
   "attachments": {},
   "cell_type": "markdown",
   "metadata": {},
   "source": [
    "## Prepare"
   ]
  },
  {
   "attachments": {},
   "cell_type": "markdown",
   "metadata": {},
   "source": [
    "load cad objects"
   ]
  },
  {
   "cell_type": "code",
   "execution_count": null,
   "metadata": {},
   "outputs": [],
   "source": [
    "cad_dir=os.path.join('D:/Data/2023-03 Elia Substation/BLOCKS_test/')\n"
   ]
  },
  {
   "cell_type": "code",
   "execution_count": null,
   "metadata": {},
   "outputs": [
    {
     "name": "stdout",
     "output_type": "stream",
     "text": [
      "[Open3D WARNING] Read PLY failed: unable to open file: D:/Data/2023-03 Elia Substation/BLOCKS_test/1f565f6b-1d73-4ef2-b69a-019c150e7d93.ply\n",
      "TriangleMesh with 0 points and 0 triangles.\n"
     ]
    }
   ],
   "source": [
    "mesh=o3d.io.read_triangle_mesh('D:/Data/2023-03 Elia Substation/BLOCKS_test/1f565f6b-1d73-4ef2-b69a-019c150e7d93.ply')\n",
    "print(mesh)\n",
    "# import trimesh\n",
    "# mesh = trimesh.load_mesh('D:/Data/2023-03 Elia Substation/BLOCKS_ply/9_Isolator/0a8c339b-f2f6-487c-84d1-2c28000f9071.ply')"
   ]
  },
  {
   "cell_type": "code",
   "execution_count": null,
   "metadata": {},
   "outputs": [
    {
     "name": "stdout",
     "output_type": "stream",
     "text": [
      "[Open3D WARNING] Read PLY failed: unable to parse header.\n",
      "[Open3D WARNING] Read PLY failed: unable to parse header.\n",
      "[Open3D WARNING] Read PLY failed: unable to parse header.\n",
      "[Open3D WARNING] Read PLY failed: unable to parse header.\n",
      "[Open3D WARNING] Read PLY failed: unable to parse header.\n",
      "[Open3D WARNING] Read PLY failed: unable to parse header.\n",
      "[Open3D WARNING] Read PLY failed: unable to parse header.\n",
      "[Open3D WARNING] Read PLY failed: unable to parse header.\n",
      "[Open3D WARNING] Read PLY failed: unable to parse header.\n",
      "[Open3D WARNING] Read PLY failed: unable to parse header.\n",
      "[Open3D WARNING] Read PLY failed: unable to parse header.\n",
      "[Open3D WARNING] Read PLY failed: unable to parse header.\n",
      "[Open3D WARNING] Read PLY failed: unable to parse header.\n",
      "[Open3D WARNING] Read PLY failed: unable to parse header.\n",
      "[Open3D WARNING] Read PLY failed: unable to parse header.\n",
      "[Open3D WARNING] Read PLY failed: unable to parse header.\n",
      "[Open3D WARNING] Read PLY failed: unable to parse header.\n",
      "[Open3D WARNING] Read geometry::TriangleMesh failed: unknown file extension.\n",
      " 781 objects loaded.\n"
     ]
    }
   ],
   "source": [
    "cadNodes= []\n",
    "if os.path.exists(cad_dir):\n",
    "    files=ut.get_list_of_files(cad_dir)\n",
    "    for f in files:\n",
    "        mesh=o3d.io.read_triangle_mesh(f)\n",
    "        if len(np.asarray(mesh.triangles)) >0:\n",
    "            #put it locally\n",
    "            mesh.transform(transform) \n",
    "            cadNodes.append(MeshNode(name=ut.get_filename(f),\n",
    "                                resource=mesh,\n",
    "                                layer=ut.get_folder(f)))\n",
    "            \n",
    "#sample point cloud\n",
    "resources=[n.resource for n in cadNodes if n.resource]\n",
    "pcd_cad,identity_array=gmu.create_identity_point_cloud(resources,resolution=0.01)            \n",
    "[n.resource.paint_uniform_color(ut.random_color()) for n in cadNodes if n.resource]            \n",
    "joined_o3d_objects=gmu.join_geometries(resources)\n",
    "print(f' {len(cadNodes)} objects loaded.')"
   ]
  },
  {
   "attachments": {},
   "cell_type": "markdown",
   "metadata": {},
   "source": [
    "load pcd"
   ]
  },
  {
   "cell_type": "code",
   "execution_count": null,
   "metadata": {},
   "outputs": [],
   "source": [
    "las  = laspy.read(pcd_results_path)\n",
    "pcdNode=PointCloudNode(resource=gmu.las_to_pcd(las,transform=transform,getColors=True))"
   ]
  },
  {
   "attachments": {},
   "cell_type": "markdown",
   "metadata": {},
   "source": [
    "visualize"
   ]
  },
  {
   "cell_type": "code",
   "execution_count": null,
   "metadata": {},
   "outputs": [],
   "source": [
    "testgeometries=resources\n",
    "[g.paint_uniform_color(ut.random_color()) for g in testgeometries]\n",
    "o3d.visualization.draw_geometries([pcd_cad])  "
   ]
  },
  {
   "cell_type": "code",
   "execution_count": null,
   "metadata": {},
   "outputs": [],
   "source": [
    "#create ground truth\n",
    "# for i,g in enumerate(open3d_objects):\n",
    "#     print(i)\n",
    "#     o3d.visualization.draw_geometries([pcdNode.resource,g.paint_uniform_color([1,0,0])])"
   ]
  },
  {
   "cell_type": "code",
   "execution_count": null,
   "metadata": {},
   "outputs": [],
   "source": [
    "t1=[g.resource.paint_uniform_color([0.5,0.5,0.5]) for g in cadNodes]\n",
    "t2=[g.resource.paint_uniform_color([1,0,0]) for g in nodes]\n",
    "o3d.visualization.draw_geometries(t1+t2)  "
   ]
  },
  {
   "attachments": {},
   "cell_type": "markdown",
   "metadata": {},
   "source": [
    "locally register pcd_cad and pcdNode"
   ]
  },
  {
   "cell_type": "code",
   "execution_count": null,
   "metadata": {},
   "outputs": [
    {
     "name": "stdout",
     "output_type": "stream",
     "text": [
      "RegistrationResult with fitness=5.587643e-01, inlier_rmse=3.489094e-02, and correspondence_set size of 805157\n",
      "Access transformation to get result.\n",
      "[[ 9.99988546e-01  5.73187597e-05  4.78587919e-03 -1.20654332e-01]\n",
      " [-6.51379449e-05  9.99998663e-01  1.63366341e-03 -1.26285267e-01]\n",
      " [-4.78577915e-03 -1.63395644e-03  9.99987213e-01  4.71851033e-01]\n",
      " [ 0.00000000e+00  0.00000000e+00  0.00000000e+00  1.00000000e+00]]\n"
     ]
    }
   ],
   "source": [
    "registration = o3d.pipelines.registration.registration_icp(\n",
    "        pcd_cad, pcdNode.resource, 0.1)\n",
    "print(registration)\n",
    "print(registration.transformation)"
   ]
  },
  {
   "cell_type": "code",
   "execution_count": null,
   "metadata": {},
   "outputs": [
    {
     "data": {
      "text/plain": [
       "[TriangleMesh with 2298 points and 3368 triangles.,\n",
       " TriangleMesh with 465 points and 706 triangles.,\n",
       " TriangleMesh with 1189 points and 1630 triangles.,\n",
       " TriangleMesh with 1933 points and 2926 triangles.,\n",
       " TriangleMesh with 624 points and 1116 triangles.,\n",
       " TriangleMesh with 430 points and 600 triangles.,\n",
       " TriangleMesh with 8825 points and 13278 triangles.,\n",
       " TriangleMesh with 152601 points and 247584 triangles.,\n",
       " TriangleMesh with 453 points and 690 triangles.,\n",
       " TriangleMesh with 615 points and 1119 triangles.,\n",
       " TriangleMesh with 1020 points and 1556 triangles.,\n",
       " TriangleMesh with 298 points and 438 triangles.,\n",
       " TriangleMesh with 291 points and 424 triangles.,\n",
       " TriangleMesh with 608 points and 942 triangles.,\n",
       " TriangleMesh with 858 points and 1300 triangles.,\n",
       " TriangleMesh with 1139 points and 1608 triangles.,\n",
       " TriangleMesh with 41 points and 46 triangles.,\n",
       " TriangleMesh with 696 points and 952 triangles.,\n",
       " TriangleMesh with 447 points and 666 triangles.,\n",
       " TriangleMesh with 662 points and 1032 triangles.,\n",
       " TriangleMesh with 367 points and 570 triangles.,\n",
       " TriangleMesh with 2298 points and 3368 triangles.,\n",
       " TriangleMesh with 291 points and 424 triangles.,\n",
       " TriangleMesh with 129261 points and 168212 triangles.,\n",
       " TriangleMesh with 1016 points and 1552 triangles.,\n",
       " TriangleMesh with 434 points and 604 triangles.,\n",
       " TriangleMesh with 434 points and 604 triangles.,\n",
       " TriangleMesh with 1794 points and 2590 triangles.,\n",
       " TriangleMesh with 664 points and 1034 triangles.,\n",
       " TriangleMesh with 1256 points and 1610 triangles.,\n",
       " TriangleMesh with 174 points and 262 triangles.,\n",
       " TriangleMesh with 405 points and 618 triangles.,\n",
       " TriangleMesh with 658 points and 880 triangles.,\n",
       " TriangleMesh with 152128 points and 246736 triangles.,\n",
       " TriangleMesh with 1016 points and 1552 triangles.,\n",
       " TriangleMesh with 8787 points and 13266 triangles.,\n",
       " TriangleMesh with 442 points and 662 triangles.,\n",
       " TriangleMesh with 1848 points and 3420 triangles.,\n",
       " TriangleMesh with 153352 points and 249032 triangles.,\n",
       " TriangleMesh with 818 points and 1236 triangles.,\n",
       " TriangleMesh with 1756 points and 2534 triangles.,\n",
       " TriangleMesh with 1848 points and 3420 triangles.,\n",
       " TriangleMesh with 858 points and 1300 triangles.,\n",
       " TriangleMesh with 378 points and 588 triangles.,\n",
       " TriangleMesh with 9641 points and 14046 triangles.,\n",
       " TriangleMesh with 858 points and 1300 triangles.,\n",
       " TriangleMesh with 291 points and 424 triangles.,\n",
       " TriangleMesh with 862 points and 1304 triangles.,\n",
       " TriangleMesh with 608 points and 942 triangles.,\n",
       " TriangleMesh with 9486 points and 13728 triangles.,\n",
       " TriangleMesh with 390 points and 592 triangles.,\n",
       " TriangleMesh with 612 points and 946 triangles.,\n",
       " TriangleMesh with 291 points and 424 triangles.,\n",
       " TriangleMesh with 2298 points and 3368 triangles.,\n",
       " TriangleMesh with 1256 points and 1610 triangles.,\n",
       " TriangleMesh with 612 points and 946 triangles.,\n",
       " TriangleMesh with 1190 points and 1714 triangles.,\n",
       " TriangleMesh with 612 points and 946 triangles.,\n",
       " TriangleMesh with 1072 points and 1557 triangles.,\n",
       " TriangleMesh with 1878 points and 2831 triangles.,\n",
       " TriangleMesh with 858 points and 1300 triangles.,\n",
       " TriangleMesh with 459 points and 696 triangles.,\n",
       " TriangleMesh with 396 points and 604 triangles.,\n",
       " TriangleMesh with 685 points and 959 triangles.,\n",
       " TriangleMesh with 1256 points and 1610 triangles.,\n",
       " TriangleMesh with 606 points and 940 triangles.,\n",
       " TriangleMesh with 624 points and 1116 triangles.,\n",
       " TriangleMesh with 409 points and 480 triangles.,\n",
       " TriangleMesh with 610 points and 944 triangles.,\n",
       " TriangleMesh with 2026 points and 3571 triangles.,\n",
       " TriangleMesh with 9660 points and 14078 triangles.,\n",
       " TriangleMesh with 12 points and 6 triangles.,\n",
       " TriangleMesh with 119 points and 126 triangles.,\n",
       " TriangleMesh with 440 points and 658 triangles.,\n",
       " TriangleMesh with 298 points and 438 triangles.]"
      ]
     },
     "execution_count": 9,
     "metadata": {},
     "output_type": "execute_result"
    }
   ],
   "source": [
    "pcd_cad_t=copy.deepcopy(pcd_cad)\n",
    "pcd_cad_t.transform(registration.transformation)\n",
    "[g.transform(registration.transformation) for g in open3d_objects]"
   ]
  },
  {
   "cell_type": "code",
   "execution_count": null,
   "metadata": {},
   "outputs": [
    {
     "data": {
      "text/plain": [
       "True"
      ]
     },
     "execution_count": 28,
     "metadata": {},
     "output_type": "execute_result"
    }
   ],
   "source": [
    "o3d.io.write_point_cloud('D:/Data/2023-03 Elia Substation/Eval_small/pcd_cad_t.ply',pcd_cad_t)"
   ]
  },
  {
   "cell_type": "code",
   "execution_count": null,
   "metadata": {},
   "outputs": [
    {
     "name": "stdout",
     "output_type": "stream",
     "text": [
      "[Open3D WARNING] GLFW Error: WGL: Failed to make context current: The requested transformation operation is not supported. \n",
      "[Open3D WARNING] GLFW Error: WGL: Failed to make context current: The requested transformation operation is not supported. \n"
     ]
    }
   ],
   "source": [
    "#visualize transformed pcds\n",
    "o3d.visualization.draw_geometries([pcd_cad_t,pcdNode.resource])  "
   ]
  },
  {
   "attachments": {},
   "cell_type": "markdown",
   "metadata": {},
   "source": [
    "## Evaluate which objects are not in the point cloud i.e. which objects do no have nearby points\n"
   ]
  },
  {
   "attachments": {},
   "cell_type": "markdown",
   "metadata": {},
   "source": [
    "option A: mark objects that do not have pcd points as their closest points "
   ]
  },
  {
   "cell_type": "code",
   "execution_count": null,
   "metadata": {},
   "outputs": [],
   "source": [
    "#compute distance from pcd to cad\n",
    "indices,distances=gmu.compute_nearest_neighbors(np.asarray(pcdNode.resource.points),np.asarray(pcd_cad_t.points))"
   ]
  },
  {
   "cell_type": "code",
   "execution_count": null,
   "metadata": {},
   "outputs": [
    {
     "name": "stdout",
     "output_type": "stream",
     "text": [
      "[8, 10, 16, 24, 30, 39, 45, 47, 61, 71, 73]\n",
      "Recall: 0.25\n",
      "Precision: 0.36363636363636365\n"
     ]
    }
   ],
   "source": [
    "#filter distances\n",
    "distance_threshold=0.3\n",
    "distances=distances[:,0]\n",
    "inlier_indices=indices[distances < distance_threshold]\n",
    "#get cad indices that lie within that threshold\n",
    "indices_in_cad=identity_array[inlier_indices]\n",
    "indices_unique_in_cad=np.unique(indices_in_cad)\n",
    "#invert the selection\n",
    "range=np.arange(0,len(open3d_objects))\n",
    "indices_not_in_cad=[i for i in range if i not in indices_unique_in_cad]\n",
    "print(indices_not_in_cad)\n",
    "print(f'Recall: {len([i for i in indices_not_in_cad if i in ground_truth_not_built]) /len(ground_truth_not_built)}')\n",
    "print(f'Precision: {len([i for i in indices_not_in_cad if i in ground_truth_not_built]) /len(indices_not_in_cad)}')\n"
   ]
  },
  {
   "cell_type": "code",
   "execution_count": null,
   "metadata": {},
   "outputs": [],
   "source": [
    "#colorize objects that are not the closest object to the point clouds\n",
    "[g.paint_uniform_color([1,0,0]) for i,g in enumerate(open3d_objects) if i in indices_not_in_cad ] #red\n",
    "[g.paint_uniform_color([0,1,0]) for i,g in enumerate(open3d_objects) if i not in indices_not_in_cad ] #green\n",
    "joined_mesh=gmu.join_geometries(open3d_objects)\n",
    "o3d.visualization.draw_geometries([pcdNode.resource,joined_mesh])  "
   ]
  },
  {
   "attachments": {},
   "cell_type": "markdown",
   "metadata": {},
   "source": [
    "option B: mark objects that have at least one point far from the point cloud"
   ]
  },
  {
   "cell_type": "code",
   "execution_count": null,
   "metadata": {},
   "outputs": [
    {
     "name": "stdout",
     "output_type": "stream",
     "text": [
      "[0 3 6 7 8 17 21 23 33 35 37 38 41 44 49 53 59 61 63 67 70 73]\n",
      "Recall: 0.5\n",
      "Precision: 0.36363636363636365\n"
     ]
    }
   ],
   "source": [
    "#compute distance from cad to pcd\n",
    "distance_threshold=0.1\n",
    "dists = pcd_cad_t.compute_point_cloud_distance(pcdNode.resource)\n",
    "\n",
    "#get indices of points outside the distance_threshold\n",
    "ind = np.where(np.asarray(dists) > distance_threshold)[0]\n",
    "indices_not_in_cad=np.unique(identity_array[ind])\n",
    "print(indices_not_in_cad)\n",
    "print(f'Recall: {len([i for i in indices_not_in_cad if i in ground_truth_not_built]) /len(ground_truth_not_built)}')\n",
    "print(f'Precision: {len([i for i in indices_not_in_cad if i in ground_truth_not_built]) /len(indices_not_in_cad)}')"
   ]
  },
  {
   "cell_type": "code",
   "execution_count": null,
   "metadata": {},
   "outputs": [
    {
     "name": "stdout",
     "output_type": "stream",
     "text": [
      "[Open3D WARNING] GLFW Error: WGL: Failed to make context current: The requested transformation operation is not supported. \n"
     ]
    }
   ],
   "source": [
    "#colorize objects that have points further tha the distance_threshold from the pcd\n",
    "[g.paint_uniform_color([1,0,0]) for i,g in enumerate(open3d_objects) if i in indices_not_in_cad ] #red\n",
    "[g.paint_uniform_color([0,1,0]) for i,g in enumerate(open3d_objects) if i not in indices_not_in_cad ] #green\n",
    "joined_mesh=gmu.join_geometries(open3d_objects)\n",
    "o3d.visualization.draw_geometries([pcdNode.resource,joined_mesh])  "
   ]
  },
  {
   "attachments": {},
   "cell_type": "markdown",
   "metadata": {},
   "source": [
    "option C: mark objects with not atleast 70% of points near pcd"
   ]
  },
  {
   "cell_type": "code",
   "execution_count": null,
   "metadata": {},
   "outputs": [
    {
     "name": "stdout",
     "output_type": "stream",
     "text": [
      "[0, 6, 35, 44, 49, 63, 67, 70]\n",
      "Recall: 0.125\n",
      "Precision: 0.25\n"
     ]
    }
   ],
   "source": [
    "#compute distance from cad to pcd\n",
    "distance_threshold=0.1\n",
    "percentage_threshold=0.7\n",
    "dists = pcd_cad_t.compute_point_cloud_distance(pcdNode.resource)\n",
    "\n",
    "#get indices of points outside the distance_threshold\n",
    "ind = np.where(np.asarray(dists) <= distance_threshold)[0]\n",
    "indices_unique_in_cad,counts=np.unique(identity_array[ind],return_counts=True)\n",
    "unique_totals,count_totals=np.unique(identity_array,return_counts=True)\n",
    "indices_in_cad=[]\n",
    "for i,c in zip(indices_unique_in_cad,counts):\n",
    "    if c/count_totals[i]>percentage_threshold:\n",
    "        indices_in_cad.append(i)\n",
    "#invert the selection\n",
    "range=np.arange(0,len(open3d_objects))\n",
    "indices_not_in_cad=[i for i in range if i not in indices_in_cad]\n",
    "print(indices_not_in_cad)\n",
    "print(f'Recall: {len([i for i in indices_not_in_cad if i in ground_truth_not_built]) /len(ground_truth_not_built)}')\n",
    "print(f'Precision: {len([i for i in indices_not_in_cad if i in ground_truth_not_built]) /len(indices_not_in_cad)}')"
   ]
  },
  {
   "cell_type": "code",
   "execution_count": null,
   "metadata": {},
   "outputs": [
    {
     "name": "stdout",
     "output_type": "stream",
     "text": [
      "[Open3D WARNING] GLFW Error: WGL: Failed to make context current: The requested transformation operation is not supported. \n"
     ]
    }
   ],
   "source": [
    "#colorize objects that have points further tha the distance_threshold from the pcd\n",
    "[g.paint_uniform_color([1,0,0]) for i,g in enumerate(open3d_objects) if i in indices_not_in_cad ] #red\n",
    "[g.paint_uniform_color([0,1,0]) for i,g in enumerate(open3d_objects) if i not in indices_not_in_cad ] #green\n",
    "joined_mesh=gmu.join_geometries(open3d_objects)\n",
    "o3d.visualization.draw_geometries([pcdNode.resource,joined_mesh])  "
   ]
  },
  {
   "attachments": {},
   "cell_type": "markdown",
   "metadata": {},
   "source": [
    "Enrich analysis with classification results"
   ]
  },
  {
   "cell_type": "code",
   "execution_count": null,
   "metadata": {},
   "outputs": [
    {
     "ename": "NameError",
     "evalue": "name 'pcd_cad_t' is not defined",
     "output_type": "error",
     "traceback": [
      "\u001b[1;31m---------------------------------------------------------------------------\u001b[0m",
      "\u001b[1;31mNameError\u001b[0m                                 Traceback (most recent call last)",
      "\u001b[1;32m~\\AppData\\Local\\Temp/ipykernel_15812/2314947500.py\u001b[0m in \u001b[0;36m<module>\u001b[1;34m\u001b[0m\n\u001b[0;32m      1\u001b[0m \u001b[1;31m#compute indices from cad to pcd and retrieve semantic segmenation results\u001b[0m\u001b[1;33m\u001b[0m\u001b[1;33m\u001b[0m\u001b[1;33m\u001b[0m\u001b[0m\n\u001b[1;32m----> 2\u001b[1;33m \u001b[0mindices\u001b[0m\u001b[1;33m,\u001b[0m\u001b[0m_\u001b[0m\u001b[1;33m=\u001b[0m\u001b[0mgmu\u001b[0m\u001b[1;33m.\u001b[0m\u001b[0mcompute_nearest_neighbors\u001b[0m\u001b[1;33m(\u001b[0m\u001b[0mnp\u001b[0m\u001b[1;33m.\u001b[0m\u001b[0masarray\u001b[0m\u001b[1;33m(\u001b[0m\u001b[0mpcd_cad_t\u001b[0m\u001b[1;33m.\u001b[0m\u001b[0mpoints\u001b[0m\u001b[1;33m)\u001b[0m\u001b[1;33m,\u001b[0m\u001b[0mnp\u001b[0m\u001b[1;33m.\u001b[0m\u001b[0masarray\u001b[0m\u001b[1;33m(\u001b[0m\u001b[0mpcdNode\u001b[0m\u001b[1;33m.\u001b[0m\u001b[0mresource\u001b[0m\u001b[1;33m.\u001b[0m\u001b[0mpoints\u001b[0m\u001b[1;33m)\u001b[0m\u001b[1;33m)\u001b[0m\u001b[1;33m\u001b[0m\u001b[1;33m\u001b[0m\u001b[0m\n\u001b[0m\u001b[0;32m      3\u001b[0m \u001b[0mpcd_labels\u001b[0m\u001b[1;33m=\u001b[0m\u001b[0mnp\u001b[0m\u001b[1;33m.\u001b[0m\u001b[0mint8\u001b[0m\u001b[1;33m(\u001b[0m\u001b[0mlas\u001b[0m\u001b[1;33m.\u001b[0m\u001b[0mlabel\u001b[0m\u001b[1;33m[\u001b[0m\u001b[0mindices\u001b[0m\u001b[1;33m]\u001b[0m\u001b[1;33m)\u001b[0m\u001b[1;33m\u001b[0m\u001b[1;33m\u001b[0m\u001b[0m\n\u001b[0;32m      4\u001b[0m \u001b[0mpcd_predictions\u001b[0m\u001b[1;33m=\u001b[0m\u001b[0mnp\u001b[0m\u001b[1;33m.\u001b[0m\u001b[0mint8\u001b[0m\u001b[1;33m(\u001b[0m\u001b[0mlas\u001b[0m\u001b[1;33m.\u001b[0m\u001b[0mprediction\u001b[0m\u001b[1;33m[\u001b[0m\u001b[0mindices\u001b[0m\u001b[1;33m]\u001b[0m\u001b[1;33m)\u001b[0m\u001b[1;33m\u001b[0m\u001b[1;33m\u001b[0m\u001b[0m\n",
      "\u001b[1;31mNameError\u001b[0m: name 'pcd_cad_t' is not defined"
     ]
    }
   ],
   "source": [
    "#compute indices from cad to pcd and retrieve semantic segmenation results\n",
    "indices,_=gmu.compute_nearest_neighbors(np.asarray(pcd_cad_t.points),np.asarray(pcdNode.resource.points))\n",
    "pcd_labels=np.int8(las.label[indices])\n",
    "pcd_predictions=np.int8(las.prediction[indices])"
   ]
  },
  {
   "cell_type": "code",
   "execution_count": null,
   "metadata": {},
   "outputs": [],
   "source": [
    "# compute classes per object (presence of at least 20%)\n",
    "object_classes=[] \n",
    "for i,o in enumerate(open3d_objects): \n",
    "    local_labels=pcd_labels[identity_array==i]\n",
    "    unique,counts=np.unique(local_labels,return_counts=True)\n",
    "    object_classes.append(unique[counts/local_labels.size>0.2])"
   ]
  },
  {
   "cell_type": "code",
   "execution_count": null,
   "metadata": {},
   "outputs": [
    {
     "name": "stderr",
     "output_type": "stream",
     "text": [
      "C:\\Users\\u0094523\\AppData\\Local\\Temp/ipykernel_18584/1611104880.py:5: VisibleDeprecationWarning: Creating an ndarray from ragged nested sequences (which is a list-or-tuple of lists-or-tuples-or ndarrays with different lengths or shapes) is deprecated. If you meant to do this, you must specify 'dtype=object' when creating the ndarray.\n",
      "  class_point_clouds=np.array(class_point_clouds)\n"
     ]
    }
   ],
   "source": [
    "# split point cloud per prediction\n",
    "class_point_clouds=[]\n",
    "for i in np.arange(num_classes): \n",
    "    class_point_clouds.append(np.asarray(pcdNode.resource.points)[las.prediction==i] )\n",
    "class_point_clouds=np.array(class_point_clouds)"
   ]
  },
  {
   "cell_type": "code",
   "execution_count": null,
   "metadata": {},
   "outputs": [
    {
     "name": "stdout",
     "output_type": "stream",
     "text": [
      "52.0 of 75 elements are built\n",
      "[0, 3, 5, 6, 18, 23, 25, 26, 27, 29, 35, 36, 39, 40, 42, 44, 45, 49, 59, 61, 63, 67, 70]\n",
      "Recall: 0.5625\n",
      "Precision: 0.391304347826087\n"
     ]
    }
   ],
   "source": [
    "distance_threshold=0.1\n",
    "percentage_threshold=0.7\n",
    "built=np.zeros(len(open3d_objects))\n",
    "#per object, group relevant class_point clouds and make the nearest neighbor analysis\n",
    "for i,o in enumerate(open3d_objects): \n",
    "    #get querry points\n",
    "    query_points=np.asarray(pcd_cad_t.points)[identity_array==i] \n",
    "    #get classes\n",
    "    classes=object_classes[i]\n",
    "    #get class_point_clouds\n",
    "    points=class_point_clouds[classes]\n",
    "    pcd=gmu.join_geometries(points)\n",
    "    #compute nearest neighbors\n",
    "    indices,distances=gmu.compute_nearest_neighbors(query_points,np.asarray(pcd.points))\n",
    "    d=distances[distances<= distance_threshold]\n",
    "    #assign built status\n",
    "    if d.size/query_points.shape[0]>=percentage_threshold:\n",
    "        built[i]=1\n",
    "print(f'{np.sum(built)} of {len(open3d_objects)} elements are built')\n",
    "print([i for i,b in enumerate(built) if b==0])\n",
    "indices_not_in_cad=[i for i,b in enumerate(built) if b==0]\n",
    "print(f'Recall: {len([i for i in indices_not_in_cad if i in ground_truth_not_built]) /len(ground_truth_not_built)}')\n",
    "print(f'Precision: {len([i for i in indices_not_in_cad if i in ground_truth_not_built]) /len(indices_not_in_cad)}')"
   ]
  },
  {
   "cell_type": "code",
   "execution_count": null,
   "metadata": {},
   "outputs": [
    {
     "name": "stdout",
     "output_type": "stream",
     "text": [
      "[Open3D WARNING] GLFW Error: WGL: Failed to make context current: The requested transformation operation is not supported. \n",
      "[Open3D WARNING] GLFW Error: WGL: Failed to make context current: The handle is invalid. \n",
      "[Open3D WARNING] GLFW Error: WGL: Failed to make context current: The requested transformation operation is not supported. \n",
      "[Open3D WARNING] GLFW Error: WGL: Failed to make context current: The requested transformation operation is not supported. \n"
     ]
    }
   ],
   "source": [
    "#colorize objects that are built\n",
    "[g.paint_uniform_color([1,0,0]) for  i,g in enumerate(open3d_objects) if built[i] ==0] #red\n",
    "[g.paint_uniform_color([0,1,0]) for i,g in enumerate(open3d_objects) if built[i] !=0] #green\n",
    "joined_mesh=gmu.join_geometries(open3d_objects)\n",
    "o3d.visualization.draw_geometries([pcdNode.resource,joined_mesh])  "
   ]
  },
  {
   "attachments": {},
   "cell_type": "markdown",
   "metadata": {},
   "source": [
    "# CAD vs classified PCD"
   ]
  },
  {
   "attachments": {},
   "cell_type": "markdown",
   "metadata": {},
   "source": [
    "Evaluate which objects are not drawn i.e. which point cloud points marked as equipment are not near and drawn objects."
   ]
  },
  {
   "cell_type": "code",
   "execution_count": null,
   "metadata": {},
   "outputs": [],
   "source": [
    "#compute indices from cad to pcd and retrieve semantic segmenation results\n",
    "indices,_=gmu.compute_nearest_neighbors(np.asarray(pcd_cad_t.points),np.asarray(pcdNode.resource.points))\n",
    "pcd_labels=np.int8(las.label[indices])\n",
    "pcd_predictions=np.int8(las.prediction[indices])"
   ]
  },
  {
   "cell_type": "code",
   "execution_count": null,
   "metadata": {},
   "outputs": [
    {
     "name": "stdout",
     "output_type": "stream",
     "text": [
      "[PointCloud with 1248 points. PointCloud with 440 points.\n",
      " PointCloud with 0 points. PointCloud with 3764 points.\n",
      " PointCloud with 14636 points. PointCloud with 3283 points.\n",
      " PointCloud with 1131 points. PointCloud with 69420 points.\n",
      " PointCloud with 1718 points. PointCloud with 43300 points.\n",
      " PointCloud with 8719 points. PointCloud with 18168 points.\n",
      " PointCloud with 270 points. PointCloud with 22505 points.]\n"
     ]
    }
   ],
   "source": [
    "# split point cloud per prediction\n",
    "pcd_per_class=[]\n",
    "for i in np.arange(num_classes):    \n",
    "    ind = np.where(las.prediction==i)[0]\n",
    "    pcd_per_class.append(pcdNode.resource.select_by_index(ind))\n",
    "pcd_per_class=np.array(pcd_per_class)\n",
    "print(pcd_per_class)"
   ]
  },
  {
   "cell_type": "code",
   "execution_count": null,
   "metadata": {},
   "outputs": [],
   "source": [
    "# compute classes per object (presence of at least 20%)\n",
    "object_classes=[] \n",
    "for i,o in enumerate(open3d_objects): \n",
    "    local_labels=pcd_labels[identity_array==i]\n",
    "    unique,counts=np.unique(local_labels,return_counts=True)\n",
    "    object_classes.append(unique[counts/local_labels.size>0.2])"
   ]
  },
  {
   "cell_type": "code",
   "execution_count": null,
   "metadata": {},
   "outputs": [
    {
     "name": "stdout",
     "output_type": "stream",
     "text": [
      "[None, None, None, None, PointCloud with 2284 points., None, None, None, PointCloud with 21123 points., PointCloud with 460333 points., PointCloud with 23091 points., PointCloud with 2923 points., None, PointCloud with 1393333 points.]\n",
      "created 14 unique point clouds, one for every predicted class\n"
     ]
    }
   ],
   "source": [
    "# split pcd_Cad_t per label -> pcd_class_objects\n",
    "pcd_class_objects=[None] * num_classes #point clouds of objects grouped per class\n",
    "for i in np.arange(num_classes):\n",
    "    #get all object indices belonging to a class   \n",
    "    indices=[j for j,o in enumerate(object_classes) if i in o] \n",
    "    if len(indices)>0:\n",
    "        #get points\n",
    "       pcd_class_objects[i]=gmu.join_geometries([np.asarray(pcd_cad_t.points)[identity_array==c] for c in indices])\n",
    "print(pcd_class_objects)\n",
    "print(f'created {len(pcd_class_objects)} unique point clouds, one for every predicted class')"
   ]
  },
  {
   "cell_type": "code",
   "execution_count": null,
   "metadata": {},
   "outputs": [
    {
     "data": {
      "text/plain": [
       "[PointCloud with 580 points.,\n",
       " PointCloud with 399 points.,\n",
       " PointCloud with 1599 points.,\n",
       " PointCloud with 3775 points.,\n",
       " PointCloud with 4410 points.,\n",
       " PointCloud with 1951 points.,\n",
       " PointCloud with 537 points.,\n",
       " PointCloud with 4162 points.,\n",
       " PointCloud with 8073 points.,\n",
       " PointCloud with 2194 points.,\n",
       " PointCloud with 788 points.,\n",
       " PointCloud with 276 points.,\n",
       " PointCloud with 216 points.,\n",
       " PointCloud with 495 points.,\n",
       " PointCloud with 242 points.,\n",
       " PointCloud with 319 points.,\n",
       " PointCloud with 2920 points.,\n",
       " PointCloud with 510 points.,\n",
       " PointCloud with 207 points.,\n",
       " PointCloud with 8156 points.,\n",
       " PointCloud with 505 points.,\n",
       " PointCloud with 357 points.]"
      ]
     },
     "execution_count": 70,
     "metadata": {},
     "output_type": "execute_result"
    }
   ],
   "source": [
    "list(itertools.chain(*[g for g in pcds_clusters if g]))\n"
   ]
  },
  {
   "cell_type": "code",
   "execution_count": null,
   "metadata": {},
   "outputs": [
    {
     "name": "stdout",
     "output_type": "stream",
     "text": [
      "[PointCloud with 575 points., PointCloud with 324 points., PointCloud with 1232 points., PointCloud with 7050 points., PointCloud with 1377 points., PointCloud with 305 points., PointCloud with 12163 points., PointCloud with 168 points., PointCloud with 657 points., PointCloud with 1930 points., PointCloud with 179 points., PointCloud with 137 points., PointCloud with 4719 points.]\n",
      "[ 0  1  3  4  5  6  7  8  9 10 11 12 13]\n",
      "[[PointCloud with 575 points.], [PointCloud with 58 points., PointCloud with 266 points.], [PointCloud with 186 points., PointCloud with 851 points., PointCloud with 195 points.], [PointCloud with 125 points., PointCloud with 6761 points., PointCloud with 164 points.], [PointCloud with 150 points., PointCloud with 520 points., PointCloud with 276 points., PointCloud with 197 points., PointCloud with 234 points.], [PointCloud with 31 points., PointCloud with 171 points., PointCloud with 103 points.], [PointCloud with 238 points., PointCloud with 8976 points., PointCloud with 277 points., PointCloud with 2276 points., PointCloud with 396 points.], [PointCloud with 10 points., PointCloud with 158 points.], [PointCloud with 78 points., PointCloud with 213 points., PointCloud with 366 points.], [PointCloud with 1828 points., PointCloud with 102 points.], [PointCloud with 65 points., PointCloud with 114 points.], [PointCloud with 19 points., PointCloud with 118 points.], [PointCloud with 542 points., PointCloud with 332 points., PointCloud with 898 points., PointCloud with 613 points., PointCloud with 501 points., PointCloud with 267 points., PointCloud with 287 points., PointCloud with 908 points., PointCloud with 162 points., PointCloud with 104 points., PointCloud with 105 points.], None]\n",
      "[array([0], dtype=int32), array([-1,  0], dtype=int32), array([-1,  0,  1], dtype=int32), array([-1,  0,  1], dtype=int32), array([-1,  0,  1,  2,  3], dtype=int32), array([-1,  0,  1], dtype=int32), array([-1,  0,  1,  2,  3], dtype=int32), array([-1,  0], dtype=int32), array([-1,  0,  1], dtype=int32), array([0, 1], dtype=int32), array([-1,  0], dtype=int32), array([-1,  0], dtype=int32), array([-1,  0,  1,  2,  3,  4,  5,  6,  7,  8,  9], dtype=int32), None]\n",
      "[Open3D WARNING] GLFW Error: WGL: Failed to make context current: The requested transformation operation is not supported. \n",
      "[Open3D WARNING] GLFW Error: WGL: Failed to make context current: The handle is invalid. \n"
     ]
    }
   ],
   "source": [
    "#(optional)\n",
    "distance_threshold=0.2\n",
    "eps=0.2\n",
    "min_points=100\n",
    "\n",
    "#filter eerst pcdNode.resource m.b.v. pcd_cad_t\n",
    "dists = pcdNode.resource.compute_point_cloud_distance(pcd_cad_t) \n",
    "ind = np.where(np.asarray(dists) > distance_threshold)[0]\n",
    "pcd_tls=pcdNode.resource.select_by_index(ind)\n",
    "pcd_labels=np.int8(las.prediction[ind])\n",
    "pcds,labels=gmu.split_pcd_by_labels(pcd_tls,pcd_labels)\n",
    "print(pcds)\n",
    "print(labels)\n",
    "\n",
    "#cluster per label\n",
    "pcds_clusters=[None]*num_classes\n",
    "labels_clusters=[None]*num_classes\n",
    "for i,pcd in enumerate(pcds):\n",
    "    #retrieve clusters\n",
    "    labels = np.array(pcd.cluster_dbscan(eps=eps, min_points=100, print_progress=True))    \n",
    "    pcds,labels=gmu.split_pcd_by_labels(pcd,labels)\n",
    "    pcds=np.array(pcds)\n",
    "    #colorize\n",
    "    t=pcds[labels==-1]\n",
    "    if t.size>0:\n",
    "        t[0].paint_uniform_color([0,0,0])\n",
    "    [g.paint_uniform_color(ut.random_color()) for g in pcds[labels!=-1] if g]    \n",
    "    pcds_clusters[i]=pcds.tolist()\n",
    "    labels_clusters[i]=labels\n",
    "    \n",
    "    \n",
    "# pcds_clusters=np.array(pcds_clusters)\n",
    "# labels_clusters=np.array(labels_clusters)\n",
    "print(pcds_clusters)\n",
    "print(labels_clusters)\n",
    "\n",
    "#visualize\n",
    "testgeometries=gmu.join_geometries(list(itertools.chain(*[g for g in pcds_clusters if g])))\n",
    "o3d.visualization.draw_geometries([testgeometries,pcd_cad_t.paint_uniform_color([1,1,1])])  "
   ]
  },
  {
   "cell_type": "code",
   "execution_count": null,
   "metadata": {},
   "outputs": [],
   "source": [
    "testgeometries=gmu.join_geometries([g.paint_uniform_color(ut.random_color()) for g in pcds])\n",
    "o3d.visualization.draw_geometries([testgeometries]) "
   ]
  },
  {
   "cell_type": "code",
   "execution_count": null,
   "metadata": {},
   "outputs": [
    {
     "name": "stdout",
     "output_type": "stream",
     "text": [
      "[None, None, None, None, PointCloud with 8185 points., None, None, None, PointCloud with 216 points., PointCloud with 1056 points., PointCloud with 2920 points., PointCloud with 510 points., None, PointCloud with 9018 points.]\n"
     ]
    }
   ],
   "source": [
    "# retain points in pcd (pcd_per_class) that are d>t_d of cad (pcd_class_objects) \n",
    "distance_threshold=0.1\n",
    "pcd_per_class_culled=[None]*num_classes\n",
    "for i,cad,pcd in zip( np.arange(num_classes),pcd_class_objects,pcd_per_class):\n",
    "    if cad and pcd:\n",
    "        #compute distance from cad to pcd    \n",
    "        dists = pcd.compute_point_cloud_distance(pcd_cad_t) #not cad\n",
    "        #get indices of points outside the distance_threshold\n",
    "        ind = np.where(np.asarray(dists) > distance_threshold)[0]\n",
    "        if ind.size >0:\n",
    "            #compute indices from cad to pcd and retrieve semantic segmenation results\n",
    "            pcd_per_class_culled[i]=pcd.select_by_index(ind)\n",
    "print(pcd_per_class_culled)"
   ]
  },
  {
   "cell_type": "code",
   "execution_count": null,
   "metadata": {},
   "outputs": [
    {
     "name": "stdout",
     "output_type": "stream",
     "text": [
      "[Open3D WARNING] GLFW Error: WGL: Failed to make context current: The requested transformation operation is not supported. \n",
      "[Open3D WARNING] GLFW Error: WGL: Failed to make context current: The requested transformation operation is not supported. \n",
      "[Open3D WARNING] GLFW Error: WGL: Failed to make context current: The handle is invalid. \n",
      "[Open3D WARNING] GLFW Error: WGL: Failed to make context current: The handle is invalid. \n"
     ]
    }
   ],
   "source": [
    "testgeometries=pcd_per_class_culled\n",
    "testgeometries=gmu.join_geometries([g.paint_uniform_color(ut.random_color()) for g in pcds[labels!=-1] if g])\n",
    "o3d.visualization.draw_geometries([testgeometries,pcd_cad_t.paint_uniform_color([1,1,1])])  "
   ]
  },
  {
   "cell_type": "code",
   "execution_count": null,
   "metadata": {},
   "outputs": [
    {
     "name": "stdout",
     "output_type": "stream",
     "text": [
      "[Open3D DEBUG] Precompute neighbors.\n",
      "[Open3D DEBUG] Done Precompute neighbors.\n",
      "[Open3D DEBUG] Compute Clusters\n",
      "[Open3D DEBUG] Done Compute Clusters: 11\n",
      "[PointCloud with 2392 points., PointCloud with 5910 points., PointCloud with 301 points., PointCloud with 177 points., PointCloud with 2706 points., PointCloud with 1309 points., PointCloud with 142 points., PointCloud with 190 points., PointCloud with 200 points., PointCloud with 235 points., PointCloud with 113 points., PointCloud with 961 points.]\n",
      "[-1  0  1  2  3  4  5  6  7  8  9 10]\n"
     ]
    }
   ],
   "source": [
    "#db_clustering\n",
    "import matplotlib.pyplot as plt\n",
    "pcd=pcd_per_class[4]\n",
    "with o3d.utility.VerbosityContextManager(\n",
    "        o3d.utility.VerbosityLevel.Debug) as cm:\n",
    "    labels = np.array(\n",
    "        pcd.cluster_dbscan(eps=0.1, min_points=100, print_progress=True))\n",
    "pcds,labels=gmu.split_pcd_by_labels(pcd,labels)\n",
    "print(pcds)\n",
    "print(labels)"
   ]
  },
  {
   "cell_type": "code",
   "execution_count": null,
   "metadata": {},
   "outputs": [],
   "source": [
    "pcds=np.array(pcds)\n",
    "pcds[labels==-1][0].paint_uniform_color([0,0,0])\n",
    "\n",
    "# testgeometries=pcd_per_class_culled\n",
    "testgeometries=gmu.join_geometries([g.paint_uniform_color(ut.random_color()) for g in pcds[labels!=-1] if g])\n",
    "o3d.visualization.draw_geometries([testgeometries,pcds[labels==-1][0].paint_uniform_color([0,0,0]),pcd_cad_t.paint_uniform_color([1,1,1])])  "
   ]
  },
  {
   "cell_type": "code",
   "execution_count": null,
   "metadata": {},
   "outputs": [
    {
     "data": {
      "text/plain": [
       "[PointCloud with 2284 points., PointCloud with 14636 points.]"
      ]
     },
     "execution_count": 51,
     "metadata": {},
     "output_type": "execute_result"
    }
   ],
   "source": [
    "n=4\n",
    "[pcd_class_objects[n],pcd_per_class[n]]"
   ]
  },
  {
   "cell_type": "code",
   "execution_count": null,
   "metadata": {},
   "outputs": [
    {
     "name": "stdout",
     "output_type": "stream",
     "text": [
      "[Open3D WARNING] GLFW Error: WGL: Failed to make context current: The requested transformation operation is not supported. \n",
      "[Open3D WARNING] GLFW Error: WGL: Failed to make context current: The handle is invalid. \n",
      "[Open3D WARNING] GLFW Error: WGL: Failed to make context current: The handle is invalid. \n",
      "[Open3D WARNING] GLFW Error: WGL: Failed to make context current: The requested transformation operation is not supported. \n"
     ]
    }
   ],
   "source": [
    "# testgeometries=gmu.join_geometries([g.paint_uniform_color(ut.random_color()) for g in testgeometries if g])\n",
    "\n",
    "o3d.visualization.draw_geometries([pcd_class_objects[n],pcd_per_class[n]])  "
   ]
  },
  {
   "attachments": {},
   "cell_type": "markdown",
   "metadata": {},
   "source": [
    "# CAD vs PCD upscaled"
   ]
  },
  {
   "attachments": {},
   "cell_type": "markdown",
   "metadata": {},
   "source": [
    "import presence document"
   ]
  },
  {
   "cell_type": "code",
   "execution_count": null,
   "metadata": {},
   "outputs": [
    {
     "name": "stdout",
     "output_type": "stream",
     "text": [
      "['426cdb74-5efa-4b39-b7e3-c23027147f9b', 'b6fdb729-b270-4909-8be2-c60111abe5ed', 'c2215dd6-eb9b-484d-a971-2b792bdeaff9', '04b670b8-87b3-4fa2-880d-b1f95ca0ba92', '05a3222b-8ecf-49ae-9146-7a53cde261a7', '52ee9b0a-8484-4a28-9f27-08d097996fad', '60e1f286-bc0f-4d52-90dc-42e4332cd910', '66db1841-e305-41c0-99eb-2fc6419417f8', '067a12cc-95d1-45ee-94d9-5ead899c065b', '71c00e15-76cb-41ce-becc-11211ca6336b', '83cea352-acb7-4e42-9e0c-c65d15c2fe09', '458c5bbc-15ec-4162-9668-4572de79652d', '856fa639-626a-4d9a-8b9c-9ac5645efc17', '3155d61e-4119-40f5-810a-cabb14beaa92', '3b124718-db1f-40c6-9574-ae8cf8525d36', '3f91f864-60e3-4808-b9a8-3147b0ed5e9f', '04aaab60-c74e-40ae-8306-eac0915e7d03', '4b44cee6-81f0-46e5-8fb1-dc76f103c3f4', '5b935ec6-d37e-4404-94cd-02902a04ac9d', '7f6c498f-65d8-4d9d-a2a6-1dcc87b0364b', '8b4b4b3a-ca33-42a1-b776-883c6ba6b9b7', '23b18e95-4197-47ab-a20d-6bdc4dba48b4', 'a3186217-cc35-4e94-9c5e-05bb89072724', 'aac07016-03f3-4bec-8431-b2c0591688a9', 'ac436888-7f99-4de2-8f55-534229054df8', 'b04c2703-1586-493e-8ece-04d9bf0ab642.', 'b8808a90-aa6f-4770-b035-c1d73d51867d', 'c4a75af6-4ce3-4179-8a79-d859c4f6d2ab', 'c09bb357-2cc4-4e8c-aef8-887dadc334bf', 'cecbb641-3e31-4020-83d0-748e63322988', 'db43bb2f-1ca7-454b-b2c4-c2548a39245f', 'f2a9e3d8-9055-4115-96b0-a91455e0dd44', 'fb74fe53-2c73-47a0-ac19-2938cfa97f0a', 'fb75dacf-f173-4dfe-a101-65dca32d1002', '5599c1fb-2aa9-4c84-8059-c54c8f67a3c6.', '6644fe7d-1905-4d59-bb19-b5b0f42afefe', '7012e6b4-98df-4b4a-84d1-00e1cecd2833', '25694b08-af10-4baf-96e7-3c9e1526192a', '80797758-c1b6-45bd-9076-717fc098a3a0', '62f7732f-be75-47ab-920d-f65ff3f7ce04', '64f39aad-694c-49cb-8076-d6fd0400b7c0', '94f3ffc1-2b40-4632-b07b-4b57f9545035', '6293f7bb-80a8-41fe-b778-10689cedbb28', 'a9080e1e-6ad6-4289-b3d6-cd12bb45286e', 'a153294d-909a-4230-b62e-38bb3b6fbe24', 'cfd368cd-3c93-4449-b43b-6520e4304931', 'e5354322-6b94-4e93-9568-a3222b3f329e', 'ea80e029-b253-442e-bd2c-0ce37bbb789a', 'eac05870-da14-4362-9fb1-3852cac148de', 'f6cb60d0-e91a-4a38-8e9f-66c57c50e154', '2e6bcc6c-259e-4b3a-aea4-fbcadcb9a13d', '4a366b2f-897c-4840-afcc-25262d1a31e8', '5a9a28fe-9a2c-4232-ab85-289c9e088dc0', '7ba84aa5-a58a-4da2-8d76-3e2c8b1085d1', '8dbd20dd-8cda-404d-b453-f703da87dda5', '1b7b04df-423f-417b-8971-51421b6d795d', '1d5ec86c-804e-4e1a-9448-1a26d4292240', '1f8ef4eb-72ee-4500-b1cf-57ed9fe12903', '1f041c58-096e-4edb-9c77-fe770835ebde', '1f7458ee-d72b-4282-ab43-d21c8b58cb0e', '2b0d1eb0-f4f5-4e1a-9725-c04123ab30c7', '2bbcf9aa-e41b-419b-be63-373f8e454dd7', '2c07abf0-f721-4fec-8522-66429f2c6d3f', '2cf32f2c-c5a4-4bfc-85f9-7d98cb7ad15a', '2ddec593-7ca3-46ad-a814-1204b6cfb92d', '2e0d67d5-e587-4ffe-8f7e-50c28b74a5fa', '0a51c0e9-44ab-49fa-b3a5-adec8ad9c39e', '0dfaf2d5-3eb1-4455-ab84-36817186cde3', '0edaf32e-9368-47f9-b8e2-4a972d92607d', '01c446c1-6d9b-4456-8691-24202132ff7f', '5c6a37b8-2176-4efa-92d0-8b14069220aa', '3a0cc12e-ee41-4acc-ac6a-7a079b17d0f4', '3cd6d139-41c0-458a-b96d-b3109613e1ee', '3db79b63-450e-43b3-890c-b9a68df15ffb', '3f9f1758-ba75-4ea9-b4de-68677ab049f4', '04beca1b-026e-42e1-aa6c-1202ae8a5004', '4ae7d2d2-918a-47af-bda8-8bb3db8154af', '4bc16d64-3dc0-4ecb-a1e7-d8c218d781e8', '4c417723-f311-4fb2-afa6-a603dc2347b4', '9b7696b3-f386-4f8a-8b9b-57484407db37', '9f69868b-34aa-4015-9f11-676f5ffdab87', '15e0e2ea-5db9-409a-ad85-4304d08af52f', '6f183aef-2aa2-4e53-a099-4b878422eb53', '7cf8018d-e1b7-45db-a369-bc7df670ad05', '7f88903a-42d9-4dcb-9081-435487abb78f', '8c85f275-5afb-4793-a795-689e25314b79', '8d816eaf-96ee-47a3-a736-2c3f70878701', '9a11e74e-758d-4207-88f2-93d238fe4679', '34f101c5-1548-4456-ac36-c8d5109cfb47', '35e749d5-f075-4c75-b408-71b892546689', '36ea86ff-bd42-4d67-a7ef-fa4379716858', '8c2b0710-6f83-49fb-93ea-d323489830d1', '8d816eaf-96ee-47a3-a736-2c3f70878701', '8f2ebd46-3ea6-4eb6-9859-6edb1f3eb6ad', '9a11e74e-758d-4207-88f2-93d238fe4679', '9b7696b3-f386-4f8a-8b9b-57484407db37', '9f9b6d58-4647-4c02-b948-9a98b76d2d5d', '9f69868b-34aa-4015-9f11-676f5ffdab87', '15e0e2ea-5db9-409a-ad85-4304d08af52f', '071da57c-98b1-44eb-babd-689612bc0e3e', '079ca5c8-9fc8-4731-aab0-367dfd71bb91', '85e8d8f8-e675-4006-9f8f-6b6543fde50f', '37b68444-7e17-4dc2-a02f-e38b0c3ac159', '49f0ef46-0f34-4334-871d-64d52d3fa834', '42f4eff4-3786-454c-8595-1454c3b632b4', '53a1a983-4ae6-4841-8284-2c44b0107716', '55c11dcd-c4db-4abc-b0d6-8326909ecde8', '62ceb0bd-7218-46c1-b815-a35e9512e7a6', '609bc75b-0c03-4bdf-917d-b8e45608da93', '757f7309-b09d-48a0-ae61-1c30504de053', '150e493e-4252-4db3-a71a-8fa58dd6b9bf', '164d0b34-6beb-470d-9873-a8268ebb6dd9', '303bcec5-caf0-401b-bbb6-63500d893901', '319e61d0-c436-44b9-bf01-4ad8f9be9973', '379b4d45-255e-40aa-99be-aa162582cc16', '477d7173-9161-4205-9fc1-9acfb37aebae', '896cb94b-726d-40ff-89b9-ca4a4bdc5d5f', '963cf8d8-d23f-458c-8bf0-b961c3d04596', '1830e334-c2c8-4887-870f-e97a45e55cfe', '2056a611-934a-4af5-972f-4935baacbad5', '2640d849-da03-407f-8d0a-b01dd9f80563', '3257ae5c-956d-4056-81f5-0bbcadc53cf0', '69416a1d-d5e6-4406-a989-1a227f46fc6e', '620774c6-2d43-433e-9dbd-f74ee3070f46', '803873fc-356b-4d88-9312-8b8100f767d1', '16649e25-69cb-4def-8163-ea97c21e6251', '32583a17-5717-4a7f-a9e7-609e74052bad', '46859fa1-2f7c-4ec0-855c-8588ddd89973', '57306ff6-ad06-4a1a-b66a-34054c6bf763', '62917311-c96a-4790-bd26-f66045dde0e4', 'a0c451cd-ae8b-46ee-acb2-fd168916a77c', '833509a4-74b2-4f68-a1c0-c8f76e95265c', '3589485b-8b54-4f62-9d78-0c02ea78fb27', '8629027f-162a-45b9-a080-7bde41fe2aad', '34317940-62ba-4bde-9684-87e584cc8eb2', '43918853-1bda-485d-8037-0960658e5aab', '56308810-24f3-4a37-b131-a5688287a9e9', 'b2f25785-87e9-4ce7-87bc-473900d865dd', 'a17ee7c0-acab-4056-8941-f78ae9119d14', 'a937c917-1305-476a-b39d-f4057f014180', 'a2479eb3-0053-4e00-a677-a55f91fba916', 'aac918ee-a397-4666-9ed5-c148f19f788e', 'aaf11dc9-c644-4ee4-b0c3-c4ca2c756687', 'c4a0a0ec-643c-43af-91f4-be90158f5364', 'c4c74dc2-db3f-4840-b4ae-063b2dd7223f', 'c5bb5c3d-cb5f-4b19-b20e-ae383c35603c', 'b9c66a0f-fa64-433b-b4b2-350517b909a5', 'b99ffe25-9b40-4c7a-b89c-a268e6326969', 'ba2c2ba7-20b9-4b63-b881-a6a13bb431be', 'bb1ffca2-fb16-4b46-a37d-134e0ec70f20', 'bb7da849-f350-4a33-b2b7-aaae882a5389', 'bc328c8d-2ff5-4e3a-8aa8-bb87c6a9c354', 'bf94482b-90d1-46f3-8864-236ee13f0763', 'bfbc47a2-21c5-49ad-a08c-1a1a89ce40ae', 'cfa1810c-396d-423a-8b2f-74c5f6efc29a', 'd0d10e93-756e-4e77-837f-920938382b97', 'd5c718e3-1823-4e82-b548-9ec5ff3ea5c1', 'c6e6c1ab-3848-4629-82f5-61c8644d3df7', 'c47f75e7-198a-4aea-978b-16c173e96b17', 'e64aa90d-979a-4ad2-ab96-e3e2131eb157', 'e78b7b29-182a-4344-bfab-0a0ac8045aa4', 'e99bd391-dcdb-48d8-bd25-e4c5e71c5463', 'd9502522-511c-49b1-9257-617f34a2fcff', 'da3d0745-9a09-4cc2-8fa7-b0c291fd5065', 'dcc6a157-2a12-4d9e-b2cd-f1558359b870', 'df95e8df-858d-498d-9d90-0577edcea3b3', 'e1addf68-c93d-4980-9ae2-1ce8077e32d6', 'e1b89511-12c2-48dd-a359-718276394847', 'e1f1475d-3b50-4961-a90b-7da720d0ce33', 'fc07db4e-f8f9-442f-8ed4-de978166590b', 'fd9ed23e-ba74-4f3c-b10f-01afc6f713d0', 'e39574c1-cd10-43af-aa7e-ff472288c5e0', 'eaeefa1a-9c54-4ca4-9ed8-961c723936a8', 'ebf25dac-0719-48a0-99ab-0b453e459cd7', 'ec422d03-0733-4918-aef6-26fb5fa39ae2', 'ecccf97e-c608-4ce7-8a7a-b9f136ec0191', 'ed7742a6-56bd-4c6e-860c-800a5973e328', 'ed677423-5d53-4d62-8dfa-de229ee96fcd', 'edcfa3d5-fb07-4d7d-a80e-01a35886e095', 'f0b79ab6-282c-4944-a2a8-c82bc0ba8922', 'f9ddb881-36d4-4a72-a01c-3adafe7d288d', 'f257be6d-18c1-42b5-a135-58879c4aff4c', 'f753cc28-5068-42f3-840f-eddb5fd996de', '5a72a3bf-4c87-4f7e-8828-f25557a11ed5', '5fccb620-6301-4444-a9da-821365dc9df3', '0e74a08f-0fd3-4646-a6be-5a48a1cb8be4', '1ee60c3b-7e96-40f3-b719-a701ea4d3034', '1f4312f1-2673-482d-93b9-0246d23f1304', '2d973f65-ec5b-485c-8394-3fa1c3e82c9d', '3b29f07c-b5da-476d-865e-aa73726ccc59', '3d25946b-c24b-44a9-b944-cec2937a416c', '3efe2262-f240-4f47-b6ef-7d65dd041f75', '4c06d689-2ccd-428a-beed-0e832099e49a', '4cc06ae6-f552-4a3a-aea6-c9774778985e', '4d466a98-9bb2-40a8-bac4-79b2fcefff1b', '13db9a76-15b1-48b8-9b82-93f1705f1089', '28ae276d-6803-4edf-b5a2-97a9c6bb128b', '29cac3f2-497b-42ec-a4a0-c7f74de7dfc0', '32d2fa20-3158-44a9-b9e3-a0f062d1f7f5', '5ffc34cf-5f1c-4e7d-95e0-39305a917009', '06fa4665-9302-4aa2-a2f7-866c470aafc2', '6b5144ce-5bb9-4054-a374-a0cfdef5febe', '6cfc9bee-75bc-4a8e-ba21-7f3254d6a876', '6e859ee2-fc7b-481f-93ae-ad21e57aa523', '6f7d1bdd-654d-4994-8ea1-80ee89212c6b', '8a9c7ae2-75e7-44c7-98b6-e6f9044dcd41', '8e61e184-ab39-49f6-9f75-0a91e0637649', '9b527142-bc4f-4339-b90e-4d76f471adcd', '9bde35b5-b3f9-4118-a778-59b4a37569a5', '564a8a56-4839-48d6-a657-6e1737c8f3c3', '612aed10-5341-4c9a-ba1b-b666487c68f2', '1200c80b-c043-4107-b219-d8434bb59436', '46b42847-cc6e-47d0-a9d0-4c60d7462585', '52b9b99b-1afb-475a-9542-beb9f3e3e744', '54eda356-3b55-4869-9003-ccda5353fc40', '65da8fab-b963-4223-bde8-251d9b0157e4', '68f52f13-d92d-4fa2-a02a-32fcf07d36f7', '88c3e101-b4f1-4615-aa46-e7f7cd741243', '106e3b1d-927f-4b08-90eb-d4aaa7537fa5', '203d019c-bada-4ebd-b84c-1ce02ca99da0', '425f989c-f851-4482-bf8f-21f1d0221efe', 'af4aa0b6-3f2e-4bcb-b8e0-48a3746713de', 'b0dc3d28-6130-4bf0-af9d-e452b8940556', 'b6a1ec22-ada4-466d-86e8-70c1fe8728fa', '4469aca9-5006-4ded-891f-7111a0d1f76e', '024634d4-8074-4e5b-aae2-02f1993bf8d8', '30454e14-e082-49f4-a49e-81b13b65b474', '76495c3e-27ef-48a6-925a-a413d6a362cf', '78155f1b-7e36-4ccc-8780-cbe0c2874639', '280845e6-c017-435b-a862-d974d8a00934', '1529086e-e79b-48ef-b6b6-93919b6f51b4', '02093869-404b-4e8b-90f9-301b028d48dc', '5684703c-8773-4065-bd77-effa2df8bdb7', '93110417-3e39-4a61-a710-4b4c21e13a28', 'a5dd3f18-9380-4a47-b423-61e3370c0b83', 'a5e5d332-4451-4174-914c-91799721abd5', 'a0430560-b66a-49a3-8daa-05a51bc0358b', 'd69eceba-0b38-4fba-9845-36b9847d9a37', 'd5ab885c-6ba9-4d21-89d4-f68aff044d8b', 'd494c391-3909-4fcf-9ad5-b2abf0bbec30', 'dbba2388-b5b6-4344-aebb-d522d82edd61', 'dc3af598-f104-435a-8d2d-aec4cfceb252', 'dc90275d-911c-49b7-b681-e7967d4df770', 'b9b2f22c-b161-4f71-9cfd-00110d16f019', 'b9b366dc-3162-4520-b63f-7db976fb9830', 'b0280e63-1d65-442a-9a8c-463cf5204705', 'b7333beb-c0c2-446c-beaa-8d9e91ac63bf', 'b4993855-752e-4128-a47d-a7aa28a2768c', 'b8412979-0ee8-4e93-b22e-a5d5502b2fc3', 'bb65e1e2-faa4-4544-9871-29eb42a8c7cb', 'c92ac27c-ca11-4745-9c37-0d1c3714676f', 'c122f90d-1c17-493c-a494-79b564e8fb6f', 'c7019b27-0ebd-41bf-914c-d70d615679ae', 'ceff45ec-b687-4675-a18e-5c66759218d5', 'f73c6fbc-7046-4282-ae12-97228d2e6e6d', 'f146e5ca-636f-40f2-a6bc-8b5d85a4dedf', 'fc4ad89c-fc97-42c3-be70-0c2494e18677', 'fe146bbb-973a-4b07-abb0-b4301c6660c4', 'ffd8901d-7c2a-4aae-8412-0bb2bcbc3328', 'fff7a7fd-7548-48bb-81b4-d18422cd5d7d', 'dcc91348-975b-4972-821a-9e47c43f609c', 'dd5792bc-6ad2-416b-86d4-1e4ca847247f', 'ddb18fcc-8a03-4504-8571-c3d27657fda3', 'df6d7859-8e85-4e49-9f44-279f860049cb', 'e0faab12-991f-4867-874d-20881e9e40fc', 'e9c9c4ab-eb26-40b3-89fc-3bdeb22e5b6a', 'ede9ec89-07b8-4ab4-874f-555ff1736b24', 'ee657a84-9986-4c30-8bee-0079710962d0', 'f1ea7b8b-ae8f-43c4-a39c-acc0dd4f6547', 'f4ba3f64-f551-41b1-bf2e-ffb652c77813', 'f38ceef0-8ff5-4582-8408-1d0eb6aa3fe6', 'f54f5cf5-79a1-44e6-8970-317ea13dfe7d', '8e263e7c-343e-4043-b123-736bd7b326e7', '10d3c638-ec21-46d0-9856-ea2ee7bbe3ae', '33c57eb8-2c81-4bc1-8784-0a3b2dc77693', '61fd8b05-12ed-46f0-9f2a-34c29c1195ee', '0dd71c05-dc32-4caa-a62b-871356f01a9f', '1a2d9f27-fc0a-4afd-93dd-4b28c2172506', '1c405233-92dc-4f05-9672-7e37058265ed', '4faa16b7-fe60-4ca8-9da8-c6a25fb21a20', '8c36895e-b39b-4cea-8b78-b5025f55b823', '12851d36-ec66-4fe5-8639-3dca6193d188', '15870a47-c33a-493d-8f78-bb2c079d8826', '98232f9e-d694-4636-adcd-1fbb1a4503d9', '844522c9-8869-4586-b58b-57dc9e3847b5', '02553954-f7a9-4a76-8019-6d1abfe6e5e2', '64ced985-db71-417d-8a97-1ee9ce316b5d', '436adddb-eea8-47b6-95e9-d91ca5238ebc', '802ac818-79e0-4b8d-822e-72ccef9c592a', 'e345e237-e80f-4bd1-8ea4-80933ef8be20', '7693483e-9d08-496f-85c9-10376907c3d7', '76115890-8f6f-4949-b3f1-b3f521950995', 'a30179d4-2f6f-42eb-b501-173c76b4d0f1', 'b94c1271-5d50-4b47-8df4-f31671550282', 'b3444b4c-ecd0-4e54-989e-caea25a1cb4c', 'cc16d26f-d030-4e03-8e53-f1c8940baaf0', 'd495307f-8f74-4ed2-b371-7d8637112738', 'cff722be-8f16-4236-a670-8c266d9b99cf', '17f275a0-125d-473b-821a-50e3e0578f77', 'a1326dda-e159-4861-9859-0af79df91421', 'f933163d-4108-4b1e-9f31-a74f7d521cf4', '85cdb4f5-384b-442b-8bcd-7137da51dffb', '159b8b0b-fc2b-4d7b-9467-79c055d084aa', '331af748-1cef-4bb9-acfd-d29e5b1d59cc', '72465382-b86a-4791-9e82-1b361c5a12f3', 'b7362e2f-68f6-4d9e-996d-77c4cdc7b2de', 'b9943603-2f6e-4016-8686-ed2f7e2450ee', 'c84e2ef9-0df4-4ad1-bb40-e12369817b27', '97f23161-09f0-4804-8de1-5d7f558d8cfe', 'a33131d5-e05f-4509-8150-44c113f10a6e', '8c9d8f49-176e-458f-aa66-31b76ecf9394', '41b4c14c-1043-43e0-a07e-700130a220a7', '95e14540-456a-42c0-9694-392e9d0a9da0', '30375a84-97ae-47d8-9fbc-c774b2dc8c26', 'a63e7534-34fc-4850-ade1-d90579eb58a1', 'ea0d2571-4538-484c-9702-19c28581676e', '35d20c95-7689-4f59-b490-97a959f7d960', '32c43a3b-8098-4f78-ab4f-5abaf6564dd3', '836ecd85-fc1e-4545-9545-8ab30f23f134', '118760ff-0315-44bb-aa97-683bd0073405', 'db8e5f22-74c1-4056-8229-176854d7cdaf', '7366075d-4277-4fa3-a704-e7bd235dde3d', '590fe193-47e1-4ae8-acf3-efdd03a03f33', 'fe91feb2-2d7c-48cf-b0a4-b6f88de925c3', '9fc628c2-1595-42c9-ba5e-ca97cb74da2e', '47814f8e-0108-42b3-8e22-95af985c1fbe', '29389307-c357-4038-b21b-8a25fa28a505', '4b4d8f52-100f-45ad-b28f-4e24bc16c9ee', '92625745-51c2-4b1f-8ccc-48c5d900650b', 'fa6d6c21-089d-4193-9660-aedfda43e5ce', 'cf957154-a820-4921-a46c-b931bcb6185a', 'f90ce86b-9175-4dc1-9688-d87e9a93527e', '0c10112b-7bd4-4d27-ab8b-e7df81ef432f', '48841844-b5fd-4066-b5f1-5cce4264eb9e', 'bb841ae8-185a-4cfe-b576-b71bdd2556bd', 'f4f84d09-90f9-4fcc-b18b-fdbff9ac04c9', 'fb182750-de46-4b80-9f96-adbc1d673637', '2759379e-5dcb-4c1c-b885-c5dbe030b265', '47a594da-8511-4e84-8588-ddb966628d2a', '712a3499-a872-4882-8a70-8bb7ce83cbda', '6c6c19a6-797f-45fb-aaed-867f1ba38a9b', '5ea26b02-f454-4abb-b730-7fce2200abaf', 'b13f97e8-2dec-438f-ad6b-55093ce5c115', '084e8cbc-2417-4bd0-a704-cff3077fcea8', '3f1fcd15-684c-4920-985a-c83e9279ad37', '8b7dd54a-3955-4135-8680-ad7e0bce4774', 'd9c552e0-3704-46c4-a5b1-8df34ab320a8', '31ef3de3-0013-4484-a871-8fed7b088daf', 'ff9cf029-1457-480a-bae5-f11fcc66f571', 'ff9cf029-1457-480a-bae5-f11fcc66f571', 'c2754d9e-bdf5-4d65-8e22-abeb1cf315ca', '39765007-c147-4df3-9a99-373cd693ce59', 'edef00c2-0603-4a4b-8ddc-cf5adc1068f5', '4be3ca73-d530-4e1a-ba8a-e06688401adc', '6e23e8b2-ed38-4b41-8fe6-df3c80a02bcf', '3cae0dc7-670f-4601-8b08-18cfe82eef52', '9f05d676-20c6-47d0-b674-8642deb56740', '3750c5a2-4421-4e36-92e8-9e832a85f2f6', '886226ba-a86f-4f7b-80cb-967f6a8ff477', 'edf3b010-c9f8-4aa8-b6d7-0f2f54dd72f3', '9872f500-58ea-43e4-80be-bf679fac8839', 'bb1d9125-65ec-45eb-ac95-93b48f484e23', 'c57f252a-53cf-404d-9b09-4c808adb128e', 'a55429f4-37c7-499f-b1a9-6b3168d3ba85', '673cf000-8553-4bbc-85f8-7924eae683c3', 'a5530b76-e5a0-437e-9e2b-9b7c62fefdea', 'f7307313-b0fa-4525-93e0-4b149103454e', '70f9c820-abb4-4e44-ae74-eb1aa70493ff', '70fc252e-ca42-4757-84b7-832604025432', '10974bb3-dc97-4ccf-bf4c-10deeb2c9624', '42840308-bf04-4dfe-9f26-f716e881e59e', '88f555f3-3274-4030-864b-048d9098de50', '11ecb9b0-56d8-4591-84b5-a170cabbb7ed', 'b70254b5-2352-4fe3-8906-d3ce37aa0202', '566caa6c-ccaa-4575-80a6-b80ea4689e04', '444c272b-dd13-4cfe-8b2d-29099d529846', '8992dde3-e53d-4ba3-bb35-38a53937cd01', '758fdc3f-b208-4eca-9359-a4baa4895353', 'efa7ad0a-edee-4104-baef-df69b8e2113d', 'b76f0a03-fe1b-4dc1-9a31-e02efc06570c', '1f619114-950a-425a-b604-b97634c89b30', 'b2812202-b0bf-4914-8a03-1c6a70638fc8', 'ee9f06e0-27ce-40b8-a980-3738c808eb59', 'e179a374-2c8f-4226-b5f2-1233fb8be385', '9fc2714b-6783-494b-8a24-88cc18029f82', 'e2949827-5a0d-4180-944e-f8a62400e68d', '7b96c221-0def-4750-bd14-2b88d0b156c5', '0a4ade59-e9fb-4a4f-ab81-7c2324918108', '1ac6a356-1d97-4a8c-a8a6-799c68e3a908', '3a75a47d-8209-430c-ba25-3621847553c0', '4ba35c46-4dad-4cdc-8698-dedc1f9292ff', '6c8bb6f4-7a5b-4293-8afb-959906ac971d', '6e784ecb-7dde-4612-8f1b-af5b13bb9c5e', '9c3ef984-0a46-49ea-97da-2098e7deb093', 'f9f11b64-407e-4c15-8c83-7b1ba44ef07c', '105cb7cb-f2bb-4c47-836a-e314faaa184c', '382e98f2-aacc-4024-8ef6-0ada0ee4526e', '17d59669-c29c-4a6b-b462-5602a20c13a9', '924126ea-7cf9-428c-a2a6-2c7d82edb189', 'c4792c74-6dab-41a1-9f29-9cd89fdeae79', '5a2aa5b2-659f-46e9-be04-af0e8f4c7eb2', '34f3686d-576f-47e1-8aa1-51c98df2779e', 'd415f780-ce1b-40b4-8171-092babdab743', 'df658a18-ab30-488b-91a0-d4ad76cc3ca6', '5b59fabd-3f71-45d7-8e4b-4231f4609759', '00d1c386-582d-4b11-9c1c-2b03f3049ac8', '0c897835-4db0-4ed4-95bd-27a6718980d1', '5c2ce059-ddeb-42f1-b85b-a741a22a5b22', '8d27f39a-9d8d-4af5-a3e0-98a16f345fab', '96a08a46-a1fb-4a43-9c05-2736becc0e50', '9315bfb4-9000-485c-bb27-1f552b23460d', 'cf88a064-1606-44a4-bd29-98c778759938', '10b431c3-a962-4bdd-8618-e35108b7af4d', 'f5607a7f-09bc-413c-ba2a-213211357208', '18495e54-4b8a-42bb-87f9-631fe33b3736', '42ab2447-17a4-4f7a-99f1-e1339e8c47c1', '54cc45d6-abc8-44c6-bd79-0d64bcbc1669', '95d092a7-5958-4c82-80a8-d83d0137d67e', '451b11bd-6ef0-4e31-9735-4141e477d62d', '5303e94b-b893-4029-954f-9f4420b0b29b', '80736a99-9ea9-420b-b33c-8ff1ef664f77', '742731b3-03b1-40fa-b4a9-0b5550c2fd16', 'a8b71056-9b9c-4280-8737-91d1e63c4488', 'b3b73cf9-4c96-4d79-847c-4ff62ba796dd', 'b5a2822d-09e6-4805-b78e-460c4aa08eaf', 'd997f47f-3c29-46c6-a5dc-04e677fcbba2', 'f2cf74e7-ce32-4e41-ad54-aa7d9d8dd9f0', 'f80118d2-5a01-49ce-96e4-6d4816b56d62', '6a814ae1-3816-460a-a399-cd80a9c48586', 'b1dbb9ff-009b-4285-be99-1d1fc13b0c8e', 'b2a0f06c-ca01-434d-add5-00d411782681', '10b431c3-a962-4bdd-8618-e35108b7af4d', 'f5607a7f-09bc-413c-ba2a-213211357208', '18495e54-4b8a-42bb-87f9-631fe33b3736', '2a98d796-e32b-4db5-8431-29b618dc2284', '1c4900b8-39e7-4f25-9a33-8b0a80140597', '6fbce4dc-3dab-470e-9e6c-f08ac6654b94', '11a876c7-02bd-44e5-bb5d-d4257c3ebb16', '73c7240e-1065-490c-9214-57dafc81d8a4', '15869d56-0ffb-42f9-bc49-741d3ee9ee4a', 'fdc3c990-7226-4c93-8b6d-347606f18382', 'f32424b3-158e-4606-b4bb-090beea89934', '9663e0fd-39c4-48ae-b3a5-728a5157ec10', '1e951193-e7a7-4efe-a449-3b214673da73', '5f145fee-9a0e-4319-b4e1-7e9932a11160', '288ede5a-8445-4fb5-ad6b-a46e2b1d91bc', 'bf74b8a6-cdfa-4bad-afbc-018fc571cde8', 'd71431df-43b8-4bac-8f10-2a1f6891e484', 'e2f729ac-44fd-49c6-bb86-11c35c3857dd', 'e5a877fe-7f29-41cd-8611-0f5c5c8c5846', 'e1542114-3dde-44af-b642-6ec3a59875f8', 'f225cbd6-f573-4295-aa05-3cf5575eb822', '6e97b0a7-44ef-4677-b6fb-33d0a51a9e8e', '0ff19db7-93fd-48be-a621-aa7496a1ab0a', 'e580235b-5726-47a3-8827-60b96b947b73', '44adcc1b-7e3c-4783-bafb-43b7ea77bd11', '101edbe9-62b4-4b23-889e-678a07ad09a1', '303d2f86-d7c3-4e3c-bda9-ecb495d5c3f5', 'b86fc21e-9440-4021-a31e-c1b0d0ebf2fe', '7c7add17-978d-4db6-8da2-5a1473c4c8eb', '6863ef9f-57cb-4558-85a1-82487e0d1fdc', '6e373352-cead-4181-a2e3-8ab7d0ed4c82', 'c70734b1-5e9c-49bf-bec8-289e1428d7a4', 'f5d0c27f-56a2-4828-8359-352a0160f05f', 'c02dcc46-41cc-441a-a159-505e7eb37b82', '0009d363-a7a9-42cb-9c8f-75531447ba7a', '00a508a0-1a79-4fc1-8c9f-6cc30645ead3', '0b2c9eec-e213-4595-8a48-256ce5cf52ca', '2b6ace40-17c8-479a-a674-183e69262583', '2f6c6202-4730-4969-9c8f-a1542d3e3b56', '5fef0cd5-9ba4-47bc-a57a-4d91284335bb', '6ac302a5-f48d-4931-b44a-eeceddb9cd05', '9fd994e3-a445-4437-8609-fa1ea8d9ab7c', '532b7420-ff84-46f3-bf57-4aef6ec95f1f', '8775c7b4-58fd-49e9-9ea2-0c73b4af1c76', '9193f21a-e2f9-4e7f-976e-9fc7f924785b', '29481178-130d-40f0-907e-efcdc18e5547', 'a3a4e3f8-fe05-435b-8b09-1ff70bc81190', 'd6bce086-15b4-4bc7-983e-2221c0820922', 'ec5ee7d9-cb75-4cfe-a716-b2ba1758f076', '01f9a52c-2645-4cfb-8082-6870660930d1', '6ee04366-231c-46e3-9821-eecdbbb5c381', '579bfd09-588b-41f2-9882-7ae26e21cce3', 'e650bb6d-293d-4e9e-b4f3-ec728c5d5dbd', '7a116860-879a-40be-9ab3-07457af174c2', 'c5889a8f-dd6e-42ac-81e0-19ae65adf8a6', '91648e17-0817-4398-9892-cf0b3cee45c8', 'bd6c1cba-cfa3-4ff2-8bdf-ce69ec595c8c', 'f0d7a063-c799-45cf-80ab-003c421bc77c', '886d1e04-74f8-4ebd-b463-f6a246d9f613', 'd8c8d687-ad6e-411c-9dd6-956ef56964c4', '41159ab7-871d-4b4c-adad-503edfaedacc', '32db8191-1d38-49f8-8c60-e2246c79f4df', '48224599-083c-4544-8297-f28faf690060', 'eabdcf3f-58ab-4b0c-9725-5b58cb7f59e5', '67c6548b-23c3-4025-82f2-af87b980a0c8', '789286db-2801-4377-8f9e-ca0b8bfcb4a5', 'd21260a1-80ca-4e41-861f-e362792f429c', '6b8f738c-4248-435d-a9c5-7ae1153f6b8d', '9f485c74-6531-4673-9329-526b6c291d85', '79cd5dd8-d313-46ab-a46a-461f4be441ea', '44790e2a-0614-44e2-a4a9-7dc391256aac', '62407541-a4dd-43a2-a23b-f1d6142a12e5', 'f632437d-8180-4fd6-8b0d-e4b72b827ce8', '9ed80b1d-58a6-45c9-8d9f-4a72131f1dbd', 'e89c0502-0b59-4542-a5c6-171d0d24fd73', 'a6aad5e3-de98-4566-8482-ade1be8d7076', '627e1bf6-ada5-47e4-9842-e834442e9dc4', 'f557b309-f24b-4271-8420-7fd1b198a00d', '9a796548-501a-4eb9-b52d-60e690323044', '5caca0aa-482e-419e-8afb-0e26b52f3f57', '01ef6fc8-b34f-4239-8504-8f52e620285b', 'f89589ca-973a-4c70-ab65-e054d1baf6f2', '46304319-af19-45cd-ad57-9b8ec32ae61a', '9cec87e3-82e3-486b-bb13-22c9703d826f', 'c47098a4-4df1-45f6-b4b2-533546a44cbf', '78e02f7e-7b72-43c2-96f4-fad263993eb3', 'edc7c5e6-65ff-4ce0-ad17-5ee8035c0c29', 'b5e04be7-c94a-4b86-a1f9-1b4d84ec9a17', '8f48920f-c369-485a-8214-760822f1d5fd', 'b1099866-2e58-4903-a00c-5ba6f3d95791', '40cb1ef8-a55b-415c-9c49-1584a267db81', 'c133fb52-6729-4353-a7b5-4d618994eaa6', 'e04401c6-9f8d-4376-954a-ddc3ed96ce06', '205c9876-8604-496b-b4fa-5ad8f0c021be', '5ff369b6-f6b4-4faf-a094-c365a0ebeba3', '5e87ef78-a4e7-4368-8878-7aaa6bfe49f8', 'd18f6b38-a7ef-48eb-83d2-1562e3a9e428', 'd349a58d-b557-426f-8bc8-0959ff8baaf5', '02fa73dc-c77d-4d7e-a78b-7773711f5888', '5cefcf5c-536a-42e1-8245-7ffe820e01e8', 'c2c6d1db-d5f1-423f-940e-10254cbeb4da', '1f4f0f28-bd2e-4e7a-a288-541456fc8243', '63b39c31-7a19-4a5f-b035-e733ba012ed6', 'e923a359-d021-468d-abc7-ff59f15eff1b', '8db4979a-9486-44dd-b2b7-f8da9a1b4655', 'e6ef0cc1-b8ac-416b-a9ab-c374fa6b0d30', '5c3fecab-0e64-4e5b-b756-2dcd9791cb84', '9d3fffb3-5972-4f98-9839-83d0f4a5e0cb', 'da1fffc0-a189-4ffc-b085-fb92680ea61e', '703f8c43-924e-42d0-9c9e-f798ef9fa997', 'ebc4c3d4-1c74-4039-b927-7281dd19a08e', '5b000ee4-e803-4ce7-b463-359b9dd302de', '7604858f-3be9-462b-a903-4f27091f8027', '65f5183f-111f-4923-b4cd-5c57506c1d7e', '2e365914-d72e-4241-a311-a575b609d442', 'b0160dd7-9c6e-42d9-99fc-c1ef1e6ead15', '3f7d4ece-5dc9-465d-a50c-c68986c5bb4d', '8f07cc75-daf6-4653-a310-7d136ab7d762', '9b81b233-e85f-4ea3-a70e-d0a3d5ce1f43', '9c61c060-60f0-429c-9b0d-61bd8e00b57a', '93419680-0094-4222-9aae-d6887a5278b6', '4e61f66d-ab6c-48eb-a493-2ae8e6a0228f', 'fc166b40-2b55-4f4d-ba4b-0b3436283c85', '2d3c7831-0c5b-4113-8da3-39bbbd54aecf', '5a9f836b-8117-4898-88eb-be9b56a4a697', '68e76a80-6d42-4090-aa3a-36a36b7d8713', '75b7a19f-a43c-4e31-8dc5-bcd8d64b94aa', 'f2b1db72-fec6-4617-86f1-11c5a938e79c', 'fbb754b1-e0d1-42cd-8f70-966c7604d00d', '116d4c18-a82e-4488-a779-4d94819ff092', '878994b6-6841-4d85-a0c2-38bdb8479244', '15033491-be16-4709-a1ed-85c4f0997638', 'b68a4ce7-0fd9-417e-981e-022545bdf11e', 'be516e6d-1bfe-4284-b0f0-74746644a488', 'cd444197-e7e4-448a-92e7-464bcb8d367a', 'd7dab100-13ed-4f3e-8296-30f51b1cc5dc', 'd51feef7-6e58-40f0-866c-313a896d4ff2', 'd251a736-29ab-4497-87df-b474f20c51ad', '3ac03304-5939-4d4a-8f5b-a7b21280b5e8', '94bd5b63-6775-4a1c-b50f-a32836ff3fe9', '4ba8b430-5a18-461b-ab3e-50ee55a6d885', '5b73791b-98cd-40e7-beeb-bf084487fe19', '32c47427-b07e-468e-ac25-8d182f21d017', 'ff6c7da2-0739-4e97-8394-929d90e35901', '63d31dff-cd4a-4919-8444-a6600148a1ea', '89d42521-2f59-44e1-a976-4c6d75cffc7c', '0cd6d58e-2089-453a-9075-c0c451a6cb0a', '4e396d22-e643-429d-90b2-23b4dae98b5d', '05e5f36f-0cd2-431f-b5ca-55dbd5ec6e8a', '9c65a55e-9147-4282-a41c-96867f377e80', '15d38c6d-c551-496f-9ab7-a10db9c6270a', '51a8acfd-4269-4069-b3c7-044020d16efe', '465f94d0-680e-4990-92e1-1b3092163fe9', '3426da32-7623-4a1a-b78c-e4820b3c6e36', '67326676-7b6b-45a4-a12a-ba6634e5093e', 'a6ac72b6-1c56-4114-aa58-590d98f9a14d', 'ad5ef0a4-6596-4c32-9f28-1d3bbecfd8b0', 'b8e8be2f-2f32-43a4-992c-638b95e22a89', 'b354a51a-e13b-4caf-8fc0-7d2b1dc65699', 'b400751f-9ac7-4d05-895d-aac09cc15155', 'c76f0f8d-d811-48bf-b3d2-2d4061f05f17', 'cff31c85-07f5-4a31-8db5-d147c70bd735', '284043e1-84fb-4f3f-a4e9-46073d0feaba', 'ade064bc-b81a-4df3-aab3-28bf48be27bd', 'c760010c-adec-483f-970c-5d19480c7c18', '0deaffa4-bf91-4b3f-bb8e-400f6dcd1412', '3de9225c-50ff-44d2-aac3-f99ccdaf203d', '14e048f9-ba31-4794-8954-d0c55aa9c611', '28e223fd-a9d0-4f01-95b8-dc3bcbb50ea1', '3ae8f3e8-a0ed-44b5-a919-0d4c17cfa554', '3f4f9482-fba5-4af1-827e-2b9f3b86b309', '4c4f4161-a8e4-433d-aef8-122d92276a04', '5b0a4eeb-a099-47de-ad0a-125c3b143cb1', '5fc0b365-bcd3-47a3-90dc-bbce9baaa18a', '1e3c5438-4350-4939-9c33-89bac5fbd39e', '2c9b84f7-c619-4798-9cb0-1e7224b84ace', '2d03777b-ece9-440e-85f2-56c12455e743', '2e2a11bc-e6b6-4847-b56a-38e504580391', 'f950bbad-1b69-4917-944b-be495a9ed973', 'fd86db14-4a8a-4746-906d-6cd3a54a4654', '6b88664b-10e3-45ba-a263-502bab53f9ae', '7a923d3a-4b5a-4046-9d81-2c9f7129e90d', '21e07103-bdc5-4c63-85a2-d3b11f74a01e', '85b50065-6608-4575-ae2c-a4d94927f185', '85ce0a67-202f-458e-9c26-565efa476913', '0180d9aa-1412-48d3-b293-e88fb55c6fd5', '562bd1d1-2af9-4b7c-a241-3c72bb257fd8', '677be5f5-954c-4807-85e8-dad5c8672216', '6829c11e-7a00-49bb-bda1-22b763a09929', '9254e5df-0ac8-407a-ab77-788c5624c34c', '62733be0-1f1b-4c2d-9992-c796691042ea', 'a326d760-3cc5-4afa-a584-ae879a239a29', 'bdaa05e4-086e-4abc-a54e-1e6880e37a18', 'c5164a7d-bff2-4b11-94fe-e8a04c156cf3', 'ce451a1f-37d5-4889-b373-5d12ebcf9fbf', 'd4ae1259-ed8e-437f-a849-37b50927cd00', 'e4e08da1-2f07-4927-8de9-7fa5986801b9', 'e093beec-2df8-4d28-8220-8bde8229787c', 'ec31579e-1879-4585-9a52-7cd525422b3e', 'f1be3ec1-7cc8-4c29-a402-dfeddd9c565f']\n"
     ]
    }
   ],
   "source": [
    "import pandas as pd\n",
    "\n",
    "df=list(pd.read_csv('D:/Data/2023-03 Elia Substation/not_built.csv').to_numpy()[:,0])\n",
    "print(df)"
   ]
  },
  {
   "attachments": {},
   "cell_type": "markdown",
   "metadata": {},
   "source": [
    "import cad"
   ]
  },
  {
   "cell_type": "code",
   "execution_count": null,
   "metadata": {},
   "outputs": [],
   "source": [
    "cad_dir='D:/Data/2023-03 Elia Substation/BLOCKS_ply/'"
   ]
  },
  {
   "cell_type": "code",
   "execution_count": null,
   "metadata": {},
   "outputs": [
    {
     "name": "stdout",
     "output_type": "stream",
     "text": [
      "[Open3D WARNING] Read PLY failed: unable to parse header.\n",
      "[Open3D WARNING] Read PLY failed: unable to parse header.\n",
      "[Open3D WARNING] Read PLY failed: unable to parse header.\n",
      "[Open3D WARNING] Read PLY failed: unable to parse header.\n",
      "[Open3D WARNING] Read PLY failed: unable to parse header.\n",
      "[Open3D WARNING] Read PLY failed: unable to parse header.\n",
      "[Open3D WARNING] Read PLY failed: unable to parse header.\n",
      "[Open3D WARNING] Read PLY failed: unable to parse header.\n",
      "[Open3D WARNING] Read PLY failed: unable to parse header.\n",
      "[Open3D WARNING] Read PLY failed: unable to parse header.\n",
      "[Open3D WARNING] Read PLY failed: unable to parse header.\n",
      "[Open3D WARNING] Read PLY failed: unable to parse header.\n",
      "[Open3D WARNING] Read PLY failed: unable to parse header.\n",
      "[Open3D WARNING] Read PLY failed: unable to parse header.\n",
      "[Open3D WARNING] Read PLY failed: unable to parse header.\n",
      "[Open3D WARNING] Read PLY failed: unable to parse header.\n",
      "[Open3D WARNING] Read PLY failed: unable to parse header.\n",
      "[Open3D WARNING] Read PLY failed: unable to parse header.\n",
      "[Open3D WARNING] Read PLY failed: unable to parse header.\n",
      "[Open3D WARNING] Read PLY failed: unable to parse header.\n",
      "[Open3D WARNING] Read PLY failed: unable to parse header.\n",
      "[Open3D WARNING] Read PLY failed: unable to parse header.\n",
      "[Open3D WARNING] Read PLY failed: unable to parse header.\n",
      "[Open3D WARNING] Read PLY failed: unable to parse header.\n",
      "[Open3D WARNING] Read PLY failed: unable to parse header.\n",
      "[Open3D WARNING] Read PLY failed: unable to parse header.\n",
      "[Open3D WARNING] Read PLY failed: unable to parse header.\n",
      "[Open3D WARNING] Read PLY failed: unable to parse header.\n",
      "[Open3D WARNING] Read PLY failed: unable to parse header.\n",
      "[Open3D WARNING] Read PLY failed: unable to parse header.\n",
      "[Open3D WARNING] Read PLY failed: unable to parse header.\n",
      "[Open3D WARNING] Read PLY failed: unable to parse header.\n",
      "[Open3D WARNING] Read PLY failed: unable to parse header.\n",
      "[Open3D WARNING] Read PLY failed: unable to parse header.\n",
      "[Open3D WARNING] Read PLY failed: unable to parse header.\n",
      "[Open3D WARNING] Read PLY failed: unable to parse header.\n",
      "[Open3D WARNING] Read PLY failed: unable to parse header.\n",
      "[Open3D WARNING] Read PLY failed: unable to parse header.\n",
      "[Open3D WARNING] Read PLY failed: unable to parse header.\n",
      "[Open3D WARNING] Read PLY failed: unable to parse header.\n",
      "[Open3D WARNING] Read PLY failed: unable to parse header.\n",
      "[Open3D WARNING] Read PLY failed: unable to parse header.\n",
      "[Open3D WARNING] Read PLY failed: unable to parse header.\n",
      "[Open3D WARNING] Read PLY failed: unable to parse header.\n",
      "[Open3D WARNING] Read PLY failed: unable to parse header.\n",
      "[Open3D WARNING] Read PLY failed: unable to parse header.\n",
      "[Open3D WARNING] Read PLY failed: unable to parse header.\n",
      "[Open3D WARNING] Read PLY failed: unable to parse header.\n",
      "[Open3D WARNING] Read PLY failed: unable to parse header.\n",
      "[Open3D WARNING] Read PLY failed: unable to parse header.\n",
      "[Open3D WARNING] Read PLY failed: unable to parse header.\n",
      "[Open3D WARNING] Read PLY failed: unable to parse header.\n",
      "[Open3D WARNING] Read PLY failed: unable to parse header.\n",
      "[Open3D WARNING] Read PLY failed: unable to parse header.\n",
      "[Open3D WARNING] Read PLY failed: unable to parse header.\n",
      "[Open3D WARNING] Read PLY failed: unable to parse header.\n",
      "[Open3D WARNING] Read PLY failed: unable to parse header.\n",
      "[Open3D WARNING] Read PLY failed: unable to parse header.\n",
      "[Open3D WARNING] Read PLY failed: unable to parse header.\n",
      "[Open3D WARNING] Read PLY failed: unable to parse header.\n",
      "[Open3D WARNING] Read PLY failed: unable to parse header.\n",
      "[Open3D WARNING] Read PLY failed: unable to parse header.\n",
      "[Open3D WARNING] Read PLY failed: unable to parse header.\n",
      "[Open3D WARNING] Read PLY failed: unable to parse header.\n",
      "[Open3D WARNING] Read PLY failed: unable to parse header.\n",
      "[Open3D WARNING] Read PLY failed: unable to parse header.\n",
      "[Open3D WARNING] Read PLY failed: unable to parse header.\n",
      "[Open3D WARNING] Read PLY failed: unable to parse header.\n",
      "[Open3D WARNING] Read PLY failed: unable to parse header.\n",
      "[Open3D WARNING] Read PLY failed: unable to parse header.\n",
      "[Open3D WARNING] Read PLY failed: unable to parse header.\n",
      "[Open3D WARNING] Read PLY failed: unable to parse header.\n",
      "[Open3D WARNING] Read PLY failed: unable to parse header.\n",
      "[Open3D WARNING] Read PLY failed: unable to parse header.\n",
      "[Open3D WARNING] Read PLY failed: unable to parse header.\n",
      "[Open3D WARNING] Read PLY failed: unable to parse header.\n",
      "[Open3D WARNING] Read PLY failed: unable to parse header.\n",
      "[Open3D WARNING] Read PLY failed: unable to parse header.\n",
      "[Open3D WARNING] Read PLY failed: unable to parse header.\n",
      "[Open3D WARNING] Read PLY failed: unable to parse header.\n",
      "[Open3D WARNING] Read PLY failed: unable to parse header.\n",
      "[Open3D WARNING] Read PLY failed: unable to parse header.\n",
      "[Open3D WARNING] Read PLY failed: unable to parse header.\n",
      "[Open3D WARNING] Read PLY failed: unable to parse header.\n",
      "[Open3D WARNING] Read PLY failed: unable to parse header.\n",
      "[Open3D WARNING] Read PLY failed: unable to parse header.\n",
      "[Open3D WARNING] Read PLY failed: unable to parse header.\n",
      "[Open3D WARNING] Read PLY failed: unable to parse header.\n",
      "[Open3D WARNING] Read PLY failed: unable to parse header.\n",
      "[Open3D WARNING] Read PLY failed: unable to parse header.\n",
      "[Open3D WARNING] Read PLY failed: unable to parse header.\n",
      "[Open3D WARNING] Read PLY failed: unable to parse header.\n",
      "[Open3D WARNING] Read PLY failed: unable to parse header.\n",
      "[Open3D WARNING] Read PLY failed: unable to parse header.\n",
      "[Open3D WARNING] Read PLY failed: unable to parse header.\n",
      "[Open3D WARNING] Read PLY failed: unable to parse header.\n",
      "[Open3D WARNING] Read PLY failed: unable to parse header.\n",
      "[Open3D WARNING] Read PLY failed: unable to parse header.\n",
      "[Open3D WARNING] Read PLY failed: unable to parse header.\n",
      "[Open3D WARNING] Read PLY failed: unable to parse header.\n",
      "[Open3D WARNING] Read PLY failed: unable to parse header.\n",
      "[Open3D WARNING] Read PLY failed: unable to parse header.\n",
      "[Open3D WARNING] Read PLY failed: unable to parse header.\n",
      "[Open3D WARNING] Read PLY failed: unable to parse header.\n",
      "[Open3D WARNING] Read PLY failed: unable to parse header.\n",
      "[Open3D WARNING] Read PLY failed: unable to parse header.\n",
      "[Open3D WARNING] Read PLY failed: unable to parse header.\n",
      "[Open3D WARNING] Read PLY failed: unable to parse header.\n",
      "[Open3D WARNING] Read PLY failed: unable to parse header.\n",
      "[Open3D WARNING] Read PLY failed: unable to parse header.\n",
      "[Open3D WARNING] Read PLY failed: unable to parse header.\n",
      "[Open3D WARNING] Read PLY failed: unable to parse header.\n",
      "[Open3D WARNING] Read PLY failed: unable to parse header.\n",
      "[Open3D WARNING] Read PLY failed: unable to parse header.\n",
      "[Open3D WARNING] Read PLY failed: unable to parse header.\n",
      "[Open3D WARNING] Read PLY failed: unable to parse header.\n",
      "[Open3D WARNING] Read PLY failed: unable to parse header.\n",
      "[Open3D WARNING] Read PLY failed: unable to parse header.\n",
      "[Open3D WARNING] Read PLY failed: unable to parse header.\n",
      "[Open3D WARNING] Read PLY failed: unable to parse header.\n",
      "[Open3D WARNING] Read PLY failed: unable to parse header.\n",
      "[Open3D WARNING] Read PLY failed: unable to parse header.\n",
      "[Open3D WARNING] Read PLY failed: unable to parse header.\n",
      "[Open3D WARNING] Read PLY failed: unable to parse header.\n",
      "[Open3D WARNING] Read PLY failed: unable to parse header.\n",
      "[Open3D WARNING] Read PLY failed: unable to parse header.\n",
      "[Open3D WARNING] Read PLY failed: unable to parse header.\n",
      "[Open3D WARNING] Read PLY failed: unable to parse header.\n",
      "[Open3D WARNING] Read PLY failed: unable to parse header.\n",
      "[Open3D WARNING] Read PLY failed: unable to parse header.\n",
      "[Open3D WARNING] Read PLY failed: unable to parse header.\n",
      "[Open3D WARNING] Read PLY failed: unable to parse header.\n",
      "[Open3D WARNING] Read PLY failed: unable to parse header.\n",
      "[Open3D WARNING] Read PLY failed: unable to parse header.\n",
      "[Open3D WARNING] Read PLY failed: unable to parse header.\n",
      "[Open3D WARNING] Read PLY failed: unable to parse header.\n",
      "[Open3D WARNING] Read PLY failed: unable to parse header.\n",
      "[Open3D WARNING] Read PLY failed: unable to parse header.\n",
      "[Open3D WARNING] Read PLY failed: unable to parse header.\n",
      "[Open3D WARNING] Read PLY failed: unable to parse header.\n",
      "[Open3D WARNING] Read PLY failed: unable to parse header.\n",
      "[Open3D WARNING] Read PLY failed: unable to parse header.\n",
      "[Open3D WARNING] Read PLY failed: unable to parse header.\n",
      "[Open3D WARNING] Read PLY failed: unable to parse header.\n",
      "[Open3D WARNING] Read PLY failed: unable to parse header.\n",
      "[Open3D WARNING] Read PLY failed: unable to parse header.\n",
      "[Open3D WARNING] Read PLY failed: unable to parse header.\n",
      "[Open3D WARNING] Read PLY failed: unable to parse header.\n",
      "[Open3D WARNING] Read PLY failed: unable to parse header.\n",
      "[Open3D WARNING] Read PLY failed: unable to parse header.\n",
      "[Open3D WARNING] Read PLY failed: unable to parse header.\n",
      "[Open3D WARNING] Read PLY failed: unable to parse header.\n",
      "[Open3D WARNING] Read PLY failed: unable to parse header.\n",
      "[Open3D WARNING] Read PLY failed: unable to parse header.\n",
      "[Open3D WARNING] Read PLY failed: unable to parse header.\n",
      "[Open3D WARNING] Read PLY failed: unable to parse header.\n",
      "[Open3D WARNING] Read PLY failed: unable to parse header.\n",
      "[Open3D WARNING] Read PLY failed: unable to parse header.\n",
      "[Open3D WARNING] Read PLY failed: unable to parse header.\n",
      "[Open3D WARNING] Read PLY failed: unable to parse header.\n",
      "[Open3D WARNING] Read PLY failed: unable to parse header.\n",
      "[Open3D WARNING] Read PLY failed: unable to parse header.\n",
      "[Open3D WARNING] Read PLY failed: unable to parse header.\n",
      "[Open3D WARNING] Read PLY failed: unable to parse header.\n",
      "[Open3D WARNING] Read PLY failed: unable to parse header.\n",
      "[Open3D WARNING] Read PLY failed: unable to parse header.\n",
      "[Open3D WARNING] Read PLY failed: unable to parse header.\n",
      "[Open3D WARNING] Read PLY failed: unable to parse header.\n",
      "[Open3D WARNING] Read PLY failed: unable to parse header.\n",
      "[Open3D WARNING] Read PLY failed: unable to parse header.\n",
      "[Open3D WARNING] Read PLY failed: unable to parse header.\n",
      "[Open3D WARNING] Read PLY failed: unable to parse header.\n",
      "[Open3D WARNING] Read PLY failed: unable to parse header.\n",
      "[Open3D WARNING] Read PLY failed: unable to parse header.\n",
      "[Open3D WARNING] Read PLY failed: unable to parse header.\n",
      "[Open3D WARNING] Read PLY failed: unable to parse header.\n",
      "[Open3D WARNING] Read PLY failed: unable to parse header.\n",
      "[Open3D WARNING] Read PLY failed: unable to parse header.\n",
      "[Open3D WARNING] Read PLY failed: unable to parse header.\n",
      "[Open3D WARNING] Read PLY failed: unable to parse header.\n",
      "[Open3D WARNING] Read PLY failed: unable to parse header.\n",
      "[Open3D WARNING] Read PLY failed: unable to parse header.\n",
      "[Open3D WARNING] Read PLY failed: unable to parse header.\n",
      "[Open3D WARNING] Read PLY failed: unable to parse header.\n",
      "[Open3D WARNING] Read PLY failed: unable to parse header.\n",
      "[Open3D WARNING] Read PLY failed: unable to parse header.\n",
      "[Open3D WARNING] Read PLY failed: unable to parse header.\n",
      "[Open3D WARNING] Read PLY failed: unable to parse header.\n",
      "[Open3D WARNING] Read PLY failed: unable to parse header.\n",
      "[Open3D WARNING] Read PLY failed: unable to parse header.\n",
      "[Open3D WARNING] Read PLY failed: unable to parse header.\n",
      "[Open3D WARNING] Read PLY failed: unable to parse header.\n",
      "[Open3D WARNING] Read PLY failed: unable to parse header.\n",
      "[Open3D WARNING] Read PLY failed: unable to parse header.\n",
      "[Open3D WARNING] Read PLY failed: unable to parse header.\n",
      "[Open3D WARNING] Read PLY failed: unable to parse header.\n",
      "[Open3D WARNING] Read PLY failed: unable to parse header.\n",
      "[Open3D WARNING] Read PLY failed: unable to parse header.\n",
      "[Open3D WARNING] Read PLY failed: unable to parse header.\n",
      "[Open3D WARNING] Read PLY failed: unable to parse header.\n",
      "[Open3D WARNING] Read PLY failed: unable to parse header.\n",
      "[Open3D WARNING] Read PLY failed: unable to parse header.\n",
      "[Open3D WARNING] Read PLY failed: unable to parse header.\n",
      "[Open3D WARNING] Read PLY failed: unable to parse header.\n",
      "[Open3D WARNING] Read PLY failed: unable to parse header.\n",
      "[Open3D WARNING] Read PLY failed: unable to parse header.\n",
      "[Open3D WARNING] Read PLY failed: unable to parse header.\n",
      "[Open3D WARNING] Read PLY failed: unable to parse header.\n",
      "[Open3D WARNING] Read PLY failed: unable to parse header.\n",
      "[Open3D WARNING] Read PLY failed: unable to parse header.\n",
      "[Open3D WARNING] Read PLY failed: unable to parse header.\n",
      "[Open3D WARNING] Read PLY failed: unable to parse header.\n",
      "[Open3D WARNING] Read PLY failed: unable to parse header.\n",
      "[Open3D WARNING] Read PLY failed: unable to parse header.\n",
      "[Open3D WARNING] Read PLY failed: unable to parse header.\n",
      "[Open3D WARNING] Read PLY failed: unable to parse header.\n",
      "[Open3D WARNING] Read PLY failed: unable to parse header.\n",
      "[Open3D WARNING] Read PLY failed: unable to parse header.\n",
      "[Open3D WARNING] Read PLY failed: unable to parse header.\n",
      "[Open3D WARNING] Read PLY failed: unable to parse header.\n",
      "[Open3D WARNING] Read PLY failed: unable to parse header.\n",
      "[Open3D WARNING] Read PLY failed: unable to parse header.\n",
      "[Open3D WARNING] Read PLY failed: unable to parse header.\n",
      "[Open3D WARNING] Read PLY failed: unable to parse header.\n",
      "[Open3D WARNING] Read PLY failed: unable to parse header.\n",
      "[Open3D WARNING] Read PLY failed: unable to parse header.\n",
      "[Open3D WARNING] Read PLY failed: unable to parse header.\n",
      "[Open3D WARNING] Read PLY failed: unable to parse header.\n",
      "[Open3D WARNING] Read PLY failed: unable to parse header.\n",
      "[Open3D WARNING] Read PLY failed: unable to parse header.\n",
      "[Open3D WARNING] Read PLY failed: unable to parse header.\n",
      "[Open3D WARNING] Read PLY failed: unable to parse header.\n",
      "[Open3D WARNING] Read PLY failed: unable to parse header.\n",
      "[Open3D WARNING] Read PLY failed: unable to parse header.\n",
      "[Open3D WARNING] Read PLY failed: unable to parse header.\n",
      "[Open3D WARNING] Read PLY failed: unable to parse header.\n",
      "[Open3D WARNING] Read PLY failed: unable to parse header.\n",
      "[Open3D WARNING] Read PLY failed: unable to parse header.\n",
      "[Open3D WARNING] Read PLY failed: unable to parse header.\n",
      "[Open3D WARNING] Read PLY failed: unable to parse header.\n",
      "[Open3D WARNING] Read PLY failed: unable to parse header.\n",
      "[Open3D WARNING] Read PLY failed: unable to parse header.\n",
      "[Open3D WARNING] Read PLY failed: unable to parse header.\n",
      "[Open3D WARNING] Read PLY failed: unable to parse header.\n",
      "[Open3D WARNING] Read PLY failed: unable to parse header.\n",
      "[Open3D WARNING] Read PLY failed: unable to parse header.\n",
      "[Open3D WARNING] Read PLY failed: unable to parse header.\n",
      "[Open3D WARNING] Read PLY failed: unable to parse header.\n",
      "[Open3D WARNING] Read PLY failed: unable to parse header.\n",
      "[Open3D WARNING] Read PLY failed: unable to parse header.\n",
      "[Open3D WARNING] Read PLY failed: unable to parse header.\n",
      "[Open3D WARNING] Read PLY failed: unable to parse header.\n",
      "[Open3D WARNING] Read PLY failed: unable to parse header.\n",
      "[Open3D WARNING] Read PLY failed: unable to parse header.\n",
      "[Open3D WARNING] Read PLY failed: unable to parse header.\n",
      "[Open3D WARNING] Read PLY failed: unable to parse header.\n",
      "[Open3D WARNING] Read PLY failed: unable to parse header.\n",
      "[Open3D WARNING] Read PLY failed: unable to parse header.\n",
      "[Open3D WARNING] Read PLY failed: unable to parse header.\n",
      "[Open3D WARNING] Read PLY failed: unable to parse header.\n",
      "[Open3D WARNING] Read PLY failed: unable to parse header.\n",
      "[Open3D WARNING] Read PLY failed: unable to parse header.\n",
      "[Open3D WARNING] Read PLY failed: unable to parse header.\n",
      "[Open3D WARNING] Read PLY failed: unable to parse header.\n",
      "[Open3D WARNING] Read PLY failed: unable to parse header.\n",
      "[Open3D WARNING] Read PLY failed: unable to parse header.\n",
      "[Open3D WARNING] Read PLY failed: unable to parse header.\n",
      "[Open3D WARNING] Read PLY failed: unable to parse header.\n",
      "[Open3D WARNING] Read PLY failed: unable to parse header.\n",
      "[Open3D WARNING] Read PLY failed: unable to parse header.\n",
      "[Open3D WARNING] Read PLY failed: unable to parse header.\n",
      "[Open3D WARNING] Read PLY failed: unable to parse header.\n",
      "[Open3D WARNING] Read PLY failed: unable to parse header.\n",
      "[Open3D WARNING] Read PLY failed: unable to parse header.\n",
      "[Open3D WARNING] Read PLY failed: unable to parse header.\n",
      "[Open3D WARNING] Read PLY failed: unable to parse header.\n",
      "[Open3D WARNING] Read PLY failed: unable to parse header.\n",
      "[Open3D WARNING] Read PLY failed: unable to parse header.\n",
      " 94 file objects.\n",
      " 2074 cad objects loaded.\n",
      " 0.8818027210884354 % of files has valid geometries.\n",
      " 1454 geometries are built.\n"
     ]
    }
   ],
   "source": [
    "cadNodes= []\n",
    "for f in ut.get_list_of_files(cad_dir):\n",
    "    #read mesh\n",
    "    mesh=o3d.io.read_triangle_mesh(f)\n",
    "    if len(np.asarray(mesh.triangles)) >0:\n",
    "        #transform to local coordinates\n",
    "        mesh.transform(transform) \n",
    "        \n",
    "        #assign presence\n",
    "        presence=0 if ut.get_filename(f) in df else 1\n",
    "        \n",
    "        #create cadNodes\n",
    "        cadNodes.append(MeshNode(name=ut.get_filename(f),\n",
    "                            resource=mesh,\n",
    "                            layer=ut.get_folder(f),\n",
    "                            i=int(ut.get_filename(ut.get_folder(f)).split('_')[0]),\n",
    "                            presence=presence))\n",
    "        \n",
    "print(f' {len(f)} file objects.')\n",
    "print(f' {len(cadNodes)} cad objects loaded.')\n",
    "print(f' {len(cadNodes)/len(ut.get_list_of_files(cad_dir))} % of files has valid geometries.')\n",
    "print(f' {len([n for n in cadNodes if n.presence==1])} geometries are built.')\n"
   ]
  },
  {
   "cell_type": "code",
   "execution_count": null,
   "metadata": {},
   "outputs": [
    {
     "name": "stdout",
     "output_type": "stream",
     "text": [
      " 68 geometries are built.\n",
      " 0.5714285714285714 geometries are built.\n"
     ]
    }
   ],
   "source": [
    "print(f' {len([n for n in cadNodes if n.presence==1])} geometries are built.')\n",
    "print(f' {len([n for n in cadNodes if n.presence==1])/len(cadNodes)} geometries are built.')\n",
    "\n"
   ]
  },
  {
   "cell_type": "code",
   "execution_count": null,
   "metadata": {},
   "outputs": [
    {
     "name": "stdout",
     "output_type": "stream",
     "text": [
      "2.7015797019773977\n",
      "[  0   1   2   3   4   5   6   7   8   9  10  11  12  13  14  15  16  17\n",
      "  18  19  20  21  22  23  24  25  26  27  28  29  30  31  34  35  36  38\n",
      "  39  40  41  42  43  44  45  46  47  48  49  50  51  52  53  54  55  56\n",
      "  57  59  60  61  62  63  64  65  66  67  68  69  70  71  72  73  74  77\n",
      "  78  79  80  81  82  83  84  85  86  87  88  89  90  91  92  93  94  95\n",
      "  96  97  98  99 101 102 103 104 105 106 107 108 109 110 111 113 114 115\n",
      " 118 126 127 128 129 130 131 132 133 134 135 136 137 138 139 140 141 142\n",
      " 143 144 145 146 147 148 149 150 151 152 153 154 155 156 157 159 160 161\n",
      " 162 163 164 165 166 167 168 169 170 171 172 173 174 175 176 177 178 179\n",
      " 180 181 182 183 185 187 188 189 190 191 192 193 194 195 196 197 199 200\n",
      " 201 202 204]\n",
      " 0.6557377049180327 % of the smallNodes are built.\n",
      " 0.9545454545454546 % of the largeNodes are built.\n",
      " 0.35 % of the 10% smallest nodes are built.\n"
     ]
    }
   ],
   "source": [
    "areas = np.array([n.resource.get_surface_area() for n in cadNodes])\n",
    "print(np.mean(areas))\n",
    "print(np.where(areas<np.mean(areas))[0])\n",
    "\n",
    "test=np.array(cadNodes)\n",
    "smallNodes=test[np.where(areas < np.mean(areas))[0]]\n",
    "largeNodes=test[np.where(areas > np.mean(areas))[0]]\n",
    "print(f' {len([n for n in smallNodes if n.presence==1])/len(smallNodes)} % of the smallNodes are built.')\n",
    "print(f' {len([n for n in largeNodes if n.presence==1])/len(largeNodes)} % of the largeNodes are built.')\n",
    "\n",
    "# Calculate the number of values to select (10% of the list length)\n",
    "num_values = int(len(areas) * 0.1)\n",
    "\n",
    "# Use argpartition to get the indices of the smallest values\n",
    "indices = np.argpartition(areas, num_values)[:num_values]\n",
    "smallestNodes=test[indices]\n",
    "print(f' {len([n for n in smallestNodes if n.presence==1])/len(smallestNodes)} % of the 10% smallest nodes are built.')\n"
   ]
  },
  {
   "attachments": {},
   "cell_type": "markdown",
   "metadata": {},
   "source": [
    "import pcd"
   ]
  },
  {
   "cell_type": "code",
   "execution_count": null,
   "metadata": {},
   "outputs": [],
   "source": [
    "las  = laspy.read(pcd_results_path)\n",
    "pcdNode=PointCloudNode(resource=gmu.las_to_pcd(las,transform=transform,getColors=True))"
   ]
  },
  {
   "attachments": {},
   "cell_type": "markdown",
   "metadata": {},
   "source": [
    "visualize"
   ]
  },
  {
   "cell_type": "code",
   "execution_count": null,
   "metadata": {},
   "outputs": [
    {
     "name": "stdout",
     "output_type": "stream",
     "text": [
      "[Open3D WARNING] GLFW Error: WGL: Failed to make context current: The handle is invalid. \n"
     ]
    }
   ],
   "source": [
    "#colorize objects that are not the closest object to the point clouds\n",
    "[n.resource.paint_uniform_color([1,0,0]) for n in cadNodes if n.presence==0] #red\n",
    "[n.resource.paint_uniform_color([1,1,1]) for n in cadNodes if n.presence==1] #white\n",
    "joined_mesh=gmu.join_geometries([n.resource for n in cadNodes])\n",
    "o3d.visualization.draw_geometries([pcdNode.resource,joined_mesh]) "
   ]
  },
  {
   "attachments": {},
   "cell_type": "markdown",
   "metadata": {},
   "source": [
    "remove points of pcdNode that lie to far away"
   ]
  },
  {
   "cell_type": "code",
   "execution_count": null,
   "metadata": {},
   "outputs": [
    {
     "name": "stdout",
     "output_type": "stream",
     "text": [
      "10701774\n"
     ]
    }
   ],
   "source": [
    "pcd_cad,identity_array=gmu.create_identity_point_cloud([n.resource for n in cadNodes],resolution=0.02)   \n",
    "# #crop point cloud #! this takes 30s per run, we expect easly 50-100 clusters\n",
    "dists=pcdNode.resource.compute_point_cloud_distance(pcd_cad)\n",
    "ind=np.where(np.asarray(dists) < 1)[0]\n",
    "pcd_tls=pcdNode.resource.select_by_index(ind)\n",
    "pcd_labels=np.int8(las.label[ind])\n",
    "pcd_predictions=np.int8(las.prediction[ind])\n",
    "print(len(np.asarray(pcd_tls.points)))"
   ]
  },
  {
   "attachments": {},
   "cell_type": "markdown",
   "metadata": {},
   "source": [
    "locally register pcd_cad and pcdNode"
   ]
  },
  {
   "cell_type": "code",
   "execution_count": null,
   "metadata": {},
   "outputs": [
    {
     "name": "stdout",
     "output_type": "stream",
     "text": [
      "2074\n",
      "number of nearby nodes: 1\n",
      "indices of nearby nodes: [0]\n",
      "regsitration: fitness 1.0, inlier_rmse: 0.044667398297235636\n",
      "2073\n",
      "number of nearby nodes: 1\n",
      "indices of nearby nodes: [1]\n",
      "2072\n",
      "number of nearby nodes: 19\n",
      "indices of nearby nodes: [2, 4, 5, 7, 8, 13, 15, 18, 19, 20, 24, 32, 33, 36, 41, 46, 51, 52, 53]\n",
      "2053\n",
      "number of nearby nodes: 100\n",
      "indices of nearby nodes: [3, 6, 11, 12, 14, 16, 17, 25, 26, 27, 28, 31, 34, 37, 40, 44, 45, 47, 49, 50, 60, 61, 62, 67, 68, 70, 77, 78, 80, 81, 84, 88, 90, 92, 101, 104, 105, 111, 112, 113, 115, 122, 123, 127, 129, 133, 137, 139, 143, 149, 156, 157, 160, 163, 164, 165, 167, 169, 170, 172, 173, 175, 176, 181, 184, 187, 188, 189, 192, 194, 201, 202, 203, 207, 210, 213, 214, 215, 216, 219, 221, 223, 224, 227, 233, 241, 245, 250, 255, 259, 262, 267, 270, 276, 279, 282, 285, 289, 298, 299]\n",
      "1953\n",
      "number of nearby nodes: 1\n",
      "indices of nearby nodes: [9]\n",
      "1952\n",
      "number of nearby nodes: 1\n",
      "indices of nearby nodes: [10]\n",
      "regsitration: fitness 1.0, inlier_rmse: 0.0479242794234776\n",
      "1951\n",
      "number of nearby nodes: 22\n",
      "indices of nearby nodes: [21, 54, 55, 59, 76, 83, 85, 87, 91, 93, 95, 100, 102, 103, 107, 109, 110, 116, 119, 131, 136, 140]\n",
      "1929\n",
      "number of nearby nodes: 1\n",
      "indices of nearby nodes: [22]\n",
      "regsitration: fitness 1.0, inlier_rmse: 0.05897423245250389\n",
      "1928\n",
      "number of nearby nodes: 1\n",
      "indices of nearby nodes: [23]\n",
      "regsitration: fitness 1.0, inlier_rmse: 0.06104164516972029\n",
      "1927\n",
      "number of nearby nodes: 29\n",
      "indices of nearby nodes: [29, 30, 39, 42, 64, 65, 66, 79, 98, 106, 114, 124, 126, 134, 138, 148, 166, 168, 171, 180, 186, 211, 218, 220, 222, 229, 237, 239, 242]\n",
      "1898\n",
      "number of nearby nodes: 34\n",
      "indices of nearby nodes: [35, 38, 56, 72, 73, 74, 75, 82, 89, 94, 99, 120, 125, 130, 132, 135, 151, 152, 154, 159, 182, 197, 212, 225, 226, 236, 246, 252, 258, 265, 274, 277, 280, 283]\n",
      "regsitration: fitness 1.0, inlier_rmse: 0.04896026694652465\n",
      "1864\n",
      "number of nearby nodes: 5\n",
      "indices of nearby nodes: [43, 86, 108, 191, 264]\n",
      "1859\n",
      "number of nearby nodes: 24\n",
      "indices of nearby nodes: [48, 69, 97, 121, 128, 150, 162, 174, 199, 240, 268, 301, 302, 307, 310, 314, 318, 320, 333, 340, 342, 344, 350, 411]\n",
      "1835\n",
      "number of nearby nodes: 16\n",
      "indices of nearby nodes: [57, 96, 117, 257, 294, 313, 329, 339, 355, 366, 368, 461, 638, 834, 933, 1031]\n",
      "regsitration: fitness 1.0, inlier_rmse: 0.04506406847691788\n",
      "1819\n",
      "number of nearby nodes: 21\n",
      "indices of nearby nodes: [58, 63, 71, 144, 146, 147, 161, 177, 178, 179, 193, 195, 196, 198, 200, 217, 230, 231, 251, 256, 272]\n",
      "1798\n",
      "number of nearby nodes: 15\n",
      "indices of nearby nodes: [118, 141, 142, 145, 153, 155, 158, 183, 185, 190, 204, 205, 208, 209, 228]\n",
      "regsitration: fitness 1.0, inlier_rmse: 0.0578422053665759\n",
      "1783\n",
      "number of nearby nodes: 1\n",
      "indices of nearby nodes: [206]\n",
      "regsitration: fitness 1.0, inlier_rmse: 0.09201174171001168\n",
      "1782\n",
      "number of nearby nodes: 17\n",
      "indices of nearby nodes: [232, 235, 238, 243, 244, 247, 248, 249, 253, 254, 260, 263, 266, 273, 275, 278, 281]\n",
      "1765\n",
      "number of nearby nodes: 16\n",
      "indices of nearby nodes: [234, 286, 291, 292, 296, 297, 300, 303, 304, 306, 316, 317, 323, 326, 331, 334]\n",
      "1749\n",
      "number of nearby nodes: 7\n",
      "indices of nearby nodes: [261, 271, 328, 332, 341, 347, 409]\n",
      "1742\n",
      "number of nearby nodes: 45\n",
      "indices of nearby nodes: [269, 293, 295, 315, 325, 351, 408, 410, 413, 415, 416, 421, 422, 425, 426, 433, 440, 443, 444, 447, 448, 451, 454, 463, 465, 467, 468, 469, 471, 472, 475, 476, 484, 485, 487, 488, 489, 490, 491, 492, 494, 497, 510, 514, 515]\n",
      "regsitration: fitness 1.0, inlier_rmse: 0.08328599802322421\n",
      "1697\n",
      "number of nearby nodes: 12\n",
      "indices of nearby nodes: [284, 287, 288, 290, 305, 308, 309, 311, 319, 321, 322, 330]\n",
      "regsitration: fitness 1.0, inlier_rmse: 0.05049057923448803\n",
      "1685\n",
      "number of nearby nodes: 19\n",
      "indices of nearby nodes: [312, 324, 335, 343, 345, 354, 414, 420, 428, 429, 431, 434, 438, 442, 452, 455, 466, 470, 473]\n",
      "1666\n",
      "number of nearby nodes: 14\n",
      "indices of nearby nodes: [327, 338, 346, 348, 406, 417, 419, 427, 439, 445, 446, 458, 459, 462]\n",
      "regsitration: fitness 1.0, inlier_rmse: 0.06428862874182344\n",
      "1652\n",
      "number of nearby nodes: 9\n",
      "indices of nearby nodes: [336, 352, 353, 357, 358, 359, 362, 365, 367]\n",
      "1643\n",
      "number of nearby nodes: 6\n",
      "indices of nearby nodes: [337, 349, 356, 360, 363, 1424]\n",
      "regsitration: fitness 1.0, inlier_rmse: 0.04122370419859719\n",
      "1637\n",
      "number of nearby nodes: 25\n",
      "indices of nearby nodes: [361, 364, 369, 418, 423, 435, 479, 480, 483, 517, 520, 521, 562, 563, 564, 567, 575, 577, 580, 597, 602, 605, 622, 624, 630]\n",
      "regsitration: fitness 0.9954700676005297, inlier_rmse: 0.0947574043172508\n",
      "1612\n",
      "number of nearby nodes: 14\n",
      "indices of nearby nodes: [370, 374, 379, 381, 382, 385, 390, 393, 394, 400, 404, 405, 1191, 1195]\n",
      "1598\n",
      "number of nearby nodes: 16\n",
      "indices of nearby nodes: [371, 372, 373, 375, 376, 377, 378, 380, 383, 384, 386, 387, 388, 389, 391, 392]\n",
      "1582\n",
      "number of nearby nodes: 6\n",
      "indices of nearby nodes: [395, 396, 397, 398, 399, 401]\n",
      "1576\n",
      "number of nearby nodes: 2\n",
      "indices of nearby nodes: [402, 403]\n",
      "regsitration: fitness 1.0, inlier_rmse: 0.09954655923624087\n",
      "1574\n",
      "number of nearby nodes: 6\n",
      "indices of nearby nodes: [407, 412, 424, 430, 432, 436]\n",
      "regsitration: fitness 1.0, inlier_rmse: 0.05532985207524582\n",
      "1568\n",
      "number of nearby nodes: 7\n",
      "indices of nearby nodes: [437, 453, 456, 457, 464, 474, 481]\n",
      "regsitration: fitness 1.0, inlier_rmse: 0.05207588880393066\n",
      "1561\n",
      "number of nearby nodes: 43\n",
      "indices of nearby nodes: [441, 449, 460, 478, 503, 504, 506, 507, 509, 516, 525, 532, 534, 535, 546, 547, 548, 551, 568, 569, 570, 578, 579, 584, 587, 589, 594, 603, 610, 612, 616, 626, 627, 628, 646, 648, 649, 655, 660, 671, 674, 679, 691]\n",
      "1518\n",
      "number of nearby nodes: 4\n",
      "indices of nearby nodes: [450, 513, 537, 542]\n",
      "regsitration: fitness 1.0, inlier_rmse: 0.022888982175431335\n",
      "1514\n",
      "number of nearby nodes: 30\n",
      "indices of nearby nodes: [477, 493, 499, 501, 502, 505, 508, 511, 518, 524, 529, 533, 536, 538, 540, 556, 557, 559, 585, 588, 604, 608, 609, 613, 618, 625, 631, 640, 643, 650]\n",
      "regsitration: fitness 1.0, inlier_rmse: 0.08176232937365534\n",
      "1484\n",
      "number of nearby nodes: 18\n",
      "indices of nearby nodes: [482, 496, 519, 523, 526, 539, 541, 545, 549, 553, 554, 558, 560, 565, 566, 571, 574, 581]\n",
      "regsitration: fitness 1.0, inlier_rmse: 0.06716161330878084\n",
      "1466\n",
      "number of nearby nodes: 22\n",
      "indices of nearby nodes: [486, 495, 498, 527, 528, 530, 544, 550, 555, 561, 572, 573, 576, 583, 592, 595, 607, 619, 642, 667, 720, 730]\n",
      "regsitration: fitness 1.0, inlier_rmse: 0.023645544528357654\n",
      "1444\n",
      "number of nearby nodes: 13\n",
      "indices of nearby nodes: [500, 621, 656, 672, 673, 680, 687, 693, 694, 696, 699, 700, 705]\n",
      "1431\n",
      "number of nearby nodes: 7\n",
      "indices of nearby nodes: [512, 522, 531, 552, 582, 698, 742]\n",
      "regsitration: fitness 1.0, inlier_rmse: 0.02961005301771742\n",
      "1424\n",
      "number of nearby nodes: 17\n",
      "indices of nearby nodes: [543, 586, 590, 593, 596, 598, 599, 600, 601, 606, 614, 615, 617, 620, 623, 633, 635]\n",
      "regsitration: fitness 1.0, inlier_rmse: 0.03997226576804383\n",
      "1407\n",
      "number of nearby nodes: 26\n",
      "indices of nearby nodes: [591, 611, 632, 639, 645, 652, 695, 701, 716, 717, 718, 726, 727, 735, 737, 739, 743, 745, 757, 759, 770, 783, 786, 787, 793, 795]\n",
      "1381\n",
      "number of nearby nodes: 17\n",
      "indices of nearby nodes: [629, 636, 641, 644, 647, 651, 654, 658, 659, 661, 665, 668, 669, 675, 676, 677, 678]\n",
      "regsitration: fitness 1.0, inlier_rmse: 0.09316319900987972\n",
      "1364\n",
      "number of nearby nodes: 28\n",
      "indices of nearby nodes: [634, 637, 663, 664, 666, 682, 683, 684, 688, 689, 703, 706, 708, 715, 719, 738, 747, 769, 771, 810, 836, 841, 848, 859, 863, 872, 873, 876]\n",
      "1336\n",
      "number of nearby nodes: 3\n",
      "indices of nearby nodes: [653, 662, 686]\n",
      "regsitration: fitness 1.0, inlier_rmse: 0.06598449304495124\n",
      "1333\n",
      "number of nearby nodes: 6\n",
      "indices of nearby nodes: [657, 685, 690, 697, 704, 709]\n",
      "1327\n",
      "number of nearby nodes: 26\n",
      "indices of nearby nodes: [670, 681, 707, 710, 714, 724, 725, 728, 729, 734, 744, 753, 758, 761, 763, 764, 767, 774, 777, 780, 800, 801, 816, 817, 820, 821]\n",
      "regsitration: fitness 1.0, inlier_rmse: 0.08633878315165142\n",
      "1301\n",
      "number of nearby nodes: 23\n",
      "indices of nearby nodes: [692, 702, 731, 784, 823, 837, 844, 850, 860, 874, 887, 908, 910, 913, 914, 928, 934, 948, 961, 962, 964, 970, 978]\n",
      "regsitration: fitness 1.0, inlier_rmse: 0.03635289844638738\n",
      "1278\n",
      "number of nearby nodes: 128\n",
      "indices of nearby nodes: [711, 712, 713, 721, 722, 723, 733, 736, 740, 741, 748, 750, 751, 754, 755, 756, 760, 762, 765, 766, 768, 772, 775, 779, 781, 782, 785, 788, 789, 790, 791, 794, 797, 799, 802, 803, 804, 806, 807, 809, 812, 813, 814, 815, 818, 819, 826, 827, 833, 838, 843, 846, 849, 852, 853, 857, 858, 861, 864, 865, 866, 867, 870, 875, 877, 878, 879, 880, 881, 883, 884, 891, 894, 895, 896, 898, 902, 903, 904, 906, 911, 912, 915, 916, 917, 918, 923, 929, 930, 931, 935, 936, 940, 944, 945, 947, 951, 953, 955, 959, 965, 967, 968, 969, 976, 977, 982, 983, 986, 987, 990, 996, 1003, 1004, 1006, 1007, 1008, 1010, 1013, 1014, 1020, 1021, 1033, 1035, 1042, 1044, 1048, 1056]\n",
      "regsitration: fitness 1.0, inlier_rmse: 0.05674245054523076\n",
      "1150\n",
      "number of nearby nodes: 14\n",
      "indices of nearby nodes: [732, 746, 749, 752, 776, 792, 796, 798, 805, 824, 839, 855, 869, 885]\n",
      "regsitration: fitness 1.0, inlier_rmse: 0.019703506016655725\n",
      "1136\n",
      "number of nearby nodes: 1\n",
      "indices of nearby nodes: [773]\n",
      "1135\n",
      "number of nearby nodes: 7\n",
      "indices of nearby nodes: [778, 888, 897, 919, 920, 924, 952]\n",
      "regsitration: fitness 1.0, inlier_rmse: 0.02415644956872938\n",
      "1128\n",
      "number of nearby nodes: 9\n",
      "indices of nearby nodes: [808, 822, 825, 828, 830, 831, 832, 835, 842]\n",
      "1119\n",
      "number of nearby nodes: 13\n",
      "indices of nearby nodes: [811, 829, 840, 845, 847, 851, 854, 856, 882, 886, 889, 900, 901]\n",
      "1106\n",
      "number of nearby nodes: 30\n",
      "indices of nearby nodes: [862, 868, 871, 890, 892, 893, 899, 905, 909, 921, 922, 925, 932, 937, 938, 939, 941, 942, 943, 958, 966, 974, 980, 981, 988, 991, 993, 1000, 1005, 1012]\n",
      "regsitration: fitness 1.0, inlier_rmse: 0.07923859060450542\n",
      "1076\n",
      "number of nearby nodes: 11\n",
      "indices of nearby nodes: [907, 927, 972, 975, 979, 984, 998, 1001, 1017, 1019, 1025]\n",
      "regsitration: fitness 1.0, inlier_rmse: 0.08423854211945017\n",
      "1065\n",
      "number of nearby nodes: 16\n",
      "indices of nearby nodes: [926, 946, 950, 963, 989, 995, 999, 1002, 1023, 1027, 1032, 1040, 1051, 1053, 1060, 1062]\n",
      "regsitration: fitness 1.0, inlier_rmse: 0.06012869772291252\n",
      "1049\n",
      "number of nearby nodes: 9\n",
      "indices of nearby nodes: [949, 956, 957, 992, 1011, 1016, 1018, 1041, 1055]\n",
      "regsitration: fitness 1.0, inlier_rmse: 0.026865920912185263\n",
      "1040\n",
      "number of nearby nodes: 6\n",
      "indices of nearby nodes: [954, 973, 994, 1061, 1068, 1077]\n",
      "regsitration: fitness 1.0, inlier_rmse: 0.030735769248495352\n",
      "1034\n",
      "number of nearby nodes: 1\n",
      "indices of nearby nodes: [960]\n",
      "1033\n",
      "number of nearby nodes: 2\n",
      "indices of nearby nodes: [971, 1024]\n",
      "regsitration: fitness 1.0, inlier_rmse: 0.07216733732592319\n",
      "1031\n",
      "number of nearby nodes: 15\n",
      "indices of nearby nodes: [985, 997, 1009, 1015, 1028, 1029, 1030, 1034, 1043, 1046, 1047, 1049, 1052, 1064, 1065]\n",
      "regsitration: fitness 1.0, inlier_rmse: 0.09692427190907098\n",
      "1016\n",
      "number of nearby nodes: 8\n",
      "indices of nearby nodes: [1022, 1026, 1036, 1037, 1038, 1039, 1045, 1050]\n",
      "regsitration: fitness 1.0, inlier_rmse: 0.0773955134851467\n",
      "1008\n",
      "number of nearby nodes: 14\n",
      "indices of nearby nodes: [1054, 1069, 1073, 1074, 1082, 1087, 1090, 1093, 1095, 1096, 1102, 1106, 1109, 1117]\n",
      "994\n",
      "number of nearby nodes: 58\n",
      "indices of nearby nodes: [1057, 1058, 1059, 1066, 1067, 1070, 1071, 1072, 1075, 1078, 1079, 1080, 1083, 1085, 1086, 1088, 1091, 1097, 1099, 1104, 1108, 1111, 1112, 1113, 1114, 1115, 1118, 1119, 1123, 1124, 1125, 1126, 1127, 1128, 1136, 1137, 1138, 1144, 1149, 1152, 1153, 1155, 1158, 1159, 1162, 1163, 1169, 1171, 1172, 1174, 1176, 1178, 1179, 1182, 1184, 1186, 1189, 1192]\n",
      "936\n",
      "number of nearby nodes: 5\n",
      "indices of nearby nodes: [1063, 1076, 1081, 1105, 1129]\n",
      "931\n",
      "number of nearby nodes: 2\n",
      "indices of nearby nodes: [1084, 1089]\n",
      "929\n",
      "number of nearby nodes: 11\n",
      "indices of nearby nodes: [1092, 1094, 1098, 1100, 1122, 1131, 1141, 1154, 1165, 1166, 1181]\n",
      "regsitration: fitness 1.0, inlier_rmse: 0.07063181562339516\n",
      "918\n",
      "number of nearby nodes: 3\n",
      "indices of nearby nodes: [1101, 1103, 1107]\n",
      "regsitration: fitness 1.0, inlier_rmse: 0.02598094261314625\n",
      "915\n",
      "number of nearby nodes: 1\n",
      "indices of nearby nodes: [1110]\n",
      "regsitration: fitness 1.0, inlier_rmse: 0.019560639099629375\n",
      "914\n",
      "number of nearby nodes: 7\n",
      "indices of nearby nodes: [1116, 1120, 1121, 1133, 1135, 1145, 1146]\n",
      "907\n",
      "number of nearby nodes: 3\n",
      "indices of nearby nodes: [1130, 1134, 1139]\n",
      "regsitration: fitness 1.0, inlier_rmse: 0.032477746632981065\n",
      "904\n",
      "number of nearby nodes: 27\n",
      "indices of nearby nodes: [1132, 1140, 1142, 1143, 1150, 1156, 1160, 1164, 1167, 1168, 1173, 1175, 1180, 1183, 1185, 1279, 1280, 1282, 1290, 1291, 1293, 1295, 1300, 1304, 1310, 1313, 1316]\n",
      "877\n",
      "number of nearby nodes: 6\n",
      "indices of nearby nodes: [1147, 1151, 1157, 1177, 1275, 1323]\n",
      "regsitration: fitness 1.0, inlier_rmse: 0.04039266160536672\n",
      "871\n",
      "number of nearby nodes: 4\n",
      "indices of nearby nodes: [1148, 1408, 1411, 1413]\n",
      "867\n",
      "number of nearby nodes: 2\n",
      "indices of nearby nodes: [1161, 1170]\n",
      "regsitration: fitness 1.0, inlier_rmse: 0.025915102346553642\n",
      "865\n",
      "number of nearby nodes: 1\n",
      "indices of nearby nodes: [1187]\n",
      "regsitration: fitness 1.0, inlier_rmse: 0.03409685370581927\n",
      "864\n",
      "number of nearby nodes: 7\n",
      "indices of nearby nodes: [1188, 1190, 1201, 1208, 1213, 1214, 1215]\n",
      "857\n",
      "number of nearby nodes: 1\n",
      "indices of nearby nodes: [1193]\n",
      "856\n",
      "number of nearby nodes: 14\n",
      "indices of nearby nodes: [1194, 1198, 1200, 1203, 1204, 1206, 1209, 1210, 1212, 1216, 1217, 1223, 1227, 1228]\n",
      "regsitration: fitness 1.0, inlier_rmse: 0.09327688466205157\n",
      "842\n",
      "number of nearby nodes: 13\n",
      "indices of nearby nodes: [1196, 1197, 1205, 1207, 1211, 1218, 1219, 1224, 1226, 1230, 1232, 1233, 1235]\n",
      "regsitration: fitness 1.0, inlier_rmse: 0.07705533190104975\n",
      "829\n",
      "number of nearby nodes: 2\n",
      "indices of nearby nodes: [1199, 1202]\n",
      "827\n",
      "number of nearby nodes: 1\n",
      "indices of nearby nodes: [1220]\n",
      "regsitration: fitness 1.0, inlier_rmse: 0.013946856376927795\n",
      "826\n",
      "number of nearby nodes: 3\n",
      "indices of nearby nodes: [1221, 1222, 1225]\n",
      "823\n",
      "number of nearby nodes: 8\n",
      "indices of nearby nodes: [1229, 1236, 1239, 1240, 1241, 1242, 1245, 1246]\n",
      "regsitration: fitness 1.0, inlier_rmse: 0.07058032201639416\n",
      "815\n",
      "number of nearby nodes: 2\n",
      "indices of nearby nodes: [1231, 1237]\n",
      "813\n",
      "number of nearby nodes: 2\n",
      "indices of nearby nodes: [1234, 1238]\n",
      "811\n",
      "number of nearby nodes: 2\n",
      "indices of nearby nodes: [1243, 1244]\n",
      "regsitration: fitness 1.0, inlier_rmse: 0.0626856179286907\n",
      "809\n",
      "number of nearby nodes: 2\n",
      "indices of nearby nodes: [1247, 1252]\n",
      "regsitration: fitness 1.0, inlier_rmse: 0.06451512058879243\n",
      "807\n",
      "number of nearby nodes: 2\n",
      "indices of nearby nodes: [1248, 1251]\n",
      "805\n",
      "number of nearby nodes: 1\n",
      "indices of nearby nodes: [1249]\n",
      "regsitration: fitness 1.0, inlier_rmse: 0.03452029957222846\n",
      "804\n",
      "number of nearby nodes: 1\n",
      "indices of nearby nodes: [1250]\n",
      "regsitration: fitness 1.0, inlier_rmse: 0.029183592605111382\n",
      "803\n",
      "number of nearby nodes: 1\n",
      "indices of nearby nodes: [1253]\n",
      "regsitration: fitness 1.0, inlier_rmse: 0.013228224163944499\n",
      "802\n",
      "number of nearby nodes: 5\n",
      "indices of nearby nodes: [1254, 1256, 1258, 1260, 1261]\n",
      "regsitration: fitness 1.0, inlier_rmse: 0.08266117916289348\n",
      "797\n",
      "number of nearby nodes: 1\n",
      "indices of nearby nodes: [1255]\n",
      "796\n",
      "number of nearby nodes: 1\n",
      "indices of nearby nodes: [1257]\n",
      "795\n",
      "number of nearby nodes: 1\n",
      "indices of nearby nodes: [1259]\n",
      "regsitration: fitness 1.0, inlier_rmse: 0.06713436596700774\n",
      "794\n",
      "number of nearby nodes: 1\n",
      "indices of nearby nodes: [1262]\n",
      "regsitration: fitness 1.0, inlier_rmse: 0.09547805113124251\n",
      "793\n",
      "number of nearby nodes: 1\n",
      "indices of nearby nodes: [1263]\n",
      "792\n",
      "number of nearby nodes: 1\n",
      "indices of nearby nodes: [1264]\n",
      "regsitration: fitness 1.0, inlier_rmse: 0.03213467955316995\n",
      "791\n",
      "number of nearby nodes: 1\n",
      "indices of nearby nodes: [1265]\n",
      "regsitration: fitness 1.0, inlier_rmse: 0.040522006613351584\n",
      "790\n",
      "number of nearby nodes: 1\n",
      "indices of nearby nodes: [1266]\n",
      "regsitration: fitness 1.0, inlier_rmse: 0.04775306388239199\n",
      "789\n",
      "number of nearby nodes: 1\n",
      "indices of nearby nodes: [1267]\n",
      "regsitration: fitness 1.0, inlier_rmse: 0.08871424366950363\n",
      "788\n",
      "number of nearby nodes: 1\n",
      "indices of nearby nodes: [1268]\n",
      "787\n",
      "number of nearby nodes: 1\n",
      "indices of nearby nodes: [1269]\n",
      "regsitration: fitness 1.0, inlier_rmse: 0.04624211703779774\n",
      "786\n",
      "number of nearby nodes: 1\n",
      "indices of nearby nodes: [1270]\n",
      "regsitration: fitness 1.0, inlier_rmse: 0.04794879043381061\n",
      "785\n",
      "number of nearby nodes: 1\n",
      "indices of nearby nodes: [1271]\n",
      "regsitration: fitness 1.0, inlier_rmse: 0.03389444644700365\n",
      "784\n",
      "number of nearby nodes: 1\n",
      "indices of nearby nodes: [1272]\n",
      "783\n",
      "number of nearby nodes: 1\n",
      "indices of nearby nodes: [1273]\n",
      "782\n",
      "number of nearby nodes: 1\n",
      "indices of nearby nodes: [1274]\n",
      "regsitration: fitness 1.0, inlier_rmse: 0.03677050935105499\n",
      "781\n",
      "number of nearby nodes: 1\n",
      "indices of nearby nodes: [1276]\n",
      "regsitration: fitness 1.0, inlier_rmse: 0.0791506678019009\n",
      "780\n",
      "number of nearby nodes: 1\n",
      "indices of nearby nodes: [1277]\n",
      "regsitration: fitness 1.0, inlier_rmse: 0.05373128600349381\n",
      "779\n",
      "number of nearby nodes: 1\n",
      "indices of nearby nodes: [1278]\n",
      "regsitration: fitness 1.0, inlier_rmse: 0.09546130618744034\n",
      "778\n",
      "number of nearby nodes: 19\n",
      "indices of nearby nodes: [1281, 1409, 1412, 1422, 1423, 1425, 1431, 1443, 1445, 1446, 1447, 1457, 1465, 1466, 1467, 1470, 1472, 1485, 1486]\n",
      "regsitration: fitness 1.0, inlier_rmse: 0.07205264832116956\n",
      "759\n",
      "number of nearby nodes: 6\n",
      "indices of nearby nodes: [1283, 1284, 1285, 1286, 1287, 1288]\n",
      "753\n",
      "number of nearby nodes: 4\n",
      "indices of nearby nodes: [1289, 1292, 1294, 1296]\n",
      "regsitration: fitness 1.0, inlier_rmse: 0.08006476943013316\n",
      "749\n",
      "number of nearby nodes: 20\n",
      "indices of nearby nodes: [1297, 1298, 1299, 1301, 1302, 1303, 1305, 1306, 1307, 1308, 1309, 1311, 1312, 1314, 1315, 1317, 1318, 1319, 1320, 1321]\n",
      "729\n",
      "number of nearby nodes: 7\n",
      "indices of nearby nodes: [1322, 1324, 1327, 1329, 1331, 1333, 1335]\n",
      "regsitration: fitness 0.8934563758389261, inlier_rmse: 0.08233796609096984\n",
      "722\n",
      "number of nearby nodes: 4\n",
      "indices of nearby nodes: [1325, 1326, 1328, 1330]\n",
      "718\n",
      "number of nearby nodes: 3\n",
      "indices of nearby nodes: [1332, 1334, 1339]\n",
      "regsitration: fitness 1.0, inlier_rmse: 0.03465331592652736\n",
      "715\n",
      "number of nearby nodes: 8\n",
      "indices of nearby nodes: [1336, 1337, 1338, 1340, 1341, 1342, 1343, 1512]\n",
      "707\n",
      "number of nearby nodes: 15\n",
      "indices of nearby nodes: [1344, 1346, 1347, 1348, 1349, 1351, 1352, 1353, 1354, 1355, 1357, 1358, 1359, 1365, 1366]\n",
      "regsitration: fitness 1.0, inlier_rmse: 0.02679211110287911\n",
      "692\n",
      "number of nearby nodes: 9\n",
      "indices of nearby nodes: [1345, 1350, 1356, 1360, 1361, 1363, 1364, 1367, 1368]\n",
      "regsitration: fitness 1.0, inlier_rmse: 0.02523227074584798\n",
      "683\n",
      "number of nearby nodes: 1\n",
      "indices of nearby nodes: [1362]\n",
      "regsitration: fitness 1.0, inlier_rmse: 0.04403105888529461\n",
      "682\n",
      "number of nearby nodes: 1\n",
      "indices of nearby nodes: [1369]\n",
      "regsitration: fitness 1.0, inlier_rmse: 0.03408902879730525\n",
      "681\n",
      "number of nearby nodes: 8\n",
      "indices of nearby nodes: [1370, 1371, 1373, 1374, 1375, 1377, 1378, 1379]\n",
      "regsitration: fitness 1.0, inlier_rmse: 0.022925043883525835\n",
      "673\n",
      "number of nearby nodes: 4\n",
      "indices of nearby nodes: [1372, 1380, 1382, 1384]\n",
      "regsitration: fitness 1.0, inlier_rmse: 0.019656298663712927\n",
      "669\n",
      "number of nearby nodes: 1\n",
      "indices of nearby nodes: [1376]\n",
      "668\n",
      "number of nearby nodes: 7\n",
      "indices of nearby nodes: [1381, 1385, 1388, 1390, 1391, 1392, 1393]\n",
      "regsitration: fitness 1.0, inlier_rmse: 0.024102382569283654\n",
      "661\n",
      "number of nearby nodes: 1\n",
      "indices of nearby nodes: [1383]\n",
      "regsitration: fitness 1.0, inlier_rmse: 0.03507373262919989\n",
      "660\n",
      "number of nearby nodes: 5\n",
      "indices of nearby nodes: [1386, 1387, 1389, 1394, 1395]\n",
      "regsitration: fitness 1.0, inlier_rmse: 0.020509268605883025\n",
      "655\n",
      "number of nearby nodes: 4\n",
      "indices of nearby nodes: [1396, 1397, 1398, 1399]\n",
      "regsitration: fitness 1.0, inlier_rmse: 0.019673267288741705\n",
      "651\n",
      "number of nearby nodes: 3\n",
      "indices of nearby nodes: [1400, 1401, 1403]\n",
      "regsitration: fitness 1.0, inlier_rmse: 0.019103716381168784\n",
      "648\n",
      "number of nearby nodes: 1\n",
      "indices of nearby nodes: [1402]\n",
      "regsitration: fitness 1.0, inlier_rmse: 0.01707669419330487\n",
      "647\n",
      "number of nearby nodes: 1\n",
      "indices of nearby nodes: [1404]\n",
      "regsitration: fitness 1.0, inlier_rmse: 0.017449703932907634\n",
      "646\n",
      "number of nearby nodes: 1\n",
      "indices of nearby nodes: [1405]\n",
      "regsitration: fitness 1.0, inlier_rmse: 0.016952365399500378\n",
      "645\n",
      "number of nearby nodes: 2\n",
      "indices of nearby nodes: [1406, 1407]\n",
      "regsitration: fitness 1.0, inlier_rmse: 0.019763566468772798\n",
      "643\n",
      "number of nearby nodes: 21\n",
      "indices of nearby nodes: [1410, 1417, 1419, 1437, 1444, 1456, 1469, 1477, 1487, 1495, 1507, 1517, 1518, 1528, 1532, 1552, 1555, 1568, 1569, 1577, 1582]\n",
      "regsitration: fitness 1.0, inlier_rmse: 0.04238099914856751\n",
      "622\n",
      "number of nearby nodes: 16\n",
      "indices of nearby nodes: [1414, 1415, 1416, 1418, 1420, 1426, 1434, 1438, 1440, 1449, 1452, 1458, 1459, 1462, 1463, 1464]\n",
      "regsitration: fitness 1.0, inlier_rmse: 0.027491972242400402\n",
      "606\n",
      "number of nearby nodes: 16\n",
      "indices of nearby nodes: [1421, 1427, 1429, 1432, 1453, 1454, 1473, 1479, 1483, 1510, 1530, 1536, 1542, 1546, 1547, 1557]\n",
      "regsitration: fitness 1.0, inlier_rmse: 0.05251379149283339\n",
      "590\n",
      "number of nearby nodes: 22\n",
      "indices of nearby nodes: [1428, 1433, 1435, 1441, 1455, 1460, 1471, 1474, 1478, 1482, 1488, 1493, 1496, 1497, 1498, 1499, 1503, 1505, 1506, 1515, 1519, 1521]\n",
      "regsitration: fitness 1.0, inlier_rmse: 0.04826325033166983\n",
      "568\n",
      "number of nearby nodes: 16\n",
      "indices of nearby nodes: [1430, 1439, 1442, 1461, 1468, 1475, 1476, 1480, 1481, 1484, 1489, 1492, 1504, 1508, 1511, 1513]\n",
      "regsitration: fitness 1.0, inlier_rmse: 0.040892714250797116\n",
      "552\n",
      "number of nearby nodes: 16\n",
      "indices of nearby nodes: [1436, 1448, 1450, 1451, 1494, 1501, 1522, 1524, 1529, 1539, 1541, 1545, 1548, 1558, 1562, 1564]\n",
      "536\n",
      "number of nearby nodes: 26\n",
      "indices of nearby nodes: [1490, 1491, 1500, 1502, 1509, 1516, 1520, 1523, 1527, 1531, 1533, 1534, 1537, 1540, 1549, 1550, 1551, 1554, 1559, 1560, 1561, 1563, 1565, 1566, 1576, 1578]\n",
      "regsitration: fitness 1.0, inlier_rmse: 0.04210780734255832\n",
      "510\n",
      "number of nearby nodes: 12\n",
      "indices of nearby nodes: [1514, 1525, 1526, 1538, 1570, 1571, 1584, 1587, 1599, 1600, 1603, 1609]\n",
      "regsitration: fitness 1.0, inlier_rmse: 0.035110637471864305\n",
      "498\n",
      "number of nearby nodes: 10\n",
      "indices of nearby nodes: [1535, 1544, 1553, 1556, 1580, 1591, 1593, 1594, 1607, 1611]\n",
      "regsitration: fitness 1.0, inlier_rmse: 0.030479248718682427\n",
      "488\n",
      "number of nearby nodes: 16\n",
      "indices of nearby nodes: [1543, 1567, 1572, 1573, 1581, 1592, 1604, 1608, 1610, 1612, 1616, 1622, 1625, 1630, 1631, 1638]\n",
      "regsitration: fitness 1.0, inlier_rmse: 0.039852355645417774\n",
      "472\n",
      "number of nearby nodes: 8\n",
      "indices of nearby nodes: [1574, 1588, 1617, 1637, 1642, 1647, 1660, 1663]\n",
      "464\n",
      "number of nearby nodes: 13\n",
      "indices of nearby nodes: [1575, 1595, 1598, 1602, 1618, 1621, 1623, 1645, 1650, 1651, 1653, 1676, 1683]\n",
      "regsitration: fitness 1.0, inlier_rmse: 0.035408067151523656\n",
      "451\n",
      "number of nearby nodes: 16\n",
      "indices of nearby nodes: [1579, 1585, 1589, 1590, 1596, 1597, 1601, 1606, 1613, 1628, 1634, 1639, 1640, 1643, 1646, 1648]\n",
      "regsitration: fitness 1.0, inlier_rmse: 0.05427211285227583\n",
      "435\n",
      "number of nearby nodes: 17\n",
      "indices of nearby nodes: [1583, 1586, 1605, 1620, 1626, 1629, 1632, 1636, 1644, 1655, 1657, 1659, 1678, 1698, 1699, 1718, 1726]\n",
      "regsitration: fitness 1.0, inlier_rmse: 0.031909617011187004\n",
      "418\n",
      "number of nearby nodes: 11\n",
      "indices of nearby nodes: [1614, 1619, 1624, 1627, 1641, 1658, 1668, 1672, 1681, 1687, 1703]\n",
      "regsitration: fitness 1.0, inlier_rmse: 0.043377870450863956\n",
      "407\n",
      "number of nearby nodes: 7\n",
      "indices of nearby nodes: [1615, 1633, 1635, 1649, 1652, 1656, 1661]\n",
      "regsitration: fitness 1.0, inlier_rmse: 0.06262299901081146\n",
      "400\n",
      "number of nearby nodes: 11\n",
      "indices of nearby nodes: [1654, 1662, 1664, 1666, 1667, 1673, 1677, 1679, 1682, 1684, 1686]\n",
      "regsitration: fitness 1.0, inlier_rmse: 0.02953945348999739\n",
      "389\n",
      "number of nearby nodes: 8\n",
      "indices of nearby nodes: [1665, 1669, 1700, 1719, 1732, 1767, 1773, 1774]\n",
      "381\n",
      "number of nearby nodes: 15\n",
      "indices of nearby nodes: [1670, 1671, 1680, 1689, 1690, 1691, 1695, 1697, 1701, 1705, 1706, 1709, 1710, 1711, 1712]\n",
      "regsitration: fitness 1.0, inlier_rmse: 0.04188894841208674\n",
      "366\n",
      "number of nearby nodes: 4\n",
      "indices of nearby nodes: [1674, 1675, 1696, 1704]\n",
      "regsitration: fitness 1.0, inlier_rmse: 0.030237873262324248\n",
      "362\n",
      "number of nearby nodes: 10\n",
      "indices of nearby nodes: [1685, 1692, 1702, 1717, 1723, 1734, 1735, 1741, 1744, 1745]\n",
      "regsitration: fitness 1.0, inlier_rmse: 0.053284806047795195\n",
      "352\n",
      "number of nearby nodes: 14\n",
      "indices of nearby nodes: [1688, 1693, 1694, 1714, 1716, 1720, 1721, 1725, 1727, 1729, 1730, 1733, 1739, 1746]\n",
      "regsitration: fitness 1.0, inlier_rmse: 0.05669490971012152\n",
      "338\n",
      "number of nearby nodes: 6\n",
      "indices of nearby nodes: [1707, 1708, 1722, 1728, 1737, 1738]\n",
      "regsitration: fitness 1.0, inlier_rmse: 0.0300419826182077\n",
      "332\n",
      "number of nearby nodes: 7\n",
      "indices of nearby nodes: [1713, 1715, 1724, 1736, 1742, 1749, 1752]\n",
      "regsitration: fitness 1.0, inlier_rmse: 0.028241013467203233\n",
      "325\n",
      "number of nearby nodes: 5\n",
      "indices of nearby nodes: [1731, 1743, 1747, 1763, 1765]\n",
      "regsitration: fitness 1.0, inlier_rmse: 0.023200881895065112\n",
      "320\n",
      "number of nearby nodes: 6\n",
      "indices of nearby nodes: [1740, 1750, 1751, 1754, 1757, 1761]\n",
      "regsitration: fitness 1.0, inlier_rmse: 0.03512391602514181\n",
      "314\n",
      "number of nearby nodes: 2\n",
      "indices of nearby nodes: [1748, 1758]\n",
      "regsitration: fitness 1.0, inlier_rmse: 0.03160531384615337\n",
      "312\n",
      "number of nearby nodes: 9\n",
      "indices of nearby nodes: [1753, 1759, 1764, 1771, 1772, 1776, 1778, 1780, 1786]\n",
      "regsitration: fitness 1.0, inlier_rmse: 0.07100491799453842\n",
      "303\n",
      "number of nearby nodes: 3\n",
      "indices of nearby nodes: [1755, 1756, 1769]\n",
      "regsitration: fitness 1.0, inlier_rmse: 0.03176233908736389\n",
      "300\n",
      "number of nearby nodes: 2\n",
      "indices of nearby nodes: [1760, 1787]\n",
      "regsitration: fitness 1.0, inlier_rmse: 0.02687074352653457\n",
      "298\n",
      "number of nearby nodes: 4\n",
      "indices of nearby nodes: [1762, 1777, 1782, 1783]\n",
      "regsitration: fitness 1.0, inlier_rmse: 0.032892699362176696\n",
      "294\n",
      "number of nearby nodes: 2\n",
      "indices of nearby nodes: [1766, 1779]\n",
      "regsitration: fitness 1.0, inlier_rmse: 0.020684891771334184\n",
      "292\n",
      "number of nearby nodes: 6\n",
      "indices of nearby nodes: [1768, 1770, 1775, 1781, 1820, 1823]\n",
      "regsitration: fitness 1.0, inlier_rmse: 0.0817036175187246\n",
      "286\n",
      "number of nearby nodes: 2\n",
      "indices of nearby nodes: [1784, 1794]\n",
      "regsitration: fitness 1.0, inlier_rmse: 0.019252982491913696\n",
      "284\n",
      "number of nearby nodes: 7\n",
      "indices of nearby nodes: [1785, 1788, 1789, 1792, 1795, 1800, 1805]\n",
      "regsitration: fitness 1.0, inlier_rmse: 0.03345927331266866\n",
      "277\n",
      "number of nearby nodes: 5\n",
      "indices of nearby nodes: [1790, 1797, 1801, 1807, 1808]\n",
      "regsitration: fitness 1.0, inlier_rmse: 0.05713961383540615\n",
      "272\n",
      "number of nearby nodes: 4\n",
      "indices of nearby nodes: [1791, 1796, 1799, 1812]\n",
      "regsitration: fitness 1.0, inlier_rmse: 0.05307649467993683\n",
      "268\n",
      "number of nearby nodes: 3\n",
      "indices of nearby nodes: [1793, 1798, 1806]\n",
      "regsitration: fitness 1.0, inlier_rmse: 0.03045165019302237\n",
      "265\n",
      "number of nearby nodes: 2\n",
      "indices of nearby nodes: [1802, 1803]\n",
      "regsitration: fitness 1.0, inlier_rmse: 0.029610905824053284\n",
      "263\n",
      "number of nearby nodes: 2\n",
      "indices of nearby nodes: [1804, 1816]\n",
      "261\n",
      "number of nearby nodes: 3\n",
      "indices of nearby nodes: [1809, 1810, 1818]\n",
      "regsitration: fitness 1.0, inlier_rmse: 0.02774085714043995\n",
      "258\n",
      "number of nearby nodes: 1\n",
      "indices of nearby nodes: [1811]\n",
      "regsitration: fitness 1.0, inlier_rmse: 0.013576271954149849\n",
      "257\n",
      "number of nearby nodes: 4\n",
      "indices of nearby nodes: [1813, 1815, 1829, 1831]\n",
      "regsitration: fitness 1.0, inlier_rmse: 0.0407400772716564\n",
      "253\n",
      "number of nearby nodes: 1\n",
      "indices of nearby nodes: [1814]\n",
      "regsitration: fitness 1.0, inlier_rmse: 0.04198617852124157\n",
      "252\n",
      "number of nearby nodes: 1\n",
      "indices of nearby nodes: [1817]\n",
      "regsitration: fitness 1.0, inlier_rmse: 0.02124829452084833\n",
      "251\n",
      "number of nearby nodes: 7\n",
      "indices of nearby nodes: [1819, 1821, 1850, 1851, 1862, 1893, 1908]\n",
      "regsitration: fitness 1.0, inlier_rmse: 0.02886068194902783\n",
      "244\n",
      "number of nearby nodes: 77\n",
      "indices of nearby nodes: [1822, 1825, 1826, 1827, 1828, 1832, 1838, 1847, 1852, 1853, 1861, 1863, 1866, 1868, 1871, 1872, 1874, 1878, 1881, 1882, 1885, 1891, 1895, 1901, 1902, 1903, 1905, 1906, 1910, 1913, 1926, 1927, 1928, 1934, 1935, 1937, 1938, 1939, 1940, 1942, 1943, 1946, 1948, 1950, 1953, 1956, 1961, 1962, 1964, 1965, 1967, 1968, 1975, 1976, 1977, 1979, 1980, 1984, 1985, 1987, 1988, 1989, 1990, 1991, 1992, 1996, 1997, 1998, 1999, 2000, 2001, 2003, 2005, 2006, 2007, 2008, 2009]\n",
      "167\n",
      "number of nearby nodes: 6\n",
      "indices of nearby nodes: [1824, 1839, 1841, 1842, 1844, 1845]\n",
      "regsitration: fitness 1.0, inlier_rmse: 0.03491731066310262\n",
      "161\n",
      "number of nearby nodes: 19\n",
      "indices of nearby nodes: [1830, 1835, 1837, 1840, 1843, 1846, 1855, 1856, 1857, 1858, 1860, 1864, 1867, 1879, 1897, 1898, 1899, 1904, 1909]\n",
      "regsitration: fitness 1.0, inlier_rmse: 0.04773691402463457\n",
      "142\n",
      "number of nearby nodes: 9\n",
      "indices of nearby nodes: [1833, 1883, 1888, 1907, 1918, 1932, 1933, 1994, 2011]\n",
      "regsitration: fitness 1.0, inlier_rmse: 0.06887520623620069\n",
      "133\n",
      "number of nearby nodes: 7\n",
      "indices of nearby nodes: [1834, 1836, 1849, 1854, 1865, 1869, 1870]\n",
      "regsitration: fitness 1.0, inlier_rmse: 0.02865816408564328\n",
      "126\n",
      "number of nearby nodes: 4\n",
      "indices of nearby nodes: [1848, 1887, 1900, 1916]\n",
      "regsitration: fitness 1.0, inlier_rmse: 0.05598088904340389\n",
      "122\n",
      "number of nearby nodes: 3\n",
      "indices of nearby nodes: [1859, 1876, 1890]\n",
      "regsitration: fitness 1.0, inlier_rmse: 0.02605674105298367\n",
      "119\n",
      "number of nearby nodes: 5\n",
      "indices of nearby nodes: [1873, 1877, 1886, 1889, 1894]\n",
      "regsitration: fitness 1.0, inlier_rmse: 0.09840204443593831\n",
      "114\n",
      "number of nearby nodes: 6\n",
      "indices of nearby nodes: [1875, 1880, 1884, 1915, 1919, 1924]\n",
      "regsitration: fitness 1.0, inlier_rmse: 0.028374081680416635\n",
      "108\n",
      "number of nearby nodes: 3\n",
      "indices of nearby nodes: [1892, 1896, 1917]\n",
      "regsitration: fitness 1.0, inlier_rmse: 0.029444006308953014\n",
      "105\n",
      "number of nearby nodes: 4\n",
      "indices of nearby nodes: [1911, 1920, 1923, 1931]\n",
      "regsitration: fitness 1.0, inlier_rmse: 0.0442547050431084\n",
      "101\n",
      "number of nearby nodes: 3\n",
      "indices of nearby nodes: [1912, 1944, 1959]\n",
      "regsitration: fitness 1.0, inlier_rmse: 0.02359670374829851\n",
      "98\n",
      "number of nearby nodes: 4\n",
      "indices of nearby nodes: [1914, 1925, 1929, 1945]\n",
      "regsitration: fitness 1.0, inlier_rmse: 0.0287643043610807\n",
      "94\n",
      "number of nearby nodes: 8\n",
      "indices of nearby nodes: [1921, 1922, 1930, 1941, 1947, 1963, 1966, 1970]\n",
      "regsitration: fitness 1.0, inlier_rmse: 0.034501745957568976\n",
      "86\n",
      "number of nearby nodes: 5\n",
      "indices of nearby nodes: [1936, 1949, 1954, 1955, 1957]\n",
      "regsitration: fitness 1.0, inlier_rmse: 0.06404966746230324\n",
      "81\n",
      "number of nearby nodes: 5\n",
      "indices of nearby nodes: [1951, 1958, 1982, 1995, 2019]\n",
      "regsitration: fitness 1.0, inlier_rmse: 0.03275585267227713\n",
      "76\n",
      "number of nearby nodes: 3\n",
      "indices of nearby nodes: [1952, 1960, 1969]\n",
      "regsitration: fitness 1.0, inlier_rmse: 0.03292474440293641\n",
      "73\n",
      "number of nearby nodes: 2\n",
      "indices of nearby nodes: [1971, 1974]\n",
      "regsitration: fitness 1.0, inlier_rmse: 0.050740750262640404\n",
      "71\n",
      "number of nearby nodes: 4\n",
      "indices of nearby nodes: [1972, 1973, 1978, 1981]\n",
      "regsitration: fitness 1.0, inlier_rmse: 0.048722436963478624\n",
      "67\n",
      "number of nearby nodes: 1\n",
      "indices of nearby nodes: [1983]\n",
      "regsitration: fitness 1.0, inlier_rmse: 0.024509981837996325\n",
      "66\n",
      "number of nearby nodes: 3\n",
      "indices of nearby nodes: [1986, 2013, 2022]\n",
      "regsitration: fitness 1.0, inlier_rmse: 0.02247922491034871\n",
      "63\n",
      "number of nearby nodes: 1\n",
      "indices of nearby nodes: [1993]\n",
      "regsitration: fitness 1.0, inlier_rmse: 0.019851580545690712\n",
      "62\n",
      "number of nearby nodes: 2\n",
      "indices of nearby nodes: [2002, 2010]\n",
      "regsitration: fitness 1.0, inlier_rmse: 0.023956487347633018\n",
      "60\n",
      "number of nearby nodes: 1\n",
      "indices of nearby nodes: [2004]\n",
      "regsitration: fitness 1.0, inlier_rmse: 0.01971852376548873\n",
      "59\n",
      "number of nearby nodes: 2\n",
      "indices of nearby nodes: [2012, 2014]\n",
      "regsitration: fitness 1.0, inlier_rmse: 0.02399652752201\n",
      "57\n",
      "number of nearby nodes: 17\n",
      "indices of nearby nodes: [2015, 2017, 2018, 2021, 2029, 2030, 2032, 2037, 2038, 2039, 2041, 2042, 2047, 2048, 2051, 2052, 2055]\n",
      "40\n",
      "number of nearby nodes: 4\n",
      "indices of nearby nodes: [2016, 2028, 2035, 2036]\n",
      "36\n",
      "number of nearby nodes: 1\n",
      "indices of nearby nodes: [2020]\n",
      "regsitration: fitness 1.0, inlier_rmse: 0.040987571208879706\n",
      "35\n",
      "number of nearby nodes: 1\n",
      "indices of nearby nodes: [2023]\n",
      "regsitration: fitness 1.0, inlier_rmse: 0.042643197458016015\n",
      "34\n",
      "number of nearby nodes: 1\n",
      "indices of nearby nodes: [2024]\n",
      "33\n",
      "number of nearby nodes: 2\n",
      "indices of nearby nodes: [2025, 2071]\n",
      "regsitration: fitness 1.0, inlier_rmse: 0.02188399755313356\n",
      "31\n",
      "number of nearby nodes: 2\n",
      "indices of nearby nodes: [2026, 2027]\n",
      "regsitration: fitness 1.0, inlier_rmse: 0.023182377026212717\n",
      "29\n",
      "number of nearby nodes: 1\n",
      "indices of nearby nodes: [2031]\n",
      "regsitration: fitness 1.0, inlier_rmse: 0.019742890911931554\n",
      "28\n",
      "number of nearby nodes: 1\n",
      "indices of nearby nodes: [2033]\n",
      "regsitration: fitness 1.0, inlier_rmse: 0.04445454107945874\n",
      "27\n",
      "number of nearby nodes: 1\n",
      "indices of nearby nodes: [2034]\n",
      "regsitration: fitness 1.0, inlier_rmse: 0.02126845228718467\n",
      "26\n",
      "number of nearby nodes: 1\n",
      "indices of nearby nodes: [2040]\n",
      "regsitration: fitness 1.0, inlier_rmse: 0.022765137905759167\n",
      "25\n",
      "number of nearby nodes: 1\n",
      "indices of nearby nodes: [2043]\n",
      "regsitration: fitness 1.0, inlier_rmse: 0.020452490040390868\n",
      "24\n",
      "number of nearby nodes: 3\n",
      "indices of nearby nodes: [2044, 2046, 2058]\n",
      "regsitration: fitness 1.0, inlier_rmse: 0.024253013249492326\n",
      "21\n",
      "number of nearby nodes: 2\n",
      "indices of nearby nodes: [2045, 2049]\n",
      "regsitration: fitness 1.0, inlier_rmse: 0.09673096518040622\n",
      "19\n",
      "number of nearby nodes: 1\n",
      "indices of nearby nodes: [2050]\n",
      "regsitration: fitness 1.0, inlier_rmse: 0.0438623475731341\n",
      "18\n",
      "number of nearby nodes: 1\n",
      "indices of nearby nodes: [2053]\n",
      "regsitration: fitness 1.0, inlier_rmse: 0.07959088307282025\n",
      "17\n",
      "number of nearby nodes: 1\n",
      "indices of nearby nodes: [2054]\n",
      "regsitration: fitness 1.0, inlier_rmse: 0.03510969659624795\n",
      "16\n",
      "number of nearby nodes: 4\n",
      "indices of nearby nodes: [2056, 2059, 2061, 2062]\n",
      "12\n",
      "number of nearby nodes: 1\n",
      "indices of nearby nodes: [2057]\n",
      "regsitration: fitness 1.0, inlier_rmse: 0.019088220690053212\n",
      "11\n",
      "number of nearby nodes: 2\n",
      "indices of nearby nodes: [2060, 2065]\n",
      "regsitration: fitness 1.0, inlier_rmse: 0.024760489899462466\n",
      "9\n",
      "number of nearby nodes: 1\n",
      "indices of nearby nodes: [2063]\n",
      "regsitration: fitness 1.0, inlier_rmse: 0.03440003643103084\n",
      "8\n",
      "number of nearby nodes: 2\n",
      "indices of nearby nodes: [2064, 2067]\n",
      "regsitration: fitness 1.0, inlier_rmse: 0.019774467921971878\n",
      "6\n",
      "number of nearby nodes: 1\n",
      "indices of nearby nodes: [2066]\n",
      "regsitration: fitness 1.0, inlier_rmse: 0.04048512123652529\n",
      "5\n",
      "number of nearby nodes: 1\n",
      "indices of nearby nodes: [2068]\n",
      "regsitration: fitness 1.0, inlier_rmse: 0.020405910136089698\n",
      "4\n",
      "number of nearby nodes: 1\n",
      "indices of nearby nodes: [2069]\n",
      "regsitration: fitness 1.0, inlier_rmse: 0.036028232200713016\n",
      "3\n",
      "number of nearby nodes: 1\n",
      "indices of nearby nodes: [2070]\n",
      "regsitration: fitness 1.0, inlier_rmse: 0.05851549248914973\n",
      "2\n",
      "number of nearby nodes: 1\n",
      "indices of nearby nodes: [2072]\n",
      "regsitration: fitness 1.0, inlier_rmse: 0.02000940585955027\n",
      "1\n",
      "number of nearby nodes: 1\n",
      "indices of nearby nodes: [2073]\n",
      "regsitration: fitness 1.0, inlier_rmse: 0.0193430550546633\n"
     ]
    }
   ],
   "source": [
    "#group cad objects in clusters\n",
    "list_of_nodes=cadNodes\n",
    "clusters=0\n",
    "#prepare point clouds for registration\n",
    "voxel_pcd=pcd_tls.voxel_down_sample(0.04)\n",
    "\n",
    "while list_of_nodes:\n",
    "    clusters+=1\n",
    "    print(len(list_of_nodes))\n",
    "    \n",
    "    #select nearby nodes\n",
    "    nodes,_=tl.select_nodes_with_centers_in_radius(list_of_nodes[0],list_of_nodes,10)  \n",
    "    # give indices\n",
    "    indices=[i for i,n in enumerate(cadNodes) if n in nodes]\n",
    "    print(f'number of nearby nodes: {len(nodes)}')\n",
    "    print(f'indices of nearby nodes: {indices}')\n",
    "    \n",
    "    #create point cloud of cad\n",
    "    resources=[n.resource for n in nodes if n.resource]\n",
    "    pcd_cad,identity_array=gmu.create_identity_point_cloud(resources,resolution=0.02)   \n",
    "    \n",
    "    # #locally register cadNodes if within 1m #! this only takes 4s per run with voxels\n",
    "    voxel_cad=pcd_cad.voxel_down_sample(0.04)\n",
    "    # voxel_pcd=pcd_tls.voxel_down_sample(0.04)\n",
    "    registration = o3d.pipelines.registration.registration_icp(\n",
    "        voxel_cad, voxel_pcd,max_correspondence_distance =1 )\n",
    "    if (registration.fitness>0.8 and registration.inlier_rmse<0.1):\n",
    "        print(f'regsitration: fitness {registration.fitness}, inlier_rmse: {registration.inlier_rmse}')\n",
    "        [cadNodes[i].resource.transform(registration.transformation) for i in indices] \n",
    "        \n",
    "    #remove nodes from list_of_nodes\n",
    "    list_of_nodes = [n for n in list_of_nodes if n not in nodes]"
   ]
  },
  {
   "attachments": {},
   "cell_type": "markdown",
   "metadata": {},
   "source": [
    "## Evaluate which objects are not in the point cloud i.e. which objects do no have nearby points\n"
   ]
  },
  {
   "attachments": {},
   "cell_type": "markdown",
   "metadata": {},
   "source": [
    "sample cad"
   ]
  },
  {
   "cell_type": "code",
   "execution_count": null,
   "metadata": {},
   "outputs": [],
   "source": [
    "#sample point cloud\n",
    "pcd_cad,identity_array=gmu.create_identity_point_cloud([n.resource for n in cadNodes],resolution=0.02)  "
   ]
  },
  {
   "attachments": {},
   "cell_type": "markdown",
   "metadata": {},
   "source": [
    "option A: mark objects that do not have pcd points as their closest points "
   ]
  },
  {
   "cell_type": "code",
   "execution_count": null,
   "metadata": {},
   "outputs": [],
   "source": [
    "#compute distance from pcd to cad\n",
    "indices,distances=gmu.compute_nearest_neighbors(np.asarray(pcd_tls.points),np.asarray(pcd_cad.points))"
   ]
  },
  {
   "cell_type": "code",
   "execution_count": null,
   "metadata": {},
   "outputs": [
    {
     "name": "stdout",
     "output_type": "stream",
     "text": [
      "Built elements: 141\n",
      "Missng elements: 64\n",
      "---------------------\n",
      "Detected Built elements: 134\n",
      "Detected missing elements: 51\n",
      "---------------------\n",
      "Recall: 0.950354609929078\n",
      "Precision: 0.7243243243243244\n"
     ]
    }
   ],
   "source": [
    "distance_threshold=0.2\n",
    "\n",
    "#filter distances\n",
    "inlier_indices=indices[distances[:,0] < distance_threshold]\n",
    "#get cad indices that lie within that threshold\n",
    "indices_in_cad=identity_array[inlier_indices]\n",
    "indices_unique_in_cad=np.unique(indices_in_cad)\n",
    "\n",
    "#reset cadNodes \n",
    "for n in cadNodes:\n",
    "    n.detection=0\n",
    "#fill in detection results\n",
    "for i in np.unique(indices_in_cad):\n",
    "    cadNodes[i].detection=1\n",
    "\n",
    "#report detection rate in function of the built elements\n",
    "true_positives=len([n for n in cadNodes if n.detection ==1 and n.presence==1]) # elements that are actually built and detected\n",
    "false_positives=len([n for n in cadNodes if n.detection ==1 and n.presence==0])  # elements that are detected but not built\n",
    "relevant_elements=len([n for n in cadNodes if n.presence ==1 ]) # total built elements\n",
    "unbuilt_elements=len([n for n in cadNodes if n.presence ==0 ])\n",
    "\n",
    "print(f'Built elements: {relevant_elements}')    \n",
    "print(f'Missng elements: {unbuilt_elements}')  \n",
    "print(f'---------------------')  \n",
    "print(f'Detected Built elements: {true_positives}')    \n",
    "print(f'Detected missing elements: {false_positives}')  \n",
    "print(f'---------------------')  \n",
    "print(f'Recall: {true_positives/relevant_elements}')\n",
    "print(f'Precision: {true_positives/(true_positives+false_positives)}')\n"
   ]
  },
  {
   "attachments": {},
   "cell_type": "markdown",
   "metadata": {},
   "source": [
    "visualize"
   ]
  },
  {
   "cell_type": "code",
   "execution_count": null,
   "metadata": {},
   "outputs": [],
   "source": [
    "#colorize objects that are not the closest object to the point clouds\n",
    "[n.resource.paint_uniform_color([0.9,0.9,0.9]) for n in cadNodes ] #white\n",
    "[n.resource.paint_uniform_color([1,0,0]) for n in cadNodes if (n.detection ==1 and n.presence==0 ) ] #red for outliers\n",
    "[n.resource.paint_uniform_color([0,1,0]) for n in cadNodes if (n.detection ==0 and n.presence==1 )] #green for outliers\n",
    "\n",
    "joined_mesh=gmu.join_geometries([n.resource for n in cadNodes])\n",
    "o3d.visualization.draw_geometries([pcd_tls,joined_mesh])  "
   ]
  },
  {
   "cell_type": "code",
   "execution_count": null,
   "metadata": {},
   "outputs": [],
   "source": [
    "# #compute indices from cad to pcd and retrieve semantic segmenation results\n",
    "# indices,_=gmu.compute_nearest_neighbors(np.asarray(pcd_cad_t.points),np.asarray(pcdNode.resource.points))\n",
    "# pcd_labels=np.int8(las.label[indices])\n",
    "# pcd_predictions=np.int8(las.prediction[indices])"
   ]
  },
  {
   "attachments": {},
   "cell_type": "markdown",
   "metadata": {},
   "source": [
    "option B: mark objects that have at least one point far from the point cloud"
   ]
  },
  {
   "cell_type": "code",
   "execution_count": null,
   "metadata": {},
   "outputs": [
    {
     "name": "stdout",
     "output_type": "stream",
     "text": [
      "Built elements: 141\n",
      "Missng elements: 64\n",
      "---------------------\n",
      "Detected Built elements: 110\n",
      "Detected missing elements: 41\n",
      "---------------------\n",
      "Recall: 0.7801418439716312\n",
      "Precision: 0.7284768211920529\n"
     ]
    }
   ],
   "source": [
    "distance_threshold=0.2\n",
    "\n",
    "#compute distance from cad to pcd\n",
    "dists = pcd_cad.compute_point_cloud_distance(pcd_tls)\n",
    "\n",
    "#get indices of points outside the distance_threshold\n",
    "ind = np.where(np.asarray(dists) > distance_threshold)[0]\n",
    "indices_not_in_cad=np.unique(identity_array[ind])\n",
    "\n",
    "#reset cadNodes and fill in new members\n",
    "for n in cadNodes:\n",
    "    n.detection=1\n",
    "for i in indices_not_in_cad:\n",
    "    cadNodes[i].detection=0\n",
    "\n",
    "#report detection rate in function of the built elements\n",
    "true_positives=len([n for n in cadNodes if n.detection ==1 and n.presence==1]) # elements that are actually built and detected\n",
    "false_positives=len([n for n in cadNodes if n.detection ==1 and n.presence==0])  # elements that are detected but not built\n",
    "relevant_elements=len([n for n in cadNodes if n.presence ==1 ]) # total built elements\n",
    "unbuilt_elements=len([n for n in cadNodes if n.presence ==0 ])\n",
    "\n",
    "print(f'Built elements: {relevant_elements}')    \n",
    "print(f'Missng elements: {unbuilt_elements}')  \n",
    "print(f'---------------------')  \n",
    "print(f'Detected Built elements: {true_positives}')    \n",
    "print(f'Detected missing elements: {false_positives}')  \n",
    "print(f'---------------------')  \n",
    "print(f'Recall: {true_positives/relevant_elements}')\n",
    "print(f'Precision: {true_positives/(true_positives+false_positives)}')"
   ]
  },
  {
   "attachments": {},
   "cell_type": "markdown",
   "metadata": {},
   "source": [
    "option C: mark objects with not atleast 70% of points near pcd"
   ]
  },
  {
   "cell_type": "code",
   "execution_count": null,
   "metadata": {},
   "outputs": [
    {
     "name": "stdout",
     "output_type": "stream",
     "text": [
      "Built elements: 141\n",
      "Missng elements: 64\n",
      "---------------------\n",
      "Detected Built elements: 134\n",
      "Detected missing elements: 50\n",
      "---------------------\n",
      "Recall: 0.950354609929078\n",
      "Precision: 0.7282608695652174\n"
     ]
    }
   ],
   "source": [
    "distance_threshold=0.2\n",
    "percentage_threshold=0.1\n",
    "\n",
    "#compute distance from cad to pcd\n",
    "dists = pcd_cad.compute_point_cloud_distance(pcd_tls)\n",
    "\n",
    "#get indices of points outside the distance_threshold\n",
    "ind = np.where(np.asarray(dists) <= distance_threshold)[0]\n",
    "indices_unique_in_cad,counts=np.unique(identity_array[ind],return_counts=True)\n",
    "unique_totals,count_totals=np.unique(identity_array,return_counts=True)\n",
    "indices_in_cad=[]\n",
    "for i,c in zip(indices_unique_in_cad,counts):\n",
    "    if c/count_totals[i]>percentage_threshold:\n",
    "        indices_in_cad.append(i)\n",
    "\n",
    "#reset cadNodes \n",
    "for n in cadNodes:\n",
    "    n.detection=0\n",
    "#fill in detection results\n",
    "for i in np.unique(indices_in_cad):\n",
    "    cadNodes[i].detection=1        \n",
    "\n",
    "#report detection rate in function of the built elements\n",
    "true_positives=len([n for n in cadNodes if n.detection ==1 and n.presence==1]) # elements that are actually built and detected\n",
    "false_positives=len([n for n in cadNodes if n.detection ==1 and n.presence==0])  # elements that are detected but not built\n",
    "relevant_elements=len([n for n in cadNodes if n.presence ==1 ]) # total built elements\n",
    "unbuilt_elements=len([n for n in cadNodes if n.presence ==0 ])\n",
    "\n",
    "print(f'Built elements: {relevant_elements}')    \n",
    "print(f'Missng elements: {unbuilt_elements}')  \n",
    "print(f'---------------------')  \n",
    "print(f'Detected Built elements: {true_positives}')    \n",
    "print(f'Detected missing elements: {false_positives}')  \n",
    "print(f'---------------------')  \n",
    "print(f'Recall: {true_positives/relevant_elements}')\n",
    "print(f'Precision: {true_positives/(true_positives+false_positives)}')"
   ]
  },
  {
   "attachments": {},
   "cell_type": "markdown",
   "metadata": {},
   "source": [
    "Option D: semantic segmentation enrichment"
   ]
  },
  {
   "cell_type": "code",
   "execution_count": null,
   "metadata": {},
   "outputs": [
    {
     "name": "stderr",
     "output_type": "stream",
     "text": [
      "C:\\Users\\u0094523\\AppData\\Local\\Temp/ipykernel_15812/3701461619.py:2: DeprecationWarning: elementwise comparison failed; this will raise an error in the future.\n",
      "  ind=np.where(pcd_labels==pcd_predictions)[0]\n"
     ]
    }
   ],
   "source": [
    "# filter point cloud\n",
    "ind=np.where(pcd_labels==pcd_predictions)[0]\n",
    "pcd_seg=pcd_tls.select_by_index(ind)\n",
    "pcd_seg_predictions=pcd_predictions[ind]"
   ]
  },
  {
   "cell_type": "code",
   "execution_count": null,
   "metadata": {},
   "outputs": [],
   "source": [
    "#compute distances from cad to pcd_seg\n",
    "indices,distances=gmu.compute_nearest_neighbors(np.asarray(pcd_cad.points), np.asarray(pcd_seg.points))"
   ]
  },
  {
   "cell_type": "code",
   "execution_count": null,
   "metadata": {},
   "outputs": [
    {
     "name": "stdout",
     "output_type": "stream",
     "text": [
      "Built elements: 1454\n",
      "Missng elements: 620\n",
      "---------------------\n",
      "Detected Built elements: 1316\n",
      "Detected missing elements: 617\n",
      "---------------------\n",
      "Recall: 0.9050894085281981\n",
      "Precision: 0.6808070356958096\n"
     ]
    }
   ],
   "source": [
    "from itertools import islice\n",
    "\n",
    "distance_threshold=0.2\n",
    "percentage_threshold=0.3\n",
    "\n",
    "#reset cadNodes \n",
    "for n in cadNodes:\n",
    "    n.detection=0\n",
    "\n",
    "# #compute where points are valid\n",
    "mask = np.where(distances <= distance_threshold,1,0)[:,0] #! can we take object layers?\n",
    "\n",
    "\n",
    "#determine percentual presence\n",
    "_,counts=np.unique(identity_array,return_counts=True)\n",
    "sums=[np.sum(a) for a in [list(islice(mask, i)) for i in counts]]\n",
    "\n",
    "for i,n in enumerate(cadNodes):\n",
    "    if sums[i]/counts[i]>=percentage_threshold:\n",
    "        cadNodes[i].detection=1\n",
    "        \n",
    "#report detection rate in function of the built elements\n",
    "true_positives=len([n for n in cadNodes if n.detection ==1 and n.presence==1]) # elements that are actually built and detected\n",
    "false_positives=len([n for n in cadNodes if n.detection ==1 and n.presence==0])  # elements that are detected but not built\n",
    "relevant_elements=len([n for n in cadNodes if n.presence ==1 ]) # total built elements\n",
    "unbuilt_elements=len([n for n in cadNodes if n.presence ==0 ])\n",
    "\n",
    "print(f'Built elements: {relevant_elements}')    \n",
    "print(f'Missng elements: {unbuilt_elements}')  \n",
    "print(f'---------------------')  \n",
    "print(f'Detected Built elements: {true_positives}')    \n",
    "print(f'Detected missing elements: {false_positives}')  \n",
    "print(f'---------------------')  \n",
    "print(f'Recall: {true_positives/relevant_elements}')\n",
    "print(f'Precision: {true_positives/(true_positives+false_positives)}')"
   ]
  },
  {
   "cell_type": "code",
   "execution_count": null,
   "metadata": {},
   "outputs": [],
   "source": [
    "# colorArray=gmu.array_to_colors(pcd_predictions)\n",
    "# pcd_tls.colors=o3d.utility.Vector3dVector(colorArray)\n",
    "#colorize objects that are not the closest object to the point clouds\n",
    "#colorize objects that are not the closest object to the point clouds\n",
    "[n.resource.paint_uniform_color([0.9,0.9,0.9]) for n in cadNodes ] #white\n",
    "[n.resource.paint_uniform_color([1,0,0]) for n in cadNodes if (n.detection ==1 and n.presence==0 ) ] #red for outliers\n",
    "[n.resource.paint_uniform_color([0,1,0]) for n in cadNodes if (n.detection ==0 and n.presence==1 )] #green for outliers\n",
    "\n",
    "joined_mesh=gmu.join_geometries([n.resource for n in cadNodes])\n",
    "o3d.visualization.draw_geometries([pcd_seg,joined_mesh])  "
   ]
  },
  {
   "attachments": {},
   "cell_type": "markdown",
   "metadata": {},
   "source": [
    "# CAD vs classified PCD upscaled"
   ]
  },
  {
   "attachments": {},
   "cell_type": "markdown",
   "metadata": {},
   "source": [
    "Evaluate which objects are not drawn i.e. which point cloud points marked as equipment are not near and drawn objects."
   ]
  },
  {
   "attachments": {},
   "cell_type": "markdown",
   "metadata": {},
   "source": [
    "separate point cloud "
   ]
  },
  {
   "cell_type": "code",
   "execution_count": null,
   "metadata": {},
   "outputs": [
    {
     "name": "stdout",
     "output_type": "stream",
     "text": [
      "[PointCloud with 80948 points., PointCloud with 49533 points., PointCloud with 509470 points., PointCloud with 176686 points., PointCloud with 108056 points., PointCloud with 370581 points., PointCloud with 408403 points., PointCloud with 74132 points., PointCloud with 107818 points., PointCloud with 132764 points., PointCloud with 78286 points., PointCloud with 28232 points., PointCloud with 62764 points., PointCloud with 278342 points.]\n",
      "[ 0  1  2  3  4  5  6  7  8  9 10 11 12 13]\n"
     ]
    }
   ],
   "source": [
    "distance_threshold=0.5\n",
    "\n",
    "#filter pcdNode.resource so it only contains points further than a threshold from pcd_cad\n",
    "dists = pcdNode.resource.compute_point_cloud_distance(pcd_cad) \n",
    "ind = np.where(np.asarray(dists) > distance_threshold)[0]\n",
    "pcd_tls=pcdNode.resource.select_by_index(ind)\n",
    "pcd_labels=np.int8(las.prediction[ind])\n",
    "pcd_classes,pcd_class_labels=gmu.split_pcd_by_labels(pcd_tls,pcd_labels)\n",
    "print(pcd_classes)\n",
    "print(pcd_class_labels)"
   ]
  },
  {
   "attachments": {},
   "cell_type": "markdown",
   "metadata": {},
   "source": [
    "create clusters"
   ]
  },
  {
   "cell_type": "code",
   "execution_count": null,
   "metadata": {},
   "outputs": [
    {
     "name": "stdout",
     "output_type": "stream",
     "text": [
      " 370 new potential nodes are found.\n"
     ]
    }
   ],
   "source": [
    "#segment pcd_tls per class and per cluster\n",
    "eps=0.2\n",
    "min_points=500\n",
    "\n",
    "#cluster per label\n",
    "pcdNodes=[]\n",
    "#iterate over pcd_classes\n",
    "for pcd,layer in zip(pcd_classes,pcd_class_labels):\n",
    "    \n",
    "    #compute clusters\n",
    "    labels = np.array(pcd.cluster_dbscan(eps=eps, min_points=min_points))  \n",
    "    clusters,labels=gmu.split_pcd_by_labels(pcd,labels)    \n",
    "    clusters=np.array(clusters)\n",
    "    \n",
    "    #create pointcloudnode per instance (if not -1)\n",
    "    for c,l in zip(clusters,labels):\n",
    "        if l!=-1:\n",
    "            pcdNodes.append(PointCloudNode(resource=c,\n",
    "                                        layer=layer\n",
    "                                        ))\n",
    "print(f' {len(pcdNodes)} new potential nodes are found.')"
   ]
  },
  {
   "cell_type": "code",
   "execution_count": null,
   "metadata": {},
   "outputs": [
    {
     "data": {
      "text/plain": [
       "(array([ 0,  1,  2,  3,  4,  5,  6,  7,  8,  9, 11, 12, 13], dtype=int8),\n",
       " array([ 16,   7,  55,  10,  15,  34, 114,  14,  29,  30,  10,   3,  33],\n",
       "       dtype=int64))"
      ]
     },
     "execution_count": 15,
     "metadata": {},
     "output_type": "execute_result"
    }
   ],
   "source": [
    "\n",
    "np.unique([n.layer for n in pcdNodes],return_counts=True)"
   ]
  },
  {
   "attachments": {},
   "cell_type": "markdown",
   "metadata": {},
   "source": [
    "visualize"
   ]
  },
  {
   "cell_type": "code",
   "execution_count": 164,
   "metadata": {},
   "outputs": [
    {
     "name": "stdout",
     "output_type": "stream",
     "text": [
      "[Open3D WARNING] GLFW Error: WGL: Failed to make context current: The handle is invalid. \n",
      "[Open3D WARNING] GLFW Error: WGL: Failed to make context current: The requested transformation operation is not supported. \n",
      "[Open3D WARNING] GLFW Error: WGL: Failed to make context current: The handle is invalid. \n",
      "[Open3D WARNING] GLFW Error: WGL: Failed to make context current: The handle is invalid. \n",
      "[Open3D WARNING] GLFW Error: WGL: Failed to make context current: The handle is invalid. \n",
      "[Open3D WARNING] GLFW Error: WGL: Failed to make context current: The handle is invalid. \n",
      "[Open3D WARNING] GLFW Error: WGL: Failed to make context current: The requested transformation operation is not supported. \n",
      "[Open3D WARNING] GLFW Error: WGL: Failed to make context current: The requested transformation operation is not supported. \n"
     ]
    }
   ],
   "source": [
    "#colorize per layer\n",
    "colors=[ut.random_color() for c in np.arange(num_classes)]\n",
    "# [n.resource.paint_uniform_color([0.9,0.9,0.9]) for n in cadNodes]\n",
    "\n",
    "[n.resource.paint_uniform_color(colors[n.layer]) for n in pcdNodes]\n",
    "joined_pcd=gmu.join_geometries([n.resource for n in pcdNodes])\n",
    "joined_cad=gmu.join_geometries([n.resource.paint_uniform_color([0,0,0]) for n in cadNodes])\n",
    "\n",
    "o3d.visualization.draw_geometries([joined_cad,joined_pcd,pcd_tls.paint_uniform_color([0.9,0.9,0.9])])  "
   ]
  },
  {
   "attachments": {},
   "cell_type": "markdown",
   "metadata": {},
   "source": [
    "create cadNode examples"
   ]
  },
  {
   "cell_type": "code",
   "execution_count": null,
   "metadata": {},
   "outputs": [],
   "source": [
    "#compute distance\n",
    "indices,distances=gmu.compute_nearest_neighbors(np.asarray(pcd_cad.points), np.asarray(pcdNode.resource.points))"
   ]
  },
  {
   "cell_type": "code",
   "execution_count": null,
   "metadata": {},
   "outputs": [
    {
     "name": "stdout",
     "output_type": "stream",
     "text": [
      "18301125\n",
      "18301125\n",
      "18301125\n",
      "18301125\n"
     ]
    }
   ],
   "source": [
    "print(identity_array.size)\n",
    "print(len(np.asarray(pcd_cad.points)))\n",
    "print(distances.size)\n",
    "print(identity_array.size)\n",
    "\n"
   ]
  },
  {
   "cell_type": "code",
   "execution_count": null,
   "metadata": {},
   "outputs": [],
   "source": [
    "for i,n in enumerate(cadNodes): #! this is poorly written\n",
    "    cadNodes[i].pcd=None\n",
    "    if n.presence==1:        \n",
    "        # take a slice and compare distances\n",
    "        ind=indices[identity_array==i ] #& (distances < distance_threshold)       \n",
    "        \n",
    "        # ind = indices[(distances < distance_threshold) & ())[0]]\n",
    "        cadNodes[i].pcd=pcdNode.resource.select_by_index(ind)            \n",
    "        # print(pcdNode.resource.select_by_index(ind))"
   ]
  },
  {
   "cell_type": "code",
   "execution_count": null,
   "metadata": {},
   "outputs": [
    {
     "name": "stdout",
     "output_type": "stream",
     "text": [
      "[Open3D WARNING] GLFW Error: WGL: Failed to make context current: The handle is invalid. \n"
     ]
    }
   ],
   "source": [
    "#colorize per layer\n",
    "colors=[ut.random_color() for c in np.arange(num_classes)]\n",
    "# [n.resource.paint_uniform_color([0.9,0.9,0.9]) for n in cadNodes]\n",
    "\n",
    "[n.pcd.paint_uniform_color(colors[n.i]) for n in cadNodes if n.pcd is not None]\n",
    "[n.resource.paint_uniform_color(colors[n.i]) for n in cadNodes if n.pcd is not None]\n",
    "\n",
    "joined_pcd=gmu.join_geometries([n.pcd for n in cadNodes if getattr(n,'pcd',None) is not None])\n",
    "joined_cad=gmu.join_geometries([n.resource for n in cadNodes if getattr(n,'pcd',None) is not None])\n",
    "\n",
    "o3d.visualization.draw_geometries([joined_cad,joined_pcd])  "
   ]
  },
  {
   "attachments": {},
   "cell_type": "markdown",
   "metadata": {},
   "source": [
    "match and create new Nodes"
   ]
  },
  {
   "cell_type": "code",
   "execution_count": null,
   "metadata": {},
   "outputs": [],
   "source": [
    "# compute normals of cad\n",
    "count_threshold=400\n",
    "cadNodes_t=[n for n in cadNodes if n.pcd and len(np.asarray(n.pcd.points)) >count_threshold]\n",
    "[n.pcd.estimate_normals(o3d.geometry.KDTreeSearchParamKNN(30)) for n in cadNodes_t]\n",
    "for i,n in enumerate(cadNodes_t):\n",
    "        cadNodes_t[i].pcd_fpfh = o3d.pipelines.registration.compute_fpfh_feature(n.pcd,o3d.geometry.KDTreeSearchParamKNN(30))\n",
    "\n"
   ]
  },
  {
   "cell_type": "code",
   "execution_count": null,
   "metadata": {},
   "outputs": [],
   "source": [
    "for i,node in enumerate(pcdNodes):\n",
    "    pcdNodes[i].resource.estimate_normals(o3d.geometry.KDTreeSearchParamKNN(30))\n",
    "    pcdNodes[i].pcd_fpfh = o3d.pipelines.registration.compute_fpfh_feature(node.resource,o3d.geometry.KDTreeSearchParamKNN(30)) "
   ]
  },
  {
   "cell_type": "code",
   "execution_count": null,
   "metadata": {},
   "outputs": [],
   "source": []
  },
  {
   "cell_type": "code",
   "execution_count": null,
   "metadata": {},
   "outputs": [
    {
     "name": "stdout",
     "output_type": "stream",
     "text": [
      " 33 new cadNodes are created.\n"
     ]
    }
   ],
   "source": [
    "extent_threshold=0.2\n",
    "max_correspondence_distance =1000\n",
    "\n",
    "\n",
    "newCadNodes=[]\n",
    "for i,node in enumerate(pcdNodes):\n",
    "    \n",
    "    # find cadNodes with the same layer\n",
    "    nodeCandidates=[n for n in cadNodes_t if n.i==node.layer]\n",
    "    \n",
    "    # check if volumes are approximately the same #! volume is not a good indicator, maybe dimension/ratio\n",
    "    box=node.resource.get_oriented_bounding_box()    \n",
    "    \n",
    "    nodeCandidates=[n for n in nodeCandidates if np.abs(n.get_oriented_bounding_box().extent[0]- box.extent[0])<extent_threshold*box.extent[0]]\n",
    "    \n",
    "    pcdNodes[i].nodeCandidates=nodeCandidates\n",
    "    \n",
    "    # check if FPFH feature matching has enough inliers en good fitness\n",
    "    if nodeCandidates:\n",
    "        \n",
    "        # #estimate normals\n",
    "        # node.resource.estimate_normals(o3d.geometry.KDTreeSearchParamKNN(30))\n",
    "        \n",
    "        # #compute features\n",
    "        # node.pcd_fpfh = o3d.pipelines.registration.compute_fpfh_feature(node.resource,o3d.geometry.KDTreeSearchParamKNN(30)) \n",
    "    \n",
    "        #registration\n",
    "        for c in nodeCandidates:\n",
    "            \n",
    "            candidate=copy.deepcopy(c)\n",
    "            \n",
    "            result = o3d.pipelines.registration.registration_ransac_based_on_feature_matching(\n",
    "            candidate.pcd,node.resource , candidate.pcd_fpfh, node.pcd_fpfh, True,\n",
    "            max_correspondence_distance ,\n",
    "            o3d.pipelines.registration.TransformationEstimationPointToPoint(False),\n",
    "            3, [\n",
    "                o3d.pipelines.registration.CorrespondenceCheckerBasedOnEdgeLength(\n",
    "                    0.9),\n",
    "                o3d.pipelines.registration.CorrespondenceCheckerBasedOnDistance(\n",
    "                    distance_threshold)\n",
    "            ], o3d.pipelines.registration.RANSACConvergenceCriteria(100000, 0.999))\n",
    "            if result.fitness >0.7 and result.inlier_rmse<0.1:\n",
    "                \n",
    "                # # fine registration\n",
    "                # max_correspondence_distance=0.3\n",
    "                # result=o3d.pipelines.registration.registration_generalized_icp(candidate.pcd,node.resource,max_correspondence_distance)\n",
    "                \n",
    "                # # if so, create new cadNode\n",
    "                newCadNodes.append(MeshNode(resource=candidate.resource.transform(result.transformation),\n",
    "                                            layer=node.layer,\n",
    "                                            fitness=result.fitness,\n",
    "                                            inlier_rmse=result.inlier_rmse,\n",
    "                                            isSameAs=c.subject))\n",
    "                break\n",
    "    \n",
    "print(f' {len(newCadNodes)} new cadNodes are created.')\n",
    "    "
   ]
  },
  {
   "attachments": {},
   "cell_type": "markdown",
   "metadata": {},
   "source": [
    "visualize"
   ]
  },
  {
   "cell_type": "code",
   "execution_count": 157,
   "metadata": {},
   "outputs": [
    {
     "name": "stdout",
     "output_type": "stream",
     "text": [
      "[Open3D WARNING] GLFW Error: WGL: Failed to make context current: The requested transformation operation is not supported. \n"
     ]
    }
   ],
   "source": [
    "#colorize per layer\n",
    "t=10\n",
    "# colors=[ut.random_color() for c in np.arange(num_classes)]\n",
    "[n.resource.paint_uniform_color([0.9,0.9,0.9]) for n in pcdNodes]\n",
    "[n.resource.paint_uniform_color([0.9,0.9,0.9]) for n in cadNodes_t]\n",
    "\n",
    "pcdNodes[t].resource.paint_uniform_color([1,0,0]) \n",
    "[n.resource.paint_uniform_color([0,1,0]) for n in pcdNodes[t].nodeCandidates]\n",
    "\n",
    "\n",
    "joined_pcd=gmu.join_geometries([n.resource for n in pcdNodes])\n",
    "joined_cad=gmu.join_geometries([n.resource for n in pcdNodes[t].nodeCandidates])\n",
    "# joined_cad=gmu.join_geometries([n.resource for n in nodeCandidates])\n",
    "\n",
    "\n",
    "o3d.visualization.draw_geometries([joined_cad,joined_pcd])  "
   ]
  },
  {
   "cell_type": "code",
   "execution_count": 159,
   "metadata": {},
   "outputs": [
    {
     "name": "stdout",
     "output_type": "stream",
     "text": [
      "[Open3D WARNING] GLFW Error: WGL: Failed to make context current: The requested transformation operation is not supported. \n"
     ]
    }
   ],
   "source": [
    "#colorize per layer\n",
    "colors=[ut.random_color() for c in np.arange(num_classes)]\n",
    "# [n.resource.paint_uniform_color([0.9,0.9,0.9]) for n in cadNodes]\n",
    "\n",
    "[n.resource.paint_uniform_color([0.9,0.9,0.9]) for n in pcdNodes]\n",
    "[n.resource.paint_uniform_color([1,0,0]) for n in newCadNodes]\n",
    "\n",
    "# for i,n in enumerate(newCadNodes):\n",
    "#     g=gmu.sample_geometry(newCadNodes[i].resource)\n",
    "#     newCadNodes[i].pcd=g[0].paint_uniform_color(colors[n.layer]) \n",
    "\n",
    "\n",
    "joined_pcd=gmu.join_geometries([n.resource for n in pcdNodes])\n",
    "joined_cad=gmu.join_geometries([n.resource for n in newCadNodes])\n",
    "\n",
    "o3d.visualization.draw_geometries([joined_cad,joined_pcd])  "
   ]
  },
  {
   "attachments": {},
   "cell_type": "markdown",
   "metadata": {},
   "source": [
    "save new nodes to folder"
   ]
  },
  {
   "cell_type": "code",
   "execution_count": null,
   "metadata": {},
   "outputs": [],
   "source": [
    "output_dir='D:/Data/2023-03 Elia Substation/output'\n",
    "[n.save_resource(output_dir) for n in newCadNodes]"
   ]
  },
  {
   "attachments": {},
   "cell_type": "markdown",
   "metadata": {},
   "source": [
    "    #save new cadNodes in separate folder\n",
    "[n.s]"
   ]
  }
 ],
 "metadata": {
  "kernelspec": {
   "display_name": "conda_environment3",
   "language": "python",
   "name": "python3"
  },
  "language_info": {
   "codemirror_mode": {
    "name": "ipython",
    "version": 3
   },
   "file_extension": ".py",
   "mimetype": "text/x-python",
   "name": "python",
   "nbconvert_exporter": "python",
   "pygments_lexer": "ipython3",
   "version": "3.8.13"
  },
  "orig_nbformat": 4
 },
 "nbformat": 4,
 "nbformat_minor": 2
}

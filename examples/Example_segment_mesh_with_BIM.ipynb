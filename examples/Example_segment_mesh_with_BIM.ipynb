{
 "cells": [
  {
   "cell_type": "markdown",
   "metadata": {},
   "source": [
    "# SEGMENT DATA FROM NEARBY NODES\n",
    "In this notebook, we make a subselection of the sessionGraph and segment the data\n",
    "As ouput, the method generates a selection of data\n",
    "\n",
    ">This codebase operates on the scan2bim2.yml environment (python 3.8)"
   ]
  },
  {
   "cell_type": "code",
   "execution_count": 3,
   "metadata": {},
   "outputs": [
    {
     "name": "stdout",
     "output_type": "stream",
     "text": [
      "Jupyter environment detected. Enabling Open3D WebVisualizer.\n",
      "[Open3D INFO] WebRTC GUI backend enabled.\n",
      "[Open3D INFO] WebRTCWindowSystem: HTTP handshake server disabled.\n"
     ]
    }
   ],
   "source": [
    "#IMPORT PACKAGES\n",
    "import rdflib\n",
    "from rdflib import Graph, plugin\n",
    "from rdflib.serializer import Serializer #pip install rdflib-jsonld https://pypi.org/project/rdflib-jsonld/\n",
    "from rdflib import Graph\n",
    "from rdflib import URIRef, BNode, Literal\n",
    "from rdflib.namespace import CSVW, DC, DCAT, DCTERMS, DOAP, FOAF, ODRL2, ORG, OWL, \\\n",
    "                           PROF, PROV, RDF, RDFS, SDO, SH, SKOS, SOSA, SSN, TIME, \\\n",
    "                           VOID, XMLNS, XSD\n",
    "import trimesh \n",
    "\n",
    "import os.path, time\n",
    "import importlib\n",
    "import numpy as np\n",
    "import xml.etree.ElementTree as ET\n",
    "import open3d as o3d\n",
    "import uuid    \n",
    "import pye57 \n",
    "import ifcopenshell\n",
    "import ifcopenshell.geom as geom\n",
    "import ifcopenshell.util\n",
    "import ifcopenshell.util.selector\n",
    "import operator\n",
    "import copy\n",
    "\n",
    "#IMPORT MODULES\n",
    "from context import geomapi \n",
    "from geomapi.nodes import *\n",
    "import geomapi.utils as ut\n",
    "from geomapi.utils import geometryutils as gmu\n",
    "import geomapi.tools as tl"
   ]
  },
  {
   "cell_type": "code",
   "execution_count": 4,
   "metadata": {},
   "outputs": [],
   "source": [
    "%load_ext autoreload"
   ]
  },
  {
   "cell_type": "code",
   "execution_count": 5,
   "metadata": {},
   "outputs": [],
   "source": [
    "%autoreload 2"
   ]
  },
  {
   "cell_type": "markdown",
   "metadata": {},
   "source": [
    "## 1. INPUTS"
   ]
  },
  {
   "cell_type": "code",
   "execution_count": 6,
   "metadata": {},
   "outputs": [],
   "source": [
    "## INPUTS\n",
    "projectPath= os.path.join(os.path.abspath(os.path.join(os.getcwd(), os.pardir)),\"tests\")\n",
    "sessionPath = os.path.join(projectPath, \"Samples3\" )\n",
    "\n",
    "bimGraphPath=os.path.join(sessionPath,'bimGraph.ttl')\n",
    "meshPath=os.path.join(sessionPath,'week22.obj')\n",
    "\n",
    "u=2.0 # (float) search distance in X given the boundingbox\n",
    "v=2.0 # (float) search distance in Y given the boundingbox\n",
    "z=1.0 # (float) search distance in Z given the boundingbox"
   ]
  },
  {
   "cell_type": "markdown",
   "metadata": {},
   "source": [
    "## 2. READ Data"
   ]
  },
  {
   "cell_type": "code",
   "execution_count": 7,
   "metadata": {},
   "outputs": [],
   "source": [
    "# Get BIM Nodes & calculate their Bboxes\n",
    "graph=Graph()\n",
    "graph.parse(bimGraphPath) \n",
    "BIMNodelist=tl.graph_to_nodes(graph,sessionPath=sessionPath)\n",
    "    \n",
    "# get/set Mesh Node\n",
    "meshNode=MeshNode(path=meshPath)"
   ]
  },
  {
   "cell_type": "code",
   "execution_count": 8,
   "metadata": {},
   "outputs": [
    {
     "name": "stdout",
     "output_type": "stream",
     "text": [
      "3\n"
     ]
    }
   ],
   "source": [
    "mesh=meshNode.mesh\n",
    "triangleIndices=[0,1,2]\n",
    "# triangleIndices=range(0,len(mesh.triangles))\n",
    "print(len(triangleIndices))\n",
    "\n"
   ]
  },
  {
   "cell_type": "code",
   "execution_count": 9,
   "metadata": {},
   "outputs": [
    {
     "name": "stdout",
     "output_type": "stream",
     "text": [
      "[[0 1 2]\n",
      " [3 4 5]\n",
      " [6 7 8]]\n"
     ]
    }
   ],
   "source": [
    "triangles=np.asarray([triangle for idx,triangle in enumerate(mesh.triangles) if idx in triangleIndices])\n",
    "print(triangles)"
   ]
  },
  {
   "cell_type": "code",
   "execution_count": 11,
   "metadata": {},
   "outputs": [
    {
     "name": "stdout",
     "output_type": "stream",
     "text": [
      "[[ 4.48127794 57.81929525 15.08696365]\n",
      " [-4.04033788 75.143514    4.46169472]\n",
      " [-4.02343432 75.10202026  5.12661028]]\n",
      "test_get_center. time: 0.9296307563781738\n"
     ]
    }
   ],
   "source": [
    "import time\n",
    "st = time.time()\n",
    "\n",
    "centers=gmu.get_triangles_center(mesh,triangleIndices)\n",
    "print(centers)\n",
    "et = time.time()\n",
    "print(\"test_get_center. time: \"+str(et - st))"
   ]
  },
  {
   "cell_type": "code",
   "execution_count": null,
   "metadata": {},
   "outputs": [],
   "source": [
    "\n"
   ]
  },
  {
   "cell_type": "markdown",
   "metadata": {},
   "source": [
    "# 5. SEGMENTATION 1: oriented Bounding Box\n",
    "select mesh triangles that lie within the oriented bounding box of a mesh"
   ]
  },
  {
   "cell_type": "code",
   "execution_count": null,
   "metadata": {},
   "outputs": [],
   "source": [
    "# get all boxes\n",
    "for node in BIMNodelist:\n",
    "    if getattr(node,'orientedBounds',None) is not None:\n",
    "        node.box=tl.oriented_bounds_to_open3d_oriented_bounding_box(node.orientedBounds)   \n",
    "        node.box=node.box.translate([0,0,-4])\n",
    "        node.box=gmu.expand_box(node.box,u=u,v=v,z=z)\n",
    "        node.box.color=[0,1,0]   "
   ]
  },
  {
   "cell_type": "code",
   "execution_count": null,
   "metadata": {},
   "outputs": [],
   "source": [
    "#show boxes\n",
    "# idx=2\n",
    "# BIMNodelist[idx].box=gmu.expand_box(BIMNodelist[idx].box,u=u,v=v,z=z)\n",
    "# BIMNodelist[idx].box.color=[1,0,0]\n",
    "boxes=[node.box for node in BIMNodelist]\n",
    "o3d.visualization.draw_geometries(boxes+[meshnode.mesh])"
   ]
  },
  {
   "cell_type": "code",
   "execution_count": 14,
   "metadata": {},
   "outputs": [
    {
     "name": "stdout",
     "output_type": "stream",
     "text": [
      "tests                                              time  \n"
     ]
    }
   ],
   "source": [
    "print('{:50s} {:5s} '.format('tests','time'))\n"
   ]
  },
  {
   "cell_type": "code",
   "execution_count": null,
   "metadata": {},
   "outputs": [],
   "source": [
    "#crop boxes\n",
    "croppedMesh=[None] * len(BIMNodelist)\n",
    "for node in BIMNodelist:\n",
    "    color=np.random.rand(3,1)\n",
    "    node.box.color=color\n",
    "    node.croppedMesh=gmu.crop_geometry(meshNnode.mesh, node.box,subdivide=0)\n",
    "    if node.croppedMesh != None:\n",
    "        node.croppedMesh.paint_uniform_color(color)"
   ]
  },
  {
   "cell_type": "code",
   "execution_count": null,
   "metadata": {},
   "outputs": [],
   "source": [
    "# visMeshes=[]\n",
    "# for mesh in croppedMesh:\n",
    "#     if mesh is not None:\n",
    "#         visMeshes.append(mesh.paint_uniform_color (np.random.rand(3,1)))\n",
    "boxes=[node.box for node in BIMNodelist if node.box != None]\n",
    "croppedMeshes=[node.croppedMesh for node in BIMNodelist if node.croppedMesh != None]\n",
    "o3d.visualization.draw_geometries(croppedMeshes + boxes)"
   ]
  },
  {
   "cell_type": "markdown",
   "metadata": {},
   "source": [
    "# 6. SEGMENTATION2: trimesh convex hull intersection\n",
    "cut a mesh that lies within the convex hull of another mesh"
   ]
  },
  {
   "cell_type": "code",
   "execution_count": null,
   "metadata": {},
   "outputs": [],
   "source": [
    "#create trimesh geometries & compute intersections\n",
    "triMesh= gmu.open3d_to_trimesh(meshNnode.mesh)\n",
    "for node in BIMNodelist: \n",
    "    triBox= gmu.open3d_to_trimesh(node.box)\n",
    "    new_mesh=gmu.mesh_intersection_convex_hull(triMesh,triBox,inside=True)\n",
    "    node.trimesh=new_mesh.as_open3d\n",
    "    node.trimesh.paint_uniform_color(node.box.color)"
   ]
  },
  {
   "cell_type": "code",
   "execution_count": null,
   "metadata": {},
   "outputs": [],
   "source": [
    "boxes=[node.box for node in BIMNodelist if node.box != None]\n",
    "meshes=[node.trimesh for node in BIMNodelist if node.trimesh != None]\n",
    "o3d.visualization.draw_geometries(meshes + boxes)"
   ]
  },
  {
   "cell_type": "markdown",
   "metadata": {},
   "source": [
    "# 7. SEGMENTATION3: Open3D raycast points\n",
    "determine which points of a mesh lie within a closed mesh (accurate geometry)"
   ]
  },
  {
   "cell_type": "code",
   "execution_count": null,
   "metadata": {},
   "outputs": [],
   "source": [
    "for node in BIMNodelist: \n",
    "    shape=gmu.open3d_box_to_mesh(node.box)\n",
    "    node.raymesh=gmu.mesh_intersection_raycasting(meshNnode.mesh, shape, inside = True,strict = True) # this is getting fairly slow\n",
    "    node.raymesh.paint_uniform_color(node.box.color)"
   ]
  },
  {
   "cell_type": "code",
   "execution_count": null,
   "metadata": {},
   "outputs": [],
   "source": [
    "boxes=[node.box for node in BIMNodelist if node.box != None]\n",
    "meshes=[node.raymesh for node in BIMNodelist if node.raymesh != None]\n",
    "o3d.visualization.draw_geometries(meshes + boxes)"
   ]
  }
 ],
 "metadata": {
  "kernelspec": {
   "display_name": "Python 3.5.6 ('UplinkBIM2_python')",
   "language": "python",
   "name": "python3"
  },
  "language_info": {
   "codemirror_mode": {
    "name": "ipython",
    "version": 3
   },
   "file_extension": ".py",
   "mimetype": "text/x-python",
   "name": "python",
   "nbconvert_exporter": "python",
   "pygments_lexer": "ipython3",
   "version": "3.5.6"
  },
  "orig_nbformat": 4,
  "vscode": {
   "interpreter": {
    "hash": "8033d097d0ad4267019e37ebcadd3db20b5b166982a91b6ae6a402bc2ef4e829"
   }
  }
 },
 "nbformat": 4,
 "nbformat_minor": 2
}

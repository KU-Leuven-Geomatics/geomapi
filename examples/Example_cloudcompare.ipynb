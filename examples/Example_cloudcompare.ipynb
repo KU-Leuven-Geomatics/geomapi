{
 "cells": [
  {
   "cell_type": "markdown",
   "metadata": {},
   "source": [
    "# PREPROCESSING BIM DATA TO LINKED DATA\n",
    "In this notebook, we evaluate the BIM assets in a session repository.\n",
    "For every ifcElement in an ifcfile, a BIMNODE metadata class is created \n",
    "that governs the metadata of the BIM element (paths, pose, etc.).\n",
    "As ouput, the method generates RDF GRAPHS (.ttl) and O3D.MESH (.obj) files\n",
    "\n",
    ">This codebase operates on the scan2bim2.yml environment (python 3.8) and ifcopenshell"
   ]
  },
  {
   "cell_type": "code",
   "execution_count": 35,
   "metadata": {},
   "outputs": [],
   "source": [
    "#IMPORT PACKAGES\n",
    "import rdflib\n",
    "from rdflib import Graph, plugin\n",
    "from rdflib.serializer import Serializer #pip install rdflib-jsonld https://pypi.org/project/rdflib-jsonld/\n",
    "from rdflib import Graph\n",
    "from rdflib import URIRef, BNode, Literal\n",
    "from rdflib.namespace import CSVW, DC, DCAT, DCTERMS, DOAP, FOAF, ODRL2, ORG, OWL, \\\n",
    "                           PROF, PROV, RDF, RDFS, SDO, SH, SKOS, SOSA, SSN, TIME, \\\n",
    "                           VOID, XMLNS, XSD\n",
    "\n",
    "import os.path, time\n",
    "import importlib\n",
    "import numpy as np\n",
    "import xml.etree.ElementTree as ET\n",
    "import open3d as o3d\n",
    "import uuid    \n",
    "import pye57 \n",
    "import ifcopenshell\n",
    "import ifcopenshell.geom as geom\n",
    "import subprocess\n",
    "\n",
    "#IMPORT MODULES\n",
    "from context import geomapi \n",
    "from geomapi.nodes import *\n",
    "import geomapi.utils as ut\n",
    "from geomapi.utils import geometryutils as gmu\n",
    "import geomapi.tools as tl"
   ]
  },
  {
   "cell_type": "code",
   "execution_count": null,
   "metadata": {},
   "outputs": [],
   "source": [
    "%load_ext autoreload"
   ]
  },
  {
   "cell_type": "code",
   "execution_count": null,
   "metadata": {},
   "outputs": [],
   "source": [
    "%autoreload 2"
   ]
  },
  {
   "cell_type": "markdown",
   "metadata": {},
   "source": [
    "## 1. INITIALIZE SESSION"
   ]
  },
  {
   "cell_type": "code",
   "execution_count": 36,
   "metadata": {},
   "outputs": [],
   "source": [
    "## INPUTS\n",
    "# ccPath=os.path.abspath(os.path.join(os.getcwd(), os.pardir))+\"\\\\3rdparty\\\\CloudCompare\\\\\"\n",
    "ccPath=r\"C:/Program Files/CloudCompare/CloudCompare\"\n",
    "\n",
    "pcdPath1= os.path.abspath(os.path.join(os.getcwd(), os.pardir))+\"\\\\tests\\\\Samples\\\\pointcloud_0.pcd\"\n",
    "pcdPath2= os.path.abspath(os.path.join(os.getcwd(), os.pardir))+\"\\\\tests\\\\Samples\\\\pointcloud_1.pcd\"\n",
    "meshPath1=os.path.abspath(os.path.join(os.getcwd(), os.pardir))+\"\\\\tests\\\\Samples\\\\week22.obj\""
   ]
  },
  {
   "cell_type": "code",
   "execution_count": 37,
   "metadata": {},
   "outputs": [
    {
     "data": {
      "text/plain": [
       "<module 'geomapi.pointcloudnode' from 'd:\\\\Scan-to-BIM repository\\\\geomapi\\\\geomapi\\\\pointcloudnode.py'>"
      ]
     },
     "execution_count": 37,
     "metadata": {},
     "output_type": "execute_result"
    }
   ],
   "source": [
    "importlib.reload(ld)\n",
    "importlib.reload(geomapi.bimnode)\n",
    "importlib.reload(geomapi.pointcloudnode)"
   ]
  },
  {
   "cell_type": "markdown",
   "metadata": {},
   "source": [
    "## 2. READ PCD FILES "
   ]
  },
  {
   "cell_type": "code",
   "execution_count": 21,
   "metadata": {},
   "outputs": [],
   "source": [
    "pcd1= o3d.io.read_point_cloud(pcdPath1)\n",
    "pcd2= o3d.io.read_point_cloud(pcdPath2)\n"
   ]
  },
  {
   "cell_type": "markdown",
   "metadata": {},
   "source": [
    "## 3. RUN CC COMMANDS\n",
    "https://docs.python.org/3/library/subprocess.html\n"
   ]
  },
  {
   "cell_type": "code",
   "execution_count": 30,
   "metadata": {},
   "outputs": [],
   "source": [
    "# Cloud-to-Mesh distance\n",
    "C2M=subprocess.Popen([ccPath,\"-O\",pcdPath1,\"-O\",meshPath1,\"-C_EXPORT_FMT\",\"LAS\",\"-AUTO_SAVE\",\"OFF\",\"-c2m_dist\",\"-SAVE_CLOUDS\" ,\"FILE\",\"RESULTS\"],\n",
    "                        universal_newlines=True,stdout=subprocess.PIPE)"
   ]
  },
  {
   "cell_type": "code",
   "execution_count": 38,
   "metadata": {},
   "outputs": [],
   "source": [
    "# Cloud-to-Mesh distance\n",
    "C2M=subprocess.Popen([ccPath,\"-O\",pcdPath1,\"-O\",pcdPath2,\"-C_EXPORT_FMT\",\"LAS\",\"-AUTO_SAVE\",\"OFF\",\"-c2c_dist\",\"-SAVE_CLOUDS\" ,\"FILE\",\"RESULTS\"],\n",
    "                        universal_newlines=True,stdout=subprocess.PIPE)"
   ]
  },
  {
   "cell_type": "code",
   "execution_count": null,
   "metadata": {},
   "outputs": [],
   "source": [
    "np.array"
   ]
  }
 ],
 "metadata": {
  "kernelspec": {
   "display_name": "Python 3.8.13 ('conda_environment3')",
   "language": "python",
   "name": "python3"
  },
  "language_info": {
   "codemirror_mode": {
    "name": "ipython",
    "version": 3
   },
   "file_extension": ".py",
   "mimetype": "text/x-python",
   "name": "python",
   "nbconvert_exporter": "python",
   "pygments_lexer": "ipython3",
   "version": "3.8.13"
  },
  "orig_nbformat": 4,
  "vscode": {
   "interpreter": {
    "hash": "801b4083378541fd050d6c91abf6ec053c863905e8162e031d57b83e7cdb3051"
   }
  }
 },
 "nbformat": 4,
 "nbformat_minor": 2
}

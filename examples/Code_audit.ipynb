{
 "cells": [
  {
   "cell_type": "markdown",
   "metadata": {},
   "source": [
    "# Code Audit\n",
    "\n",
    "A full overview of the codebase, evaluating the workflow and systems. Problematic functions are highlighted and alternatives are proposed"
   ]
  },
  {
   "cell_type": "markdown",
   "metadata": {},
   "source": [
    "## Utils\n",
    "The different utility functions, and why they exist"
   ]
  },
  {
   "cell_type": "code",
   "execution_count": 4,
   "metadata": {},
   "outputs": [
    {
     "name": "stdout",
     "output_type": "stream",
     "text": [
      "The autoreload extension is already loaded. To reload it, use:\n",
      "  %reload_ext autoreload\n"
     ]
    }
   ],
   "source": [
    "from context import geomapi\n",
    "import geomapi.utils as ut\n",
    "import numpy as np\n",
    "%load_ext autoreload\n",
    "%autoreload 2"
   ]
  },
  {
   "cell_type": "markdown",
   "metadata": {},
   "source": [
    "### `def get_min_average_and_max_value()`"
   ]
  },
  {
   "cell_type": "code",
   "execution_count": 3,
   "metadata": {},
   "outputs": [
    {
     "ename": "AttributeError",
     "evalue": "'list' object has no attribute 'flatten'",
     "output_type": "error",
     "traceback": [
      "\u001b[31m---------------------------------------------------------------------------\u001b[39m",
      "\u001b[31mAttributeError\u001b[39m                            Traceback (most recent call last)",
      "\u001b[36mCell\u001b[39m\u001b[36m \u001b[39m\u001b[32mIn[3]\u001b[39m\u001b[32m, line 2\u001b[39m\n\u001b[32m      1\u001b[39m \u001b[38;5;66;03m# Useless function, nowhere used, you can just get the min, max and average separately\u001b[39;00m\n\u001b[32m----> \u001b[39m\u001b[32m2\u001b[39m \u001b[43mut\u001b[49m\u001b[43m.\u001b[49m\u001b[43mget_min_average_and_max_value\u001b[49m\u001b[43m(\u001b[49m\u001b[43m[\u001b[49m\u001b[43m[\u001b[49m\u001b[32;43m1\u001b[39;49m\u001b[43m,\u001b[49m\u001b[32;43m2\u001b[39;49m\u001b[43m,\u001b[49m\u001b[32;43m3\u001b[39;49m\u001b[43m]\u001b[49m\u001b[43m]\u001b[49m\u001b[43m)\u001b[49m\n",
      "\u001b[36mFile \u001b[39m\u001b[32mc:\\Users\\jelle\\Documents\\DoctoraatLocal\\geomapi\\geomapi\\utils\\__init__.py:98\u001b[39m, in \u001b[36mget_min_average_and_max_value\u001b[39m\u001b[34m(arrays, ignoreZero, threshold)\u001b[39m\n\u001b[32m     95\u001b[39m maxarr=np.full(\u001b[38;5;28mlen\u001b[39m(arrays),np.nan)\n\u001b[32m     97\u001b[39m \u001b[38;5;28;01mfor\u001b[39;00m i,a \u001b[38;5;129;01min\u001b[39;00m \u001b[38;5;28menumerate\u001b[39m(arrays):\n\u001b[32m---> \u001b[39m\u001b[32m98\u001b[39m     a=\u001b[43ma\u001b[49m\u001b[43m.\u001b[49m\u001b[43mflatten\u001b[49m()\n\u001b[32m     99\u001b[39m     \u001b[38;5;28;01mif\u001b[39;00m ignoreZero:\n\u001b[32m    100\u001b[39m         a=a[np.nonzero(a)]\n",
      "\u001b[31mAttributeError\u001b[39m: 'list' object has no attribute 'flatten'"
     ]
    }
   ],
   "source": [
    "# Useless function, nowhere used, you can just get the min, max and average separately\n",
    "ut.get_min_average_and_max_value([[1,2,3]])"
   ]
  },
  {
   "cell_type": "markdown",
   "metadata": {},
   "source": [
    "### `def get_rotation_matrix_from_forward_up()`\n",
    "\n",
    "Define a rotation based on the forward and up vector"
   ]
  },
  {
   "cell_type": "code",
   "execution_count": 12,
   "metadata": {},
   "outputs": [
    {
     "name": "stdout",
     "output_type": "stream",
     "text": [
      "[[1. 0. 0.]\n",
      " [0. 1. 0.]\n",
      " [0. 0. 1.]]\n",
      "[[-1.  0.  0.]\n",
      " [ 0.  1.  0.]\n",
      " [ 0.  0. -1.]]\n"
     ]
    }
   ],
   "source": [
    "print(ut.get_rotation_matrix_from_forward_up(np.array([0,0,1]), np.array([0,1,0])))\n",
    "print(ut.get_rotation_matrix_from_forward_up(np.array([0,0,-1]), np.array([0,1,0])))"
   ]
  },
  {
   "cell_type": "markdown",
   "metadata": {},
   "source": [
    "### `def convert_to_homogeneous_3d_coordinates()`\n",
    "\n",
    "- why always return a 2D array?\n",
    "- what if already homogeneous, but not 1 at the end? -> normalise"
   ]
  },
  {
   "cell_type": "code",
   "execution_count": 20,
   "metadata": {},
   "outputs": [
    {
     "name": "stdout",
     "output_type": "stream",
     "text": [
      "[[1.  1.  5.  1. ]\n",
      " [0.5 1.  1.5 1. ]]\n",
      "[[1. 1. 5. 1.]]\n"
     ]
    }
   ],
   "source": [
    "print(ut.convert_to_homogeneous_3d_coordinates([[1,1,5,1],[1,2,3,2]]))\n",
    "print(ut.convert_to_homogeneous_3d_coordinates([1,1,5]))"
   ]
  },
  {
   "cell_type": "markdown",
   "metadata": {},
   "source": [
    "### `def get_geomapi_classes()`\n",
    "\n",
    "What is the use for this?"
   ]
  },
  {
   "cell_type": "code",
   "execution_count": null,
   "metadata": {},
   "outputs": [
    {
     "data": {
      "text/plain": [
       "[rdflib.term.URIRef('https://w3id.org/geomapi#Node'),\n",
       " rdflib.term.URIRef('https://w3id.org/geomapi#SetNode'),\n",
       " rdflib.term.URIRef('https://w3id.org/geomapi#PointCloudNode'),\n",
       " rdflib.term.URIRef('https://w3id.org/geomapi#MeshNode'),\n",
       " rdflib.term.URIRef('https://w3id.org/geomapi#LineSetNode'),\n",
       " rdflib.term.URIRef('https://w3id.org/geomapi#BIMNode'),\n",
       " rdflib.term.URIRef('https://w3id.org/geomapi#ImageNode'),\n",
       " rdflib.term.URIRef('https://w3id.org/geomapi#OrthoNode'),\n",
       " rdflib.term.URIRef('https://w3id.org/geomapi#PanoNode'),\n",
       " rdflib.term.URIRef('https://w3id.org/geomapi#RelativePart'),\n",
       " rdflib.term.URIRef('https://w3id.org/geomapi#AbsolutePart'),\n",
       " rdflib.term.URIRef('https://w3id.org/geomapi#Analysis'),\n",
       " rdflib.term.URIRef('https://w3id.org/geomapi#Result')]"
      ]
     },
     "execution_count": 29,
     "metadata": {},
     "output_type": "execute_result"
    }
   ],
   "source": [
    "# What is the use for this?\n",
    "ut.get_geomapi_classes()"
   ]
  },
  {
   "cell_type": "markdown",
   "metadata": {},
   "source": [
    "### `def get_folder()`\n",
    "\n",
    "2 functions exist"
   ]
  },
  {
   "cell_type": "code",
   "execution_count": null,
   "metadata": {},
   "outputs": [
    {
     "name": "stdout",
     "output_type": "stream",
     "text": [
      "C:\\Users\\jelle\\Documents\\DoctoraatLocal\\geomapi\\examples\n",
      "C:\\Users\\jelle\\Documents\\DoctoraatLocal\\geomapi\\examples\n"
     ]
    }
   ],
   "source": [
    "print(ut.get_folder(r\"C:\\Users\\jelle\\Documents\\DoctoraatLocal\\geomapi\\examples\\Code_audit.ipynb\"))\n",
    "print(ut.get_folder_path(r\"C:\\Users\\jelle\\Documents\\DoctoraatLocal\\geomapi\\examples\\Code_audit.ipynb\")) # deleted"
   ]
  },
  {
   "cell_type": "markdown",
   "metadata": {},
   "source": [
    "### `def get_timestamp()`\n",
    "\n",
    "The timestamp of a file should be when it is created, not when it is modified\n",
    "this works on windows, but not on linux, since there is no build in function for that"
   ]
  },
  {
   "cell_type": "code",
   "execution_count": 16,
   "metadata": {},
   "outputs": [
    {
     "name": "stdout",
     "output_type": "stream",
     "text": [
      "2025-03-12T14:08:33\n"
     ]
    },
    {
     "ename": "ValueError",
     "evalue": "Path does not exist",
     "output_type": "error",
     "traceback": [
      "\u001b[31m---------------------------------------------------------------------------\u001b[39m",
      "\u001b[31mValueError\u001b[39m                                Traceback (most recent call last)",
      "\u001b[36mCell\u001b[39m\u001b[36m \u001b[39m\u001b[32mIn[16]\u001b[39m\u001b[32m, line 2\u001b[39m\n\u001b[32m      1\u001b[39m \u001b[38;5;28mprint\u001b[39m(ut.get_timestamp(\u001b[33mr\u001b[39m\u001b[33m\"\u001b[39m\u001b[33mC:\u001b[39m\u001b[33m\\\u001b[39m\u001b[33mUsers\u001b[39m\u001b[33m\\\u001b[39m\u001b[33mjelle\u001b[39m\u001b[33m\\\u001b[39m\u001b[33mDocuments\u001b[39m\u001b[33m\\\u001b[39m\u001b[33mDoctoraatLocal\u001b[39m\u001b[33m\\\u001b[39m\u001b[33mgeomapi\u001b[39m\u001b[33m\\\u001b[39m\u001b[33mexamples\u001b[39m\u001b[33m\\\u001b[39m\u001b[33mCode_audit.ipynb\u001b[39m\u001b[33m\"\u001b[39m))\n\u001b[32m----> \u001b[39m\u001b[32m2\u001b[39m \u001b[38;5;28mprint\u001b[39m(\u001b[43mut\u001b[49m\u001b[43m.\u001b[49m\u001b[43mget_timestamp\u001b[49m\u001b[43m(\u001b[49m\u001b[33;43m\"\u001b[39;49m\u001b[33;43mstring\u001b[39;49m\u001b[33;43m\"\u001b[39;49m\u001b[43m)\u001b[49m)\n",
      "\u001b[36mFile \u001b[39m\u001b[32m<string>:14\u001b[39m, in \u001b[36mget_timestamp\u001b[39m\u001b[34m(path)\u001b[39m\n",
      "\u001b[31mValueError\u001b[39m: Path does not exist"
     ]
    }
   ],
   "source": [
    "print(ut.get_timestamp(r\"C:\\Users\\jelle\\Documents\\DoctoraatLocal\\geomapi\\examples\\Code_audit.ipynb\"))\n",
    "print(ut.get_timestamp(\"string\"))"
   ]
  },
  {
   "cell_type": "markdown",
   "metadata": {},
   "source": [
    "### `def literal_to_python()`\n",
    "\n",
    "Literals are pretty much always strings\n",
    "to python only converts them to float or int, to number seems more appropriate"
   ]
  },
  {
   "cell_type": "code",
   "execution_count": null,
   "metadata": {},
   "outputs": [
    {
     "name": "stdout",
     "output_type": "stream",
     "text": [
      "1.0\n",
      "1.0\n",
      "10\n"
     ]
    }
   ],
   "source": [
    "print(ut.literal_to_python(\"10\"))"
   ]
  },
  {
   "cell_type": "markdown",
   "metadata": {},
   "source": [
    "### `def literal_to_list()`"
   ]
  },
  {
   "cell_type": "code",
   "execution_count": 51,
   "metadata": {},
   "outputs": [
    {
     "name": "stdout",
     "output_type": "stream",
     "text": [
      "1\n",
      "[5, 'ei', 5.0]\n",
      "[5.0]\n"
     ]
    }
   ],
   "source": [
    "print(ut.string_to_list(\"[1,2,3]\")[0])\n",
    "print(ut.literal_to_list(\"[5,ei,5.0]\"))\n",
    "print(ut.literal_to_list(5.0))"
   ]
  },
  {
   "cell_type": "markdown",
   "metadata": {},
   "source": [
    "### `def cartesianTransform_to_literal()` 'featured3d_to_literal()'\n",
    "This is obsolete"
   ]
  },
  {
   "cell_type": "markdown",
   "metadata": {},
   "source": [
    "### `def validate_timestamp()`"
   ]
  },
  {
   "cell_type": "code",
   "execution_count": null,
   "metadata": {},
   "outputs": [
    {
     "data": {
      "text/plain": [
       "datetime.datetime(2021, 12, 7, 9, 38, 13)"
      ]
     },
     "execution_count": 35,
     "metadata": {},
     "output_type": "execute_result"
    }
   ],
   "source": [
    "import dateutil.parser\n",
    "dateutil.parser.parse(\"Tue Dec  7 09:38:13 2021\")"
   ]
  },
  {
   "cell_type": "code",
   "execution_count": null,
   "metadata": {},
   "outputs": [
    {
     "name": "stdout",
     "output_type": "stream",
     "text": [
      "2022-03-13 13:55:26 2022-03-13T13:55:26\n",
      "2021-12-07T09:38:13 2021-12-07T09:38:13\n",
      "2022-03-28T11:48:56.033126 2022-03-28T11:48:56.033126\n",
      "2022-03-13T13:55:26 2022-03-13T13:55:26\n"
     ]
    }
   ],
   "source": [
    "# Beter om default datetime terug te geven, zo kan de precisie ook bewaard blijven\n",
    "from datetime import datetime\n",
    "#string\n",
    "print(ut.validate_timestamp(\"2022:03:13 13:55:26\", asStr=False),\"2022-03-13T13:55:26\")\n",
    "#string\n",
    "print(ut.validate_timestamp('Tue Dec  7 09:38:13 2021'),\"2021-12-07T09:38:13\")\n",
    "#string\n",
    "print(ut.validate_timestamp(\"1648468136.033126\", millies=True),\"2022-03-28T11:48:56.033126\")\n",
    "#datetime object\n",
    "print(ut.validate_timestamp(datetime(2022,3,13,13,55,26)),\"2022-03-13T13:55:26\")\n"
   ]
  },
  {
   "cell_type": "markdown",
   "metadata": {},
   "source": [
    "## `def check_if_subject_is_in_graph()`"
   ]
  },
  {
   "cell_type": "code",
   "execution_count": 26,
   "metadata": {},
   "outputs": [
    {
     "name": "stdout",
     "output_type": "stream",
     "text": [
      "http://meshes#parking\n",
      "http://meshes#parking\n",
      "http://meshes#road\n",
      "http://meshes#railway\n",
      "http://meshes#road\n",
      "http://meshes#railway\n",
      "http://meshes#parking\n",
      "http://meshes#parking\n",
      "http://meshes#railway\n",
      "http://meshes#parking\n",
      "http://meshes#railway\n",
      "http://meshes#parking\n",
      "http://meshes#road\n",
      "http://meshes#parking\n",
      "http://meshes#parking\n",
      "http://meshes#railway\n",
      "http://meshes#parking\n",
      "http://meshes#parking\n",
      "http://meshes#road\n",
      "http://meshes#road\n",
      "http://meshes#road\n",
      "http://meshes#railway\n",
      "http://meshes#railway\n",
      "http://meshes#parking\n",
      "http://meshes#parking\n",
      "http://meshes#road\n",
      "http://meshes#road\n",
      "http://meshes#railway\n",
      "http://meshes#road\n",
      "http://meshes#road\n",
      "http://meshes#railway\n",
      "http://meshes#road\n"
     ]
    }
   ],
   "source": [
    "from rdflib import Graph\n",
    "imgGraphPath= r\"C:\\Users\\jelle\\Documents\\DoctoraatLocal\\geomapi\\tests\\testfiles\\graphs\\mesh_graph.ttl\"\n",
    "imgGraph=Graph().parse(str(imgGraphPath))\n",
    "for s in imgGraph.subjects():\n",
    "    print(s)"
   ]
  },
  {
   "cell_type": "markdown",
   "metadata": {},
   "source": [
    "### `def get_xsd_datatypes()` `get_ifcopenshell_class_name()`\n",
    "\n",
    "nut hiervan?"
   ]
  },
  {
   "cell_type": "markdown",
   "metadata": {},
   "source": [
    "## CADUtils"
   ]
  },
  {
   "cell_type": "code",
   "execution_count": null,
   "metadata": {},
   "outputs": [],
   "source": []
  },
  {
   "cell_type": "markdown",
   "metadata": {},
   "source": [
    "## Geometry Utils"
   ]
  },
  {
   "cell_type": "code",
   "execution_count": 27,
   "metadata": {},
   "outputs": [
    {
     "name": "stdout",
     "output_type": "stream",
     "text": [
      "[[-1.0000000e+00  0.0000000e+00  1.2246468e-16]\n",
      " [ 0.0000000e+00  1.0000000e+00  0.0000000e+00]\n",
      " [-1.2246468e-16  0.0000000e+00 -1.0000000e+00]]\n"
     ]
    },
    {
     "data": {
      "text/plain": [
       "array([ 180.,  180., -180.])"
      ]
     },
     "execution_count": 27,
     "metadata": {},
     "output_type": "execute_result"
    }
   ],
   "source": [
    "from geomapi.utils import geometryutils as gmu\n",
    "import quaternion\n",
    "# Test with parameters (center, extent, euler_angles)\n",
    "parameters = np.array([\n",
    "    [4, 5, 6],  # Center\n",
    "    [1, 2, 3],  # Extent\n",
    "    [0, np.pi, 0]   # Euler angles (no rotation)\n",
    "])\n",
    "obb = gmu.get_oriented_bounding_box(parameters)\n",
    "print(obb.R)\n",
    "quaternion.as_euler_angles(quaternion.from_rotation_matrix(obb.R)) * 180/np.pi"
   ]
  },
  {
   "cell_type": "code",
   "execution_count": null,
   "metadata": {},
   "outputs": [
    {
     "name": "stdout",
     "output_type": "stream",
     "text": [
      "The euler angles are derived from the rotation matrix, please note that this representation has a number of disadvantages\n",
      "[ 0.  0.  0.  1.  2.  3. 90.  0.  0.]\n",
      "The euler angles are derived from the rotation matrix, please note that this representation has a number of disadvantages\n",
      "[  0.           0.           0.           1.           2.\n",
      "   3.          84.23136778 -30.25159748  84.23136778]\n"
     ]
    }
   ],
   "source": [
    "# going back and forth to eulers can change rotations, except for very basic ones like 90 deg\n",
    "center = [0, 0, 0]\n",
    "extent = [1, 2, 3]\n",
    "euler_angles = [90, 0, 0]\n",
    "euler_angles2 = [60, 80, 60]\n",
    "\n",
    "obb = gmu.get_oriented_bounding_box(np.array([center, extent, euler_angles]), True)\n",
    "obb2 = gmu.get_oriented_bounding_box(np.array([center, extent, euler_angles2]), True)\n",
    "print(gmu.get_oriented_bounding_box_parameters(obb))\n",
    "print(gmu.get_oriented_bounding_box_parameters(obb2))\n"
   ]
  },
  {
   "cell_type": "code",
   "execution_count": null,
   "metadata": {},
   "outputs": [
    {
     "data": {
      "text/plain": [
       "array([[240.],\n",
       "       [320.]])"
      ]
     },
     "execution_count": 15,
     "metadata": {},
     "output_type": "execute_result"
    }
   ],
   "source": [
    "from geomapi.nodes import ImageNode\n",
    "\n",
    "node = ImageNode()\n",
    "\n",
    "node.world_to_pixel_coordinates([0,0,1])"
   ]
  },
  {
   "cell_type": "markdown",
   "metadata": {},
   "source": [
    "## PanoNode"
   ]
  },
  {
   "cell_type": "code",
   "execution_count": null,
   "metadata": {},
   "outputs": [],
   "source": [
    "_cartesianTransform = None\n",
    "if _cartesianTransform is None:\n",
    "    #you could initialize a pano in an upright position instead of forward to match a terrestrial vantage point\n",
    "    rotation_matrix_90_x=np.array( [[ 1, 0, 0.],\n",
    "                                    [ 0, 0,-1 ],\n",
    "                                    [ 0, 1, 0 ]])  \n",
    "    _cartesianTransform = gmu.get_cartesian_transform(rotation=rotation_matrix_90_x)    "
   ]
  },
  {
   "cell_type": "markdown",
   "metadata": {},
   "source": [
    "## Tools"
   ]
  },
  {
   "cell_type": "code",
   "execution_count": 34,
   "metadata": {},
   "outputs": [
    {
     "ename": "ValueError",
     "evalue": "Resource type not supported or len(resource.points) <3.",
     "output_type": "error",
     "traceback": [
      "\u001b[31m---------------------------------------------------------------------------\u001b[39m",
      "\u001b[31mValueError\u001b[39m                                Traceback (most recent call last)",
      "\u001b[36mCell\u001b[39m\u001b[36m \u001b[39m\u001b[32mIn[34]\u001b[39m\u001b[32m, line 4\u001b[39m\n\u001b[32m      2\u001b[39m \u001b[38;5;28;01mimport\u001b[39;00m\u001b[38;5;250m \u001b[39m\u001b[34;01mopen3d\u001b[39;00m\u001b[38;5;250m \u001b[39m\u001b[38;5;28;01mas\u001b[39;00m\u001b[38;5;250m \u001b[39m\u001b[34;01mo3d\u001b[39;00m\n\u001b[32m      3\u001b[39m cloud = o3d.geometry.PointCloud()\n\u001b[32m----> \u001b[39m\u001b[32m4\u001b[39m \u001b[43mtools\u001b[49m\u001b[43m.\u001b[49m\u001b[43mcreate_node\u001b[49m\u001b[43m(\u001b[49m\u001b[43mresource\u001b[49m\u001b[43m \u001b[49m\u001b[43m=\u001b[49m\u001b[43m \u001b[49m\u001b[43mcloud\u001b[49m\u001b[43m)\u001b[49m\n",
      "\u001b[36mFile \u001b[39m\u001b[32mc:\\Users\\jelle\\Documents\\DoctoraatLocal\\geomapi\\geomapi\\tools\\__init__.py:1185\u001b[39m, in \u001b[36mcreate_node\u001b[39m\u001b[34m(graph, graphPath, subject, resource, **kwargs)\u001b[39m\n\u001b[32m   1183\u001b[39m     node=GeometryNode(graph=graph, graphPath=graphPath, resource=resource, subject=subject, **kwargs)\n\u001b[32m   1184\u001b[39m \u001b[38;5;28;01melif\u001b[39;00m \u001b[33m'\u001b[39m\u001b[33mPointCloudNode\u001b[39m\u001b[33m'\u001b[39m \u001b[38;5;129;01min\u001b[39;00m nodeType:\n\u001b[32m-> \u001b[39m\u001b[32m1185\u001b[39m     node=\u001b[43mPointCloudNode\u001b[49m\u001b[43m(\u001b[49m\u001b[43mgraph\u001b[49m\u001b[43m=\u001b[49m\u001b[43mgraph\u001b[49m\u001b[43m,\u001b[49m\u001b[43m \u001b[49m\u001b[43mgraphPath\u001b[49m\u001b[43m=\u001b[49m\u001b[43mgraphPath\u001b[49m\u001b[43m,\u001b[49m\u001b[43m \u001b[49m\u001b[43mresource\u001b[49m\u001b[43m=\u001b[49m\u001b[43mresource\u001b[49m\u001b[43m,\u001b[49m\u001b[43m \u001b[49m\u001b[43msubject\u001b[49m\u001b[43m=\u001b[49m\u001b[43msubject\u001b[49m\u001b[43m,\u001b[49m\u001b[43m \u001b[49m\u001b[43m*\u001b[49m\u001b[43m*\u001b[49m\u001b[43mkwargs\u001b[49m\u001b[43m)\u001b[49m\n\u001b[32m   1186\u001b[39m \u001b[38;5;28;01melif\u001b[39;00m \u001b[33m'\u001b[39m\u001b[33mImageNode\u001b[39m\u001b[33m'\u001b[39m \u001b[38;5;129;01min\u001b[39;00m nodeType:\n\u001b[32m   1187\u001b[39m     node=ImageNode(graph=graph, graphPath=graphPath, resource=resource, subject=subject, **kwargs)\n",
      "\u001b[36mFile \u001b[39m\u001b[32mc:\\Users\\jelle\\Documents\\DoctoraatLocal\\geomapi\\geomapi\\nodes\\pointcloudnode.py:69\u001b[39m, in \u001b[36mPointCloudNode.__init__\u001b[39m\u001b[34m(self, graph, graphPath, subject, path, e57Index, resource, getResource, **kwargs)\u001b[39m\n\u001b[32m     66\u001b[39m \u001b[38;5;28mself\u001b[39m.e57Index = e57Index\n\u001b[32m     67\u001b[39m \u001b[38;5;66;03m# self.e57XmlPath = ut.parse_path(e57XmlPath)\u001b[39;00m\n\u001b[32m---> \u001b[39m\u001b[32m69\u001b[39m \u001b[38;5;28;43msuper\u001b[39;49m\u001b[43m(\u001b[49m\u001b[43m)\u001b[49m\u001b[43m.\u001b[49m\u001b[34;43m__init__\u001b[39;49m\u001b[43m(\u001b[49m\u001b[43m   \u001b[49m\u001b[43mgraph\u001b[49m\u001b[43m=\u001b[49m\u001b[43m \u001b[49m\u001b[43mgraph\u001b[49m\u001b[43m,\u001b[49m\n\u001b[32m     70\u001b[39m \u001b[43m                    \u001b[49m\u001b[43mgraphPath\u001b[49m\u001b[43m=\u001b[49m\u001b[43m \u001b[49m\u001b[43mgraphPath\u001b[49m\u001b[43m,\u001b[49m\n\u001b[32m     71\u001b[39m \u001b[43m                    \u001b[49m\u001b[43msubject\u001b[49m\u001b[43m=\u001b[49m\u001b[43m \u001b[49m\u001b[43msubject\u001b[49m\u001b[43m,\u001b[49m\n\u001b[32m     72\u001b[39m \u001b[43m                    \u001b[49m\u001b[43mpath\u001b[49m\u001b[43m=\u001b[49m\u001b[43mpath\u001b[49m\u001b[43m,\u001b[49m\n\u001b[32m     73\u001b[39m \u001b[43m                    \u001b[49m\u001b[43mresource\u001b[49m\u001b[43m \u001b[49m\u001b[43m=\u001b[49m\u001b[43m \u001b[49m\u001b[43mresource\u001b[49m\u001b[43m,\u001b[49m\n\u001b[32m     74\u001b[39m \u001b[43m                    \u001b[49m\u001b[43mgetResource\u001b[49m\u001b[43m=\u001b[49m\u001b[43mgetResource\u001b[49m\u001b[43m,\u001b[49m\n\u001b[32m     75\u001b[39m \u001b[43m                    \u001b[49m\u001b[43m*\u001b[49m\u001b[43m*\u001b[49m\u001b[43mkwargs\u001b[49m\u001b[43m)\u001b[49m    \n\u001b[32m     76\u001b[39m \u001b[38;5;66;03m#initialisation\u001b[39;00m\n\u001b[32m     77\u001b[39m \u001b[38;5;66;03m#  self.set_metadata_from_e57xml() if self.e57XmlPath else None\u001b[39;00m\n\u001b[32m     78\u001b[39m \u001b[38;5;28mself\u001b[39m.get_point_count()\n",
      "\u001b[36mFile \u001b[39m\u001b[32mc:\\Users\\jelle\\Documents\\DoctoraatLocal\\geomapi\\geomapi\\nodes\\node.py:95\u001b[39m, in \u001b[36mNode.__init__\u001b[39m\u001b[34m(self, subject, graph, graphPath, name, path, timestamp, resource, cartesianTransform, orientedBoundingBox, convexHull, getResource, **kwargs)\u001b[39m\n\u001b[32m     93\u001b[39m \u001b[38;5;28mself\u001b[39m.name=name\n\u001b[32m     94\u001b[39m \u001b[38;5;28mself\u001b[39m.timestamp=timestamp\n\u001b[32m---> \u001b[39m\u001b[32m95\u001b[39m \u001b[38;5;28;43mself\u001b[39;49m\u001b[43m.\u001b[49m\u001b[43mresource\u001b[49m=resource \n\u001b[32m     96\u001b[39m \u001b[38;5;28mself\u001b[39m.orientedBoundingBox=orientedBoundingBox\n\u001b[32m     97\u001b[39m \u001b[38;5;28mself\u001b[39m.convexHull=convexHull\n",
      "\u001b[36mFile \u001b[39m\u001b[32mc:\\Users\\jelle\\Documents\\DoctoraatLocal\\geomapi\\geomapi\\nodes\\node.py:259\u001b[39m, in \u001b[36mNode.resource\u001b[39m\u001b[34m(self, value)\u001b[39m\n\u001b[32m    257\u001b[39m     \u001b[38;5;28;01mpass\u001b[39;00m\n\u001b[32m    258\u001b[39m \u001b[38;5;28;01melse\u001b[39;00m:\n\u001b[32m--> \u001b[39m\u001b[32m259\u001b[39m     \u001b[38;5;28;43mself\u001b[39;49m\u001b[43m.\u001b[49m\u001b[43mset_resource\u001b[49m\u001b[43m(\u001b[49m\u001b[43mvalue\u001b[49m\u001b[43m)\u001b[49m\n",
      "\u001b[36mFile \u001b[39m\u001b[32mc:\\Users\\jelle\\Documents\\DoctoraatLocal\\geomapi\\geomapi\\nodes\\pointcloudnode.py:135\u001b[39m, in \u001b[36mPointCloudNode.set_resource\u001b[39m\u001b[34m(self, value)\u001b[39m\n\u001b[32m    133\u001b[39m     \u001b[38;5;28mself\u001b[39m._resource=gmu.las_to_pcd(value)\n\u001b[32m    134\u001b[39m \u001b[38;5;28;01melse\u001b[39;00m:\n\u001b[32m--> \u001b[39m\u001b[32m135\u001b[39m     \u001b[38;5;28;01mraise\u001b[39;00m \u001b[38;5;167;01mValueError\u001b[39;00m(\u001b[33m'\u001b[39m\u001b[33mResource type not supported or len(resource.points) <3.\u001b[39m\u001b[33m'\u001b[39m)\n",
      "\u001b[31mValueError\u001b[39m: Resource type not supported or len(resource.points) <3."
     ]
    }
   ],
   "source": [
    "from geomapi import tools\n",
    "import open3d as o3d\n",
    "cloud = o3d.geometry.PointCloud()\n",
    "tools.create_node(resource = cloud)"
   ]
  }
 ],
 "metadata": {
  "kernelspec": {
   "display_name": "env",
   "language": "python",
   "name": "python3"
  },
  "language_info": {
   "codemirror_mode": {
    "name": "ipython",
    "version": 3
   },
   "file_extension": ".py",
   "mimetype": "text/x-python",
   "name": "python",
   "nbconvert_exporter": "python",
   "pygments_lexer": "ipython3",
   "version": "3.11.7"
  }
 },
 "nbformat": 4,
 "nbformat_minor": 2
}

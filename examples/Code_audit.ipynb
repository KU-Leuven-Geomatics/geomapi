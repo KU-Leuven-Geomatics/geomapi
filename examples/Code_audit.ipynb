{
 "cells": [
  {
   "cell_type": "markdown",
   "metadata": {},
   "source": [
    "# Code Audit\n",
    "\n",
    "A full overview of the codebase, evaluating the workflow and systems. Problematic functions are highlighted and alternatives are proposed"
   ]
  },
  {
   "cell_type": "markdown",
   "metadata": {},
   "source": [
    "# Utils"
   ]
  },
  {
   "cell_type": "markdown",
   "metadata": {},
   "source": [
    "## base Utils\n",
    "The different utility functions, and why they exist"
   ]
  },
  {
   "cell_type": "code",
   "execution_count": 2,
   "metadata": {},
   "outputs": [
    {
     "name": "stdout",
     "output_type": "stream",
     "text": [
      "Jupyter environment detected. Enabling Open3D WebVisualizer.\n",
      "[Open3D INFO] WebRTC GUI backend enabled.\n",
      "[Open3D INFO] WebRTCWindowSystem: HTTP handshake server disabled.\n"
     ]
    }
   ],
   "source": [
    "from context import geomapi\n",
    "import geomapi.utils as ut\n",
    "import numpy as np\n",
    "%load_ext autoreload\n",
    "%autoreload 2"
   ]
  },
  {
   "cell_type": "markdown",
   "metadata": {},
   "source": [
    "### `def get_min_average_and_max_value()`"
   ]
  },
  {
   "cell_type": "code",
   "execution_count": 3,
   "metadata": {},
   "outputs": [
    {
     "ename": "AttributeError",
     "evalue": "'list' object has no attribute 'flatten'",
     "output_type": "error",
     "traceback": [
      "\u001b[31m---------------------------------------------------------------------------\u001b[39m",
      "\u001b[31mAttributeError\u001b[39m                            Traceback (most recent call last)",
      "\u001b[36mCell\u001b[39m\u001b[36m \u001b[39m\u001b[32mIn[3]\u001b[39m\u001b[32m, line 2\u001b[39m\n\u001b[32m      1\u001b[39m \u001b[38;5;66;03m# Useless function, nowhere used, you can just get the min, max and average separately\u001b[39;00m\n\u001b[32m----> \u001b[39m\u001b[32m2\u001b[39m \u001b[43mut\u001b[49m\u001b[43m.\u001b[49m\u001b[43mget_min_average_and_max_value\u001b[49m\u001b[43m(\u001b[49m\u001b[43m[\u001b[49m\u001b[43m[\u001b[49m\u001b[32;43m1\u001b[39;49m\u001b[43m,\u001b[49m\u001b[32;43m2\u001b[39;49m\u001b[43m,\u001b[49m\u001b[32;43m3\u001b[39;49m\u001b[43m]\u001b[49m\u001b[43m]\u001b[49m\u001b[43m)\u001b[49m\n",
      "\u001b[36mFile \u001b[39m\u001b[32mc:\\Users\\jelle\\Documents\\DoctoraatLocal\\geomapi\\geomapi\\utils\\__init__.py:98\u001b[39m, in \u001b[36mget_min_average_and_max_value\u001b[39m\u001b[34m(arrays, ignoreZero, threshold)\u001b[39m\n\u001b[32m     95\u001b[39m maxarr=np.full(\u001b[38;5;28mlen\u001b[39m(arrays),np.nan)\n\u001b[32m     97\u001b[39m \u001b[38;5;28;01mfor\u001b[39;00m i,a \u001b[38;5;129;01min\u001b[39;00m \u001b[38;5;28menumerate\u001b[39m(arrays):\n\u001b[32m---> \u001b[39m\u001b[32m98\u001b[39m     a=\u001b[43ma\u001b[49m\u001b[43m.\u001b[49m\u001b[43mflatten\u001b[49m()\n\u001b[32m     99\u001b[39m     \u001b[38;5;28;01mif\u001b[39;00m ignoreZero:\n\u001b[32m    100\u001b[39m         a=a[np.nonzero(a)]\n",
      "\u001b[31mAttributeError\u001b[39m: 'list' object has no attribute 'flatten'"
     ]
    }
   ],
   "source": [
    "# Useless function, nowhere used, you can just get the min, max and average separately\n",
    "ut.get_min_average_and_max_value([[1,2,3]])"
   ]
  },
  {
   "cell_type": "markdown",
   "metadata": {},
   "source": [
    "### `def get_rotation_matrix_from_forward_up()`\n",
    "\n",
    "Define a rotation based on the forward and up vector"
   ]
  },
  {
   "cell_type": "code",
   "execution_count": 12,
   "metadata": {},
   "outputs": [
    {
     "name": "stdout",
     "output_type": "stream",
     "text": [
      "[[1. 0. 0.]\n",
      " [0. 1. 0.]\n",
      " [0. 0. 1.]]\n",
      "[[-1.  0.  0.]\n",
      " [ 0.  1.  0.]\n",
      " [ 0.  0. -1.]]\n"
     ]
    }
   ],
   "source": [
    "print(ut.get_rotation_matrix_from_forward_up(np.array([0,0,1]), np.array([0,1,0])))\n",
    "print(ut.get_rotation_matrix_from_forward_up(np.array([0,0,-1]), np.array([0,1,0])))"
   ]
  },
  {
   "cell_type": "markdown",
   "metadata": {},
   "source": [
    "### `def convert_to_homogeneous_3d_coordinates()`\n",
    "\n",
    "- why always return a 2D array?\n",
    "- what if already homogeneous, but not 1 at the end? -> normalise"
   ]
  },
  {
   "cell_type": "code",
   "execution_count": 20,
   "metadata": {},
   "outputs": [
    {
     "name": "stdout",
     "output_type": "stream",
     "text": [
      "[[1.  1.  5.  1. ]\n",
      " [0.5 1.  1.5 1. ]]\n",
      "[[1. 1. 5. 1.]]\n"
     ]
    }
   ],
   "source": [
    "print(ut.convert_to_homogeneous_3d_coordinates([[1,1,5,1],[1,2,3,2]]))\n",
    "print(ut.convert_to_homogeneous_3d_coordinates([1,1,5]))"
   ]
  },
  {
   "cell_type": "markdown",
   "metadata": {},
   "source": [
    "### `def get_geomapi_classes()`\n",
    "\n",
    "What is the use for this?"
   ]
  },
  {
   "cell_type": "code",
   "execution_count": null,
   "metadata": {},
   "outputs": [
    {
     "data": {
      "text/plain": [
       "[rdflib.term.URIRef('https://w3id.org/geomapi#Node'),\n",
       " rdflib.term.URIRef('https://w3id.org/geomapi#SetNode'),\n",
       " rdflib.term.URIRef('https://w3id.org/geomapi#PointCloudNode'),\n",
       " rdflib.term.URIRef('https://w3id.org/geomapi#MeshNode'),\n",
       " rdflib.term.URIRef('https://w3id.org/geomapi#LineSetNode'),\n",
       " rdflib.term.URIRef('https://w3id.org/geomapi#BIMNode'),\n",
       " rdflib.term.URIRef('https://w3id.org/geomapi#ImageNode'),\n",
       " rdflib.term.URIRef('https://w3id.org/geomapi#OrthoNode'),\n",
       " rdflib.term.URIRef('https://w3id.org/geomapi#PanoNode'),\n",
       " rdflib.term.URIRef('https://w3id.org/geomapi#RelativePart'),\n",
       " rdflib.term.URIRef('https://w3id.org/geomapi#AbsolutePart'),\n",
       " rdflib.term.URIRef('https://w3id.org/geomapi#Analysis'),\n",
       " rdflib.term.URIRef('https://w3id.org/geomapi#Result')]"
      ]
     },
     "execution_count": 29,
     "metadata": {},
     "output_type": "execute_result"
    }
   ],
   "source": [
    "# What is the use for this?\n",
    "ut.get_geomapi_classes()"
   ]
  },
  {
   "cell_type": "markdown",
   "metadata": {},
   "source": [
    "### `def get_folder()`\n",
    "\n",
    "2 functions exist"
   ]
  },
  {
   "cell_type": "code",
   "execution_count": null,
   "metadata": {},
   "outputs": [
    {
     "name": "stdout",
     "output_type": "stream",
     "text": [
      "C:\\Users\\jelle\\Documents\\DoctoraatLocal\\geomapi\\examples\n",
      "C:\\Users\\jelle\\Documents\\DoctoraatLocal\\geomapi\\examples\n"
     ]
    }
   ],
   "source": [
    "print(ut.get_folder(r\"C:\\Users\\jelle\\Documents\\DoctoraatLocal\\geomapi\\examples\\Code_audit.ipynb\"))\n",
    "print(ut.get_folder_path(r\"C:\\Users\\jelle\\Documents\\DoctoraatLocal\\geomapi\\examples\\Code_audit.ipynb\")) # deleted"
   ]
  },
  {
   "cell_type": "markdown",
   "metadata": {},
   "source": [
    "### `def get_timestamp()`\n",
    "\n",
    "The timestamp of a file should be when it is created, not when it is modified\n",
    "this works on windows, but not on linux, since there is no build in function for that"
   ]
  },
  {
   "cell_type": "code",
   "execution_count": 16,
   "metadata": {},
   "outputs": [
    {
     "name": "stdout",
     "output_type": "stream",
     "text": [
      "2025-03-12T14:08:33\n"
     ]
    },
    {
     "ename": "ValueError",
     "evalue": "Path does not exist",
     "output_type": "error",
     "traceback": [
      "\u001b[31m---------------------------------------------------------------------------\u001b[39m",
      "\u001b[31mValueError\u001b[39m                                Traceback (most recent call last)",
      "\u001b[36mCell\u001b[39m\u001b[36m \u001b[39m\u001b[32mIn[16]\u001b[39m\u001b[32m, line 2\u001b[39m\n\u001b[32m      1\u001b[39m \u001b[38;5;28mprint\u001b[39m(ut.get_timestamp(\u001b[33mr\u001b[39m\u001b[33m\"\u001b[39m\u001b[33mC:\u001b[39m\u001b[33m\\\u001b[39m\u001b[33mUsers\u001b[39m\u001b[33m\\\u001b[39m\u001b[33mjelle\u001b[39m\u001b[33m\\\u001b[39m\u001b[33mDocuments\u001b[39m\u001b[33m\\\u001b[39m\u001b[33mDoctoraatLocal\u001b[39m\u001b[33m\\\u001b[39m\u001b[33mgeomapi\u001b[39m\u001b[33m\\\u001b[39m\u001b[33mexamples\u001b[39m\u001b[33m\\\u001b[39m\u001b[33mCode_audit.ipynb\u001b[39m\u001b[33m\"\u001b[39m))\n\u001b[32m----> \u001b[39m\u001b[32m2\u001b[39m \u001b[38;5;28mprint\u001b[39m(\u001b[43mut\u001b[49m\u001b[43m.\u001b[49m\u001b[43mget_timestamp\u001b[49m\u001b[43m(\u001b[49m\u001b[33;43m\"\u001b[39;49m\u001b[33;43mstring\u001b[39;49m\u001b[33;43m\"\u001b[39;49m\u001b[43m)\u001b[49m)\n",
      "\u001b[36mFile \u001b[39m\u001b[32m<string>:14\u001b[39m, in \u001b[36mget_timestamp\u001b[39m\u001b[34m(path)\u001b[39m\n",
      "\u001b[31mValueError\u001b[39m: Path does not exist"
     ]
    }
   ],
   "source": [
    "print(ut.get_timestamp(r\"C:\\Users\\jelle\\Documents\\DoctoraatLocal\\geomapi\\examples\\Code_audit.ipynb\"))\n",
    "print(ut.get_timestamp(\"string\"))"
   ]
  },
  {
   "cell_type": "markdown",
   "metadata": {},
   "source": [
    "### `def literal_to_python()`\n",
    "\n",
    "Literals are pretty much always strings\n",
    "to python only converts them to float or int, to number seems more appropriate"
   ]
  },
  {
   "cell_type": "code",
   "execution_count": null,
   "metadata": {},
   "outputs": [
    {
     "name": "stdout",
     "output_type": "stream",
     "text": [
      "1.0\n",
      "1.0\n",
      "10\n"
     ]
    }
   ],
   "source": [
    "print(ut.literal_to_python(\"10\"))"
   ]
  },
  {
   "cell_type": "markdown",
   "metadata": {},
   "source": [
    "### `def literal_to_list()`"
   ]
  },
  {
   "cell_type": "code",
   "execution_count": 51,
   "metadata": {},
   "outputs": [
    {
     "name": "stdout",
     "output_type": "stream",
     "text": [
      "1\n",
      "[5, 'ei', 5.0]\n",
      "[5.0]\n"
     ]
    }
   ],
   "source": [
    "print(ut.string_to_list(\"[1,2,3]\")[0])\n",
    "print(ut.literal_to_list(\"[5,ei,5.0]\"))\n",
    "print(ut.literal_to_list(5.0))"
   ]
  },
  {
   "cell_type": "markdown",
   "metadata": {},
   "source": [
    "### `def cartesianTransform_to_literal()` 'featured3d_to_literal()'\n",
    "This is obsolete"
   ]
  },
  {
   "cell_type": "markdown",
   "metadata": {},
   "source": [
    "### `def validate_timestamp()`"
   ]
  },
  {
   "cell_type": "code",
   "execution_count": null,
   "metadata": {},
   "outputs": [
    {
     "data": {
      "text/plain": [
       "datetime.datetime(2021, 12, 7, 9, 38, 13)"
      ]
     },
     "execution_count": 35,
     "metadata": {},
     "output_type": "execute_result"
    }
   ],
   "source": [
    "import dateutil.parser\n",
    "dateutil.parser.parse(\"Tue Dec  7 09:38:13 2021\")"
   ]
  },
  {
   "cell_type": "code",
   "execution_count": null,
   "metadata": {},
   "outputs": [
    {
     "name": "stdout",
     "output_type": "stream",
     "text": [
      "2022-03-13 13:55:26 2022-03-13T13:55:26\n",
      "2021-12-07T09:38:13 2021-12-07T09:38:13\n",
      "2022-03-28T11:48:56.033126 2022-03-28T11:48:56.033126\n",
      "2022-03-13T13:55:26 2022-03-13T13:55:26\n"
     ]
    }
   ],
   "source": [
    "# Beter om default datetime terug te geven, zo kan de precisie ook bewaard blijven\n",
    "from datetime import datetime\n",
    "#string\n",
    "print(ut.validate_timestamp(\"2022:03:13 13:55:26\", asStr=False),\"2022-03-13T13:55:26\")\n",
    "#string\n",
    "print(ut.validate_timestamp('Tue Dec  7 09:38:13 2021'),\"2021-12-07T09:38:13\")\n",
    "#string\n",
    "print(ut.validate_timestamp(\"1648468136.033126\", millies=True),\"2022-03-28T11:48:56.033126\")\n",
    "#datetime object\n",
    "print(ut.validate_timestamp(datetime(2022,3,13,13,55,26)),\"2022-03-13T13:55:26\")\n"
   ]
  },
  {
   "cell_type": "markdown",
   "metadata": {},
   "source": [
    "### `def check_if_subject_is_in_graph()`"
   ]
  },
  {
   "cell_type": "code",
   "execution_count": 26,
   "metadata": {},
   "outputs": [
    {
     "name": "stdout",
     "output_type": "stream",
     "text": [
      "http://meshes#parking\n",
      "http://meshes#parking\n",
      "http://meshes#road\n",
      "http://meshes#railway\n",
      "http://meshes#road\n",
      "http://meshes#railway\n",
      "http://meshes#parking\n",
      "http://meshes#parking\n",
      "http://meshes#railway\n",
      "http://meshes#parking\n",
      "http://meshes#railway\n",
      "http://meshes#parking\n",
      "http://meshes#road\n",
      "http://meshes#parking\n",
      "http://meshes#parking\n",
      "http://meshes#railway\n",
      "http://meshes#parking\n",
      "http://meshes#parking\n",
      "http://meshes#road\n",
      "http://meshes#road\n",
      "http://meshes#road\n",
      "http://meshes#railway\n",
      "http://meshes#railway\n",
      "http://meshes#parking\n",
      "http://meshes#parking\n",
      "http://meshes#road\n",
      "http://meshes#road\n",
      "http://meshes#railway\n",
      "http://meshes#road\n",
      "http://meshes#road\n",
      "http://meshes#railway\n",
      "http://meshes#road\n"
     ]
    }
   ],
   "source": [
    "from rdflib import Graph\n",
    "imgGraphPath= r\"C:\\Users\\jelle\\Documents\\DoctoraatLocal\\geomapi\\tests\\testfiles\\graphs\\mesh_graph.ttl\"\n",
    "imgGraph=Graph().parse(str(imgGraphPath))\n",
    "for s in imgGraph.subjects():\n",
    "    print(s)"
   ]
  },
  {
   "cell_type": "markdown",
   "metadata": {},
   "source": [
    "### `def get_xsd_datatypes()` `get_ifcopenshell_class_name()`\n",
    "\n",
    "nut hiervan?"
   ]
  },
  {
   "cell_type": "markdown",
   "metadata": {},
   "source": [
    "## CADUtils"
   ]
  },
  {
   "cell_type": "code",
   "execution_count": null,
   "metadata": {},
   "outputs": [
    {
     "name": "stdout",
     "output_type": "stream",
     "text": [
      "The autoreload extension is already loaded. To reload it, use:\n",
      "  %reload_ext autoreload\n"
     ]
    },
    {
     "data": {
      "text/plain": [
       "1.0"
      ]
     },
     "execution_count": 4,
     "metadata": {},
     "output_type": "execute_result"
    }
   ],
   "source": [
    "from context import geomapi\n",
    "import geomapi.utils.cadutils as cu\n",
    "import numpy as np\n",
    "%load_ext autoreload\n",
    "%autoreload 2"
   ]
  },
  {
   "cell_type": "markdown",
   "metadata": {},
   "source": [
    "### `calculate_perpendicular_distance()`\n",
    "\n",
    "perpendicular is loodrecht. de afstand tussen 2 loodrechte lijnen is altijd 0\n",
    "at is deze functie wordt berekend is de kleinst afstand tussen het snijpunt van de lijnen en het startpunt van beide lijnen"
   ]
  },
  {
   "cell_type": "code",
   "execution_count": null,
   "metadata": {},
   "outputs": [],
   "source": [
    "point1 = [2,2]\n",
    "point2 = [0,0]\n",
    "point3 = [0,1]\n",
    "point4 = [1,1]\n",
    "distance = 1\n",
    "cu.calculate_perpendicular_distance([point1, point2],[point3, point4])"
   ]
  },
  {
   "cell_type": "markdown",
   "metadata": {},
   "source": [
    "### `mesh_to_o3d()`\n",
    "\n",
    "not implemented"
   ]
  },
  {
   "cell_type": "markdown",
   "metadata": {},
   "source": [
    "### `get_linesets_inliers_in_box()`\n",
    "\n",
    "this function seems to require too many inputs that can be calculated itself, if this is usefull at all"
   ]
  },
  {
   "cell_type": "code",
   "execution_count": null,
   "metadata": {},
   "outputs": [
    {
     "name": "stdout",
     "output_type": "stream",
     "text": [
      "1.0\n",
      "10\n",
      "[array([0., 0., 0.]), array([0.1, 0. , 0. ]), array([0.2, 0. , 0. ]), array([0.3, 0. , 0. ]), array([0.4, 0. , 0. ]), array([0.5, 0. , 0. ]), array([0.6, 0. , 0. ]), array([0.7, 0. , 0. ]), array([0.8, 0. , 0. ]), array([0.9, 0. , 0. ]), array([1., 0., 0.])]\n"
     ]
    },
    {
     "data": {
      "text/plain": [
       "(PointCloud with 11 points.,\n",
       " array([[0, 0],\n",
       "        [0, 0],\n",
       "        [0, 0],\n",
       "        [0, 0],\n",
       "        [0, 0],\n",
       "        [0, 0],\n",
       "        [0, 0],\n",
       "        [0, 0],\n",
       "        [0, 0],\n",
       "        [0, 0],\n",
       "        [0, 0]]))"
      ]
     },
     "execution_count": 19,
     "metadata": {},
     "output_type": "execute_result"
    }
   ],
   "source": [
    "import open3d as o3d\n",
    "\n",
    "cu.get_linesets_inliers_in_box()\n",
    "\n",
    "points = o3d.utility.Vector3dVector([[0,0,0],[1.0,0,0]])\n",
    "lines = o3d.utility.Vector2iVector([[0,1]])\n",
    "lineset = o3d.geometry.LineSet(points = points, lines = lines)\n",
    "cu.sample_pcd_from_linesets([lineset])\n"
   ]
  },
  {
   "cell_type": "markdown",
   "metadata": {},
   "source": [
    "## Geometry Utils\n",
    "\n",
    "Geometryutils has a lot of functions, They can be filtered and grouped"
   ]
  },
  {
   "cell_type": "code",
   "execution_count": 3,
   "metadata": {},
   "outputs": [],
   "source": [
    "from geomapi.utils import geometryutils as gmu"
   ]
  },
  {
   "cell_type": "markdown",
   "metadata": {},
   "source": [
    "### `crop_mesh_by_convex_hull()`\n",
    "\n",
    "This function requires a trimesh mesh, while all the others are open3d"
   ]
  },
  {
   "cell_type": "code",
   "execution_count": null,
   "metadata": {},
   "outputs": [],
   "source": [
    "gmu.crop_mesh_by_convex_hull()"
   ]
  },
  {
   "cell_type": "markdown",
   "metadata": {},
   "source": [
    "### `get_points_and_normals()`\n",
    "\n",
    "- why added transform?\n",
    "- only half finished"
   ]
  },
  {
   "cell_type": "code",
   "execution_count": null,
   "metadata": {},
   "outputs": [],
   "source": [
    "gmu.get_points_and_normals()"
   ]
  },
  {
   "cell_type": "markdown",
   "metadata": {},
   "source": [
    "### `gmu.compute_nearest_neighbor_with_normal_filtering()`\n",
    "\n",
    "Combine the 2 functions"
   ]
  },
  {
   "cell_type": "code",
   "execution_count": null,
   "metadata": {},
   "outputs": [],
   "source": [
    "from geomapi.utils import geometryutils as gmu\n",
    "gmu.compute_nearest_neighbor_with_normal_filtering()\n",
    "gmu.compute_nearest_neighbors()"
   ]
  },
  {
   "cell_type": "markdown",
   "metadata": {},
   "source": [
    "### Distance querries\n",
    "\n",
    "I think we can reduse this by a lot\n",
    "- filter_geometry_by_distance (source, target, distance)\n",
    "- filter_geometry(source, target)"
   ]
  },
  {
   "cell_type": "code",
   "execution_count": null,
   "metadata": {},
   "outputs": [],
   "source": [
    "gmu.create_visible_point_cloud_from_meshes()\n",
    "gmu.crop_dataframe_from_meshes()\n",
    "gmu.crop_geometry_by_box()\n",
    "gmu.crop_geometry_by_distance() # Returns the portion of a pointcloud that lies within a range of another mesh/point cloud.\n",
    "gmu.crop_geometry_by_raycasting()\n",
    "gmu.crop_mesh_by_convex_hull() # trimesh cropping\n",
    "gmu.crop_point_cloud_from_meshes()\n",
    "gmu.filter_geometry_by_distance() # selects parts of a geometry that are within a certain distance from a single point\n",
    "gmu.filter_pcd_by_distance() # selects the points that are within a certain distance from the other pointcloud\n",
    "gmu.get_box_inliers()\n",
    "gmu.get_box_intersections()\n",
    "gmu.get_mesh_inliers()\n",
    "gmu.get_pcd_collisions()\n",
    "gmu.get_indices_in_hull()\n",
    "gmu.get_points_in_hull() # returns points inside and outside convex hull"
   ]
  },
  {
   "cell_type": "markdown",
   "metadata": {},
   "source": [
    "### `get_mesh_representation()`\n",
    "\n",
    "just converts to convex hull of pointcloud"
   ]
  },
  {
   "cell_type": "code",
   "execution_count": null,
   "metadata": {},
   "outputs": [],
   "source": [
    "gmu.get_mesh_representation()"
   ]
  },
  {
   "cell_type": "markdown",
   "metadata": {},
   "source": [
    "### `project_meshes_to_rgbd_images()`\n",
    "\n",
    "- I feel this works better as a tool function to fill a bunch of image nodes from a mesh and cam parameters\n",
    "- also why is this not just a screenshot function in open3d?"
   ]
  },
  {
   "cell_type": "code",
   "execution_count": null,
   "metadata": {},
   "outputs": [],
   "source": [
    "import open3d\n",
    "gmu.project_meshes_to_rgbd_images()\n",
    "# vb: open3d.visualization.rendering.OffscreenRenderer().render_to_depth_image()"
   ]
  },
  {
   "cell_type": "markdown",
   "metadata": {},
   "source": [
    "### `get_data3d_from_pcd()`\n",
    "- fix function name to indicate E57"
   ]
  },
  {
   "cell_type": "code",
   "execution_count": null,
   "metadata": {},
   "outputs": [],
   "source": [
    "gmu.get_data3d_from_pcd()"
   ]
  },
  {
   "cell_type": "markdown",
   "metadata": {},
   "source": [
    "### `describe_element()`\n",
    "\n",
    "- very vague function name\n",
    "- Takes the columns of a dataframe and builds a ply-like description."
   ]
  },
  {
   "cell_type": "code",
   "execution_count": null,
   "metadata": {},
   "outputs": [],
   "source": [
    "gmu.describe_element()"
   ]
  },
  {
   "cell_type": "markdown",
   "metadata": {},
   "source": [
    "### `img_to_arrays()`\n",
    "- should be in imageutils, also just reads an image\n",
    "- what is tasknummer??, purely for multiprocessing (put it in a wrapper function?)"
   ]
  },
  {
   "cell_type": "code",
   "execution_count": null,
   "metadata": {},
   "outputs": [],
   "source": [
    "gmu.img_to_arrays()\n",
    "\n",
    "def number_function(nr: int, func, *args):\n",
    "    return nr, func(*args)"
   ]
  },
  {
   "cell_type": "markdown",
   "metadata": {},
   "source": [
    "### `generate_visual_cone_from_image()`\n",
    "- create frustrum instead"
   ]
  },
  {
   "cell_type": "code",
   "execution_count": null,
   "metadata": {},
   "outputs": [],
   "source": [
    "gmu.generate_visual_cone_from_image()"
   ]
  },
  {
   "cell_type": "markdown",
   "metadata": {},
   "source": [
    "### `get_convex_hull()`\n",
    "\n",
    "- convex hulls of 2D objects should either be a fixed offset box or a 2d shape, not a randomly slightly enlarged box"
   ]
  },
  {
   "cell_type": "code",
   "execution_count": 6,
   "metadata": {},
   "outputs": [
    {
     "ename": "RuntimeError",
     "evalue": "QH6154 Qhull precision error: Initial simplex is flat (facet 1 is coplanar with the interior point)\n\nWhile executing:  | qhull Qt\nOptions selected for Qhull 2020.2.r 2020/08/31:\n  run-id 491205220  Qtriangulate  _pre-merge  _zero-centrum  _max-width  2\n  Error-roundoff 1.8e-15  _one-merge 1.3e-14  _near-inside 6.3e-14\n  Visible-distance 3.6e-15  U-max-coplanar 3.6e-15  Width-outside 7.2e-15\n  _wide-facet 2.1e-14  _maxoutside 1.4e-14\n\nprecision problems (corrected unless 'Q0' or an error)\n      4 degenerate hyperplanes recomputed with gaussian elimination\n      4 nearly singular or axis-parallel hyperplanes\n      4 zero divisors during back substitute\n      4 zero divisors during gaussian elimination\n\nThe input to qhull appears to be less than 3 dimensional, or a\ncomputation has overflowed.\n\nQhull could not construct a clearly convex simplex from points:\n- p3(v4):     0     0     0\n- p1(v3):     1     0     0\n- p2(v2):     2     0     0\n- p0(v1):     0     0     0\n\nThe center point is coplanar with a facet, or a vertex is coplanar\nwith a neighboring facet.  The maximum round off error for\ncomputing distances is 1.8e-15.  The center point, facets and distances\nto the center point are as follows:\n\ncenter point     0.75        0        0\n\nfacet p1 p2 p0 distance=    0\nfacet p3 p2 p0 distance=    0\nfacet p3 p1 p0 distance=    0\nfacet p3 p1 p2 distance=    0\n\nThese points either have a maximum or minimum x-coordinate, or\nthey maximize the determinant for k coordinates.  Trial points\nare first selected from points that maximize a coordinate.\n\nThe min and max coordinates for each dimension are:\n  0:         0         2  difference=    2\n  1:         0         0  difference=    0\n  2:         0         0  difference=    0\n\nIf the input should be full dimensional, you have several options that\nmay determine an initial simplex:\n  - use 'QJ'  to joggle the input and make it full dimensional\n  - use 'QbB' to scale the points to the unit cube\n  - use 'QR0' to randomly rotate the input for different maximum points\n  - use 'Qs'  to search all points for the initial simplex\n  - use 'En'  to specify a maximum roundoff error less than 1.8e-15.\n  - trace execution with 'T3' to see the determinant for each point.\n\nIf the input is lower dimensional:\n  - use 'QJ' to joggle the input and make it full dimensional\n  - use 'Qbk:0Bk:0' to delete coordinate k from the input.  You should\n    pick the coordinate with the least range.  The hull will have the\n    correct topology.\n  - determine the flat containing the points, rotate the points\n    into a coordinate plane, and delete the other coordinates.\n  - add one or more points to make the input full dimensional.\n",
     "output_type": "error",
     "traceback": [
      "\u001b[31m---------------------------------------------------------------------------\u001b[39m",
      "\u001b[31mRuntimeError\u001b[39m                              Traceback (most recent call last)",
      "\u001b[36mCell\u001b[39m\u001b[36m \u001b[39m\u001b[32mIn[6]\u001b[39m\u001b[32m, line 1\u001b[39m\n\u001b[32m----> \u001b[39m\u001b[32m1\u001b[39m \u001b[43mgmu\u001b[49m\u001b[43m.\u001b[49m\u001b[43mget_convex_hull\u001b[49m\u001b[43m(\u001b[49m\u001b[43mnp\u001b[49m\u001b[43m.\u001b[49m\u001b[43marray\u001b[49m\u001b[43m(\u001b[49m\u001b[43m[\u001b[49m\u001b[43m[\u001b[49m\u001b[32;43m0\u001b[39;49m\u001b[43m,\u001b[49m\u001b[32;43m0\u001b[39;49m\u001b[43m,\u001b[49m\u001b[32;43m0\u001b[39;49m\u001b[43m]\u001b[49m\u001b[43m,\u001b[49m\u001b[43m[\u001b[49m\u001b[32;43m1\u001b[39;49m\u001b[43m,\u001b[49m\u001b[32;43m0\u001b[39;49m\u001b[43m,\u001b[49m\u001b[32;43m0\u001b[39;49m\u001b[43m]\u001b[49m\u001b[43m,\u001b[49m\u001b[43m[\u001b[49m\u001b[32;43m2\u001b[39;49m\u001b[43m,\u001b[49m\u001b[32;43m0\u001b[39;49m\u001b[43m,\u001b[49m\u001b[32;43m0\u001b[39;49m\u001b[43m]\u001b[49m\u001b[43m]\u001b[49m\u001b[43m)\u001b[49m\u001b[43m)\u001b[49m\n",
      "\u001b[36mFile \u001b[39m\u001b[32mc:\\Users\\jelle\\Documents\\DoctoraatLocal\\geomapi\\geomapi\\utils\\geometryutils.py:1847\u001b[39m, in \u001b[36mget_convex_hull\u001b[39m\u001b[34m(value)\u001b[39m\n\u001b[32m   1845\u001b[39m if are_points_coplanar(value):\n\u001b[32m   1846\u001b[39m     points=move_points(value)\n\u001b[32m-> \u001b[39m\u001b[32m1847\u001b[39m else:\n\u001b[32m   1848\u001b[39m     points=value\n\u001b[32m   1849\u001b[39m hull=o3d.geometry.PointCloud(o3d.utility.Vector3dVector(points)).compute_convex_hull()[0]\n",
      "\u001b[31mRuntimeError\u001b[39m: QH6154 Qhull precision error: Initial simplex is flat (facet 1 is coplanar with the interior point)\n\nWhile executing:  | qhull Qt\nOptions selected for Qhull 2020.2.r 2020/08/31:\n  run-id 491205220  Qtriangulate  _pre-merge  _zero-centrum  _max-width  2\n  Error-roundoff 1.8e-15  _one-merge 1.3e-14  _near-inside 6.3e-14\n  Visible-distance 3.6e-15  U-max-coplanar 3.6e-15  Width-outside 7.2e-15\n  _wide-facet 2.1e-14  _maxoutside 1.4e-14\n\nprecision problems (corrected unless 'Q0' or an error)\n      4 degenerate hyperplanes recomputed with gaussian elimination\n      4 nearly singular or axis-parallel hyperplanes\n      4 zero divisors during back substitute\n      4 zero divisors during gaussian elimination\n\nThe input to qhull appears to be less than 3 dimensional, or a\ncomputation has overflowed.\n\nQhull could not construct a clearly convex simplex from points:\n- p3(v4):     0     0     0\n- p1(v3):     1     0     0\n- p2(v2):     2     0     0\n- p0(v1):     0     0     0\n\nThe center point is coplanar with a facet, or a vertex is coplanar\nwith a neighboring facet.  The maximum round off error for\ncomputing distances is 1.8e-15.  The center point, facets and distances\nto the center point are as follows:\n\ncenter point     0.75        0        0\n\nfacet p1 p2 p0 distance=    0\nfacet p3 p2 p0 distance=    0\nfacet p3 p1 p0 distance=    0\nfacet p3 p1 p2 distance=    0\n\nThese points either have a maximum or minimum x-coordinate, or\nthey maximize the determinant for k coordinates.  Trial points\nare first selected from points that maximize a coordinate.\n\nThe min and max coordinates for each dimension are:\n  0:         0         2  difference=    2\n  1:         0         0  difference=    0\n  2:         0         0  difference=    0\n\nIf the input should be full dimensional, you have several options that\nmay determine an initial simplex:\n  - use 'QJ'  to joggle the input and make it full dimensional\n  - use 'QbB' to scale the points to the unit cube\n  - use 'QR0' to randomly rotate the input for different maximum points\n  - use 'Qs'  to search all points for the initial simplex\n  - use 'En'  to specify a maximum roundoff error less than 1.8e-15.\n  - trace execution with 'T3' to see the determinant for each point.\n\nIf the input is lower dimensional:\n  - use 'QJ' to joggle the input and make it full dimensional\n  - use 'Qbk:0Bk:0' to delete coordinate k from the input.  You should\n    pick the coordinate with the least range.  The hull will have the\n    correct topology.\n  - determine the flat containing the points, rotate the points\n    into a coordinate plane, and delete the other coordinates.\n  - add one or more points to make the input full dimensional.\n"
     ]
    }
   ],
   "source": [
    "gmu.get_convex_hull(np.array([[0,0,0],[1,0,0],[2,0,0]]))"
   ]
  },
  {
   "cell_type": "markdown",
   "metadata": {},
   "source": [
    "### `get_oriented_bounding_box()`\n",
    "- same as convex hull"
   ]
  },
  {
   "cell_type": "code",
   "execution_count": 27,
   "metadata": {},
   "outputs": [
    {
     "name": "stdout",
     "output_type": "stream",
     "text": [
      "[[-1.0000000e+00  0.0000000e+00  1.2246468e-16]\n",
      " [ 0.0000000e+00  1.0000000e+00  0.0000000e+00]\n",
      " [-1.2246468e-16  0.0000000e+00 -1.0000000e+00]]\n"
     ]
    },
    {
     "data": {
      "text/plain": [
       "array([ 180.,  180., -180.])"
      ]
     },
     "execution_count": 27,
     "metadata": {},
     "output_type": "execute_result"
    }
   ],
   "source": [
    "from geomapi.utils import geometryutils as gmu\n",
    "import quaternion\n",
    "# Test with parameters (center, extent, euler_angles)\n",
    "parameters = np.array([\n",
    "    [4, 5, 6],  # Center\n",
    "    [1, 2, 3],  # Extent\n",
    "    [0, np.pi, 0]   # Euler angles (no rotation)\n",
    "])\n",
    "obb = gmu.get_oriented_bounding_box(parameters)\n",
    "print(obb.R)\n",
    "quaternion.as_euler_angles(quaternion.from_rotation_matrix(obb.R)) * 180/np.pi"
   ]
  },
  {
   "cell_type": "code",
   "execution_count": null,
   "metadata": {},
   "outputs": [
    {
     "name": "stdout",
     "output_type": "stream",
     "text": [
      "The euler angles are derived from the rotation matrix, please note that this representation has a number of disadvantages\n",
      "[ 0.  0.  0.  1.  2.  3. 90.  0.  0.]\n",
      "The euler angles are derived from the rotation matrix, please note that this representation has a number of disadvantages\n",
      "[  0.           0.           0.           1.           2.\n",
      "   3.          84.23136778 -30.25159748  84.23136778]\n"
     ]
    }
   ],
   "source": [
    "# going back and forth to eulers can change rotations, except for very basic ones like 90 deg\n",
    "center = [0, 0, 0]\n",
    "extent = [1, 2, 3]\n",
    "euler_angles = [90, 0, 0]\n",
    "euler_angles2 = [60, 80, 60]\n",
    "\n",
    "obb = gmu.get_oriented_bounding_box(np.array([center, extent, euler_angles]), True)\n",
    "obb2 = gmu.get_oriented_bounding_box(np.array([center, extent, euler_angles2]), True)\n",
    "print(gmu.get_oriented_bounding_box_parameters(obb))\n",
    "print(gmu.get_oriented_bounding_box_parameters(obb2))\n"
   ]
  },
  {
   "cell_type": "markdown",
   "metadata": {},
   "source": [
    "### `create_ellipsoid_mesh()`\n",
    "- why does this exist?\n",
    "-monkey patch into open3d?"
   ]
  },
  {
   "cell_type": "code",
   "execution_count": null,
   "metadata": {},
   "outputs": [],
   "source": [
    "gmu.create_ellipsoid_mesh()"
   ]
  },
  {
   "cell_type": "markdown",
   "metadata": {},
   "source": [
    "### Geometric operators\n",
    "\n",
    "- join_geometries (booleans)\n",
    "  - intersection\n",
    "  - union\n",
    "  - difference"
   ]
  },
  {
   "cell_type": "code",
   "execution_count": null,
   "metadata": {},
   "outputs": [],
   "source": [
    "gmu.join_geometries()"
   ]
  },
  {
   "cell_type": "markdown",
   "metadata": {},
   "source": [
    "## ImageUtils"
   ]
  },
  {
   "cell_type": "code",
   "execution_count": 7,
   "metadata": {},
   "outputs": [],
   "source": [
    "from geomapi.utils import imageutils as iu"
   ]
  },
  {
   "cell_type": "markdown",
   "metadata": {},
   "source": [
    "### `calculateGSD()`\n",
    "- tools or in ImageNode "
   ]
  },
  {
   "cell_type": "code",
   "execution_count": null,
   "metadata": {},
   "outputs": [],
   "source": [
    "iu.calculateGSD()"
   ]
  },
  {
   "cell_type": "markdown",
   "metadata": {},
   "source": [
    "### HED Line detection\n",
    "\n",
    "Tools if anywhere"
   ]
  },
  {
   "cell_type": "code",
   "execution_count": null,
   "metadata": {},
   "outputs": [],
   "source": [
    "iu.detect_hed_lines()"
   ]
  },
  {
   "cell_type": "markdown",
   "metadata": {},
   "source": [
    "### `fill_black_pixels()`\n",
    "\n",
    "- function name unclear\n",
    "- edge detection cleanup?"
   ]
  },
  {
   "cell_type": "code",
   "execution_count": null,
   "metadata": {},
   "outputs": [],
   "source": [
    "iu.fill_black_pixels()"
   ]
  },
  {
   "cell_type": "code",
   "execution_count": null,
   "metadata": {},
   "outputs": [
    {
     "data": {
      "text/plain": [
       "array([[240.],\n",
       "       [320.]])"
      ]
     },
     "execution_count": 15,
     "metadata": {},
     "output_type": "execute_result"
    }
   ],
   "source": [
    "from geomapi.nodes import ImageNode\n",
    "\n",
    "node = ImageNode()\n",
    "\n",
    "node.world_to_pixel_coordinates([0,0,1])"
   ]
  },
  {
   "cell_type": "markdown",
   "metadata": {},
   "source": [
    "### Image matching pipeline"
   ]
  },
  {
   "cell_type": "code",
   "execution_count": null,
   "metadata": {},
   "outputs": [],
   "source": [
    "iu.match_images()"
   ]
  },
  {
   "cell_type": "markdown",
   "metadata": {},
   "source": [
    "# Nodes"
   ]
  },
  {
   "cell_type": "markdown",
   "metadata": {},
   "source": [
    "## PanoNode"
   ]
  },
  {
   "cell_type": "code",
   "execution_count": null,
   "metadata": {},
   "outputs": [],
   "source": [
    "_cartesianTransform = None\n",
    "if _cartesianTransform is None:\n",
    "    #you could initialize a pano in an upright position instead of forward to match a terrestrial vantage point\n",
    "    rotation_matrix_90_x=np.array( [[ 1, 0, 0.],\n",
    "                                    [ 0, 0,-1 ],\n",
    "                                    [ 0, 1, 0 ]])  \n",
    "    _cartesianTransform = gmu.get_cartesian_transform(rotation=rotation_matrix_90_x)    "
   ]
  },
  {
   "cell_type": "markdown",
   "metadata": {},
   "source": [
    "# Tools"
   ]
  },
  {
   "cell_type": "markdown",
   "metadata": {},
   "source": [
    "## Base Tools"
   ]
  },
  {
   "cell_type": "code",
   "execution_count": 34,
   "metadata": {},
   "outputs": [
    {
     "ename": "ValueError",
     "evalue": "Resource type not supported or len(resource.points) <3.",
     "output_type": "error",
     "traceback": [
      "\u001b[31m---------------------------------------------------------------------------\u001b[39m",
      "\u001b[31mValueError\u001b[39m                                Traceback (most recent call last)",
      "\u001b[36mCell\u001b[39m\u001b[36m \u001b[39m\u001b[32mIn[34]\u001b[39m\u001b[32m, line 4\u001b[39m\n\u001b[32m      2\u001b[39m \u001b[38;5;28;01mimport\u001b[39;00m\u001b[38;5;250m \u001b[39m\u001b[34;01mopen3d\u001b[39;00m\u001b[38;5;250m \u001b[39m\u001b[38;5;28;01mas\u001b[39;00m\u001b[38;5;250m \u001b[39m\u001b[34;01mo3d\u001b[39;00m\n\u001b[32m      3\u001b[39m cloud = o3d.geometry.PointCloud()\n\u001b[32m----> \u001b[39m\u001b[32m4\u001b[39m \u001b[43mtools\u001b[49m\u001b[43m.\u001b[49m\u001b[43mcreate_node\u001b[49m\u001b[43m(\u001b[49m\u001b[43mresource\u001b[49m\u001b[43m \u001b[49m\u001b[43m=\u001b[49m\u001b[43m \u001b[49m\u001b[43mcloud\u001b[49m\u001b[43m)\u001b[49m\n",
      "\u001b[36mFile \u001b[39m\u001b[32mc:\\Users\\jelle\\Documents\\DoctoraatLocal\\geomapi\\geomapi\\tools\\__init__.py:1185\u001b[39m, in \u001b[36mcreate_node\u001b[39m\u001b[34m(graph, graphPath, subject, resource, **kwargs)\u001b[39m\n\u001b[32m   1183\u001b[39m     node=GeometryNode(graph=graph, graphPath=graphPath, resource=resource, subject=subject, **kwargs)\n\u001b[32m   1184\u001b[39m \u001b[38;5;28;01melif\u001b[39;00m \u001b[33m'\u001b[39m\u001b[33mPointCloudNode\u001b[39m\u001b[33m'\u001b[39m \u001b[38;5;129;01min\u001b[39;00m nodeType:\n\u001b[32m-> \u001b[39m\u001b[32m1185\u001b[39m     node=\u001b[43mPointCloudNode\u001b[49m\u001b[43m(\u001b[49m\u001b[43mgraph\u001b[49m\u001b[43m=\u001b[49m\u001b[43mgraph\u001b[49m\u001b[43m,\u001b[49m\u001b[43m \u001b[49m\u001b[43mgraphPath\u001b[49m\u001b[43m=\u001b[49m\u001b[43mgraphPath\u001b[49m\u001b[43m,\u001b[49m\u001b[43m \u001b[49m\u001b[43mresource\u001b[49m\u001b[43m=\u001b[49m\u001b[43mresource\u001b[49m\u001b[43m,\u001b[49m\u001b[43m \u001b[49m\u001b[43msubject\u001b[49m\u001b[43m=\u001b[49m\u001b[43msubject\u001b[49m\u001b[43m,\u001b[49m\u001b[43m \u001b[49m\u001b[43m*\u001b[49m\u001b[43m*\u001b[49m\u001b[43mkwargs\u001b[49m\u001b[43m)\u001b[49m\n\u001b[32m   1186\u001b[39m \u001b[38;5;28;01melif\u001b[39;00m \u001b[33m'\u001b[39m\u001b[33mImageNode\u001b[39m\u001b[33m'\u001b[39m \u001b[38;5;129;01min\u001b[39;00m nodeType:\n\u001b[32m   1187\u001b[39m     node=ImageNode(graph=graph, graphPath=graphPath, resource=resource, subject=subject, **kwargs)\n",
      "\u001b[36mFile \u001b[39m\u001b[32mc:\\Users\\jelle\\Documents\\DoctoraatLocal\\geomapi\\geomapi\\nodes\\pointcloudnode.py:69\u001b[39m, in \u001b[36mPointCloudNode.__init__\u001b[39m\u001b[34m(self, graph, graphPath, subject, path, e57Index, resource, getResource, **kwargs)\u001b[39m\n\u001b[32m     66\u001b[39m \u001b[38;5;28mself\u001b[39m.e57Index = e57Index\n\u001b[32m     67\u001b[39m \u001b[38;5;66;03m# self.e57XmlPath = ut.parse_path(e57XmlPath)\u001b[39;00m\n\u001b[32m---> \u001b[39m\u001b[32m69\u001b[39m \u001b[38;5;28;43msuper\u001b[39;49m\u001b[43m(\u001b[49m\u001b[43m)\u001b[49m\u001b[43m.\u001b[49m\u001b[34;43m__init__\u001b[39;49m\u001b[43m(\u001b[49m\u001b[43m   \u001b[49m\u001b[43mgraph\u001b[49m\u001b[43m=\u001b[49m\u001b[43m \u001b[49m\u001b[43mgraph\u001b[49m\u001b[43m,\u001b[49m\n\u001b[32m     70\u001b[39m \u001b[43m                    \u001b[49m\u001b[43mgraphPath\u001b[49m\u001b[43m=\u001b[49m\u001b[43m \u001b[49m\u001b[43mgraphPath\u001b[49m\u001b[43m,\u001b[49m\n\u001b[32m     71\u001b[39m \u001b[43m                    \u001b[49m\u001b[43msubject\u001b[49m\u001b[43m=\u001b[49m\u001b[43m \u001b[49m\u001b[43msubject\u001b[49m\u001b[43m,\u001b[49m\n\u001b[32m     72\u001b[39m \u001b[43m                    \u001b[49m\u001b[43mpath\u001b[49m\u001b[43m=\u001b[49m\u001b[43mpath\u001b[49m\u001b[43m,\u001b[49m\n\u001b[32m     73\u001b[39m \u001b[43m                    \u001b[49m\u001b[43mresource\u001b[49m\u001b[43m \u001b[49m\u001b[43m=\u001b[49m\u001b[43m \u001b[49m\u001b[43mresource\u001b[49m\u001b[43m,\u001b[49m\n\u001b[32m     74\u001b[39m \u001b[43m                    \u001b[49m\u001b[43mgetResource\u001b[49m\u001b[43m=\u001b[49m\u001b[43mgetResource\u001b[49m\u001b[43m,\u001b[49m\n\u001b[32m     75\u001b[39m \u001b[43m                    \u001b[49m\u001b[43m*\u001b[49m\u001b[43m*\u001b[49m\u001b[43mkwargs\u001b[49m\u001b[43m)\u001b[49m    \n\u001b[32m     76\u001b[39m \u001b[38;5;66;03m#initialisation\u001b[39;00m\n\u001b[32m     77\u001b[39m \u001b[38;5;66;03m#  self.set_metadata_from_e57xml() if self.e57XmlPath else None\u001b[39;00m\n\u001b[32m     78\u001b[39m \u001b[38;5;28mself\u001b[39m.get_point_count()\n",
      "\u001b[36mFile \u001b[39m\u001b[32mc:\\Users\\jelle\\Documents\\DoctoraatLocal\\geomapi\\geomapi\\nodes\\node.py:95\u001b[39m, in \u001b[36mNode.__init__\u001b[39m\u001b[34m(self, subject, graph, graphPath, name, path, timestamp, resource, cartesianTransform, orientedBoundingBox, convexHull, getResource, **kwargs)\u001b[39m\n\u001b[32m     93\u001b[39m \u001b[38;5;28mself\u001b[39m.name=name\n\u001b[32m     94\u001b[39m \u001b[38;5;28mself\u001b[39m.timestamp=timestamp\n\u001b[32m---> \u001b[39m\u001b[32m95\u001b[39m \u001b[38;5;28;43mself\u001b[39;49m\u001b[43m.\u001b[49m\u001b[43mresource\u001b[49m=resource \n\u001b[32m     96\u001b[39m \u001b[38;5;28mself\u001b[39m.orientedBoundingBox=orientedBoundingBox\n\u001b[32m     97\u001b[39m \u001b[38;5;28mself\u001b[39m.convexHull=convexHull\n",
      "\u001b[36mFile \u001b[39m\u001b[32mc:\\Users\\jelle\\Documents\\DoctoraatLocal\\geomapi\\geomapi\\nodes\\node.py:259\u001b[39m, in \u001b[36mNode.resource\u001b[39m\u001b[34m(self, value)\u001b[39m\n\u001b[32m    257\u001b[39m     \u001b[38;5;28;01mpass\u001b[39;00m\n\u001b[32m    258\u001b[39m \u001b[38;5;28;01melse\u001b[39;00m:\n\u001b[32m--> \u001b[39m\u001b[32m259\u001b[39m     \u001b[38;5;28;43mself\u001b[39;49m\u001b[43m.\u001b[49m\u001b[43mset_resource\u001b[49m\u001b[43m(\u001b[49m\u001b[43mvalue\u001b[49m\u001b[43m)\u001b[49m\n",
      "\u001b[36mFile \u001b[39m\u001b[32mc:\\Users\\jelle\\Documents\\DoctoraatLocal\\geomapi\\geomapi\\nodes\\pointcloudnode.py:135\u001b[39m, in \u001b[36mPointCloudNode.set_resource\u001b[39m\u001b[34m(self, value)\u001b[39m\n\u001b[32m    133\u001b[39m     \u001b[38;5;28mself\u001b[39m._resource=gmu.las_to_pcd(value)\n\u001b[32m    134\u001b[39m \u001b[38;5;28;01melse\u001b[39;00m:\n\u001b[32m--> \u001b[39m\u001b[32m135\u001b[39m     \u001b[38;5;28;01mraise\u001b[39;00m \u001b[38;5;167;01mValueError\u001b[39;00m(\u001b[33m'\u001b[39m\u001b[33mResource type not supported or len(resource.points) <3.\u001b[39m\u001b[33m'\u001b[39m)\n",
      "\u001b[31mValueError\u001b[39m: Resource type not supported or len(resource.points) <3."
     ]
    }
   ],
   "source": [
    "from geomapi import tools\n",
    "import open3d as o3d\n",
    "cloud = o3d.geometry.PointCloud()\n",
    "tools.create_node(resource = cloud)"
   ]
  }
 ],
 "metadata": {
  "kernelspec": {
   "display_name": "env",
   "language": "python",
   "name": "python3"
  },
  "language_info": {
   "codemirror_mode": {
    "name": "ipython",
    "version": 3
   },
   "file_extension": ".py",
   "mimetype": "text/x-python",
   "name": "python",
   "nbconvert_exporter": "python",
   "pygments_lexer": "ipython3",
   "version": "3.11.7"
  }
 },
 "nbformat": 4,
 "nbformat_minor": 2
}

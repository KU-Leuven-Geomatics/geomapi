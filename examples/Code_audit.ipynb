{
 "cells": [
  {
   "cell_type": "markdown",
   "metadata": {},
   "source": [
    "# Code Audit\n",
    "\n",
    "A full overview of the codebase, evaluating the workflow and systems. Problematic functions are highlighted and alternatives are proposed"
   ]
  },
  {
   "cell_type": "markdown",
   "metadata": {},
   "source": [
    "# Utils"
   ]
  },
  {
   "cell_type": "markdown",
   "metadata": {},
   "source": [
    "## base Utils\n",
    "The different utility functions, and why they exist"
   ]
  },
  {
   "cell_type": "code",
   "execution_count": 30,
   "metadata": {},
   "outputs": [
    {
     "name": "stdout",
     "output_type": "stream",
     "text": [
      "The autoreload extension is already loaded. To reload it, use:\n",
      "  %reload_ext autoreload\n"
     ]
    }
   ],
   "source": [
    "from context import geomapi\n",
    "import geomapi.utils as ut\n",
    "import numpy as np\n",
    "%load_ext autoreload\n",
    "%autoreload 2"
   ]
  },
  {
   "cell_type": "markdown",
   "metadata": {},
   "source": [
    "### `def get_geomapi_classes()`\n",
    "\n",
    "What is the use for this?"
   ]
  },
  {
   "cell_type": "code",
   "execution_count": null,
   "metadata": {},
   "outputs": [],
   "source": [
    "# What is the use for this?\n",
    "ut.get_geomapi_classes()"
   ]
  },
  {
   "cell_type": "markdown",
   "metadata": {},
   "source": [
    "### `get_node_resource_extensions()`\n",
    "- gebruik ontologie"
   ]
  },
  {
   "cell_type": "code",
   "execution_count": 42,
   "metadata": {},
   "outputs": [
    {
     "data": {
      "text/plain": [
       "['.JPG', '.PNG', '.JPEG', '.TIF']"
      ]
     },
     "execution_count": 42,
     "metadata": {},
     "output_type": "execute_result"
    }
   ],
   "source": [
    "ut.get_node_resource_extensions_old(\"ImageNode\")"
   ]
  },
  {
   "cell_type": "code",
   "execution_count": 43,
   "metadata": {},
   "outputs": [
    {
     "data": {
      "text/plain": [
       "['.dxf',\n",
       " '.obj',\n",
       " '.ply',\n",
       " '.fbx',\n",
       " '.pcd',\n",
       " '.e57',\n",
       " '.las',\n",
       " '.laz',\n",
       " '.pts',\n",
       " '.ply',\n",
       " '.csv',\n",
       " '.bin',\n",
       " '.xml',\n",
       " '.jpeg',\n",
       " '.jpg',\n",
       " '.png']"
      ]
     },
     "execution_count": 43,
     "metadata": {},
     "output_type": "execute_result"
    }
   ],
   "source": [
    "import geomapi.nodes\n",
    "\n",
    "\n",
    "ut.get_node_resource_extensions(geomapi.nodes.Node())"
   ]
  },
  {
   "cell_type": "markdown",
   "metadata": {},
   "source": [
    "### `def get_timestamp()`\n",
    "\n",
    "The timestamp of a file should be when it is created, not when it is modified\n",
    "this works on windows, but not on linux, since there is no build in function for that"
   ]
  },
  {
   "cell_type": "code",
   "execution_count": null,
   "metadata": {},
   "outputs": [],
   "source": [
    "print(ut.get_timestamp(r\"C:\\Users\\jelle\\Documents\\DoctoraatLocal\\geomapi\\examples\\Code_audit.ipynb\"))\n",
    "print(ut.get_timestamp(\"string\"))"
   ]
  },
  {
   "cell_type": "markdown",
   "metadata": {},
   "source": [
    "## Conversions\n",
    "\n",
    "Parsing strings to matrixes or numbers"
   ]
  },
  {
   "cell_type": "code",
   "execution_count": null,
   "metadata": {},
   "outputs": [],
   "source": [
    "from rdflib import Literal\n",
    "# strings\n",
    "ut.literal_to_string(\"tralala\")\n",
    "ut.literal_to_string(Literal(\"tralala\"))\n",
    "# Number\n",
    "ut.literal_to_int()\n",
    "ut.literal_to_float()\n",
    "#list\n",
    "ut.literal_to_list()\n",
    "#time\n",
    "ut.literal_to_datetime()\n",
    "#matrix\n",
    "ut.literal_to_matrix()"
   ]
  },
  {
   "cell_type": "markdown",
   "metadata": {},
   "source": [
    "### `def literal_to_python()`\n",
    "\n",
    "Literals are pretty much always strings\n",
    "to python only converts them to float or int, to number seems more appropriate"
   ]
  },
  {
   "cell_type": "code",
   "execution_count": null,
   "metadata": {},
   "outputs": [],
   "source": [
    "print(ut.literal_to_python(\"10\"))\n"
   ]
  },
  {
   "cell_type": "code",
   "execution_count": null,
   "metadata": {},
   "outputs": [],
   "source": [
    "ut.literal_to_float(\"5\")\n"
   ]
  },
  {
   "cell_type": "markdown",
   "metadata": {},
   "source": [
    "### `def literal_to_list()`"
   ]
  },
  {
   "cell_type": "code",
   "execution_count": null,
   "metadata": {},
   "outputs": [],
   "source": [
    "print(ut.string_to_list(\"[1,2,3]\")[0])\n",
    "print(ut.literal_to_list(\"[5,ei,5.0]\"))\n",
    "print(ut.literal_to_list(5.0))"
   ]
  },
  {
   "cell_type": "code",
   "execution_count": null,
   "metadata": {},
   "outputs": [],
   "source": [
    "ut.string_to_rotation_matrix() #delete"
   ]
  },
  {
   "cell_type": "markdown",
   "metadata": {},
   "source": [
    "### `def cartesianTransform_to_literal()` 'featured3d_to_literal()'\n",
    "This is obsolete"
   ]
  },
  {
   "cell_type": "markdown",
   "metadata": {},
   "source": [
    "### `def validate_timestamp()`"
   ]
  },
  {
   "cell_type": "code",
   "execution_count": null,
   "metadata": {},
   "outputs": [],
   "source": [
    "import dateutil.parser\n",
    "dateutil.parser.parse(\"Tue Dec  7 09:38:13 2021\")"
   ]
  },
  {
   "cell_type": "code",
   "execution_count": null,
   "metadata": {},
   "outputs": [],
   "source": [
    "# Beter om default datetime terug te geven, zo kan de precisie ook bewaard blijven\n",
    "from datetime import datetime\n",
    "#string\n",
    "print(ut.validate_timestamp(\"2022:03:13 13:55:26\", asStr=False),\"2022-03-13T13:55:26\")\n",
    "#string\n",
    "print(ut.validate_timestamp('Tue Dec  7 09:38:13 2021'),\"2021-12-07T09:38:13\")\n",
    "#string\n",
    "print(ut.validate_timestamp(\"1648468136.033126\", millies=True),\"2022-03-28T11:48:56.033126\")\n",
    "#datetime object\n",
    "print(ut.validate_timestamp(datetime(2022,3,13,13,55,26)),\"2022-03-13T13:55:26\")\n"
   ]
  },
  {
   "cell_type": "markdown",
   "metadata": {},
   "source": [
    "### `def check_if_subject_is_in_graph()`"
   ]
  },
  {
   "cell_type": "code",
   "execution_count": null,
   "metadata": {},
   "outputs": [],
   "source": [
    "from rdflib import Graph\n",
    "imgGraphPath= r\"C:\\Users\\jelle\\Documents\\DoctoraatLocal\\geomapi\\tests\\testfiles\\graphs\\mesh_graph.ttl\"\n",
    "imgGraph=Graph().parse(str(imgGraphPath))\n",
    "for s in imgGraph.subjects():\n",
    "    print(s)"
   ]
  },
  {
   "cell_type": "markdown",
   "metadata": {},
   "source": [
    "### `def get_xsd_datatypes()` `get_ifcopenshell_class_name()`\n",
    "\n",
    "nut hiervan?"
   ]
  },
  {
   "cell_type": "markdown",
   "metadata": {},
   "source": [
    "### `clean_attributes_list()`\n",
    "\n",
    "find a better method to limit the serialisation, "
   ]
  },
  {
   "cell_type": "code",
   "execution_count": null,
   "metadata": {},
   "outputs": [],
   "source": [
    "ut.clean_attributes_list()"
   ]
  },
  {
   "cell_type": "markdown",
   "metadata": {},
   "source": [
    "### `get_node_resource_extensions()`\n",
    "\n",
    "linkit to the ontology"
   ]
  },
  {
   "cell_type": "code",
   "execution_count": null,
   "metadata": {},
   "outputs": [],
   "source": [
    "ut.get_node_resource_extensions(\"MeshNode\")"
   ]
  },
  {
   "cell_type": "code",
   "execution_count": null,
   "metadata": {},
   "outputs": [],
   "source": [
    "from geomapi.nodes.meshnode import MeshNode\n",
    "\n",
    "node = MeshNode()\n",
    "print(type(node).__name__)"
   ]
  },
  {
   "cell_type": "code",
   "execution_count": null,
   "metadata": {},
   "outputs": [],
   "source": [
    "import geomapi.nodes\n",
    "\n",
    "# gets the extensions based on the defined domain\n",
    "ut.get_resource_extensions(geomapi.nodes.ImageNode())"
   ]
  },
  {
   "cell_type": "code",
   "execution_count": null,
   "metadata": {},
   "outputs": [],
   "source": [
    "ut.get_node_type(node)"
   ]
  },
  {
   "cell_type": "markdown",
   "metadata": {},
   "source": [
    "## CADUtils"
   ]
  },
  {
   "cell_type": "code",
   "execution_count": null,
   "metadata": {},
   "outputs": [],
   "source": [
    "from context import geomapi\n",
    "import geomapi.utils.cadutils as cu\n",
    "import numpy as np\n",
    "%load_ext autoreload\n",
    "%autoreload 2"
   ]
  },
  {
   "cell_type": "markdown",
   "metadata": {},
   "source": [
    "### `calculate_perpendicular_distance()`\n",
    "\n",
    "perpendicular is loodrecht. de afstand tussen 2 loodrechte lijnen is altijd 0\n",
    "at is deze functie wordt berekend is de kleinst afstand tussen het snijpunt van de lijnen en het startpunt van beide lijnen"
   ]
  },
  {
   "cell_type": "code",
   "execution_count": null,
   "metadata": {},
   "outputs": [],
   "source": [
    "point1 = [2,2]\n",
    "point2 = [0,0]\n",
    "point3 = [0,1]\n",
    "point4 = [1,1]\n",
    "distance = 1\n",
    "cu.calculate_perpendicular_distance([point1, point2],[point3, point4])"
   ]
  },
  {
   "cell_type": "markdown",
   "metadata": {},
   "source": [
    "### `mesh_to_o3d()`\n",
    "\n",
    "not implemented"
   ]
  },
  {
   "cell_type": "markdown",
   "metadata": {},
   "source": [
    "### `get_linesets_inliers_in_box()`\n",
    "\n",
    "this function seems to require too many inputs that can be calculated itself, if this is usefull at all"
   ]
  },
  {
   "cell_type": "code",
   "execution_count": null,
   "metadata": {},
   "outputs": [],
   "source": [
    "import open3d as o3d\n",
    "\n",
    "cu.get_linesets_inliers_in_box()\n",
    "\n",
    "points = o3d.utility.Vector3dVector([[0,0,0],[1.0,0,0]])\n",
    "lines = o3d.utility.Vector2iVector([[0,1]])\n",
    "lineset = o3d.geometry.LineSet(points = points, lines = lines)\n",
    "cu.sample_pcd_from_linesets([lineset])\n"
   ]
  },
  {
   "cell_type": "markdown",
   "metadata": {},
   "source": [
    "## Geometry Utils\n",
    "\n",
    "Geometryutils has a lot of functions, They can be filtered and grouped"
   ]
  },
  {
   "cell_type": "code",
   "execution_count": null,
   "metadata": {},
   "outputs": [],
   "source": [
    "from geomapi.utils import geometryutils as gmu"
   ]
  },
  {
   "cell_type": "code",
   "execution_count": null,
   "metadata": {},
   "outputs": [],
   "source": [
    "import open3d as o3d\n",
    "tri = gmu.mesh_to_trimesh(o3d.io.read_triangle_mesh(r\"C:\\Users\\jelle\\Documents\\DoctoraatLocal\\geomapi\\tests\\testfiles\\mesh\\old_state.obj\"))"
   ]
  },
  {
   "cell_type": "markdown",
   "metadata": {},
   "source": [
    "### `crop_mesh_by_convex_hull()`\n",
    "\n",
    "This function requires a trimesh mesh, while all the others are open3d"
   ]
  },
  {
   "cell_type": "code",
   "execution_count": null,
   "metadata": {},
   "outputs": [],
   "source": [
    "gmu.crop_mesh_by_convex_hull()"
   ]
  },
  {
   "cell_type": "markdown",
   "metadata": {},
   "source": [
    "### `get_points_and_normals()`\n",
    "\n",
    "- why added transform?\n",
    "- only half finished"
   ]
  },
  {
   "cell_type": "code",
   "execution_count": null,
   "metadata": {},
   "outputs": [],
   "source": [
    "gmu.get_points_and_normals()"
   ]
  },
  {
   "cell_type": "markdown",
   "metadata": {},
   "source": [
    "### `gmu.compute_nearest_neighbor_with_normal_filtering()`\n",
    "\n",
    "Combine the 2 functions"
   ]
  },
  {
   "cell_type": "code",
   "execution_count": null,
   "metadata": {},
   "outputs": [],
   "source": [
    "from geomapi.utils import geometryutils as gmu\n",
    "gmu.compute_nearest_neighbor_with_normal_filtering()\n",
    "gmu.compute_nearest_neighbors()"
   ]
  },
  {
   "cell_type": "markdown",
   "metadata": {},
   "source": [
    "### Distance querries\n",
    "\n",
    "I think we can reduse this by a lot\n",
    "- filter_geometry_by_distance (source, target, distance)\n",
    "- filter_geometry(source, target)"
   ]
  },
  {
   "cell_type": "code",
   "execution_count": null,
   "metadata": {},
   "outputs": [],
   "source": [
    "gmu.create_visible_point_cloud_from_meshes()\n",
    "gmu.crop_dataframe_from_meshes()\n",
    "gmu.crop_geometry_by_box()\n",
    "gmu.crop_geometry_by_distance() # Returns the portion of a pointcloud that lies within a range of another mesh/point cloud.\n",
    "gmu.crop_geometry_by_raycasting()\n",
    "gmu.crop_mesh_by_convex_hull() # trimesh cropping\n",
    "gmu.crop_point_cloud_from_meshes()\n",
    "gmu.filter_geometry_by_distance() # selects parts of a geometry that are within a certain distance from a single point\n",
    "gmu.filter_pcd_by_distance() # selects the points that are within a certain distance from the other pointcloud\n",
    "gmu.get_box_inliers()\n",
    "gmu.get_box_intersections()\n",
    "gmu.get_mesh_inliers()\n",
    "gmu.get_pcd_collisions()\n",
    "gmu.get_indices_in_hull()\n",
    "gmu.get_points_in_hull() # returns points inside and outside convex hull"
   ]
  },
  {
   "cell_type": "markdown",
   "metadata": {},
   "source": [
    "### `get_mesh_representation()`\n",
    "\n",
    "just converts to convex hull of pointcloud"
   ]
  },
  {
   "cell_type": "code",
   "execution_count": null,
   "metadata": {},
   "outputs": [],
   "source": [
    "gmu.get_mesh_representation()"
   ]
  },
  {
   "cell_type": "markdown",
   "metadata": {},
   "source": [
    "### `project_meshes_to_rgbd_images()`\n",
    "\n",
    "- I feel this works better as a tool function to fill a bunch of image nodes from a mesh and cam parameters\n",
    "- also why is this not just a screenshot function in open3d?"
   ]
  },
  {
   "cell_type": "code",
   "execution_count": null,
   "metadata": {},
   "outputs": [],
   "source": [
    "import open3d\n",
    "gmu.project_meshes_to_rgbd_images()\n",
    "# vb: open3d.visualization.rendering.OffscreenRenderer().render_to_depth_image()"
   ]
  },
  {
   "cell_type": "markdown",
   "metadata": {},
   "source": [
    "### `get_data3d_from_pcd()`\n",
    "- fix function name to indicate E57"
   ]
  },
  {
   "cell_type": "code",
   "execution_count": null,
   "metadata": {},
   "outputs": [],
   "source": [
    "gmu.get_data3d_from_pcd()"
   ]
  },
  {
   "cell_type": "markdown",
   "metadata": {},
   "source": [
    "### `describe_element()`\n",
    "\n",
    "- very vague function name\n",
    "- Takes the columns of a dataframe and builds a ply-like description."
   ]
  },
  {
   "cell_type": "code",
   "execution_count": null,
   "metadata": {},
   "outputs": [],
   "source": [
    "gmu.describe_element()"
   ]
  },
  {
   "cell_type": "markdown",
   "metadata": {},
   "source": [
    "### `img_to_arrays()`\n",
    "- should be in imageutils, also just reads an image\n",
    "- what is tasknummer??, purely for multiprocessing (put it in a wrapper function?)"
   ]
  },
  {
   "cell_type": "code",
   "execution_count": null,
   "metadata": {},
   "outputs": [],
   "source": [
    "gmu.img_to_arrays()\n",
    "\n",
    "def number_function(nr: int, func, *args):\n",
    "    return nr, func(*args)"
   ]
  },
  {
   "cell_type": "markdown",
   "metadata": {},
   "source": [
    "### `generate_visual_cone_from_image()`\n",
    "- create frustrum instead"
   ]
  },
  {
   "cell_type": "code",
   "execution_count": null,
   "metadata": {},
   "outputs": [],
   "source": [
    "gmu.generate_visual_cone_from_image()"
   ]
  },
  {
   "cell_type": "markdown",
   "metadata": {},
   "source": [
    "### `get_convex_hull()`\n",
    "\n",
    "- convex hulls of 2D objects should either be a fixed offset box or a 2d shape, not a randomly slightly enlarged box"
   ]
  },
  {
   "cell_type": "code",
   "execution_count": null,
   "metadata": {},
   "outputs": [],
   "source": [
    "gmu.get_convex_hull(np.array([[0,0,0],[1,0,0],[2,0,0]]))"
   ]
  },
  {
   "cell_type": "code",
   "execution_count": 49,
   "metadata": {},
   "outputs": [
    {
     "name": "stdout",
     "output_type": "stream",
     "text": [
      "Testing: Single Point\n",
      "Single Point - OBB Computed Successfully\n",
      "Testing: Two Points\n",
      "Two Points - OBB Computed Successfully\n",
      "Testing: Colinear Points\n",
      "Colinear Points - OBB Computed Successfully\n",
      "Testing: Coplanar Points\n",
      "Coplanar Points - OBB Computed Successfully\n",
      "Testing: 3D Distributed Points\n",
      "3D Distributed Points - OBB Computed Successfully\n"
     ]
    }
   ],
   "source": [
    "import numpy as np\n",
    "import open3d as o3d\n",
    "\n",
    "def add_minimal_thickness(point_cloud, thickness=1e-3):\n",
    "    \"\"\"Ensures the point cloud has a minimal thickness for OBB calculation.\"\"\"\n",
    "    points = np.asarray(point_cloud.points)\n",
    "    num_points = len(points)\n",
    "\n",
    "    if num_points == 1:\n",
    "        # Single point: Expand into a small cube\n",
    "        center = points[0]\n",
    "        cube_size = thickness \n",
    "        offsets = np.array([[x, y, z] for x in [-1, 1] for y in [-1, 1] for z in [-1, 1]]) * cube_size\n",
    "        new_points = center + offsets\n",
    "        return o3d.geometry.PointCloud(o3d.utility.Vector3dVector(new_points))\n",
    "\n",
    "    elif num_points == 2:\n",
    "        # Two points: Expand into a thin box around the line\n",
    "        line_vec = points[1] - points[0]\n",
    "        line_vec /= np.linalg.norm(line_vec)\n",
    "\n",
    "        # Find two perpendicular vectors\n",
    "        arbitrary_vec = np.array([1, 0, 0])\n",
    "        if np.allclose(line_vec, arbitrary_vec) or np.allclose(line_vec, -arbitrary_vec):\n",
    "            arbitrary_vec = np.array([0, 1, 0])  # Use Y axis if the line is along X\n",
    "\n",
    "        perp1 = np.cross(line_vec, arbitrary_vec)\n",
    "        perp1 /= np.linalg.norm(perp1)\n",
    "        perp2 = np.cross(line_vec, perp1)\n",
    "\n",
    "        # Expand the points in a thin rectangle around the line\n",
    "        new_points = np.vstack([\n",
    "            points,\n",
    "            points + perp1 * thickness, points - perp1 * thickness,\n",
    "            points + perp2 * thickness, points - perp2 * thickness\n",
    "        ])\n",
    "        return o3d.geometry.PointCloud(o3d.utility.Vector3dVector(new_points))\n",
    "\n",
    "    # General case: PCA to detect coplanarity or colinearity\n",
    "    cov = np.cov(points.T)\n",
    "    eigvals, eigvecs = np.linalg.eigh(cov)\n",
    "\n",
    "    eigvals_sorted = np.argsort(eigvals)\n",
    "    smallest_eigval = eigvals[eigvals_sorted[0]]\n",
    "    second_smallest_eigval = eigvals[eigvals_sorted[1]]\n",
    "    \n",
    "    normal = eigvecs[:, eigvals_sorted[0]]  # Smallest eigenvector is normal\n",
    "    \n",
    "    if smallest_eigval < 1e-8:  # Nearly zero eigenvalue → points are colinear\n",
    "        line_vec = eigvecs[:, eigvals_sorted[2]]  # Largest eigenvector is along the line\n",
    "\n",
    "        # Find two perpendicular vectors\n",
    "        arbitrary_vec = np.array([1, 0, 0])\n",
    "        if np.allclose(line_vec, arbitrary_vec) or np.allclose(line_vec, -arbitrary_vec):\n",
    "            arbitrary_vec = np.array([0, 1, 0])\n",
    "\n",
    "        perp1 = np.cross(line_vec, arbitrary_vec)\n",
    "        perp1 /= np.linalg.norm(perp1)\n",
    "        perp2 = np.cross(line_vec, perp1)\n",
    "\n",
    "        # Expand the points in a thin box around the line\n",
    "        new_points = np.vstack([\n",
    "            points,\n",
    "            points + perp1 * thickness, points - perp1 * thickness,\n",
    "            points + perp2 * thickness, points - perp2 * thickness\n",
    "        ])\n",
    "        return o3d.geometry.PointCloud(o3d.utility.Vector3dVector(new_points))\n",
    "\n",
    "    elif second_smallest_eigval < 1e-8:  # Two small eigenvalues → points are coplanar\n",
    "        # Expand in the direction of the normal\n",
    "        new_points = np.vstack([points, points + normal * thickness, points - normal * thickness])\n",
    "        return o3d.geometry.PointCloud(o3d.utility.Vector3dVector(new_points))\n",
    "\n",
    "    return point_cloud  # Fully 3D distributed points, no changes needed\n",
    "\n",
    "\n",
    "# Example cases\n",
    "def test_point_cloud_variants():\n",
    "    \"\"\"Test the function with different degenerate cases.\"\"\"\n",
    "    cases = {\n",
    "        \"Single Point\": np.array([[1.0, 2.0, 3.0]]),\n",
    "        \"Two Points\": np.array([[0, 0, 0], [1, 1, 1]]),\n",
    "        \"Colinear Points\": np.array([[i, i/2, i/3] for i in range(10)]),\n",
    "        \"Coplanar Points\": np.array([[i, j, 0] for i in range(5) for j in range(5)]),\n",
    "        \"3D Distributed Points\": np.random.rand(10, 3),\n",
    "    }\n",
    "\n",
    "    for name, points in cases.items():\n",
    "        print(f\"Testing: {name}\")\n",
    "        pcd = o3d.geometry.PointCloud()\n",
    "        pcd.points = o3d.utility.Vector3dVector(points)\n",
    "\n",
    "        thickened_pcd = add_minimal_thickness(pcd)\n",
    "        obb = thickened_pcd.get_oriented_bounding_box()\n",
    "        obb.color = (1, 0, 0)\n",
    "\n",
    "        print(f\"{name} - OBB Computed Successfully\")\n",
    "        o3d.visualization.draw_geometries([thickened_pcd, obb])\n",
    "\n",
    "# Run tests\n",
    "test_point_cloud_variants()\n",
    "\n"
   ]
  },
  {
   "cell_type": "code",
   "execution_count": 44,
   "metadata": {},
   "outputs": [
    {
     "ename": "RuntimeError",
     "evalue": "QH6214 qhull input error: not enough points(2) to construct initial simplex (need 4)\n\nWhile executing:  | qhull Qt\nOptions selected for Qhull 2020.2.r 2020/08/31:\n  run-id 837418076  Qtriangulate  _pre-merge  _zero-centrum  _maxoutside  0\n",
     "output_type": "error",
     "traceback": [
      "\u001b[31m---------------------------------------------------------------------------\u001b[39m",
      "\u001b[31mRuntimeError\u001b[39m                              Traceback (most recent call last)",
      "\u001b[36mCell\u001b[39m\u001b[36m \u001b[39m\u001b[32mIn[44]\u001b[39m\u001b[32m, line 5\u001b[39m\n\u001b[32m      2\u001b[39m \u001b[38;5;28;01mimport\u001b[39;00m\u001b[38;5;250m \u001b[39m\u001b[34;01mgeomapi\u001b[39;00m\u001b[34;01m.\u001b[39;00m\u001b[34;01mutils\u001b[39;00m\u001b[34;01m.\u001b[39;00m\u001b[34;01mgeometryutils\u001b[39;00m\u001b[38;5;250m \u001b[39m\u001b[38;5;28;01mas\u001b[39;00m\u001b[38;5;250m \u001b[39m\u001b[34;01mgmu\u001b[39;00m\n\u001b[32m      3\u001b[39m \u001b[38;5;28;01mimport\u001b[39;00m\u001b[38;5;250m \u001b[39m\u001b[34;01mnumpy\u001b[39;00m\u001b[38;5;250m \u001b[39m\u001b[38;5;28;01mas\u001b[39;00m\u001b[38;5;250m \u001b[39m\u001b[34;01mnp\u001b[39;00m\n\u001b[32m----> \u001b[39m\u001b[32m5\u001b[39m \u001b[43mgmu\u001b[49m\u001b[43m.\u001b[49m\u001b[43mget_oriented_bounding_box\u001b[49m\u001b[43m(\u001b[49m\u001b[43mnp\u001b[49m\u001b[43m.\u001b[49m\u001b[43marray\u001b[49m\u001b[43m(\u001b[49m\u001b[43m[\u001b[49m\u001b[32;43m0\u001b[39;49m\u001b[43m,\u001b[49m\u001b[32;43m0\u001b[39;49m\u001b[43m,\u001b[49m\u001b[32;43m0\u001b[39;49m\u001b[43m]\u001b[49m\u001b[43m)\u001b[49m\u001b[43m)\u001b[49m\n",
      "\u001b[36mFile \u001b[39m\u001b[32mc:\\Users\\jelle\\Documents\\DoctoraatLocal\\geomapi\\geomapi\\utils\\geometryutils.py:2042\u001b[39m, in \u001b[36mget_oriented_bounding_box\u001b[39m\u001b[34m(value, degrees)\u001b[39m\n\u001b[32m   2040\u001b[39m         \u001b[38;5;28;01melse\u001b[39;00m:\n\u001b[32m   2041\u001b[39m             points=value\n\u001b[32m-> \u001b[39m\u001b[32m2042\u001b[39m         box=\u001b[43mo3d\u001b[49m\u001b[43m.\u001b[49m\u001b[43mgeometry\u001b[49m\u001b[43m.\u001b[49m\u001b[43mOrientedBoundingBox\u001b[49m\u001b[43m.\u001b[49m\u001b[43mcreate_from_points\u001b[49m\u001b[43m(\u001b[49m\u001b[43mo3d\u001b[49m\u001b[43m.\u001b[49m\u001b[43mutility\u001b[49m\u001b[43m.\u001b[49m\u001b[43mVector3dVector\u001b[49m\u001b[43m(\u001b[49m\u001b[43mpoints\u001b[49m\u001b[43m)\u001b[49m\u001b[43m)\u001b[49m\n\u001b[32m   2043\u001b[39m \u001b[38;5;28;01melse\u001b[39;00m:\n\u001b[32m   2044\u001b[39m     \u001b[38;5;28;01mraise\u001b[39;00m \u001b[38;5;167;01mValueError\u001b[39;00m(\u001b[33m'\u001b[39m\u001b[33mInvalid input type\u001b[39m\u001b[33m'\u001b[39m)\n",
      "\u001b[31mRuntimeError\u001b[39m: QH6214 qhull input error: not enough points(2) to construct initial simplex (need 4)\n\nWhile executing:  | qhull Qt\nOptions selected for Qhull 2020.2.r 2020/08/31:\n  run-id 837418076  Qtriangulate  _pre-merge  _zero-centrum  _maxoutside  0\n"
     ]
    }
   ],
   "source": [
    "import geomapi.utils\n",
    "import geomapi.utils.geometryutils as gmu\n",
    "import numpy as np\n",
    "\n",
    "gmu.get_oriented_bounding_box(np.array([0,0,0]))"
   ]
  },
  {
   "cell_type": "code",
   "execution_count": null,
   "metadata": {},
   "outputs": [],
   "source": [
    "def get_oriented_bounding_box(value:np.ndarray |type[o3d.geometry.Geometry], degrees = False)->o3d.geometry.OrientedBoundingBox:\n",
    "    \"\"\"Get an Open3D OrientedBoundingBox from various inputs. \n",
    "\n",
    "    Args:\n",
    "        value: One of the following inputs:\n",
    "            - cartesianBounds (np.array): [xMin,xMax,yMin,yMax,zMin,zMax]\n",
    "            - orientedBounds (np.array): [8x3] bounding points\n",
    "            - parameters (np.array): [center,extent,euler_angles] (in radians)\n",
    "            - Open3D TriangleMesh\n",
    "            - Open3D PointCloud\n",
    "            - Open3D LineSet \n",
    "            - array of 3D points (np.array): [nx3] n>3 else confused by parameter array\n",
    "            - o3d.utility.Vector3dVector\n",
    "        degrees (False): Are the parameters in radians(default) or degrees \n",
    "\n",
    "\n",
    "    Returns:\n",
    "        o3d.geometry.OrientedBoundingBox\n",
    "    \"\"\""
   ]
  },
  {
   "cell_type": "markdown",
   "metadata": {},
   "source": [
    "### `get_oriented_bounding_box()`\n",
    "- same as convex hull"
   ]
  },
  {
   "cell_type": "code",
   "execution_count": null,
   "metadata": {},
   "outputs": [],
   "source": [
    "from geomapi.utils import geometryutils as gmu\n",
    "import quaternion\n",
    "# Test with parameters (center, extent, euler_angles)\n",
    "parameters = np.array([\n",
    "    [4, 5, 6],  # Center\n",
    "    [1, 2, 3],  # Extent\n",
    "    [0, np.pi, 0]   # Euler angles (no rotation)\n",
    "])\n",
    "obb = gmu.get_oriented_bounding_box(parameters)\n",
    "print(obb.R)\n",
    "quaternion.as_euler_angles(quaternion.from_rotation_matrix(obb.R)) * 180/np.pi"
   ]
  },
  {
   "cell_type": "code",
   "execution_count": null,
   "metadata": {},
   "outputs": [],
   "source": [
    "# going back and forth to eulers can change rotations, except for very basic ones like 90 deg\n",
    "center = [0, 0, 0]\n",
    "extent = [1, 2, 3]\n",
    "euler_angles = [90, 0, 0]\n",
    "euler_angles2 = [60, 80, 60]\n",
    "\n",
    "obb = gmu.get_oriented_bounding_box(np.array([center, extent, euler_angles]), True)\n",
    "obb2 = gmu.get_oriented_bounding_box(np.array([center, extent, euler_angles2]), True)\n",
    "print(gmu.get_oriented_bounding_box_parameters(obb))\n",
    "print(gmu.get_oriented_bounding_box_parameters(obb2))\n"
   ]
  },
  {
   "cell_type": "markdown",
   "metadata": {},
   "source": [
    "### `create_ellipsoid_mesh()`\n",
    "- why does this exist?\n",
    "-monkey patch into open3d?"
   ]
  },
  {
   "cell_type": "code",
   "execution_count": null,
   "metadata": {},
   "outputs": [],
   "source": [
    "gmu.create_ellipsoid_mesh()"
   ]
  },
  {
   "cell_type": "markdown",
   "metadata": {},
   "source": [
    "### Geometric operators\n",
    "\n",
    "- join_geometries (booleans)\n",
    "  - intersection\n",
    "  - union\n",
    "  - difference"
   ]
  },
  {
   "cell_type": "code",
   "execution_count": null,
   "metadata": {},
   "outputs": [],
   "source": [
    "gmu.join_geometries()"
   ]
  },
  {
   "cell_type": "markdown",
   "metadata": {},
   "source": [
    "## ImageUtils"
   ]
  },
  {
   "cell_type": "code",
   "execution_count": null,
   "metadata": {},
   "outputs": [],
   "source": [
    "from geomapi.utils import imageutils as iu"
   ]
  },
  {
   "cell_type": "markdown",
   "metadata": {},
   "source": [
    "### `calculateGSD()`\n",
    "- tools or in ImageNode "
   ]
  },
  {
   "cell_type": "code",
   "execution_count": null,
   "metadata": {},
   "outputs": [],
   "source": [
    "iu.calculateGSD()"
   ]
  },
  {
   "cell_type": "markdown",
   "metadata": {},
   "source": [
    "### HED Line detection\n",
    "\n",
    "Tools if anywhere"
   ]
  },
  {
   "cell_type": "code",
   "execution_count": null,
   "metadata": {},
   "outputs": [],
   "source": [
    "iu.detect_hed_lines()"
   ]
  },
  {
   "cell_type": "markdown",
   "metadata": {},
   "source": [
    "### `fill_black_pixels()`\n",
    "\n",
    "- function name unclear\n",
    "- edge detection cleanup?"
   ]
  },
  {
   "cell_type": "code",
   "execution_count": null,
   "metadata": {},
   "outputs": [],
   "source": [
    "iu.fill_black_pixels()"
   ]
  },
  {
   "cell_type": "code",
   "execution_count": null,
   "metadata": {},
   "outputs": [],
   "source": [
    "from geomapi.nodes import ImageNode\n",
    "\n",
    "node = ImageNode()\n",
    "\n",
    "node.world_to_pixel_coordinates([0,0,1])"
   ]
  },
  {
   "cell_type": "markdown",
   "metadata": {},
   "source": [
    "### Image matching pipeline"
   ]
  },
  {
   "cell_type": "code",
   "execution_count": null,
   "metadata": {},
   "outputs": [],
   "source": [
    "iu.match_images()"
   ]
  },
  {
   "cell_type": "markdown",
   "metadata": {},
   "source": [
    "# Nodes"
   ]
  },
  {
   "cell_type": "markdown",
   "metadata": {},
   "source": [
    "## Node"
   ]
  },
  {
   "cell_type": "markdown",
   "metadata": {},
   "source": [
    "The Node initialization feels like a spiderweb, of dependencies of variables\n",
    "Order of operations\n",
    "- when you init a node, all the attributes get set by the input parameters (also if None)\n",
    "- Then always run the Initialize function\n",
    "  - if the graph is not given, but the graphpath is, set the graph \n",
    "    - (this needs subject, but is not required in code) so then it auto sets te subject to the first one in the graph\n",
    "  - if the graph is defined, set all the attributes from that graph\n",
    "  - if getResource, find the resource and load it in (overwritten per nodetype)\n",
    "  - update the subject, name and timestamp\n",
    "  - get the transform, hull and bb\n",
    "Since the init function is always called when a new node is made, these functions are also always called. If the get function fail, they are None, so if the property is none, the get_property function will also return None if called later.\n",
    "\n",
    "I propose:\n",
    "- we remove the public get and set functions from the node because they are always called at the start and merge the logic into the setter and getters of the properties. this will greatly reduce the complexity of the node. this will make room for the actual usefull functions like `transform`,  `get_center` and `get_graph`"
   ]
  },
  {
   "cell_type": "markdown",
   "metadata": {},
   "source": [
    "how do we want to handle extra variables?\n",
    "- all properties and variables that do not start with an _ are serialized, except resource"
   ]
  },
  {
   "cell_type": "markdown",
   "metadata": {},
   "source": [
    "```py\n",
    "#---------------------NAME----------------------------\n",
    "    @property\n",
    "    @rdf_property(predicate= GEOMAPI_PREFIXES['rdfs'].label,serializer = lambda v: func(v), datatype=XSD.string)\n",
    "    def name(self):\n",
    "        if self._name is None:\n",
    "            if self.path:                \n",
    "                self._name=Path(self.path).stem \n",
    "            elif self.subject:                     \n",
    "                self.name=ut.get_subject_name(self.subject)\n",
    "        return self._name\n",
    "\n",
    "    @name.setter\n",
    "    def name(self, value: Optional[str]):\n",
    "        if value is None:\n",
    "            self._name = None\n",
    "        else:            \n",
    "            self._name = str(value)\n",
    "```"
   ]
  },
  {
   "cell_type": "markdown",
   "metadata": {},
   "source": [
    "### Decorator based workflow, no more exceptions\n",
    "\n",
    "`_set_attributes_from_graph()` sets the attributes based on the decorators\n",
    "\n",
    "`get_graph()` serializes the properties based on the decorators"
   ]
  },
  {
   "cell_type": "markdown",
   "metadata": {},
   "source": [
    "### `Node().show()`"
   ]
  },
  {
   "cell_type": "code",
   "execution_count": 12,
   "metadata": {},
   "outputs": [
    {
     "name": "stdout",
     "output_type": "stream",
     "text": [
      "The autoreload extension is already loaded. To reload it, use:\n",
      "  %reload_ext autoreload\n"
     ]
    }
   ],
   "source": [
    "# the quickest way to show a resource\n",
    "import open3d as o3d\n",
    "import trimesh\n",
    "from context import geomapi\n",
    "import numpy as np\n",
    "from geomapi.utils import geometryutils as gmu\n",
    "from geomapi.nodes import MeshNode, ImageNode, Node\n",
    "from geomapi.nodes.node_refactor import Node as NodeRef\n",
    "%load_ext autoreload\n",
    "%autoreload 2\n"
   ]
  },
  {
   "cell_type": "code",
   "execution_count": 16,
   "metadata": {},
   "outputs": [
    {
     "name": "stdout",
     "output_type": "stream",
     "text": [
      "Resource not loaded, but path is defined, call `load_resource()` to access it.\n"
     ]
    }
   ],
   "source": [
    "node = Node(path=r\"C:\\Users\\jelle\\Documents\\DoctoraatLocal\\geomapi\\tests\\testfiles\\mesh\\old_state.obj\")\n",
    "noderef = NodeRef(path=r\"C:\\Users\\jelle\\Documents\\DoctoraatLocal\\geomapi\\tests\\testfiles\\mesh\\old_state.obj\")"
   ]
  },
  {
   "cell_type": "code",
   "execution_count": 3,
   "metadata": {},
   "outputs": [
    {
     "name": "stdout",
     "output_type": "stream",
     "text": [
      "OrientedBoundingBox: center: (0, 0, 0), extent: 1, 1, 1)\n"
     ]
    }
   ],
   "source": [
    "print(noderef.orientedBoundingBox)"
   ]
  },
  {
   "cell_type": "code",
   "execution_count": 17,
   "metadata": {},
   "outputs": [
    {
     "name": "stdout",
     "output_type": "stream",
     "text": [
      "The euler angles are derived from the rotation matrix, please note that this representation has a number of disadvantages\n"
     ]
    }
   ],
   "source": [
    "graph = node.get_graph()"
   ]
  },
  {
   "cell_type": "code",
   "execution_count": 29,
   "metadata": {},
   "outputs": [
    {
     "name": "stdout",
     "output_type": "stream",
     "text": [
      "predicate & object:  http://www.w3.org/1999/02/22-rdf-syntax-ns#type https://w3id.org/geomapi#Node\n",
      "datatype:  None\n",
      "object:  https://w3id.org/geomapi#Node\n",
      "setting:  type https://w3id.org/geomapi#Node\n",
      "predicate & object:  https://w3id.org/geomapi#path C:/Users/jelle/Documents/DoctoraatLocal/geomapi/tests/testfiles/mesh/old_state.obj\n",
      "found match:  https://w3id.org/geomapi#path path\n",
      "datatype:  http://www.w3.org/2001/XMLSchema#string\n",
      "object:  C:/Users/jelle/Documents/DoctoraatLocal/geomapi/tests/testfiles/mesh/old_state.obj\n",
      "predicate & object:  http://www.w3.org/2000/01/rdf-schema#label old_state\n",
      "found match:  http://www.w3.org/2000/01/rdf-schema#label name\n",
      "datatype:  http://www.w3.org/2001/XMLSchema#string\n",
      "object:  old_state\n",
      "setting:  name old_state\n",
      "predicate & object:  http://purl.org/dc/terms/created 2025-03-10T14:34:00\n",
      "found match:  http://purl.org/dc/terms/created timestamp\n",
      "datatype:  http://www.w3.org/2001/XMLSchema#dateTime\n",
      "object:  2025-03-10T14:34:00\n",
      "setting:  timestamp 2025-03-10T14:34:00\n",
      "predicate & object:  https://w3id.org/geomapi#cartesianTransform [[1. 0. 0. 0.]\n",
      " [0. 1. 0. 0.]\n",
      " [0. 0. 1. 0.]\n",
      " [0. 0. 0. 1.]]\n",
      "found match:  https://w3id.org/geomapi#cartesianTransform cartesianTransform\n",
      "datatype:  https://w3id.org/geomapi#matrix\n",
      "object:  [[1. 0. 0. 0.]\n",
      " [0. 1. 0. 0.]\n",
      " [0. 0. 1. 0.]\n",
      " [0. 0. 0. 1.]]\n",
      "setting:  cartesianTransform [[1. 0. 0. 0.]\n",
      " [0. 1. 0. 0.]\n",
      " [0. 0. 1. 0.]\n",
      " [0. 0. 0. 1.]]\n",
      "predicate & object:  https://w3id.org/geomapi#orientedBoundingBox [0. 0. 0. 1. 1. 1. 0. 0. 0.]\n",
      "found match:  https://w3id.org/geomapi#orientedBoundingBox orientedBoundingBox\n",
      "datatype:  https://w3id.org/geomapi#matrix\n",
      "object:  [0. 0. 0. 1. 1. 1. 0. 0. 0.]\n",
      "setting:  orientedBoundingBox [0. 0. 0. 1. 1. 1. 0. 0. 0.]\n",
      "predicate & object:  https://w3id.org/geomapi#convexHull [[-0.5 -0.5 -0.5]\n",
      " [ 0.5 -0.5 -0.5]\n",
      " [-0.5 -0.5  0.5]\n",
      " [ 0.5 -0.5  0.5]\n",
      " [-0.5  0.5 -0.5]\n",
      " [ 0.5  0.5 -0.5]\n",
      " [-0.5  0.5  0.5]\n",
      " [ 0.5  0.5  0.5]]\n",
      "found match:  https://w3id.org/geomapi#convexHull convexHull\n",
      "datatype:  https://w3id.org/geomapi#matrix\n",
      "object:  [[-0.5 -0.5 -0.5]\n",
      " [ 0.5 -0.5 -0.5]\n",
      " [-0.5 -0.5  0.5]\n",
      " [ 0.5 -0.5  0.5]\n",
      " [-0.5  0.5 -0.5]\n",
      " [ 0.5  0.5 -0.5]\n",
      " [-0.5  0.5  0.5]\n",
      " [ 0.5  0.5  0.5]]\n",
      "setting:  convexHull [[-0.5 -0.5 -0.5]\n",
      " [ 0.5 -0.5 -0.5]\n",
      " [-0.5 -0.5  0.5]\n",
      " [ 0.5 -0.5  0.5]\n",
      " [-0.5  0.5 -0.5]\n",
      " [ 0.5  0.5 -0.5]\n",
      " [-0.5  0.5  0.5]\n",
      " [ 0.5  0.5  0.5]]\n",
      "Resource not loaded, but path is defined, call `load_resource()` to access it.\n",
      "old_state\n"
     ]
    }
   ],
   "source": [
    "newGraph = NodeRef(graph=graph)\n",
    "print(newGraph.name)\n"
   ]
  },
  {
   "cell_type": "code",
   "execution_count": 10,
   "metadata": {},
   "outputs": [
    {
     "name": "stdout",
     "output_type": "stream",
     "text": [
      "The euler angles are derived from the rotation matrix, please note that this representation has a number of disadvantages\n"
     ]
    },
    {
     "data": {
      "text/plain": [
       "'@prefix dcterms: <http://purl.org/dc/terms/> .\\n@prefix geomapi: <https://w3id.org/geomapi#> .\\n@prefix rdfs: <http://www.w3.org/2000/01/rdf-schema#> .\\n@prefix xsd: <http://www.w3.org/2001/XMLSchema#> .\\n\\n<http://old_state> a geomapi:Node ;\\n    rdfs:label \"old_state\"^^xsd:string ;\\n    dcterms:created \"2025-03-10T14:34:00\"^^xsd:dateTime ;\\n    geomapi:cartesianTransform \"\"\"[[1. 0. 0. 0.]\\n [0. 1. 0. 0.]\\n [0. 0. 1. 0.]\\n [0. 0. 0. 1.]]\"\"\"^^geomapi:matrix ;\\n    geomapi:convexHull \"\"\"[[-0.5 -0.5 -0.5]\\n [ 0.5 -0.5 -0.5]\\n [-0.5 -0.5  0.5]\\n [ 0.5 -0.5  0.5]\\n [-0.5  0.5 -0.5]\\n [ 0.5  0.5 -0.5]\\n [-0.5  0.5  0.5]\\n [ 0.5  0.5  0.5]]\"\"\"^^geomapi:matrix ;\\n    geomapi:orientedBoundingBox \"[0. 0. 0. 1. 1. 1. 0. 0. 0.]\"^^geomapi:matrix ;\\n    geomapi:path \"C:/Users/jelle/Documents/DoctoraatLocal/geomapi/tests/testfiles/mesh/old_state.obj\"^^xsd:string .\\n\\n'"
      ]
     },
     "execution_count": 10,
     "metadata": {},
     "output_type": "execute_result"
    }
   ],
   "source": [
    "noderef.get_graph().serialize()"
   ]
  },
  {
   "cell_type": "code",
   "execution_count": null,
   "metadata": {},
   "outputs": [],
   "source": [
    "from geomapi import utils as ut\n",
    "ut.get_variables_in_class(node)"
   ]
  },
  {
   "cell_type": "code",
   "execution_count": null,
   "metadata": {},
   "outputs": [],
   "source": [
    "noderef.get_graph(overwrite=True).serialize()"
   ]
  },
  {
   "cell_type": "code",
   "execution_count": null,
   "metadata": {},
   "outputs": [],
   "source": [
    "#o3d.visualization.webrtc_server.enable_webrtc()\n",
    "meshNode = MeshNode(path=r\"C:\\Users\\jelle\\Documents\\DoctoraatLocal\\geomapi\\tests\\testfiles\\mesh\\old_state.obj\", getResource=True)\n",
    "meshNode.show(inline=True)\n"
   ]
  },
  {
   "cell_type": "code",
   "execution_count": null,
   "metadata": {},
   "outputs": [],
   "source": [
    "imgNode = ImageNode(path=r\"C:\\Users\\jelle\\Documents\\DoctoraatLocal\\geomapi\\tests\\testfiles\\img\\101_0367_0007.JPG\", getResource=True)\n",
    "#imgNode.show()\n",
    "print(imgNode.timestamp)"
   ]
  },
  {
   "cell_type": "markdown",
   "metadata": {},
   "source": [
    "## PanoNode"
   ]
  },
  {
   "cell_type": "code",
   "execution_count": null,
   "metadata": {},
   "outputs": [],
   "source": [
    "_cartesianTransform = None\n",
    "if _cartesianTransform is None:\n",
    "    #you could initialize a pano in an upright position instead of forward to match a terrestrial vantage point\n",
    "    rotation_matrix_90_x=np.array( [[ 1, 0, 0.],\n",
    "                                    [ 0, 0,-1 ],\n",
    "                                    [ 0, 1, 0 ]])  \n",
    "    _cartesianTransform = gmu.get_cartesian_transform(rotation=rotation_matrix_90_x)    "
   ]
  },
  {
   "cell_type": "markdown",
   "metadata": {},
   "source": [
    "# Tools"
   ]
  },
  {
   "cell_type": "markdown",
   "metadata": {},
   "source": [
    "## Base Tools"
   ]
  },
  {
   "cell_type": "code",
   "execution_count": null,
   "metadata": {},
   "outputs": [],
   "source": [
    "from geomapi import tools\n",
    "import open3d as o3d\n",
    "cloud = o3d.geometry.PointCloud()\n",
    "tools.create_node(resource = cloud)"
   ]
  }
 ],
 "metadata": {
  "kernelspec": {
   "display_name": "env",
   "language": "python",
   "name": "python3"
  },
  "language_info": {
   "codemirror_mode": {
    "name": "ipython",
    "version": 3
   },
   "file_extension": ".py",
   "mimetype": "text/x-python",
   "name": "python",
   "nbconvert_exporter": "python",
   "pygments_lexer": "ipython3",
   "version": "3.11.7"
  }
 },
 "nbformat": 4,
 "nbformat_minor": 2
}

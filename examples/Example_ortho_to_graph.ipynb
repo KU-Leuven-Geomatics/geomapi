{
 "cells": [
  {
   "cell_type": "markdown",
   "metadata": {},
   "source": [
    "# PREPROCESSING ORTHO TO LINKED DATA\n",
    "In this notebook, we evaluate the Orthomosaics in a session repository.\n",
    "For every tiff with its accompanying, an IMAGENODE metadata class is created \n",
    "that governs all the metadata of the image (paths, pose, etc.).\n",
    "As ouput, the method generates RDF GRAPHS (.ttl) files\n",
    "\n",
    ">This codebase operates on the scan2bim2.yml environment (python 3.8)"
   ]
  },
  {
   "cell_type": "code",
   "execution_count": 1,
   "metadata": {},
   "outputs": [
    {
     "name": "stdout",
     "output_type": "stream",
     "text": [
      "Jupyter environment detected. Enabling Open3D WebVisualizer.\n",
      "[Open3D INFO] WebRTC GUI backend enabled.\n",
      "[Open3D INFO] WebRTCWindowSystem: HTTP handshake server disabled.\n"
     ]
    }
   ],
   "source": [
    "from rdflib import Graph, plugin\n",
    "import uuid    \n",
    "import importlib\n",
    "import PIL.Image as PILimage\n",
    "import os.path\n",
    "\n",
    "#IMPORT MODULES\n",
    "from context import geomapi \n",
    "from geomapi.nodes import *\n",
    "import geomapi.utils as ut\n",
    "from geomapi.utils import geometryutils as gmu\n",
    "import geomapi.tools as tl"
   ]
  },
  {
   "cell_type": "code",
   "execution_count": null,
   "metadata": {},
   "outputs": [],
   "source": [
    "%load_ext autoreload"
   ]
  },
  {
   "cell_type": "code",
   "execution_count": null,
   "metadata": {},
   "outputs": [],
   "source": [
    "%autoreload 2"
   ]
  },
  {
   "cell_type": "markdown",
   "metadata": {},
   "source": [
    "## 1. INITIALIZE SESSION"
   ]
  },
  {
   "cell_type": "code",
   "execution_count": 3,
   "metadata": {},
   "outputs": [],
   "source": [
    "## INPUTS\n",
    "projectPath= os.path.abspath(os.path.join(os.getcwd(), os.pardir))+\"\\\\tests\"#\"D:\\\\Data\\\\2018-06 Werfopvolging Academiestraat Gent\" \n",
    "sessionPath = projectPath + \"\\\\Samples\" #\"K:\\Projects\\2025-03 Project FWO SB Jelle\\7.Data\\21-11 House Maarten\\RAW data\\session_22-03-13 canon\n",
    "accuracy=0.1\n",
    "gsd=0.01"
   ]
  },
  {
   "cell_type": "markdown",
   "metadata": {},
   "source": [
    "## 2. READ PRESENT TiFF CONTAINING ORTHOMOSAIC\n",
    "An IMAGENODE is created per image in the session"
   ]
  },
  {
   "cell_type": "code",
   "execution_count": 4,
   "metadata": {},
   "outputs": [
    {
     "name": "stdout",
     "output_type": "stream",
     "text": [
      "creating ImageNode from d:\\Scan-to-BIM repository\\geomapi\\tests\\Samples\\OrthoLAMBERT08_ELLIPS.tif\n",
      "1 ImageNodes are created.\n",
      "Note that these nodes do not yet contain actual data but only the metadata\n"
     ]
    }
   ],
   "source": [
    "# Retrieve all image files in the session along with their xml metadata\n",
    "allSessionFilePaths=ut.get_list_of_files(sessionPath) \n",
    "nodelist=[]\n",
    "\n",
    "for path in allSessionFilePaths:        \n",
    "    if path.endswith(\".tif\"): \n",
    "        #create imgnode\n",
    "        print('creating ImageNode from '+path)\n",
    "        node=geomapi.imagenode.ImageNode()\n",
    "        node.sessionPath=sessionPath\n",
    "        node.timestamp=tl.get_timestamp(path) # this is a long float nr\n",
    "        node.name=tl.get_filename(path)\n",
    "        node.guid= '{'+str(uuid.uuid1())+'}'    \n",
    "        node.path=path\n",
    "        node.gsd=gsd\n",
    "        node.accuracy=accuracy\n",
    "        nodelist.append(node)              \n",
    "print(str(len(nodelist))+' ImageNodes are created.')\n",
    "print('Note that these nodes do not yet contain actual data but only the metadata')"
   ]
  },
  {
   "cell_type": "code",
   "execution_count": 5,
   "metadata": {},
   "outputs": [],
   "source": [
    "#READ Data\n",
    "for node in nodelist:\n",
    "    node.img=PILimage.open(node.path)          "
   ]
  },
  {
   "cell_type": "markdown",
   "metadata": {},
   "source": [
    "## 3. CREATE RDF GRAPH FOR All IMAGENODES AND EXPORT THEM TO .TTL\n",
    "An RDF graph and .ttl file is created for all images in the session\n",
    "(images themselves are not stored in the graph, only metadata)"
   ]
  },
  {
   "cell_type": "code",
   "execution_count": 6,
   "metadata": {},
   "outputs": [
    {
     "name": "stdout",
     "output_type": "stream",
     "text": [
      "1 ImageNodes succesfully serialized in: d:\\Scan-to-BIM repository\\geomapi\\tests\\Samples\n",
      "@prefix openlabel: <https://www.asam.net/index.php?eID=dumpFile&t=f&f=3876&token=413e8c85031ae64cc35cf42d0768627514868b2f#> .\n",
      "@prefix rdf: <http://www.w3.org/1999/02/22-rdf-syntax-ns#> .\n",
      "@prefix v4d: <https://w3id.org/v4d/core#> .\n",
      "\n",
      "<http://OrthoLAMBERT08_ELLIPS> a \"<class 'geomapi.imagenode.ImageNode'>\" ;\n",
      "    rdf:gsd \"0.01\" ;\n",
      "    v4d:accuracy \"0.1\" ;\n",
      "    v4d:guid \"{e3b043a3-bb3c-11ec-9c46-c8f75043ce59}\" ;\n",
      "    v4d:path \"OrthoLAMBERT08_ELLIPS.tif\" ;\n",
      "    openlabel:timestamp \"2022-04-07 08:55:45\" .\n",
      "\n",
      "\n"
     ]
    }
   ],
   "source": [
    "graph=tl.nodes_to_graph(nodelist)\n",
    "graph.serialize(destination=sessionPath+\"\\\\orthoGraph.ttl\", format='ttl')\n",
    "print (str(len(nodelist))+' ImageNodes succesfully serialized in: '+sessionPath)\n",
    "print(graph.serialize())"
   ]
  }
 ],
 "metadata": {
  "interpreter": {
   "hash": "460e66ca5f23cd63717e22731b88d79e724e92cbf76c04a2890b8d427aa9f0e6"
  },
  "kernelspec": {
   "display_name": "Python 3.8.12 64-bit ('environment': conda)",
   "language": "python",
   "name": "python3"
  },
  "language_info": {
   "codemirror_mode": {
    "name": "ipython",
    "version": 3
   },
   "file_extension": ".py",
   "mimetype": "text/x-python",
   "name": "python",
   "nbconvert_exporter": "python",
   "pygments_lexer": "ipython3",
   "version": "3.8.13"
  },
  "orig_nbformat": 4
 },
 "nbformat": 4,
 "nbformat_minor": 2
}

{
 "cells": [
  {
   "cell_type": "markdown",
   "metadata": {},
   "source": [
    "# GENERATE VIRTUAL IMAGES\n",
    "In this notebook, we generate a set of virtual images of a BIM model from imageNodes\n",
    "As ouput, the method generates a new set of virtual imageNodes\n",
    "\n",
    ">This codebase operates on the scan2bim2.yml environment (python 3.8)"
   ]
  },
  {
   "cell_type": "code",
   "execution_count": 1,
   "metadata": {},
   "outputs": [
    {
     "name": "stdout",
     "output_type": "stream",
     "text": [
      "Jupyter environment detected. Enabling Open3D WebVisualizer.\n",
      "[Open3D INFO] WebRTC GUI backend enabled.\n",
      "[Open3D INFO] WebRTCWindowSystem: HTTP handshake server disabled.\n"
     ]
    }
   ],
   "source": [
    "#IMPORT PACKAGES\n",
    "from rdflib import Graph\n",
    "\n",
    "import os.path, time\n",
    "import importlib\n",
    "import numpy as np\n",
    "import open3d as o3d\n",
    "\n",
    "#IMPORT MODULES\n",
    "from context import geomapi \n",
    "from geomapi.nodes import *\n",
    "import geomapi.utils as ut\n",
    "from geomapi.utils import geometryutils as gmu\n",
    "import geomapi.tools as tl\n"
   ]
  },
  {
   "cell_type": "code",
   "execution_count": null,
   "metadata": {},
   "outputs": [],
   "source": [
    "%load_ext autoreload"
   ]
  },
  {
   "cell_type": "code",
   "execution_count": null,
   "metadata": {},
   "outputs": [],
   "source": [
    "%autoreload 2"
   ]
  },
  {
   "cell_type": "markdown",
   "metadata": {},
   "source": [
    "## INITIALIZE SESSION"
   ]
  },
  {
   "cell_type": "code",
   "execution_count": 2,
   "metadata": {},
   "outputs": [],
   "source": [
    "## INPUTS\n",
    "projectPath= os.path.abspath(os.path.join(os.getcwd(), os.pardir))+\"\\\\tests\"#\"D:\\\\Data\\\\2018-06 Werfopvolging Academiestraat Gent\" \n",
    "sessionPath = projectPath + \"\\\\Samples6\" #\"K:\\Projects\\2025-03 Project FWO SB Jelle\\7.Data\\21-11 House Maarten\\RAW data\\session_22-03-13 canon\n",
    "\n",
    "idx=2 # index of the node you want to test"
   ]
  },
  {
   "cell_type": "markdown",
   "metadata": {},
   "source": [
    "## READ IMAGE & BIM GRAPHS\n",
    "A specifc NodeType (Mesh,PCD,IMG,BIM) is created per resource in the session"
   ]
  },
  {
   "cell_type": "code",
   "execution_count": 3,
   "metadata": {},
   "outputs": [
    {
     "name": "stdout",
     "output_type": "stream",
     "text": [
      "Total graph size = 513 triples from 1 paths\n",
      "27 Nodes succesfully created from the session!\n"
     ]
    }
   ],
   "source": [
    "## read all graph files in a session and merge them\n",
    "allSessionFilePaths=ut.get_list_of_files(sessionPath) \n",
    "rdfGraphPaths=[]\n",
    "\n",
    "# collect all RDF graphs in the session\n",
    "sessionGraph = Graph()\n",
    "for path in allSessionFilePaths:        \n",
    "    if path.endswith(\"imgGraph.ttl\") and 'features' not in path:\n",
    "        rdfGraphPaths.append(path)\n",
    "        sessionGraph.parse(path)    \n",
    "print('Total graph size = '+str(len(sessionGraph)) +' triples from '+ str(len(rdfGraphPaths))+' paths')\n",
    "imgNodelist=tl.graph_to_nodes(sessionGraph,sessionPath=sessionPath)\n",
    "print (str(len(imgNodelist))+' Nodes succesfully created from the session!') "
   ]
  },
  {
   "cell_type": "code",
   "execution_count": 4,
   "metadata": {},
   "outputs": [
    {
     "name": "stdout",
     "output_type": "stream",
     "text": [
      "TriangleMesh with 330263 points and 485077 triangles.\n"
     ]
    }
   ],
   "source": [
    "# READ MESH\n",
    "from geomapi.meshnode import MeshNode\n",
    "mesh = o3d.io.read_triangle_mesh(\"D:\\\\Scan-to-BIM repository\\\\geomapi\\\\tests\\\\Samples5\\\\week22.obj\")\n",
    "meshNode=MeshNode(mesh=mesh,sessionPath=sessionPath)\n",
    "print(meshNode.mesh)"
   ]
  },
  {
   "cell_type": "code",
   "execution_count": 5,
   "metadata": {},
   "outputs": [
    {
     "name": "stdout",
     "output_type": "stream",
     "text": [
      "Total graph size = 14872 triples from 1 paths\n",
      "976 Nodes succesfully created from the session!\n"
     ]
    }
   ],
   "source": [
    "## read all graph files in a session and merge them\n",
    "allSessionFilePaths=ut.get_list_of_files(sessionPath) \n",
    "rdfGraphPaths=[]\n",
    "\n",
    "# collect all RDF graphs in the session\n",
    "sessionGraph = Graph()\n",
    "for path in allSessionFilePaths:        \n",
    "    if path.endswith(\"bimGraph.ttl\") and 'features' not in path:\n",
    "        rdfGraphPaths.append(path)\n",
    "        sessionGraph.parse(path)    \n",
    "print('Total graph size = '+str(len(sessionGraph)) +' triples from '+ str(len(rdfGraphPaths))+' paths')\n",
    "bimNodelist=tl.graph_to_nodes(sessionGraph,sessionPath=sessionPath,getGeometry=True)\n",
    "print (str(len(bimNodelist))+' Nodes succesfully created from the session!') "
   ]
  },
  {
   "cell_type": "code",
   "execution_count": null,
   "metadata": {},
   "outputs": [
    {
     "ename": "NameError",
     "evalue": "name 'ld' is not defined",
     "output_type": "error",
     "traceback": [
      "\u001b[1;31m---------------------------------------------------------------------------\u001b[0m",
      "\u001b[1;31mNameError\u001b[0m                                 Traceback (most recent call last)",
      "\u001b[1;32m~\\AppData\\Local\\Temp/ipykernel_20568/1179622001.py\u001b[0m in \u001b[0;36m<module>\u001b[1;34m\u001b[0m\n\u001b[1;32m----> 1\u001b[1;33m \u001b[0mimportlib\u001b[0m\u001b[1;33m.\u001b[0m\u001b[0mreload\u001b[0m\u001b[1;33m(\u001b[0m\u001b[0mld\u001b[0m\u001b[1;33m)\u001b[0m\u001b[1;33m\u001b[0m\u001b[1;33m\u001b[0m\u001b[0m\n\u001b[0m\u001b[0;32m      2\u001b[0m \u001b[0mimportlib\u001b[0m\u001b[1;33m.\u001b[0m\u001b[0mreload\u001b[0m\u001b[1;33m(\u001b[0m\u001b[0mgt1\u001b[0m\u001b[1;33m)\u001b[0m\u001b[1;33m\u001b[0m\u001b[1;33m\u001b[0m\u001b[0m\n\u001b[0;32m      3\u001b[0m \u001b[0mimportlib\u001b[0m\u001b[1;33m.\u001b[0m\u001b[0mreload\u001b[0m\u001b[1;33m(\u001b[0m\u001b[0mgt2\u001b[0m\u001b[1;33m)\u001b[0m\u001b[1;33m\u001b[0m\u001b[1;33m\u001b[0m\u001b[0m\n\u001b[0;32m      4\u001b[0m \u001b[1;33m\u001b[0m\u001b[0m\n\u001b[0;32m      5\u001b[0m \u001b[0mimportlib\u001b[0m\u001b[1;33m.\u001b[0m\u001b[0mreload\u001b[0m\u001b[1;33m(\u001b[0m\u001b[0mut\u001b[0m\u001b[1;33m)\u001b[0m\u001b[1;33m\u001b[0m\u001b[1;33m\u001b[0m\u001b[0m\n",
      "\u001b[1;31mNameError\u001b[0m: name 'ld' is not defined"
     ]
    }
   ],
   "source": [
    "importlib.reload(ld)\n",
    "importlib.reload(gt1)\n",
    "importlib.reload(gt2)\n",
    "\n",
    "importlib.reload(ut)\n",
    "importlib.reload(geomapi.node)\n",
    "importlib.reload(geomapi.imagenode)\n",
    "importlib.reload(geomapi.bimnode)\n",
    "importlib.reload(geomapi.meshnode)"
   ]
  },
  {
   "cell_type": "markdown",
   "metadata": {},
   "source": []
  },
  {
   "cell_type": "markdown",
   "metadata": {},
   "source": [
    "## GENERATE 1 VIRTUAL IMAGE of a mesh"
   ]
  },
  {
   "cell_type": "code",
   "execution_count": null,
   "metadata": {},
   "outputs": [
    {
     "name": "stdout",
     "output_type": "stream",
     "text": [
      "Image of size 1404x936, with 3 channels.\n",
      "Use numpy.asarray to access buffer data.\n"
     ]
    }
   ],
   "source": [
    "imnode=imgNodelist[23]\n",
    "imnode.pinholeCamera=imnode.get_pinhole_camera_parameters()\n",
    "img=gt1.generate_virtual_image(meshNode.mesh,imnode.pinholeCamera)\n",
    "print(img)"
   ]
  },
  {
   "cell_type": "markdown",
   "metadata": {},
   "source": [
    "## GENERATE 1 VIRTUAL IMAGE PER NODE of a mesh (slow)"
   ]
  },
  {
   "cell_type": "code",
   "execution_count": null,
   "metadata": {},
   "outputs": [],
   "source": [
    "for node in imgNodelist: \n",
    "    img=node.get_virtual_image(meshNode.mesh)\n",
    "    o3d.io.write_image(sessionPath+\"\\\\IMG_V\\\\\"+node.name+\".png\", img)"
   ]
  },
  {
   "cell_type": "markdown",
   "metadata": {},
   "source": [
    "## GENERATE A SET OF VIRTUAL IMAGES with same settings of a mesh (6xfaster)"
   ]
  },
  {
   "cell_type": "code",
   "execution_count": null,
   "metadata": {},
   "outputs": [],
   "source": [
    "cartesianTransforms=[node.cartesianTransform for node in imgNodelist if getattr(node,'cartesianTransform',None) is not None ]\n",
    "imgList=gt1.generate_virtual_images(meshNode.mesh,cartesianTransforms,width=640,height=480,f=400) \n",
    "\n",
    "for idx,img in enumerate(imgList):\n",
    "    o3d.io.write_image(sessionPath+\"\\\\IMG_V\\\\\"+str(idx)+\".png\", img)"
   ]
  },
  {
   "cell_type": "markdown",
   "metadata": {},
   "source": [
    "## GENERATE 1 VIRTUAL IMAGE of a point cloud (NOT TESTED)"
   ]
  },
  {
   "cell_type": "code",
   "execution_count": null,
   "metadata": {},
   "outputs": [
    {
     "name": "stdout",
     "output_type": "stream",
     "text": [
      "PointCloud with 11934055 points.\n"
     ]
    }
   ],
   "source": [
    "# READ PCD\n",
    "from geomapi.pointcloudnode import PointCloudNode\n",
    "pcd = o3d.io.read_point_cloud(\"D:\\\\Scan-to-BIM repository\\\\geomapi\\\\tests\\\\Samples4\\\\academiestraat week 22 19.pcd\")\n",
    "pcdNode=PointCloudNode(pcd=pcd,sessionPath=sessionPath, getGeometry=True)\n",
    "print(pcdNode.pcd)"
   ]
  },
  {
   "cell_type": "markdown",
   "metadata": {},
   "source": [
    "## GENERATE VIRTUAL IMAGE OF BIM OBJECT"
   ]
  },
  {
   "cell_type": "code",
   "execution_count": 6,
   "metadata": {},
   "outputs": [],
   "source": [
    "# simple wall\n",
    "myNode=bimNodelist[0]\n",
    "o3d.visualization.draw_geometries([myNode.mesh])"
   ]
  },
  {
   "cell_type": "code",
   "execution_count": 9,
   "metadata": {},
   "outputs": [
    {
     "name": "stdout",
     "output_type": "stream",
     "text": [
      "1.420000003141028\n",
      "1.229756076094113\n",
      "[-11.62643457  73.90228863   9.052     ]\n",
      "[-11.59700347  75.13169248   9.052     ]\n",
      "1.229756076094113\n"
     ]
    }
   ],
   "source": [
    "# get centroid\n",
    "import math\n",
    "from scipy.spatial.transform import Rotation as R\n",
    "import copy\n",
    "fov=math.pi / 3#60 #degrees\n",
    "\n",
    "#determine extrinsic camera parameters\n",
    "array=np.empty((1,3),dtype=float)\n",
    "if getattr(myNode,\"orientedBounds\",None) is not None:\n",
    "    box=myNode.get_bounding_box()\n",
    "    c=box.get_center()\n",
    "    u=box.extent[0]\n",
    "    print(u)\n",
    "    d_w=math.cos(fov/2)*u\n",
    "    print(str(d_w))\n",
    "\n",
    "    #determine c_i \n",
    "    rotation_matrix=box.R\n",
    "    pcd = o3d.geometry.PointCloud()\n",
    "    array=np.array([[c[0],c[1],c[2]+d_w]])\n",
    "    pcd.points = o3d.utility.Vector3dVector(array)\n",
    "    pcd.rotate(rotation_matrix, center =c) \n",
    "    c_i=np.asarray(pcd.points[0])\n",
    "\n",
    "#generate scene\n",
    "width=640\n",
    "height=480\n",
    "render = o3d.visualization.rendering.OffscreenRenderer(width,height)\n",
    "mtl=o3d.visualization.rendering.MaterialRecord()\n",
    "mtl.base_color = [1.0, 1.0, 1.0, 1.0]  # RGBA\n",
    "mtl.shader = \"defaultUnlit\"\n",
    "\n",
    "#set camera\n",
    "# Look at the origin from the front (along the -Z direction, into the screen), with Y as Up.\n",
    "center = c  # look_at target\n",
    "eye = c_i  # camera position\n",
    "up = [0, 0, 1]  # camera orientation\n",
    "render.scene.camera.look_at(center, eye, up)\n",
    "\n",
    "#add geometries\n",
    "myNode.mesh.paint_uniform_color([1,0,0])\n",
    "render.scene.add_geometry(\"test\",myNode.mesh,mtl) \n",
    "\n",
    "#render the image\n",
    "img = render.render_to_image()\n",
    "o3d.io.write_image(sessionPath+\"\\\\IMG_V\\\\\"+\"test\"+\".png\", img)\n",
    "\n",
    "print(c)\n",
    "print(c_i)\n",
    "print(d_w)\n",
    "testbox1= copy.deepcopy(box)\n",
    "testbox1.rotate(rotation_matrix.transpose())\n",
    "\n",
    "testbox2= copy.deepcopy(testbox1)\n",
    "testbox2.rotate(rotation_matrix)\n",
    "\n",
    "testbox2.translate([1,0,0])\n",
    "box.color=[1,0,0]\n",
    "testbox1.color=[0,1,0]\n",
    "testbox2.color=[0,0,1]\n"
   ]
  },
  {
   "cell_type": "code",
   "execution_count": 10,
   "metadata": {},
   "outputs": [],
   "source": [
    "o3d.visualization.draw_geometries([myNode.mesh,pcd,box,testbox1,testbox2])"
   ]
  },
  {
   "cell_type": "code",
   "execution_count": 11,
   "metadata": {},
   "outputs": [
    {
     "data": {
      "text/plain": [
       "True"
      ]
     },
     "execution_count": 11,
     "metadata": {},
     "output_type": "execute_result"
    }
   ],
   "source": [
    "# this is resulting in a blank!\n",
    "imnode=imgNodelist[23]\n",
    "imnode.pinholeCamera=imnode.get_pinhole_camera_parameters()\n",
    "img=gt1.generate_virtual_image(pcdNode.pcd,imnode.pinholeCamera)\n",
    "o3d.io.write_image(sessionPath+\"\\\\IMG_V\\\\\"+\"myPointCloudImage\"+\".png\", img)\n",
    "\n",
    "width=pinholeCamera.intrinsic.width\n",
    "height=pinholeCamera.intrinsic.height\n",
    "render = o3d.visualization.rendering.OffscreenRenderer(width,height)\n",
    "\n",
    "# Define a simple unlit Material. (The base color does not replace the geometry colors)\n",
    "mtl=o3d.visualization.rendering.MaterialRecord()\n",
    "mtl.base_color = [1.0, 1.0, 1.0, 1.0]  # RGBA\n",
    "mtl.shader = \"defaultUnlit\"\n",
    "\n",
    "#set camera\n",
    "render.setup_camera(pinholeCamera.intrinsic,pinholeCamera.extrinsic)\n",
    "\n",
    "#add geometries\n",
    "geometries=ut.item_to_list(geometries)\n",
    "\n",
    "for idx,geometry in enumerate(geometries):\n",
    "    render.scene.add_geometry(str(idx),geometry,mtl) \n",
    "\n",
    "#render image\n",
    "img = render.render_to_image()"
   ]
  }
 ],
 "metadata": {
  "interpreter": {
   "hash": "801b4083378541fd050d6c91abf6ec053c863905e8162e031d57b83e7cdb3051"
  },
  "kernelspec": {
   "display_name": "Python 3.8.13 ('conda_environment3')",
   "language": "python",
   "name": "python3"
  },
  "language_info": {
   "codemirror_mode": {
    "name": "ipython",
    "version": 3
   },
   "file_extension": ".py",
   "mimetype": "text/x-python",
   "name": "python",
   "nbconvert_exporter": "python",
   "pygments_lexer": "ipython3",
   "version": "3.8.13 | packaged by conda-forge | (default, Mar 25 2022, 05:59:00) [MSC v.1929 64 bit (AMD64)]"
  },
  "orig_nbformat": 4,
  "vscode": {
   "interpreter": {
    "hash": "832bf5fd5c6660b37dd2a90a45a57b02f877bb0a297fe89ca9c261a7f9e32997"
   }
  }
 },
 "nbformat": 4,
 "nbformat_minor": 2
}

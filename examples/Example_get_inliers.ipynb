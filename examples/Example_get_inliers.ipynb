{
 "cells": [
  {
   "cell_type": "markdown",
   "metadata": {},
   "source": [
    "# EXAMPLE GET INLIERS\n",
    "In this notebook, we ...\n",
    "As ouput, the method generates a selection of nodes \n",
    "\n",
    ">This codebase operates on the scan2bim2.yml environment (python 3.8)"
   ]
  },
  {
   "cell_type": "code",
   "execution_count": 2,
   "metadata": {},
   "outputs": [
    {
     "name": "stdout",
     "output_type": "stream",
     "text": [
      "Jupyter environment detected. Enabling Open3D WebVisualizer.\n",
      "[Open3D INFO] WebRTC GUI backend enabled.\n",
      "[Open3D INFO] WebRTCWindowSystem: HTTP handshake server disabled.\n"
     ]
    }
   ],
   "source": [
    "#IMPORT PACKAGES\n",
    "from rdflib import Graph\n",
    "\n",
    "import os.path, time\n",
    "import importlib\n",
    "import numpy as np\n",
    "import open3d as o3d\n",
    "import ifcopenshell\n",
    "from ifcopenshell.util.selector import Selector\n",
    "\n",
    "#IMPORT MODULES\n",
    "from context import geomapi \n",
    "from geomapi.nodes import *\n",
    "import geomapi.utils as ut\n",
    "from geomapi.utils import geometryutils as gmu\n",
    "import geomapi.tools as tl"
   ]
  },
  {
   "cell_type": "code",
   "execution_count": 3,
   "metadata": {},
   "outputs": [],
   "source": [
    "%load_ext autoreload"
   ]
  },
  {
   "cell_type": "code",
   "execution_count": 4,
   "metadata": {},
   "outputs": [],
   "source": [
    "%autoreload 2"
   ]
  },
  {
   "cell_type": "markdown",
   "metadata": {},
   "source": [
    "## 1. INPUT"
   ]
  },
  {
   "cell_type": "code",
   "execution_count": 5,
   "metadata": {},
   "outputs": [],
   "source": [
    "## INPUTS\n",
    "projectPath= os.path.join(os.path.abspath(os.path.join(os.getcwd(), os.pardir)),\"tests\" )#\"D:\\\\Data\\\\2018-06 Werfopvolging Academiestraat Gent\" \n",
    "sessionPath = os.path.join(projectPath,\"Samples11\") #\"K:\\Projects\\2025-03 Project FWO SB Jelle\\7.Data\\21-11 House Maarten\\RAW data\\session_22-03-13 canon\n",
    "classes= '.IfcBeam | .IfcColumn | .IfcWall | .IfcSlab'\n",
    "\n",
    "t_d =10.0 # (float) search distance\n",
    "t_x=2.0 # (float) search distance in X given the boundingbox\n",
    "t_y=2.0 # (float) search distance in Y given the boundingbox\n",
    "t_z=1.0 # (float) search distance in Z given the boundingbox\n",
    "\n",
    "idex=2 # index of the node you want to test"
   ]
  },
  {
   "cell_type": "code",
   "execution_count": 7,
   "metadata": {},
   "outputs": [],
   "source": [
    "meshPath=os.path.join(sessionPath,\"week22.obj\")  \n",
    "mesh= o3d.io.read_triangle_mesh(meshPath)"
   ]
  },
  {
   "cell_type": "code",
   "execution_count": 8,
   "metadata": {},
   "outputs": [],
   "source": [
    "pcdPath=os.path.join(sessionPath,\"academiestraat week 22 19.pcd\")  \n",
    "pcd= o3d.io.read_point_cloud(pcdPath) "
   ]
  },
  {
   "cell_type": "markdown",
   "metadata": {},
   "source": [
    "## 2. READ DATA"
   ]
  },
  {
   "cell_type": "code",
   "execution_count": 9,
   "metadata": {},
   "outputs": [],
   "source": [
    "ifcPath2=os.path.join(sessionPath,\"ifc_parking.ifc\") \n",
    "classes= '.IfcBeam | .IfcColumn | .IfcWall | .IfcSlab'\n",
    "ifc2 = ifcopenshell.open(ifcPath2)   \n",
    "\n",
    "ifcSlab=ifc2.by_guid('2qZtnImXH6Tgdb58DjNlmF')\n",
    "ifcWall=ifc2.by_guid('06v1k9ENv8DhGMCvKUuLQV')\n",
    "ifcBeam=ifc2.by_guid('05Is7PfoXBjhBcbRTnzewz' )\n",
    "ifcColumn=ifc2.by_guid('23JN72MijBOfF91SkLzf3a')\n",
    "# ifcWindow=ifc.by_guid(cls.slabGlobalid) \n",
    "# ifcDoor=ifc.by_guid(cls.slabGlobalid)\n",
    "\n",
    "slabMesh=gmu.ifc_to_mesh(ifcSlab)\n",
    "wallMesh=gmu.ifc_to_mesh(ifcWall)\n",
    "beamMesh=gmu.ifc_to_mesh(ifcBeam)\n",
    "columnMesh=gmu.ifc_to_mesh(ifcColumn)"
   ]
  },
  {
   "cell_type": "code",
   "execution_count": 10,
   "metadata": {},
   "outputs": [],
   "source": [
    "ifcPath1=os.path.join(sessionPath,\"ifc.ifc\") \n",
    "ifc1 = ifcopenshell.open(ifcPath1)   \n",
    "selector = Selector() \n",
    "bimMeshes=[gmu.ifc_to_mesh(ifcElement) for ifcElement in selector.parse(ifc1, classes)]     \n",
    "bimBoxes=[mesh.get_oriented_bounding_box() for mesh in bimMeshes if mesh]"
   ]
  },
  {
   "cell_type": "code",
   "execution_count": 11,
   "metadata": {},
   "outputs": [],
   "source": [
    "for box in bimBoxes:\n",
    "    box.color=[0,1,0]"
   ]
  },
  {
   "cell_type": "code",
   "execution_count": 12,
   "metadata": {},
   "outputs": [],
   "source": [
    "o3d.visualization.draw_geometries(bimBoxes+[mesh]+bimMeshes)"
   ]
  },
  {
   "cell_type": "markdown",
   "metadata": {},
   "source": [
    "## test_get_box_inliers"
   ]
  },
  {
   "cell_type": "code",
   "execution_count": 13,
   "metadata": {},
   "outputs": [
    {
     "name": "stdout",
     "output_type": "stream",
     "text": [
      "8\n"
     ]
    }
   ],
   "source": [
    "wallMesh.translate([0,0,3])\n",
    "wallBox=wallMesh.get_oriented_bounding_box()\n",
    "wallInliers= gmu.get_box_inliers(sourceBox=wallBox, testBoxes=bimBoxes)\n",
    "print(len(wallInliers))"
   ]
  },
  {
   "cell_type": "code",
   "execution_count": 14,
   "metadata": {},
   "outputs": [
    {
     "name": "stdout",
     "output_type": "stream",
     "text": [
      "8\n"
     ]
    }
   ],
   "source": [
    "selectedBoxes=[ bimBoxes[i] for i in wallInliers]\n",
    "print(len(selectedBoxes))\n",
    "for box in selectedBoxes:\n",
    "    box.color=[1,0,0]\n",
    "o3d.visualization.draw_geometries(bimBoxes +selectedBoxes+ [wallBox] )"
   ]
  },
  {
   "cell_type": "markdown",
   "metadata": {},
   "source": [
    "## test_get_box_intersections"
   ]
  },
  {
   "cell_type": "code",
   "execution_count": 15,
   "metadata": {},
   "outputs": [
    {
     "name": "stdout",
     "output_type": "stream",
     "text": [
      "41\n"
     ]
    }
   ],
   "source": [
    "mesh=wallMesh.translate([0,0,3])\n",
    "wallBox=mesh.get_oriented_bounding_box()\n",
    "wallInliers= gmu.get_box_intersections(sourceBox=wallBox, testBoxes=bimBoxes)\n",
    "print(len(wallInliers))"
   ]
  },
  {
   "cell_type": "code",
   "execution_count": 16,
   "metadata": {},
   "outputs": [],
   "source": [
    "selectedBoxes=[ bimBoxes[i] for i in wallInliers]\n",
    "for box in selectedBoxes:\n",
    "    box.color=[1,0,0]\n",
    "o3d.visualization.draw_geometries(bimBoxes +selectedBoxes+ [wallBox] )"
   ]
  },
  {
   "cell_type": "markdown",
   "metadata": {},
   "source": [
    "## test_get_mesh_collisions_trimesh"
   ]
  },
  {
   "cell_type": "code",
   "execution_count": 17,
   "metadata": {},
   "outputs": [
    {
     "name": "stdout",
     "output_type": "stream",
     "text": [
      "30\n"
     ]
    }
   ],
   "source": [
    "meshes=bimMeshes\n",
    "inliers=gmu.get_mesh_collisions_trimesh(sourceMesh=mesh , geometries =meshes) \n",
    "print(len(inliers))\n"
   ]
  },
  {
   "cell_type": "code",
   "execution_count": 18,
   "metadata": {},
   "outputs": [],
   "source": [
    "selected=[ meshes[i] for i in inliers]\n",
    "for s in selected:\n",
    "    s.paint_uniform_color([1,0,0])\n",
    "o3d.visualization.draw_geometries( [mesh] + selected )"
   ]
  },
  {
   "cell_type": "markdown",
   "metadata": {},
   "source": [
    "## test_get_pcd_collisions"
   ]
  },
  {
   "cell_type": "code",
   "execution_count": 19,
   "metadata": {},
   "outputs": [
    {
     "name": "stdout",
     "output_type": "stream",
     "text": [
      "124\n"
     ]
    }
   ],
   "source": [
    "meshes=[mesh.sample_points_uniformly(1000) for mesh in bimMeshes]\n",
    "inliers=gmu.get_pcd_collisions(sourcePcd=pcd , geometries =meshes) \n",
    "print(len(inliers))"
   ]
  },
  {
   "cell_type": "code",
   "execution_count": 20,
   "metadata": {},
   "outputs": [
    {
     "data": {
      "text/plain": [
       "TriangleMesh with 85 points and 166 triangles."
      ]
     },
     "execution_count": 20,
     "metadata": {},
     "output_type": "execute_result"
    }
   ],
   "source": [
    "sourceHull, _ = pcd.compute_convex_hull()\n",
    "sourceHull.paint_uniform_color([1,0,0])"
   ]
  },
  {
   "cell_type": "code",
   "execution_count": 21,
   "metadata": {},
   "outputs": [],
   "source": [
    "selected=[ meshes[i] for i in inliers]\n",
    "for s in selected:\n",
    "    s.paint_uniform_color([1,0,0])\n",
    "o3d.visualization.draw_geometries( [pcd] + selected +[sourceHull])"
   ]
  },
  {
   "cell_type": "markdown",
   "metadata": {},
   "source": [
    "## test_get_rotation_matrix"
   ]
  },
  {
   "cell_type": "code",
   "execution_count": 22,
   "metadata": {},
   "outputs": [
    {
     "name": "stdout",
     "output_type": "stream",
     "text": [
      "[[-19.83941221  90.32921075  12.45      ]\n",
      " [-12.98842887  64.40506348  12.45      ]\n",
      " [-19.83941221  90.32921075   5.75      ]\n",
      " [-19.25652179  90.48325141  12.45      ]\n",
      " [-12.40553844  64.55910413   5.75      ]\n",
      " [-19.25652179  90.48325141   5.75      ]\n",
      " [-12.40553844  64.55910413  12.45      ]\n",
      " [-12.98842887  64.40506348   5.75      ]]\n"
     ]
    }
   ],
   "source": [
    "from scipy.spatial.transform import Rotation as R\n",
    "\n",
    "box=mesh.get_oriented_bounding_box()\n",
    "orientedBounds=np.asarray(box.get_box_points())\n",
    "print(orientedBounds)\n",
    "# rotationMatrix=np.asarray(box.R)\n",
    "rotationMatrix=np.array([[-0.0544245051021791, 0.089782180920334, 0.994473294379276],\n",
    "                                                [-0.783686718502243, -0.621016494566922, 0.0131772804097903],\n",
    "                                                [0.618767404189627, -0.778638345745315, 0.104159618122526]])\n"
   ]
  }
 ],
 "metadata": {
  "interpreter": {
   "hash": "801b4083378541fd050d6c91abf6ec053c863905e8162e031d57b83e7cdb3051"
  },
  "kernelspec": {
   "display_name": "Python 3.8.13 ('conda_environment3')",
   "language": "python",
   "name": "python3"
  },
  "language_info": {
   "codemirror_mode": {
    "name": "ipython",
    "version": 3
   },
   "file_extension": ".py",
   "mimetype": "text/x-python",
   "name": "python",
   "nbconvert_exporter": "python",
   "pygments_lexer": "ipython3",
   "version": "3.8.13 | packaged by conda-forge | (default, Mar 25 2022, 05:59:00) [MSC v.1929 64 bit (AMD64)]"
  },
  "orig_nbformat": 4,
  "vscode": {
   "interpreter": {
    "hash": "832bf5fd5c6660b37dd2a90a45a57b02f877bb0a297fe89ca9c261a7f9e32997"
   }
  }
 },
 "nbformat": 4,
 "nbformat_minor": 2
}

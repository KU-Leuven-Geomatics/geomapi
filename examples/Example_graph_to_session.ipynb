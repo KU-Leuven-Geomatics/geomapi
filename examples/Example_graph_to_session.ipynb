{
 "cells": [
  {
   "cell_type": "markdown",
   "metadata": {},
   "source": [
    "# GRAPH TO SESSION\n",
    "In this notebook, we evaluate the RDF GRAPHS in a session repository.\n",
    "For every resource, a NODE metadata class is created and its data is loaded. \n",
    "The following variables are created\n",
    ">sessionNode\n",
    "\n",
    ">This codebase operates on the scan2bim2.yml environment (python 3.8)"
   ]
  },
  {
   "cell_type": "code",
   "execution_count": 601,
   "metadata": {},
   "outputs": [],
   "source": [
    "#IMPORT PACKAGES\n",
    "from rdflib import Graph\n",
    "import os.path\n",
    "import importlib\n",
    "import numpy as np\n",
    "import open3d as o3d\n",
    "import sys\n",
    "#IMPORT MODULES\n",
    "from context import geomapi \n",
    "from geomapi.nodes import *\n",
    "from geomapi.utils import *\n",
    "import geomapi.tools as tl"
   ]
  },
  {
   "cell_type": "code",
   "execution_count": 602,
   "metadata": {},
   "outputs": [
    {
     "name": "stdout",
     "output_type": "stream",
     "text": [
      "The autoreload extension is already loaded. To reload it, use:\n",
      "  %reload_ext autoreload\n"
     ]
    }
   ],
   "source": [
    "%load_ext autoreload"
   ]
  },
  {
   "cell_type": "code",
   "execution_count": 603,
   "metadata": {},
   "outputs": [],
   "source": [
    "%autoreload 2"
   ]
  },
  {
   "cell_type": "markdown",
   "metadata": {},
   "source": [
    "## 1. INITIALIZE SESSION"
   ]
  },
  {
   "cell_type": "code",
   "execution_count": 604,
   "metadata": {},
   "outputs": [],
   "source": [
    "## INPUTS\n",
    "projectPath= os.path.abspath(os.path.join(os.getcwd(), os.pardir))+\"\\\\tests\"#\"D:\\\\Data\\\\2018-06 Werfopvolging Academiestraat Gent\" \n",
    "sessionPath = projectPath + \"\\\\Samples7\" #\"K:\\Projects\\2025-03 Project FWO SB Jelle\\7.Data\\21-11 House Maarten\\RAW data\\session_22-03-13 canon\n",
    "remark1='remark'\n",
    "\n",
    "graphPath1=sessionPath+\"\\\\sessionGraph.ttl\"\n",
    "graphPath2=sessionPath+\"\\\\resourceGraph.ttl\"\n",
    "graphPath3=sessionPath+\"\\\\combinedGraph.ttl\""
   ]
  },
  {
   "cell_type": "markdown",
   "metadata": {},
   "source": [
    "## 2. READ AND MERGE All THE RDF GRAPHS IN THE SESSION (save for feature.ttl files)"
   ]
  },
  {
   "cell_type": "code",
   "execution_count": 605,
   "metadata": {},
   "outputs": [],
   "source": [
    "#Parse graphs\n",
    "graph1=Graph().parse(graphPath1)  \n",
    "graph2=Graph().parse(graphPath2)  \n",
    "graph3=Graph().parse(graphPath3)  "
   ]
  },
  {
   "cell_type": "code",
   "execution_count": 606,
   "metadata": {},
   "outputs": [
    {
     "name": "stdout",
     "output_type": "stream",
     "text": [
      "@prefix e57: <http://libe57.org#> .\n",
      "@prefix v4d: <https://w3id.org/v4d/core#> .\n",
      "\n",
      "<file:///d:/Scan-to-BIM%20repository/geomapi/tests/Samples7/4499de21-f13f-11ec-a70d-c8f75043ce59> a \"<class 'geomapi.nodes.sessionnode.SessionNode'>\" ;\n",
      "    e57:cartesianBounds \"\"\"[-1.16820610e+01  7.79959866e+04 -1.17144113e+01  1.62223097e+05\n",
      " -3.75158827e+00  5.10806510e+01]\"\"\" ;\n",
      "    e57:cartesianTransform \"\"\"[[1.         0.         0.         8.09790678]\n",
      " [0.         1.         0.         3.80675837]\n",
      " [0.         0.         1.         0.88035253]\n",
      " [0.         0.         0.         1.        ]]\"\"\" ;\n",
      "    v4d:linkedSubjects \"['43be9b1c-f13f-11ec-8e65-c8f75043ce59', '43cb15e5-f13f-11ec-a718-c8f75043ce59', '4426ccd7-f13f-11ec-bab4-c8f75043ce59']\" ;\n",
      "    v4d:orientedBounds \"\"\"[[ 1.52193051e+01 -2.09293550e+01 -2.07175653e+00]\n",
      " [ 7.80061468e+04  1.62214824e+05  4.50607285e+01]\n",
      " [-1.48406610e+01 -6.47778610e+00 -5.39298974e+00]\n",
      " [ 1.45372471e+01 -2.06036772e+01  5.51855517e+00]\n",
      " [ 7.79754048e+04  1.62229601e+05  4.93298070e+01]\n",
      " [-1.55227190e+01 -6.15210829e+00  2.19732197e+00]\n",
      " [ 7.80054647e+04  1.62215150e+05  5.26510402e+01]\n",
      " [ 7.79760868e+04  1.62229275e+05  4.17394953e+01]]\"\"\" .\n",
      "\n",
      "\n"
     ]
    }
   ],
   "source": [
    "#test\n",
    "print(graph1.serialize())"
   ]
  },
  {
   "cell_type": "markdown",
   "metadata": {},
   "source": [
    "## 2. CREATE DATA NODES\n"
   ]
  },
  {
   "cell_type": "code",
   "execution_count": 607,
   "metadata": {},
   "outputs": [
    {
     "name": "stdout",
     "output_type": "stream",
     "text": [
      "43be9b1c-f13f-11ec-8e65-c8f75043ce59 not in graph\n",
      "43cb15e5-f13f-11ec-a718-c8f75043ce59 not in graph\n",
      "4426ccd7-f13f-11ec-bab4-c8f75043ce59 not in graph\n",
      "file:///d:/Scan-to-BIM%20repository/geomapi/tests/Samples7/4499de21-f13f-11ec-a70d-c8f75043ce59\n",
      "43be9b1c-f13f-11ec-8e65-c8f75043ce59 not in graph\n",
      "43cb15e5-f13f-11ec-a718-c8f75043ce59 not in graph\n",
      "4426ccd7-f13f-11ec-bab4-c8f75043ce59 not in graph\n",
      "file:///d:/Scan-to-BIM%20repository/geomapi/tests/Samples7/4499de21-f13f-11ec-a70d-c8f75043ce59\n"
     ]
    }
   ],
   "source": [
    "#create sessionnodes from graphs\n",
    "sessionnode1a=SessionNode(graph=graph1,graphPath=graphPath1,getResource=True, remark1=remark1)\n",
    "print(sessionnode1a.subject)\n",
    "\n",
    "# #create sessionnodes from graphPaths\n",
    "sessionnode1b=SessionNode(graphPath=graphPath1,getResource=True, remark1=remark1)\n",
    "print(sessionnode1b.subject)"
   ]
  },
  {
   "cell_type": "code",
   "execution_count": 608,
   "metadata": {},
   "outputs": [
    {
     "name": "stdout",
     "output_type": "stream",
     "text": [
      "no sessionSubjects found\n",
      "No file containing this object's name and extension is found in the sessionfolder\n",
      "No file containing this object's name and extension is found in the sessionfolder\n",
      "No file containing this object's name and extension is found in the sessionfolder\n",
      "None\n",
      "None\n",
      "no sessionSubjects found\n",
      "TriangleMesh with 4735 points and 9581 triangles.\n",
      "PointCloud with 1000000 points.\n"
     ]
    }
   ],
   "source": [
    "sessionnode2a=SessionNode(graph=graph2,getResource=True, remark1=remark1)\n",
    "print(sessionnode2a.linkedNodes[0].mesh)\n",
    "print(sessionnode2a.linkedNodes[2].pcd)\n",
    "\n",
    "sessionnode2b=SessionNode(graphPath=graphPath2,getResource=True, remark1=remark1)\n",
    "print(sessionnode2b.linkedNodes[0].mesh)\n",
    "print(sessionnode2b.linkedNodes[2].pcd)"
   ]
  },
  {
   "cell_type": "code",
   "execution_count": 609,
   "metadata": {},
   "outputs": [
    {
     "name": "stdout",
     "output_type": "stream",
     "text": [
      "No file containing this object's name and extension is found in the sessionfolder\n",
      "No file containing this object's name and extension is found in the sessionfolder\n",
      "No file containing this object's name and extension is found in the sessionfolder\n",
      "file:///d:/Scan-to-BIM%20repository/geomapi/tests/Samples7/4499de21-f13f-11ec-a70d-c8f75043ce59\n",
      "None\n",
      "None\n",
      "file:///d:/Scan-to-BIM%20repository/geomapi/tests/Samples7/4499de21-f13f-11ec-a70d-c8f75043ce59\n",
      "TriangleMesh with 4735 points and 9581 triangles.\n",
      "PointCloud with 1000000 points.\n"
     ]
    }
   ],
   "source": [
    "sessionnode3a=SessionNode(graph=graph3,getResource=True, remark1=remark1)\n",
    "print(sessionnode3a.subject)\n",
    "print(sessionnode3a.linkedNodes[0].mesh)\n",
    "print(sessionnode3a.linkedNodes[2].pcd)\n",
    "\n",
    "sessionnode3b=SessionNode(graphPath=graphPath3,getResource=True, remark1=remark1)\n",
    "print(sessionnode3b.subject)\n",
    "print(sessionnode3b.linkedNodes[0].mesh)\n",
    "print(sessionnode3b.linkedNodes[2].pcd)"
   ]
  }
 ],
 "metadata": {
  "interpreter": {
   "hash": "801b4083378541fd050d6c91abf6ec053c863905e8162e031d57b83e7cdb3051"
  },
  "kernelspec": {
   "display_name": "Python 3.8.13 ('conda_environment3')",
   "language": "python",
   "name": "python3"
  },
  "language_info": {
   "codemirror_mode": {
    "name": "ipython",
    "version": 3
   },
   "file_extension": ".py",
   "mimetype": "text/x-python",
   "name": "python",
   "nbconvert_exporter": "python",
   "pygments_lexer": "ipython3",
   "version": "3.8.13"
  },
  "orig_nbformat": 4
 },
 "nbformat": 4,
 "nbformat_minor": 2
}

{
 "cells": [
  {
   "cell_type": "markdown",
   "metadata": {},
   "source": [
    "# READING POINT CLOUD REFERENCE DATA FOR POSE MAPPING\n",
    "In this notebook, we evaluate the RDF GRAPHS in a session repository.\n",
    "For every POINTCLOUDNODE resource, a POINTCLOUDNODE metadata class is created and its data is loaded. \n",
    "The following files will be imported and represented in memory\n",
    ">nodelist=PointCloudNode[]\n",
    "\n",
    ">This codebase operates on the scan2bim.yml environment (python 3.8)"
   ]
  },
  {
   "cell_type": "code",
   "execution_count": 57,
   "metadata": {},
   "outputs": [],
   "source": [
    "# import APIs\n",
    "import rdflib\n",
    "from rdflib import Graph, plugin\n",
    "from rdflib.serializer import Serializer #pip install rdflib-jsonld https://pypi.org/project/rdflib-jsonld/\n",
    "from rdflib import Graph\n",
    "from rdflib import URIRef, BNode, Literal\n",
    "from rdflib.namespace import CSVW, DC, DCAT, DCTERMS, DOAP, FOAF, ODRL2, ORG, OWL, \\\n",
    "                           PROF, PROV, RDF, RDFS, SDO, SH, SKOS, SOSA, SSN, TIME, \\\n",
    "                           VOID, XMLNS, XSD\n",
    "\n",
    "import os.path, time\n",
    "import importlib\n",
    "import PIL\n",
    "import PIL.Image as PILimage\n",
    "from PIL import ImageDraw, ImageFont, ImageEnhance\n",
    "from PIL.ExifTags import TAGS, GPSTAGS\n",
    "import xml.etree.ElementTree as ET\n",
    "import numpy as np\n",
    "import open3d as o3d\n",
    "\n",
    "#IMPORT MODULES\n",
    "from context import geomapi \n",
    "from geomapi.nodes import *\n",
    "import geomapi.utils as ut\n",
    "from geomapi.utils import geometryutils as gmu\n",
    "import geomapi.tools as tl"
   ]
  },
  {
   "cell_type": "code",
   "execution_count": null,
   "metadata": {},
   "outputs": [],
   "source": [
    "%load_ext autoreload"
   ]
  },
  {
   "cell_type": "code",
   "execution_count": null,
   "metadata": {},
   "outputs": [],
   "source": [
    "%autoreload 2"
   ]
  },
  {
   "cell_type": "markdown",
   "metadata": {},
   "source": [
    "## 1. INITIALIZE SESSION"
   ]
  },
  {
   "cell_type": "code",
   "execution_count": 58,
   "metadata": {},
   "outputs": [],
   "source": [
    "## INPUTS\n",
    "projectPath= os.path.abspath(os.path.join(os.getcwd(), os.pardir))+\"\\\\tests\"#\"D:\\\\Data\\\\2018-06 Werfopvolging Academiestraat Gent\" \n",
    "sessionPath = projectPath + \"\\\\Samples3\" #\"K:\\Projects\\2025-03 Project FWO SB Jelle\\7.Data\\21-11 House Maarten\\RAW data\\session_22-03-13 canon"
   ]
  },
  {
   "cell_type": "markdown",
   "metadata": {},
   "source": [
    "## 2. READ AND MERGE All THE RDF GRAPHS IN THE SESSION (save for feature.ttl files)"
   ]
  },
  {
   "cell_type": "code",
   "execution_count": 60,
   "metadata": {},
   "outputs": [
    {
     "name": "stdout",
     "output_type": "stream",
     "text": [
      "Graph found with 67 triples\n"
     ]
    }
   ],
   "source": [
    "## read all graph files in a session and merge them\n",
    "allSessionFilePaths=ut.get_list_of_files(sessionPath) \n",
    "rdfGraphPaths=[]\n",
    "\n",
    "# collect all RDF graphs in the session\n",
    "sessionGraph = Graph()\n",
    "for path in allSessionFilePaths:        \n",
    "    if 'pcdGraph' in path: \n",
    "        rdfGraphPaths.append(path)\n",
    "        sessionGraph.parse(path)     \n",
    "        print('Graph found with '+str(len(sessionGraph)) +' triples')"
   ]
  },
  {
   "cell_type": "code",
   "execution_count": 61,
   "metadata": {},
   "outputs": [
    {
     "name": "stdout",
     "output_type": "stream",
     "text": [
      "@prefix e57: <http://libe57.org#> .\n",
      "@prefix gom: <https://w3id.org/gom#> .\n",
      "@prefix openlabel: <https://www.asam.net/index.php?eID=dumpFile&t=f&f=3876&token=413e8c85031ae64cc35cf42d0768627514868b2f#> .\n",
      "@prefix v4d: <https://w3id.org/v4d/core#> .\n",
      "\n",
      "<http://academiestraat_week_22_19> a \"<class 'geomapi.pointcloudnode.PointCloudNode'>\" ;\n",
      "    e57:cartesianBounds \"\"\"[-2.83604126e+01  5.53711433e+01  5.41933060e+01  1.07839798e+02\n",
      " -1.84059143e-03  1.11153946e+01]\"\"\" ;\n",
      "    e57:cartesianTransform \"\"\"[[ 1.          0.          0.          4.48137623]\n",
      " [ 0.          1.          0.         80.6841877 ]\n",
      " [ 0.          0.          1.          5.13496894]\n",
      " [ 0.          0.          0.          1.        ]]\"\"\" ;\n",
      "    gom:coordinateSystem \"local\" ;\n",
      "    v4d:PointCount \"11934055\" ;\n",
      "    v4d:accuracy \"0.002\" ;\n",
      "    v4d:guid \"f584d5d1-d05a-11ec-a6fa-c8f75043ce59\" ;\n",
      "    v4d:linkedNodes \"['http://academiestraat_week_22_20', 'http://academiestraat_week_22_21', 'http://academiestraat_week_22_22']\" ;\n",
      "    v4d:orientedBounds \"\"\"[[-28.29434626 107.59087498  13.82615959]\n",
      " [ 55.41784717 107.92405792  10.80271107]\n",
      " [-28.14322203  53.77160188  12.07957024]\n",
      " [-28.71135469 107.96307317   2.32119079]\n",
      " [ 55.15196296  54.47698301  -2.44884706]\n",
      " [-28.56023046  54.14380007   0.57460145]\n",
      " [ 55.00083873 108.29625611  -0.70225772]\n",
      " [ 55.5689714   54.10478483   9.05612173]]\"\"\" ;\n",
      "    v4d:path \"academiestraat week 22 19.pcd\" ;\n",
      "    openlabel:sensor \"Leica Scanstation P30\" ;\n",
      "    openlabel:timestamp \"2022-05-02 11:01:08\" .\n",
      "\n",
      "<http://academiestraat_week_22_20> a \"<class 'geomapi.pointcloudnode.PointCloudNode'>\" ;\n",
      "    e57:cartesianBounds \"\"\"[-36.77039719  44.17316818  61.75132751 112.70298767   1.28037024\n",
      "  10.4529705 ]\"\"\" ;\n",
      "    e57:cartesianTransform \"\"\"[[ 1.          0.          0.          0.58767088]\n",
      " [ 0.          1.          0.         87.49782357]\n",
      " [ 0.          0.          1.          5.07468233]\n",
      " [ 0.          0.          0.          1.        ]]\"\"\" ;\n",
      "    gom:coordinateSystem \"local\" ;\n",
      "    v4d:PointCount \"11936498\" ;\n",
      "    v4d:accuracy \"0.002\" ;\n",
      "    v4d:guid \"f8d9612a-d05a-11ec-bac1-c8f75043ce59\" ;\n",
      "    v4d:orientedBounds \"\"\"[[-27.59671761  51.72761543  -1.25327158]\n",
      " [ 49.06238386  63.57009377  -2.84643678]\n",
      " [-36.96459257 113.19129453   4.86625159]\n",
      " [-27.30329385  50.94547305   7.05164109]\n",
      " [ 39.98793266 124.25163049  11.57799906]\n",
      " [-36.67116881 112.40915215  13.17116426]\n",
      " [ 49.35580762  62.78795139   5.45847589]\n",
      " [ 39.6945089  125.03377287   3.27308639]]\"\"\" ;\n",
      "    v4d:path \"academiestraat week 22 20.pcd\" ;\n",
      "    openlabel:sensor \"Leica Scanstation P30\" ;\n",
      "    openlabel:timestamp \"2022-05-02 11:01:08\" .\n",
      "\n",
      "<http://academiestraat_week_22_21> a \"<class 'geomapi.pointcloudnode.PointCloudNode'>\" ;\n",
      "    e57:cartesianBounds \"\"\"[-38.53602219  53.11817169  60.26781082 126.81498718   0.28062487\n",
      "  46.44670105]\"\"\" ;\n",
      "    e57:cartesianTransform \"\"\"[[ 1.          0.          0.          0.30445284]\n",
      " [ 0.          1.          0.         94.395924  ]\n",
      " [ 0.          0.          1.          5.05300947]\n",
      " [ 0.          0.          0.          1.        ]]\"\"\" ;\n",
      "    gom:coordinateSystem \"local\" ;\n",
      "    v4d:PointCount \"11982960\" ;\n",
      "    v4d:accuracy \"0.002\" ;\n",
      "    v4d:guid \"fbeecf1c-d05a-11ec-8f53-c8f75043ce59\" ;\n",
      "    v4d:orientedBounds \"\"\"[[-36.61294425  56.42045365  43.18172861]\n",
      " [ 48.2233245   42.90715685  15.73433385]\n",
      " [-46.92420737  84.51297176  -2.51993578]\n",
      " [-19.82745685 106.70724528  70.30553349]\n",
      " [ 54.69754877 121.28646659  -2.84352567]\n",
      " [-30.13871997 134.79976339  24.60386909]\n",
      " [ 65.00881189  93.19394848  42.85813872]\n",
      " [ 37.91206138  70.99967496 -29.96733055]]\"\"\" ;\n",
      "    v4d:path \"academiestraat week 22 21.pcd\" ;\n",
      "    openlabel:sensor \"Leica Scanstation P30\" ;\n",
      "    openlabel:timestamp \"2022-05-02 11:01:08\" .\n",
      "\n",
      "<http://academiestraat_week_22_22> a \"<class 'geomapi.pointcloudnode.PointCloudNode'>\" ;\n",
      "    e57:cartesianBounds \"\"\"[-36.90804291  42.75858307  68.53307343 115.1635437    0.53719521\n",
      "  46.46524429]\"\"\" ;\n",
      "    e57:cartesianTransform \"\"\"[[ 1.          0.          0.         -5.45229098]\n",
      " [ 0.          1.          0.         95.81011845]\n",
      " [ 0.          0.          1.          5.00246349]\n",
      " [ 0.          0.          0.          1.        ]]\"\"\" ;\n",
      "    gom:coordinateSystem \"local\" ;\n",
      "    v4d:PointCount \"12044232\" ;\n",
      "    v4d:accuracy \"0.002\" ;\n",
      "    v4d:guid \"ff07b2ee-d05a-11ec-8d06-c8f75043ce59\" ;\n",
      "    v4d:orientedBounds \"\"\"[[-34.3855167  125.67664961  11.67028753]\n",
      " [ 43.55494758 116.15428452  24.64158886]\n",
      " [-46.39199938  88.50119973  56.52258207]\n",
      " [-33.94493961  96.48647221 -12.40580951]\n",
      " [ 31.98904199  49.78865723  45.41778637]\n",
      " [-45.95142229  59.31102233  32.44648504]\n",
      " [ 43.99552467  86.96410712   0.56549183]\n",
      " [ 31.5484649   78.97883463  69.49388341]]\"\"\" ;\n",
      "    v4d:path \"academiestraat week 22 22.pcd\" ;\n",
      "    openlabel:sensor \"Leica Scanstation P30\" ;\n",
      "    openlabel:timestamp \"2022-05-02 11:01:11\" .\n",
      "\n",
      "<http://academiestraat_week_22_23> a \"<class 'geomapi.pointcloudnode.PointCloudNode'>\" ;\n",
      "    e57:cartesianBounds \"\"\"[-44.15167999  41.72686768  41.02261734 117.46530151   1.26045799\n",
      "  46.38559341]\"\"\" ;\n",
      "    e57:cartesianTransform \"\"\"[[  1.           0.           0.         -11.96593745]\n",
      " [  0.           1.           0.          95.40430626]\n",
      " [  0.           0.           1.           4.92250137]\n",
      " [  0.           0.           0.           1.        ]]\"\"\" ;\n",
      "    gom:coordinateSystem \"local\" ;\n",
      "    v4d:PointCount \"11982960\" ;\n",
      "    v4d:accuracy \"0.002\" ;\n",
      "    v4d:guid \"02412cc9-d05b-11ec-9958-c8f75043ce59\" ;\n",
      "    v4d:orientedBounds \"\"\"[[-29.30181305 145.8214705   32.2259223 ]\n",
      " [ 39.83764949 104.66076607  47.66286196]\n",
      " [-71.05645091  78.44395565  39.58406766]\n",
      " [-24.04321761 137.59513954 -13.26094594]\n",
      " [  3.34160707  29.05692025   9.53413909]\n",
      " [-65.79785547  70.21762468  -5.90280057]\n",
      " [ 45.09624493  96.4344351    2.17599372]\n",
      " [ -1.91698837  37.28325122  55.02100732]]\"\"\" ;\n",
      "    v4d:path \"academiestraat week 22 23.pcd\" ;\n",
      "    openlabel:sensor \"Leica Scanstation P30\" ;\n",
      "    openlabel:timestamp \"2022-05-02 11:01:18\" .\n",
      "\n",
      "<http://academiestraat_week_22_24> a \"<class 'geomapi.pointcloudnode.PointCloudNode'>\" ;\n",
      "    e57:cartesianBounds \"\"\"[-42.89399338  21.43024063  38.94018173 126.79144287   1.65181994\n",
      "  46.36611938]\"\"\" ;\n",
      "    e57:cartesianTransform \"\"\"[[  1.           0.           0.         -14.80364852]\n",
      " [  0.           1.           0.          92.40096372]\n",
      " [  0.           0.           1.           4.89473922]\n",
      " [  0.           0.           0.           1.        ]]\"\"\" ;\n",
      "    gom:coordinateSystem \"local\" ;\n",
      "    v4d:PointCount \"11992753\" ;\n",
      "    v4d:accuracy \"0.002\" ;\n",
      "    v4d:guid \"04b9e722-d05b-11ec-b6ea-c8f75043ce59\" ;\n",
      "    v4d:orientedBounds \"\"\"[[ 32.76471853  41.06038551  26.95105564]\n",
      " [ 31.00702406 126.67463205  19.36021255]\n",
      " [-25.45967847  37.1806693   -3.32466964]\n",
      " [ 11.03266266  44.28317272  68.33180992]\n",
      " [-48.94942881 126.01770304  30.46524155]\n",
      " [-47.19173434  40.4034565   38.05608464]\n",
      " [  9.27496819 129.89741925  60.74096683]\n",
      " [-27.21737294 122.79491583 -10.91551273]]\"\"\" ;\n",
      "    v4d:path \"academiestraat week 22 24.pcd\" ;\n",
      "    openlabel:sensor \"Leica Scanstation P30\" ;\n",
      "    openlabel:timestamp \"2022-05-02 11:01:25\" .\n",
      "\n",
      "\n"
     ]
    }
   ],
   "source": [
    "#test\n",
    "print(sessionGraph.serialize())"
   ]
  },
  {
   "cell_type": "markdown",
   "metadata": {},
   "source": [
    "# 3. A PointCloudNode is created per point cloud subject in the joint RDF Graph"
   ]
  },
  {
   "cell_type": "code",
   "execution_count": 62,
   "metadata": {},
   "outputs": [
    {
     "name": "stdout",
     "output_type": "stream",
     "text": [
      "6 Nodes succesfully created from the session!\n"
     ]
    }
   ],
   "source": [
    "nodelist=tl.graph_to_nodes(sessionGraph,sessionPath=sessionPath)\n",
    "print (str(len(nodelist))+' Nodes succesfully created from the session!')"
   ]
  },
  {
   "cell_type": "code",
   "execution_count": 67,
   "metadata": {},
   "outputs": [
    {
     "name": "stdout",
     "output_type": "stream",
     "text": [
      "[rdflib.term.URIRef('http://academiestraat_week_22_20'), rdflib.term.URIRef('http://academiestraat_week_22_21'), rdflib.term.URIRef('http://academiestraat_week_22_22')]\n",
      "[rdflib.term.URIRef('http://academiestraat_week_22_20'), rdflib.term.URIRef('http://academiestraat_week_22_21'), rdflib.term.URIRef('http://academiestraat_week_22_22')]\n"
     ]
    }
   ],
   "source": [
    "test=nodelist[0].linkedNodes\n",
    "print(test)\n",
    "myNodeList=tl.get_linked_nodes(nodelist[0],sessionGraph,getGeometry=False, sessionPath=sessionPath)\n",
    "subjects=[node.subject for node in myNodeList]\n",
    "print(subjects)"
   ]
  },
  {
   "cell_type": "markdown",
   "metadata": {},
   "source": [
    "## 4. IMPORT O3D.POINTCLOUDS\n",
    "import o3d.geometry.pointclouds for each pointcloudnode if present"
   ]
  },
  {
   "cell_type": "code",
   "execution_count": 64,
   "metadata": {},
   "outputs": [
    {
     "name": "stdout",
     "output_type": "stream",
     "text": [
      "academiestraat_week_22_19 succusfully imported\n",
      "academiestraat_week_22_20 succusfully imported\n",
      "academiestraat_week_22_21 succusfully imported\n",
      "academiestraat_week_22_22 succusfully imported\n",
      "academiestraat_week_22_23 succusfully imported\n",
      "academiestraat_week_22_24 succusfully imported\n",
      "6 of 6 PointCloudNodes have their o3d.geometry.pointclouds imported!\n"
     ]
    }
   ],
   "source": [
    "counter=0\n",
    "for node in nodelist:\n",
    "    if node.get_geometry():\n",
    "        print(str(node.name)+' succusfully imported')\n",
    "        counter +=1\n",
    "\n",
    "print (str(counter)+' of '+str(len(nodelist))+ ' PointCloudNodes have their o3d.geometry.pointclouds imported!')"
   ]
  },
  {
   "cell_type": "code",
   "execution_count": 65,
   "metadata": {},
   "outputs": [],
   "source": [
    "o3d.visualization.draw_geometries([nodelist[1].pcd])"
   ]
  }
 ],
 "metadata": {
  "interpreter": {
   "hash": "832bf5fd5c6660b37dd2a90a45a57b02f877bb0a297fe89ca9c261a7f9e32997"
  },
  "kernelspec": {
   "display_name": "Python 3.8.13 ('environment')",
   "language": "python",
   "name": "python3"
  },
  "language_info": {
   "codemirror_mode": {
    "name": "ipython",
    "version": 3
   },
   "file_extension": ".py",
   "mimetype": "text/x-python",
   "name": "python",
   "nbconvert_exporter": "python",
   "pygments_lexer": "ipython3",
   "version": "3.8.13"
  },
  "orig_nbformat": 4,
  "vscode": {
   "interpreter": {
    "hash": "832bf5fd5c6660b37dd2a90a45a57b02f877bb0a297fe89ca9c261a7f9e32997"
   }
  }
 },
 "nbformat": 4,
 "nbformat_minor": 2
}

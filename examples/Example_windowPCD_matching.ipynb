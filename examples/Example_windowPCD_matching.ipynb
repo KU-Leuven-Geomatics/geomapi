{
 "cells": [
  {
   "cell_type": "code",
   "execution_count": 1,
   "metadata": {},
   "outputs": [
    {
     "name": "stdout",
     "output_type": "stream",
     "text": [
      "Jupyter environment detected. Enabling Open3D WebVisualizer.\n",
      "[Open3D INFO] WebRTC GUI backend enabled.\n",
      "[Open3D INFO] WebRTCWindowSystem: HTTP handshake server disabled.\n"
     ]
    }
   ],
   "source": [
    "import os\n",
    "import open3d as o3d\n",
    "import time\n",
    "from pathlib import Path"
   ]
  },
  {
   "cell_type": "code",
   "execution_count": 2,
   "metadata": {},
   "outputs": [
    {
     "name": "stderr",
     "output_type": "stream",
     "text": [
      "c:\\Users\\SamDeGeyter\\anaconda3\\envs\\geomapi\\lib\\site-packages\\scipy\\__init__.py:146: UserWarning: A NumPy version >=1.16.5 and <1.23.0 is required for this version of SciPy (detected version 1.23.4\n",
      "  warnings.warn(f\"A NumPy version >={np_minversion} and <{np_maxversion}\"\n"
     ]
    }
   ],
   "source": [
    "#IMPORT MODULES\n",
    "from context import geomapi \n",
    "from geomapi.nodes import *\n",
    "import geomapi.utils as ut\n",
    "from geomapi.utils import geometryutils as gmu\n",
    "import geomapi.tools as tl\n",
    "from geomapi.tools import validationtools as vt\n",
    "from geomapi.tools import completiontools as ct"
   ]
  },
  {
   "cell_type": "code",
   "execution_count": 3,
   "metadata": {},
   "outputs": [
    {
     "name": "stdout",
     "output_type": "stream",
     "text": [
      "['Detail', 'Sparse', 'Window 1.e57', 'Window 1.obj', 'Window 1.pcd', 'Window 10.e57', 'Window 10.obj', 'Window 10.pcd', 'Window 2.e57', 'Window 2.obj', 'Window 2.pcd', 'Window 3.e57', 'Window 3.obj', 'Window 3.pcd', 'Window 4.e57', 'Window 4.obj', 'Window 4.pcd', 'Window 5.e57', 'Window 5.obj', 'Window 5.pcd', 'Window 6.e57', 'Window 6.obj', 'Window 6.pcd', 'Window 7.e57', 'Window 7.obj', 'Window 7.pcd', 'Window 8.e57', 'Window 8.obj', 'Window 8.pcd', 'Window 9.e57', 'Window 9.obj', 'Window 9.pcd']\n"
     ]
    }
   ],
   "source": [
    "path = r\"C:\\Data\\Ramen\\Ramen\"\n",
    "print(os.listdir(path))"
   ]
  },
  {
   "cell_type": "code",
   "execution_count": 4,
   "metadata": {},
   "outputs": [],
   "source": [
    "BIMNodes = []\n",
    "PCDNodes = []\n",
    "\n",
    "for window in os.listdir(path):\n",
    "    if window.endswith(\"obj\"):\n",
    "        bimNode = BIMNode(path = os.path.join(path, window))\n",
    "        bimNode.get_resource()\n",
    "        BIMNodes.append(bimNode)\n",
    "        pcdPath = os.path.join(path, window.split(\".\")[0] + \".pcd\")\n",
    "        pcdNode = PointCloudNode(path = pcdPath)\n",
    "        # pcdNode = tl.e57path_to_nodes_mutiprocessing(pcdPath)[0]\n",
    "        pcdNode.get_resource()\n",
    "        PCDNodes.append(pcdNode)\n",
    "        bimNode.linkedNodes = [pcdNode]"
   ]
  },
  {
   "cell_type": "code",
   "execution_count": 5,
   "metadata": {},
   "outputs": [],
   "source": [
    "# geometries = [PCDNodes[1].resource, BIMNodes[1].resource]\n",
    "# o3d.visualization.draw_geometries(geometries, mesh_show_wireframe=True)"
   ]
  },
  {
   "cell_type": "code",
   "execution_count": 6,
   "metadata": {},
   "outputs": [],
   "source": [
    "#Create pcds from the meshes\n",
    "BIMPCDNodes = []\n",
    "resolution = 0.005\n",
    "for bimNode in BIMNodes:\n",
    "    density=int(bimNode.resource.get_surface_area()/(resolution*resolution))\n",
    "    bimpcd=bimNode.resource.sample_points_uniformly(number_of_points=density)\n",
    "\n",
    "    bimpcdNode = PointCloudNode(resource = bimpcd)\n",
    "    bimpcdNode.linkedNodes = bimNode.linkedNodes\n",
    "    BIMPCDNodes.append(bimpcdNode)\n",
    "    "
   ]
  },
  {
   "cell_type": "code",
   "execution_count": 7,
   "metadata": {},
   "outputs": [
    {
     "name": "stdout",
     "output_type": "stream",
     "text": [
      "BIMNodes: 10\n",
      "PCDNodes: 10\n",
      "BIMPCDNodes: 10\n"
     ]
    }
   ],
   "source": [
    "print(\"BIMNodes: %s\" %len(BIMNodes))\n",
    "print(\"PCDNodes: %s\" %len(PCDNodes))\n",
    "print(\"BIMPCDNodes: %s\" %len(BIMPCDNodes))"
   ]
  },
  {
   "cell_type": "code",
   "execution_count": 8,
   "metadata": {},
   "outputs": [],
   "source": [
    "for pointcloudNode in PCDNodes:\n",
    "    target = pointcloudNode.resource\n",
    "    T = target.get_center() * -1\n",
    "    pointcloudNode.resource = target.translate(T)\n",
    "\n",
    "for bimpcdNode in BIMPCDNodes:\n",
    "    #compare all pointclouds with the first BIMNode\n",
    "    source = bimpcdNode.resource\n",
    "    #Move the BIMNode to the origin\n",
    "    T = source.get_center() * -1\n",
    "    bimpcdNode.resource = source.translate(T)"
   ]
  },
  {
   "cell_type": "code",
   "execution_count": 9,
   "metadata": {},
   "outputs": [],
   "source": [
    "# #Reduce pointclouds to a distance of 0.5m of the mesh object\n",
    "# import numpy as np\n",
    "# td = 0.5\n",
    "# count = 1\n",
    "# for bimpcdNode in BIMPCDNodes:\n",
    "#     # print(bimpcdNode.linkedNodes[0].resource)\n",
    "#     source = bimpcdNode.linkedNodes[0].resource\n",
    "#     c2cdistances = source.compute_point_cloud_distance(bimpcdNode.resource)\n",
    "#     ids = np.where(np.asarray(c2cdistances) <= td)[0]\n",
    "#     bimpcdNode.linkedNodes[0].resource = source.select_by_index(ids)\n",
    "#     # print(bimpcdNode.linkedNodes[0].resource)\n",
    "#     bimpcdNode.linkedNodes[0].name = \"Window \" + str(count)\n",
    "#     bimpcdNode.linkedNodes[0].save_resource(path)\n",
    "#     count += 1\n"
   ]
  },
  {
   "cell_type": "code",
   "execution_count": 10,
   "metadata": {},
   "outputs": [],
   "source": [
    "# # Search distance for Nearest Neighbour Search [Hybrid-Search is used].\n",
    "# max_correspondence_distance = 0.07\n",
    "\n",
    "# # Select the `Estimation Method`, and `Robust Kernel` (for outlier-rejection).\n",
    "# estimation = o3d.t.pipelines.registration.TransformationEstimationPointToPlane()\n",
    "\n",
    "# # Convergence-Criteria for Vanilla ICP:\n",
    "\n",
    "# criteria = o3d.t.pipelines.registration.ICPConvergenceCriteria(relative_fitness=0.000001,\n",
    "#                                        relative_rmse=0.000001,\n",
    "#                                        max_iteration=50)\n",
    "\n",
    "# # Vanilla ICP\n",
    "# voxel_size = 0.01\n",
    "\n",
    "# # Save iteration wise `fitness`, `inlier_rmse`, etc. to analyse and tune result.\n",
    "# save_loss_log = True"
   ]
  },
  {
   "cell_type": "code",
   "execution_count": 11,
   "metadata": {},
   "outputs": [],
   "source": [
    "\n",
    "# for bimpcdNode in BIMPCDNodes:\n",
    "#     #compare all pointclouds with the first BIMNode\n",
    "#     bimpcd = bimpcdNode.resource\n",
    "#     #Move the BIMNode to the origin\n",
    "#     T = bimpcd.get_center() * -1\n",
    "#     bimpcd.translate(T)\n",
    "\n",
    "#     bimpcd.paint_uniform_color([0,0,1])\n",
    "#     source = o3d.t.geometry.PointCloud.from_legacy(bimpcd)\n",
    "#     source.estimate_normals()\n",
    "#     source.point[\"colors\"] = source.point[\"colors\"].to(\n",
    "#         o3d.core.Dtype.Float32) / 255.0\n",
    "\n",
    "#     ptime = []\n",
    "#     fitness = []\n",
    "#     rmse = []\n",
    "\n",
    "#     for pointcloudNode in PCDNodes:\n",
    "#         pointcloud = pointcloudNode.resource\n",
    "#         T = pointcloud.get_center() * -1\n",
    "#         pointcloud.translate(T)\n",
    "#         pointcloud.paint_uniform_color([0,0,1])\n",
    "#         target = o3d.t.geometry.PointCloud.from_legacy(pointcloud)\n",
    "#         # Initial guess transform between the two point-cloud.\n",
    "#         # ICP algortihm requires a good initial allignment to converge efficiently.\n",
    "#         trans_init = np.asarray([[0.862, 0.011, -0.507, 0.5],\n",
    "#                                 [-0.139, 0.967, -0.215, 0.7],\n",
    "#                                 [0.487, 0.255, 0.835, -1.4], [0.0, 0.0, 0.0, 1.0]])\n",
    "        \n",
    "#         target.transform(o3d.core.Tensor(trans_init))\n",
    "#         target.point[\"colors\"] = target.point[\"colors\"].to(\n",
    "#         o3d.core.Dtype.Float32) / 255.0\n",
    "#         s = time.time()\n",
    "\n",
    "#         registration_icp = o3d.t.pipelines.registration.icp(source, target, max_correspondence_distance,\n",
    "#                                     trans_init, estimation, criteria,\n",
    "#                                     voxel_size)\n",
    "\n",
    "#         icp_time = time.time() - s\n",
    "#         ptime.append(icp_time)\n",
    "#         # print(\"Time taken by ICP: \", icp_time)\n",
    "#         fitness.append(registration_icp.fitness)\n",
    "#         # print(\"Inlier Fitness: \", registration_icp.fitness)\n",
    "#         rmse.append(registration_icp.inlier_rmse)\n",
    "#         # print(\"Inlier RMSE: \", registration_icp.inlier_rmse)\n",
    "#     # print(ptime)\n",
    "#     print(fitness)\n",
    "#     # print(rmse)\n"
   ]
  },
  {
   "cell_type": "markdown",
   "metadata": {},
   "source": [
    "[0.9841238111270095, 0.5435358976517128, 0.7724097298207222, 0.9415768874673849, 0.9518874673849003, 0.7065167073478663, 0.6275460819796314, 0.3595656931234745, 0.664516875683865, 0.7967658446258733]\n",
    "[1.0, 0.9883616255144033, 0.9533822016460906, 0.9844393004115226, 0.9985210905349794, 0.8826517489711934, 0.9969778806584362, 0.7231224279835391, 1.0, 0.9870756172839507]\n",
    "[1.0, 0.8082275552029617, 0.8857926748644718, 0.9656386354621183, 0.9718200449557054, 0.8035832341663361, 0.778758429194764, 0.5046608488694962, 0.9460696813433822, 0.7846092820309402]\n",
    "[1.0, 0.8647498443014324, 0.8401494706248702, 0.987051069130164, 0.9991436578783475, 0.9161044218393191, 0.978202200539755, 0.6188239568195972, 0.9548474154037783, 0.8336360805480589]\n",
    "[1.0, 0.8743039752094127, 0.817145208928485, 0.984360625574977, 0.9992010845881955, 0.9174211978889265, 0.9635161961942575, 0.6228392969544376, 0.9643151116060621, 0.8252796203941316]\n",
    "[1.0, 0.9293430888296046, 0.8957183232520669, 0.9833857207004939, 0.9971208959560475, 0.9180908106394781, 0.9215246044533665, 0.6555376528698592, 0.9750653741514568, 0.9017142555270874]\n",
    "[1.0, 0.9967022010890406, 1.0, 0.9744612316895468, 0.9999233070020707, 0.942940409540609, 1.0, 0.9410230845923767, 1.0, 0.9934044021780811]\n",
    "[1.0, 0.8446231429739676, 0.9918222706828403, 0.9880741447458089, 0.9987051928581164, 0.7582799509336241, 1.0, 0.7950115851165327, 0.9670846394984326, 0.9905274635409568]\n",
    "[1.0, 0.9968744573710714, 0.969091856225039, 0.9816808473693349, 0.9999131793714187, 0.9546796318805348, 1.0, 0.7990102448341726, 1.0, 0.9842854662267755]\n",
    "[0.9712598217581606, 0.5534672783842219, 0.8057585825027685, 0.9672731107947055, 0.9186415651531931, 0.6945420028476507, 0.48527131782945737, 0.3014712861888942, 0.6327268892052945, 0.7956757896957233]"
   ]
  },
  {
   "cell_type": "markdown",
   "metadata": {},
   "source": [
    "Global Registration"
   ]
  },
  {
   "cell_type": "code",
   "execution_count": 12,
   "metadata": {},
   "outputs": [],
   "source": [
    "# import copy \n",
    "# trans_init = np.asarray([[0.0, 0.0, 1.0, 0.0], [1.0, 0.0, 0.0, 0.0],\n",
    "#                              [0.0, 1.0, 0.0, 0.0], [0.0, 0.0, 0.0, 1.0]])\n",
    "\n",
    "# voxel_size = 0.01\n",
    "# distance_threshold = voxel_size * 1.5\n",
    "\n",
    "# for bimpcdNode in BIMPCDNodes:\n",
    "#     #compare all pointclouds with the first BIMNode\n",
    "#     source = bimpcdNode.resource\n",
    "#     #Move the BIMNode to the origin\n",
    "#     T = source.get_center() * -1\n",
    "#     source.translate(T)\n",
    "#     source.paint_uniform_color([0,0,1])\n",
    "\n",
    "#     source.transform(trans_init)\n",
    "\n",
    "#     source_down = source.voxel_down_sample(voxel_size)\n",
    "#     radius_normal = voxel_size * 2\n",
    "#     source_down.estimate_normals(\n",
    "#         o3d.geometry.KDTreeSearchParamHybrid(radius=radius_normal, max_nn=30))\n",
    "    \n",
    "#     radius_feature = voxel_size * 5\n",
    "#     source_fpfh = o3d.pipelines.registration.compute_fpfh_feature(\n",
    "#         source_down,\n",
    "#         o3d.geometry.KDTreeSearchParamHybrid(radius=radius_feature, max_nn=100))\n",
    "    \n",
    "#     ptime = []\n",
    "#     fitness = []\n",
    "#     rmse = []\n",
    "\n",
    "\n",
    "#     for pointcloudNode in PCDNodes:\n",
    "#         target = pointcloudNode.resource\n",
    "#         T = target.get_center() * -1\n",
    "#         target.translate(T)\n",
    "#         target.paint_uniform_color([0,0,1])\n",
    "\n",
    "#         target_down = target.voxel_down_sample(voxel_size)\n",
    "#         radius_normal = voxel_size * 2\n",
    "#         target_down.estimate_normals(\n",
    "#             o3d.geometry.KDTreeSearchParamHybrid(radius=radius_normal, max_nn=30))\n",
    "        \n",
    "#         radius_feature = voxel_size * 5\n",
    "#         target_fpfh = o3d.pipelines.registration.compute_fpfh_feature(\n",
    "#             target_down,\n",
    "#             o3d.geometry.KDTreeSearchParamHybrid(radius=radius_feature, max_nn=100))\n",
    "#         s = time.time()\n",
    "#         result = o3d.pipelines.registration.registration_ransac_based_on_feature_matching(\n",
    "#             source_down, target_down, source_fpfh, target_fpfh, True,\n",
    "#             distance_threshold,\n",
    "#             o3d.pipelines.registration.TransformationEstimationPointToPoint(False),\n",
    "#             3, [\n",
    "#                 o3d.pipelines.registration.CorrespondenceCheckerBasedOnEdgeLength(\n",
    "#                     0.9),\n",
    "#                 o3d.pipelines.registration.CorrespondenceCheckerBasedOnDistance(\n",
    "#                     distance_threshold)\n",
    "#             ], o3d.pipelines.registration.RANSACConvergenceCriteria(100000, 0.999))\n",
    "#         # print(result)\n",
    "#         icp_time = time.time() - s\n",
    "#         ptime.append(icp_time)\n",
    "#         # print(\"Time taken by ICP: \", icp_time)\n",
    "#         fitness.append(result.fitness)\n",
    "#         # print(\"Inlier Fitness: \", registration_icp.fitness)\n",
    "#         rmse.append(result.inlier_rmse)\n",
    "#         # print(\"Inlier RMSE: \", registration_icp.inlier_rmse)\n",
    "#     # print(ptime)\n",
    "#     print(fitness)\n",
    "#     # print(rmse)"
   ]
  },
  {
   "cell_type": "markdown",
   "metadata": {},
   "source": [
    "Histograms"
   ]
  },
  {
   "cell_type": "code",
   "execution_count": 13,
   "metadata": {},
   "outputs": [],
   "source": [
    "# import matplotlib.pyplot as plt\n",
    "# import numpy as np\n",
    "\n",
    "# for i, bimpcdNode in enumerate(BIMPCDNodes):\n",
    "#     color = 'blue'\n",
    "#     #compare all pointclouds with the first BIMNode\n",
    "#     source = bimpcdNode.resource\n",
    "#     #Move the BIMNode to the origin\n",
    "#     Xbimpcd = np.asarray(source.points)[:,0]\n",
    "\n",
    "#     n, bins, patches = plt.hist(x=Xbimpcd, bins='auto', color=color,\n",
    "#                             alpha=0.7, rwidth=0.90, density=True)\n",
    "#     plt.show()\n",
    "\n",
    "#     for j, pointcloudNode in enumerate(PCDNodes):\n",
    "#         if j == i:\n",
    "#             color = ('green')\n",
    "#             target = pointcloudNode.resource\n",
    "#             Xtarget = np.asarray(target.points)[:,0]\n",
    "#             n, bins2, patches = plt.hist(x=Xtarget, bins=bins, color=color,\n",
    "#                                     alpha=0.7, rwidth=0.90, density=True)\n",
    "            \n",
    "#             plt.show()\n",
    "#         else:\n",
    "#             color = 'red'\n",
    "#         # target = pointcloudNode.resource\n",
    "#         # Xtarget = np.asarray(target.points)[:,0]\n",
    "#         # n, bins2, patches = plt.hist(x=Xtarget, bins=bins, color=color,\n",
    "#         #                         alpha=0.7, rwidth=0.90, density=True)\n",
    "        \n",
    "#         # plt.show()\n",
    "#             # plt.grid(axis='y', alpha=0.75)\n",
    "#             # plt.xlabel('Value')\n",
    "#             # plt.ylabel('Frequency')\n",
    "#             # plt.title('My Very Own Histogram')\n",
    "#             # plt.text(23, 45, r'$\\mu=15, b=3$')\n",
    "#             # maxfreq = n.max()\n",
    "#             # Set a clean upper y-axis limit.\n",
    "#             # plt.ylim(ymax=np.ceil(maxfreq / 10) * 10 if maxfreq % 10 else maxfreq + 10)\n",
    "    \n",
    "      "
   ]
  },
  {
   "cell_type": "code",
   "execution_count": 14,
   "metadata": {},
   "outputs": [],
   "source": [
    "# import matplotlib.pyplot as plt\n",
    "# import numpy as np\n",
    "\n",
    "# for i, bimpcdNode in enumerate(BIMPCDNodes):\n",
    "#     color = 'blue'\n",
    "#     #compare all pointclouds with the first BIMNode\n",
    "#     source = bimpcdNode.resource\n",
    "#     #Move the BIMNode to the origin\n",
    "#     Ybimpcd = np.asarray(source.points)[:,1]\n",
    "\n",
    "#     n, bins, patches = plt.hist(x=Ybimpcd, bins='auto', color=color,\n",
    "#                             alpha=0.7, rwidth=0.90, density=True)\n",
    "#     plt.show()\n",
    "\n",
    "#     for j, pointcloudNode in enumerate(PCDNodes):\n",
    "#         if j == i:\n",
    "#             color = ('green')\n",
    "#             target = pointcloudNode.resource\n",
    "#             Ytarget = np.asarray(target.points)[:,1]\n",
    "#             n, bins2, patches = plt.hist(x=Ytarget, bins=bins, color=color,\n",
    "#                                     alpha=0.7, rwidth=0.90, density=True)\n",
    "            \n",
    "#             plt.show()\n",
    "#         else:\n",
    "#             color = 'red'\n",
    "#         # target = pointcloudNode.resource\n",
    "#         # Ytarget = np.asarray(target.points)[:,1]\n",
    "#         # n, bins2, patches = plt.hist(x=Ytarget, bins=bins, color=color,\n",
    "#         #                         alpha=0.7, rwidth=0.90, density=True)\n",
    "        \n",
    "#         # plt.show()\n",
    "#             # plt.grid(axis='y', alpha=0.75)\n",
    "#             # plt.xlabel('Value')\n",
    "#             # plt.ylabel('Frequency')\n",
    "#             # plt.title('My Very Own Histogram')\n",
    "#             # plt.text(23, 45, r'$\\mu=15, b=3$')\n",
    "#             # maxfreq = n.max()\n",
    "#             # Set a clean upper y-axis limit.\n",
    "#             # plt.ylim(ymax=np.ceil(maxfreq / 10) * 10 if maxfreq % 10 else maxfreq + 10)\n",
    "    \n",
    "      "
   ]
  },
  {
   "cell_type": "code",
   "execution_count": 15,
   "metadata": {},
   "outputs": [],
   "source": [
    "# import matplotlib.pyplot as plt\n",
    "# import numpy as np\n",
    "\n",
    "# for i, bimpcdNode in enumerate(BIMPCDNodes):\n",
    "#     color = 'blue'\n",
    "#     #compare all pointclouds with the first BIMNode\n",
    "#     source = bimpcdNode.resource\n",
    "#     #Move the BIMNode to the origin\n",
    "#     Zbimpcd = np.asarray(source.points)[:,2]\n",
    "\n",
    "#     n, bins, patches = plt.hist(x=Zbimpcd, bins='auto', color=color,\n",
    "#                             alpha=0.7, rwidth=0.90, density=True)\n",
    "#     plt.show()\n",
    "\n",
    "#     for j, pointcloudNode in enumerate(PCDNodes):\n",
    "#         if j == i:\n",
    "#             color = ('green')\n",
    "#             target = pointcloudNode.resource\n",
    "#             Ztarget = np.asarray(target.points)[:,2]\n",
    "#             n, bins2, patches = plt.hist(x=Ztarget, bins=bins, color=color,\n",
    "#                                     alpha=0.7, rwidth=0.90, density=True)\n",
    "            \n",
    "#             plt.show()\n",
    "#         else:\n",
    "#             color = 'red'\n",
    "#         # target = pointcloudNode.resource\n",
    "#         # Ztarget = np.asarray(target.points)[:,2]\n",
    "#         # n, bins2, patches = plt.hist(x=Ztarget, bins=bins, color=color,\n",
    "#         #                         alpha=0.7, rwidth=0.90, density=True)\n",
    "        \n",
    "#         # plt.show()\n",
    "#             # plt.grid(axis='y', alpha=0.75)\n",
    "#             # plt.xlabel('Value')\n",
    "#             # plt.ylabel('Frequency')\n",
    "#             # plt.title('My Very Own Histogram')\n",
    "#             # plt.text(23, 45, r'$\\mu=15, b=3$')\n",
    "#             # maxfreq = n.max()\n",
    "#             # Set a clean upper y-axis limit.\n",
    "#             # plt.ylim(ymax=np.ceil(maxfreq / 10) * 10 if maxfreq % 10 else maxfreq + 10)\n",
    "    \n",
    "      "
   ]
  },
  {
   "cell_type": "code",
   "execution_count": 16,
   "metadata": {},
   "outputs": [],
   "source": [
    "from jakteristics import compute_features\n",
    "import numpy as np\n",
    "\n",
    "for bimpcd in BIMPCDNodes:\n",
    "    features = compute_features(np.asarray(bimpcd.resource.points), search_radius=0.15)\n"
   ]
  },
  {
   "cell_type": "code",
   "execution_count": 19,
   "metadata": {},
   "outputs": [
    {
     "name": "stdout",
     "output_type": "stream",
     "text": [
      "420992\n"
     ]
    }
   ],
   "source": [
    "print(len(features))\n"
   ]
  }
 ],
 "metadata": {
  "kernelspec": {
   "display_name": "conda_environment3",
   "language": "python",
   "name": "python3"
  },
  "language_info": {
   "codemirror_mode": {
    "name": "ipython",
    "version": 3
   },
   "file_extension": ".py",
   "mimetype": "text/x-python",
   "name": "python",
   "nbconvert_exporter": "python",
   "pygments_lexer": "ipython3",
   "version": "3.8.13 | packaged by conda-forge | (default, Mar 25 2022, 05:59:00) [MSC v.1929 64 bit (AMD64)]"
  },
  "orig_nbformat": 4,
  "vscode": {
   "interpreter": {
    "hash": "801b4083378541fd050d6c91abf6ec053c863905e8162e031d57b83e7cdb3051"
   }
  }
 },
 "nbformat": 4,
 "nbformat_minor": 2
}

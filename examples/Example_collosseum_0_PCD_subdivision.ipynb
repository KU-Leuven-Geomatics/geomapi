{
 "cells": [
  {
   "cell_type": "markdown",
   "metadata": {},
   "source": [
    "# PREPROCESSING COLOSSEUM DATA TO LINKED DATA\n",
    "In this notebook, we preprocess BIM, PCD and IMG data of the Colosseum to RDF Graphs.\n",
    "\n",
    ">This codebase operates on the scan2bim2.yml environment (python 3.8) and ifcopenshell"
   ]
  },
  {
   "cell_type": "code",
   "execution_count": 1,
   "metadata": {},
   "outputs": [
    {
     "name": "stdout",
     "output_type": "stream",
     "text": [
      "Jupyter environment detected. Enabling Open3D WebVisualizer.\n",
      "[Open3D INFO] WebRTC GUI backend enabled.\n",
      "[Open3D INFO] WebRTCWindowSystem: HTTP handshake server disabled.\n"
     ]
    }
   ],
   "source": [
    "#IMPORT PACKAGES\n",
    "from rdflib import Graph, URIRef\n",
    "import os.path\n",
    "import importlib\n",
    "import numpy as np\n",
    "import xml.etree.ElementTree as ET\n",
    "import open3d as o3d\n",
    "import uuid    \n",
    "import pye57 \n",
    "import ifcopenshell\n",
    "import ifcopenshell.geom as geom\n",
    "import ifcopenshell.util\n",
    "import ifcopenshell.util.selector\n",
    "import random as rd\n",
    "import pandas as pd\n",
    "from tabulate import tabulate\n",
    "import cv2\n",
    "\n",
    "#IMPORT MODULES\n",
    "from context import geomapi \n",
    "from geomapi.nodes import *\n",
    "import geomapi.utils as ut\n",
    "from geomapi.utils import geometryutils as gmu\n",
    "import geomapi.tools as tl"
   ]
  },
  {
   "cell_type": "code",
   "execution_count": 2,
   "metadata": {},
   "outputs": [],
   "source": [
    "%load_ext autoreload"
   ]
  },
  {
   "cell_type": "code",
   "execution_count": 3,
   "metadata": {},
   "outputs": [],
   "source": [
    "%autoreload 2"
   ]
  },
  {
   "cell_type": "markdown",
   "metadata": {},
   "source": [
    "## 1. INITIALIZE SESSION"
   ]
  },
  {
   "cell_type": "code",
   "execution_count": 4,
   "metadata": {},
   "outputs": [],
   "source": [
    "## INPUTS\n",
    "projectPath= os.path.join(\"D:\\\\Data\\\\2023-01 Colosseum\")\n",
    "sessionPath = os.path.join(projectPath,\"Research\")\n",
    "\n",
    "#BIM\n",
    "bimPath=os.path.join(sessionPath,\"BIM\")\n",
    "ifcPath=os.path.join(projectPath,'BIM','RMCO_S01_M3_4.ifc')\n",
    "bimGraphPath = os.path.join(sessionPath,\"BIM\",\"bimGraph.ttl\")\n",
    "# bimSeperatorGraphPath = os.path.join(sessionPath,\"BIM\",\"bimSeperatorGraph.ttl\")\n",
    "# bimSeperators= {'LV-03_A':'3saOMnutrFHPtEwspUjESB',\n",
    "#                 'Facade_1':'0H$kAf94TFru8CbHUTFppg',\n",
    "#                 'LV-02.1_A':'3saOMnutrFHPtEwspUjEN8',\n",
    "#                 'LV-02_A':'3saOMnutrFHPtEwspUjEHi',\n",
    "#                 'LV-01_A':'3saOMnutrFHPtEwspUjEJs',\n",
    "#                 'LV-02_B':'3saOMnutrFHPtEwspUjEjK',\n",
    "#                 'LV-01_B': '3saOMnutrFHPtEwspUjEZ6',\n",
    "#                 'LV-01_C': '3saOMnutrFHPtEwspUjEXN'}\n",
    "\n",
    "#PCD\n",
    "# csvPath=os.path.join(projectPath,'PCD','2022_11_09_RMCO_SE01-01_unito_V2.csv')#os.path.join(projectPath,'PCD','COLOSSEO_UNITO_test3.csv')\n",
    "pcdGraphPath=os.path.join(sessionPath,\"PCD\",\"pcdGraph.ttl\")\n",
    "clusteredPcdGraphPath=os.path.join(sessionPath,\"PCD\",\"clusteredPcdGraph.ttl\")\n",
    "pcdDirectory=os.path.join(sessionPath,\"PCD\")\n",
    "# materialPcdGraphPath=os.path.join(sessionPath,\"PCD\",\"materialPcdGraph.ttl\")\n",
    "# segmentedPcdGraphPath=os.path.join(sessionPath,\"PCD\",\"segmentedPcdGraph.ttl\")\n",
    "\n",
    "\n",
    "#IMG\n",
    "xmlPath=os.path.join(projectPath,'Research','IMG','cameras.xml')\n",
    "imgGraphPath=os.path.join(sessionPath,\"IMG\",\"imgGraph.ttl\")\n",
    "pixelWidth=0.0060975609756097563\n",
    "f= 2668.8837741268403\n",
    "\n",
    "#offset\n",
    "transform=np.array([[1.0,0.0, 0.0, -2.3119001244394034e+06 ], \n",
    "                [0.0, 1.0, 0.0, -4.6406591797101609e+06],\n",
    "                [0.0, 0.0, 1.0 ,-2.5068223291342328e+01],\n",
    "                [0.0 ,0.0, 0.0, 1.000000000000]])\n",
    "bimTransform=np.array([[1.0,0.0, 0.0, -2.3119001244394034e+06  ], \n",
    "                [0.0, 1.0, 0.0, -4.6406591797101609e+06],\n",
    "                [0.0, 0.0, 1.0 ,0],\n",
    "                [0.0 ,0.0, 0.0, 1.000000000000]])\n",
    "\n",
    "# Segmentation\n",
    "# listgrouping=[\"M\", \"D\", \"TC\", \"Index\"]\n",
    "dbclustering=0.05\n",
    "mimimalclustersize=10"
   ]
  },
  {
   "cell_type": "markdown",
   "metadata": {},
   "source": [
    "# PARSE INPUTS & CREATE NODES\n",
    "A set of nodes is created for the ifc, pcd and img objects"
   ]
  },
  {
   "cell_type": "markdown",
   "metadata": {},
   "source": [
    "1. IFC (3289 Elements)"
   ]
  },
  {
   "cell_type": "code",
   "execution_count": 119,
   "metadata": {},
   "outputs": [
    {
     "name": "stdout",
     "output_type": "stream",
     "text": [
      "570 BIMNodes created and saved!\n"
     ]
    }
   ],
   "source": [
    "bimNodes=to.ifc_to_nodes_multiprocessing(ifcPath,offsetTransform=bimTransform)\n",
    "saved=[n.save_resource(bimPath) for n in bimNodes]\n",
    "for n in bimNodes:\n",
    "    n.cartesianTransform= bimTransform @ transform\n",
    "    n.resource.transform(bimTransform)\n",
    "print(str(len(saved))+ \" BIMNodes created and saved!\")"
   ]
  },
  {
   "cell_type": "markdown",
   "metadata": {},
   "source": [
    "2. IFC seperators (8 Elements)"
   ]
  },
  {
   "cell_type": "code",
   "execution_count": 148,
   "metadata": {},
   "outputs": [
    {
     "name": "stdout",
     "output_type": "stream",
     "text": [
      "8 bimSeperatorNodes created and saved!\n"
     ]
    }
   ],
   "source": [
    "bimSeperatorNodes=to.ifc_to_nodes_by_guids(ifcPath,bimSeperators.values(),offsetTransform=bimTransform)\n",
    "for n in bimSeperatorNodes:\n",
    "    n.cartesianTransform= bimTransform @ transform\n",
    "    n.resource.transform(bimTransform)\n",
    "saved=[n.save_resource(bimPath) for n in bimSeperatorNodes]\n",
    "print(str(len(saved))+ \" bimSeperatorNodes created and saved!\")"
   ]
  },
  {
   "cell_type": "markdown",
   "metadata": {},
   "source": [
    "**Fig.**: Images of a BIM section of the colosseum with (left) BIM elements and (right) BIM seperator geometries for the point cloud.\n",
    "\n",
    "<img src=\"../docs/pics/colosseum/BIM1.PNG\" width = \"35%\">\n",
    "<img src=\"../docs/pics/colosseum/BIM5.PNG\" width = \"31%\">"
   ]
  },
  {
   "cell_type": "markdown",
   "metadata": {},
   "source": [
    "2. PCD: import as dataframe"
   ]
  },
  {
   "cell_type": "code",
   "execution_count": 6,
   "metadata": {},
   "outputs": [
    {
     "name": "stdout",
     "output_type": "stream",
     "text": [
      "              x             y          z         R         G         B    M  \\\n",
      "0  2.311893e+06  4.640683e+06  36.514900  0.486275  0.470588  0.427451  0.0   \n",
      "1  2.311893e+06  4.640683e+06  36.488800  0.490196  0.474510  0.427451  0.0   \n",
      "2  2.311893e+06  4.640683e+06  36.500000  0.180392  0.180392  0.137255  0.0   \n",
      "3  2.311893e+06  4.640683e+06  36.530102  0.415686  0.403922  0.380392  0.0   \n",
      "4  2.311912e+06  4.640672e+06  24.372643  0.647059  0.631373  0.631373  0.0   \n",
      "\n",
      "    TC        Nx        Ny        Nz  \n",
      "0  1.0  0.999999  0.000978  0.000978  \n",
      "1  1.0  0.999999  0.000978  0.000978  \n",
      "2  1.0  0.999999  0.000978  0.000978  \n",
      "3  1.0  0.999999  0.000978  0.000978  \n",
      "4  1.0 -0.644255 -0.764442  0.023758  \n"
     ]
    }
   ],
   "source": [
    "df = pd.read_csv(csvPath,\n",
    "    sep= ' ',\n",
    "    header=0,  \n",
    "    names=[\"x\",\"y\",\"z\",\"R\", \"G\", \"B\", \"M\", \"TC\", \"Nx\", \"Ny\", \"Nz\" ]) #[\"x\",\"y\",\"z\",\"R\", \"G\", \"B\", \"M\", \"D\", \"TC\", \"Index\", \"Nx\", \"Ny\", \"Nz\" ]\n",
    "print(df.head()) \n",
    "# pcd=gmu.dataframe_to_pcd(df,transform=transform)\n",
    "# pcdNode=PointCloudNode(name=ut.get_filename(csvPath),\n",
    "#                         csvPath=csvPath,\n",
    "#                         resource=pcd,\n",
    "#                         offsetTransform=transform)\n",
    "# saved=pcdNode.save_resource(pcdDirectory)\n",
    "# print(\"PointCloudNode \" + pcdNode.subject +  \" created!\")"
   ]
  },
  {
   "cell_type": "markdown",
   "metadata": {},
   "source": [
    "**Fig.**: Images of section of point cloud data (3M points, 3 Materials, 4 types of damage, 4 types of building techniques, 2 original point cloud source indices )\n",
    "\n",
    "<img src=\"../docs/pics/colosseum/pcd1.PNG\" width = \"49%\">"
   ]
  },
  {
   "cell_type": "markdown",
   "metadata": {},
   "source": [
    "3. IMG"
   ]
  },
  {
   "cell_type": "code",
   "execution_count": 71,
   "metadata": {},
   "outputs": [
    {
     "name": "stdout",
     "output_type": "stream",
     "text": [
      "20 Nodes created!\n"
     ]
    }
   ],
   "source": [
    "imgNodes=to.img_xml_to_nodes(xmlPath)\n",
    "imgNodes=[n for n in imgNodes if n.cartesianTransform is not None and n.path is not None and os.path.exists(n.path)]\n",
    "for n in imgNodes:\n",
    "    rotation=np.array([[4.1458532257958308e-01, 9.0392097872801924e-01 ,-1.0509935545455225e-01,0],\n",
    "                        [ 9.0916313459383069e-01, -4.1641033853698489e-01, 4.9824346492534097e-03,0],\n",
    "                        [-3.9260730980247453e-02, -9.7618103725144317e-02, -9.9444924497331855e-01,0],\n",
    "                        [0,0,0,1]])\n",
    "    n.cartesianTransform=rotation @ n.cartesianTransform\n",
    "    n.offsetTransform=transform\n",
    "    n.focalLength35mm=f\n",
    "    n.pixelWidth=pixelWidth\n",
    "print(str(len(imgNodes))+ \" Nodes created!\")"
   ]
  },
  {
   "cell_type": "code",
   "execution_count": 139,
   "metadata": {},
   "outputs": [
    {
     "data": {
      "text/plain": [
       "{'_ifcPath': 'D:\\\\Data\\\\2023-01 Colosseum\\\\Research\\\\BIM\\\\RMCO_S01_V2_1.ifc',\n",
       " '_globalId': '0H$kAf94TFru8CbHUTFppg',\n",
       " '_cartesianBounds': array([ 2.31187112e+06,  2.31189447e+06,  4.64066793e+06,  4.64069849e+06,\n",
       "        -4.35384593e+00,  4.88600000e+01]),\n",
       " '_orientedBounds': array([[ 2.31186943e+06,  4.64067023e+06,  4.88600000e+01],\n",
       "        [ 2.31186943e+06,  4.64067023e+06, -4.35384593e+00],\n",
       "        [ 2.31189089e+06,  4.64069972e+06,  4.88600000e+01],\n",
       "        [ 2.31187335e+06,  4.64066738e+06,  4.88600000e+01],\n",
       "        [ 2.31189481e+06,  4.64069686e+06, -4.35384593e+00],\n",
       "        [ 2.31189481e+06,  4.64069686e+06,  4.88600000e+01],\n",
       "        [ 2.31187335e+06,  4.64066738e+06, -4.35384593e+00],\n",
       "        [ 2.31189089e+06,  4.64069972e+06, -4.35384593e+00]]),\n",
       " '_orientedBoundingBox': OrientedBoundingBox: center: (2.31188e+06, 4.64068e+06, 22.2531), extent: 53.2138, 36.4681, 4.85204),\n",
       " '_subject': rdflib.term.URIRef('file:///Facade_1_Facade_1_2415694_0H_kAf94TFru8CbHUTFppg'),\n",
       " '_graph': <Graph identifier=N49105d2c3de44d3bbf8ee9c7aa6ed854 (<class 'rdflib.graph.Graph'>)>,\n",
       " '_graphPath': 'D:\\\\Data\\\\2023-01 Colosseum\\\\Research\\\\BIM\\\\bimSeperatorGraph.ttl',\n",
       " '_path': 'D:\\\\Data\\\\2023-01 Colosseum\\\\Research\\\\BIM\\\\Facade_1_Facade_1_2415694_0H_kAf94TFru8CbHUTFppg.ply',\n",
       " '_name': 'Facade_1:Facade_1:2415694',\n",
       " '_timestamp': None,\n",
       " '_resource': TriangleMesh with 270 points and 536 triangles.,\n",
       " '_cartesianTransform': array([[ 1.00000000e+00,  0.00000000e+00,  0.00000000e+00,\n",
       "         -4.62380025e+06],\n",
       "        [ 0.00000000e+00,  1.00000000e+00,  0.00000000e+00,\n",
       "         -9.28131836e+06],\n",
       "        [ 0.00000000e+00,  0.00000000e+00,  1.00000000e+00,\n",
       "         -2.50682233e+01],\n",
       "        [ 0.00000000e+00,  0.00000000e+00,  0.00000000e+00,\n",
       "          1.00000000e+00]]),\n",
       " 'type': 'https://w3id.org/v4d/core#BIMNode',\n",
       " 'className': 'IfcBuildingElementProxy',\n",
       " 'pointCount': 270,\n",
       " 'faceCount': 536,\n",
       " 'offsetTransform': '[[ 1.00000000e+00  0.00000000e+00  0.00000000e+00 -2.31190012e+06]\\n [ 0.00000000e+00  1.00000000e+00  0.00000000e+00 -4.64065918e+06]\\n [ 0.00000000e+00  0.00000000e+00  1.00000000e+00  0.00000000e+00]\\n [ 0.00000000e+00  0.00000000e+00  0.00000000e+00  1.00000000e+00]]'}"
      ]
     },
     "execution_count": 139,
     "metadata": {},
     "output_type": "execute_result"
    }
   ],
   "source": [
    "{key:value for key, value in bimSeperatorNodes[0].__dict__.items() if not key.startswith('__') and not callable(key)}              "
   ]
  },
  {
   "cell_type": "markdown",
   "metadata": {},
   "source": [
    "**Fig.**: Image DSC03537, DSC03509, DSC03500, \n",
    "\n",
    "<img src=\"../docs/pics/colosseum/DSC03537.JPG\" width = \"20%\">\n",
    "<img src=\"../docs/pics/colosseum/DSC03509.JPG\" width = \"20%\">\n",
    "<img src=\"../docs/pics/colosseum/DSC03500.JPG\" width = \"20%\">\n"
   ]
  },
  {
   "cell_type": "markdown",
   "metadata": {},
   "source": [
    "Show BIM, IMG and PCD resources"
   ]
  },
  {
   "cell_type": "code",
   "execution_count": 97,
   "metadata": {},
   "outputs": [],
   "source": [
    "meshes=[gmu.generate_visual_cone_from_image(n.cartesianTransform, height =0.4) for n in imgNodes]\n",
    "joinedImages=gmu.join_geometries(meshes)\n",
    "joinedImages=joinedImages.paint_uniform_color([1,0,0])\n",
    "o3d.visualization.draw_geometries([joinedImages]+[pcdNode.resource])"
   ]
  },
  {
   "cell_type": "code",
   "execution_count": 54,
   "metadata": {},
   "outputs": [],
   "source": [
    "bimSeperatormeshes=[n.resource for n in bimSeperatorNodes if n.resource]\n",
    "bimSeperatormesh=gmu.join_geometries(bimSeperatormeshes)\n",
    "bimSeperatorLineSet=o3d.geometry.LineSet.create_from_triangle_mesh(bimSeperatormesh)\n",
    "o3d.visualization.draw_geometries([bimSeperatorLineSet]+[pcdNode.resource])"
   ]
  },
  {
   "cell_type": "code",
   "execution_count": 144,
   "metadata": {},
   "outputs": [
    {
     "data": {
      "text/plain": [
       "True"
      ]
     },
     "execution_count": 144,
     "metadata": {},
     "output_type": "execute_result"
    }
   ],
   "source": [
    "o3d.io.write_triangle_mesh(os.path.join(projectPath,'Research','IMG','meshes.obj'),joinedImages)"
   ]
  },
  {
   "cell_type": "code",
   "execution_count": 22,
   "metadata": {},
   "outputs": [],
   "source": [
    "geometries=[node.resource for node in imgNodes if node.resource]\n",
    "o3d.visualization.draw_geometries(geometries)"
   ]
  },
  {
   "cell_type": "markdown",
   "metadata": {},
   "source": [
    "# CREATE RDF GRAPHS FOR EACH NODE AND EXPORT THEM TO .TTL\n",
    "An RDF graph and .ttl file is created for all nodes \n",
    "(data itself is not stored in the graph, only metadata)"
   ]
  },
  {
   "cell_type": "code",
   "execution_count": 2,
   "metadata": {},
   "outputs": [
    {
     "ename": "NameError",
     "evalue": "name 'to' is not defined",
     "output_type": "error",
     "traceback": [
      "\u001b[1;31m---------------------------------------------------------------------------\u001b[0m",
      "\u001b[1;31mNameError\u001b[0m                                 Traceback (most recent call last)",
      "\u001b[1;32m~\\AppData\\Local\\Temp/ipykernel_5256/3404469280.py\u001b[0m in \u001b[0;36m<module>\u001b[1;34m\u001b[0m\n\u001b[0;32m      2\u001b[0m \u001b[1;31m# print (str(len(bimNodes))+' Nodes succesfully serialized in: '+bimGraphPath)\u001b[0m\u001b[1;33m\u001b[0m\u001b[1;33m\u001b[0m\u001b[1;33m\u001b[0m\u001b[0m\n\u001b[0;32m      3\u001b[0m \u001b[1;33m\u001b[0m\u001b[0m\n\u001b[1;32m----> 4\u001b[1;33m \u001b[0mbimSeperatorGraph\u001b[0m\u001b[1;33m=\u001b[0m\u001b[0mto\u001b[0m\u001b[1;33m.\u001b[0m\u001b[0mnodes_to_graph\u001b[0m\u001b[1;33m(\u001b[0m\u001b[0mbimSeperatorNodes\u001b[0m\u001b[1;33m,\u001b[0m\u001b[0mbimSeperatorGraphPath\u001b[0m\u001b[1;33m,\u001b[0m\u001b[0msave\u001b[0m\u001b[1;33m=\u001b[0m\u001b[1;32mTrue\u001b[0m\u001b[1;33m)\u001b[0m\u001b[1;33m\u001b[0m\u001b[1;33m\u001b[0m\u001b[0m\n\u001b[0m\u001b[0;32m      5\u001b[0m \u001b[0mprint\u001b[0m \u001b[1;33m(\u001b[0m\u001b[0mstr\u001b[0m\u001b[1;33m(\u001b[0m\u001b[0mlen\u001b[0m\u001b[1;33m(\u001b[0m\u001b[0mbimSeperatorNodes\u001b[0m\u001b[1;33m)\u001b[0m\u001b[1;33m)\u001b[0m\u001b[1;33m+\u001b[0m\u001b[1;34m' Nodes succesfully serialized in: '\u001b[0m\u001b[1;33m+\u001b[0m\u001b[0mbimSeperatorGraphPath\u001b[0m\u001b[1;33m)\u001b[0m\u001b[1;33m\u001b[0m\u001b[1;33m\u001b[0m\u001b[0m\n\u001b[0;32m      6\u001b[0m \u001b[1;33m\u001b[0m\u001b[0m\n",
      "\u001b[1;31mNameError\u001b[0m: name 'to' is not defined"
     ]
    }
   ],
   "source": [
    "# bimGraph=to.nodes_to_graph(bimNodes,bimGraphPath,save=True)\n",
    "# print (str(len(bimNodes))+' Nodes succesfully serialized in: '+bimGraphPath)\n",
    "\n",
    "bimSeperatorGraph=to.nodes_to_graph(bimSeperatorNodes,bimSeperatorGraphPath,save=True)\n",
    "print (str(len(bimSeperatorNodes))+' Nodes succesfully serialized in: '+bimSeperatorGraphPath)\n",
    "\n",
    "# pcdGraph=pcdNode.to_graph(pcdGraphPath,save=True)\n",
    "# print ('PCDNodes succesfully serialized in: '+pcdGraphPath)\n",
    "\n",
    "# imgGraph=to.nodes_to_graph(imgNodes,imgGraphPath,save=True)\n",
    "# print (str(len(imgNodes))+' imgNodes succesfully serialized in: '+imgGraphPath)"
   ]
  },
  {
   "cell_type": "markdown",
   "metadata": {},
   "source": [
    "# CLUSTER POINT CLOUD DATA"
   ]
  },
  {
   "cell_type": "markdown",
   "metadata": {},
   "source": [
    "Print unique values per material (M), damage (D) and building technique (TC)"
   ]
  },
  {
   "cell_type": "code",
   "execution_count": 19,
   "metadata": {},
   "outputs": [
    {
     "name": "stdout",
     "output_type": "stream",
     "text": [
      "[0. 1. 4.]\n",
      "[1. 2. 3. 0.]\n",
      "[0. 2. 8. 3.]\n",
      "[0. 3.]\n"
     ]
    }
   ],
   "source": [
    "print(df.M.unique())\n",
    "print(df.D.unique())\n",
    "print(df.TC.unique())\n",
    "print(df.Index.unique())"
   ]
  },
  {
   "cell_type": "markdown",
   "metadata": {},
   "source": [
    "**Fig.**: Image of the (a) Original point cloud, (b) Materials, (c) Damages and (d) Building Techniques\n",
    "\n",
    "<img src=\"../docs/pics/colosseum/Facade1.PNG\" width = \"49%\">\n",
    "<img src=\"../docs/pics/colosseum/Mat1.PNG\" width = \"49%\">\n",
    "<img src=\"../docs/pics/colosseum/D1.PNG\" width = \"49%\">\n",
    "<img src=\"../docs/pics/colosseum/TC1.PNG\" width = \"49%\">\n"
   ]
  },
  {
   "cell_type": "markdown",
   "metadata": {},
   "source": [
    "Split dataframe per unique material (M), damage (D) and building technique (TC) into point clouds (takes 20s for 3M points and 2800 pcds)"
   ]
  },
  {
   "cell_type": "code",
   "execution_count": 14,
   "metadata": {},
   "outputs": [
    {
     "name": "stdout",
     "output_type": "stream",
     "text": [
      "17\n",
      "3424050\n"
     ]
    }
   ],
   "source": [
    "pcds=[]\n",
    "names=[] \n",
    "for name,group in df.groupby(listgrouping):\n",
    "    names.append(name)\n",
    "    pcd=gmu.dataframe_to_pcd(df=group,pointFields=['x', 'y', 'z','R', 'G', 'B','Nx', 'Ny', 'Nz'],transform=transform)\n",
    "    pcds.append(pcd)\n",
    "print(len(pcds))\n",
    "lengths=[len(pcd.points) for pcd in pcds]\n",
    "print(sum(lengths))"
   ]
  },
  {
   "cell_type": "markdown",
   "metadata": {},
   "source": [
    "Report biggest cluster"
   ]
  },
  {
   "cell_type": "code",
   "execution_count": 15,
   "metadata": {},
   "outputs": [
    {
     "name": "stdout",
     "output_type": "stream",
     "text": [
      "5\n"
     ]
    }
   ],
   "source": [
    "print(lengths.index(max(lengths)))\n",
    "pcd=pcds[5]"
   ]
  },
  {
   "cell_type": "markdown",
   "metadata": {},
   "source": [
    "Segment each pcd in connected components (retain names). 45s for 220 clusters, 5cm , 3M points"
   ]
  },
  {
   "cell_type": "code",
   "execution_count": 22,
   "metadata": {},
   "outputs": [
    {
     "name": "stdout",
     "output_type": "stream",
     "text": [
      "[Open3D DEBUG] Precompute neighbors.\n",
      "[Open3D DEBUG] Done Precompute neighbors.\n",
      "[Open3D DEBUG] Compute Clusters\n",
      "[Open3D DEBUG] Done Compute Clusters: 1\n",
      "[Open3D DEBUG] Precompute neighbors.\n",
      "[Open3D DEBUG] Done Precompute neighbors.\n",
      "[Open3D DEBUG] Compute Clusters\n",
      "[Open3D DEBUG] Done Compute Clusters: 34\n",
      "[Open3D DEBUG] Precompute neighbors.\n",
      "[Open3D DEBUG] Done Precompute neighbors.\n",
      "[Open3D DEBUG] Compute Clusters\n",
      "[Open3D DEBUG] Done Compute Clusters: 7\n",
      "[Open3D DEBUG] Precompute neighbors.\n",
      "[Open3D DEBUG] Done Precompute neighbors.\n",
      "[Open3D DEBUG] Compute Clusters\n",
      "[Open3D DEBUG] Done Compute Clusters: 1\n",
      "[Open3D DEBUG] Precompute neighbors.\n",
      "[Open3D DEBUG] Done Precompute neighbors.\n",
      "[Open3D DEBUG] Compute Clusters\n",
      "[Open3D DEBUG] Done Compute Clusters: 93\n",
      "[Open3D DEBUG] Precompute neighbors.\n",
      "[Open3D DEBUG] Done Precompute neighbors.\n",
      "[Open3D DEBUG] Compute Clusters\n",
      "[Open3D DEBUG] Done Compute Clusters: 10\n",
      "[Open3D DEBUG] Precompute neighbors.\n",
      "[Open3D DEBUG] Done Precompute neighbors.\n",
      "[Open3D DEBUG] Compute Clusters\n",
      "[Open3D DEBUG] Done Compute Clusters: 5\n",
      "[Open3D DEBUG] Precompute neighbors.\n",
      "[Open3D DEBUG] Done Precompute neighbors.\n",
      "[Open3D DEBUG] Compute Clusters\n",
      "[Open3D DEBUG] Done Compute Clusters: 1\n",
      "[Open3D DEBUG] Precompute neighbors.\n",
      "[Open3D DEBUG] Done Precompute neighbors.\n",
      "[Open3D DEBUG] Compute Clusters\n",
      "[Open3D DEBUG] Done Compute Clusters: 6\n",
      "[Open3D DEBUG] Precompute neighbors.\n",
      "[Open3D DEBUG] Done Precompute neighbors.\n",
      "[Open3D DEBUG] Compute Clusters\n",
      "[Open3D DEBUG] Done Compute Clusters: 5\n",
      "[Open3D DEBUG] Precompute neighbors.\n",
      "[Open3D DEBUG] Done Precompute neighbors.\n",
      "[Open3D DEBUG] Compute Clusters\n",
      "[Open3D DEBUG] Done Compute Clusters: 12\n",
      "[Open3D DEBUG] Precompute neighbors.\n",
      "[Open3D DEBUG] Done Precompute neighbors.\n",
      "[Open3D DEBUG] Compute Clusters\n",
      "[Open3D DEBUG] Done Compute Clusters: 24\n",
      "[Open3D DEBUG] Precompute neighbors.\n",
      "[Open3D DEBUG] Done Precompute neighbors.\n",
      "[Open3D DEBUG] Compute Clusters\n",
      "[Open3D DEBUG] Done Compute Clusters: 8\n",
      "[Open3D DEBUG] Precompute neighbors.\n",
      "[Open3D DEBUG] Done Precompute neighbors.\n",
      "[Open3D DEBUG] Compute Clusters\n",
      "[Open3D DEBUG] Done Compute Clusters: 5\n",
      "[Open3D DEBUG] Precompute neighbors.\n",
      "[Open3D DEBUG] Done Precompute neighbors.\n",
      "[Open3D DEBUG] Compute Clusters\n",
      "[Open3D DEBUG] Done Compute Clusters: 10\n",
      "[Open3D DEBUG] Precompute neighbors.\n",
      "[Open3D DEBUG] Done Precompute neighbors.\n",
      "[Open3D DEBUG] Compute Clusters\n",
      "[Open3D DEBUG] Done Compute Clusters: 6\n",
      "212\n"
     ]
    }
   ],
   "source": [
    "clusteredPcds=[]\n",
    "clusteredNames=[]\n",
    "colors=[]\n",
    "for i,pcd in enumerate(pcds):    \n",
    "    if len(pcd.points)>mimimalclustersize:\n",
    "        list=gmu.segment_pcd_by_connected_component(pcd, eps=dbclustering)\n",
    "        clusteredPcds.extend(list)\n",
    "        color=[rd.random(),rd.random(),rd.random()]\n",
    "        for l in range(len(list)):\n",
    "            clusteredNames.append(names[i]+tuple(ut.item_to_list(l)))\n",
    "            colors.append(color)\n",
    "print(len(clusteredPcds))"
   ]
  },
  {
   "cell_type": "markdown",
   "metadata": {},
   "source": [
    "visualize points clouds in seperate colors"
   ]
  },
  {
   "cell_type": "code",
   "execution_count": 31,
   "metadata": {},
   "outputs": [],
   "source": [
    "coloredPcds=[pcd.paint_uniform_color([rd.random(),rd.random(),rd.random()]) for pcd in clusteredPcds]\n",
    "joined=gmu.join_geometries(coloredPcds)\n",
    "o3d.visualization.draw_geometries([joined])"
   ]
  },
  {
   "cell_type": "markdown",
   "metadata": {},
   "source": [
    "**Fig.**: Image of the (a) clustering per D,TC,M and Index (17 clusters) and (b) clustering per connected component (eps=0.05m, 220 clusters)\n",
    "\n",
    "<img src=\"../docs/pics/colosseum/segmented_1.PNG\" width = \"40%\">\n",
    "<img src=\"../docs/pics/colosseum/cluster2.PNG\" width = \"35%\">"
   ]
  },
  {
   "cell_type": "markdown",
   "metadata": {},
   "source": [
    "Create clusteredpcdNodes of clusteredPcds"
   ]
  },
  {
   "cell_type": "code",
   "execution_count": 23,
   "metadata": {},
   "outputs": [
    {
     "name": "stdout",
     "output_type": "stream",
     "text": [
      "212\n"
     ]
    }
   ],
   "source": [
    "clusteredpcdNodes=[]\n",
    "for i,pcd in enumerate(clusteredPcds):\n",
    "    material=listgrouping[0]+str(clusteredNames[i][0])\n",
    "    damage=listgrouping[1]+str(clusteredNames[i][1])\n",
    "    buildingTechnique=listgrouping[2]+str(clusteredNames[i][2])\n",
    "    originalCloudIndex=listgrouping[3]+str(clusteredNames[i][3])\n",
    "    name=material+damage+buildingTechnique+originalCloudIndex+'Part'+str(clusteredNames[i][4])\n",
    "    clusteredpcdNodes.append(PointCloudNode(name=name,\n",
    "                                            resource=pcd,\n",
    "                                            isDirivedFrom=pcdNode.subject,\n",
    "                                            offsetTransform=transform,\n",
    "                                            color=colors[i],\n",
    "                                            material=clusteredNames[i][0],\n",
    "                                            damage=clusteredNames[i][1],\n",
    "                                            buildingTechnique=clusteredNames[i][2],\n",
    "                                            originalCloudIndex=clusteredNames[i][3]))\n",
    "print(len(clusteredpcdNodes))"
   ]
  },
  {
   "cell_type": "markdown",
   "metadata": {},
   "source": [
    "Buffer resources on hard drive"
   ]
  },
  {
   "cell_type": "code",
   "execution_count": 24,
   "metadata": {},
   "outputs": [
    {
     "name": "stdout",
     "output_type": "stream",
     "text": [
      "212 Nodes created and saved!\n"
     ]
    }
   ],
   "source": [
    "saved=[n.save_resource(directory=pcdDirectory) for n in clusteredpcdNodes]\n",
    "print(str(len(saved))+ \" Nodes created and saved!\")"
   ]
  },
  {
   "cell_type": "code",
   "execution_count": 29,
   "metadata": {},
   "outputs": [
    {
     "data": {
      "text/plain": [
       "{'_e57Index': 0,\n",
       " 'pointCount': 172577,\n",
       " 'e57XmlPath': None,\n",
       " '_cartesianBounds': array([-24.10202508, -20.76214318,  11.17519371,  15.92719261,\n",
       "         -0.54163866,   7.20511104]),\n",
       " '_orientedBounds': array([[-24.53848293,  13.98995204,  -1.06916936],\n",
       "        [-23.67237643,  16.57681314,   7.00723463],\n",
       "        [-24.92345599,   9.86100863,   0.29460972],\n",
       "        [-21.52504414,  13.63934017,  -1.2800274 ],\n",
       "        [-21.04391071,  12.09725787,   8.16015566],\n",
       "        [-21.9100172 ,   9.51039677,   0.08375168],\n",
       "        [-20.65893764,  16.22620128,   6.79637659],\n",
       "        [-24.0573495 ,  12.44786973,   8.3710137 ]]),\n",
       " '_orientedBoundingBox': OrientedBoundingBox: center: (-22.7912, 13.0436, 3.54549), extent: 8.52469, 4.36535, 3.04109),\n",
       " '_subject': rdflib.term.URIRef('file:///M0.0D1.0TC0.0Index0.0Part0'),\n",
       " '_graph': None,\n",
       " '_graphPath': None,\n",
       " '_path': 'D:\\\\Data\\\\2023-01 Colosseum\\\\Research\\\\PCD\\\\M0.0D1.0TC0.0Index0.0Part0.pcd',\n",
       " '_name': 'M0.0D1.0TC0.0Index0.0Part0',\n",
       " '_timestamp': None,\n",
       " '_resource': PointCloud with 172577 points.,\n",
       " '_cartesianTransform': array([[  1.        ,   0.        ,   0.        , -22.13508229],\n",
       "        [  0.        ,   1.        ,   0.        ,  13.19940307],\n",
       "        [  0.        ,   0.        ,   1.        ,   2.72556669],\n",
       "        [  0.        ,   0.        ,   0.        ,   1.        ]]),\n",
       " 'isDirivedFrom': rdflib.term.URIRef('file:///COLOSSEO_UNITO_test3'),\n",
       " 'offsetTransform': array([[ 1.00000000e+00,  0.00000000e+00,  0.00000000e+00,\n",
       "         -2.31190012e+06],\n",
       "        [ 0.00000000e+00,  1.00000000e+00,  0.00000000e+00,\n",
       "         -4.64065918e+06],\n",
       "        [ 0.00000000e+00,  0.00000000e+00,  1.00000000e+00,\n",
       "         -2.50682233e+01],\n",
       "        [ 0.00000000e+00,  0.00000000e+00,  0.00000000e+00,\n",
       "          1.00000000e+00]]),\n",
       " 'color': [0.30176458953978647, 0.33087870364857486, 0.052828114016502004],\n",
       " 'material': 0.0,\n",
       " 'damage': 1.0,\n",
       " 'buildingTechnique': 0.0,\n",
       " 'originalCloudIndex': 0.0}"
      ]
     },
     "execution_count": 29,
     "metadata": {},
     "output_type": "execute_result"
    }
   ],
   "source": [
    "{key:value for key, value in clusteredpcdNodes[0].__dict__.items() if not key.startswith('__') and not callable(key)}              "
   ]
  },
  {
   "cell_type": "markdown",
   "metadata": {},
   "source": [
    "Create RDF graph of ClusteredPcdNodes"
   ]
  },
  {
   "cell_type": "code",
   "execution_count": 25,
   "metadata": {},
   "outputs": [
    {
     "name": "stdout",
     "output_type": "stream",
     "text": [
      "212 Nodes succesfully serialized in: D:\\Data\\2023-01 Colosseum\\Research\\PCD\\clusteredPcdGraph.ttl\n"
     ]
    }
   ],
   "source": [
    "clusteredPcdGraph=to.nodes_to_graph(clusteredpcdNodes,clusteredPcdGraphPath,save=True)\n",
    "print (str(len(clusteredpcdNodes))+' Nodes succesfully serialized in: '+clusteredPcdGraphPath)"
   ]
  },
  {
   "cell_type": "markdown",
   "metadata": {},
   "source": [
    "# SEGMENT POINT CLOUDS WITH BIMSEPERATORS"
   ]
  },
  {
   "cell_type": "markdown",
   "metadata": {},
   "source": [
    "## Segment point clouds (optional)"
   ]
  },
  {
   "cell_type": "code",
   "execution_count": 39,
   "metadata": {},
   "outputs": [
    {
     "name": "stdout",
     "output_type": "stream",
     "text": [
      "Name                         pcd\n",
      "---------------------------  ------------------------------\n",
      "Facade_1:Facade_1:2415694    PointCloud with 188773 points.\n",
      "LV-01_A:LV-01_A:2418239      PointCloud with 153186 points.\n",
      "LV-01_B:LV-01_B:2419215\n",
      "LV-01_C:LV-01_C:2419358\n",
      "LV-02.1_A:LV-02.1_A:2418433\n",
      "LV-02_A:LV-02_A:2418341\n",
      "LV-02_S:LV-02_B:2419101\n",
      "LV-03_A:LV-03_A:2418114\n"
     ]
    }
   ],
   "source": [
    "meshes=[n.resource for n in bimSeperatorNodes if n.resource]\n",
    "croppedPcds, indices=gmu.crop_point_cloud_from_meshes(pcdNode.resource,meshes)\n",
    "headers = ['Name', 'pcd']   \n",
    "names=[n.name for n in bimSeperatorNodes] \n",
    "print(tabulate(zip(names,croppedPcds), headers=headers, floatfmt=\".4f\"))"
   ]
  },
  {
   "cell_type": "code",
   "execution_count": null,
   "metadata": {},
   "outputs": [],
   "source": [
    "paintedPCD=[pcd for pcd in croppedPcds if pcd is not None]\n",
    "paintedPCD=[pcd.paint_uniform_color([rd.random(),rd.random(),rd.random()]) for pcd in paintedPCD if pcd is not None]\n",
    "paintedPCD=gmu.join_geometries(paintedPCD)\n",
    "o3d.visualization.draw_geometries([bimSeperatorLineSet]+[paintedPCD])"
   ]
  },
  {
   "cell_type": "markdown",
   "metadata": {},
   "source": [
    "Create direvative segmentedPcdNodes for every segment"
   ]
  },
  {
   "cell_type": "code",
   "execution_count": null,
   "metadata": {},
   "outputs": [],
   "source": [
    "segmentedPcdNodes=[]\n",
    "for n,pcd in zip(bimSeperatorNodes,croppedPcds):\n",
    "    if pcd:\n",
    "        segmentedPcdNodes.append(PointCloudNode(subject=n.subject,\n",
    "                                                name=n.name,\n",
    "                                                resource=pcd,\n",
    "                                                isDerivedFromGeometry=pcdNode.subject,\n",
    "                                                analysisTimestamp=pcdNode.timestamp))\n",
    "saved=[n.save_resource(pcdDirectory) for n in segmentedPcdNodes]\n",
    "print(str(len(saved))+ \" segmentedPcdNodes created and saved!\")\n",
    "\n",
    "segmentedPcdGraph=to.nodes_to_graph(segmentedPcdNodes,segmentedPcdGraphPath,save=True)\n",
    "print (str(len(segmentedPcdNodes))+' Nodes succesfully serialized in: '+segmentedPcdGraphPath)"
   ]
  },
  {
   "cell_type": "markdown",
   "metadata": {},
   "source": [
    "## Segment dataframes"
   ]
  },
  {
   "cell_type": "code",
   "execution_count": 8,
   "metadata": {},
   "outputs": [
    {
     "ename": "MemoryError",
     "evalue": "Unable to allocate 27.2 GiB for an array with shape (11, 331990927) and data type float64",
     "output_type": "error",
     "traceback": [
      "\u001b[1;31m---------------------------------------------------------------------------\u001b[0m",
      "\u001b[1;31mMemoryError\u001b[0m                               Traceback (most recent call last)",
      "\u001b[1;32m~\\AppData\\Local\\Temp/ipykernel_5256/1240214856.py\u001b[0m in \u001b[0;36m<module>\u001b[1;34m\u001b[0m\n\u001b[1;32m----> 1\u001b[1;33m \u001b[0mnewDf\u001b[0m\u001b[1;33m=\u001b[0m\u001b[0mgt\u001b[0m\u001b[1;33m.\u001b[0m\u001b[0mtransform_dataframe\u001b[0m\u001b[1;33m(\u001b[0m\u001b[0mdf\u001b[0m\u001b[1;33m,\u001b[0m\u001b[0mtransform\u001b[0m\u001b[1;33m)\u001b[0m\u001b[1;33m\u001b[0m\u001b[1;33m\u001b[0m\u001b[0m\n\u001b[0m\u001b[0;32m      2\u001b[0m \u001b[0mdataframes\u001b[0m\u001b[1;33m=\u001b[0m\u001b[0mgt\u001b[0m\u001b[1;33m.\u001b[0m\u001b[0mcrop_dataframe_from_meshes\u001b[0m\u001b[1;33m(\u001b[0m\u001b[0mnewDf\u001b[0m\u001b[1;33m,\u001b[0m\u001b[0mmeshes\u001b[0m\u001b[1;33m)\u001b[0m\u001b[1;33m\u001b[0m\u001b[1;33m\u001b[0m\u001b[0m\n\u001b[0;32m      3\u001b[0m \u001b[0mheaders\u001b[0m \u001b[1;33m=\u001b[0m \u001b[1;33m[\u001b[0m\u001b[1;34m'Name'\u001b[0m\u001b[1;33m,\u001b[0m \u001b[1;34m'pcd'\u001b[0m\u001b[1;33m]\u001b[0m\u001b[1;33m\u001b[0m\u001b[1;33m\u001b[0m\u001b[0m\n\u001b[0;32m      4\u001b[0m \u001b[0mnames\u001b[0m\u001b[1;33m=\u001b[0m\u001b[1;33m[\u001b[0m\u001b[0mn\u001b[0m\u001b[1;33m.\u001b[0m\u001b[0mname\u001b[0m \u001b[1;32mfor\u001b[0m \u001b[0mn\u001b[0m \u001b[1;32min\u001b[0m \u001b[0mbimSeperatorNodes\u001b[0m\u001b[1;33m]\u001b[0m\u001b[1;33m\u001b[0m\u001b[1;33m\u001b[0m\u001b[0m\n\u001b[0;32m      5\u001b[0m \u001b[0mlengths\u001b[0m\u001b[1;33m=\u001b[0m\u001b[1;33m[\u001b[0m\u001b[0mlen\u001b[0m\u001b[1;33m(\u001b[0m\u001b[0mlist\u001b[0m\u001b[1;33m)\u001b[0m \u001b[1;32mif\u001b[0m \u001b[0mlist\u001b[0m \u001b[1;32mis\u001b[0m \u001b[1;32mnot\u001b[0m \u001b[1;32mNone\u001b[0m \u001b[1;32melse\u001b[0m \u001b[1;32mNone\u001b[0m \u001b[1;32mfor\u001b[0m \u001b[0mlist\u001b[0m \u001b[1;32min\u001b[0m \u001b[0mdataframes\u001b[0m \u001b[1;33m]\u001b[0m\u001b[1;33m\u001b[0m\u001b[1;33m\u001b[0m\u001b[0m\n",
      "\u001b[1;32md:\\Scan-to-BIM repository\\geomapi\\geomapi\\utils\\geometryutils.py\u001b[0m in \u001b[0;36mtransform_dataframe\u001b[1;34m(df, transform, pointFields)\u001b[0m\n\u001b[0;32m   1620\u001b[0m         \u001b[1;31m#replace column\u001b[0m\u001b[1;33m\u001b[0m\u001b[1;33m\u001b[0m\u001b[1;33m\u001b[0m\u001b[0m\n\u001b[0;32m   1621\u001b[0m         \u001b[1;32mfor\u001b[0m \u001b[0mi\u001b[0m\u001b[1;33m,\u001b[0m\u001b[0mn\u001b[0m \u001b[1;32min\u001b[0m \u001b[0menumerate\u001b[0m\u001b[1;33m(\u001b[0m\u001b[1;33m[\u001b[0m\u001b[0mpointFields\u001b[0m\u001b[1;33m[\u001b[0m\u001b[1;36m0\u001b[0m\u001b[1;33m]\u001b[0m\u001b[1;33m,\u001b[0m \u001b[0mpointFields\u001b[0m\u001b[1;33m[\u001b[0m\u001b[1;36m1\u001b[0m\u001b[1;33m]\u001b[0m\u001b[1;33m,\u001b[0m \u001b[0mpointFields\u001b[0m\u001b[1;33m[\u001b[0m\u001b[1;36m2\u001b[0m\u001b[1;33m]\u001b[0m\u001b[1;33m]\u001b[0m\u001b[1;33m)\u001b[0m\u001b[1;33m:\u001b[0m\u001b[1;33m\u001b[0m\u001b[1;33m\u001b[0m\u001b[0m\n\u001b[1;32m-> 1622\u001b[1;33m             \u001b[0mdf\u001b[0m\u001b[1;33m.\u001b[0m\u001b[0mdrop\u001b[0m\u001b[1;33m(\u001b[0m\u001b[0mn\u001b[0m\u001b[1;33m,\u001b[0m \u001b[0maxis\u001b[0m \u001b[1;33m=\u001b[0m \u001b[1;36m1\u001b[0m\u001b[1;33m,\u001b[0m \u001b[0minplace\u001b[0m \u001b[1;33m=\u001b[0m \u001b[1;32mTrue\u001b[0m\u001b[1;33m)\u001b[0m\u001b[1;33m\u001b[0m\u001b[1;33m\u001b[0m\u001b[0m\n\u001b[0m\u001b[0;32m   1623\u001b[0m             \u001b[0mdf\u001b[0m\u001b[1;33m[\u001b[0m\u001b[0mn\u001b[0m\u001b[1;33m]\u001b[0m \u001b[1;33m=\u001b[0m \u001b[0mnewxyz\u001b[0m\u001b[1;33m[\u001b[0m\u001b[1;33m:\u001b[0m\u001b[1;33m,\u001b[0m\u001b[0mi\u001b[0m\u001b[1;33m]\u001b[0m\u001b[1;33m.\u001b[0m\u001b[0mtolist\u001b[0m\u001b[1;33m(\u001b[0m\u001b[1;33m)\u001b[0m\u001b[1;33m\u001b[0m\u001b[1;33m\u001b[0m\u001b[0m\n\u001b[0;32m   1624\u001b[0m     \u001b[1;32melse\u001b[0m\u001b[1;33m:\u001b[0m\u001b[1;33m\u001b[0m\u001b[1;33m\u001b[0m\u001b[0m\n",
      "\u001b[1;32mc:\\Users\\u0094523\\.conda\\envs\\conda_environment3\\lib\\site-packages\\pandas\\util\\_decorators.py\u001b[0m in \u001b[0;36mwrapper\u001b[1;34m(*args, **kwargs)\u001b[0m\n\u001b[0;32m    309\u001b[0m                     \u001b[0mstacklevel\u001b[0m\u001b[1;33m=\u001b[0m\u001b[0mstacklevel\u001b[0m\u001b[1;33m,\u001b[0m\u001b[1;33m\u001b[0m\u001b[1;33m\u001b[0m\u001b[0m\n\u001b[0;32m    310\u001b[0m                 )\n\u001b[1;32m--> 311\u001b[1;33m             \u001b[1;32mreturn\u001b[0m \u001b[0mfunc\u001b[0m\u001b[1;33m(\u001b[0m\u001b[1;33m*\u001b[0m\u001b[0margs\u001b[0m\u001b[1;33m,\u001b[0m \u001b[1;33m**\u001b[0m\u001b[0mkwargs\u001b[0m\u001b[1;33m)\u001b[0m\u001b[1;33m\u001b[0m\u001b[1;33m\u001b[0m\u001b[0m\n\u001b[0m\u001b[0;32m    312\u001b[0m \u001b[1;33m\u001b[0m\u001b[0m\n\u001b[0;32m    313\u001b[0m         \u001b[1;32mreturn\u001b[0m \u001b[0mwrapper\u001b[0m\u001b[1;33m\u001b[0m\u001b[1;33m\u001b[0m\u001b[0m\n",
      "\u001b[1;32mc:\\Users\\u0094523\\.conda\\envs\\conda_environment3\\lib\\site-packages\\pandas\\core\\frame.py\u001b[0m in \u001b[0;36mdrop\u001b[1;34m(self, labels, axis, index, columns, level, inplace, errors)\u001b[0m\n\u001b[0;32m   4952\u001b[0m                 \u001b[0mweight\u001b[0m  \u001b[1;36m1.0\u001b[0m     \u001b[1;36m0.8\u001b[0m\u001b[1;33m\u001b[0m\u001b[1;33m\u001b[0m\u001b[0m\n\u001b[0;32m   4953\u001b[0m         \"\"\"\n\u001b[1;32m-> 4954\u001b[1;33m         return super().drop(\n\u001b[0m\u001b[0;32m   4955\u001b[0m             \u001b[0mlabels\u001b[0m\u001b[1;33m=\u001b[0m\u001b[0mlabels\u001b[0m\u001b[1;33m,\u001b[0m\u001b[1;33m\u001b[0m\u001b[1;33m\u001b[0m\u001b[0m\n\u001b[0;32m   4956\u001b[0m             \u001b[0maxis\u001b[0m\u001b[1;33m=\u001b[0m\u001b[0maxis\u001b[0m\u001b[1;33m,\u001b[0m\u001b[1;33m\u001b[0m\u001b[1;33m\u001b[0m\u001b[0m\n",
      "\u001b[1;32mc:\\Users\\u0094523\\.conda\\envs\\conda_environment3\\lib\\site-packages\\pandas\\core\\generic.py\u001b[0m in \u001b[0;36mdrop\u001b[1;34m(self, labels, axis, index, columns, level, inplace, errors)\u001b[0m\n\u001b[0;32m   4265\u001b[0m         \u001b[1;32mfor\u001b[0m \u001b[0maxis\u001b[0m\u001b[1;33m,\u001b[0m \u001b[0mlabels\u001b[0m \u001b[1;32min\u001b[0m \u001b[0maxes\u001b[0m\u001b[1;33m.\u001b[0m\u001b[0mitems\u001b[0m\u001b[1;33m(\u001b[0m\u001b[1;33m)\u001b[0m\u001b[1;33m:\u001b[0m\u001b[1;33m\u001b[0m\u001b[1;33m\u001b[0m\u001b[0m\n\u001b[0;32m   4266\u001b[0m             \u001b[1;32mif\u001b[0m \u001b[0mlabels\u001b[0m \u001b[1;32mis\u001b[0m \u001b[1;32mnot\u001b[0m \u001b[1;32mNone\u001b[0m\u001b[1;33m:\u001b[0m\u001b[1;33m\u001b[0m\u001b[1;33m\u001b[0m\u001b[0m\n\u001b[1;32m-> 4267\u001b[1;33m                 \u001b[0mobj\u001b[0m \u001b[1;33m=\u001b[0m \u001b[0mobj\u001b[0m\u001b[1;33m.\u001b[0m\u001b[0m_drop_axis\u001b[0m\u001b[1;33m(\u001b[0m\u001b[0mlabels\u001b[0m\u001b[1;33m,\u001b[0m \u001b[0maxis\u001b[0m\u001b[1;33m,\u001b[0m \u001b[0mlevel\u001b[0m\u001b[1;33m=\u001b[0m\u001b[0mlevel\u001b[0m\u001b[1;33m,\u001b[0m \u001b[0merrors\u001b[0m\u001b[1;33m=\u001b[0m\u001b[0merrors\u001b[0m\u001b[1;33m)\u001b[0m\u001b[1;33m\u001b[0m\u001b[1;33m\u001b[0m\u001b[0m\n\u001b[0m\u001b[0;32m   4268\u001b[0m \u001b[1;33m\u001b[0m\u001b[0m\n\u001b[0;32m   4269\u001b[0m         \u001b[1;32mif\u001b[0m \u001b[0minplace\u001b[0m\u001b[1;33m:\u001b[0m\u001b[1;33m\u001b[0m\u001b[1;33m\u001b[0m\u001b[0m\n",
      "\u001b[1;32mc:\\Users\\u0094523\\.conda\\envs\\conda_environment3\\lib\\site-packages\\pandas\\core\\generic.py\u001b[0m in \u001b[0;36m_drop_axis\u001b[1;34m(self, labels, axis, level, errors, consolidate, only_slice)\u001b[0m\n\u001b[0;32m   4348\u001b[0m \u001b[1;33m\u001b[0m\u001b[0m\n\u001b[0;32m   4349\u001b[0m         \u001b[0mbm_axis\u001b[0m \u001b[1;33m=\u001b[0m \u001b[0mself\u001b[0m\u001b[1;33m.\u001b[0m\u001b[0mndim\u001b[0m \u001b[1;33m-\u001b[0m \u001b[0maxis_num\u001b[0m \u001b[1;33m-\u001b[0m \u001b[1;36m1\u001b[0m\u001b[1;33m\u001b[0m\u001b[1;33m\u001b[0m\u001b[0m\n\u001b[1;32m-> 4350\u001b[1;33m         new_mgr = self._mgr.reindex_indexer(\n\u001b[0m\u001b[0;32m   4351\u001b[0m             \u001b[0mnew_axis\u001b[0m\u001b[1;33m,\u001b[0m\u001b[1;33m\u001b[0m\u001b[1;33m\u001b[0m\u001b[0m\n\u001b[0;32m   4352\u001b[0m             \u001b[0mindexer\u001b[0m\u001b[1;33m,\u001b[0m\u001b[1;33m\u001b[0m\u001b[1;33m\u001b[0m\u001b[0m\n",
      "\u001b[1;32mc:\\Users\\u0094523\\.conda\\envs\\conda_environment3\\lib\\site-packages\\pandas\\core\\internals\\managers.py\u001b[0m in \u001b[0;36mreindex_indexer\u001b[1;34m(self, new_axis, indexer, axis, fill_value, allow_dups, copy, consolidate, only_slice, use_na_proxy)\u001b[0m\n\u001b[0;32m    673\u001b[0m \u001b[1;33m\u001b[0m\u001b[0m\n\u001b[0;32m    674\u001b[0m         \u001b[1;32mif\u001b[0m \u001b[0mconsolidate\u001b[0m\u001b[1;33m:\u001b[0m\u001b[1;33m\u001b[0m\u001b[1;33m\u001b[0m\u001b[0m\n\u001b[1;32m--> 675\u001b[1;33m             \u001b[0mself\u001b[0m\u001b[1;33m.\u001b[0m\u001b[0m_consolidate_inplace\u001b[0m\u001b[1;33m(\u001b[0m\u001b[1;33m)\u001b[0m\u001b[1;33m\u001b[0m\u001b[1;33m\u001b[0m\u001b[0m\n\u001b[0m\u001b[0;32m    676\u001b[0m \u001b[1;33m\u001b[0m\u001b[0m\n\u001b[0;32m    677\u001b[0m         \u001b[1;31m# some axes don't allow reindexing with dups\u001b[0m\u001b[1;33m\u001b[0m\u001b[1;33m\u001b[0m\u001b[1;33m\u001b[0m\u001b[0m\n",
      "\u001b[1;32mc:\\Users\\u0094523\\.conda\\envs\\conda_environment3\\lib\\site-packages\\pandas\\core\\internals\\managers.py\u001b[0m in \u001b[0;36m_consolidate_inplace\u001b[1;34m(self)\u001b[0m\n\u001b[0;32m   1683\u001b[0m     \u001b[1;32mdef\u001b[0m \u001b[0m_consolidate_inplace\u001b[0m\u001b[1;33m(\u001b[0m\u001b[0mself\u001b[0m\u001b[1;33m)\u001b[0m \u001b[1;33m->\u001b[0m \u001b[1;32mNone\u001b[0m\u001b[1;33m:\u001b[0m\u001b[1;33m\u001b[0m\u001b[1;33m\u001b[0m\u001b[0m\n\u001b[0;32m   1684\u001b[0m         \u001b[1;32mif\u001b[0m \u001b[1;32mnot\u001b[0m \u001b[0mself\u001b[0m\u001b[1;33m.\u001b[0m\u001b[0mis_consolidated\u001b[0m\u001b[1;33m(\u001b[0m\u001b[1;33m)\u001b[0m\u001b[1;33m:\u001b[0m\u001b[1;33m\u001b[0m\u001b[1;33m\u001b[0m\u001b[0m\n\u001b[1;32m-> 1685\u001b[1;33m             \u001b[0mself\u001b[0m\u001b[1;33m.\u001b[0m\u001b[0mblocks\u001b[0m \u001b[1;33m=\u001b[0m \u001b[0mtuple\u001b[0m\u001b[1;33m(\u001b[0m\u001b[0m_consolidate\u001b[0m\u001b[1;33m(\u001b[0m\u001b[0mself\u001b[0m\u001b[1;33m.\u001b[0m\u001b[0mblocks\u001b[0m\u001b[1;33m)\u001b[0m\u001b[1;33m)\u001b[0m\u001b[1;33m\u001b[0m\u001b[1;33m\u001b[0m\u001b[0m\n\u001b[0m\u001b[0;32m   1686\u001b[0m             \u001b[0mself\u001b[0m\u001b[1;33m.\u001b[0m\u001b[0m_is_consolidated\u001b[0m \u001b[1;33m=\u001b[0m \u001b[1;32mTrue\u001b[0m\u001b[1;33m\u001b[0m\u001b[1;33m\u001b[0m\u001b[0m\n\u001b[0;32m   1687\u001b[0m             \u001b[0mself\u001b[0m\u001b[1;33m.\u001b[0m\u001b[0m_known_consolidated\u001b[0m \u001b[1;33m=\u001b[0m \u001b[1;32mTrue\u001b[0m\u001b[1;33m\u001b[0m\u001b[1;33m\u001b[0m\u001b[0m\n",
      "\u001b[1;32mc:\\Users\\u0094523\\.conda\\envs\\conda_environment3\\lib\\site-packages\\pandas\\core\\internals\\managers.py\u001b[0m in \u001b[0;36m_consolidate\u001b[1;34m(blocks)\u001b[0m\n\u001b[0;32m   2082\u001b[0m     \u001b[0mnew_blocks\u001b[0m\u001b[1;33m:\u001b[0m \u001b[0mlist\u001b[0m\u001b[1;33m[\u001b[0m\u001b[0mBlock\u001b[0m\u001b[1;33m]\u001b[0m \u001b[1;33m=\u001b[0m \u001b[1;33m[\u001b[0m\u001b[1;33m]\u001b[0m\u001b[1;33m\u001b[0m\u001b[1;33m\u001b[0m\u001b[0m\n\u001b[0;32m   2083\u001b[0m     \u001b[1;32mfor\u001b[0m \u001b[1;33m(\u001b[0m\u001b[0m_can_consolidate\u001b[0m\u001b[1;33m,\u001b[0m \u001b[0mdtype\u001b[0m\u001b[1;33m)\u001b[0m\u001b[1;33m,\u001b[0m \u001b[0mgroup_blocks\u001b[0m \u001b[1;32min\u001b[0m \u001b[0mgrouper\u001b[0m\u001b[1;33m:\u001b[0m\u001b[1;33m\u001b[0m\u001b[1;33m\u001b[0m\u001b[0m\n\u001b[1;32m-> 2084\u001b[1;33m         merged_blocks = _merge_blocks(\n\u001b[0m\u001b[0;32m   2085\u001b[0m             \u001b[0mlist\u001b[0m\u001b[1;33m(\u001b[0m\u001b[0mgroup_blocks\u001b[0m\u001b[1;33m)\u001b[0m\u001b[1;33m,\u001b[0m \u001b[0mdtype\u001b[0m\u001b[1;33m=\u001b[0m\u001b[0mdtype\u001b[0m\u001b[1;33m,\u001b[0m \u001b[0mcan_consolidate\u001b[0m\u001b[1;33m=\u001b[0m\u001b[0m_can_consolidate\u001b[0m\u001b[1;33m\u001b[0m\u001b[1;33m\u001b[0m\u001b[0m\n\u001b[0;32m   2086\u001b[0m         )\n",
      "\u001b[1;32mc:\\Users\\u0094523\\.conda\\envs\\conda_environment3\\lib\\site-packages\\pandas\\core\\internals\\managers.py\u001b[0m in \u001b[0;36m_merge_blocks\u001b[1;34m(blocks, dtype, can_consolidate)\u001b[0m\n\u001b[0;32m   2116\u001b[0m \u001b[1;33m\u001b[0m\u001b[0m\n\u001b[0;32m   2117\u001b[0m         \u001b[0margsort\u001b[0m \u001b[1;33m=\u001b[0m \u001b[0mnp\u001b[0m\u001b[1;33m.\u001b[0m\u001b[0margsort\u001b[0m\u001b[1;33m(\u001b[0m\u001b[0mnew_mgr_locs\u001b[0m\u001b[1;33m)\u001b[0m\u001b[1;33m\u001b[0m\u001b[1;33m\u001b[0m\u001b[0m\n\u001b[1;32m-> 2118\u001b[1;33m         \u001b[0mnew_values\u001b[0m \u001b[1;33m=\u001b[0m \u001b[0mnew_values\u001b[0m\u001b[1;33m[\u001b[0m\u001b[0margsort\u001b[0m\u001b[1;33m]\u001b[0m\u001b[1;33m\u001b[0m\u001b[1;33m\u001b[0m\u001b[0m\n\u001b[0m\u001b[0;32m   2119\u001b[0m         \u001b[0mnew_mgr_locs\u001b[0m \u001b[1;33m=\u001b[0m \u001b[0mnew_mgr_locs\u001b[0m\u001b[1;33m[\u001b[0m\u001b[0margsort\u001b[0m\u001b[1;33m]\u001b[0m\u001b[1;33m\u001b[0m\u001b[1;33m\u001b[0m\u001b[0m\n\u001b[0;32m   2120\u001b[0m \u001b[1;33m\u001b[0m\u001b[0m\n",
      "\u001b[1;31mMemoryError\u001b[0m: Unable to allocate 27.2 GiB for an array with shape (11, 331990927) and data type float64"
     ]
    }
   ],
   "source": [
    "newDf=gmu.transform_dataframe(df,transform)\n",
    "dataframes=gmu.crop_dataframe_from_meshes(newDf,meshes)\n",
    "headers = ['Name', 'pcd']   \n",
    "names=[n.name for n in bimSeperatorNodes] \n",
    "lengths=[len(list) if list is not None else None for list in dataframes ]\n",
    "print(tabulate(zip(names,lengths), headers=headers, floatfmt=\".4f\"))"
   ]
  },
  {
   "cell_type": "code",
   "execution_count": 55,
   "metadata": {},
   "outputs": [],
   "source": [
    "paintedPCD=[gmu.dataframe_to_pcd(df) for df in dataframes if df is not None]\n",
    "paintedPCD=[pcd.paint_uniform_color([rd.random(),rd.random(),rd.random()]) for pcd in paintedPCD if pcd is not None]\n",
    "paintedPCD=gmu.join_geometries(paintedPCD)\n",
    "o3d.visualization.draw_geometries([bimSeperatorLineSet]+[paintedPCD])"
   ]
  },
  {
   "cell_type": "code",
   "execution_count": 78,
   "metadata": {},
   "outputs": [
    {
     "name": "stdout",
     "output_type": "stream",
     "text": [
      " Facade_1_Facade_1_2415694_0H_kAf94TFru8CbHUTFppg.ply saved \n",
      " LV-01_A_LV-01_A_2418239_3saOMnutrFHPtEwspUjEJs.ply saved \n",
      " LV-01_B_LV-01_B_2419215_3saOMnutrFHPtEwspUjEZ6.ply saved \n",
      " LV-01_C_LV-01_C_2419358_3saOMnutrFHPtEwspUjEXN.ply saved \n",
      " LV-02.ply saved \n",
      " LV-02_A_LV-02_A_2418341_3saOMnutrFHPtEwspUjEHi.ply saved \n",
      " LV-02_S_LV-02_B_2419101_3saOMnutrFHPtEwspUjEjK.ply saved \n",
      " LV-03_A_LV-03_A_2418114_3saOMnutrFHPtEwspUjESB.ply saved \n"
     ]
    }
   ],
   "source": [
    "names=[ut.get_filename(n.subject) for n in bimSeperatorNodes] \n",
    "for name,df in zip(names,dataframes):\n",
    "    if df is not None:\n",
    "        print( f' {name}.ply saved ')\n",
    "        gmu.save_dataframe_as_ply(os.path.join(pcdDirectory,name), points=df,as_text=True)"
   ]
  },
  {
   "cell_type": "markdown",
   "metadata": {},
   "source": [
    "Create direvative segmentedPcdNodes for every segment"
   ]
  },
  {
   "cell_type": "code",
   "execution_count": 80,
   "metadata": {},
   "outputs": [
    {
     "name": "stdout",
     "output_type": "stream",
     "text": [
      "2 Nodes succesfully serialized in: D:\\Data\\2023-01 Colosseum\\Research\\PCD\\segmentedPcdGraph.ttl\n"
     ]
    }
   ],
   "source": [
    "segmentedPcdNodes=[]\n",
    "for n,df in zip(bimSeperatorNodes,dataframes):\n",
    "    if df is not None:\n",
    "        segmentedPcdNodes.append(PointCloudNode(subject=n.subject,\n",
    "                                                name=n.name,\n",
    "                                                csvPath=os.path.join(pcdDirectory,ut.get_filename(n.subject)),\n",
    "                                                isDerivedFromGeometry=pcdNode.subject,\n",
    "                                                analysisTimestamp=pcdNode.timestamp))\n",
    "segmentedPcdGraph=to.nodes_to_graph(segmentedPcdNodes,segmentedPcdGraphPath,save=True)\n",
    "print (str(len(segmentedPcdNodes))+' Nodes succesfully serialized in: '+segmentedPcdGraphPath)"
   ]
  },
  {
   "cell_type": "markdown",
   "metadata": {},
   "source": [
    "# IMPORT RDF graphs "
   ]
  },
  {
   "cell_type": "markdown",
   "metadata": {},
   "source": [
    "Import clusteredpcdNodes, imgNodes and bimNodes"
   ]
  },
  {
   "cell_type": "code",
   "execution_count": 2,
   "metadata": {},
   "outputs": [
    {
     "ename": "NameError",
     "evalue": "name 'to' is not defined",
     "output_type": "error",
     "traceback": [
      "\u001b[1;31m---------------------------------------------------------------------------\u001b[0m",
      "\u001b[1;31mNameError\u001b[0m                                 Traceback (most recent call last)",
      "\u001b[1;32m~\\AppData\\Local\\Temp/ipykernel_18188/357826548.py\u001b[0m in \u001b[0;36m<module>\u001b[1;34m\u001b[0m\n\u001b[1;32m----> 1\u001b[1;33m \u001b[0mpcdNode\u001b[0m\u001b[1;33m=\u001b[0m\u001b[0mto\u001b[0m\u001b[1;33m.\u001b[0m\u001b[0mgraph_path_to_nodes\u001b[0m\u001b[1;33m(\u001b[0m\u001b[0mgraphPath\u001b[0m\u001b[1;33m=\u001b[0m\u001b[0mpcdGraphPath\u001b[0m\u001b[1;33m,\u001b[0m\u001b[0mgetResource\u001b[0m\u001b[1;33m=\u001b[0m\u001b[1;32mTrue\u001b[0m\u001b[1;33m)\u001b[0m\u001b[1;33m[\u001b[0m\u001b[1;36m0\u001b[0m\u001b[1;33m]\u001b[0m\u001b[1;33m\u001b[0m\u001b[1;33m\u001b[0m\u001b[0m\n\u001b[0m\u001b[0;32m      2\u001b[0m \u001b[0mprint\u001b[0m\u001b[1;33m(\u001b[0m\u001b[0mstr\u001b[0m\u001b[1;33m(\u001b[0m\u001b[0mlen\u001b[0m\u001b[1;33m(\u001b[0m\u001b[0mut\u001b[0m\u001b[1;33m.\u001b[0m\u001b[0mitem_to_list\u001b[0m\u001b[1;33m(\u001b[0m\u001b[0mpcdNode\u001b[0m\u001b[1;33m)\u001b[0m\u001b[1;33m)\u001b[0m\u001b[1;33m)\u001b[0m \u001b[1;33m+\u001b[0m \u001b[1;34m' pcdNode'\u001b[0m\u001b[1;33m)\u001b[0m\u001b[1;33m\u001b[0m\u001b[1;33m\u001b[0m\u001b[0m\n\u001b[0;32m      3\u001b[0m \u001b[0mclusteredpcdNodes\u001b[0m\u001b[1;33m=\u001b[0m\u001b[0mto\u001b[0m\u001b[1;33m.\u001b[0m\u001b[0mgraph_path_to_nodes\u001b[0m\u001b[1;33m(\u001b[0m\u001b[0mgraphPath\u001b[0m\u001b[1;33m=\u001b[0m\u001b[0mclusteredPcdGraphPath\u001b[0m\u001b[1;33m,\u001b[0m\u001b[0mgetResource\u001b[0m\u001b[1;33m=\u001b[0m\u001b[1;32mTrue\u001b[0m\u001b[1;33m)\u001b[0m\u001b[1;33m\u001b[0m\u001b[1;33m\u001b[0m\u001b[0m\n\u001b[0;32m      4\u001b[0m \u001b[0mprint\u001b[0m\u001b[1;33m(\u001b[0m\u001b[0mstr\u001b[0m\u001b[1;33m(\u001b[0m\u001b[0mlen\u001b[0m\u001b[1;33m(\u001b[0m\u001b[0mclusteredpcdNodes\u001b[0m\u001b[1;33m)\u001b[0m\u001b[1;33m)\u001b[0m \u001b[1;33m+\u001b[0m \u001b[1;34m' clusteredpcdNodes'\u001b[0m\u001b[1;33m)\u001b[0m\u001b[1;33m\u001b[0m\u001b[1;33m\u001b[0m\u001b[0m\n\u001b[0;32m      5\u001b[0m \u001b[0mimgNodes\u001b[0m\u001b[1;33m=\u001b[0m\u001b[0mto\u001b[0m\u001b[1;33m.\u001b[0m\u001b[0mgraph_path_to_nodes\u001b[0m\u001b[1;33m(\u001b[0m\u001b[0mgraphPath\u001b[0m\u001b[1;33m=\u001b[0m\u001b[0mimgGraphPath\u001b[0m\u001b[1;33m,\u001b[0m\u001b[0mgetResource\u001b[0m\u001b[1;33m=\u001b[0m\u001b[1;32mTrue\u001b[0m\u001b[1;33m,\u001b[0m\u001b[0mgetMetaData\u001b[0m\u001b[1;33m=\u001b[0m\u001b[1;32mFalse\u001b[0m\u001b[1;33m)\u001b[0m\u001b[1;33m\u001b[0m\u001b[1;33m\u001b[0m\u001b[0m\n",
      "\u001b[1;31mNameError\u001b[0m: name 'to' is not defined"
     ]
    }
   ],
   "source": [
    "pcdNode=to.graph_path_to_nodes(graphPath=pcdGraphPath,getResource=True)[0]\n",
    "print(str(len(ut.item_to_list(pcdNode))) + ' pcdNode')\n",
    "clusteredpcdNodes=to.graph_path_to_nodes(graphPath=clusteredPcdGraphPath,getResource=True)\n",
    "print(str(len(clusteredpcdNodes)) + ' clusteredpcdNodes')\n",
    "imgNodes=to.graph_path_to_nodes(graphPath=imgGraphPath,getResource=True,getMetaData=False)\n",
    "print(str(len(imgNodes)) + ' imgNodes')\n",
    "# bimNodes=to.graph_path_to_nodes(graphPath=bimGraphPath,getResource=True)\n",
    "# print(str(len(bimNodes)) + ' bimNodes')\n",
    "bimSeperatorNodes=to.graph_path_to_nodes(graphPath=bimSeperatorGraphPath,getResource=True)\n",
    "print(str(len(bimSeperatorNodes)) + ' bimSeperatorNodes')"
   ]
  },
  {
   "cell_type": "markdown",
   "metadata": {},
   "source": [
    "# EXTRACT LOCAL AND GLOBAL FEATURES"
   ]
  },
  {
   "cell_type": "markdown",
   "metadata": {},
   "source": [
    "Extract local + covariance features per observation"
   ]
  },
  {
   "cell_type": "code",
   "execution_count": 12,
   "metadata": {},
   "outputs": [],
   "source": [
    "featurepcdNodes=[]\n",
    "for n in clusteredpcdNodes:#\n",
    "    if n.resource:\n",
    "        uvratios=[n.orientedBoundingBox.extent[0]/n.orientedBoundingBox.extent[1],\n",
    "                n.orientedBoundingBox.extent[1]/n.orientedBoundingBox.extent[2],\n",
    "                n.orientedBoundingBox.extent[0]/n.orientedBoundingBox.extent[2]] \n",
    "        n.get_oriented_bounding_box() \n",
    "        _,covarianceMatrix=n.resource.compute_mean_and_covariance()\n",
    "        eigenValues,eigenVectors=np.linalg.eig(covarianceMatrix)\n",
    "        featurepcdNodes.append(Node(subject=n.subject,                                           \n",
    "                                                volume=n.orientedBoundingBox.volume() ,                                           \n",
    "                                                minUvRatio=min(uvratios),\n",
    "                                                maxUvRatio=max(uvratios),\n",
    "                                                eigenValues=eigenValues,\n",
    "                                                eigenVectors=eigenVectors))  \n",
    "    "
   ]
  },
  {
   "cell_type": "markdown",
   "metadata": {},
   "source": [
    "Report features per Damage, Material, Building Technique."
   ]
  },
  {
   "cell_type": "code",
   "execution_count": 37,
   "metadata": {},
   "outputs": [
    {
     "name": "stdout",
     "output_type": "stream",
     "text": [
      "[0. 1. 4.]\n",
      "[1. 2. 3. 0.]\n",
      "[0. 2. 8. 3.]\n",
      "[0. 3.]\n"
     ]
    }
   ],
   "source": [
    "print(df.M.unique())\n",
    "print(df.D.unique())\n",
    "print(df.TC.unique())\n",
    "print(df.Index.unique())"
   ]
  },
  {
   "cell_type": "code",
   "execution_count": 34,
   "metadata": {},
   "outputs": [
    {
     "name": "stdout",
     "output_type": "stream",
     "text": [
      "material 0.0 : 49    avg. size: 6.992178349779105    avg. min uv ratio: 2.0058211303711206    avg. max uv ratio: 10.837029687792734    avg. eigenValues: [0.19254290610283564, 0.10637257688300211, 0.2238820280292671]    avg. eigenVectors: [0.019803746084659717, -0.028345923953310093, 0.4474351093291564]\n",
      "material 1.0 : 15    avg. size: 6.193488341128893    avg. min uv ratio: 1.6882490002120656    avg. max uv ratio: 9.387174730640488    avg. eigenValues: [0.5807895768764803, 0.1840488404081582, 0.08942777142017902]    avg. eigenVectors: [0.05728370671042169, -0.09368165967103441, 0.7063970588975464]\n",
      "material 4.0 : 7    avg. size: 0.5196751800767835    avg. min uv ratio: 1.7872644012968248    avg. max uv ratio: 5.822612805653004    avg. eigenValues: [0.1724873867677556, 0.0033528768289794943, 0.027408282144226973]    avg. eigenVectors: [0.11091249796098121, 0.4756039943389136, 0.6333387616104835]\n"
     ]
    }
   ],
   "source": [
    "for i in df.M.unique():\n",
    "    list=[n for n in clusteredpcdNodes if n.material==i and n.resource]\n",
    "    print( 'material ' + str(i) + ' : ' + str(len(list)) + \n",
    "            '    avg. size: '+str(np.mean([n.volume for n in list])) +\n",
    "            '    avg. min uv ratio: '+str(np.mean([n.minUvRatio for n in list])) +\n",
    "            '    avg. max uv ratio: '+str(np.mean([n.maxUvRatio for n in list])) +\n",
    "            '    avg. eigenValues: '+str([np.mean([n.eigenValues[0] for n in list]) ,np.mean([n.eigenValues[1] for n in list]) ,np.mean([n.eigenValues[2] for n in list]) ]  )  +\n",
    "            '    avg. eigenVectors: '+str([np.mean([n.eigenVectors[0][2] for n in list]) ,np.mean([n.eigenVectors[1][2] for n in list]) ,np.mean([n.eigenVectors[2][2] for n in list]) ]  )    )\n"
   ]
  },
  {
   "cell_type": "code",
   "execution_count": 35,
   "metadata": {},
   "outputs": [
    {
     "name": "stdout",
     "output_type": "stream",
     "text": [
      "damage 1.0 : 16    avg. size: 6.203450298797019    avg. min uv ratio: 1.7381718222715161    avg. max uv ratio: 14.49004844098182    avg. eigenValues: [0.24589185357503823, 0.08860796518485654, 0.31019705735931763]    avg. eigenVectors: [0.036148860834806645, -0.19544598426677326, 0.6765455220358342]\n",
      "damage 2.0 : 51    avg. size: 6.609536109655487    avg. min uv ratio: 1.9922615559254477    avg. max uv ratio: 9.105264074763802    avg. eigenValues: [0.29341901408118426, 0.12869327217749155, 0.14474530969870886]    avg. eigenVectors: [0.030122412733993506, 0.04719403038823629, 0.45939313748081884]\n",
      "damage 3.0 : 4    avg. size: 0.7038110358662447    avg. min uv ratio: 1.6759331729754008    avg. max uv ratio: 4.0927806080898534    avg. eigenValues: [0.11380459605485724, 0.003843671795639385, 0.039582551840782]    avg. eigenVectors: [0.12285045543523632, 0.31382324751575136, 0.6749673019425328]\n",
      "damage 0.0 : 0    avg. size: nan    avg. min uv ratio: nan    avg. max uv ratio: nan    avg. eigenValues: [nan, nan, nan]    avg. eigenVectors: [nan, nan, nan]\n"
     ]
    },
    {
     "name": "stderr",
     "output_type": "stream",
     "text": [
      "c:\\Users\\u0094523\\.conda\\envs\\pyntcloud1\\lib\\site-packages\\numpy\\core\\fromnumeric.py:3440: RuntimeWarning: Mean of empty slice.\n",
      "  return _methods._mean(a, axis=axis, dtype=dtype,\n",
      "c:\\Users\\u0094523\\.conda\\envs\\pyntcloud1\\lib\\site-packages\\numpy\\core\\_methods.py:189: RuntimeWarning: invalid value encountered in double_scalars\n",
      "  ret = ret.dtype.type(ret / rcount)\n"
     ]
    }
   ],
   "source": [
    "for i in df.D.unique():\n",
    "        list=[n for n in clusteredpcdNodes if n.damage==i and n.resource]\n",
    "        print( 'damage ' + str(i) + ' : ' + str(len(list)) + \n",
    "            '    avg. size: '+str(np.mean([n.volume for n in list])) +\n",
    "            '    avg. min uv ratio: '+str(np.mean([n.minUvRatio for n in list])) +\n",
    "            '    avg. max uv ratio: '+str(np.mean([n.maxUvRatio for n in list])) +\n",
    "            '    avg. eigenValues: '+str([np.mean([n.eigenValues[0] for n in list]) ,np.mean([n.eigenValues[1] for n in list]) ,np.mean([n.eigenValues[2] for n in list]) ]  )  +\n",
    "            '    avg. eigenVectors: '+str([np.mean([n.eigenVectors[0][2] for n in list]) ,np.mean([n.eigenVectors[1][2] for n in list]) ,np.mean([n.eigenVectors[2][2] for n in list]) ]  )    )"
   ]
  },
  {
   "cell_type": "code",
   "execution_count": 36,
   "metadata": {},
   "outputs": [
    {
     "name": "stdout",
     "output_type": "stream",
     "text": [
      "buildingTechnique 0.0 : 45    avg. size: 6.84344541192538    avg. min uv ratio: 2.0266653739170812    avg. max uv ratio: 11.081057318995382    avg. eigenValues: [0.2014726855754441, 0.07826292706225374, 0.22344665551905152]    avg. eigenVectors: [0.029839843479907993, -0.03060088174959189, 0.40331469915793744]\n",
      "buildingTechnique 2.0 : 15    avg. size: 6.193488341128893    avg. min uv ratio: 1.6882490002120656    avg. max uv ratio: 9.387174730640488    avg. eigenValues: [0.5807895768764803, 0.1840488404081582, 0.08942777142017902]    avg. eigenVectors: [0.05728370671042169, -0.09368165967103441, 0.7063970588975464]\n",
      "buildingTechnique 8.0 : 7    avg. size: 0.5196751800767835    avg. min uv ratio: 1.7872644012968248    avg. max uv ratio: 5.822612805653004    avg. eigenValues: [0.1724873867677556, 0.0033528768289794943, 0.027408282144226973]    avg. eigenVectors: [0.11091249796098121, 0.4756039943389136, 0.6333387616104835]\n",
      "buildingTechnique 3.0 : 4    avg. size: 8.665423900633543    avg. min uv ratio: 1.7713233904790648    avg. max uv ratio: 8.091718836762945    avg. eigenValues: [0.0920828870359902, 0.4226061373664212, 0.22877996876919252]    avg. eigenVectors: [-0.09310234961188342, -0.002977648745140102, 0.9437897237553694]\n"
     ]
    }
   ],
   "source": [
    "for i in df.TC.unique():\n",
    "        list=[n for n in clusteredpcdNodes if n.buildingTechnique==i and n.resource]\n",
    "        print( 'buildingTechnique ' + str(i) + ' : ' + str(len(list)) + \n",
    "            '    avg. size: '+str(np.mean([n.volume for n in list])) +\n",
    "            '    avg. min uv ratio: '+str(np.mean([n.minUvRatio for n in list])) +\n",
    "            '    avg. max uv ratio: '+str(np.mean([n.maxUvRatio for n in list])) +\n",
    "            '    avg. eigenValues: '+str([np.mean([n.eigenValues[0] for n in list]) ,np.mean([n.eigenValues[1] for n in list]) ,np.mean([n.eigenValues[2] for n in list]) ]  )  +\n",
    "            '    avg. eigenVectors: '+str([np.mean([n.eigenVectors[0][2] for n in list]) ,np.mean([n.eigenVectors[1][2] for n in list]) ,np.mean([n.eigenVectors[2][2] for n in list]) ]  ))"
   ]
  },
  {
   "cell_type": "code",
   "execution_count": 28,
   "metadata": {},
   "outputs": [
    {
     "data": {
      "text/plain": [
       "{'_subject': rdflib.term.URIRef('file:///M0.0D1.0TC0.0Index0.0Part0'),\n",
       " '_graph': None,\n",
       " '_graphPath': None,\n",
       " '_path': None,\n",
       " '_name': None,\n",
       " '_timestamp': None,\n",
       " '_resource': None,\n",
       " '_cartesianTransform': None,\n",
       " 'volume': 88.04531473304577,\n",
       " 'minUvRatio': 1.7781867064468444,\n",
       " 'maxUvRatio': 3.1895378265000764,\n",
       " 'eigenValues': array([0.15137381, 0.71944061, 3.69079508]),\n",
       " 'eigenVectors': array([[-0.98296018,  0.18290434,  0.01831103],\n",
       "        [ 0.18226627,  0.95689229,  0.22613305],\n",
       "        [-0.02383903, -0.22561726,  0.9739243 ]])}"
      ]
     },
     "execution_count": 28,
     "metadata": {},
     "output_type": "execute_result"
    }
   ],
   "source": [
    "{key:value for key, value in featurepcdNodes[0].__dict__.items() if not key.startswith('__') and not callable(key)}              "
   ]
  },
  {
   "cell_type": "markdown",
   "metadata": {},
   "source": [
    "Extract contextual features"
   ]
  },
  {
   "cell_type": "markdown",
   "metadata": {},
   "source": [
    "# Generate Virtual Images"
   ]
  },
  {
   "cell_type": "markdown",
   "metadata": {},
   "source": [
    "Colorize and merge point clouds"
   ]
  },
  {
   "cell_type": "code",
   "execution_count": 76,
   "metadata": {},
   "outputs": [],
   "source": [
    "coloredPcds=[n.resource.paint_uniform_color(n.color) for n in clusteredpcdNodes]\n",
    "joinedPcd=gmu.join_geometries(coloredPcds)"
   ]
  },
  {
   "cell_type": "code",
   "execution_count": 77,
   "metadata": {},
   "outputs": [],
   "source": [
    "o3d.visualization.draw_geometries([joinedPcd]+meshes)"
   ]
  },
  {
   "cell_type": "markdown",
   "metadata": {},
   "source": [
    "Generate virtual images of colorized point cloud https://github.com/isl-org/Open3D/issues/5049"
   ]
  },
  {
   "cell_type": "code",
   "execution_count": 78,
   "metadata": {},
   "outputs": [],
   "source": [
    "cartesianTransforms=[n.cartesianTransform for n in imgNodes]\n",
    "virtualImages=gmu.generate_virtual_images(joinedPcd ,cartesianTransforms,width=3936,height=2624,f=2668.88)\n",
    "for i,n in enumerate(imgNodes):\n",
    "    # gmu.generate_virtual_image(joinedPcd)\n",
    "    n.virtualImg=virtualImages[i]\n",
    "    o3d.io.write_image(os.path.join(sessionPath,\"IMG_V\", n.name +\".PNG\"), n.virtualImg)"
   ]
  },
  {
   "cell_type": "markdown",
   "metadata": {},
   "source": [
    "**Fig.**: Image of the (a) geolocated images and (b) virtual images \n",
    "\n",
    "<img src=\"../docs/pics/colosseum/IMG2.PNG\" width = \"50%\">\n",
    "<img src=\"../docs/pics/colosseum/DSC03500.PNG\" width = \"30%\">"
   ]
  },
  {
   "cell_type": "markdown",
   "metadata": {},
   "source": [
    "Show Image position lines"
   ]
  },
  {
   "cell_type": "code",
   "execution_count": null,
   "metadata": {},
   "outputs": [],
   "source": [
    "intrinsic_camera_parameters=n.get_intrinsic_camera_parameters()\n",
    "lines=o3d.geometry.LineSet.create_camera_visualization(n.imageWidth,n.imageHeight,intrinsic_camera_parameters.intrinsic_matrix,n.cartesianTransform)\n",
    "lines.paint_uniform_color([1,0,0])"
   ]
  },
  {
   "cell_type": "markdown",
   "metadata": {},
   "source": [
    "# Generate classification images"
   ]
  },
  {
   "cell_type": "markdown",
   "metadata": {},
   "source": [
    "colorize point cloud per material"
   ]
  },
  {
   "cell_type": "code",
   "execution_count": 7,
   "metadata": {},
   "outputs": [
    {
     "name": "stdout",
     "output_type": "stream",
     "text": [
      "3\n",
      "3424050\n"
     ]
    }
   ],
   "source": [
    "# pcds=[]\n",
    "# names=[] \n",
    "# for name,group in df.groupby([\"M\"]): \n",
    "#     names.append(name)\n",
    "#     pcd=gmu.dataframe_to_pcd(df=group,pointFields=['x', 'y', 'z','R', 'G', 'B','Nx', 'Ny', 'Nz'])\n",
    "#     pcd.transform(transform)\n",
    "#     pcds.append(pcd)\n",
    "# print(len(pcds))\n",
    "# lengths=[len(pcd.points) for pcd in pcds]\n",
    "# print(sum(lengths))"
   ]
  },
  {
   "cell_type": "code",
   "execution_count": 9,
   "metadata": {},
   "outputs": [
    {
     "name": "stdout",
     "output_type": "stream",
     "text": [
      "3 Nodes succesfully serialized in: D:\\Data\\2023-01 Colosseum\\Research\\PCD\\materialPcdGraph.ttl\n"
     ]
    }
   ],
   "source": [
    "# materialPcdNodes=[]\n",
    "# for i,pcd in enumerate(pcds):\n",
    "#     materialPcdNodes.append(PointCloudNode(resource=pcd,\n",
    "#                                             isDirivedFrom=pcdNode.subject,\n",
    "#                                             offsetTransform=transform,\n",
    "#                                             color=[rd.random(),rd.random(),rd.random()],\n",
    "#                                             material=names[i]))\n",
    "# materialPcdGraph=tl.nodes_to_graph(materialPcdNodes,materialPcdGraphPath,save=True)\n",
    "# print (str(len(materialPcdNodes))+' Nodes succesfully serialized in: '+materialPcdGraphPath)"
   ]
  },
  {
   "cell_type": "code",
   "execution_count": 81,
   "metadata": {},
   "outputs": [],
   "source": [
    "meshes=[gmu.generate_visual_cone_from_image(n.cartesianTransform, height =0.4) for n in imgNodes]\n",
    "joinedImages=gmu.join_geometries(meshes)\n",
    "joinedImages=joinedImages.paint_uniform_color([1,0,0])\n",
    "o3d.visualization.draw_geometries([joinedImages]+[pcdNode.resource])"
   ]
  },
  {
   "cell_type": "markdown",
   "metadata": {},
   "source": [
    "Create raycasting scene and add point cloud convex hulls"
   ]
  },
  {
   "cell_type": "code",
   "execution_count": 82,
   "metadata": {},
   "outputs": [
    {
     "name": "stdout",
     "output_type": "stream",
     "text": [
      "71\n"
     ]
    }
   ],
   "source": [
    "clusteredpcdNodes=[n for n in clusteredpcdNodes if n.resource]\n",
    "print(len(clusteredpcdNodes))\n",
    "scene = o3d.t.geometry.RaycastingScene()\n",
    "\n",
    "for n in clusteredpcdNodes:\n",
    "    hull,_=n.resource.compute_convex_hull()\n",
    "    n.hull=hull\n",
    "    reference=o3d.t.geometry.TriangleMesh.from_legacy(hull)\n",
    "    n.scene_id = scene.add_triangles(reference)\n",
    "hullCenters=[n.hull.get_center() for n in clusteredpcdNodes]"
   ]
  },
  {
   "cell_type": "code",
   "execution_count": 109,
   "metadata": {},
   "outputs": [
    {
     "name": "stdout",
     "output_type": "stream",
     "text": [
      "TriangleMesh with 2639 points and 4994 triangles.\n",
      "True\n"
     ]
    }
   ],
   "source": [
    "test=clusteredpcdNodes[0].resource\n",
    "hull,_=test.compute_convex_hull()\n",
    "hulls=[n.hull for n in clusteredpcdNodes]\n",
    "hulls=gmu.join_geometries(hulls)\n",
    "\n",
    "print(hulls)\n",
    "print(hull.is_watertight())"
   ]
  },
  {
   "cell_type": "code",
   "execution_count": 104,
   "metadata": {},
   "outputs": [
    {
     "name": "stdout",
     "output_type": "stream",
     "text": [
      "False\n"
     ]
    }
   ],
   "source": [
    "\n",
    "scene = o3d.t.geometry.RaycastingScene()\n",
    "reference=o3d.t.geometry.TriangleMesh.from_legacy(hulls)\n",
    "scene_id = scene.add_triangles(reference)\n"
   ]
  },
  {
   "cell_type": "markdown",
   "metadata": {},
   "source": [
    "Gather image properties"
   ]
  },
  {
   "cell_type": "code",
   "execution_count": 83,
   "metadata": {},
   "outputs": [
    {
     "name": "stdout",
     "output_type": "stream",
     "text": [
      "[[  0.49030671   0.39211761  -0.77835924 -16.88603593]\n",
      " [ -0.16572306   0.91872628   0.35843813  12.11720872]\n",
      " [  0.85564899  -0.04675255   0.51544059  -0.09577481]\n",
      " [  0.           0.           0.           1.        ]]\n"
     ]
    }
   ],
   "source": [
    "n=imgNodes[0]\n",
    "\n",
    "range=10\n",
    "imageWidth=n.imageWidth\n",
    "imageHeight=n.imageHeight\n",
    "virtualImageWidth=180\n",
    "virtualImageHeight=180\n",
    "focalLength35mm=n.focalLength35mm\n",
    "print(n.cartesianTransform)"
   ]
  },
  {
   "cell_type": "markdown",
   "metadata": {},
   "source": [
    "cast some rays (wrong distance, its to small)"
   ]
  },
  {
   "cell_type": "code",
   "execution_count": 102,
   "metadata": {},
   "outputs": [
    {
     "name": "stdout",
     "output_type": "stream",
     "text": [
      "[-16.88603593  12.11720872  -0.09577481]\n",
      "[[-16.88603593  12.11720872  -0.09577481 -25.57117684  13.71120857\n",
      "    1.64419411]\n",
      " [-16.88603593  12.11720872  -0.09577481 -23.95433802  13.09136424\n",
      "    5.38967199]\n",
      " [-16.88603593  12.11720872  -0.09577481 -24.69095668  16.2832796\n",
      "    1.55560817]\n",
      " [-16.88603593  12.11720872  -0.09577481 -22.99354465  15.79737763\n",
      "    5.39555419]]\n",
      "[inf inf inf inf]\n",
      "[4294967295 4294967295 4294967295 4294967295]\n"
     ]
    }
   ],
   "source": [
    "# get directions for every window from pixel centers\n",
    "bounds=[-0.25*imageWidth,0.25*imageWidth,\n",
    "        -0.25*imageHeight, 0.25*imageHeight,\n",
    "        focalLength35mm,focalLength35mm]\n",
    "resolutions=[imageWidth/3,imageHeight/3,1]\n",
    "grid=gmu.create_xyz_grid(bounds,resolutions)\n",
    "points = np.reshape(grid.flatten(), (grid.shape[1]*grid.shape[2],3),order='F')\n",
    "\n",
    "# # #transform to global coordinate system\n",
    "directions=gmu.normalize_vectors(points)*9\n",
    "# directions=points\n",
    "directions=gmu.transform_points(directions,n.cartesianTransform)\n",
    "\n",
    "# #create tensors\n",
    "centers=np.tile(n.cartesianTransform[0:3,3],(len(points),1))\n",
    "print(centers[0])\n",
    "array=np.hstack((centers,directions))\n",
    "print(array)\n",
    "rays = o3d.core.Tensor(array,dtype=o3d.core.Dtype.Float32) \n",
    "ans = scene.cast_rays(rays)\n",
    "distances=ans['t_hit'].numpy()\n",
    "ids=ans['geometry_ids'].numpy()\n",
    "print(distances)\n",
    "\n",
    "print(ids)\n"
   ]
  },
  {
   "cell_type": "markdown",
   "metadata": {},
   "source": [
    "determine distance to objects"
   ]
  },
  {
   "cell_type": "code",
   "execution_count": 80,
   "metadata": {},
   "outputs": [
    {
     "name": "stdout",
     "output_type": "stream",
     "text": [
      "[-21.09520808  12.13572139   9.31897204]\n",
      "[[-21.09520808  12.13572139   9.31897204]]\n",
      "[0.0178132]\n",
      "Tensor[shape={1}, stride={1}, Float32, CPU:0, 0x28085bd1580]\n"
     ]
    }
   ],
   "source": [
    "#cast rays\n",
    "# scene = o3d.t.geometry.RaycastingScene()\n",
    "# reference=o3d.t.geometry.TriangleMesh.from_legacy(hulls)\n",
    "# _ = scene.add_triangles(reference)\n",
    "t=n.cartesianTransform[0:3,3]\n",
    "print(t)\n",
    "print(np.array([[t[0],t[1],t[2]]]))\n",
    "query_points = o3d.core.Tensor(np.array([[t[0],t[1],t[2]]]), dtype=o3d.core.Dtype.Float32)\n",
    "\n",
    "unsigned_distance = scene.compute_distance(query_points)\n",
    "# indices=np.where((unsigned_distance.numpy() >=0.5*resolution) & (occupancy.numpy() ==0) )[0]     \n",
    "print(unsigned_distance)\n"
   ]
  },
  {
   "cell_type": "code",
   "execution_count": 101,
   "metadata": {},
   "outputs": [],
   "source": [
    "#show the hulls\n",
    "hulls=[n.hull for n in clusteredpcdNodes]\n",
    "hulls=gmu.join_geometries(hulls)\n",
    "o3d.visualization.draw_geometries([hulls]+[joinedImages])\n"
   ]
  },
  {
   "cell_type": "markdown",
   "metadata": {},
   "source": [
    "Create set of rays for every image (window size 180x180 px) given a gsd (average distance to objects)"
   ]
  },
  {
   "cell_type": "code",
   "execution_count": 36,
   "metadata": {},
   "outputs": [],
   "source": [
    "# get directions for every window from pixel centers\n",
    "bounds=[-imageWidth/2+virtualImageWidth/2,imageWidth/2-virtualImageWidth,\n",
    "        -imageHeight/2+virtualImageHeight/2, imageHeight/2-virtualImageHeight,\n",
    "        focalLength35mm,focalLength35mm]\n",
    "resolutions=[virtualImageWidth,virtualImageHeight,1]\n",
    "grid=gmu.create_xyz_grid(bounds,resolutions)\n",
    "points = np.reshape(grid.flatten(), (grid.shape[1]*grid.shape[2],3),order='F')\n",
    "\n",
    "# # #transform to global coordinate system\n",
    "directions=gmu.normalize_vectors(points)*range\n",
    "directions=gmu.transform_points(directions,n.cartesianTransform)\n",
    "# #create tensors\n",
    "centers=np.tile(n.cartesianTransform[0:3,3],(len(points),1))\n",
    "array=np.hstack((centers,directions))\n",
    "rays = o3d.core.Tensor(array,dtype=o3d.core.Dtype.Float32)  \n"
   ]
  },
  {
   "cell_type": "markdown",
   "metadata": {},
   "source": [
    "visualize rays"
   ]
  },
  {
   "cell_type": "code",
   "execution_count": 96,
   "metadata": {},
   "outputs": [],
   "source": [
    "allPoints=np.vstack((n.cartesianTransform[0:3,-1],directions))\n",
    "\n",
    "lines=[]\n",
    "lines = np.arange(start=1,stop=len(allPoints) )[..., np.newaxis]\n",
    "lines = np.concatenate((np.zeros((len(directions),1)), lines), axis=1)\n",
    "\n",
    "line_set = o3d.geometry.LineSet()\n",
    "# colors = [[1, 0, 0] for i in range(len(lines))]\n",
    "line_set.points = o3d.utility.Vector3dVector(allPoints)\n",
    "line_set.lines = o3d.utility.Vector2iVector(lines)\n",
    "# line_set.colors = o3d.utility.Vector3dVector(colors)\n",
    "o3d.visualization.draw_geometries([line_set]+[pcdNode.resource]+[joinedImages])\n"
   ]
  },
  {
   "cell_type": "markdown",
   "metadata": {},
   "source": [
    "Split original images (bottom left to top right)"
   ]
  },
  {
   "cell_type": "code",
   "execution_count": 17,
   "metadata": {},
   "outputs": [
    {
     "name": "stdout",
     "output_type": "stream",
     "text": [
      "DSC03492\n",
      "[   0.  180.  360.  540.  720.  900. 1080. 1260. 1440. 1620. 1800. 1980.\n",
      " 2160. 2340. 2520. 2700. 2880. 3060. 3240. 3420. 3600. 3780.]\n",
      "[2624. 2444. 2264. 2084. 1904. 1724. 1544. 1364. 1184. 1004.  824.  644.\n",
      "  464.  284.  104.]\n"
     ]
    },
    {
     "data": {
      "image/png": "[encoded data removed]",
      "text/plain": [
       "<Figure size 432x288 with 1 Axes>"
      ]
     },
     "metadata": {
      "needs_background": "light"
     },
     "output_type": "display_data"
    },
    {
     "data": {
      "image/png": "[encoded data removed]",
      "text/plain": [
       "<Figure size 432x288 with 1 Axes>"
      ]
     },
     "metadata": {
      "needs_background": "light"
     },
     "output_type": "display_data"
    }
   ],
   "source": [
    "print(n.name)\n",
    "im=n.resource\n",
    "N=virtualImageWidth\n",
    "M=virtualImageHeight\n",
    "import matplotlib.pyplot as plt\n",
    "\n",
    "print(np.arange(0,n.imageWidth,virtualImageWidth))\n",
    "print(np.arange(n.imageHeight,0,-virtualImageHeight))\n",
    "test=im[0:500,0:180]\n",
    "image = cv2.cvtColor(im, cv2.COLOR_BGR2RGB)\n",
    "plt.imshow(image)\n",
    "plt.show()\n",
    "image = cv2.cvtColor(test, cv2.COLOR_BGR2RGB)\n",
    "plt.imshow(image)\n",
    "plt.show()\n",
    "# tiles = [im[u:u-virtualImageHeight,v:v+virtualImageWidth] for v in np.arange(int(n.imageHeight),0,-virtualImageHeight) for u in np.arange(0,int(n.imageWidth),virtualImageWidth)]\n",
    "# print(tiles)\n",
    "\n",
    "# # tiles = [im[x:x+M,y:y+N] for x in range(0,im.shape[0],M) for y in range(0,im.shape[1],N)]\n",
    "# cv2.imshow('image',tiles[0])\n",
    "# cv2.imshow('image',tiles[-1])\n",
    "# cv2.waitKey(0)"
   ]
  },
  {
   "cell_type": "markdown",
   "metadata": {},
   "source": [
    "Cast rays and assign properties to image"
   ]
  },
  {
   "cell_type": "code",
   "execution_count": 175,
   "metadata": {},
   "outputs": [
    {
     "name": "stdout",
     "output_type": "stream",
     "text": [
      "4294967295\n"
     ]
    }
   ],
   "source": [
    "print(o3d.t.geometry.RaycastingScene.INVALID_ID)"
   ]
  },
  {
   "cell_type": "code",
   "execution_count": 38,
   "metadata": {},
   "outputs": [
    {
     "name": "stdout",
     "output_type": "stream",
     "text": [
      "[       inf        inf        inf        inf        inf        inf\n",
      " 0.26205853 0.20042397 0.18948868 0.18469353 0.18312947 0.18453279\n",
      " 0.18647003 0.1880199  0.19045846 0.19310261 0.19592543 0.1988976\n",
      " 0.201989   0.20516974 0.20841143        inf        inf        inf\n",
      "        inf        inf        inf        inf        inf        inf\n",
      " 0.2262494  0.1998229  0.19633454 0.1939838  0.19268131 0.19265784\n",
      " 0.19479857 0.1974705  0.20043099 0.20363072 0.2070324  0.2105995\n",
      "        inf        inf        inf        inf        inf        inf\n",
      "        inf        inf        inf        inf        inf        inf\n",
      " 0.24745628 0.21602584 0.21533218 0.21572559 0.21711265 0.21940729\n",
      " 0.22252831 0.22640012 0.23095274        inf        inf        inf\n",
      "        inf        inf        inf        inf        inf        inf\n",
      "        inf        inf        inf        inf        inf        inf\n",
      "        inf        inf        inf 0.3010157  0.2947165  0.294326\n",
      "        inf        inf        inf        inf        inf        inf\n",
      "        inf        inf        inf        inf        inf        inf\n",
      "        inf        inf        inf        inf        inf        inf\n",
      "        inf        inf        inf        inf        inf        inf\n",
      "        inf        inf        inf        inf        inf        inf\n",
      "        inf        inf        inf        inf        inf        inf\n",
      "        inf        inf        inf        inf        inf        inf\n",
      "        inf        inf        inf        inf        inf        inf\n",
      "        inf        inf        inf        inf        inf        inf\n",
      "        inf        inf        inf        inf        inf        inf\n",
      "        inf        inf        inf        inf        inf        inf\n",
      "        inf        inf        inf        inf        inf        inf\n",
      "        inf        inf        inf        inf        inf        inf\n",
      "        inf        inf        inf        inf        inf        inf\n",
      "        inf        inf        inf        inf        inf        inf\n",
      "        inf        inf        inf        inf        inf        inf\n",
      "        inf        inf        inf        inf        inf        inf\n",
      "        inf        inf        inf        inf        inf        inf\n",
      "        inf        inf        inf        inf        inf        inf\n",
      "        inf        inf        inf        inf        inf        inf\n",
      "        inf        inf        inf        inf        inf        inf\n",
      "        inf        inf        inf        inf        inf        inf\n",
      "        inf        inf        inf        inf        inf        inf\n",
      "        inf        inf        inf        inf        inf        inf\n",
      "        inf        inf        inf        inf        inf        inf\n",
      "        inf        inf        inf        inf        inf        inf\n",
      "        inf        inf        inf        inf        inf        inf\n",
      "        inf        inf        inf        inf        inf        inf\n",
      "        inf        inf        inf        inf        inf        inf\n",
      "        inf        inf        inf        inf        inf        inf\n",
      "        inf        inf        inf        inf        inf        inf\n",
      "        inf        inf        inf        inf        inf        inf\n",
      "        inf        inf        inf        inf        inf        inf\n",
      "        inf        inf        inf        inf        inf        inf\n",
      "        inf        inf        inf        inf        inf        inf]\n",
      "\n"
     ]
    }
   ],
   "source": [
    "ans = scene.cast_rays(rays)\n",
    "ids=ans['geometry_ids'].numpy()\n",
    "sceneIds=[n.scene_id for n in clusteredpcdNodes]\n",
    "distances=ans['t_hit'].numpy()\n",
    "print(distances)\n",
    "\n",
    "print()\n"
   ]
  }
 ],
 "metadata": {
  "kernelspec": {
   "display_name": "Python 3.8.13 ('conda_environment3')",
   "language": "python",
   "name": "python3"
  },
  "language_info": {
   "codemirror_mode": {
    "name": "ipython",
    "version": 3
   },
   "file_extension": ".py",
   "mimetype": "text/x-python",
   "name": "python",
   "nbconvert_exporter": "python",
   "pygments_lexer": "ipython3",
   "version": "3.8.13 | packaged by conda-forge | (default, Mar 25 2022, 05:59:00) [MSC v.1929 64 bit (AMD64)]"
  },
  "orig_nbformat": 4,
  "vscode": {
   "interpreter": {
    "hash": "801b4083378541fd050d6c91abf6ec053c863905e8162e031d57b83e7cdb3051"
   }
  }
 },
 "nbformat": 4,
 "nbformat_minor": 2
}

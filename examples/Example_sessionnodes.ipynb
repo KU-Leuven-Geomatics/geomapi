{
 "cells": [
  {
   "cell_type": "markdown",
   "metadata": {},
   "source": [
    "# EXAMPLE SESSIONNODES\n",
    "In this notebook, we create and manipulate SessionNodes from different inputs."
   ]
  },
  {
   "cell_type": "code",
   "execution_count": 25,
   "metadata": {},
   "outputs": [],
   "source": [
    "#IMPORT PACKAGES\n",
    "from rdflib import Graph,URIRef,Literal, RDFS,XSD\n",
    "import rdflib\n",
    "import os.path, time\n",
    "import importlib\n",
    "import numpy as np\n",
    "import open3d as o3d\n",
    "import ifcopenshell\n",
    "import cv2\n",
    "from PIL import Image\n",
    "from ifcopenshell.util.selector import Selector\n",
    "\n",
    "#IMPORT MODULES\n",
    "from context import geomapi \n",
    "from geomapi.nodes import *\n",
    "import geomapi.utils as ut\n",
    "from geomapi.utils import geometryutils as gmu\n",
    "import geomapi.tools as tl\n",
    "\n",
    "from rdflib import RDF"
   ]
  },
  {
   "cell_type": "code",
   "execution_count": 44,
   "metadata": {},
   "outputs": [
    {
     "name": "stdout",
     "output_type": "stream",
     "text": [
      "The autoreload extension is already loaded. To reload it, use:\n",
      "  %reload_ext autoreload\n"
     ]
    }
   ],
   "source": [
    "%load_ext autoreload"
   ]
  },
  {
   "cell_type": "code",
   "execution_count": 45,
   "metadata": {},
   "outputs": [],
   "source": [
    "%autoreload 2"
   ]
  },
  {
   "cell_type": "markdown",
   "metadata": {},
   "source": [
    "## 1. INPUT"
   ]
  },
  {
   "cell_type": "code",
   "execution_count": 46,
   "metadata": {},
   "outputs": [],
   "source": [
    "path= os.path.join(os.path.abspath(os.path.join(os.getcwd(), os.pardir)),\"test\",\"testfiles\" )#\"D:\\\\Data\\\\2018-06 Werfopvolging Academiestraat Gent\" \n"
   ]
  },
  {
   "cell_type": "code",
   "execution_count": 47,
   "metadata": {},
   "outputs": [],
   "source": [
    "\n",
    "#sessionGraph (single)\n",
    "sessionGraphPath=os.path.join(path,'sessionGraph.ttl')\n",
    "sessionGraph=Graph().parse(sessionGraphPath)\n",
    "sessionPath=os.path.join(path,'SESSION',\"17dc31bc-17f2-11ed-bdae-c8f75043ce59.ply\")  \n",
    "sessionMesh= o3d.io.read_triangle_mesh(sessionPath)\n",
    "subject=next(s for s in sessionGraph.subjects())\n",
    "\n",
    "#resourceGraph (data)\n",
    "resourceGraphPath=os.path.join(path,'resourceGraph.ttl')\n",
    "resourceGraph=Graph().parse(resourceGraphPath)\n",
    "linkedSubjects=[s for s in resourceGraph.subjects()]\n",
    "\n",
    "#combinedGraph (combined)\n",
    "combinedGraphPath=os.path.join(path,'combinedGraph.ttl')\n",
    "combinedGraph=Graph().parse(combinedGraphPath)\n",
    "\n",
    "#NODES\n",
    "meshNode=MeshNode(path=os.path.join(path,'Mesh','Basic Wall_211_WA_Ff1_Glued brickwork sandlime 150mm_1095339.obj'),getResource=True)\n",
    "imgNode=ImageNode(xmpPath=os.path.join(path,'IMG','IMG_2174.xmp'),getResource=True)\n",
    "pcdNode=PointCloudNode(path=os.path.join(path,'PCD','week22 photogrammetry - Cloud.pcd'),getResource=True)\n",
    "bimNode=BIMNode(graphPath=os.path.join(path,'bimGraph1.ttl'),subject='file:///Basic_Wall_211_WA_Ff1_Glued_brickwork_sandlime_150mm_1118860_0KysUSO6T3_gOJKtAiUE7d',getResource=True)\n",
    "nodeList=[meshNode,imgNode,pcdNode,bimNode]\n",
    "resources=[meshNode.resource,imgNode.resource,pcdNode.resource,bimNode.resource]\n",
    "\n",
    "#RESOURCES\n",
    "resourcePath=os.path.join(path,\"resources\")\n",
    "if not os.path.exists(resourcePath):\n",
    "    os.mkdir(resourcePath)\n",
    "   "
   ]
  },
  {
   "cell_type": "code",
   "execution_count": 2,
   "metadata": {},
   "outputs": [],
   "source": [
    "exif = rdflib.Namespace('http://www.w3.org/2003/12/exif/ns#')\n",
    "geo=rdflib.Namespace('http://www.opengis.net/ont/geosparql#') #coordinate system information\n",
    "gom=rdflib.Namespace('https://w3id.org/gom#') # geometry representations => this is from mathias\n",
    "omg=rdflib.Namespace('https://w3id.org/omg#') # geometry relations\n",
    "fog=rdflib.Namespace('https://w3id.org/fog#')\n",
    "v4d=rdflib.Namespace('https://w3id.org/v4d/core#')\n",
    "openlabel=rdflib.Namespace('https://www.asam.net/index.php?eID=dumpFile&t=f&f=3876&token=413e8c85031ae64cc35cf42d0768627514868b2f#')\n",
    "e57=rdflib.Namespace('http://libe57.org#')\n",
    "xcr=rdflib.Namespace('http://www.w3.org/1999/02/22-rdf-syntax-ns#')\n",
    "ifc=rdflib.Namespace('http://ifcowl.openbimstandards.org/IFC2X3_Final#')\n"
   ]
  },
  {
   "cell_type": "code",
   "execution_count": 31,
   "metadata": {},
   "outputs": [
    {
     "name": "stdout",
     "output_type": "stream",
     "text": [
      "loaded D:\\geomapi\\tests\\testfiles\\graphs\\parking_resource_graph.ttl\n",
      "loaded PointCloud with 556485 points.\n",
      "loaded D:\\geomapi\\tests\\testfiles\\pcd\\lidar.e57\n",
      "loaded D:\\geomapi\\tests\\testfiles\\pcd\\parking.e57\n",
      "loaded D:\\geomapi\\tests\\testfiles\\pcd\\parking.las\n",
      "loaded D:\\geomapi\\tests\\testfiles\\graphs\\pcd_graph.ttl\n",
      "loaded TriangleMesh with 62143 points and 49999 triangles.\n",
      "loaded D:\\geomapi\\tests\\testfiles\\graphs\\mesh_graph.ttl\n",
      "loaded 2379 bimNodes from ifc file\n",
      "loaded D:\\geomapi\\tests\\testfiles\\graphs\\parking_ifc_graph.ttl\n",
      "loaded D:\\geomapi\\tests\\testfiles\\graphs\\road_img_graph.ttl\n",
      "loaded D:\\geomapi\\tests\\testfiles\\IMG\\DJI_0085.JPG\n",
      "loaded D:\\geomapi\\tests\\testfiles\\IMG\\IMG_8834.JPG\n"
     ]
    }
   ],
   "source": [
    "# path='D:\\geomapi\\tests\\testfiles'\n",
    "from pathlib import Path\n",
    "import pye57\n",
    "import laspy\n",
    "\n",
    "#PATH\n",
    "path= Path('D:\\geomapi') / \"tests\" / \"testfiles\"  \n",
    "\n",
    "#RESOURCES\n",
    "resourceGraphPath=path /  'graphs' / 'parking_resource_graph.ttl'\n",
    "resourceGraph=Graph().parse(str(resourceGraphPath))\n",
    "print(f'loaded {resourceGraphPath}')\n",
    "\n",
    "#POINTCLOUD\n",
    "pcdPath=path / 'pcd'/\"parking.pcd\"\n",
    "pcd=o3d.io.read_point_cloud(str(pcdPath))\n",
    "print(f'loaded {pcd}')\n",
    "\n",
    "e57Path1=path / 'pcd'/\"lidar.e57\"\n",
    "xmlPath=path / 'pcd'/\"lidar.xml\"\n",
    "e57_1 = pye57.E57( str(e57Path1))\n",
    "e571=e57_1.read_scan_raw(1) \n",
    "print(f'loaded {e57Path1}')\n",
    "\n",
    "e57Path2=path / 'pcd'/\"parking.e57\"\n",
    "e57_2 = pye57.E57( str(e57Path2))\n",
    "e572=e57_2.read_scan_raw(0) \n",
    "print(f'loaded {e57Path2}')\n",
    "\n",
    "lasPath=path / 'pcd'/\"parking.las\"\n",
    "las=laspy.read(str(lasPath))\n",
    "print(f'loaded {lasPath}')\n",
    "\n",
    "pcdGraphpath=path / 'graphs' /  'pcd_graph.ttl'\n",
    "pcdGraph=Graph().parse(pcdGraphpath)\n",
    "print(f'loaded {pcdGraphpath}')           \n",
    "\n",
    "\n",
    "#MESH\n",
    "meshPath=path / 'mesh'/ 'parking.obj'\n",
    "mesh=o3d.io.read_triangle_mesh(str(meshPath))\n",
    "print(f'loaded {mesh}') \n",
    "\n",
    "meshGraphPath=path / 'graphs' /  'mesh_graph.ttl'\n",
    "meshGraph=Graph().parse(str(meshGraphPath))\n",
    "print(f'loaded {meshGraphPath}')           \n",
    "\n",
    "\n",
    "#IFC\n",
    "ifcPath=path / 'ifc' / \"parking.ifc\"\n",
    "bimNodes=tl.ifc_to_nodes_multiprocessing(str(ifcPath)) #! Note: this uses geomapi functionality\n",
    "print(f'loaded {len(bimNodes)} bimNodes from ifc file')\n",
    "\n",
    "ifcGraphPath=path /  'graphs' / 'parking_ifc_graph.ttl'\n",
    "ifcGraph=Graph().parse(str(ifcGraphPath))\n",
    "print(f'loaded {ifcGraphPath}')           \n",
    "\n",
    "#IMG\n",
    "csvPath=path / 'IMG' / 'parking.csv' #! we don't do anything with the csv\n",
    "imgGraphPath=path /  'graphs' / 'road_img_graph.ttl'\n",
    "imgGraph=Graph().parse(str(imgGraphPath))\n",
    "print(f'loaded {imgGraphPath}')    \n",
    "\n",
    "imageXmpPath1 = path / 'IMG' / 'DJI_0085.xmp'\n",
    "imagePath1=path / 'IMG' / \"DJI_0085.JPG\" \n",
    "image1=cv2.imread(str(imagePath1))\n",
    "imageCartesianTransform1= np.array([[-8.13902571e-02,  6.83059476e-01 ,-7.25813597e-01,  5.18276221e+01],\n",
    "                                    [ 9.96648497e-01,  4.97790854e-02, -6.49139139e-02 , 6.10007435e+01],\n",
    "                                    [-8.20972697e-03, -7.28664391e-01, -6.84821733e-01,  1.50408221e+01],\n",
    "                                    [ 0.00000000e+00 , 0.00000000e+00, 0.00000000e+00 , 1.00000000e+00]])\n",
    "print(f'loaded {imagePath1}')           \n",
    "\n",
    "imageXmpPath2 = path / 'IMG' / 'IMG_8834.xmp'\n",
    "imagePath2=path / 'IMG' / \"IMG_8834.JPG\" \n",
    "image2=cv2.imread(str(imagePath2))\n",
    "imageCartesianTransform2= np.array([[ 4.12555151e-01,  4.12058430e-02 ,-9.10000179e-01, 6.68850552e+01],\n",
    "                                    [ 9.10841440e-01, -4.52553581e-03,  4.12731621e-01 , 4.52551195e+01],\n",
    "                                    [ 1.28887160e-02 ,-9.99140430e-01 ,-3.93990225e-02 , 5.45377093e+00],\n",
    "                                    [ 0.00000000e+00 , 0.00000000e+00  ,0.00000000e+00 , 1.00000000e+00]])\n",
    "print(f'loaded {imagePath2}')    \n"
   ]
  },
  {
   "cell_type": "code",
   "execution_count": 32,
   "metadata": {},
   "outputs": [],
   "source": [
    "# imgNodes=[geomapi.imgNode(xmlPath=imageXmpPath1),imgNode(xmlPath=imageXmpPath1)]\n",
    "imgNode1=ImageNode(xmpPath=imageXmpPath1,getResource=True)\n",
    "imgNode2=ImageNode(xmpPath=imageXmpPath2,getResource=True)\n",
    "meshNode=MeshNode(path=meshPath,getResource=True)\n",
    "pcdNode=PointCloudNode(path=pcdPath,getResource=True)\n",
    "\n",
    "\n",
    "\n",
    "# node=SessionNode(resources=[])"
   ]
  },
  {
   "cell_type": "code",
   "execution_count": 41,
   "metadata": {},
   "outputs": [
    {
     "name": "stdout",
     "output_type": "stream",
     "text": [
      "[[  1.           0.           0.         -15.76490316]\n",
      " [  0.           1.           0.         100.99234288]\n",
      " [  0.           0.           1.           5.1       ]\n",
      " [  0.           0.           0.           1.        ]]\n"
     ]
    }
   ],
   "source": [
    "print(bimNodes[2].cartesianTransform)"
   ]
  },
  {
   "cell_type": "code",
   "execution_count": 43,
   "metadata": {},
   "outputs": [
    {
     "data": {
      "text/plain": [
       "<Graph identifier=N5a64c73a2d5e41e6a1765056ca2cf860 (<class 'rdflib.graph.Graph'>)>"
      ]
     },
     "execution_count": 43,
     "metadata": {},
     "output_type": "execute_result"
    }
   ],
   "source": [
    "node= SessionNode(linkedNodes=bimNodes[0:3]+[imgNode1,imgNode2,meshNode,pcdNode])\n",
    "node.to_graph(graphPath=r'D:\\geomapi\\tests\\testfiles\\graphs\\road_session_graph.ttl',save=True)\n",
    "# resources=node.get_linked_resources()\n",
    "\n",
    "# print(node.linkedNodes)\n",
    "# print(len(node.linkedSubjects))\n",
    "# print(node.subject)\n",
    "# print(node.path)\n",
    "# print(node.name)\n",
    "# print(node.resource)\n",
    "# print(node.linkedSubjects)\n",
    "# print(resources)\n",
    "\n",
    "# node.add_linked_nodes(Node())\n",
    "# print(node.linkedNodes)\n",
    "# print(node.linkedSubjects)\n",
    "# print(len(node.linkedSubjects))\n",
    "\n",
    "\n"
   ]
  },
  {
   "cell_type": "markdown",
   "metadata": {},
   "source": []
  }
 ],
 "metadata": {
  "interpreter": {
   "hash": "801b4083378541fd050d6c91abf6ec053c863905e8162e031d57b83e7cdb3051"
  },
  "kernelspec": {
   "display_name": "Python 3.8.13 ('conda_environment3')",
   "language": "python",
   "name": "python3"
  },
  "language_info": {
   "codemirror_mode": {
    "name": "ipython",
    "version": 3
   },
   "file_extension": ".py",
   "mimetype": "text/x-python",
   "name": "python",
   "nbconvert_exporter": "python",
   "pygments_lexer": "ipython3",
   "version": "3.9.13"
  },
  "orig_nbformat": 4,
  "vscode": {
   "interpreter": {
    "hash": "832bf5fd5c6660b37dd2a90a45a57b02f877bb0a297fe89ca9c261a7f9e32997"
   }
  }
 },
 "nbformat": 4,
 "nbformat_minor": 2
}

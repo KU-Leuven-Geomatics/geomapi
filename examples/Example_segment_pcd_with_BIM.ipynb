{
 "cells": [
  {
   "cell_type": "markdown",
   "metadata": {},
   "source": [
    "# SEGMENT DATA FROM NEARBY NODES\n",
    "In this notebook, we make a subselection of the sessionGraph and segment the data\n",
    "As ouput, the method generates a selection of data\n",
    "\n",
    ">This codebase operates on the scan2bim2.yml environment (python 3.8)"
   ]
  },
  {
   "cell_type": "code",
   "execution_count": 1,
   "metadata": {},
   "outputs": [
    {
     "name": "stdout",
     "output_type": "stream",
     "text": [
      "Jupyter environment detected. Enabling Open3D WebVisualizer.\n",
      "[Open3D INFO] WebRTC GUI backend enabled.\n",
      "[Open3D INFO] WebRTCWindowSystem: HTTP handshake server disabled.\n"
     ]
    }
   ],
   "source": [
    "#IMPORT PACKAGES\n",
    "import rdflib\n",
    "from rdflib import Graph, plugin\n",
    "from rdflib.serializer import Serializer #pip install rdflib-jsonld https://pypi.org/project/rdflib-jsonld/\n",
    "from rdflib import Graph\n",
    "from rdflib import URIRef, BNode, Literal\n",
    "from rdflib.namespace import CSVW, DC, DCAT, DCTERMS, DOAP, FOAF, ODRL2, ORG, OWL, \\\n",
    "                           PROF, PROV, RDF, RDFS, SDO, SH, SKOS, SOSA, SSN, TIME, \\\n",
    "                           VOID, XMLNS, XSD\n",
    "import trimesh \n",
    "\n",
    "import os.path, time\n",
    "import importlib\n",
    "import numpy as np\n",
    "import xml.etree.ElementTree as ET\n",
    "import open3d as o3d\n",
    "import uuid    \n",
    "import pye57 \n",
    "import ifcopenshell\n",
    "import ifcopenshell.geom as geom\n",
    "import ifcopenshell.util\n",
    "from ifcopenshell.util.selector import Selector\n",
    "import operator\n",
    "import copy\n",
    "\n",
    "#IMPORT MODULES\n",
    "from context import geomapi \n",
    "from geomapi.nodes import *\n",
    "import geomapi.utils as ut\n",
    "from geomapi.utils import geometryutils as gmu\n",
    "import geomapi.tools as tl"
   ]
  },
  {
   "cell_type": "code",
   "execution_count": 2,
   "metadata": {},
   "outputs": [],
   "source": [
    "%load_ext autoreload"
   ]
  },
  {
   "cell_type": "code",
   "execution_count": 3,
   "metadata": {},
   "outputs": [],
   "source": [
    "%autoreload 2"
   ]
  },
  {
   "cell_type": "markdown",
   "metadata": {},
   "source": [
    "## 1. INPUTS"
   ]
  },
  {
   "cell_type": "code",
   "execution_count": 4,
   "metadata": {},
   "outputs": [],
   "source": [
    "## INPUTS\n",
    "projectPath= os.path.join(os.path.abspath(os.path.join(os.getcwd(), os.pardir)),\"tests\" )#\"D:\\\\Data\\\\2018-06 Werfopvolging Academiestraat Gent\" \n",
    "graphPath = os.path.join(projectPath,\"Samples3\") #\"K:\\Projects\\2025-03 Project FWO SB Jelle\\7.Data\\21-11 House Maarten\\RAW data\\session_22-03-13 canon\n",
    "\n",
    "bimGraphPath=os.path.join(graphPath,'bimGraph.ttl')\n",
    "pcdGraphPath=os.path.join(graphPath,'pcdGraph.ttl')\n",
    "\n",
    "u=2.0 # (float) search distance in X given the boundingbox\n",
    "v=2.0 # (float) search distance in Y given the boundingbox\n",
    "z=1.0 # (float) search distance in Z given the boundingbox\n",
    "\n",
    "n=100 # (int) number of points to sample on the mesh to calculate the distance to the point cloud\n",
    "t_d=0.5 # (float) distance threshold for point cloud to mesh inliers"
   ]
  },
  {
   "cell_type": "markdown",
   "metadata": {},
   "source": [
    "## 2. READ Data"
   ]
  },
  {
   "cell_type": "code",
   "execution_count": 5,
   "metadata": {},
   "outputs": [],
   "source": [
    "# Get BIM Nodes & calculate their Bboxes\n",
    "graph=Graph()\n",
    "graph.parse(bimGraphPath) \n",
    "BIMNodelist=tl.graph_to_nodes(graph,graphPath=bimGraphPath)\n",
    "    \n",
    "# get PCD nodes\n",
    "graph=Graph()\n",
    "graph.parse(pcdGraphPath) \n",
    "pcdNodelist=tl.graph_to_nodes(graph,graphPath=pcdGraphPath)"
   ]
  },
  {
   "cell_type": "markdown",
   "metadata": {},
   "source": [
    "# 5. SEGMENTATION 1: oriented Bounding Box\n",
    "select data that lies within the oriented bounding box of BIM object"
   ]
  },
  {
   "cell_type": "code",
   "execution_count": 6,
   "metadata": {},
   "outputs": [],
   "source": [
    "# get all boxes\n",
    "for node in BIMNodelist:\n",
    "    if getattr(node,'orientedBounds',None) is not None:\n",
    "        node.box=gmu.get_oriented_bounding_box(node.orientedBounds)   \n",
    "        node.box=node.box.translate([0,0,-4])\n",
    "        node.box=gmu.expand_box(node.box,u=u,v=v,w=z)\n",
    "        node.box.color=[0,1,0]   \n",
    "\n",
    "for node in pcdNodelist:\n",
    "    if getattr(node,'orientedBounds',None) is not None:\n",
    "        node.box=gmu.get_oriented_bounding_box(node.orientedBounds)   \n",
    "        node.box.color=[1,0,0]   "
   ]
  },
  {
   "cell_type": "code",
   "execution_count": 7,
   "metadata": {},
   "outputs": [],
   "source": [
    "#show boxes\n",
    "bimboxes=[node.box for node in BIMNodelist if node.box != None]\n",
    "pcdboxes=[node.box for node in pcdNodelist if node.box != None]\n",
    "o3d.visualization.draw_geometries(bimboxes+pcdboxes)"
   ]
  },
  {
   "cell_type": "code",
   "execution_count": 9,
   "metadata": {},
   "outputs": [
    {
     "name": "stdout",
     "output_type": "stream",
     "text": [
      "academiestraat_week_22_19 loaded\n",
      "academiestraat_week_22_20 loaded\n"
     ]
    },
    {
     "ename": "KeyboardInterrupt",
     "evalue": "",
     "output_type": "error",
     "traceback": [
      "\u001b[1;31m---------------------------------------------------------------------------\u001b[0m",
      "\u001b[1;31mKeyboardInterrupt\u001b[0m                         Traceback (most recent call last)",
      "\u001b[1;32m~\\AppData\\Local\\Temp/ipykernel_19180/4098280913.py\u001b[0m in \u001b[0;36m<module>\u001b[1;34m\u001b[0m\n\u001b[0;32m      9\u001b[0m         \u001b[0mintersections\u001b[0m\u001b[1;33m=\u001b[0m\u001b[0mgt\u001b[0m\u001b[1;33m.\u001b[0m\u001b[0mget_box_intersections\u001b[0m\u001b[1;33m(\u001b[0m\u001b[0mpcdnode\u001b[0m\u001b[1;33m.\u001b[0m\u001b[0mbox\u001b[0m\u001b[1;33m,\u001b[0m\u001b[0mbimnode\u001b[0m\u001b[1;33m.\u001b[0m\u001b[0mbox\u001b[0m\u001b[1;33m)\u001b[0m \u001b[1;31m# also do a nearest neighbor evaluation\u001b[0m\u001b[1;33m\u001b[0m\u001b[1;33m\u001b[0m\u001b[0m\n\u001b[0;32m     10\u001b[0m         \u001b[1;32mif\u001b[0m \u001b[0mlen\u001b[0m\u001b[1;33m(\u001b[0m\u001b[0mintersections\u001b[0m\u001b[1;33m)\u001b[0m \u001b[1;33m!=\u001b[0m\u001b[1;36m0\u001b[0m\u001b[1;33m:\u001b[0m\u001b[1;33m\u001b[0m\u001b[1;33m\u001b[0m\u001b[0m\n\u001b[1;32m---> 11\u001b[1;33m             \u001b[0mcroppedpcd\u001b[0m \u001b[1;33m=\u001b[0m \u001b[0mpcdnode\u001b[0m\u001b[1;33m.\u001b[0m\u001b[0mpcd\u001b[0m\u001b[1;33m.\u001b[0m\u001b[0mcrop\u001b[0m\u001b[1;33m(\u001b[0m\u001b[0mbimnode\u001b[0m\u001b[1;33m.\u001b[0m\u001b[0mbox\u001b[0m\u001b[1;33m)\u001b[0m\u001b[1;33m\u001b[0m\u001b[1;33m\u001b[0m\u001b[0m\n\u001b[0m\u001b[0;32m     12\u001b[0m             \u001b[1;32mif\u001b[0m \u001b[0mlen\u001b[0m\u001b[1;33m(\u001b[0m\u001b[0mcroppedpcd\u001b[0m\u001b[1;33m.\u001b[0m\u001b[0mpoints\u001b[0m\u001b[1;33m)\u001b[0m \u001b[1;33m!=\u001b[0m\u001b[1;36m0\u001b[0m\u001b[1;33m:\u001b[0m\u001b[1;33m\u001b[0m\u001b[1;33m\u001b[0m\u001b[0m\n\u001b[0;32m     13\u001b[0m                 \u001b[0mbimnode\u001b[0m\u001b[1;33m.\u001b[0m\u001b[0mcroppedpcd\u001b[0m \u001b[1;33m+=\u001b[0m \u001b[0mcroppedpcd\u001b[0m\u001b[1;33m\u001b[0m\u001b[1;33m\u001b[0m\u001b[0m\n",
      "\u001b[1;31mKeyboardInterrupt\u001b[0m: "
     ]
    }
   ],
   "source": [
    "#crop pcds with boxes\n",
    "for bimnode in BIMNodelist:\n",
    "    bimnode.croppedpcd=o3d.geometry.PointCloud()\n",
    "\n",
    "for idx,pcdnode in enumerate(pcdNodelist):\n",
    "    pcdnode.get_resource()    \n",
    "    print(pcdnode.name + ' loaded')\n",
    "    for bimnode in BIMNodelist:\n",
    "        intersections=gmu.get_box_intersections(pcdnode.box,bimnode.box) # also do a nearest neighbor evaluation\n",
    "        if len(intersections) !=0:\n",
    "            croppedpcd = pcdnode.pcd.crop(bimnode.box)\n",
    "            if len(croppedpcd.points) !=0:\n",
    "                bimnode.croppedpcd += croppedpcd\n",
    "    # pcdnode.pcd=None #release the data again"
   ]
  },
  {
   "cell_type": "code",
   "execution_count": null,
   "metadata": {},
   "outputs": [],
   "source": [
    "#Visualisation\n",
    "for bimnode in BIMNodelist:\n",
    "    color=np.random.rand(3,1)\n",
    "    bimnode.box.color=color\n",
    "    if getattr(node,'croppedpcd',None) != None:\n",
    "            node.croppedpcd.paint_uniform_color(color)"
   ]
  },
  {
   "cell_type": "code",
   "execution_count": null,
   "metadata": {},
   "outputs": [
    {
     "name": "stdout",
     "output_type": "stream",
     "text": [
      "[Open3D WARNING] [ViewControl] SetViewPoint() failed because window height and width are not set.\n"
     ]
    }
   ],
   "source": [
    "#Visualisation\n",
    "boxes=[node.box for node in BIMNodelist if node.box != None]\n",
    "croppedpcds=[node.croppedpcd for node in BIMNodelist if node.croppedpcd != None]\n",
    "o3d.visualization.draw_geometries(croppedpcds + boxes)"
   ]
  },
  {
   "cell_type": "markdown",
   "metadata": {},
   "source": [
    "# 6. SEGMENTATION2: distance to mesh\n",
    "segment points of the point clouds that lie within a treshold distance t_d of the mesh geometry"
   ]
  },
  {
   "cell_type": "code",
   "execution_count": 10,
   "metadata": {},
   "outputs": [],
   "source": [
    "#load the bim meshes\n",
    "for bimnode in BIMNodelist:\n",
    "    bimnode.get_data() #16s to load 600 meshes\n",
    "    if getattr(node,'mesh',None) is not None:\n",
    "        bimnode.croppedpcd=o3d.geometry.PointCloud()\n",
    "        bimnode.sampledpcd=bimnode.mesh.sample_points_uniformly(number_of_points=n) #4s sampling of 600 meshes\n",
    "meshes=[node.mesh for node in BIMNodelist if node.mesh != None]"
   ]
  },
  {
   "cell_type": "code",
   "execution_count": null,
   "metadata": {},
   "outputs": [],
   "source": [
    "# #create joined mesh\n",
    "# joinedMesh=o3d.geometry.TriangleMesh()\n",
    "# for bimnode in BIMNodelist:\n",
    "#     if bimnode.mesh is not None:\n",
    "#         joinedMesh +=bimnode.mesh"
   ]
  },
  {
   "cell_type": "markdown",
   "metadata": {},
   "source": []
  },
  {
   "cell_type": "code",
   "execution_count": null,
   "metadata": {},
   "outputs": [
    {
     "data": {
      "text/plain": [
       "PointCloud with 11934055 points."
      ]
     },
     "execution_count": 17,
     "metadata": {},
     "output_type": "execute_result"
    }
   ],
   "source": [
    "pcdnode=pcdNodelist[0]\n",
    "pcdnode.get_data() #10s to load\n",
    "pcdnode.pcd.translate([0,0,4])"
   ]
  },
  {
   "cell_type": "code",
   "execution_count": null,
   "metadata": {},
   "outputs": [],
   "source": [
    "selectedpcd=gmu.pointcloud_filter_by_distance(pcdnode.pcd,meshes)\n",
    "# sampledMesh=joinedMesh.sample_points_uniformly(number_of_points=1000000) \n",
    "\n",
    "# distances=pcdnode.pcd.compute_point_cloud_distance(sampledMesh) #10s to calculate\n",
    "# print(len(distances))\n",
    "# indices=[ idx for idx,distance in enumerate(distances) if distance <t_d] #this takes 30s\n",
    "\n",
    "# selectedpcd=pcdnode.pcd.select_by_index(indices)\n",
    "# print(len(selectedpcd.points))\n"
   ]
  },
  {
   "cell_type": "code",
   "execution_count": null,
   "metadata": {},
   "outputs": [],
   "source": [
    "color=[1,0,0]\n",
    "# selectedpcd.paint_uniform_color(color)\n",
    "o3d.visualization.draw_geometries([joinedMesh,selectedpcd], mesh_show_wireframe=True)"
   ]
  },
  {
   "cell_type": "code",
   "execution_count": null,
   "metadata": {},
   "outputs": [],
   "source": [
    "templist=[pcdNodelist[0]]\n",
    "\n",
    "for idx,pcdnode in enumerate(templist):\n",
    "    pcdnode.get_data() \n",
    "    pcdTree = o3d.geometry.KDTreeFlann(pcdnode.pcd)\n",
    "    print(pcdnode.name + ' loaded')\n",
    "    # first filter points that lie far from any mesh before you devide them\n",
    "    for bimnode in BIMNodelist:\n",
    "        intersections=gmu.get_box_intersections(pcdnode.box,bimnode.box)\n",
    "        if len(intersections) !=0:\n",
    "            for point in bimnode.sampledpcd.points:\n",
    "                [k, idx, _]=pcdTree.search_radius_vector_3d(point,t_d) \n",
    "                if len(idx) !=0:\n",
    "                    bimnode.croppedpcd += pcdnode.pcd.select_by_index(idx) # this leads to significant overlap\n",
    "    pcdnode.pcd=None #release the data again\n",
    "\n",
    "for bimnode in BIMNodelist:\n",
    "    bimnode.temppcd=None"
   ]
  },
  {
   "cell_type": "code",
   "execution_count": null,
   "metadata": {},
   "outputs": [],
   "source": [
    "templist=[pcdNodelist[0]]\n",
    "\n",
    "for idx,pcdnode in enumerate(templist):\n",
    "    pcdnode.get_data() \n",
    "    pcdTree = o3d.geometry.KDTreeFlann(pcdnode.pcd)\n",
    "    print(pcdnode.name + ' loaded')\n",
    "    # first filter points that lie far from any mesh before you devide them\n",
    "    for bimnode in BIMNodelist:\n",
    "        intersections=gmu.get_box_intersections(pcdnode.box,bimnode.box)\n",
    "        if len(intersections) !=0:\n",
    "            for point in bimnode.sampledpcd.points:\n",
    "                [k, idx, _]=pcdTree.search_radius_vector_3d(point,t_d) \n",
    "                if len(idx) !=0:\n",
    "                    bimnode.croppedpcd += pcdnode.pcd.select_by_index(idx) # this leads to significant overlap\n",
    "    pcdnode.pcd=None #release the data again\n",
    "\n",
    "for bimnode in BIMNodelist:\n",
    "    bimnode.temppcd=None"
   ]
  },
  {
   "cell_type": "code",
   "execution_count": null,
   "metadata": {},
   "outputs": [],
   "source": [
    "#Visualisation\n",
    "for bimnode in BIMNodelist:\n",
    "    color=np.random.rand(3,1)\n",
    "    bimnode.box.color=color\n",
    "    bimnode.mesh.paint_uniform_color(color)\n",
    "    if getattr(node,'croppedpcd',None) != None:\n",
    "            node.croppedpcd.paint_uniform_color(color)"
   ]
  },
  {
   "cell_type": "code",
   "execution_count": null,
   "metadata": {},
   "outputs": [],
   "source": [
    "#Visualisation\n",
    "meshes=[node.mesh for node in BIMNodelist if node.mesh != None]\n",
    "croppedpcds=[node.croppedpcd for node in BIMNodelist if node.croppedpcd != None]\n",
    "o3d.visualization.draw_geometries(croppedpcds + meshes, mesh_show_wireframe=True)"
   ]
  },
  {
   "cell_type": "code",
   "execution_count": null,
   "metadata": {},
   "outputs": [],
   "source": [
    "# check element 50\n",
    "idx=50\n",
    "box=BIMNodelist[idx].box\n",
    "mesh=BIMNodelist[idx].mesh\n",
    "croppedpcd=BIMNodelist[idx].croppedpcd\n",
    "o3d.visualization.draw_geometries([box,mesh,croppedpcd], mesh_show_wireframe=True)"
   ]
  },
  {
   "cell_type": "markdown",
   "metadata": {},
   "source": [
    "# 7. SEGMENTATION3: Open3D raycast points\n",
    "determine which points of a mesh lie within a closed mesh (accurate geometry)"
   ]
  },
  {
   "cell_type": "code",
   "execution_count": null,
   "metadata": {},
   "outputs": [],
   "source": [
    "for node in BIMNodelist: \n",
    "    shape=gmu.open3d_box_to_mesh(node.box)\n",
    "    node.raymesh=gmu.mesh_intersection_raycasting(meshNnode.mesh, shape, inside = True,strict = True)\n",
    "    node.raymesh.paint_uniform_color(node.box.color)"
   ]
  },
  {
   "cell_type": "code",
   "execution_count": null,
   "metadata": {},
   "outputs": [],
   "source": [
    "boxes=[node.box for node in BIMNodelist]\n",
    "meshes=[node.raymesh for node in BIMNodelist]\n",
    "o3d.visualization.draw_geometries(meshes + boxes)"
   ]
  }
 ],
 "metadata": {
  "kernelspec": {
   "display_name": "Python 3.8.13 ('Geomapi')",
   "language": "python",
   "name": "python3"
  },
  "language_info": {
   "codemirror_mode": {
    "name": "ipython",
    "version": 3
   },
   "file_extension": ".py",
   "mimetype": "text/x-python",
   "name": "python",
   "nbconvert_exporter": "python",
   "pygments_lexer": "ipython3",
   "version": "3.8.13"
  },
  "orig_nbformat": 4,
  "vscode": {
   "interpreter": {
    "hash": "41e361d874c5bf24880bdc5de3bf30e3d02387e54aa546656a1c0508602fb985"
   }
  }
 },
 "nbformat": 4,
 "nbformat_minor": 2
}

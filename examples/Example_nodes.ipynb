{
 "cells": [
  {
   "cell_type": "markdown",
   "metadata": {},
   "source": [
    "# EXAMPLE GET INLIERS\n",
    "In this notebook, we ...\n",
    "As ouput, the method generates a selection of nodes \n",
    "\n",
    ">This codebase operates on the scan2bim2.yml environment (python 3.8)"
   ]
  },
  {
   "cell_type": "code",
   "execution_count": 23,
   "metadata": {},
   "outputs": [],
   "source": [
    "#IMPORT PACKAGES\n",
    "import rdflib\n",
    "import os, time\n",
    "import importlib\n",
    "import numpy as np\n",
    "import open3d as o3d\n",
    "import ifcopenshell\n",
    "import unittest\n",
    "\n",
    "#IMPORT MODULES\n",
    "from context import geomapi \n",
    "from geomapi.nodes import *\n",
    "from geomapi.nodes import ImageNode, PointCloudNode, MeshNode, BIMNode, Node\n",
    "import geomapi.utils as ut\n",
    "from geomapi.utils import geometryutils as gmu\n",
    "import geomapi.tools as tl\n",
    "import geomapi.tools.progresstools as pgt\n",
    "import unittest\n",
    "\n",
    "\n",
    "from rdflib import RDF, Graph, Namespace, Literal, URIRef"
   ]
  },
  {
   "cell_type": "code",
   "execution_count": 24,
   "metadata": {},
   "outputs": [
    {
     "name": "stdout",
     "output_type": "stream",
     "text": [
      "The autoreload extension is already loaded. To reload it, use:\n",
      "  %reload_ext autoreload\n"
     ]
    }
   ],
   "source": [
    "%load_ext autoreload"
   ]
  },
  {
   "cell_type": "code",
   "execution_count": 25,
   "metadata": {},
   "outputs": [],
   "source": [
    "%autoreload 2"
   ]
  },
  {
   "cell_type": "markdown",
   "metadata": {},
   "source": [
    "## 1. INPUT"
   ]
  },
  {
   "cell_type": "code",
   "execution_count": 27,
   "metadata": {},
   "outputs": [
    {
     "name": "stdout",
     "output_type": "stream",
     "text": [
      "PointCloud with 556485 points.\n",
      "TriangleMesh with 62135 points and 49999 triangles.\n",
      "[[-8.13902571e-02  6.83059476e-01 -7.25813597e-01  5.18276221e+01]\n",
      " [ 9.96648497e-01  4.97790854e-02 -6.49139139e-02  6.10007435e+01]\n",
      " [-8.20972697e-03 -7.28664391e-01 -6.84821733e-01  1.50408221e+01]\n",
      " [ 0.00000000e+00  0.00000000e+00  0.00000000e+00  1.00000000e+00]]\n",
      "{#7956=IfcSite('3H7DyiHwT7hwR69f2l72fp',#2,'BT9_Deksel_Prive_Huisaansluiting_WPI22',$,$,#7957,#7958,$,.PARTIAL.,$,$,$,$,$), #14257=IfcSite('3dzlFaOIb0bx0z6uxD96Sz',#2,'BT1_Bodembedekking_WSV10',$,$,#14258,#14259,$,.PARTIAL.,$,$,$,$,$), #7850=IfcSite('0LQpWG_GX4rA6NvvP3ddlP',#2,'BT9_Deksel_Waterafvoer_Rond_WRI1',$,$,#7851,#7852,$,.PARTIAL.,$,$,$,$,$), #7940=IfcSite('0iHQz$0bP5KgZgVt8tDVtX',#2,'BT9_Deksel_Prive_Huisaansluiting_WPI22',$,$,#7941,#7942,$,.PARTIAL.,$,$,$,$,$), #7916=IfcSite('0TIlRB$hX9cOF3knr1ty7Y',#2,'BT9_Deksel_Prive_Huisaansluiting_WPI22',$,$,#7917,#7918,$,.PARTIAL.,$,$,$,$,$), #6776=IfcSite('2NYKFQWFP12wHMSLLUof9b',#2,'BT1_Onderbouw_Fundering',$,$,#6777,#6778,$,.PARTIAL.,$,$,$,$,$), #12932=IfcSite('2MevW3iyf0OgJc3QSKX9U_',#2,'BT8_Loofboom_Laag_WGI2',$,$,#12933,#12936,$,.PARTIAL.,$,$,$,$,$), #13326=IfcSite('37Ot_p_VDD3QugDPX14yi_',#2,'BT1_Watergang_Onverhard_Bovenkant_WGL3',$,$,#13327,#13328,$,.PARTIAL.,$,$,$,$,$), #14107=IfcSite('3Dqp5wCZD4i8WKCQkpS1Di',#2,'BT1_Watergang_Onverhard_Bovenkant_WGL3',$,$,#14108,#14109,$,.PARTIAL.,$,$,$,$,$), #13396=IfcSite('0P8SeEi_X6NOPnbo1lrqcz',#2,'BT1_Watergang_Onverhard_Bovenkant_WGL3',$,$,#13397,#13398,$,.PARTIAL.,$,$,$,$,$), #7964=IfcSite('2sFWN4Spr5fegnupyER9kl',#2,'BT5_Rioolpijp_Aansluiting_WRP2',$,$,#7965,#7966,$,.PARTIAL.,$,$,$,$,$), #6034=IfcSite('2uBwuWih17i88F_yfVOX5J',#2,'BT5_Rioolpijp_Hoofdriolering_WRP1',$,$,#6035,#6036,$,.PARTIAL.,$,$,$,$,$), #5717=IfcSite('1qiKt8vRr9BAr6p6RgEbBH',#2,'BT1_Grens_Circulatiezone_Zwakke_Weggebruiker_WCZ',$,$,#5718,#5719,$,.PARTIAL.,$,$,$,$,$), #23=IfcSite('1o3B_qZ1zDJ8f$yWqBiQOZ',#2,'BT3_Waterbouwkundige_Constructie_KNW2',$,$,#24,#25,$,.PARTIAL.,$,$,$,$,$), #12916=IfcSite('0zWS7ucnz6R8cQzZFNoTnt',#2,'BT8_Loofboom_Laag_WGI2',$,$,#12917,#12920,$,.PARTIAL.,$,$,$,$,$), #7924=IfcSite('0bpLB2ldbBjQkyC_bwN3nO',#2,'BT9_Deksel_Prive_Huisaansluiting_WPI22',$,$,#7925,#7926,$,.PARTIAL.,$,$,$,$,$), #7900=IfcSite('1NMLE03ID7DRoipqNSAF38',#2,'BT9_Deksel_Prive_Huisaansluiting_WPI22',$,$,#7901,#7902,$,.PARTIAL.,$,$,$,$,$), #13728=IfcSite('145DOTDqHEWAEMJ7eWwRc7',#2,'BT1_Watergang_Onverhard_Bovenkant_WGL3',$,$,#13729,#13730,$,.PARTIAL.,$,$,$,$,$), #13816=IfcSite('05erDX1WT2$9pgx6rCffRK',#2,'BT1_Watergang_Onverhard_Bovenkant_WGL3',$,$,#13817,#13818,$,.PARTIAL.,$,$,$,$,$), #14155=IfcSite('2sRaldmsjAoAUg$1_7jhc3',#2,'BT1_Watergang_Onverhard_Bovenkant_WGL3',$,$,#14156,#14157,$,.PARTIAL.,$,$,$,$,$), #10407=IfcSite('2PKVozkBfF3hfnsYGOjEPD',#2,'BT5_Rioolpijp_Aansluiting_WRP2',$,$,#10408,#10409,$,.PARTIAL.,$,$,$,$,$), #11230=IfcSite('1u9kVD$Rb08AEORaF8MuNW',#2,'BT5_Rioolpijp_Aansluiting_WRP2',$,$,#11231,#11232,$,.PARTIAL.,$,$,$,$,$), #12964=IfcSite('2_Qt$aJL16FPKOpAWDNpcW',#2,'BT8_Loofboom_Laag_WGI2',$,$,#12965,#12968,$,.PARTIAL.,$,$,$,$,$), #7858=IfcSite('23sg14bfP8rADssyq2f5iy',#2,'BT9_Deksel_Waterafvoer_Rond_WRI1',$,$,#7859,#7860,$,.PARTIAL.,$,$,$,$,$), #7948=IfcSite('3pwqjmd9b4XhthYzNGb46u',#2,'BT9_Deksel_Prive_Huisaansluiting_WPI22',$,$,#7949,#7950,$,.PARTIAL.,$,$,$,$,$), #12900=IfcSite('1FkeRKbjvE3OcAG4D8Sdo0',#2,'BT8_Loofboom_Laag_WGI2',$,$,#12901,#12904,$,.PARTIAL.,$,$,$,$,$), #5927=IfcSite('2kLZYfl$1CigVpsvzrB2xb',#2,'BT1_Verhardingstype_WSV1',$,$,#5928,#5929,$,.PARTIAL.,$,$,$,$,$), #3823=IfcSite('3Cgs0xWeXE_eicfza$5qQT',#2,'BT1_Onderbouw_Fundering',$,$,#3824,#3825,$,.PARTIAL.,$,$,$,$,$), #13976=IfcSite('03js89vg9EdQqUgD344yJr',#2,'BT1_Watergang_Onverhard_Bovenkant_WGL3',$,$,#13977,#13978,$,.PARTIAL.,$,$,$,$,$), #12924=IfcSite('2gFVkBjcL9XARvz30P5ZPw',#2,'BT8_Loofboom_Laag_WGI2',$,$,#12925,#12928,$,.PARTIAL.,$,$,$,$,$), #7908=IfcSite('0JMve7Yh595gmEQlxhR7Eb',#2,'BT9_Deksel_Prive_Huisaansluiting_WPI22',$,$,#7909,#7910,$,.PARTIAL.,$,$,$,$,$), #7197=IfcSite('0jLihvjbj3jO6QBgJ8M5et',#2,'BT1_Onderbouw_Fundering',$,$,#7198,#7199,$,.PARTIAL.,$,$,$,$,$), #13901=IfcSite('3YrAuPCND3BfLKvBdk0Nal',#2,'BT1_Watergang_Onverhard_Bovenkant_WGL3',$,$,#13902,#13903,$,.PARTIAL.,$,$,$,$,$), #11238=IfcSite('1KuzWboA9BIBSW8R10MlKs',#2,'BT5_Rioolpijp_Aansluiting_WRP2',$,$,#11239,#11240,$,.PARTIAL.,$,$,$,$,$), #12061=IfcSite('2LNClAiYLAnQQ1nSN1r4I5',#2,'BT5_Rioolpijp_Aansluiting_WRP2',$,$,#12062,#12063,$,.PARTIAL.,$,$,$,$,$), #5467=IfcSite('2MxTfjYxT9XvqcDc73pwYh',#2,'BT1_Onderbouw_Fundering',$,$,#5468,#5469,$,.PARTIAL.,$,$,$,$,$), #12972=IfcSite('34yiahMn11GPuRBInvIx9c',#2,'BT1_Verhardingstype_WSV1',$,$,#12973,#12974,$,.PARTIAL.,$,$,$,$,$), #4230=IfcSite('0hrtBDBRf8lx8pD52o5U1P',#2,'BT1_Onderbouw_Fundering',$,$,#4231,#4232,$,.PARTIAL.,$,$,$,$,$), #4212=IfcSite('2PpmXyFnz1_QUVtw0_xe4L',#2,'BT1_Soort_Bedekking_WSV11',$,$,#4213,#4214,$,.PARTIAL.,$,$,$,$,$), #12908=IfcSite('0ospEh8kzDreHXJEZwj4K3',#2,'BT8_Loofboom_Laag_WGI2',$,$,#12909,#12912,$,.PARTIAL.,$,$,$,$,$), #7892=IfcSite('1ojLcbvHnAhfEtebQIsjjY',#2,'BT9_Deksel_Prive_Huisaansluiting_WPI22',$,$,#7893,#7894,$,.PARTIAL.,$,$,$,$,$), #8781=IfcSite('3mdkkuQirF3OsSNNlNgekv',#2,'BT5_Rioolpijp_Aansluiting_WRP2',$,$,#8782,#8783,$,.PARTIAL.,$,$,$,$,$), #12956=IfcSite('06qFz8Mtn3vuK2RGgto3hS',#2,'BT8_Loofboom_Laag_WGI2',$,$,#12957,#12960,$,.PARTIAL.,$,$,$,$,$), #7839=IfcSite('0glNTziDbCZvp0b6vyEk92',#2,'BT9_Deksel_Waterafvoer_Rond_WRI1',$,$,#7840,#7841,$,.PARTIAL.,$,$,$,$,$), #9584=IfcSite('1qWn$qG5nFQ9TBc4K6m52R',#2,'BT5_Rioolpijp_Aansluiting_WRP2',$,$,#9585,#9586,$,.PARTIAL.,$,$,$,$,$), #14054=IfcSite('2klIqw8SH8U9ZZxjc06Pzq',#2,'BT1_Watergang_Onverhard_Bovenkant_WGL3',$,$,#14055,#14056,$,.PARTIAL.,$,$,$,$,$), #21=IfcSite('20vpzcJqv6we$SbpWZGEMS',#2,'Site',$,$,#20,$,$,.ELEMENT.,(50,30,30,0),(4,28,0,0),0.,$,$), #12069=IfcSite('2qV68kGC938fJTFVFppO4E',#2,'BT5_Rioolpijp_Aansluiting_WRP2',$,$,#12070,#12071,$,.PARTIAL.,$,$,$,$,$), #7876=IfcSite('2BtsHHllvDZuc0ENP2CYRB',#2,'BT9_Deksel_Prive_Huisaansluiting_WPI22',$,$,#7877,#7878,$,.PARTIAL.,$,$,$,$,$), #12892=IfcSite('1qWamQ78z9aem02aRyulFH',#2,'BT8_Loofboom_Laag_WGI2',$,$,#12893,#12896,$,.PARTIAL.,$,$,$,$,$), #12940=IfcSite('1_lYnnnF55z9fqX592UODl',#2,'BT8_Loofboom_Laag_WGI2',$,$,#12941,#12944,$,.PARTIAL.,$,$,$,$,$), #4638=IfcSite('044Upox9b75P7HuOV4aXdi',#2,'BT1_Watergang_Onverhard_Onderkant_WTO3',$,$,#4639,#4640,$,.PARTIAL.,$,$,$,$,$), #4354=IfcSite('1nj0iZxXz9KwaRtJh__age',#2,'BT1_Bodembedekking_WSV10',$,$,#4355,#4356,$,.PARTIAL.,$,$,$,$,$), #13666=IfcSite('3C50M$KU96X8JDOISLfPw1',#2,'BT1_Watergang_Onverhard_Bovenkant_WGL3',$,$,#13667,#13668,$,.PARTIAL.,$,$,$,$,$), #9592=IfcSite('0zVea_7dP248qp_1F$Pwch',#2,'BT5_Rioolpijp_Aansluiting_WRP2',$,$,#9593,#9594,$,.PARTIAL.,$,$,$,$,$), #3788=IfcSite('2vLNF4ypr1AxRTiBL6oGaV',#2,'BT1_Onderbouw_Fundering',$,$,#3789,#3790,$,.PARTIAL.,$,$,$,$,$), #10415=IfcSite('14e880Gfj5GPb8b3TpG1KT',#2,'BT5_Rioolpijp_Aansluiting_WRP2',$,$,#10416,#10417,$,.PARTIAL.,$,$,$,$,$), #7884=IfcSite('2dpn5DCfn1dQru1BA3q36r',#2,'BT9_Deksel_Prive_Huisaansluiting_WPI22',$,$,#7885,#7886,$,.PARTIAL.,$,$,$,$,$), #7974=IfcSite('2F6EQDaKz39ARyiADh_9v_',#2,'BT5_Rioolpijp_Aansluiting_WRP2',$,$,#7975,#7976,$,.PARTIAL.,$,$,$,$,$), #601=IfcSite('2aQMlZejr2ZPwOlbJD8cvR',#2,'BT8_Loofboom_Laag_WGI2',$,$,#602,#607,$,.PARTIAL.,$,$,$,$,$), #8773=IfcSite('1cClrsMXT6J8Jsvtaoqt2a',#2,'BT5_Rioolpijp_Aansluiting_WRP2',$,$,#8774,#8775,$,.PARTIAL.,$,$,$,$,$), #3814=IfcSite('1n$3RrgP59tB3ZdWRm77Wq',#2,'BT1_Onderbouw_Fundering',$,$,#3815,#3816,$,.PARTIAL.,$,$,$,$,$), #7866=IfcSite('2fWnjw29HCdATDk4mDNxDe',#2,'BT9_Deksel_Prive_Huisaansluiting_WPI22',$,$,#7867,#7868,$,.PARTIAL.,$,$,$,$,$), #12948=IfcSite('2J_7gS4cHC08lLLAG8Cp$q',#2,'BT8_Loofboom_Laag_WGI2',$,$,#12949,#12952,$,.PARTIAL.,$,$,$,$,$), #7932=IfcSite('2WUk6SOuP77h2rmEuAXpk4',#2,'BT9_Deksel_Prive_Huisaansluiting_WPI22',$,$,#7933,#7934,$,.PARTIAL.,$,$,$,$,$)}\n",
      "Geometry production error\n",
      "None\n"
     ]
    }
   ],
   "source": [
    "\n",
    "pcd=o3d.io.read_point_cloud('../tests/testfiles/pcd/parking.pcd')\n",
    "pcdNode = PointCloudNode(resource=pcd) # built from resource or data\n",
    "print(pcdNode.resource)\n",
    "meshNode= MeshNode (path='../tests/testfiles/mesh/parking.obj') # .stl and .obj are supported\n",
    "print(meshNode.resource)\n",
    "imgNode=ImageNode(xmpPath='../tests/testfiles/img/DJI_0085.xmp') # .xmp contains pose information from CapturingReality software. MetaShape .xml is also supported.\n",
    "print(imgNode.cartesianTransform)\n",
    "\n",
    "# tl.select_nodes_k_nearest_neighbors(pcdNode,[meshNode,imgNode],k=1) #selects the k nearest neighbors of a point cloud node from a list of nodes\n",
    "# imgNode.create_rays(imagePoints=[[0,0],[0,1],[1,0],[1,1]],depths=25) #creates rays from image points\n",
    "\n",
    "import ifcopenshell.util.selector\n",
    "ifc = ifcopenshell.open('../tests/testfiles/ifc/road.ifc')  \n",
    "# element=ifc.by_guid('2PpmXyFnz1_QUVtw0_xe4L') \n",
    "\n",
    "# node= BIMNode(ifcPath='../tests/testfiles/ifc/parking.ifc',getResource=True)  \n",
    "print(ifcopenshell.util.selector.filter_elements(ifc,\"IfcSite\"))    \n",
    "ifcElement=next((ifcElement for ifcElement in ifcopenshell.util.selector.filter_elements(ifc,\"IfcElement\")),None)\n",
    "  \n",
    "# classes= 'IfcBeam,IfcColumn,IfcWall,IfcSlab'\n",
    "# elements=ifcopenshell.util.selector.filter_elements(ifc,classes)\n",
    "print(node.resource)\n",
    "# elements=ifcopenshell.util.selector.filter_elements(self.dataLoaderParking.ifc, 'ifcObject')"
   ]
  },
  {
   "cell_type": "code",
   "execution_count": 7,
   "metadata": {},
   "outputs": [
    {
     "name": "stderr",
     "output_type": "stream",
     "text": [
      "c:\\Users\\u0094523\\code\\geomapi\\test\\testfiles\\testNodeGraph.ttl does not look like a valid URI, trying to serialize this will break.\n"
     ]
    },
    {
     "ename": "URLError",
     "evalue": "<urlopen error unknown url type: c>",
     "output_type": "error",
     "traceback": [
      "\u001b[1;31m---------------------------------------------------------------------------\u001b[0m",
      "\u001b[1;31mURLError\u001b[0m                                  Traceback (most recent call last)",
      "Cell \u001b[1;32mIn[7], line 5\u001b[0m\n\u001b[0;32m      3\u001b[0m \u001b[38;5;66;03m#GRAPH testNodeGraph.ttl\u001b[39;00m\n\u001b[0;32m      4\u001b[0m testNodeGraphPath\u001b[38;5;241m=\u001b[39mos\u001b[38;5;241m.\u001b[39mpath\u001b[38;5;241m.\u001b[39mjoin(path,\u001b[38;5;124m'\u001b[39m\u001b[38;5;124mtestNodeGraph.ttl\u001b[39m\u001b[38;5;124m'\u001b[39m)\n\u001b[1;32m----> 5\u001b[0m testNodeGraph\u001b[38;5;241m=\u001b[39m\u001b[43mGraph\u001b[49m\u001b[43m(\u001b[49m\u001b[43m)\u001b[49m\u001b[38;5;241;43m.\u001b[39;49m\u001b[43mparse\u001b[49m\u001b[43m(\u001b[49m\u001b[43mtestNodeGraphPath\u001b[49m\u001b[43m)\u001b[49m\n\u001b[0;32m      7\u001b[0m \u001b[38;5;66;03m#GRAPH bimGraph.ttl\u001b[39;00m\n\u001b[0;32m      8\u001b[0m bimGraphPath\u001b[38;5;241m=\u001b[39mos\u001b[38;5;241m.\u001b[39mpath\u001b[38;5;241m.\u001b[39mjoin(path,\u001b[38;5;124m'\u001b[39m\u001b[38;5;124mbimGraph.ttl\u001b[39m\u001b[38;5;124m'\u001b[39m)\n",
      "File \u001b[1;32mc:\\Users\\u0094523\\.conda\\envs\\geomapi_dev\\lib\\site-packages\\rdflib\\graph.py:1468\u001b[0m, in \u001b[0;36mGraph.parse\u001b[1;34m(self, source, publicID, format, location, file, data, **args)\u001b[0m\n\u001b[0;32m   1373\u001b[0m \u001b[38;5;28;01mdef\u001b[39;00m \u001b[38;5;21mparse\u001b[39m(\n\u001b[0;32m   1374\u001b[0m     \u001b[38;5;28mself\u001b[39m,\n\u001b[0;32m   1375\u001b[0m     source: Optional[\n\u001b[1;32m   (...)\u001b[0m\n\u001b[0;32m   1383\u001b[0m     \u001b[38;5;241m*\u001b[39m\u001b[38;5;241m*\u001b[39margs: Any,\n\u001b[0;32m   1384\u001b[0m ) \u001b[38;5;241m-\u001b[39m\u001b[38;5;241m>\u001b[39m \u001b[38;5;124m\"\u001b[39m\u001b[38;5;124mGraph\u001b[39m\u001b[38;5;124m\"\u001b[39m:\n\u001b[0;32m   1385\u001b[0m \u001b[38;5;250m    \u001b[39m\u001b[38;5;124;03m\"\"\"\u001b[39;00m\n\u001b[0;32m   1386\u001b[0m \u001b[38;5;124;03m    Parse an RDF source adding the resulting triples to the Graph.\u001b[39;00m\n\u001b[0;32m   1387\u001b[0m \n\u001b[1;32m   (...)\u001b[0m\n\u001b[0;32m   1465\u001b[0m \n\u001b[0;32m   1466\u001b[0m \u001b[38;5;124;03m    \"\"\"\u001b[39;00m\n\u001b[1;32m-> 1468\u001b[0m     source \u001b[38;5;241m=\u001b[39m \u001b[43mcreate_input_source\u001b[49m\u001b[43m(\u001b[49m\n\u001b[0;32m   1469\u001b[0m \u001b[43m        \u001b[49m\u001b[43msource\u001b[49m\u001b[38;5;241;43m=\u001b[39;49m\u001b[43msource\u001b[49m\u001b[43m,\u001b[49m\n\u001b[0;32m   1470\u001b[0m \u001b[43m        \u001b[49m\u001b[43mpublicID\u001b[49m\u001b[38;5;241;43m=\u001b[39;49m\u001b[43mpublicID\u001b[49m\u001b[43m,\u001b[49m\n\u001b[0;32m   1471\u001b[0m \u001b[43m        \u001b[49m\u001b[43mlocation\u001b[49m\u001b[38;5;241;43m=\u001b[39;49m\u001b[43mlocation\u001b[49m\u001b[43m,\u001b[49m\n\u001b[0;32m   1472\u001b[0m \u001b[43m        \u001b[49m\u001b[43mfile\u001b[49m\u001b[38;5;241;43m=\u001b[39;49m\u001b[43mfile\u001b[49m\u001b[43m,\u001b[49m\n\u001b[0;32m   1473\u001b[0m \u001b[43m        \u001b[49m\u001b[43mdata\u001b[49m\u001b[38;5;241;43m=\u001b[39;49m\u001b[43mdata\u001b[49m\u001b[43m,\u001b[49m\n\u001b[0;32m   1474\u001b[0m \u001b[43m        \u001b[49m\u001b[38;5;28;43mformat\u001b[39;49m\u001b[38;5;241;43m=\u001b[39;49m\u001b[38;5;28;43mformat\u001b[39;49m\u001b[43m,\u001b[49m\n\u001b[0;32m   1475\u001b[0m \u001b[43m    \u001b[49m\u001b[43m)\u001b[49m\n\u001b[0;32m   1476\u001b[0m     \u001b[38;5;28;01mif\u001b[39;00m \u001b[38;5;28mformat\u001b[39m \u001b[38;5;129;01mis\u001b[39;00m \u001b[38;5;28;01mNone\u001b[39;00m:\n\u001b[0;32m   1477\u001b[0m         \u001b[38;5;28mformat\u001b[39m \u001b[38;5;241m=\u001b[39m source\u001b[38;5;241m.\u001b[39mcontent_type\n",
      "File \u001b[1;32mc:\\Users\\u0094523\\.conda\\envs\\geomapi_dev\\lib\\site-packages\\rdflib\\parser.py:401\u001b[0m, in \u001b[0;36mcreate_input_source\u001b[1;34m(source, publicID, location, file, data, format)\u001b[0m\n\u001b[0;32m    394\u001b[0m         \u001b[38;5;28;01massert\u001b[39;00m data \u001b[38;5;129;01mis\u001b[39;00m \u001b[38;5;28;01mNone\u001b[39;00m\n\u001b[0;32m    395\u001b[0m         \u001b[38;5;28;01massert\u001b[39;00m source \u001b[38;5;129;01mis\u001b[39;00m \u001b[38;5;28;01mNone\u001b[39;00m\n\u001b[0;32m    396\u001b[0m     (\n\u001b[0;32m    397\u001b[0m         absolute_location,\n\u001b[0;32m    398\u001b[0m         auto_close,\n\u001b[0;32m    399\u001b[0m         file,\n\u001b[0;32m    400\u001b[0m         input_source,\n\u001b[1;32m--> 401\u001b[0m     ) \u001b[38;5;241m=\u001b[39m \u001b[43m_create_input_source_from_location\u001b[49m\u001b[43m(\u001b[49m\n\u001b[0;32m    402\u001b[0m \u001b[43m        \u001b[49m\u001b[43mfile\u001b[49m\u001b[38;5;241;43m=\u001b[39;49m\u001b[43mfile\u001b[49m\u001b[43m,\u001b[49m\n\u001b[0;32m    403\u001b[0m \u001b[43m        \u001b[49m\u001b[38;5;28;43mformat\u001b[39;49m\u001b[38;5;241;43m=\u001b[39;49m\u001b[38;5;28;43mformat\u001b[39;49m\u001b[43m,\u001b[49m\n\u001b[0;32m    404\u001b[0m \u001b[43m        \u001b[49m\u001b[43minput_source\u001b[49m\u001b[38;5;241;43m=\u001b[39;49m\u001b[43minput_source\u001b[49m\u001b[43m,\u001b[49m\n\u001b[0;32m    405\u001b[0m \u001b[43m        \u001b[49m\u001b[43mlocation\u001b[49m\u001b[38;5;241;43m=\u001b[39;49m\u001b[43mlocation\u001b[49m\u001b[43m,\u001b[49m\n\u001b[0;32m    406\u001b[0m \u001b[43m    \u001b[49m\u001b[43m)\u001b[49m\n\u001b[0;32m    408\u001b[0m \u001b[38;5;28;01mif\u001b[39;00m file \u001b[38;5;129;01mis\u001b[39;00m \u001b[38;5;129;01mnot\u001b[39;00m \u001b[38;5;28;01mNone\u001b[39;00m:\n\u001b[0;32m    409\u001b[0m     \u001b[38;5;28;01mif\u001b[39;00m TYPE_CHECKING:\n",
      "File \u001b[1;32mc:\\Users\\u0094523\\.conda\\envs\\geomapi_dev\\lib\\site-packages\\rdflib\\parser.py:463\u001b[0m, in \u001b[0;36m_create_input_source_from_location\u001b[1;34m(file, format, input_source, location)\u001b[0m\n\u001b[0;32m    461\u001b[0m     file \u001b[38;5;241m=\u001b[39m \u001b[38;5;28mopen\u001b[39m(filename, \u001b[38;5;124m\"\u001b[39m\u001b[38;5;124mrb\u001b[39m\u001b[38;5;124m\"\u001b[39m)\n\u001b[0;32m    462\u001b[0m \u001b[38;5;28;01melse\u001b[39;00m:\n\u001b[1;32m--> 463\u001b[0m     input_source \u001b[38;5;241m=\u001b[39m \u001b[43mURLInputSource\u001b[49m\u001b[43m(\u001b[49m\u001b[43mabsolute_location\u001b[49m\u001b[43m,\u001b[49m\u001b[43m \u001b[49m\u001b[38;5;28;43mformat\u001b[39;49m\u001b[43m)\u001b[49m\n\u001b[0;32m    465\u001b[0m auto_close \u001b[38;5;241m=\u001b[39m \u001b[38;5;28;01mTrue\u001b[39;00m\n\u001b[0;32m    466\u001b[0m \u001b[38;5;66;03m# publicID = publicID or absolute_location  # Further to fix\u001b[39;00m\n\u001b[0;32m    467\u001b[0m \u001b[38;5;66;03m# for issue 130\u001b[39;00m\n",
      "File \u001b[1;32mc:\\Users\\u0094523\\.conda\\envs\\geomapi_dev\\lib\\site-packages\\rdflib\\parser.py:270\u001b[0m, in \u001b[0;36mURLInputSource.__init__\u001b[1;34m(self, system_id, format)\u001b[0m\n\u001b[0;32m    266\u001b[0m     myheaders[\u001b[38;5;124m\"\u001b[39m\u001b[38;5;124mAccept\u001b[39m\u001b[38;5;124m\"\u001b[39m] \u001b[38;5;241m=\u001b[39m \u001b[38;5;124m\"\u001b[39m\u001b[38;5;124m, \u001b[39m\u001b[38;5;124m\"\u001b[39m\u001b[38;5;241m.\u001b[39mjoin(acc)\n\u001b[0;32m    268\u001b[0m req \u001b[38;5;241m=\u001b[39m Request(system_id, \u001b[38;5;28;01mNone\u001b[39;00m, myheaders)  \u001b[38;5;66;03m# type: ignore[arg-type]\u001b[39;00m\n\u001b[1;32m--> 270\u001b[0m response: addinfourl \u001b[38;5;241m=\u001b[39m \u001b[43m_urlopen\u001b[49m\u001b[43m(\u001b[49m\u001b[43mreq\u001b[49m\u001b[43m)\u001b[49m\n\u001b[0;32m    271\u001b[0m \u001b[38;5;28mself\u001b[39m\u001b[38;5;241m.\u001b[39murl \u001b[38;5;241m=\u001b[39m response\u001b[38;5;241m.\u001b[39mgeturl()  \u001b[38;5;66;03m# in case redirections took place\u001b[39;00m\n\u001b[0;32m    272\u001b[0m \u001b[38;5;28mself\u001b[39m\u001b[38;5;241m.\u001b[39mlinks \u001b[38;5;241m=\u001b[39m \u001b[38;5;28mself\u001b[39m\u001b[38;5;241m.\u001b[39mget_links(response)\n",
      "File \u001b[1;32mc:\\Users\\u0094523\\.conda\\envs\\geomapi_dev\\lib\\site-packages\\rdflib\\_networking.py:106\u001b[0m, in \u001b[0;36m_urlopen\u001b[1;34m(request)\u001b[0m\n\u001b[0;32m     95\u001b[0m \u001b[38;5;250m\u001b[39m\u001b[38;5;124;03m\"\"\"\u001b[39;00m\n\u001b[0;32m     96\u001b[0m \u001b[38;5;124;03mThis is a shim for `urlopen` that handles HTTP redirects with status code\u001b[39;00m\n\u001b[0;32m     97\u001b[0m \u001b[38;5;124;03m308 (Permanent Redirect).\u001b[39;00m\n\u001b[1;32m   (...)\u001b[0m\n\u001b[0;32m    103\u001b[0m \u001b[38;5;124;03m:return: The response to the request.\u001b[39;00m\n\u001b[0;32m    104\u001b[0m \u001b[38;5;124;03m\"\"\"\u001b[39;00m\n\u001b[0;32m    105\u001b[0m \u001b[38;5;28;01mtry\u001b[39;00m:\n\u001b[1;32m--> 106\u001b[0m     \u001b[38;5;28;01mreturn\u001b[39;00m \u001b[43murlopen\u001b[49m\u001b[43m(\u001b[49m\u001b[43mrequest\u001b[49m\u001b[43m)\u001b[49m\n\u001b[0;32m    107\u001b[0m \u001b[38;5;28;01mexcept\u001b[39;00m HTTPError \u001b[38;5;28;01mas\u001b[39;00m error:\n\u001b[0;32m    108\u001b[0m     \u001b[38;5;28;01mif\u001b[39;00m error\u001b[38;5;241m.\u001b[39mcode \u001b[38;5;241m==\u001b[39m \u001b[38;5;241m308\u001b[39m \u001b[38;5;129;01mand\u001b[39;00m sys\u001b[38;5;241m.\u001b[39mversion_info \u001b[38;5;241m<\u001b[39m (\u001b[38;5;241m3\u001b[39m, \u001b[38;5;241m11\u001b[39m):\n\u001b[0;32m    109\u001b[0m         \u001b[38;5;66;03m# HTTP response code 308 (Permanent Redirect) is not supported by python\u001b[39;00m\n\u001b[0;32m    110\u001b[0m         \u001b[38;5;66;03m# versions older than 3.11. See <https://bugs.python.org/issue40321> and\u001b[39;00m\n\u001b[0;32m    111\u001b[0m         \u001b[38;5;66;03m# <https://github.com/python/cpython/issues/84501> for more details.\u001b[39;00m\n\u001b[0;32m    112\u001b[0m         \u001b[38;5;66;03m# This custom error handling should be removed once all supported\u001b[39;00m\n\u001b[0;32m    113\u001b[0m         \u001b[38;5;66;03m# versions of Python handles 308.\u001b[39;00m\n",
      "File \u001b[1;32mc:\\Users\\u0094523\\.conda\\envs\\geomapi_dev\\lib\\urllib\\request.py:216\u001b[0m, in \u001b[0;36murlopen\u001b[1;34m(url, data, timeout, cafile, capath, cadefault, context)\u001b[0m\n\u001b[0;32m    214\u001b[0m \u001b[38;5;28;01melse\u001b[39;00m:\n\u001b[0;32m    215\u001b[0m     opener \u001b[38;5;241m=\u001b[39m _opener\n\u001b[1;32m--> 216\u001b[0m \u001b[38;5;28;01mreturn\u001b[39;00m \u001b[43mopener\u001b[49m\u001b[38;5;241;43m.\u001b[39;49m\u001b[43mopen\u001b[49m\u001b[43m(\u001b[49m\u001b[43murl\u001b[49m\u001b[43m,\u001b[49m\u001b[43m \u001b[49m\u001b[43mdata\u001b[49m\u001b[43m,\u001b[49m\u001b[43m \u001b[49m\u001b[43mtimeout\u001b[49m\u001b[43m)\u001b[49m\n",
      "File \u001b[1;32mc:\\Users\\u0094523\\.conda\\envs\\geomapi_dev\\lib\\urllib\\request.py:519\u001b[0m, in \u001b[0;36mOpenerDirector.open\u001b[1;34m(self, fullurl, data, timeout)\u001b[0m\n\u001b[0;32m    516\u001b[0m     req \u001b[38;5;241m=\u001b[39m meth(req)\n\u001b[0;32m    518\u001b[0m sys\u001b[38;5;241m.\u001b[39maudit(\u001b[38;5;124m'\u001b[39m\u001b[38;5;124murllib.Request\u001b[39m\u001b[38;5;124m'\u001b[39m, req\u001b[38;5;241m.\u001b[39mfull_url, req\u001b[38;5;241m.\u001b[39mdata, req\u001b[38;5;241m.\u001b[39mheaders, req\u001b[38;5;241m.\u001b[39mget_method())\n\u001b[1;32m--> 519\u001b[0m response \u001b[38;5;241m=\u001b[39m \u001b[38;5;28;43mself\u001b[39;49m\u001b[38;5;241;43m.\u001b[39;49m\u001b[43m_open\u001b[49m\u001b[43m(\u001b[49m\u001b[43mreq\u001b[49m\u001b[43m,\u001b[49m\u001b[43m \u001b[49m\u001b[43mdata\u001b[49m\u001b[43m)\u001b[49m\n\u001b[0;32m    521\u001b[0m \u001b[38;5;66;03m# post-process response\u001b[39;00m\n\u001b[0;32m    522\u001b[0m meth_name \u001b[38;5;241m=\u001b[39m protocol\u001b[38;5;241m+\u001b[39m\u001b[38;5;124m\"\u001b[39m\u001b[38;5;124m_response\u001b[39m\u001b[38;5;124m\"\u001b[39m\n",
      "File \u001b[1;32mc:\\Users\\u0094523\\.conda\\envs\\geomapi_dev\\lib\\urllib\\request.py:541\u001b[0m, in \u001b[0;36mOpenerDirector._open\u001b[1;34m(self, req, data)\u001b[0m\n\u001b[0;32m    538\u001b[0m \u001b[38;5;28;01mif\u001b[39;00m result:\n\u001b[0;32m    539\u001b[0m     \u001b[38;5;28;01mreturn\u001b[39;00m result\n\u001b[1;32m--> 541\u001b[0m \u001b[38;5;28;01mreturn\u001b[39;00m \u001b[38;5;28;43mself\u001b[39;49m\u001b[38;5;241;43m.\u001b[39;49m\u001b[43m_call_chain\u001b[49m\u001b[43m(\u001b[49m\u001b[38;5;28;43mself\u001b[39;49m\u001b[38;5;241;43m.\u001b[39;49m\u001b[43mhandle_open\u001b[49m\u001b[43m,\u001b[49m\u001b[43m \u001b[49m\u001b[38;5;124;43m'\u001b[39;49m\u001b[38;5;124;43munknown\u001b[39;49m\u001b[38;5;124;43m'\u001b[39;49m\u001b[43m,\u001b[49m\n\u001b[0;32m    542\u001b[0m \u001b[43m                        \u001b[49m\u001b[38;5;124;43m'\u001b[39;49m\u001b[38;5;124;43munknown_open\u001b[39;49m\u001b[38;5;124;43m'\u001b[39;49m\u001b[43m,\u001b[49m\u001b[43m \u001b[49m\u001b[43mreq\u001b[49m\u001b[43m)\u001b[49m\n",
      "File \u001b[1;32mc:\\Users\\u0094523\\.conda\\envs\\geomapi_dev\\lib\\urllib\\request.py:496\u001b[0m, in \u001b[0;36mOpenerDirector._call_chain\u001b[1;34m(self, chain, kind, meth_name, *args)\u001b[0m\n\u001b[0;32m    494\u001b[0m \u001b[38;5;28;01mfor\u001b[39;00m handler \u001b[38;5;129;01min\u001b[39;00m handlers:\n\u001b[0;32m    495\u001b[0m     func \u001b[38;5;241m=\u001b[39m \u001b[38;5;28mgetattr\u001b[39m(handler, meth_name)\n\u001b[1;32m--> 496\u001b[0m     result \u001b[38;5;241m=\u001b[39m \u001b[43mfunc\u001b[49m\u001b[43m(\u001b[49m\u001b[38;5;241;43m*\u001b[39;49m\u001b[43margs\u001b[49m\u001b[43m)\u001b[49m\n\u001b[0;32m    497\u001b[0m     \u001b[38;5;28;01mif\u001b[39;00m result \u001b[38;5;129;01mis\u001b[39;00m \u001b[38;5;129;01mnot\u001b[39;00m \u001b[38;5;28;01mNone\u001b[39;00m:\n\u001b[0;32m    498\u001b[0m         \u001b[38;5;28;01mreturn\u001b[39;00m result\n",
      "File \u001b[1;32mc:\\Users\\u0094523\\.conda\\envs\\geomapi_dev\\lib\\urllib\\request.py:1419\u001b[0m, in \u001b[0;36mUnknownHandler.unknown_open\u001b[1;34m(self, req)\u001b[0m\n\u001b[0;32m   1417\u001b[0m \u001b[38;5;28;01mdef\u001b[39;00m \u001b[38;5;21munknown_open\u001b[39m(\u001b[38;5;28mself\u001b[39m, req):\n\u001b[0;32m   1418\u001b[0m     \u001b[38;5;28mtype\u001b[39m \u001b[38;5;241m=\u001b[39m req\u001b[38;5;241m.\u001b[39mtype\n\u001b[1;32m-> 1419\u001b[0m     \u001b[38;5;28;01mraise\u001b[39;00m URLError(\u001b[38;5;124m'\u001b[39m\u001b[38;5;124munknown url type: \u001b[39m\u001b[38;5;132;01m%s\u001b[39;00m\u001b[38;5;124m'\u001b[39m \u001b[38;5;241m%\u001b[39m \u001b[38;5;28mtype\u001b[39m)\n",
      "\u001b[1;31mURLError\u001b[0m: <urlopen error unknown url type: c>"
     ]
    }
   ],
   "source": [
    "path= os.path.join(os.path.abspath(os.path.join(os.getcwd(), os.pardir)),\"test\",\"testfiles\" )#\"D:\\\\Data\\\\2018-06 Werfopvolging Academiestraat Gent\" \n",
    "\n",
    "#GRAPH testNodeGraph.ttl\n",
    "testNodeGraphPath=os.path.join(path,'testNodeGraph.ttl')\n",
    "testNodeGraph=Graph().parse(testNodeGraphPath)\n",
    "\n",
    "#GRAPH bimGraph.ttl\n",
    "bimGraphPath=os.path.join(path,'bimGraph.ttl')\n",
    "bimGraph=Graph().parse(bimGraphPath)\n",
    "\n",
    "#GRAPH testGraph.ttl\n",
    "testGraphPath=os.path.join(path,'testGraph.ttl')\n",
    "testGraph=Graph().parse(testGraphPath)\n",
    "print(len(testGraph))\n",
    "\n",
    "#GRAPH imgGraph.ttl\n",
    "imgGraphPath=os.path.join(path,'imgGraph.ttl')\n",
    "imgGraph=Graph().parse(imgGraphPath)\n",
    "    \n",
    "\n",
    "resourcePath=os.path.join(path,'resources')\n",
    "tempGraphPath=os.path.join(resourcePath,'myNode.ttl')\n",
    "if not os.path.exists(resourcePath):\n",
    "    os.mkdir(resourcePath)"
   ]
  },
  {
   "cell_type": "code",
   "execution_count": 117,
   "metadata": {},
   "outputs": [],
   "source": [
    "exif = rdflib.Namespace('http://www.w3.org/2003/12/exif/ns#')\n",
    "geo=rdflib.Namespace('http://www.opengis.net/ont/geosparql#') #coordinate system information\n",
    "gom=rdflib.Namespace('https://w3id.org/gom#') # geometry representations => this is from mathias\n",
    "omg=rdflib.Namespace('https://w3id.org/omg#') # geometry relations\n",
    "fog=rdflib.Namespace('https://w3id.org/fog#')\n",
    "v4d=rdflib.Namespace('https://w3id.org/v4d/core#')\n",
    "openlabel=rdflib.Namespace('https://www.asam.net/index.php?eID=dumpFile&t=f&f=3876&token=413e8c85031ae64cc35cf42d0768627514868b2f#')\n",
    "e57=rdflib.Namespace('http://libe57.org#')\n",
    "xcr=rdflib.Namespace('http://www.w3.org/1999/02/22-rdf-syntax-ns#')\n",
    "ifc=rdflib.Namespace('http://ifcowl.openbimstandards.org/IFC2X3_Final#')\n"
   ]
  },
  {
   "cell_type": "code",
   "execution_count": 130,
   "metadata": {},
   "outputs": [
    {
     "name": "stdout",
     "output_type": "stream",
     "text": [
      "None\n",
      "d:\\Scan-to-BIM repository\\geomapi\\test\\testfiles\\myNode.txt\n"
     ]
    },
    {
     "ename": "TypeError",
     "evalue": "write() argument must be str, not bytes",
     "output_type": "error",
     "traceback": [
      "\u001b[1;31m---------------------------------------------------------------------------\u001b[0m",
      "\u001b[1;31mTypeError\u001b[0m                                 Traceback (most recent call last)",
      "\u001b[1;32m~\\AppData\\Local\\Temp/ipykernel_20288/4139758028.py\u001b[0m in \u001b[0;36m<module>\u001b[1;34m\u001b[0m\n\u001b[0;32m      6\u001b[0m \u001b[1;32mwith\u001b[0m \u001b[0mopen\u001b[0m\u001b[1;33m(\u001b[0m\u001b[0mbimGraphPath\u001b[0m\u001b[1;33m,\u001b[0m \u001b[1;34m'w'\u001b[0m\u001b[1;33m)\u001b[0m \u001b[1;32mas\u001b[0m \u001b[0mf\u001b[0m\u001b[1;33m:\u001b[0m\u001b[1;33m\u001b[0m\u001b[1;33m\u001b[0m\u001b[0m\n\u001b[0;32m      7\u001b[0m           \u001b[1;31m# base=ut.get_folder(self.graphPath)\u001b[0m\u001b[1;33m\u001b[0m\u001b[1;33m\u001b[0m\u001b[1;33m\u001b[0m\u001b[0m\n\u001b[1;32m----> 8\u001b[1;33m   \u001b[0mnode\u001b[0m\u001b[1;33m.\u001b[0m\u001b[0mgraph\u001b[0m\u001b[1;33m.\u001b[0m\u001b[0mserialize\u001b[0m\u001b[1;33m(\u001b[0m\u001b[0mf\u001b[0m\u001b[1;33m)\u001b[0m\u001b[1;31m#,base=base\u001b[0m\u001b[1;33m\u001b[0m\u001b[1;33m\u001b[0m\u001b[0m\n\u001b[0m\u001b[0;32m      9\u001b[0m               \u001b[1;31m# if os.path.exists(f):\u001b[0m\u001b[1;33m\u001b[0m\u001b[1;33m\u001b[0m\u001b[1;33m\u001b[0m\u001b[0m\n\u001b[0;32m     10\u001b[0m               \u001b[1;31m#     return True\u001b[0m\u001b[1;33m\u001b[0m\u001b[1;33m\u001b[0m\u001b[1;33m\u001b[0m\u001b[0m\n",
      "\u001b[1;32mc:\\Users\\u0094523\\.conda\\envs\\conda_environment3\\lib\\site-packages\\rdflib\\graph.py\u001b[0m in \u001b[0;36mserialize\u001b[1;34m(self, destination, format, base, encoding, **args)\u001b[0m\n\u001b[0;32m   1121\u001b[0m         \u001b[1;32mif\u001b[0m \u001b[0mhasattr\u001b[0m\u001b[1;33m(\u001b[0m\u001b[0mdestination\u001b[0m\u001b[1;33m,\u001b[0m \u001b[1;34m\"write\"\u001b[0m\u001b[1;33m)\u001b[0m\u001b[1;33m:\u001b[0m\u001b[1;33m\u001b[0m\u001b[1;33m\u001b[0m\u001b[0m\n\u001b[0;32m   1122\u001b[0m             \u001b[0mstream\u001b[0m \u001b[1;33m=\u001b[0m \u001b[0mcast\u001b[0m\u001b[1;33m(\u001b[0m\u001b[0mIO\u001b[0m\u001b[1;33m[\u001b[0m\u001b[0mbytes\u001b[0m\u001b[1;33m]\u001b[0m\u001b[1;33m,\u001b[0m \u001b[0mdestination\u001b[0m\u001b[1;33m)\u001b[0m\u001b[1;33m\u001b[0m\u001b[1;33m\u001b[0m\u001b[0m\n\u001b[1;32m-> 1123\u001b[1;33m             \u001b[0mserializer\u001b[0m\u001b[1;33m.\u001b[0m\u001b[0mserialize\u001b[0m\u001b[1;33m(\u001b[0m\u001b[0mstream\u001b[0m\u001b[1;33m,\u001b[0m \u001b[0mbase\u001b[0m\u001b[1;33m=\u001b[0m\u001b[0mbase\u001b[0m\u001b[1;33m,\u001b[0m \u001b[0mencoding\u001b[0m\u001b[1;33m=\u001b[0m\u001b[0mencoding\u001b[0m\u001b[1;33m,\u001b[0m \u001b[1;33m**\u001b[0m\u001b[0margs\u001b[0m\u001b[1;33m)\u001b[0m\u001b[1;33m\u001b[0m\u001b[1;33m\u001b[0m\u001b[0m\n\u001b[0m\u001b[0;32m   1124\u001b[0m         \u001b[1;32melse\u001b[0m\u001b[1;33m:\u001b[0m\u001b[1;33m\u001b[0m\u001b[1;33m\u001b[0m\u001b[0m\n\u001b[0;32m   1125\u001b[0m             \u001b[1;32mif\u001b[0m \u001b[0misinstance\u001b[0m\u001b[1;33m(\u001b[0m\u001b[0mdestination\u001b[0m\u001b[1;33m,\u001b[0m \u001b[0mpathlib\u001b[0m\u001b[1;33m.\u001b[0m\u001b[0mPurePath\u001b[0m\u001b[1;33m)\u001b[0m\u001b[1;33m:\u001b[0m\u001b[1;33m\u001b[0m\u001b[1;33m\u001b[0m\u001b[0m\n",
      "\u001b[1;32mc:\\Users\\u0094523\\.conda\\envs\\conda_environment3\\lib\\site-packages\\rdflib\\plugins\\serializers\\turtle.py\u001b[0m in \u001b[0;36mserialize\u001b[1;34m(self, stream, base, encoding, spacious, **args)\u001b[0m\n\u001b[0;32m    239\u001b[0m         \u001b[0msubjects_list\u001b[0m \u001b[1;33m=\u001b[0m \u001b[0mself\u001b[0m\u001b[1;33m.\u001b[0m\u001b[0morderSubjects\u001b[0m\u001b[1;33m(\u001b[0m\u001b[1;33m)\u001b[0m\u001b[1;33m\u001b[0m\u001b[1;33m\u001b[0m\u001b[0m\n\u001b[0;32m    240\u001b[0m \u001b[1;33m\u001b[0m\u001b[0m\n\u001b[1;32m--> 241\u001b[1;33m         \u001b[0mself\u001b[0m\u001b[1;33m.\u001b[0m\u001b[0mstartDocument\u001b[0m\u001b[1;33m(\u001b[0m\u001b[1;33m)\u001b[0m\u001b[1;33m\u001b[0m\u001b[1;33m\u001b[0m\u001b[0m\n\u001b[0m\u001b[0;32m    242\u001b[0m \u001b[1;33m\u001b[0m\u001b[0m\n\u001b[0;32m    243\u001b[0m         \u001b[0mfirstTime\u001b[0m \u001b[1;33m=\u001b[0m \u001b[1;32mTrue\u001b[0m\u001b[1;33m\u001b[0m\u001b[1;33m\u001b[0m\u001b[0m\n",
      "\u001b[1;32mc:\\Users\\u0094523\\.conda\\envs\\conda_environment3\\lib\\site-packages\\rdflib\\plugins\\serializers\\turtle.py\u001b[0m in \u001b[0;36mstartDocument\u001b[1;34m(self)\u001b[0m\n\u001b[0;32m    304\u001b[0m             \u001b[0mself\u001b[0m\u001b[1;33m.\u001b[0m\u001b[0mwrite\u001b[0m\u001b[1;33m(\u001b[0m\u001b[0mself\u001b[0m\u001b[1;33m.\u001b[0m\u001b[0mindent\u001b[0m\u001b[1;33m(\u001b[0m\u001b[1;33m)\u001b[0m \u001b[1;33m+\u001b[0m \u001b[1;34m\"@base <%s> .\\n\"\u001b[0m \u001b[1;33m%\u001b[0m \u001b[0mself\u001b[0m\u001b[1;33m.\u001b[0m\u001b[0mbase\u001b[0m\u001b[1;33m)\u001b[0m\u001b[1;33m\u001b[0m\u001b[1;33m\u001b[0m\u001b[0m\n\u001b[0;32m    305\u001b[0m         \u001b[1;32mfor\u001b[0m \u001b[0mprefix\u001b[0m\u001b[1;33m,\u001b[0m \u001b[0muri\u001b[0m \u001b[1;32min\u001b[0m \u001b[0mns_list\u001b[0m\u001b[1;33m:\u001b[0m\u001b[1;33m\u001b[0m\u001b[1;33m\u001b[0m\u001b[0m\n\u001b[1;32m--> 306\u001b[1;33m             \u001b[0mself\u001b[0m\u001b[1;33m.\u001b[0m\u001b[0mwrite\u001b[0m\u001b[1;33m(\u001b[0m\u001b[0mself\u001b[0m\u001b[1;33m.\u001b[0m\u001b[0mindent\u001b[0m\u001b[1;33m(\u001b[0m\u001b[1;33m)\u001b[0m \u001b[1;33m+\u001b[0m \u001b[1;34m\"@prefix %s: <%s> .\\n\"\u001b[0m \u001b[1;33m%\u001b[0m \u001b[1;33m(\u001b[0m\u001b[0mprefix\u001b[0m\u001b[1;33m,\u001b[0m \u001b[0muri\u001b[0m\u001b[1;33m)\u001b[0m\u001b[1;33m)\u001b[0m\u001b[1;33m\u001b[0m\u001b[1;33m\u001b[0m\u001b[0m\n\u001b[0m\u001b[0;32m    307\u001b[0m         \u001b[1;32mif\u001b[0m \u001b[0mns_list\u001b[0m \u001b[1;32mand\u001b[0m \u001b[0mself\u001b[0m\u001b[1;33m.\u001b[0m\u001b[0m_spacious\u001b[0m\u001b[1;33m:\u001b[0m\u001b[1;33m\u001b[0m\u001b[1;33m\u001b[0m\u001b[0m\n\u001b[0;32m    308\u001b[0m             \u001b[0mself\u001b[0m\u001b[1;33m.\u001b[0m\u001b[0mwrite\u001b[0m\u001b[1;33m(\u001b[0m\u001b[1;34m\"\\n\"\u001b[0m\u001b[1;33m)\u001b[0m\u001b[1;33m\u001b[0m\u001b[1;33m\u001b[0m\u001b[0m\n",
      "\u001b[1;32mc:\\Users\\u0094523\\.conda\\envs\\conda_environment3\\lib\\site-packages\\rdflib\\plugins\\serializers\\turtle.py\u001b[0m in \u001b[0;36mwrite\u001b[1;34m(self, text)\u001b[0m\n\u001b[0;32m    169\u001b[0m     \u001b[1;32mdef\u001b[0m \u001b[0mwrite\u001b[0m\u001b[1;33m(\u001b[0m\u001b[0mself\u001b[0m\u001b[1;33m,\u001b[0m \u001b[0mtext\u001b[0m\u001b[1;33m)\u001b[0m\u001b[1;33m:\u001b[0m\u001b[1;33m\u001b[0m\u001b[1;33m\u001b[0m\u001b[0m\n\u001b[0;32m    170\u001b[0m         \u001b[1;34m\"\"\"Write text in given encoding.\"\"\"\u001b[0m\u001b[1;33m\u001b[0m\u001b[1;33m\u001b[0m\u001b[0m\n\u001b[1;32m--> 171\u001b[1;33m         \u001b[0mself\u001b[0m\u001b[1;33m.\u001b[0m\u001b[0mstream\u001b[0m\u001b[1;33m.\u001b[0m\u001b[0mwrite\u001b[0m\u001b[1;33m(\u001b[0m\u001b[0mtext\u001b[0m\u001b[1;33m.\u001b[0m\u001b[0mencode\u001b[0m\u001b[1;33m(\u001b[0m\u001b[0mself\u001b[0m\u001b[1;33m.\u001b[0m\u001b[0mencoding\u001b[0m\u001b[1;33m,\u001b[0m \u001b[1;34m\"replace\"\u001b[0m\u001b[1;33m)\u001b[0m\u001b[1;33m)\u001b[0m\u001b[1;33m\u001b[0m\u001b[1;33m\u001b[0m\u001b[0m\n\u001b[0m\u001b[0;32m    172\u001b[0m \u001b[1;33m\u001b[0m\u001b[0m\n\u001b[0;32m    173\u001b[0m \u001b[1;33m\u001b[0m\u001b[0m\n",
      "\u001b[1;31mTypeError\u001b[0m: write() argument must be str, not bytes"
     ]
    }
   ],
   "source": [
    "  #graphPath and subject\n",
    "node=Node('myNode',graphPath=bimGraphPath)\n",
    "print(node.path)\n",
    "print(node.get_path())\n",
    "# self.assertEqual(node.path,os.path.join(ut.get_folder(self.bimGraphPath),node.name + '.txt'))\n",
    "with open(bimGraphPath, 'w') as f:\n",
    "            # base=ut.get_folder(self.graphPath)\n",
    "    node.graph.serialize(f)#,base=base\n",
    "                # if os.path.exists(f):\n",
    "                #     return True\n",
    "                # return False\n"
   ]
  },
  {
   "cell_type": "code",
   "execution_count": 91,
   "metadata": {},
   "outputs": [
    {
     "ename": "AttributeError",
     "evalue": "'Node' object has no attribute '_graph'",
     "output_type": "error",
     "traceback": [
      "\u001b[1;31m---------------------------------------------------------------------------\u001b[0m",
      "\u001b[1;31mAttributeError\u001b[0m                            Traceback (most recent call last)",
      "\u001b[1;32m~\\AppData\\Local\\Temp/ipykernel_11476/3154258149.py\u001b[0m in \u001b[0;36m<module>\u001b[1;34m\u001b[0m\n\u001b[1;32m----> 1\u001b[1;33m \u001b[0mtestnode\u001b[0m\u001b[1;33m=\u001b[0m\u001b[0mNode\u001b[0m\u001b[1;33m(\u001b[0m\u001b[0mgraphPath\u001b[0m\u001b[1;33m=\u001b[0m\u001b[0mtempGraphPath\u001b[0m\u001b[1;33m)\u001b[0m\u001b[1;33m\u001b[0m\u001b[1;33m\u001b[0m\u001b[0m\n\u001b[0m\u001b[0;32m      2\u001b[0m \u001b[0mprint\u001b[0m\u001b[1;33m(\u001b[0m\u001b[0mtestnode\u001b[0m\u001b[1;33m.\u001b[0m\u001b[0msubject\u001b[0m\u001b[1;33m)\u001b[0m\u001b[1;33m\u001b[0m\u001b[1;33m\u001b[0m\u001b[0m\n\u001b[0;32m      3\u001b[0m \u001b[0mprint\u001b[0m\u001b[1;33m(\u001b[0m\u001b[0mtestnode\u001b[0m\u001b[1;33m.\u001b[0m\u001b[0mclassName\u001b[0m\u001b[1;33m)\u001b[0m\u001b[1;33m\u001b[0m\u001b[1;33m\u001b[0m\u001b[0m\n\u001b[0;32m      4\u001b[0m \u001b[0mprint\u001b[0m\u001b[1;33m(\u001b[0m\u001b[0mtestnode\u001b[0m\u001b[1;33m.\u001b[0m\u001b[0msubject\u001b[0m\u001b[1;33m)\u001b[0m\u001b[1;33m\u001b[0m\u001b[1;33m\u001b[0m\u001b[0m\n\u001b[0;32m      5\u001b[0m \u001b[0mprint\u001b[0m\u001b[1;33m(\u001b[0m\u001b[0mtestnode\u001b[0m\u001b[1;33m.\u001b[0m\u001b[0msubject\u001b[0m\u001b[1;33m)\u001b[0m\u001b[1;33m\u001b[0m\u001b[1;33m\u001b[0m\u001b[0m\n",
      "\u001b[1;32md:\\Scan-to-BIM repository\\geomapi\\geomapi\\nodes\\node.py\u001b[0m in \u001b[0;36m__init__\u001b[1;34m(self, subject, graph, graphPath, name, path, timestamp, resource, **kwargs)\u001b[0m\n\u001b[0;32m     71\u001b[0m         \u001b[1;31m#set variables\u001b[0m\u001b[1;33m\u001b[0m\u001b[1;33m\u001b[0m\u001b[1;33m\u001b[0m\u001b[0m\n\u001b[0;32m     72\u001b[0m         \u001b[0mself\u001b[0m\u001b[1;33m.\u001b[0m\u001b[0msubject\u001b[0m\u001b[1;33m=\u001b[0m\u001b[0msubject\u001b[0m\u001b[1;33m\u001b[0m\u001b[1;33m\u001b[0m\u001b[0m\n\u001b[1;32m---> 73\u001b[1;33m         \u001b[0mself\u001b[0m\u001b[1;33m.\u001b[0m\u001b[0mgraphPath\u001b[0m\u001b[1;33m=\u001b[0m\u001b[0mgraphPath\u001b[0m\u001b[1;33m\u001b[0m\u001b[1;33m\u001b[0m\u001b[0m\n\u001b[0m\u001b[0;32m     74\u001b[0m         \u001b[0mself\u001b[0m\u001b[1;33m.\u001b[0m\u001b[0mgraph\u001b[0m\u001b[1;33m=\u001b[0m\u001b[0mgraph\u001b[0m\u001b[1;33m\u001b[0m\u001b[1;33m\u001b[0m\u001b[0m\n\u001b[0;32m     75\u001b[0m         \u001b[0mself\u001b[0m\u001b[1;33m.\u001b[0m\u001b[0mpath\u001b[0m\u001b[1;33m=\u001b[0m\u001b[0mpath\u001b[0m\u001b[1;33m\u001b[0m\u001b[1;33m\u001b[0m\u001b[0m\n",
      "\u001b[1;32md:\\Scan-to-BIM repository\\geomapi\\geomapi\\nodes\\node.py\u001b[0m in \u001b[0;36mgraphPath\u001b[1;34m(self, graphPath)\u001b[0m\n\u001b[0;32m    159\u001b[0m             \u001b[1;32mif\u001b[0m \u001b[0mos\u001b[0m\u001b[1;33m.\u001b[0m\u001b[0mpath\u001b[0m\u001b[1;33m.\u001b[0m\u001b[0mexists\u001b[0m\u001b[1;33m(\u001b[0m\u001b[0mgraphPath\u001b[0m\u001b[1;33m)\u001b[0m\u001b[1;33m:\u001b[0m\u001b[1;33m\u001b[0m\u001b[1;33m\u001b[0m\u001b[0m\n\u001b[0;32m    160\u001b[0m                 \u001b[0mself\u001b[0m\u001b[1;33m.\u001b[0m\u001b[0m_graphPath\u001b[0m\u001b[1;33m=\u001b[0m\u001b[0mgraphPath\u001b[0m\u001b[1;33m\u001b[0m\u001b[1;33m\u001b[0m\u001b[0m\n\u001b[1;32m--> 161\u001b[1;33m                 \u001b[1;32mif\u001b[0m \u001b[0mself\u001b[0m\u001b[1;33m.\u001b[0m\u001b[0m_graph\u001b[0m \u001b[1;32mis\u001b[0m \u001b[1;32mNone\u001b[0m\u001b[1;33m:\u001b[0m\u001b[1;33m\u001b[0m\u001b[1;33m\u001b[0m\u001b[0m\n\u001b[0m\u001b[0;32m    162\u001b[0m                     \u001b[0mself\u001b[0m\u001b[1;33m.\u001b[0m\u001b[0mgraph\u001b[0m\u001b[1;33m=\u001b[0m\u001b[0mGraph\u001b[0m\u001b[1;33m(\u001b[0m\u001b[1;33m)\u001b[0m\u001b[1;33m.\u001b[0m\u001b[0mparse\u001b[0m\u001b[1;33m(\u001b[0m\u001b[0mgraphPath\u001b[0m\u001b[1;33m)\u001b[0m\u001b[1;33m\u001b[0m\u001b[1;33m\u001b[0m\u001b[0m\n\u001b[0;32m    163\u001b[0m \u001b[1;33m\u001b[0m\u001b[0m\n",
      "\u001b[1;31mAttributeError\u001b[0m: 'Node' object has no attribute '_graph'"
     ]
    }
   ],
   "source": [
    "testnode=Node(graphPath=tempGraphPath)\n",
    "print(testnode.subject)\n",
    "print(testnode.className)\n",
    "print(testnode.subject)\n",
    "print(testnode.subject)\n",
    "print(testnode.subject)\n"
   ]
  },
  {
   "cell_type": "code",
   "execution_count": 25,
   "metadata": {},
   "outputs": [
    {
     "name": "stdout",
     "output_type": "stream",
     "text": [
      "D:\\Scan-to-BIM repository\\geomapi\\test\\testfiles\n",
      "d:\\Scan-to-BIM repository\\geomapi\\ifcfile.ifc\n",
      "d:\\Scan-to-BIM repository\\geomapi\\ifcfile.ifc\n"
     ]
    }
   ],
   "source": [
    "string='d:\\\\Scan-to-BIM repository\\\\geomapi\\\\test\\\\testfiles\\\\resources'\n",
    "test=ut.get_folder(string)\n",
    "print(test)\n",
    "path='..\\\\ifcfile.ifc'\n",
    "qsdf=path.strip('..\\\\')\n",
    "qsdf=os.path.abspath(path)\n",
    "print(qsdf)\n",
    "print(os.path.join(test,qsdf))"
   ]
  },
  {
   "cell_type": "code",
   "execution_count": 6,
   "metadata": {},
   "outputs": [
    {
     "ename": "",
     "evalue": "",
     "output_type": "error",
     "traceback": [
      "\u001b[1;31mCanceled future for execute_request message before replies were done"
     ]
    },
    {
     "ename": "",
     "evalue": "",
     "output_type": "error",
     "traceback": [
      "\u001b[1;31mThe Kernel crashed while executing code in the the current cell or a previous cell. Please review the code in the cell(s) to identify a possible cause of the failure. Click <a href='https://aka.ms/vscodeJupyterKernelCrash'>here</a> for more info. View Jupyter <a href='command:jupyter.viewOutput'>log</a> for further details."
     ]
    }
   ],
   "source": [
    "#node with only subject\n",
    "subject='myNode'\n",
    "testpath=os.path.join(resourcePath,'myNode.ttl')\n",
    "myNode= Node(subject=subject,myFloat=0.1)\n",
    "myNode.to_graph(testpath,save=True)\n",
    "testnode=Node(graphPath=testpath)#graphPath=testpath\n",
    "print(testnode.subject)\n",
    "print(myNode.subject)\n"
   ]
  },
  {
   "cell_type": "code",
   "execution_count": 9,
   "metadata": {},
   "outputs": [
    {
     "name": "stdout",
     "output_type": "stream",
     "text": [
      "file:///myNode\n",
      "file:///myNode\n",
      "@prefix v4d: <https://w3id.org/v4d/core#> .\n",
      "@prefix xsd: <http://www.w3.org/2001/XMLSchema#> .\n",
      "\n",
      "<file:///myNode> a v4d:Node ;\n",
      "    v4d:myFloat \"0.1\"^^xsd:float ;\n",
      "    v4d:myNewRemark \"myNewRemark\" ;\n",
      "    v4d:name \"myNode\" .\n",
      "\n",
      "\n"
     ]
    }
   ],
   "source": [
    "testpath=os.path.join(resourcePath,'myNode.ttl')\n",
    "\n",
    "#node with a graph and some kwargs\n",
    "test = Graph().parse(testpath)\n",
    "myNode= Node(graph=test,myNewRemark='myNewRemark',myFloat=0.1)        \n",
    "myNode.to_graph(testpath,save=True)\n",
    "testnode=Node(graphPath=testpath)\n",
    "\n",
    "print(testnode.subject)\n",
    "print(myNode.subject)\n",
    "print(testnode.graph.serialize())"
   ]
  },
  {
   "cell_type": "code",
   "execution_count": 12,
   "metadata": {},
   "outputs": [
    {
     "name": "stdout",
     "output_type": "stream",
     "text": [
      "@prefix e57: <http://libe57.org#> .\n",
      "@prefix exif: <http://www.w3.org/2003/12/exif/ns#> .\n",
      "@prefix v4d: <https://w3id.org/v4d/core#> .\n",
      "@prefix xsd: <http://www.w3.org/2001/XMLSchema#> .\n",
      "\n",
      "<file:///d:/Scan-to-BIM%20repository/geomapi/test/testfiles/101_0366_0036> a \"<class 'geomapi.nodes.imagenode.ImageNode'>\" ;\n",
      "    e57:cartesianTransform \"\"\"[[-9.01077021e-01 -4.33659085e-01  0.00000000e+00  6.00575993e+05]\n",
      " [ 4.33659085e-01 -9.01077021e-01  0.00000000e+00  6.96281654e+05]\n",
      " [ 0.00000000e+00  0.00000000e+00  1.00000000e+00  3.13845765e+01]\n",
      " [ 0.00000000e+00  0.00000000e+00  0.00000000e+00  1.00000000e+00]]\"\"\" ;\n",
      "    exif:imageHeight \"3648.0\"^^xsd:float ;\n",
      "    exif:imageWidth \"5472.0\"^^xsd:float ;\n",
      "    v4d:name \"101_0366_0036\" ;\n",
      "    v4d:path \"..\\\\..\\\\tests\\\\Samples10\\\\101_0366_0036.jpg\" ;\n",
      "    v4d:sxy \"0.02\" ;\n",
      "    v4d:sz \"0.05\" ;\n",
      "    v4d:xmlIndex \"0\" ;\n",
      "    v4d:xmlPath \"..\\\\..\\\\tests\\\\Samples10\\\\ReferenceLAMBERT08_TAW.xml\" .\n",
      "\n",
      "\n"
     ]
    },
    {
     "ename": "AttributeError",
     "evalue": "'Graph' object has no attribute 'exif'",
     "output_type": "error",
     "traceback": [
      "\u001b[1;31m---------------------------------------------------------------------------\u001b[0m",
      "\u001b[1;31mAttributeError\u001b[0m                            Traceback (most recent call last)",
      "\u001b[1;32m~\\AppData\\Local\\Temp/ipykernel_5224/1466407104.py\u001b[0m in \u001b[0;36m<module>\u001b[1;34m\u001b[0m\n\u001b[0;32m      6\u001b[0m \u001b[0mprint\u001b[0m\u001b[1;33m(\u001b[0m\u001b[0mnode\u001b[0m\u001b[1;33m.\u001b[0m\u001b[0mgraph\u001b[0m\u001b[1;33m.\u001b[0m\u001b[0mserialize\u001b[0m\u001b[1;33m(\u001b[0m\u001b[1;33m)\u001b[0m\u001b[1;33m)\u001b[0m\u001b[1;33m\u001b[0m\u001b[1;33m\u001b[0m\u001b[0m\n\u001b[0;32m      7\u001b[0m \u001b[1;31m# self.assertEqual(node.subject.toPython(),subject.toPython())\u001b[0m\u001b[1;33m\u001b[0m\u001b[1;33m\u001b[0m\u001b[1;33m\u001b[0m\u001b[0m\n\u001b[1;32m----> 8\u001b[1;33m \u001b[0mobject\u001b[0m\u001b[1;33m=\u001b[0m\u001b[0mnode\u001b[0m\u001b[1;33m.\u001b[0m\u001b[0mgraph\u001b[0m\u001b[1;33m.\u001b[0m\u001b[0mvalue\u001b[0m\u001b[1;33m(\u001b[0m\u001b[0msubject\u001b[0m\u001b[1;33m,\u001b[0m\u001b[0mnode\u001b[0m\u001b[1;33m.\u001b[0m\u001b[0mgraph\u001b[0m\u001b[1;33m.\u001b[0m\u001b[0mexif\u001b[0m\u001b[1;33m[\u001b[0m\u001b[1;34m'imageHeight'\u001b[0m\u001b[1;33m]\u001b[0m\u001b[1;33m)\u001b[0m\u001b[1;33m\u001b[0m\u001b[1;33m\u001b[0m\u001b[0m\n\u001b[0m\u001b[0;32m      9\u001b[0m \u001b[0mprint\u001b[0m\u001b[1;33m(\u001b[0m\u001b[0mobject\u001b[0m\u001b[1;33m)\u001b[0m\u001b[1;33m\u001b[0m\u001b[1;33m\u001b[0m\u001b[0m\n\u001b[0;32m     10\u001b[0m \u001b[1;31m# self.assertEqual(node.imageHeight,object.toPython())\u001b[0m\u001b[1;33m\u001b[0m\u001b[1;33m\u001b[0m\u001b[1;33m\u001b[0m\u001b[0m\n",
      "\u001b[1;31mAttributeError\u001b[0m: 'Graph' object has no attribute 'exif'"
     ]
    }
   ],
   "source": [
    "graph=imgGraph\n",
    "graphPath=imgGraphPath\n",
    "subject=[s for s in graph.subjects() if '101_0366_0036' in s]\n",
    "node= Node(subject=subject[0],graphPath=graphPath)\n",
    "node.to_graph()\n",
    "print(node.graph.serialize())\n",
    "# assertEqual(node.subject.toPython(),subject.toPython())\n",
    "object=node.graph.value(subject,node.graph.exif['imageHeight'])\n",
    "print(object)\n",
    "# assertEqual(node.imageHeight,object.toPython())"
   ]
  },
  {
   "cell_type": "code",
   "execution_count": 11,
   "metadata": {},
   "outputs": [
    {
     "name": "stdout",
     "output_type": "stream",
     "text": [
      "http://IMG_2173\n",
      "http://IMG_2173\n",
      "IMG_2173\n",
      "{b9c3f2e1-aea0-11ec-b2d9-a86daaa4a624}\n"
     ]
    }
   ],
   "source": [
    "graph=testNodeGraph\n",
    "graphPath=testNodeGraphPath\n",
    "subject=next(graph.subjects())\n",
    "node= Node(graphPath=graphPath)\n",
    "node.to_graph(testpath,save=True)\n",
    "print(subject)\n",
    "print(node.subject)\n",
    "\n",
    "print(node.name)\n",
    "print(graph.value(subject,RDFS.label))\n",
    "# assertEqual(node.subject.toPython(),subject.toPython())\n",
    "# object=graph.value(subject,RDFS.label)\n",
    "# assertEqual(node.name,object.toPython())\n"
   ]
  },
  {
   "cell_type": "code",
   "execution_count": 13,
   "metadata": {},
   "outputs": [
    {
     "data": {
      "text/plain": [
       "<Graph identifier=N3d8027e746604e07825fa7c3412b9785 (<class 'rdflib.graph.Graph'>)>"
      ]
     },
     "execution_count": 13,
     "metadata": {},
     "output_type": "execute_result"
    }
   ],
   "source": [
    "#test save\n",
    "newGraphPath=os.path.join(path,'resources','testGraph.ttl')\n",
    "node=Node(graph=testGraph)\n",
    "node.to_graph(graphPath=newGraphPath,save=True)     \n",
    "\n",
    "# assertTrue(os.path.exists(newGraphPath))\n",
    "# newGraph=Graph().parse(newGraphPath)\n",
    "# assertEqual(len(newGraph),len(node.graph))"
   ]
  },
  {
   "cell_type": "code",
   "execution_count": 111,
   "metadata": {},
   "outputs": [
    {
     "name": "stdout",
     "output_type": "stream",
     "text": [
      "[1 2 3]\n",
      "<class 'numpy.ndarray'>\n"
     ]
    }
   ],
   "source": [
    "value=np.array([1,2,3])\n",
    "dataType=ut.get_data_type(value)\n",
    "test=Literal(value)#,datatype=dataType\n",
    "print(test.toPython())\n",
    "print(type(test.toPython()))"
   ]
  },
  {
   "cell_type": "code",
   "execution_count": 22,
   "metadata": {},
   "outputs": [
    {
     "data": {
      "text/plain": [
       "<Graph identifier=Nce348909082040f2b264ba63d2442c36 (<class 'rdflib.graph.Graph'>)>"
      ]
     },
     "execution_count": 22,
     "metadata": {},
     "output_type": "execute_result"
    }
   ],
   "source": [
    "newGraph=Graph()\n",
    "value=0.1\n",
    "dataType=ut.get_data_type(value)\n",
    "v4d=rdflib.Namespace('https://w3id.org/v4d/core#')\n",
    "sub=URIRef('http://myNode')\n",
    "newGraph.add((sub, v4d['type'], Literal('qsdfsdqf') ))\n",
    "newGraph.add((sub, v4d['test'], Literal(1,datatype=dataType)))\n",
    "newGraph.serialize(testpath)\n",
    "\n"
   ]
  },
  {
   "cell_type": "code",
   "execution_count": 37,
   "metadata": {},
   "outputs": [
    {
     "name": "stdout",
     "output_type": "stream",
     "text": [
      "<class 'float'>\n"
     ]
    }
   ],
   "source": [
    "test=Graph().parse(testpath)\n",
    "v4d=rdflib.Namespace('https://w3id.org/v4d/core#')\n",
    "\n",
    "qsdf=test.value(next(test.subjects()),v4d['myFloat'])\n",
    "uytr=qsdf.toPython()\n",
    "print(type(uytr))"
   ]
  }
 ],
 "metadata": {
  "interpreter": {
   "hash": "801b4083378541fd050d6c91abf6ec053c863905e8162e031d57b83e7cdb3051"
  },
  "kernelspec": {
   "display_name": "Python 3.8.13 ('conda_environment3')",
   "language": "python",
   "name": "python3"
  },
  "language_info": {
   "codemirror_mode": {
    "name": "ipython",
    "version": 3
   },
   "file_extension": ".py",
   "mimetype": "text/x-python",
   "name": "python",
   "nbconvert_exporter": "python",
   "pygments_lexer": "ipython3",
   "version": "3.10.14"
  },
  "orig_nbformat": 4,
  "vscode": {
   "interpreter": {
    "hash": "832bf5fd5c6660b37dd2a90a45a57b02f877bb0a297fe89ca9c261a7f9e32997"
   }
  }
 },
 "nbformat": 4,
 "nbformat_minor": 2
}

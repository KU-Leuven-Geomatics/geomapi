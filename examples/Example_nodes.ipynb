{
 "cells": [
  {
   "cell_type": "markdown",
   "metadata": {},
   "source": [
    "# EXAMPLE GET INLIERS\n",
    "In this notebook, we ...\n",
    "As ouput, the method generates a selection of nodes \n",
    "\n",
    ">This codebase operates on the scan2bim2.yml environment (python 3.8)"
   ]
  },
  {
   "cell_type": "code",
   "execution_count": 113,
   "metadata": {},
   "outputs": [],
   "source": [
    "#IMPORT PACKAGES\n",
    "from rdflib import Graph,URIRef,Literal, RDFS,XSD\n",
    "import rdflib\n",
    "import os, time\n",
    "import importlib\n",
    "import numpy as np\n",
    "import open3d as o3d\n",
    "import ifcopenshell\n",
    "from ifcopenshell.util.selector import Selector\n",
    "\n",
    "#IMPORT MODULES\n",
    "from context import geomapi \n",
    "from geomapi.nodes import *\n",
    "import geomapi.utils as ut\n",
    "from geomapi.utils import geometryutils as gmu\n",
    "import geomapi.tools as tl\n",
    "\n",
    "from rdflib import RDF"
   ]
  },
  {
   "cell_type": "code",
   "execution_count": 114,
   "metadata": {},
   "outputs": [
    {
     "name": "stdout",
     "output_type": "stream",
     "text": [
      "The autoreload extension is already loaded. To reload it, use:\n",
      "  %reload_ext autoreload\n"
     ]
    }
   ],
   "source": [
    "%load_ext autoreload"
   ]
  },
  {
   "cell_type": "code",
   "execution_count": 115,
   "metadata": {},
   "outputs": [],
   "source": [
    "%autoreload 2"
   ]
  },
  {
   "cell_type": "markdown",
   "metadata": {},
   "source": [
    "## 1. INPUT"
   ]
  },
  {
   "cell_type": "code",
   "execution_count": 116,
   "metadata": {},
   "outputs": [
    {
     "name": "stdout",
     "output_type": "stream",
     "text": [
      "72\n"
     ]
    }
   ],
   "source": [
    "path= os.path.join(os.path.abspath(os.path.join(os.getcwd(), os.pardir)),\"test\",\"testfiles\" )#\"D:\\\\Data\\\\2018-06 Werfopvolging Academiestraat Gent\" \n",
    "\n",
    "#GRAPH testNodeGraph.ttl\n",
    "testNodeGraphPath=os.path.join(path,'testNodeGraph.ttl')\n",
    "testNodeGraph=Graph().parse(testNodeGraphPath)\n",
    "\n",
    "#GRAPH bimGraph.ttl\n",
    "bimGraphPath=os.path.join(path,'bimGraph.ttl')\n",
    "bimGraph=Graph().parse(bimGraphPath)\n",
    "\n",
    "#GRAPH testGraph.ttl\n",
    "testGraphPath=os.path.join(path,'testGraph.ttl')\n",
    "testGraph=Graph().parse(testGraphPath)\n",
    "print(len(testGraph))\n",
    "\n",
    "#GRAPH imgGraph.ttl\n",
    "imgGraphPath=os.path.join(path,'imgGraph.ttl')\n",
    "imgGraph=Graph().parse(imgGraphPath)\n",
    "    \n",
    "\n",
    "resourcePath=os.path.join(path,'resources')\n",
    "tempGraphPath=os.path.join(resourcePath,'myNode.ttl')\n",
    "if not os.path.exists(resourcePath):\n",
    "    os.mkdir(resourcePath)"
   ]
  },
  {
   "cell_type": "code",
   "execution_count": 117,
   "metadata": {},
   "outputs": [],
   "source": [
    "exif = rdflib.Namespace('http://www.w3.org/2003/12/exif/ns#')\n",
    "geo=rdflib.Namespace('http://www.opengis.net/ont/geosparql#') #coordinate system information\n",
    "gom=rdflib.Namespace('https://w3id.org/gom#') # geometry representations => this is from mathias\n",
    "omg=rdflib.Namespace('https://w3id.org/omg#') # geometry relations\n",
    "fog=rdflib.Namespace('https://w3id.org/fog#')\n",
    "v4d=rdflib.Namespace('https://w3id.org/v4d/core#')\n",
    "openlabel=rdflib.Namespace('https://www.asam.net/index.php?eID=dumpFile&t=f&f=3876&token=413e8c85031ae64cc35cf42d0768627514868b2f#')\n",
    "e57=rdflib.Namespace('http://libe57.org#')\n",
    "xcr=rdflib.Namespace('http://www.w3.org/1999/02/22-rdf-syntax-ns#')\n",
    "ifc=rdflib.Namespace('http://ifcowl.openbimstandards.org/IFC2X3_Final#')\n"
   ]
  },
  {
   "cell_type": "code",
   "execution_count": 130,
   "metadata": {},
   "outputs": [
    {
     "name": "stdout",
     "output_type": "stream",
     "text": [
      "None\n",
      "d:\\Scan-to-BIM repository\\geomapi\\test\\testfiles\\myNode.txt\n"
     ]
    },
    {
     "ename": "TypeError",
     "evalue": "write() argument must be str, not bytes",
     "output_type": "error",
     "traceback": [
      "\u001b[1;31m---------------------------------------------------------------------------\u001b[0m",
      "\u001b[1;31mTypeError\u001b[0m                                 Traceback (most recent call last)",
      "\u001b[1;32m~\\AppData\\Local\\Temp/ipykernel_20288/4139758028.py\u001b[0m in \u001b[0;36m<module>\u001b[1;34m\u001b[0m\n\u001b[0;32m      6\u001b[0m \u001b[1;32mwith\u001b[0m \u001b[0mopen\u001b[0m\u001b[1;33m(\u001b[0m\u001b[0mbimGraphPath\u001b[0m\u001b[1;33m,\u001b[0m \u001b[1;34m'w'\u001b[0m\u001b[1;33m)\u001b[0m \u001b[1;32mas\u001b[0m \u001b[0mf\u001b[0m\u001b[1;33m:\u001b[0m\u001b[1;33m\u001b[0m\u001b[1;33m\u001b[0m\u001b[0m\n\u001b[0;32m      7\u001b[0m           \u001b[1;31m# base=ut.get_folder(self.graphPath)\u001b[0m\u001b[1;33m\u001b[0m\u001b[1;33m\u001b[0m\u001b[1;33m\u001b[0m\u001b[0m\n\u001b[1;32m----> 8\u001b[1;33m   \u001b[0mnode\u001b[0m\u001b[1;33m.\u001b[0m\u001b[0mgraph\u001b[0m\u001b[1;33m.\u001b[0m\u001b[0mserialize\u001b[0m\u001b[1;33m(\u001b[0m\u001b[0mf\u001b[0m\u001b[1;33m)\u001b[0m\u001b[1;31m#,base=base\u001b[0m\u001b[1;33m\u001b[0m\u001b[1;33m\u001b[0m\u001b[0m\n\u001b[0m\u001b[0;32m      9\u001b[0m               \u001b[1;31m# if os.path.exists(f):\u001b[0m\u001b[1;33m\u001b[0m\u001b[1;33m\u001b[0m\u001b[1;33m\u001b[0m\u001b[0m\n\u001b[0;32m     10\u001b[0m               \u001b[1;31m#     return True\u001b[0m\u001b[1;33m\u001b[0m\u001b[1;33m\u001b[0m\u001b[1;33m\u001b[0m\u001b[0m\n",
      "\u001b[1;32mc:\\Users\\u0094523\\.conda\\envs\\conda_environment3\\lib\\site-packages\\rdflib\\graph.py\u001b[0m in \u001b[0;36mserialize\u001b[1;34m(self, destination, format, base, encoding, **args)\u001b[0m\n\u001b[0;32m   1121\u001b[0m         \u001b[1;32mif\u001b[0m \u001b[0mhasattr\u001b[0m\u001b[1;33m(\u001b[0m\u001b[0mdestination\u001b[0m\u001b[1;33m,\u001b[0m \u001b[1;34m\"write\"\u001b[0m\u001b[1;33m)\u001b[0m\u001b[1;33m:\u001b[0m\u001b[1;33m\u001b[0m\u001b[1;33m\u001b[0m\u001b[0m\n\u001b[0;32m   1122\u001b[0m             \u001b[0mstream\u001b[0m \u001b[1;33m=\u001b[0m \u001b[0mcast\u001b[0m\u001b[1;33m(\u001b[0m\u001b[0mIO\u001b[0m\u001b[1;33m[\u001b[0m\u001b[0mbytes\u001b[0m\u001b[1;33m]\u001b[0m\u001b[1;33m,\u001b[0m \u001b[0mdestination\u001b[0m\u001b[1;33m)\u001b[0m\u001b[1;33m\u001b[0m\u001b[1;33m\u001b[0m\u001b[0m\n\u001b[1;32m-> 1123\u001b[1;33m             \u001b[0mserializer\u001b[0m\u001b[1;33m.\u001b[0m\u001b[0mserialize\u001b[0m\u001b[1;33m(\u001b[0m\u001b[0mstream\u001b[0m\u001b[1;33m,\u001b[0m \u001b[0mbase\u001b[0m\u001b[1;33m=\u001b[0m\u001b[0mbase\u001b[0m\u001b[1;33m,\u001b[0m \u001b[0mencoding\u001b[0m\u001b[1;33m=\u001b[0m\u001b[0mencoding\u001b[0m\u001b[1;33m,\u001b[0m \u001b[1;33m**\u001b[0m\u001b[0margs\u001b[0m\u001b[1;33m)\u001b[0m\u001b[1;33m\u001b[0m\u001b[1;33m\u001b[0m\u001b[0m\n\u001b[0m\u001b[0;32m   1124\u001b[0m         \u001b[1;32melse\u001b[0m\u001b[1;33m:\u001b[0m\u001b[1;33m\u001b[0m\u001b[1;33m\u001b[0m\u001b[0m\n\u001b[0;32m   1125\u001b[0m             \u001b[1;32mif\u001b[0m \u001b[0misinstance\u001b[0m\u001b[1;33m(\u001b[0m\u001b[0mdestination\u001b[0m\u001b[1;33m,\u001b[0m \u001b[0mpathlib\u001b[0m\u001b[1;33m.\u001b[0m\u001b[0mPurePath\u001b[0m\u001b[1;33m)\u001b[0m\u001b[1;33m:\u001b[0m\u001b[1;33m\u001b[0m\u001b[1;33m\u001b[0m\u001b[0m\n",
      "\u001b[1;32mc:\\Users\\u0094523\\.conda\\envs\\conda_environment3\\lib\\site-packages\\rdflib\\plugins\\serializers\\turtle.py\u001b[0m in \u001b[0;36mserialize\u001b[1;34m(self, stream, base, encoding, spacious, **args)\u001b[0m\n\u001b[0;32m    239\u001b[0m         \u001b[0msubjects_list\u001b[0m \u001b[1;33m=\u001b[0m \u001b[0mself\u001b[0m\u001b[1;33m.\u001b[0m\u001b[0morderSubjects\u001b[0m\u001b[1;33m(\u001b[0m\u001b[1;33m)\u001b[0m\u001b[1;33m\u001b[0m\u001b[1;33m\u001b[0m\u001b[0m\n\u001b[0;32m    240\u001b[0m \u001b[1;33m\u001b[0m\u001b[0m\n\u001b[1;32m--> 241\u001b[1;33m         \u001b[0mself\u001b[0m\u001b[1;33m.\u001b[0m\u001b[0mstartDocument\u001b[0m\u001b[1;33m(\u001b[0m\u001b[1;33m)\u001b[0m\u001b[1;33m\u001b[0m\u001b[1;33m\u001b[0m\u001b[0m\n\u001b[0m\u001b[0;32m    242\u001b[0m \u001b[1;33m\u001b[0m\u001b[0m\n\u001b[0;32m    243\u001b[0m         \u001b[0mfirstTime\u001b[0m \u001b[1;33m=\u001b[0m \u001b[1;32mTrue\u001b[0m\u001b[1;33m\u001b[0m\u001b[1;33m\u001b[0m\u001b[0m\n",
      "\u001b[1;32mc:\\Users\\u0094523\\.conda\\envs\\conda_environment3\\lib\\site-packages\\rdflib\\plugins\\serializers\\turtle.py\u001b[0m in \u001b[0;36mstartDocument\u001b[1;34m(self)\u001b[0m\n\u001b[0;32m    304\u001b[0m             \u001b[0mself\u001b[0m\u001b[1;33m.\u001b[0m\u001b[0mwrite\u001b[0m\u001b[1;33m(\u001b[0m\u001b[0mself\u001b[0m\u001b[1;33m.\u001b[0m\u001b[0mindent\u001b[0m\u001b[1;33m(\u001b[0m\u001b[1;33m)\u001b[0m \u001b[1;33m+\u001b[0m \u001b[1;34m\"@base <%s> .\\n\"\u001b[0m \u001b[1;33m%\u001b[0m \u001b[0mself\u001b[0m\u001b[1;33m.\u001b[0m\u001b[0mbase\u001b[0m\u001b[1;33m)\u001b[0m\u001b[1;33m\u001b[0m\u001b[1;33m\u001b[0m\u001b[0m\n\u001b[0;32m    305\u001b[0m         \u001b[1;32mfor\u001b[0m \u001b[0mprefix\u001b[0m\u001b[1;33m,\u001b[0m \u001b[0muri\u001b[0m \u001b[1;32min\u001b[0m \u001b[0mns_list\u001b[0m\u001b[1;33m:\u001b[0m\u001b[1;33m\u001b[0m\u001b[1;33m\u001b[0m\u001b[0m\n\u001b[1;32m--> 306\u001b[1;33m             \u001b[0mself\u001b[0m\u001b[1;33m.\u001b[0m\u001b[0mwrite\u001b[0m\u001b[1;33m(\u001b[0m\u001b[0mself\u001b[0m\u001b[1;33m.\u001b[0m\u001b[0mindent\u001b[0m\u001b[1;33m(\u001b[0m\u001b[1;33m)\u001b[0m \u001b[1;33m+\u001b[0m \u001b[1;34m\"@prefix %s: <%s> .\\n\"\u001b[0m \u001b[1;33m%\u001b[0m \u001b[1;33m(\u001b[0m\u001b[0mprefix\u001b[0m\u001b[1;33m,\u001b[0m \u001b[0muri\u001b[0m\u001b[1;33m)\u001b[0m\u001b[1;33m)\u001b[0m\u001b[1;33m\u001b[0m\u001b[1;33m\u001b[0m\u001b[0m\n\u001b[0m\u001b[0;32m    307\u001b[0m         \u001b[1;32mif\u001b[0m \u001b[0mns_list\u001b[0m \u001b[1;32mand\u001b[0m \u001b[0mself\u001b[0m\u001b[1;33m.\u001b[0m\u001b[0m_spacious\u001b[0m\u001b[1;33m:\u001b[0m\u001b[1;33m\u001b[0m\u001b[1;33m\u001b[0m\u001b[0m\n\u001b[0;32m    308\u001b[0m             \u001b[0mself\u001b[0m\u001b[1;33m.\u001b[0m\u001b[0mwrite\u001b[0m\u001b[1;33m(\u001b[0m\u001b[1;34m\"\\n\"\u001b[0m\u001b[1;33m)\u001b[0m\u001b[1;33m\u001b[0m\u001b[1;33m\u001b[0m\u001b[0m\n",
      "\u001b[1;32mc:\\Users\\u0094523\\.conda\\envs\\conda_environment3\\lib\\site-packages\\rdflib\\plugins\\serializers\\turtle.py\u001b[0m in \u001b[0;36mwrite\u001b[1;34m(self, text)\u001b[0m\n\u001b[0;32m    169\u001b[0m     \u001b[1;32mdef\u001b[0m \u001b[0mwrite\u001b[0m\u001b[1;33m(\u001b[0m\u001b[0mself\u001b[0m\u001b[1;33m,\u001b[0m \u001b[0mtext\u001b[0m\u001b[1;33m)\u001b[0m\u001b[1;33m:\u001b[0m\u001b[1;33m\u001b[0m\u001b[1;33m\u001b[0m\u001b[0m\n\u001b[0;32m    170\u001b[0m         \u001b[1;34m\"\"\"Write text in given encoding.\"\"\"\u001b[0m\u001b[1;33m\u001b[0m\u001b[1;33m\u001b[0m\u001b[0m\n\u001b[1;32m--> 171\u001b[1;33m         \u001b[0mself\u001b[0m\u001b[1;33m.\u001b[0m\u001b[0mstream\u001b[0m\u001b[1;33m.\u001b[0m\u001b[0mwrite\u001b[0m\u001b[1;33m(\u001b[0m\u001b[0mtext\u001b[0m\u001b[1;33m.\u001b[0m\u001b[0mencode\u001b[0m\u001b[1;33m(\u001b[0m\u001b[0mself\u001b[0m\u001b[1;33m.\u001b[0m\u001b[0mencoding\u001b[0m\u001b[1;33m,\u001b[0m \u001b[1;34m\"replace\"\u001b[0m\u001b[1;33m)\u001b[0m\u001b[1;33m)\u001b[0m\u001b[1;33m\u001b[0m\u001b[1;33m\u001b[0m\u001b[0m\n\u001b[0m\u001b[0;32m    172\u001b[0m \u001b[1;33m\u001b[0m\u001b[0m\n\u001b[0;32m    173\u001b[0m \u001b[1;33m\u001b[0m\u001b[0m\n",
      "\u001b[1;31mTypeError\u001b[0m: write() argument must be str, not bytes"
     ]
    }
   ],
   "source": [
    "  #graphPath and subject\n",
    "node=Node('myNode',graphPath=bimGraphPath)\n",
    "print(node.path)\n",
    "print(node.get_path())\n",
    "# self.assertEqual(node.path,os.path.join(ut.get_folder(self.bimGraphPath),node.name + '.txt'))\n",
    "with open(bimGraphPath, 'w') as f:\n",
    "            # base=ut.get_folder(self.graphPath)\n",
    "    node.graph.serialize(f)#,base=base\n",
    "                # if os.path.exists(f):\n",
    "                #     return True\n",
    "                # return False\n"
   ]
  },
  {
   "cell_type": "code",
   "execution_count": 91,
   "metadata": {},
   "outputs": [
    {
     "ename": "AttributeError",
     "evalue": "'Node' object has no attribute '_graph'",
     "output_type": "error",
     "traceback": [
      "\u001b[1;31m---------------------------------------------------------------------------\u001b[0m",
      "\u001b[1;31mAttributeError\u001b[0m                            Traceback (most recent call last)",
      "\u001b[1;32m~\\AppData\\Local\\Temp/ipykernel_11476/3154258149.py\u001b[0m in \u001b[0;36m<module>\u001b[1;34m\u001b[0m\n\u001b[1;32m----> 1\u001b[1;33m \u001b[0mtestnode\u001b[0m\u001b[1;33m=\u001b[0m\u001b[0mNode\u001b[0m\u001b[1;33m(\u001b[0m\u001b[0mgraphPath\u001b[0m\u001b[1;33m=\u001b[0m\u001b[0mtempGraphPath\u001b[0m\u001b[1;33m)\u001b[0m\u001b[1;33m\u001b[0m\u001b[1;33m\u001b[0m\u001b[0m\n\u001b[0m\u001b[0;32m      2\u001b[0m \u001b[0mprint\u001b[0m\u001b[1;33m(\u001b[0m\u001b[0mtestnode\u001b[0m\u001b[1;33m.\u001b[0m\u001b[0msubject\u001b[0m\u001b[1;33m)\u001b[0m\u001b[1;33m\u001b[0m\u001b[1;33m\u001b[0m\u001b[0m\n\u001b[0;32m      3\u001b[0m \u001b[0mprint\u001b[0m\u001b[1;33m(\u001b[0m\u001b[0mtestnode\u001b[0m\u001b[1;33m.\u001b[0m\u001b[0mclassName\u001b[0m\u001b[1;33m)\u001b[0m\u001b[1;33m\u001b[0m\u001b[1;33m\u001b[0m\u001b[0m\n\u001b[0;32m      4\u001b[0m \u001b[0mprint\u001b[0m\u001b[1;33m(\u001b[0m\u001b[0mtestnode\u001b[0m\u001b[1;33m.\u001b[0m\u001b[0msubject\u001b[0m\u001b[1;33m)\u001b[0m\u001b[1;33m\u001b[0m\u001b[1;33m\u001b[0m\u001b[0m\n\u001b[0;32m      5\u001b[0m \u001b[0mprint\u001b[0m\u001b[1;33m(\u001b[0m\u001b[0mtestnode\u001b[0m\u001b[1;33m.\u001b[0m\u001b[0msubject\u001b[0m\u001b[1;33m)\u001b[0m\u001b[1;33m\u001b[0m\u001b[1;33m\u001b[0m\u001b[0m\n",
      "\u001b[1;32md:\\Scan-to-BIM repository\\geomapi\\geomapi\\nodes\\node.py\u001b[0m in \u001b[0;36m__init__\u001b[1;34m(self, subject, graph, graphPath, name, path, timestamp, resource, **kwargs)\u001b[0m\n\u001b[0;32m     71\u001b[0m         \u001b[1;31m#set variables\u001b[0m\u001b[1;33m\u001b[0m\u001b[1;33m\u001b[0m\u001b[1;33m\u001b[0m\u001b[0m\n\u001b[0;32m     72\u001b[0m         \u001b[0mself\u001b[0m\u001b[1;33m.\u001b[0m\u001b[0msubject\u001b[0m\u001b[1;33m=\u001b[0m\u001b[0msubject\u001b[0m\u001b[1;33m\u001b[0m\u001b[1;33m\u001b[0m\u001b[0m\n\u001b[1;32m---> 73\u001b[1;33m         \u001b[0mself\u001b[0m\u001b[1;33m.\u001b[0m\u001b[0mgraphPath\u001b[0m\u001b[1;33m=\u001b[0m\u001b[0mgraphPath\u001b[0m\u001b[1;33m\u001b[0m\u001b[1;33m\u001b[0m\u001b[0m\n\u001b[0m\u001b[0;32m     74\u001b[0m         \u001b[0mself\u001b[0m\u001b[1;33m.\u001b[0m\u001b[0mgraph\u001b[0m\u001b[1;33m=\u001b[0m\u001b[0mgraph\u001b[0m\u001b[1;33m\u001b[0m\u001b[1;33m\u001b[0m\u001b[0m\n\u001b[0;32m     75\u001b[0m         \u001b[0mself\u001b[0m\u001b[1;33m.\u001b[0m\u001b[0mpath\u001b[0m\u001b[1;33m=\u001b[0m\u001b[0mpath\u001b[0m\u001b[1;33m\u001b[0m\u001b[1;33m\u001b[0m\u001b[0m\n",
      "\u001b[1;32md:\\Scan-to-BIM repository\\geomapi\\geomapi\\nodes\\node.py\u001b[0m in \u001b[0;36mgraphPath\u001b[1;34m(self, graphPath)\u001b[0m\n\u001b[0;32m    159\u001b[0m             \u001b[1;32mif\u001b[0m \u001b[0mos\u001b[0m\u001b[1;33m.\u001b[0m\u001b[0mpath\u001b[0m\u001b[1;33m.\u001b[0m\u001b[0mexists\u001b[0m\u001b[1;33m(\u001b[0m\u001b[0mgraphPath\u001b[0m\u001b[1;33m)\u001b[0m\u001b[1;33m:\u001b[0m\u001b[1;33m\u001b[0m\u001b[1;33m\u001b[0m\u001b[0m\n\u001b[0;32m    160\u001b[0m                 \u001b[0mself\u001b[0m\u001b[1;33m.\u001b[0m\u001b[0m_graphPath\u001b[0m\u001b[1;33m=\u001b[0m\u001b[0mgraphPath\u001b[0m\u001b[1;33m\u001b[0m\u001b[1;33m\u001b[0m\u001b[0m\n\u001b[1;32m--> 161\u001b[1;33m                 \u001b[1;32mif\u001b[0m \u001b[0mself\u001b[0m\u001b[1;33m.\u001b[0m\u001b[0m_graph\u001b[0m \u001b[1;32mis\u001b[0m \u001b[1;32mNone\u001b[0m\u001b[1;33m:\u001b[0m\u001b[1;33m\u001b[0m\u001b[1;33m\u001b[0m\u001b[0m\n\u001b[0m\u001b[0;32m    162\u001b[0m                     \u001b[0mself\u001b[0m\u001b[1;33m.\u001b[0m\u001b[0mgraph\u001b[0m\u001b[1;33m=\u001b[0m\u001b[0mGraph\u001b[0m\u001b[1;33m(\u001b[0m\u001b[1;33m)\u001b[0m\u001b[1;33m.\u001b[0m\u001b[0mparse\u001b[0m\u001b[1;33m(\u001b[0m\u001b[0mgraphPath\u001b[0m\u001b[1;33m)\u001b[0m\u001b[1;33m\u001b[0m\u001b[1;33m\u001b[0m\u001b[0m\n\u001b[0;32m    163\u001b[0m \u001b[1;33m\u001b[0m\u001b[0m\n",
      "\u001b[1;31mAttributeError\u001b[0m: 'Node' object has no attribute '_graph'"
     ]
    }
   ],
   "source": [
    "testnode=Node(graphPath=tempGraphPath)\n",
    "print(testnode.subject)\n",
    "print(testnode.className)\n",
    "print(testnode.subject)\n",
    "print(testnode.subject)\n",
    "print(testnode.subject)\n"
   ]
  },
  {
   "cell_type": "code",
   "execution_count": 25,
   "metadata": {},
   "outputs": [
    {
     "name": "stdout",
     "output_type": "stream",
     "text": [
      "D:\\Scan-to-BIM repository\\geomapi\\test\\testfiles\n",
      "d:\\Scan-to-BIM repository\\geomapi\\ifcfile.ifc\n",
      "d:\\Scan-to-BIM repository\\geomapi\\ifcfile.ifc\n"
     ]
    }
   ],
   "source": [
    "string='d:\\\\Scan-to-BIM repository\\\\geomapi\\\\test\\\\testfiles\\\\resources'\n",
    "test=ut.get_folder(string)\n",
    "print(test)\n",
    "path='..\\\\ifcfile.ifc'\n",
    "qsdf=path.strip('..\\\\')\n",
    "qsdf=os.path.abspath(path)\n",
    "print(qsdf)\n",
    "print(os.path.join(test,qsdf))"
   ]
  },
  {
   "cell_type": "code",
   "execution_count": 6,
   "metadata": {},
   "outputs": [
    {
     "ename": "",
     "evalue": "",
     "output_type": "error",
     "traceback": [
      "\u001b[1;31mCanceled future for execute_request message before replies were done"
     ]
    },
    {
     "ename": "",
     "evalue": "",
     "output_type": "error",
     "traceback": [
      "\u001b[1;31mThe Kernel crashed while executing code in the the current cell or a previous cell. Please review the code in the cell(s) to identify a possible cause of the failure. Click <a href='https://aka.ms/vscodeJupyterKernelCrash'>here</a> for more info. View Jupyter <a href='command:jupyter.viewOutput'>log</a> for further details."
     ]
    }
   ],
   "source": [
    "#node with only subject\n",
    "subject='myNode'\n",
    "testpath=os.path.join(resourcePath,'myNode.ttl')\n",
    "myNode= Node(subject=subject,myFloat=0.1)\n",
    "myNode.to_graph(testpath,save=True)\n",
    "testnode=Node(graphPath=testpath)#graphPath=testpath\n",
    "print(testnode.subject)\n",
    "print(myNode.subject)\n"
   ]
  },
  {
   "cell_type": "code",
   "execution_count": 9,
   "metadata": {},
   "outputs": [
    {
     "name": "stdout",
     "output_type": "stream",
     "text": [
      "file:///myNode\n",
      "file:///myNode\n",
      "@prefix v4d: <https://w3id.org/v4d/core#> .\n",
      "@prefix xsd: <http://www.w3.org/2001/XMLSchema#> .\n",
      "\n",
      "<file:///myNode> a v4d:Node ;\n",
      "    v4d:myFloat \"0.1\"^^xsd:float ;\n",
      "    v4d:myNewRemark \"myNewRemark\" ;\n",
      "    v4d:name \"myNode\" .\n",
      "\n",
      "\n"
     ]
    }
   ],
   "source": [
    "testpath=os.path.join(resourcePath,'myNode.ttl')\n",
    "\n",
    "#node with a graph and some kwargs\n",
    "test = Graph().parse(testpath)\n",
    "myNode= Node(graph=test,myNewRemark='myNewRemark',myFloat=0.1)        \n",
    "myNode.to_graph(testpath,save=True)\n",
    "testnode=Node(graphPath=testpath)\n",
    "\n",
    "print(testnode.subject)\n",
    "print(myNode.subject)\n",
    "print(testnode.graph.serialize())"
   ]
  },
  {
   "cell_type": "code",
   "execution_count": 12,
   "metadata": {},
   "outputs": [
    {
     "name": "stdout",
     "output_type": "stream",
     "text": [
      "@prefix e57: <http://libe57.org#> .\n",
      "@prefix exif: <http://www.w3.org/2003/12/exif/ns#> .\n",
      "@prefix v4d: <https://w3id.org/v4d/core#> .\n",
      "@prefix xsd: <http://www.w3.org/2001/XMLSchema#> .\n",
      "\n",
      "<file:///d:/Scan-to-BIM%20repository/geomapi/test/testfiles/101_0366_0036> a \"<class 'geomapi.nodes.imagenode.ImageNode'>\" ;\n",
      "    e57:cartesianTransform \"\"\"[[-9.01077021e-01 -4.33659085e-01  0.00000000e+00  6.00575993e+05]\n",
      " [ 4.33659085e-01 -9.01077021e-01  0.00000000e+00  6.96281654e+05]\n",
      " [ 0.00000000e+00  0.00000000e+00  1.00000000e+00  3.13845765e+01]\n",
      " [ 0.00000000e+00  0.00000000e+00  0.00000000e+00  1.00000000e+00]]\"\"\" ;\n",
      "    exif:imageHeight \"3648.0\"^^xsd:float ;\n",
      "    exif:imageWidth \"5472.0\"^^xsd:float ;\n",
      "    v4d:name \"101_0366_0036\" ;\n",
      "    v4d:path \"..\\\\..\\\\tests\\\\Samples10\\\\101_0366_0036.jpg\" ;\n",
      "    v4d:sxy \"0.02\" ;\n",
      "    v4d:sz \"0.05\" ;\n",
      "    v4d:xmlIndex \"0\" ;\n",
      "    v4d:xmlPath \"..\\\\..\\\\tests\\\\Samples10\\\\ReferenceLAMBERT08_TAW.xml\" .\n",
      "\n",
      "\n"
     ]
    },
    {
     "ename": "AttributeError",
     "evalue": "'Graph' object has no attribute 'exif'",
     "output_type": "error",
     "traceback": [
      "\u001b[1;31m---------------------------------------------------------------------------\u001b[0m",
      "\u001b[1;31mAttributeError\u001b[0m                            Traceback (most recent call last)",
      "\u001b[1;32m~\\AppData\\Local\\Temp/ipykernel_5224/1466407104.py\u001b[0m in \u001b[0;36m<module>\u001b[1;34m\u001b[0m\n\u001b[0;32m      6\u001b[0m \u001b[0mprint\u001b[0m\u001b[1;33m(\u001b[0m\u001b[0mnode\u001b[0m\u001b[1;33m.\u001b[0m\u001b[0mgraph\u001b[0m\u001b[1;33m.\u001b[0m\u001b[0mserialize\u001b[0m\u001b[1;33m(\u001b[0m\u001b[1;33m)\u001b[0m\u001b[1;33m)\u001b[0m\u001b[1;33m\u001b[0m\u001b[1;33m\u001b[0m\u001b[0m\n\u001b[0;32m      7\u001b[0m \u001b[1;31m# self.assertEqual(node.subject.toPython(),subject.toPython())\u001b[0m\u001b[1;33m\u001b[0m\u001b[1;33m\u001b[0m\u001b[1;33m\u001b[0m\u001b[0m\n\u001b[1;32m----> 8\u001b[1;33m \u001b[0mobject\u001b[0m\u001b[1;33m=\u001b[0m\u001b[0mnode\u001b[0m\u001b[1;33m.\u001b[0m\u001b[0mgraph\u001b[0m\u001b[1;33m.\u001b[0m\u001b[0mvalue\u001b[0m\u001b[1;33m(\u001b[0m\u001b[0msubject\u001b[0m\u001b[1;33m,\u001b[0m\u001b[0mnode\u001b[0m\u001b[1;33m.\u001b[0m\u001b[0mgraph\u001b[0m\u001b[1;33m.\u001b[0m\u001b[0mexif\u001b[0m\u001b[1;33m[\u001b[0m\u001b[1;34m'imageHeight'\u001b[0m\u001b[1;33m]\u001b[0m\u001b[1;33m)\u001b[0m\u001b[1;33m\u001b[0m\u001b[1;33m\u001b[0m\u001b[0m\n\u001b[0m\u001b[0;32m      9\u001b[0m \u001b[0mprint\u001b[0m\u001b[1;33m(\u001b[0m\u001b[0mobject\u001b[0m\u001b[1;33m)\u001b[0m\u001b[1;33m\u001b[0m\u001b[1;33m\u001b[0m\u001b[0m\n\u001b[0;32m     10\u001b[0m \u001b[1;31m# self.assertEqual(node.imageHeight,object.toPython())\u001b[0m\u001b[1;33m\u001b[0m\u001b[1;33m\u001b[0m\u001b[1;33m\u001b[0m\u001b[0m\n",
      "\u001b[1;31mAttributeError\u001b[0m: 'Graph' object has no attribute 'exif'"
     ]
    }
   ],
   "source": [
    "graph=imgGraph\n",
    "graphPath=imgGraphPath\n",
    "subject=[s for s in graph.subjects() if '101_0366_0036' in s]\n",
    "node= Node(subject=subject[0],graphPath=graphPath)\n",
    "node.to_graph()\n",
    "print(node.graph.serialize())\n",
    "# assertEqual(node.subject.toPython(),subject.toPython())\n",
    "object=node.graph.value(subject,node.graph.exif['imageHeight'])\n",
    "print(object)\n",
    "# assertEqual(node.imageHeight,object.toPython())"
   ]
  },
  {
   "cell_type": "code",
   "execution_count": 11,
   "metadata": {},
   "outputs": [
    {
     "name": "stdout",
     "output_type": "stream",
     "text": [
      "http://IMG_2173\n",
      "http://IMG_2173\n",
      "IMG_2173\n",
      "{b9c3f2e1-aea0-11ec-b2d9-a86daaa4a624}\n"
     ]
    }
   ],
   "source": [
    "graph=testNodeGraph\n",
    "graphPath=testNodeGraphPath\n",
    "subject=next(graph.subjects())\n",
    "node= Node(graphPath=graphPath)\n",
    "node.to_graph(testpath,save=True)\n",
    "print(subject)\n",
    "print(node.subject)\n",
    "\n",
    "print(node.name)\n",
    "print(graph.value(subject,RDFS.label))\n",
    "# assertEqual(node.subject.toPython(),subject.toPython())\n",
    "# object=graph.value(subject,RDFS.label)\n",
    "# assertEqual(node.name,object.toPython())\n"
   ]
  },
  {
   "cell_type": "code",
   "execution_count": 13,
   "metadata": {},
   "outputs": [
    {
     "data": {
      "text/plain": [
       "<Graph identifier=N3d8027e746604e07825fa7c3412b9785 (<class 'rdflib.graph.Graph'>)>"
      ]
     },
     "execution_count": 13,
     "metadata": {},
     "output_type": "execute_result"
    }
   ],
   "source": [
    "#test save\n",
    "newGraphPath=os.path.join(path,'resources','testGraph.ttl')\n",
    "node=Node(graph=testGraph)\n",
    "node.to_graph(graphPath=newGraphPath,save=True)     \n",
    "\n",
    "# assertTrue(os.path.exists(newGraphPath))\n",
    "# newGraph=Graph().parse(newGraphPath)\n",
    "# assertEqual(len(newGraph),len(node.graph))"
   ]
  },
  {
   "cell_type": "code",
   "execution_count": 111,
   "metadata": {},
   "outputs": [
    {
     "name": "stdout",
     "output_type": "stream",
     "text": [
      "[1 2 3]\n",
      "<class 'numpy.ndarray'>\n"
     ]
    }
   ],
   "source": [
    "value=np.array([1,2,3])\n",
    "dataType=ut.get_data_type(value)\n",
    "test=Literal(value)#,datatype=dataType\n",
    "print(test.toPython())\n",
    "print(type(test.toPython()))"
   ]
  },
  {
   "cell_type": "code",
   "execution_count": 22,
   "metadata": {},
   "outputs": [
    {
     "data": {
      "text/plain": [
       "<Graph identifier=Nce348909082040f2b264ba63d2442c36 (<class 'rdflib.graph.Graph'>)>"
      ]
     },
     "execution_count": 22,
     "metadata": {},
     "output_type": "execute_result"
    }
   ],
   "source": [
    "newGraph=Graph()\n",
    "value=0.1\n",
    "dataType=ut.get_data_type(value)\n",
    "v4d=rdflib.Namespace('https://w3id.org/v4d/core#')\n",
    "sub=URIRef('http://myNode')\n",
    "newGraph.add((sub, v4d['type'], Literal('qsdfsdqf') ))\n",
    "newGraph.add((sub, v4d['test'], Literal(1,datatype=dataType)))\n",
    "newGraph.serialize(testpath)\n",
    "\n"
   ]
  },
  {
   "cell_type": "code",
   "execution_count": 37,
   "metadata": {},
   "outputs": [
    {
     "name": "stdout",
     "output_type": "stream",
     "text": [
      "<class 'float'>\n"
     ]
    }
   ],
   "source": [
    "test=Graph().parse(testpath)\n",
    "v4d=rdflib.Namespace('https://w3id.org/v4d/core#')\n",
    "\n",
    "qsdf=test.value(next(test.subjects()),v4d['myFloat'])\n",
    "uytr=qsdf.toPython()\n",
    "print(type(uytr))"
   ]
  }
 ],
 "metadata": {
  "interpreter": {
   "hash": "801b4083378541fd050d6c91abf6ec053c863905e8162e031d57b83e7cdb3051"
  },
  "kernelspec": {
   "display_name": "Python 3.8.13 ('conda_environment3')",
   "language": "python",
   "name": "python3"
  },
  "language_info": {
   "codemirror_mode": {
    "name": "ipython",
    "version": 3
   },
   "file_extension": ".py",
   "mimetype": "text/x-python",
   "name": "python",
   "nbconvert_exporter": "python",
   "pygments_lexer": "ipython3",
   "version": "3.8.13"
  },
  "orig_nbformat": 4,
  "vscode": {
   "interpreter": {
    "hash": "832bf5fd5c6660b37dd2a90a45a57b02f877bb0a297fe89ca9c261a7f9e32997"
   }
  }
 },
 "nbformat": 4,
 "nbformat_minor": 2
}

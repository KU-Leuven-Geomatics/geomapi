{
 "cells": [
  {
   "cell_type": "markdown",
   "metadata": {},
   "source": [
    "# ROOF RECONSTRUCTION ENRICHMENT"
   ]
  },
  {
   "cell_type": "markdown",
   "metadata": {},
   "source": [
    "## ADD LIBRARIES"
   ]
  },
  {
   "cell_type": "code",
   "execution_count": 1,
   "metadata": {},
   "outputs": [
    {
     "name": "stdout",
     "output_type": "stream",
     "text": [
      "Jupyter environment detected. Enabling Open3D WebVisualizer.\n",
      "[Open3D INFO] WebRTC GUI backend enabled.\n",
      "[Open3D INFO] WebRTCWindowSystem: HTTP handshake server disabled.\n"
     ]
    }
   ],
   "source": [
    "\n",
    "#IMPORT PACKAGES\n",
    "import rdflib\n",
    "from rdflib import Graph, URIRef,Namespace, Literal, OWL,RDFS, RDF, XSD,RDFS\n",
    "\n",
    "import os.path\n",
    "import importlib\n",
    "import numpy as np\n",
    "import xml.etree.ElementTree as ET\n",
    "import open3d as o3d\n",
    "import uuid    \n",
    "import pye57 \n",
    "import ifcopenshell\n",
    "import ifcopenshell.geom as geom\n",
    "import ifcopenshell.util\n",
    "import ifcopenshell.util.selector\n",
    "import random as rd\n",
    "import pandas as pd\n",
    "import cv2\n",
    "from pathlib import Path\n",
    "import pye57\n",
    "import laspy\n",
    "import copy\n",
    "import datetime\n",
    "import ezdxf \n",
    "from PIL import Image, ImageDraw, ImageFont\n",
    "from scipy.spatial.transform import Rotation as R\n",
    "import matplotlib.pyplot as plt\n",
    "from collections import Counter\n",
    "import json\n",
    "#IMPORT MODULES\n",
    "from context import geomapi \n",
    "from geomapi.nodes import *\n",
    "import geomapi.utils as ut\n",
    "from geomapi.utils import geometryutils as gmu\n",
    "import geomapi.utils.cadutils as cadu\n",
    "import geomapi.utils.imageutils as iu\n",
    "import geomapi.tools as tl\n",
    "import sys\n"
   ]
  },
  {
   "cell_type": "markdown",
   "metadata": {},
   "source": [
    "## ADD DATA"
   ]
  },
  {
   "cell_type": "code",
   "execution_count": 2,
   "metadata": {},
   "outputs": [
    {
     "name": "stderr",
     "output_type": "stream",
     "text": [
      "c:\\Users\\u0094523\\.conda\\envs\\geomapi_dev\\lib\\site-packages\\PIL\\Image.py:3368: DecompressionBombWarning: Image size (103680000 pixels) exceeds limit of 89478485 pixels, could be decompression bomb DOS attack.\n",
      "  warnings.warn(\n"
     ]
    }
   ],
   "source": [
    "#path\n",
    "path=Path('V:/Studenten/Thesis/Eline Deblock/data/hoekpand')\n",
    "\n",
    "#images\n",
    "panoPath = path / 'WE973UB5.jfif'\n",
    "pano = Image.open(panoPath)\n",
    "#convert to numpy array\n",
    "camJsonPath = path /'cam_json.json'\n",
    "with open(camJsonPath) as f:\n",
    "    camJson = json.load(f)\n",
    "\n",
    "#pointcloud -> this was already geolocated\n",
    "lasPath = path / \"street_lidar.laz\"\n",
    "las = laspy.read(lasPath)\n",
    "pcd=gmu.las_to_pcd(las)\n",
    "\n",
    "\n",
    "\n",
    "#mesh\n",
    "meshPath = path / \"referentie_mesh_remapped_z.obj\" #this mesh was resaved with Rhino7 to remap the Y to Z axis \n",
    "mesh = o3d.io.read_triangle_mesh(str(meshPath))\n",
    "meshRelocation=np.array([[-0.559193, -0.829038, 0.000000 ,19.037735],\n",
    "                            [0.829038, -0.559193, 0.000000, 27.333549],\n",
    "                            [0.000000 ,0.000000, 1.000000, 20.909252],\n",
    "                            [0.000000, 0.000000, 0.000000, 1.000000]]) # this relocation was performed in CC\n",
    "mesh.transform(meshRelocation)\n",
    "offsetX=72800.00\n",
    "offsetY=167550.00\n",
    "mesh.translate([offsetX,offsetY,0])\n",
    "\n",
    "#cityjson\n",
    "cityjsonPath = path / \"cityjson.json\"\n",
    "with open(cityjsonPath) as f:\n",
    "    cityjson = json.load(f)\n",
    "    cityObjects = cityjson.get(\"CityObjects\", {})\n"
   ]
  },
  {
   "cell_type": "code",
   "execution_count": 3,
   "metadata": {},
   "outputs": [
    {
     "name": "stdout",
     "output_type": "stream",
     "text": [
      "[Open3D WARNING] GLFW Error: WGL: Failed to make context current: The handle is invalid. \n"
     ]
    }
   ],
   "source": [
    "#show mesh and pcd\n",
    "o3d.visualization.draw_geometries([mesh,pcd])"
   ]
  },
  {
   "cell_type": "markdown",
   "metadata": {},
   "source": [
    "## PARSE CITYJSON \n"
   ]
  },
  {
   "cell_type": "markdown",
   "metadata": {},
   "source": [
    "This parsing is not so straightfoward because meshes can both contain triangle (3 vertices) and multisurface (n vertices) geometries.\n",
    "However, this geometry is optional if you have the Cloucompare obj meshes which are already triangulated."
   ]
  },
  {
   "cell_type": "code",
   "execution_count": null,
   "metadata": {},
   "outputs": [],
   "source": [
    "# from scipy.spatial import Delaunay\n",
    "# from shapely.geometry import Polygon, MultiPolygon\n",
    "# from shapely.ops import triangulate\n",
    "\n",
    "# #get all vertices\n",
    "# vertices = np.array(cityjson.get(\"vertices\", []))\n",
    "\n",
    "# #get all objects\n",
    "# objects = []\n",
    "# for obj_id, obj_data in city_objects.items():\n",
    "#     geometries = obj_data.get(\"geometry\")[0]\n",
    "#     # print(geometries)\n",
    "#     if geometries.get(\"lod\") == \"1.2\": #let's take lod1.2 for now\n",
    "#         print(geometries)\n",
    "#         vertex_counter = Counter()\n",
    "#         boundaries=geometries.get(\"boundaries\")[0]\n",
    "#         for boundary in boundaries:\n",
    "#             boundary = boundary[0]\n",
    "#             points = np.array([vertices[i] for i in boundary])\n",
    "#             print(boundary)\n",
    "\n",
    "#             if len(boundary)==3: #triangle\n",
    "#                 #increase counter by 3\n",
    "#                 vertex_counter.update(boundary)\n",
    "#                 #get triangle based on counter values\n",
    "#                 points = np.array([vertices[i] for i in vertex_counter.keys()])\n",
    "                \n",
    "#             if len(boundary)>3: #multisurface\n",
    "#                 print('multi_surface')\n",
    "#                 #triangulate the multisurface using schipy delaynay triangulation\n",
    "\n",
    "#         print(boundaries[0])"
   ]
  },
  {
   "cell_type": "markdown",
   "metadata": {},
   "source": [
    "instead, just use the mesh and select the proper city_object with an lod1.2 geometry\n"
   ]
  },
  {
   "cell_type": "code",
   "execution_count": 5,
   "metadata": {},
   "outputs": [
    {
     "name": "stdout",
     "output_type": "stream",
     "text": [
      "object_id: 1-0\n",
      "attributes  :  {}\n",
      "geometry  :  [{'boundaries': [[[[10, 11, 12, 13, 14, 15, 16, 17, 18, 19, 20, 21, 22, 23, 24, 25, 26, 27, 28, 29, 30, 31, 32, 33, 34, 35, 36, 37, 38, 39, 40, 41, 42, 43, 44, 45, 46, 47, 48, 49, 50, 51, 52, 53, 54, 55, 56, 57, 58, 59, 60, 61, 62, 63, 64, 65, 66, 67, 68, 69]], [[70, 28, 27, 71]], [[72, 55, 54, 73]], [[73, 54, 53, 74]], [[75, 29, 28, 70]], [[76, 24, 23, 77]], [[78, 30, 29, 75]], [[79, 26, 25, 80]], [[81, 15, 14, 82]], [[83, 65, 64, 84]], [[85, 20, 19, 86]], [[71, 27, 26, 79]], [[87, 69, 68, 88]], [[89, 32, 31, 90]], [[80, 25, 24, 76]], [[91, 59, 58, 92]], [[93, 57, 56, 94]], [[94, 56, 55, 72]], [[84, 64, 63, 95]], [[96, 62, 61, 97]], [[98, 45, 44, 99]], [[99, 44, 43, 100]], [[100, 43, 42, 101]], [[101, 42, 41, 102]], [[103, 10, 69, 87]], [[104, 48, 47, 105]], [[92, 58, 57, 93]], [[106, 12, 11, 107]], [[108, 16, 15, 81]], [[82, 14, 13, 109]], [[110, 33, 32, 89]], [[111, 38, 37, 112]], [[86, 19, 18, 113]], [[114, 52, 51, 115]], [[74, 53, 52, 114]], [[116, 40, 39, 117]], [[117, 39, 38, 111]], [[118, 36, 35, 119]], [[112, 37, 36, 118]], [[120, 34, 33, 110]], [[119, 35, 34, 120]], [[121, 67, 66, 122]], [[122, 66, 65, 83]], [[95, 63, 62, 96]], [[102, 41, 40, 116]], [[77, 23, 22, 123]], [[109, 13, 12, 106]], [[115, 51, 50, 124]], [[125, 49, 48, 104]], [[126, 17, 16, 108]], [[90, 31, 30, 78]], [[123, 22, 21, 127]], [[127, 21, 20, 85]], [[97, 61, 60, 128]], [[128, 60, 59, 91]], [[124, 50, 49, 125]], [[107, 11, 10, 103]], [[129, 46, 45, 98]], [[105, 47, 46, 129]], [[113, 18, 17, 126]], [[88, 68, 67, 121]], [[85, 86, 113, 126, 108, 81, 82, 109, 106, 107, 103, 87, 88, 121, 122, 83, 84, 95, 96, 97, 128, 91, 92, 93, 94, 72, 73, 74, 114, 115, 124, 125, 104, 105, 129, 98, 99, 100, 101, 102, 116, 117, 111, 112, 118, 119, 120, 110, 89, 90, 78, 75, 70, 71, 79, 80, 76, 77, 123, 127]]]], 'lod': '1.2', 'semantics': {'surfaces': [{'type': 'GroundSurface'}, {'type': 'RoofSurface'}, {'on_footprint_edge': True, 'type': 'WallSurface'}, {'on_footprint_edge': False, 'type': 'WallSurface'}], 'values': [[0, 2, 2, 2, 2, 2, 2, 2, 2, 2, 2, 2, 2, 2, 2, 2, 2, 2, 2, 2, 2, 2, 2, 2, 2, 2, 2, 2, 2, 2, 2, 2, 2, 2, 2, 2, 2, 2, 2, 2, 2, 2, 2, 2, 2, 2, 2, 2, 2, 2, 2, 2, 2, 2, 2, 2, 2, 2, 2, 2, 2, 1]]}, 'type': 'Solid'}, {'boundaries': [[[[10, 11, 12, 13, 14, 15, 16, 17, 18, 19, 20, 21, 22, 23, 24, 25, 26, 27, 28, 29, 30, 31, 32, 33, 34, 35, 36, 37, 38, 39, 40, 41, 42, 43, 44, 45, 46, 47, 48, 49, 50, 51, 52, 53, 54, 55, 56, 57, 58, 59, 60, 61, 62, 63, 64, 65, 66, 67, 68, 69]], [[130, 28, 27, 131]], [[132, 55, 54, 133]], [[133, 54, 53, 134]], [[135, 136, 29, 28, 130]], [[137, 138, 136, 135]], [[139, 24, 23, 140]], [[141, 30, 29, 136]], [[142, 143, 144, 145]], [[146, 26, 25, 147]], [[148, 15, 14, 149]], [[150, 65, 64, 151]], [[152, 153, 154, 155]], [[155, 154, 156, 157]], [[158, 159, 160, 161]], [[161, 160, 143, 142]], [[162, 20, 19, 163]], [[131, 27, 26, 146]], [[164, 69, 68, 165]], [[166, 32, 31, 167]], [[147, 25, 24, 139]], [[168, 169, 170, 171]], [[172, 59, 58, 173]], [[174, 57, 56, 175]], [[175, 56, 55, 132]], [[151, 64, 63, 176]], [[145, 144, 177, 178]], [[178, 177, 62, 61, 179]], [[180, 45, 44, 181]], [[181, 44, 43, 182]], [[182, 43, 42, 183]], [[183, 42, 41, 184]], [[185, 10, 69, 164]], [[186, 48, 47, 187]], [[173, 58, 57, 174]], [[188, 12, 11, 189]], [[190, 16, 15, 148]], [[149, 14, 13, 191]], [[192, 33, 32, 166]], [[193, 38, 37, 194]], [[163, 19, 18, 195]], [[196, 52, 51, 197]], [[134, 53, 52, 196]], [[198, 40, 39, 199]], [[199, 39, 38, 193]], [[200, 36, 35, 201]], [[194, 37, 36, 200]], [[202, 34, 33, 192, 203]], [[201, 35, 34, 202]], [[204, 205, 206, 207]], [[203, 192, 208, 209]], [[210, 67, 66, 211, 212]], [[212, 211, 153, 152]], [[211, 66, 65, 150]], [[176, 63, 62, 177]], [[184, 41, 40, 198]], [[140, 23, 22, 213]], [[191, 13, 12, 188]], [[197, 51, 50, 214]], [[215, 49, 48, 186]], [[216, 17, 16, 190]], [[171, 170, 138, 137]], [[209, 208, 217, 218]], [[207, 206, 169, 168]], [[218, 217, 219, 220]], [[167, 31, 30, 141]], [[220, 219, 205, 204]], [[213, 22, 21, 221]], [[221, 21, 20, 162]], [[179, 61, 60, 222]], [[222, 60, 59, 172]], [[214, 50, 49, 215]], [[189, 11, 10, 185]], [[223, 46, 45, 180]], [[187, 47, 46, 223]], [[195, 18, 17, 216]], [[165, 68, 67, 210]], [[157, 156, 159, 158]], [[215, 186, 187, 223, 180, 181, 182, 183, 184, 198, 199, 193, 194, 200, 201, 202, 203, 209, 218, 220, 204, 207, 168, 171, 137, 135, 130, 131, 146, 147, 139, 140, 213, 221, 162, 163, 195, 216, 190, 148, 149, 191, 188, 189, 185, 164, 165, 210, 212, 152, 155, 157, 158, 161, 142, 145, 178, 179, 222, 172, 173, 174, 175, 132, 133, 134, 196, 197, 214]], [[176, 177, 144, 143, 160, 159, 156, 154, 153, 211, 150, 151]], [[217, 208, 192, 166, 167, 141, 136, 138, 170, 169, 206, 205, 219]]]], 'lod': '1.3', 'semantics': {'surfaces': [{'type': 'GroundSurface'}, {'type': 'RoofSurface'}, {'on_footprint_edge': True, 'type': 'WallSurface'}, {'on_footprint_edge': False, 'type': 'WallSurface'}], 'values': [[0, 2, 2, 2, 2, 3, 2, 2, 3, 2, 2, 2, 3, 3, 3, 3, 2, 2, 2, 2, 2, 3, 2, 2, 2, 2, 3, 2, 2, 2, 2, 2, 2, 2, 2, 2, 2, 2, 2, 2, 2, 2, 2, 2, 2, 2, 2, 2, 2, 3, 3, 2, 3, 2, 2, 2, 2, 2, 2, 2, 2, 3, 3, 3, 3, 2, 3, 2, 2, 2, 2, 2, 2, 2, 2, 2, 2, 3, 1, 1, 1]]}, 'type': 'Solid'}]\n",
      "parents  :  ['1']\n",
      "type  :  BuildingPart\n"
     ]
    }
   ],
   "source": [
    "\n",
    "for obj_id, obj_data in cityObjects.items():\n",
    "    geometries = obj_data.get(\"geometry\")[0]\n",
    "    if geometries.get(\"lod\") == \"1.2\": #let's take lod1.2 for now\n",
    "        print('object_id: '+obj_id)\n",
    "        city_object=cityObjects[obj_id]\n",
    "        #print city_object attributes per line\n",
    "        for key, value in city_object.items():\n",
    "            print(key, ' : ', value)\n",
    "        break\n"
   ]
  },
  {
   "cell_type": "markdown",
   "metadata": {},
   "source": [
    "## PARSE IMAGES"
   ]
  },
  {
   "cell_type": "markdown",
   "metadata": {},
   "source": [
    "let's parse only 1 image"
   ]
  },
  {
   "cell_type": "code",
   "execution_count": 6,
   "metadata": {},
   "outputs": [
    {
     "name": "stdout",
     "output_type": "stream",
     "text": [
      "{'_depthPath': None, '_depthMap': None, '_imageWidth': 14400, '_imageHeight': 7200, '_jsonPath': None, '_resource': array([[[254, 255, 255],\n",
      "        [254, 255, 255],\n",
      "        [254, 255, 255],\n",
      "        ...,\n",
      "        [254, 255, 255],\n",
      "        [254, 255, 255],\n",
      "        [254, 255, 255]],\n",
      "\n",
      "       [[254, 255, 255],\n",
      "        [254, 255, 255],\n",
      "        [254, 255, 255],\n",
      "        ...,\n",
      "        [254, 255, 255],\n",
      "        [254, 255, 255],\n",
      "        [254, 255, 255]],\n",
      "\n",
      "       [[254, 255, 255],\n",
      "        [254, 255, 255],\n",
      "        [254, 255, 255],\n",
      "        ...,\n",
      "        [254, 255, 255],\n",
      "        [254, 255, 255],\n",
      "        [254, 255, 255]],\n",
      "\n",
      "       ...,\n",
      "\n",
      "       [[128, 128, 128],\n",
      "        [128, 128, 128],\n",
      "        [128, 128, 128],\n",
      "        ...,\n",
      "        [128, 128, 128],\n",
      "        [128, 128, 128],\n",
      "        [128, 128, 128]],\n",
      "\n",
      "       [[128, 128, 128],\n",
      "        [128, 128, 128],\n",
      "        [128, 128, 128],\n",
      "        ...,\n",
      "        [128, 128, 128],\n",
      "        [128, 128, 128],\n",
      "        [128, 128, 128]],\n",
      "\n",
      "       [[128, 128, 128],\n",
      "        [128, 128, 128],\n",
      "        [128, 128, 128],\n",
      "        ...,\n",
      "        [128, 128, 128],\n",
      "        [128, 128, 128],\n",
      "        [128, 128, 128]]], dtype=uint8), '_path': None, '_subject': rdflib.term.URIRef('http://WE973UB5'), '_cartesianTransform': array([[ 9.99889959e-01,  1.81667346e-18, -1.48347545e-02,\n",
      "         7.28278100e+04],\n",
      "       [ 0.00000000e+00, -1.00000000e+00, -1.22460635e-16,\n",
      "         1.67573820e+05],\n",
      "       [-1.48347545e-02,  1.22447160e-16, -9.99889959e-01,\n",
      "         2.51100000e+01],\n",
      "       [ 0.00000000e+00,  0.00000000e+00,  0.00000000e+00,\n",
      "         1.00000000e+00]]), '_name': 'WE973UB5', '_graphPath': None, '_timestamp': '2024-12-02T16:03:23', '_graph': None, '_orientedBoundingBox': OrientedBoundingBox: center: (72827.8, 167574, 25.11), extent: 1, 0.999078, 0.999078), '_convexHull': TriangleMesh with 762 points and 1520 triangles., 'accuracy': 0.01, 'coordinaatSysteem': 'EPSG:31370 - Belge 1972 / Belgian Lambert 72', 'hoogteSysteem': 5710, 'cameraHoogte': None}\n"
     ]
    }
   ],
   "source": [
    "for imgId, properties in camJson.items():\n",
    "    #Let's create an ImageNode\n",
    "    \n",
    "    # for key, value in properties.items():\n",
    "        # print(key, ' : ', value)\n",
    "        #add these values to the imgNode object\n",
    "        # setattr(imgNode,key,value)\n",
    "        \n",
    "    #create rotation matrix from the yaw+heading with the heading in the direction of the X axis\n",
    "    #rotation matrix\n",
    "    # R_yaw = R.from_euler('z', properties.get('Yaw')+properties.get('Heading'), degrees=True).as_matrix()\n",
    "    # R_roll = R.from_euler('y', -properties.get('Yaw'), degrees=True).as_matrix()\n",
    "    \n",
    "    \n",
    "    R_yaw = R.from_euler('z',0, degrees=True).as_matrix() # properties.get('Heading')\n",
    "    R_roll = R.from_euler('y', +0.85, degrees=True).as_matrix()  #90 #0\n",
    "    R_pitch = R.from_euler('x', 180, degrees=True).as_matrix() #90 #90\n",
    "    \n",
    "    R_total = R_yaw @ R_roll @ R_pitch \n",
    "    \n",
    "    \n",
    "    # R_total = R_yaw #transpose the matrix to get the correct orientation\n",
    "    #get cartesian transform (4x4) from the translation and rotation matrix\n",
    "    cartesianTransform=gmu.get_cartesian_transform(translation=[properties.get('X'),properties.get('Y'),properties.get('Z')+2.07],rotation=R_total)\n",
    "\n",
    "    #create a PanoNode with all these properties\n",
    "    imgNode=PanoNode(name=imgId,resource=pano,cartesianTransform=cartesianTransform)  \n",
    "    imgNode.accuracy=0.01\n",
    "    imgNode.coordinaatSysteem=properties.get('Coordinaatsysteem')\n",
    "    imgNode.hoogteSysteem=properties.get('Hoogtesysteem')\n",
    "    imgNode.cameraHoogte=properties.get('Camerahoogte')\n",
    "    \n",
    "    #run these functions to get the image width and height -> these were not updated for some reason\n",
    "    imgNode.imageWidth\n",
    "    imgNode.imageHeight\n",
    "\n",
    "#print imgNode attributes\n",
    "print(imgNode.__dict__)"
   ]
  },
  {
   "cell_type": "markdown",
   "metadata": {},
   "source": [
    "let's project some rays to evaluate the heading"
   ]
  },
  {
   "cell_type": "code",
   "execution_count": 8,
   "metadata": {},
   "outputs": [],
   "source": [
    "rays=imgNode.create_rays()\n",
    "lineset=gmu.rays_to_lineset(rays)\n",
    "#color first line green\n",
    "colors=np.zeros((6,3))\n",
    "colors[0]=[0,1,0] \n",
    "lineset.colors=o3d.cpu.pybind.utility.Vector3dVector(colors)\n",
    "imgNode.lineSet=lineset\n",
    "# show image cone, mesh and pcd and lineset\n",
    "o3d.visualization.draw_geometries([mesh,pcd,imgNode.convexHull,lineset])"
   ]
  },
  {
   "cell_type": "markdown",
   "metadata": {},
   "source": [
    "## DETECT WINDOWS"
   ]
  },
  {
   "cell_type": "markdown",
   "metadata": {},
   "source": [
    "We will use the huggingface Grounding Dino model.\n",
    "This is a zero shot model for image object detection. (https://huggingface.co/IDEA-Research/grounding-dino-base)\n",
    "Just change the text prompt and image and you are good to go:\n",
    "\n",
    "```\n",
    "text = \"window\"\n",
    "image_url = pano\n",
    "```\n",
    "\n",
    "You can install this in your environment simply by running \n",
    "```pip install transformers```\n",
    "\n",
    "Note that you also need Pytorch: \n",
    "```pip install torch```\n",
    "\n"
   ]
  },
  {
   "cell_type": "code",
   "execution_count": 11,
   "metadata": {},
   "outputs": [
    {
     "name": "stdout",
     "output_type": "stream",
     "text": [
      "[{'scores': tensor([0.4100, 0.4536, 0.4006, 0.4355, 0.4452, 0.4086, 0.4181, 0.4072, 0.4599]), 'labels': ['window', 'window', 'window', 'window', 'window', 'window', 'window', 'window', 'window'], 'boxes': tensor([[9089.0918, 3235.0491, 9320.1855, 3414.4900],\n",
      "        [3751.7937, 3403.9133, 3867.2180, 3763.0483],\n",
      "        [8757.9199, 3248.3188, 8980.5938, 3419.9548],\n",
      "        [4545.5972, 2701.5757, 4653.1421, 3103.4363],\n",
      "        [3447.8989, 3420.6023, 3613.4351, 3758.9954],\n",
      "        [4793.8242, 2834.5500, 4904.4473, 3200.8601],\n",
      "        [3427.6785, 2980.7693, 3513.9539, 3264.6577],\n",
      "        [3550.6790, 2941.5901, 3637.2947, 3242.9526],\n",
      "        [3999.3037, 3381.9260, 4111.9180, 3781.9495]])}]\n"
     ]
    }
   ],
   "source": [
    "import requests\n",
    "\n",
    "import torch\n",
    "from PIL import Image\n",
    "from transformers import AutoProcessor, AutoModelForZeroShotObjectDetection \n",
    "\n",
    "model_id = \"IDEA-Research/grounding-dino-base\"\n",
    "device = \"cuda\" if torch.cuda.is_available() else \"cpu\"\n",
    "\n",
    "processor = AutoProcessor.from_pretrained(model_id)\n",
    "model = AutoModelForZeroShotObjectDetection.from_pretrained(model_id).to(device)\n",
    "\n",
    "# VERY important: text queries need to be lowercased + end with a dot\n",
    "image=pano\n",
    "text = \"window. door.\"\n",
    "\n",
    "inputs = processor(images=image, text=text, return_tensors=\"pt\").to(device)\n",
    "with torch.no_grad():\n",
    "    outputs = model(**inputs)\n",
    "\n",
    "results = processor.post_process_grounded_object_detection(\n",
    "    outputs,\n",
    "    inputs.input_ids,\n",
    "    box_threshold=0.4, # play with this for better results\n",
    "    text_threshold=0.3,\n",
    "    target_sizes=[image.size[::-1]]\n",
    ")\n",
    "print(results)"
   ]
  },
  {
   "cell_type": "code",
   "execution_count": 12,
   "metadata": {},
   "outputs": [],
   "source": [
    "# Draw boxes around objects and add labels and scores\n",
    "# image = image.convert(\"RGB\") #maybe not necessary\n",
    "\n",
    "#deepcopy pano\n",
    "image = pano.copy()\n",
    "draw = ImageDraw.Draw(image)\n",
    "\n",
    "# Extract data from results\n",
    "for result in results:\n",
    "    scores = result['scores'].tolist()\n",
    "    labels = result['labels']\n",
    "    boxes = result['boxes'].tolist()\n",
    "\n",
    "    # Loop through detections and draw each box\n",
    "    for score, label, box in zip(scores, labels, boxes):\n",
    "        # Convert box to int (Pillow requires integer coordinates)\n",
    "        box = [int(coord) for coord in box]\n",
    "\n",
    "        # Draw the rectangle\n",
    "        draw.rectangle(box, outline=\"red\", width=3)\n",
    "\n",
    "        # Add the score as text (column,row)\n",
    "        draw.text((box[0], box[1] - 10), f\"{score:.2f}\", fill=\"red\")\n",
    "    \n",
    "# Display or save the resulting image\n",
    "image.show()\n",
    "        # break\n",
    "# image.save(\"annotated_image.jpg\")  # Uncomment to save the image"
   ]
  },
  {
   "cell_type": "markdown",
   "metadata": {},
   "source": [
    "## REPROJECT DETECTIONS ON MESH"
   ]
  },
  {
   "cell_type": "code",
   "execution_count": 13,
   "metadata": {},
   "outputs": [
    {
     "name": "stdout",
     "output_type": "stream",
     "text": [
      "[9089.091796875, 3235.049072265625, 9320.185546875, 3414.489990234375]\n",
      "[3751.793701171875, 3403.913330078125, 3867.218017578125, 3763.04833984375]\n",
      "[8757.919921875, 3248.31884765625, 8980.59375, 3419.954833984375]\n",
      "[4545.59716796875, 2701.57568359375, 4653.14208984375, 3103.436279296875]\n",
      "[3447.89892578125, 3420.602294921875, 3613.43505859375, 3758.995361328125]\n",
      "[4793.82421875, 2834.550048828125, 4904.447265625, 3200.860107421875]\n",
      "[3427.678466796875, 2980.769287109375, 3513.953857421875, 3264.65771484375]\n",
      "[3550.678955078125, 2941.590087890625, 3637.294677734375, 3242.95263671875]\n",
      "[3999.3037109375, 3381.926025390625, 4111.91796875, 3781.949462890625]\n",
      "[LineSet with 4 lines., LineSet with 4 lines., LineSet with 4 lines., LineSet with 4 lines., LineSet with 4 lines., LineSet with 4 lines., LineSet with 4 lines., LineSet with 4 lines., LineSet with 4 lines.]\n"
     ]
    }
   ],
   "source": [
    "boxes = result['boxes'].tolist()\n",
    "linesets=[]\n",
    "for box in boxes:\n",
    "    print(box)\n",
    "    #convert box to 4 corner points\n",
    "    # boxPoints=np.array([[box[1],box[0]], #xmin,ymin -> topleft\n",
    "    #                     [box[1],box[2]], #xmax,ymin -> topright\n",
    "    #                     [box[3],box[0]], #xmin,ymax -> bottomleft\n",
    "    #                     [box[3],box[2]]]) #xmax,ymax   -> bottomright\n",
    "    boxPoints=np.array([[box[0],box[1]], #xmin,ymin -> topleft\n",
    "                        [box[2],box[1]], #xmax,ymin -> topright\n",
    "                        [box[0],box[3]], #xmin,ymax -> bottomleft\n",
    "                        [box[2],box[3]]]) #xmax,ymax   -> bottomright\n",
    "    \n",
    "    #sort to row, column\n",
    "    rays=imgNode.create_rays(boxPoints,depths=50)\n",
    "    lineset=gmu.rays_to_lineset(rays)\n",
    "    #paint lineset red\n",
    "    lineset.paint_uniform_color([1, 0, 0])\n",
    "    linesets.append(lineset)  \n",
    "    # break\n",
    "print(linesets)  "
   ]
  },
  {
   "cell_type": "code",
   "execution_count": 14,
   "metadata": {},
   "outputs": [
    {
     "name": "stdout",
     "output_type": "stream",
     "text": [
      "[Open3D WARNING] GLFW Error: WGL: Failed to make context current: The requested transformation operation is not supported. \n",
      "[Open3D WARNING] GLFW Error: WGL: Failed to make context current: The handle is invalid. \n"
     ]
    }
   ],
   "source": [
    "#show image cone, mesh and pcd and lineset\n",
    "linesetsCombined=gmu.join_geometries(linesets)\n",
    "o3d.visualization.draw_geometries([mesh,pcd,imgNode.convexHull,imgNode.lineSet,linesetsCombined])"
   ]
  },
  {
   "cell_type": "code",
   "execution_count": null,
   "metadata": {},
   "outputs": [],
   "source": [
    "\n",
    "lineset.transform(cartesianTransform)\n"
   ]
  },
  {
   "cell_type": "code",
   "execution_count": 3,
   "metadata": {},
   "outputs": [
    {
     "name": "stdout",
     "output_type": "stream",
     "text": [
      "Converted V:\\Studenten\\Thesis\\Eline Deblock\\data\\hoekpand\\cityjson.json to test.gml successfully.\n"
     ]
    }
   ],
   "source": [
    "import subprocess\n",
    "\n",
    "input_file = path/ Path(\"cityjson.json\")\n",
    "output_file = \"test.gml\"\n",
    "\n",
    "# Command to convert CityJSON to CityGML\n",
    "command = [\"cjio\", input_file, \"export\", \"--format\", \"citygml\"]\n",
    "\n",
    "# Execute the command and write to output file\n",
    "with open(output_file, \"w\") as out:\n",
    "    subprocess.run(command, stdout=out)\n",
    "\n",
    "print(f\"Converted {input_file} to {output_file} successfully.\")\n"
   ]
  },
  {
   "cell_type": "code",
   "execution_count": null,
   "metadata": {},
   "outputs": [],
   "source": [
    "citygml-tools export-geometry -i test.gml -o output.obj --triangulate\n"
   ]
  },
  {
   "cell_type": "code",
   "execution_count": 11,
   "metadata": {},
   "outputs": [
    {
     "data": {
      "text/plain": [
       "WindowsPath('test.gml')"
      ]
     },
     "execution_count": 11,
     "metadata": {},
     "output_type": "execute_result"
    }
   ],
   "source": [
    "input_gml"
   ]
  },
  {
   "cell_type": "code",
   "execution_count": null,
   "metadata": {},
   "outputs": [
    {
     "ename": "FileNotFoundError",
     "evalue": "[WinError 2] The system cannot find the file specified",
     "output_type": "error",
     "traceback": [
      "\u001b[1;31m---------------------------------------------------------------------------\u001b[0m",
      "\u001b[1;31mFileNotFoundError\u001b[0m                         Traceback (most recent call last)",
      "Cell \u001b[1;32mIn[10], line 18\u001b[0m\n\u001b[0;32m     16\u001b[0m \u001b[38;5;66;03m# Run the command\u001b[39;00m\n\u001b[0;32m     17\u001b[0m \u001b[38;5;28;01mtry\u001b[39;00m:\n\u001b[1;32m---> 18\u001b[0m     \u001b[43msubprocess\u001b[49m\u001b[38;5;241;43m.\u001b[39;49m\u001b[43mrun\u001b[49m\u001b[43m(\u001b[49m\u001b[43mcommand\u001b[49m\u001b[43m,\u001b[49m\u001b[43m \u001b[49m\u001b[43mcheck\u001b[49m\u001b[38;5;241;43m=\u001b[39;49m\u001b[38;5;28;43;01mTrue\u001b[39;49;00m\u001b[43m)\u001b[49m\n\u001b[0;32m     19\u001b[0m     \u001b[38;5;28mprint\u001b[39m(\u001b[38;5;124mf\u001b[39m\u001b[38;5;124m\"\u001b[39m\u001b[38;5;124mConverted \u001b[39m\u001b[38;5;132;01m{\u001b[39;00minput_gml\u001b[38;5;132;01m}\u001b[39;00m\u001b[38;5;124m to \u001b[39m\u001b[38;5;132;01m{\u001b[39;00moutput_obj\u001b[38;5;132;01m}\u001b[39;00m\u001b[38;5;124m successfully.\u001b[39m\u001b[38;5;124m\"\u001b[39m)\n\u001b[0;32m     20\u001b[0m \u001b[38;5;28;01mexcept\u001b[39;00m subprocess\u001b[38;5;241m.\u001b[39mCalledProcessError \u001b[38;5;28;01mas\u001b[39;00m e:\n",
      "File \u001b[1;32mc:\\Users\\u0094523\\.conda\\envs\\geomapi_dev\\lib\\subprocess.py:503\u001b[0m, in \u001b[0;36mrun\u001b[1;34m(input, capture_output, timeout, check, *popenargs, **kwargs)\u001b[0m\n\u001b[0;32m    500\u001b[0m     kwargs[\u001b[38;5;124m'\u001b[39m\u001b[38;5;124mstdout\u001b[39m\u001b[38;5;124m'\u001b[39m] \u001b[38;5;241m=\u001b[39m PIPE\n\u001b[0;32m    501\u001b[0m     kwargs[\u001b[38;5;124m'\u001b[39m\u001b[38;5;124mstderr\u001b[39m\u001b[38;5;124m'\u001b[39m] \u001b[38;5;241m=\u001b[39m PIPE\n\u001b[1;32m--> 503\u001b[0m \u001b[38;5;28;01mwith\u001b[39;00m Popen(\u001b[38;5;241m*\u001b[39mpopenargs, \u001b[38;5;241m*\u001b[39m\u001b[38;5;241m*\u001b[39mkwargs) \u001b[38;5;28;01mas\u001b[39;00m process:\n\u001b[0;32m    504\u001b[0m     \u001b[38;5;28;01mtry\u001b[39;00m:\n\u001b[0;32m    505\u001b[0m         stdout, stderr \u001b[38;5;241m=\u001b[39m process\u001b[38;5;241m.\u001b[39mcommunicate(\u001b[38;5;28minput\u001b[39m, timeout\u001b[38;5;241m=\u001b[39mtimeout)\n",
      "File \u001b[1;32mc:\\Users\\u0094523\\.conda\\envs\\geomapi_dev\\lib\\subprocess.py:971\u001b[0m, in \u001b[0;36mPopen.__init__\u001b[1;34m(self, args, bufsize, executable, stdin, stdout, stderr, preexec_fn, close_fds, shell, cwd, env, universal_newlines, startupinfo, creationflags, restore_signals, start_new_session, pass_fds, user, group, extra_groups, encoding, errors, text, umask, pipesize)\u001b[0m\n\u001b[0;32m    967\u001b[0m         \u001b[38;5;28;01mif\u001b[39;00m \u001b[38;5;28mself\u001b[39m\u001b[38;5;241m.\u001b[39mtext_mode:\n\u001b[0;32m    968\u001b[0m             \u001b[38;5;28mself\u001b[39m\u001b[38;5;241m.\u001b[39mstderr \u001b[38;5;241m=\u001b[39m io\u001b[38;5;241m.\u001b[39mTextIOWrapper(\u001b[38;5;28mself\u001b[39m\u001b[38;5;241m.\u001b[39mstderr,\n\u001b[0;32m    969\u001b[0m                     encoding\u001b[38;5;241m=\u001b[39mencoding, errors\u001b[38;5;241m=\u001b[39merrors)\n\u001b[1;32m--> 971\u001b[0m     \u001b[38;5;28;43mself\u001b[39;49m\u001b[38;5;241;43m.\u001b[39;49m\u001b[43m_execute_child\u001b[49m\u001b[43m(\u001b[49m\u001b[43margs\u001b[49m\u001b[43m,\u001b[49m\u001b[43m \u001b[49m\u001b[43mexecutable\u001b[49m\u001b[43m,\u001b[49m\u001b[43m \u001b[49m\u001b[43mpreexec_fn\u001b[49m\u001b[43m,\u001b[49m\u001b[43m \u001b[49m\u001b[43mclose_fds\u001b[49m\u001b[43m,\u001b[49m\n\u001b[0;32m    972\u001b[0m \u001b[43m                        \u001b[49m\u001b[43mpass_fds\u001b[49m\u001b[43m,\u001b[49m\u001b[43m \u001b[49m\u001b[43mcwd\u001b[49m\u001b[43m,\u001b[49m\u001b[43m \u001b[49m\u001b[43menv\u001b[49m\u001b[43m,\u001b[49m\n\u001b[0;32m    973\u001b[0m \u001b[43m                        \u001b[49m\u001b[43mstartupinfo\u001b[49m\u001b[43m,\u001b[49m\u001b[43m \u001b[49m\u001b[43mcreationflags\u001b[49m\u001b[43m,\u001b[49m\u001b[43m \u001b[49m\u001b[43mshell\u001b[49m\u001b[43m,\u001b[49m\n\u001b[0;32m    974\u001b[0m \u001b[43m                        \u001b[49m\u001b[43mp2cread\u001b[49m\u001b[43m,\u001b[49m\u001b[43m \u001b[49m\u001b[43mp2cwrite\u001b[49m\u001b[43m,\u001b[49m\n\u001b[0;32m    975\u001b[0m \u001b[43m                        \u001b[49m\u001b[43mc2pread\u001b[49m\u001b[43m,\u001b[49m\u001b[43m \u001b[49m\u001b[43mc2pwrite\u001b[49m\u001b[43m,\u001b[49m\n\u001b[0;32m    976\u001b[0m \u001b[43m                        \u001b[49m\u001b[43merrread\u001b[49m\u001b[43m,\u001b[49m\u001b[43m \u001b[49m\u001b[43merrwrite\u001b[49m\u001b[43m,\u001b[49m\n\u001b[0;32m    977\u001b[0m \u001b[43m                        \u001b[49m\u001b[43mrestore_signals\u001b[49m\u001b[43m,\u001b[49m\n\u001b[0;32m    978\u001b[0m \u001b[43m                        \u001b[49m\u001b[43mgid\u001b[49m\u001b[43m,\u001b[49m\u001b[43m \u001b[49m\u001b[43mgids\u001b[49m\u001b[43m,\u001b[49m\u001b[43m \u001b[49m\u001b[43muid\u001b[49m\u001b[43m,\u001b[49m\u001b[43m \u001b[49m\u001b[43mumask\u001b[49m\u001b[43m,\u001b[49m\n\u001b[0;32m    979\u001b[0m \u001b[43m                        \u001b[49m\u001b[43mstart_new_session\u001b[49m\u001b[43m)\u001b[49m\n\u001b[0;32m    980\u001b[0m \u001b[38;5;28;01mexcept\u001b[39;00m:\n\u001b[0;32m    981\u001b[0m     \u001b[38;5;66;03m# Cleanup if the child failed starting.\u001b[39;00m\n\u001b[0;32m    982\u001b[0m     \u001b[38;5;28;01mfor\u001b[39;00m f \u001b[38;5;129;01min\u001b[39;00m \u001b[38;5;28mfilter\u001b[39m(\u001b[38;5;28;01mNone\u001b[39;00m, (\u001b[38;5;28mself\u001b[39m\u001b[38;5;241m.\u001b[39mstdin, \u001b[38;5;28mself\u001b[39m\u001b[38;5;241m.\u001b[39mstdout, \u001b[38;5;28mself\u001b[39m\u001b[38;5;241m.\u001b[39mstderr)):\n",
      "File \u001b[1;32mc:\\Users\\u0094523\\.conda\\envs\\geomapi_dev\\lib\\subprocess.py:1456\u001b[0m, in \u001b[0;36mPopen._execute_child\u001b[1;34m(self, args, executable, preexec_fn, close_fds, pass_fds, cwd, env, startupinfo, creationflags, shell, p2cread, p2cwrite, c2pread, c2pwrite, errread, errwrite, unused_restore_signals, unused_gid, unused_gids, unused_uid, unused_umask, unused_start_new_session)\u001b[0m\n\u001b[0;32m   1454\u001b[0m \u001b[38;5;66;03m# Start the process\u001b[39;00m\n\u001b[0;32m   1455\u001b[0m \u001b[38;5;28;01mtry\u001b[39;00m:\n\u001b[1;32m-> 1456\u001b[0m     hp, ht, pid, tid \u001b[38;5;241m=\u001b[39m \u001b[43m_winapi\u001b[49m\u001b[38;5;241;43m.\u001b[39;49m\u001b[43mCreateProcess\u001b[49m\u001b[43m(\u001b[49m\u001b[43mexecutable\u001b[49m\u001b[43m,\u001b[49m\u001b[43m \u001b[49m\u001b[43margs\u001b[49m\u001b[43m,\u001b[49m\n\u001b[0;32m   1457\u001b[0m \u001b[43m                             \u001b[49m\u001b[38;5;66;43;03m# no special security\u001b[39;49;00m\n\u001b[0;32m   1458\u001b[0m \u001b[43m                             \u001b[49m\u001b[38;5;28;43;01mNone\u001b[39;49;00m\u001b[43m,\u001b[49m\u001b[43m \u001b[49m\u001b[38;5;28;43;01mNone\u001b[39;49;00m\u001b[43m,\u001b[49m\n\u001b[0;32m   1459\u001b[0m \u001b[43m                             \u001b[49m\u001b[38;5;28;43mint\u001b[39;49m\u001b[43m(\u001b[49m\u001b[38;5;129;43;01mnot\u001b[39;49;00m\u001b[43m \u001b[49m\u001b[43mclose_fds\u001b[49m\u001b[43m)\u001b[49m\u001b[43m,\u001b[49m\n\u001b[0;32m   1460\u001b[0m \u001b[43m                             \u001b[49m\u001b[43mcreationflags\u001b[49m\u001b[43m,\u001b[49m\n\u001b[0;32m   1461\u001b[0m \u001b[43m                             \u001b[49m\u001b[43menv\u001b[49m\u001b[43m,\u001b[49m\n\u001b[0;32m   1462\u001b[0m \u001b[43m                             \u001b[49m\u001b[43mcwd\u001b[49m\u001b[43m,\u001b[49m\n\u001b[0;32m   1463\u001b[0m \u001b[43m                             \u001b[49m\u001b[43mstartupinfo\u001b[49m\u001b[43m)\u001b[49m\n\u001b[0;32m   1464\u001b[0m \u001b[38;5;28;01mfinally\u001b[39;00m:\n\u001b[0;32m   1465\u001b[0m     \u001b[38;5;66;03m# Child is launched. Close the parent's copy of those pipe\u001b[39;00m\n\u001b[0;32m   1466\u001b[0m     \u001b[38;5;66;03m# handles that only the child should have open.  You need\u001b[39;00m\n\u001b[1;32m   (...)\u001b[0m\n\u001b[0;32m   1469\u001b[0m     \u001b[38;5;66;03m# pipe will not close when the child process exits and the\u001b[39;00m\n\u001b[0;32m   1470\u001b[0m     \u001b[38;5;66;03m# ReadFile will hang.\u001b[39;00m\n\u001b[0;32m   1471\u001b[0m     \u001b[38;5;28mself\u001b[39m\u001b[38;5;241m.\u001b[39m_close_pipe_fds(p2cread, p2cwrite,\n\u001b[0;32m   1472\u001b[0m                          c2pread, c2pwrite,\n\u001b[0;32m   1473\u001b[0m                          errread, errwrite)\n",
      "\u001b[1;31mFileNotFoundError\u001b[0m: [WinError 2] The system cannot find the file specified"
     ]
    }
   ],
   "source": [
    "import subprocess\n",
    "from pathlib import Path\n",
    "\n",
    "# Define input and output paths using Path from pathlib\n",
    "input_gml = path/Path(\"test.gml\")\n",
    "output_obj = Path(\"test.obj\")\n",
    "\n",
    "# Command to convert CityGML to OBJ using citygml-tools\n",
    "command = [\n",
    "    \"citygml-tools\", \"export-geometry\",\n",
    "    \"-i\", str(input_gml),  # Convert Path object to string\n",
    "    \"-o\", str(output_obj),  # Convert Path object to string\n",
    "    \"--triangulate\"\n",
    "]\n",
    "\n",
    "# Run the command\n",
    "try:\n",
    "    subprocess.run(command, check=True)\n",
    "    print(f\"Converted {input_gml} to {output_obj} successfully.\")\n",
    "except subprocess.CalledProcessError as e:\n",
    "    print(f\"An error occurred: {e}\")\n"
   ]
  }
 ],
 "metadata": {
  "kernelspec": {
   "display_name": "geomapi_dev",
   "language": "python",
   "name": "python3"
  },
  "language_info": {
   "codemirror_mode": {
    "name": "ipython",
    "version": 3
   },
   "file_extension": ".py",
   "mimetype": "text/x-python",
   "name": "python",
   "nbconvert_exporter": "python",
   "pygments_lexer": "ipython3",
   "version": "3.10.14"
  }
 },
 "nbformat": 4,
 "nbformat_minor": 2
}

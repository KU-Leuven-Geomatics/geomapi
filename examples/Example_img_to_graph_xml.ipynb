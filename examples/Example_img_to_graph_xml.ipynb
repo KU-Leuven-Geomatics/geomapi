{
 "cells": [
  {
   "cell_type": "markdown",
   "metadata": {},
   "source": [
    "# PREPROCESSING IMAGE DATA TO LINKED DATA\n",
    "In this notebook, we evaluate the image assets in a session repository.\n",
    "For every jpeg/png with its accompanying xmp or xmp file, an IMAGENODE metadata class is created \n",
    "that governs all the metadata of the image (paths, pose, etc.).\n",
    "As ouput, the method generates RDF GRAPHS (.ttl) files\n",
    "\n",
    ">This codebase operates on the scan2bim2.yml environment (python 3.8)"
   ]
  },
  {
   "cell_type": "code",
   "execution_count": 14,
   "metadata": {},
   "outputs": [],
   "source": [
    "from rdflib import Graph, plugin\n",
    "import uuid    \n",
    "import importlib\n",
    "import PIL.Image as PILimage\n",
    "import os.path\n",
    "import cv2\n",
    "#IMPORT MODULES\n",
    "from context import geomapi \n",
    "from geomapi.nodes import *\n",
    "import geomapi.utils as ut\n",
    "from geomapi.utils import geometryutils as gmu\n",
    "import geomapi.tools as tl"
   ]
  },
  {
   "cell_type": "code",
   "execution_count": 15,
   "metadata": {},
   "outputs": [
    {
     "name": "stdout",
     "output_type": "stream",
     "text": [
      "The autoreload extension is already loaded. To reload it, use:\n",
      "  %reload_ext autoreload\n"
     ]
    }
   ],
   "source": [
    "%load_ext autoreload"
   ]
  },
  {
   "cell_type": "code",
   "execution_count": 16,
   "metadata": {},
   "outputs": [],
   "source": [
    "%autoreload 2"
   ]
  },
  {
   "cell_type": "markdown",
   "metadata": {},
   "source": [
    "## 1. INITIALIZE SESSION"
   ]
  },
  {
   "cell_type": "code",
   "execution_count": 17,
   "metadata": {},
   "outputs": [],
   "source": [
    "## INPUTS\n",
    "projectPath= os.path.join(os.path.abspath(os.path.join(os.getcwd(), os.pardir)),\"tests\")#\"D:\\\\Data\\\\2018-06 Werfopvolging Academiestraat Gent\" \n",
    "sessionPath = os.path.join(projectPath , \"Sample3\") #\"K:\\Projects\\2025-03 Project FWO SB Jelle\\7.Data\\21-11 House Maarten\\RAW data\\session_22-03-13 canon\n",
    "graphPath= os.path.join(sessionPath,\"imageGraph.ttl\") "
   ]
  },
  {
   "cell_type": "markdown",
   "metadata": {},
   "source": [
    "## 2. READ PRESENT JPEG/PNG/XMP/XML CONTAINING IMAGES + METADATA\n",
    "An IMAGENODE is created per image in the session"
   ]
  },
  {
   "cell_type": "code",
   "execution_count": 18,
   "metadata": {},
   "outputs": [],
   "source": [
    "# path=sessionPath+\"\\\\100_0848_0005.JPG\"\n",
    "# img=cv2.imread(path)\n",
    "# graphPath=sessionPath+\"\\\\imgGraph.ttl\"\n",
    "# xmpPath=sessionPath+\"\\\\IMG_2173.xmp\"\n",
    "# node1=ImageNode(path=path, sessionPath=sessionPath, sensor=sensor, accuracy=accuracy)\n",
    "# node2=ImageNode(img=img, sessionPath=sessionPath, sensor=sensor, accuracy=accuracy)\n",
    "# # node3=ImageNode(graphPath=graphPath, sessionPath=sessionPath, sensor=sensor, accuracy=accuracy)\n",
    "# # node3=ImageNode(xmpPath=xmpPath, sessionPath=sessionPath, sensor=sensor, accuracy=accuracy)\n"
   ]
  },
  {
   "cell_type": "code",
   "execution_count": 19,
   "metadata": {},
   "outputs": [],
   "source": [
    "# print(node1.subject)\n",
    "# print(node1.geospatialTransform)"
   ]
  },
  {
   "cell_type": "code",
   "execution_count": 20,
   "metadata": {},
   "outputs": [],
   "source": [
    "# path='C:\\\\RepoHeinder\\\\geomapi\\\\tests\\\\Sample3\\\\101_0366_0036.jpg'\n",
    "# subject='101_0366_0036'\n",
    "# fileformat=['.jpg','.png']\n",
    "# print(ut.get_extension(path))\n",
    "# print(subject)\n",
    "# print(path)\n",
    "# if ut.get_extension(path) in fileformat:\n",
    "#     print('wowowo')\n",
    "# if subject in path:\n",
    "#     print('jippie')"
   ]
  },
  {
   "cell_type": "code",
   "execution_count": 27,
   "metadata": {},
   "outputs": [
    {
     "name": "stdout",
     "output_type": "stream",
     "text": [
      "2\n"
     ]
    },
    {
     "data": {
      "text/plain": [
       "<Graph identifier=N57a7d6bf32a54cb38599aa2b4b3cd6e7 (<class 'rdflib.graph.Graph'>)>"
      ]
     },
     "execution_count": 27,
     "metadata": {},
     "output_type": "execute_result"
    }
   ],
   "source": [
    "files=[f for f in ut.get_list_of_files(r'D:\\geomapi\\tests\\testfiles\\mesh') if f.endswith('.obj') or f.endswith('.ply')]\n",
    "                            \n",
    "nodes=[]\n",
    "for f in files:\n",
    "    nodes.append(MeshNode(name=ut.get_filename(f),path=f,getResource=True))\n",
    "    \n",
    "print(len(nodes))\n",
    "\n",
    "tl.nodes_to_graph(nodes,graphPath=r'D:\\geomapi\\tests\\testfiles\\graphs\\mesh_graph.ttl',save=True)"
   ]
  },
  {
   "cell_type": "code",
   "execution_count": 34,
   "metadata": {},
   "outputs": [
    {
     "data": {
      "text/plain": [
       "'e57'"
      ]
     },
     "execution_count": 34,
     "metadata": {},
     "output_type": "execute_result"
    }
   ],
   "source": []
  },
  {
   "cell_type": "code",
   "execution_count": 47,
   "metadata": {},
   "outputs": [
    {
     "name": "stdout",
     "output_type": "stream",
     "text": [
      "D:/geomapi/tests/testfiles/pcd/lidar.e57\n",
      "D:/geomapi/tests/testfiles/pcd/lidar.xml\n",
      "D:/geomapi/tests/testfiles/pcd/parking.e57\n",
      "D:/geomapi/tests/testfiles/pcd/parking.las\n",
      "[[48.01851653 46.839283    3.83217479]\n",
      " [48.98833464 47.26428604  5.44773863]\n",
      " [46.60432055 46.14498518  6.71159314]\n",
      " ...\n",
      " [56.73801802 50.37362672  2.01952029]\n",
      " [56.75973131 50.33730697  1.93189763]\n",
      " [56.81056597 50.3355751   1.90233363]]\n",
      "D:/geomapi/tests/testfiles/pcd/parking.pcd\n",
      "5\n"
     ]
    },
    {
     "data": {
      "text/plain": [
       "<Graph identifier=N42b9a867c414487dafec814b561c52f5 (<class 'rdflib.graph.Graph'>)>"
      ]
     },
     "execution_count": 47,
     "metadata": {},
     "output_type": "execute_result"
    }
   ],
   "source": [
    "import laspy as las\n",
    "\n",
    "files=ut.get_list_of_files(r'D:\\geomapi\\tests\\testfiles\\pcd')                            \n",
    "nodes=[]\n",
    "for f in files:\n",
    "    if not f.endswith('.las'):\n",
    "        print(f)\n",
    "        nodes.append(PointCloudNode(name=ut.get_filename(f),path=f,getResource=True))\n",
    "    else:\n",
    "        print(f)\n",
    "        p=las.open(f)\n",
    "        myLas = p.read()\n",
    "        nodes.append(PointCloudNode(resource=gmu.las_to_pcd(myLas)))\n",
    "    \n",
    "print(len(nodes))\n",
    "\n",
    "tl.nodes_to_graph(nodes,graphPath=r'D:\\geomapi\\tests\\testfiles\\graphs\\pcd_graph.ttl',save=True)"
   ]
  },
  {
   "cell_type": "code",
   "execution_count": 21,
   "metadata": {},
   "outputs": [
    {
     "name": "stdout",
     "output_type": "stream",
     "text": [
      "78\n"
     ]
    }
   ],
   "source": [
    "path=r'D:\\geomapi\\tests\\testfiles\\img\\road.xml'\n",
    "nodes=tl.img_xml_to_nodes(path)\n",
    "\n",
    "print(len(nodes))"
   ]
  },
  {
   "cell_type": "code",
   "execution_count": 22,
   "metadata": {},
   "outputs": [
    {
     "data": {
      "text/plain": [
       "<Graph identifier=N5157f150f0774fdebb44fce07e21e848 (<class 'rdflib.graph.Graph'>)>"
      ]
     },
     "execution_count": 22,
     "metadata": {},
     "output_type": "execute_result"
    }
   ],
   "source": [
    "graphPath=r'D:\\geomapi\\tests\\testfiles\\graphs\\road_img_graph.ttl'\n",
    "tl.nodes_to_graph(nodes,graphPath=graphPath,save=True)"
   ]
  },
  {
   "cell_type": "code",
   "execution_count": 8,
   "metadata": {},
   "outputs": [
    {
     "name": "stdout",
     "output_type": "stream",
     "text": [
      "21 ImageNodes are created.\n",
      "Note that these nodes do not yet contain actual data but only the metadata\n"
     ]
    }
   ],
   "source": [
    "import xml.etree.ElementTree as ET \n",
    "import numpy as np\n",
    "from rdflib import URIRef\n",
    "# Retrieve all image files in the session along with their xml metadata\n",
    "allSessionFilePaths=ut.get_list_of_files(sessionPath) \n",
    "nodelist=[]\n",
    "\n",
    "for path in allSessionFilePaths:        \n",
    "    \n",
    "    if path.endswith(\".JPG\") or path.endswith(\".PNG\"): \n",
    "        testXmpPath=path.replace('JPG','xmp')\n",
    "        if testXmpPath in allSessionFilePaths:\n",
    "            nodelist.append(ImageNode(path=path,xmpPath=testXmpPath,sessionPath=sessionPath))\n",
    "        else:\n",
    "            nodelist.append(ImageNode(path=path,sessionPath=sessionPath))\n",
    "\n",
    "    if path.endswith(\".xml\"):\n",
    "        nodelist.extend(tl.img_xml_to_nodes(path, getResource=True,graphPath=graphPath))\n",
    "          \n",
    "print(str(len(nodelist))+' ImageNodes are created.')\n",
    "# print(str(exifCounter)+' have poses in exif data')\n",
    "# print(str(xmpCounter)+' have poses in xmp data')\n",
    "# print(str(xmlCounter)+' have poses in xml data (not implemented yet)')\n",
    "print('Note that these nodes do not yet contain actual data but only the metadata')"
   ]
  },
  {
   "cell_type": "markdown",
   "metadata": {},
   "source": [
    "## 3. CREATE RDF GRAPH FOR All IMAGENODES AND EXPORT THEM TO .TTL\n",
    "An RDF graph and .ttl file is created for all images in the session\n",
    "(images themselves are not stored in the graph, only metadata)"
   ]
  },
  {
   "cell_type": "code",
   "execution_count": 9,
   "metadata": {},
   "outputs": [
    {
     "name": "stdout",
     "output_type": "stream",
     "text": [
      "21 Nodes succesfully serialized in: c:\\RepoHeinder\\geomapi\\tests\\Sample3\\imageGraph.ttl\n"
     ]
    }
   ],
   "source": [
    "graph=tl.nodes_to_graph(nodelist,graphPath=graphPath)\n",
    "subjectList=[1 for node in nodelist if node.graph is not None]\n",
    "graph.serialize(destination=graphPath)\n",
    "print (str(len(subjectList))+' Nodes succesfully serialized in: '+ graphPath)"
   ]
  },
  {
   "cell_type": "code",
   "execution_count": 10,
   "metadata": {},
   "outputs": [
    {
     "name": "stdout",
     "output_type": "stream",
     "text": [
      "@prefix e57: <http://libe57.org#> .\n",
      "@prefix exif: <http://www.w3.org/2003/12/exif/ns#> .\n",
      "@prefix gom: <https://w3id.org/gom#> .\n",
      "@prefix openlabel: <https://www.asam.net/index.php?eID=dumpFile&t=f&f=3876&token=413e8c85031ae64cc35cf42d0768627514868b2f#> .\n",
      "@prefix v4d: <https://w3id.org/v4d/core#> .\n",
      "@prefix xsd: <http://www.w3.org/2001/XMLSchema#> .\n",
      "\n",
      "<file:///c:/RepoHeinder/geomapi/tests/Sample3/101_0366_0036> a v4d:ImageNode ;\n",
      "    e57:cartesianTransform \"\"\"[[-9.01077021e-01 -4.33659085e-01  0.00000000e+00  6.00575993e+05]\n",
      " [ 4.33659085e-01 -9.01077021e-01  0.00000000e+00  6.96281654e+05]\n",
      " [ 0.00000000e+00  0.00000000e+00  1.00000000e+00  3.13845765e+01]\n",
      " [ 0.00000000e+00  0.00000000e+00  0.00000000e+00  1.00000000e+00]]\"\"\" ;\n",
      "    e57:geospatialTransform \"[51.07460836115559, 3.6635813333635228, 74.11900086895052]\" ;\n",
      "    exif:imageHeight 3648 ;\n",
      "    exif:imageWidth 5472 ;\n",
      "    exif:resolutionUnit 2 ;\n",
      "    gom:coordinateSystem \"geospatial-wgs84\" ;\n",
      "    v4d:name \"101_0366_0036\" ;\n",
      "    v4d:path \"101_0366_0036.jpg\" ;\n",
      "    v4d:sxy \"0.02\" ;\n",
      "    v4d:sz \"0.05\" ;\n",
      "    v4d:xmlIndex \"0\" ;\n",
      "    v4d:xmlPath \"ReferenceLAMBERT08_TAW.xml\" ;\n",
      "    openlabel:timestamp \"2021-06-07T16:49:28\" .\n",
      "\n",
      "\n"
     ]
    }
   ],
   "source": [
    "print(graph.serialize())"
   ]
  }
 ],
 "metadata": {
  "kernelspec": {
   "display_name": "conda_environment3",
   "language": "python",
   "name": "python3"
  },
  "language_info": {
   "codemirror_mode": {
    "name": "ipython",
    "version": 3
   },
   "file_extension": ".py",
   "mimetype": "text/x-python",
   "name": "python",
   "nbconvert_exporter": "python",
   "pygments_lexer": "ipython3",
   "version": "3.8.13"
  },
  "orig_nbformat": 4,
  "vscode": {
   "interpreter": {
    "hash": "801b4083378541fd050d6c91abf6ec053c863905e8162e031d57b83e7cdb3051"
   }
  }
 },
 "nbformat": 4,
 "nbformat_minor": 2
}

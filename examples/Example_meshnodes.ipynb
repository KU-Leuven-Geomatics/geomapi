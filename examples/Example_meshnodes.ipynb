{
 "cells": [
  {
   "cell_type": "markdown",
   "metadata": {},
   "source": [
    "# EXAMPLE MESHNODES\n",
    "In this notebook, we create and manipulate meshNodes from different inputs."
   ]
  },
  {
   "cell_type": "code",
   "execution_count": 67,
   "metadata": {},
   "outputs": [],
   "source": [
    "#IMPORT PACKAGES\n",
    "from rdflib import Graph,URIRef,Literal, RDFS,XSD\n",
    "import rdflib\n",
    "import os.path, time\n",
    "import importlib\n",
    "import numpy as np\n",
    "import open3d as o3d\n",
    "import ifcopenshell\n",
    "import ifcopenshell.util.selector\n",
    "\n",
    "#IMPORT MODULES\n",
    "from context import geomapi \n",
    "from geomapi.nodes import *\n",
    "import geomapi.utils as ut\n",
    "from geomapi.utils import geometryutils as gmu\n",
    "import geomapi.tools as tl\n",
    "from rdflib import RDF"
   ]
  },
  {
   "cell_type": "code",
   "execution_count": 68,
   "metadata": {},
   "outputs": [
    {
     "name": "stdout",
     "output_type": "stream",
     "text": [
      "The autoreload extension is already loaded. To reload it, use:\n",
      "  %reload_ext autoreload\n"
     ]
    }
   ],
   "source": [
    "%load_ext autoreload"
   ]
  },
  {
   "cell_type": "code",
   "execution_count": 69,
   "metadata": {},
   "outputs": [],
   "source": [
    "%autoreload 2"
   ]
  },
  {
   "cell_type": "markdown",
   "metadata": {},
   "source": [
    "## 1. INPUT"
   ]
  },
  {
   "cell_type": "code",
   "execution_count": 82,
   "metadata": {},
   "outputs": [],
   "source": [
    "path= os.path.join(os.path.abspath(os.path.join(os.getcwd(), os.pardir)),\"test\",\"testfiles\" )#\"D:\\\\Data\\\\2018-06 Werfopvolging Academiestraat Gent\" \n",
    "\n",
    "#GRAPH \n",
    "meshGraphPath=os.path.join(path,'meshGraph.ttl')\n",
    "meshGraph=Graph().parse(meshGraphPath)\n",
    "       \n",
    "#MESH\n",
    "meshPath1=os.path.join(path,\"week22.obj\")  \n",
    "mesh1= o3d.io.read_triangle_mesh(meshPath1)\n",
    "meshSubject1=[s for s in meshGraph.subjects() if \"week22\" in s.toPython()]\n",
    "meshSubject1=meshSubject1[0]\n",
    "\n",
    "meshPath2=os.path.join(path,\"BIM\",\"Basic Wall_211_WA_Ff1_Glued brickwork sandlime 150mm_1095339.obj\")  \n",
    "mesh2= o3d.io.read_triangle_mesh(meshPath2)\n",
    "meshSubject2=[s for s in meshGraph.subjects() if \"Basic_Wall_211_WA_Ff1_Glued_brickwork_sandlime_150mm_1095339\" in s.toPython()]\n",
    "meshSubject2=meshSubject2[0]\n",
    "\n",
    "meshPath3=os.path.join(path,\"BIM\",\"Precast Stair_Stair_1181900 Landing 1.obj\")  \n",
    "mesh3= o3d.io.read_triangle_mesh(meshPath3)\n",
    "meshSubject3=[s for s in meshGraph.subjects() if \"Precast_Stair_Stair_1181900_Landing_1\" in s.toPython()]\n",
    "meshSubject3=meshSubject3[0]\n",
    "        \n",
    "resourcePath=os.path.join(path,'resources')\n"
   ]
  },
  {
   "cell_type": "code",
   "execution_count": 71,
   "metadata": {},
   "outputs": [],
   "source": [
    "exif = rdflib.Namespace('http://www.w3.org/2003/12/exif/ns#')\n",
    "geo=rdflib.Namespace('http://www.opengis.net/ont/geosparql#') #coordinate system information\n",
    "gom=rdflib.Namespace('https://w3id.org/gom#') # geometry representations => this is from mathias\n",
    "omg=rdflib.Namespace('https://w3id.org/omg#') # geometry relations\n",
    "fog=rdflib.Namespace('https://w3id.org/fog#')\n",
    "v4d=rdflib.Namespace('https://w3id.org/v4d/core#')\n",
    "openlabel=rdflib.Namespace('https://www.asam.net/index.php?eID=dumpFile&t=f&f=3876&token=413e8c85031ae64cc35cf42d0768627514868b2f#')\n",
    "e57=rdflib.Namespace('http://libe57.org#')\n",
    "xcr=rdflib.Namespace('http://www.w3.org/1999/02/22-rdf-syntax-ns#')\n",
    "ifc=rdflib.Namespace('http://ifcowl.openbimstandards.org/IFC2X3_Final#')\n"
   ]
  },
  {
   "cell_type": "code",
   "execution_count": 89,
   "metadata": {},
   "outputs": [
    {
     "ename": "ValueError",
     "evalue": "Mesh must be o3d.geometry.TriangleMesh and len(mesh.triangles) >=2",
     "output_type": "error",
     "traceback": [
      "\u001b[1;31m---------------------------------------------------------------------------\u001b[0m",
      "\u001b[1;31mValueError\u001b[0m                                Traceback (most recent call last)",
      "\u001b[1;32m~\\AppData\\Local\\Temp/ipykernel_11348/3734368403.py\u001b[0m in \u001b[0;36m<module>\u001b[1;34m\u001b[0m\n\u001b[1;32m----> 1\u001b[1;33m \u001b[0mnode\u001b[0m\u001b[1;33m=\u001b[0m \u001b[0mMeshNode\u001b[0m\u001b[1;33m(\u001b[0m\u001b[0msubject\u001b[0m\u001b[1;33m=\u001b[0m\u001b[0mURIRef\u001b[0m\u001b[1;33m(\u001b[0m\u001b[1;34m'myMesh'\u001b[0m\u001b[1;33m)\u001b[0m\u001b[1;33m,\u001b[0m\u001b[0mmesh\u001b[0m\u001b[1;33m=\u001b[0m\u001b[0mmeshPath2\u001b[0m\u001b[1;33m,\u001b[0m\u001b[0mgetResource\u001b[0m\u001b[1;33m=\u001b[0m\u001b[1;32mTrue\u001b[0m\u001b[1;33m)\u001b[0m\u001b[1;33m\u001b[0m\u001b[1;33m\u001b[0m\u001b[0m\n\u001b[0m",
      "\u001b[1;32md:\\Scan-to-BIM repository\\geomapi\\geomapi\\nodes\\meshnode.py\u001b[0m in \u001b[0;36m__init__\u001b[1;34m(self, graph, graphPath, subject, path, getResource, getMetaData, mesh, **kwargs)\u001b[0m\n\u001b[0;32m     51\u001b[0m \u001b[1;33m\u001b[0m\u001b[0m\n\u001b[0;32m     52\u001b[0m         \u001b[1;32mif\u001b[0m \u001b[0mmesh\u001b[0m\u001b[1;33m:\u001b[0m\u001b[1;33m\u001b[0m\u001b[1;33m\u001b[0m\u001b[0m\n\u001b[1;32m---> 53\u001b[1;33m             \u001b[0mself\u001b[0m\u001b[1;33m.\u001b[0m\u001b[0mset_mesh\u001b[0m\u001b[1;33m(\u001b[0m\u001b[0mmesh\u001b[0m\u001b[1;33m)\u001b[0m\u001b[1;33m\u001b[0m\u001b[1;33m\u001b[0m\u001b[0m\n\u001b[0m\u001b[0;32m     54\u001b[0m \u001b[1;33m\u001b[0m\u001b[0m\n\u001b[0;32m     55\u001b[0m         super().__init__(   graph= graph,\n",
      "\u001b[1;32md:\\Scan-to-BIM repository\\geomapi\\geomapi\\nodes\\meshnode.py\u001b[0m in \u001b[0;36mset_mesh\u001b[1;34m(self, mesh)\u001b[0m\n\u001b[0;32m    184\u001b[0m             \u001b[0mself\u001b[0m\u001b[1;33m.\u001b[0m\u001b[0mmesh\u001b[0m \u001b[1;33m=\u001b[0m \u001b[0mmesh\u001b[0m\u001b[1;33m\u001b[0m\u001b[1;33m\u001b[0m\u001b[0m\n\u001b[0;32m    185\u001b[0m         \u001b[1;32melse\u001b[0m\u001b[1;33m:\u001b[0m\u001b[1;33m\u001b[0m\u001b[1;33m\u001b[0m\u001b[0m\n\u001b[1;32m--> 186\u001b[1;33m             \u001b[1;32mraise\u001b[0m \u001b[0mValueError\u001b[0m\u001b[1;33m(\u001b[0m\u001b[1;34m'Mesh must be o3d.geometry.TriangleMesh and len(mesh.triangles) >=2'\u001b[0m\u001b[1;33m)\u001b[0m\u001b[1;33m\u001b[0m\u001b[1;33m\u001b[0m\u001b[0m\n\u001b[0m\u001b[0;32m    187\u001b[0m \u001b[1;33m\u001b[0m\u001b[0m\n\u001b[0;32m    188\u001b[0m     \u001b[1;32mdef\u001b[0m \u001b[0mset_path\u001b[0m\u001b[1;33m(\u001b[0m\u001b[0mself\u001b[0m\u001b[1;33m,\u001b[0m\u001b[0mpath\u001b[0m\u001b[1;33m:\u001b[0m\u001b[0mstr\u001b[0m\u001b[1;33m=\u001b[0m\u001b[1;32mNone\u001b[0m\u001b[1;33m)\u001b[0m\u001b[1;33m:\u001b[0m\u001b[1;33m\u001b[0m\u001b[1;33m\u001b[0m\u001b[0m\n",
      "\u001b[1;31mValueError\u001b[0m: Mesh must be o3d.geometry.TriangleMesh and len(mesh.triangles) >=2"
     ]
    }
   ],
   "source": [
    "node= MeshNode(subject=URIRef('myMesh'),mesh=meshPath2,getResource=True)"
   ]
  }
 ],
 "metadata": {
  "kernelspec": {
   "display_name": "Python 3.5.6 ('UplinkBIM2_python')",
   "language": "python",
   "name": "python3"
  },
  "language_info": {
   "codemirror_mode": {
    "name": "ipython",
    "version": 3
   },
   "file_extension": ".py",
   "mimetype": "text/x-python",
   "name": "python",
   "nbconvert_exporter": "python",
   "pygments_lexer": "ipython3",
   "version": "3.5.6"
  },
  "orig_nbformat": 4,
  "vscode": {
   "interpreter": {
    "hash": "8033d097d0ad4267019e37ebcadd3db20b5b166982a91b6ae6a402bc2ef4e829"
   }
  }
 },
 "nbformat": 4,
 "nbformat_minor": 2
}

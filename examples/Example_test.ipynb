{
 "cells": [
  {
   "cell_type": "code",
   "execution_count": 1,
   "metadata": {},
   "outputs": [
    {
     "name": "stdout",
     "output_type": "stream",
     "text": [
      "Jupyter environment detected. Enabling Open3D WebVisualizer.\n",
      "[Open3D INFO] WebRTC GUI backend enabled.\n",
      "[Open3D INFO] WebRTCWindowSystem: HTTP handshake server disabled.\n"
     ]
    }
   ],
   "source": [
    "#IMPORT PACKAGES\n",
    "import rdflib\n",
    "from rdflib import Graph, URIRef,Namespace, Literal, OWL,RDFS, RDF, XSD,RDFS\n",
    "\n",
    "import os.path\n",
    "import importlib\n",
    "import numpy as np\n",
    "import xml.etree.ElementTree as ET\n",
    "import open3d as o3d\n",
    "import uuid    \n",
    "import pye57 \n",
    "import ifcopenshell\n",
    "import ifcopenshell.geom as geom\n",
    "import ifcopenshell.util\n",
    "import ifcopenshell.util.selector\n",
    "import random as rd\n",
    "import pandas as pd\n",
    "import cv2\n",
    "from pathlib import Path\n",
    "import pye57\n",
    "import laspy\n",
    "import copy\n",
    "import datetime\n",
    "import ezdxf \n",
    "from PIL import Image\n",
    "from scipy.spatial.transform import Rotation as R\n",
    "import matplotlib.pyplot as plt\n",
    "from collections import Counter\n",
    "import json\n",
    "#IMPORT MODULES\n",
    "from context import geomapi \n",
    "from geomapi.nodes import *\n",
    "import geomapi.utils as ut\n",
    "from geomapi.utils import geometryutils as gmu\n",
    "import geomapi.utils.cadutils as cadu\n",
    "import geomapi.utils.imageutils as iu\n",
    "import geomapi.tools as tl\n",
    "import sys\n",
    "import trimesh\n",
    "\n",
    "GEOMAPI_GRAPH=Graph().parse('../geomapi/ontology/geomapi_ontology.ttl')\n",
    "GEOMAPI_PREFIXES = {prefix: Namespace(namespace) for prefix, namespace in GEOMAPI_GRAPH.namespace_manager.namespaces()}\n",
    "GEOMAPI_NAMESPACE = Namespace('https://w3id.org/geomapi#')\n"
   ]
  },
  {
   "cell_type": "code",
   "execution_count": null,
   "metadata": {},
   "outputs": [],
   "source": []
  },
  {
   "cell_type": "code",
   "execution_count": 8,
   "metadata": {},
   "outputs": [
    {
     "name": "stdout",
     "output_type": "stream",
     "text": [
      "1.414213562373095 44.99999999999999\n"
     ]
    }
   ],
   "source": [
    "d2=1/np.sin(np.radians(45))\n",
    "a=np.arcsin(d2/2)\n",
    "print(d2,np.degrees(a))"
   ]
  },
  {
   "cell_type": "code",
   "execution_count": 18,
   "metadata": {},
   "outputs": [
    {
     "data": {
      "text/plain": [
       "2.2448280557762104"
      ]
     },
     "execution_count": 18,
     "metadata": {},
     "output_type": "execute_result"
    }
   ],
   "source": [
    "np.sqrt(1.737**2+1.422**2)"
   ]
  },
  {
   "cell_type": "code",
   "execution_count": 40,
   "metadata": {},
   "outputs": [
    {
     "name": "stdout",
     "output_type": "stream",
     "text": [
      "2.220315292925759\n"
     ]
    },
    {
     "data": {
      "text/plain": [
       "42.01167154624617"
      ]
     },
     "execution_count": 40,
     "metadata": {},
     "output_type": "execute_result"
    }
   ],
   "source": [
    "\n",
    "b=1.57/np.sin(np.deg2rad(45))\n",
    "print(b)\n",
    "np.arctan(2/b)*180/np.pi"
   ]
  },
  {
   "cell_type": "code",
   "execution_count": null,
   "metadata": {},
   "outputs": [
    {
     "data": {
      "text/plain": [
       "41.84940739053202"
      ]
     },
     "execution_count": 35,
     "metadata": {},
     "output_type": "execute_result"
    }
   ],
   "source": []
  },
  {
   "cell_type": "code",
   "execution_count": null,
   "metadata": {},
   "outputs": [
    {
     "data": {
      "text/plain": [
       "45.03187078392833"
      ]
     },
     "execution_count": 23,
     "metadata": {},
     "output_type": "execute_result"
    }
   ],
   "source": [
    "1.579*np.arcsin(1.415/2)*180/np.pi"
   ]
  },
  {
   "cell_type": "code",
   "execution_count": 2,
   "metadata": {},
   "outputs": [],
   "source": [
    "# %autoreload 2"
   ]
  },
  {
   "cell_type": "code",
   "execution_count": 3,
   "metadata": {},
   "outputs": [],
   "source": [
    "# %load_ext autoreload"
   ]
  },
  {
   "cell_type": "code",
   "execution_count": 4,
   "metadata": {},
   "outputs": [],
   "source": [
    "\n",
    "#PATH\n",
    "os.getcwd()\n",
    "path= Path(os.getcwd()).parent / \"tests\" / \"testfiles\"  "
   ]
  },
  {
   "cell_type": "code",
   "execution_count": 13,
   "metadata": {},
   "outputs": [
    {
     "data": {
      "text/plain": [
       "12.81884336979499"
      ]
     },
     "execution_count": 13,
     "metadata": {},
     "output_type": "execute_result"
    }
   ],
   "source": [
    "100-np.arccos(6/30)*200/np.pi"
   ]
  },
  {
   "cell_type": "code",
   "execution_count": 9,
   "metadata": {},
   "outputs": [
    {
     "name": "stdout",
     "output_type": "stream",
     "text": [
      "33.43114260685686 34.75473055570997\n"
     ]
    }
   ],
   "source": [
    "dz=np.sqrt(11.236**2+9.56**2)\n",
    "a=np.sqrt(30**2+dz**2)\n",
    "db=np.sqrt(a**2+9.5**2)\n",
    "print(a,db)"
   ]
  },
  {
   "cell_type": "code",
   "execution_count": null,
   "metadata": {},
   "outputs": [],
   "source": []
  },
  {
   "cell_type": "code",
   "execution_count": 6,
   "metadata": {},
   "outputs": [
    {
     "data": {
      "text/plain": [
       "75.56035098498752"
      ]
     },
     "execution_count": 6,
     "metadata": {},
     "output_type": "execute_result"
    }
   ],
   "source": [
    "np.arccos(np.sqrt(6**2+9.5**2)/30)*200/np.pi"
   ]
  },
  {
   "cell_type": "code",
   "execution_count": 5,
   "metadata": {},
   "outputs": [
    {
     "name": "stdout",
     "output_type": "stream",
     "text": [
      "[[-2.09130147e-17 -2.44200237e-16  1.00000000e+00]\n",
      " [-2.47966097e-17 -2.44076956e-16  1.00000000e+00]\n",
      " [-2.86645668e-17 -2.43707611e-16  1.00000000e+00]\n",
      " ...\n",
      " [-1.31614625e-17  2.00381599e-16 -1.00000000e+00]\n",
      " [-1.70294197e-17  2.00012253e-16 -1.00000000e+00]\n",
      " [-2.09130147e-17  1.99888973e-16 -1.00000000e+00]]\n"
     ]
    }
   ],
   "source": [
    "resource=np.full((50,100,3),0)\n",
    "resource[10,0]=[1,0,0]\n",
    "resource[10,1]=[1,0,0]\n",
    "resource[10,2]=[1,0,0]\n",
    "node=PanoNode(depthMap=np.full((50,100),1),resource=resource )\n",
    "pcd=node.get_pcd_from_depth_map()\n",
    "print(np.asarray(pcd.points))"
   ]
  },
  {
   "cell_type": "code",
   "execution_count": 8,
   "metadata": {},
   "outputs": [
    {
     "name": "stdout",
     "output_type": "stream",
     "text": [
      "[Open3D WARNING] GLFW Error: WGL: Failed to make context current: The requested transformation operation is not supported. \n"
     ]
    }
   ],
   "source": [
    "rays=node.create_rays()\n",
    "lineset=gmu.rays_to_lineset(rays)\n",
    "lineset.paint_uniform_color([1,0,0])\n",
    "o3d.visualization.draw_geometries([pcd,lineset])"
   ]
  },
  {
   "cell_type": "code",
   "execution_count": 6,
   "metadata": {},
   "outputs": [
    {
     "name": "stdout",
     "output_type": "stream",
     "text": [
      "[[-2.09130147e-17  3.90767080e-17  1.14198372e-17  6.40621553e-02\n",
      "  -9.97945393e-01 -1.01653579e-03]\n",
      " [-2.09130147e-17  3.90767080e-17  1.14198372e-17  7.84633898e-18\n",
      "  -9.97945393e-01  6.40702200e-02]\n",
      " [-2.09130147e-17  3.90767080e-17  1.14198372e-17 -9.99360409e-01\n",
      "  -3.20515776e-02  1.58578122e-02]\n",
      " [-2.09130147e-17  3.90767080e-17  1.14198372e-17  9.95253822e-01\n",
      "   9.60230259e-02 -1.57926490e-02]\n",
      " [-2.09130147e-17  3.90767080e-17  1.14198372e-17 -6.12246325e-17\n",
      "   1.00000000e+00  9.71510091e-19]\n",
      " [-2.09130147e-17  3.90767080e-17  1.14198372e-17 -2.03281568e-03\n",
      "  -9.97945393e-01 -6.40379633e-02]]\n"
     ]
    }
   ],
   "source": [
    "#paint pcd black, color first point red\n",
    "# pcd.paint_uniform_color([0,0,0])\n",
    "pcd.colors[1000]=[0,1,0]\n",
    "pcd.colors[1001]=[0,1,0]\n",
    "pcd.colors[1002]=[0,1,0]\n",
    "width=100\n",
    "height=50\n",
    "points=np.array([[width/2 ,height/2], # front\n",
    "                [width/2,0], # top \n",
    "                [ width/4,height/2],  # left\n",
    "                [width*3/4,height/2 ],# right\n",
    "                [0,height/2],# back\n",
    "                [width/2,height]]) # bottom\n",
    "rays=node.create_rays(points) # top left\n",
    "print(rays)\n",
    "lineset=gmu.rays_to_lineset(rays)\n",
    "lineset.paint_uniform_color([1,0,0])\n",
    "o3d.visualization.draw_geometries([pcd,lineset])"
   ]
  },
  {
   "cell_type": "code",
   "execution_count": 13,
   "metadata": {},
   "outputs": [
    {
     "data": {
      "text/plain": [
       "array([[50., 25.],\n",
       "       [50.,  0.],\n",
       "       [25., 25.],\n",
       "       [75., 25.],\n",
       "       [ 0., 25.],\n",
       "       [50., 50.]])"
      ]
     },
     "execution_count": 13,
     "metadata": {},
     "output_type": "execute_result"
    }
   ],
   "source": [
    "points"
   ]
  },
  {
   "cell_type": "code",
   "execution_count": 26,
   "metadata": {},
   "outputs": [],
   "source": [
    "points=np.array([[width/2 ,height/2], # front\n",
    "                [width/2,0], # top \n",
    "                [ width/4,height/2],  # left\n",
    "                [width*3/4,height/2 ],# right\n",
    "                [0,height/2],# back\n",
    "                [width/2,height]]) # bottom\n",
    "result_world=np.array([[0,1,0], # front\n",
    "                [0,0,1], # top \n",
    "                [-1,0,0],  # left\n",
    "                [1,0,0],# right\n",
    "                [0,-1,0],# back\n",
    "                [0,0,-1]]) # bottom\n",
    "result_local=np.array([[0,0,1], # front\n",
    "                [0,1,0], # top \n",
    "                [-1,0,0],  # left\n",
    "                [1,0,0],# right\n",
    "                [0,0,-1],# back\n",
    "                [0,-1,0]]) # bottom"
   ]
  },
  {
   "cell_type": "code",
   "execution_count": 8,
   "metadata": {},
   "outputs": [
    {
     "name": "stdout",
     "output_type": "stream",
     "text": [
      "    loaded <PIL.JpegImagePlugin.JpegImageFile image mode=RGB size=8192x4096 at 0x20DD7CD77C0>\n"
     ]
    }
   ],
   "source": [
    "#PANO\n",
    "panoPath = path / 'pano'/ \"00000-pano.jpg\"\n",
    "pano = Image.open(panoPath)\n",
    "depthPath = path / 'pano'/ \"00000-pano_depth.png\"\n",
    "depthMap = np.asarray(Image.open(depthPath))\n",
    "csvPath = path / 'pano'/ \"pano-poses.csv\"\n",
    "csv = pd.read_csv(csvPath)\n",
    "jsonPath = path / 'pano'/ \"00000-info.json\"\n",
    "panoGraphPath=path / 'graphs'/'pano_graph.ttl'\n",
    "# panoGraph=Graph().parse(panoGraphPath, format='turtle')\n",
    "print(f'    loaded {pano}')\n"
   ]
  },
  {
   "cell_type": "code",
   "execution_count": 9,
   "metadata": {},
   "outputs": [
    {
     "data": {
      "text/plain": [
       "{'_depthPath': WindowsPath('c:/Users/u0094523/code/geomapi/tests/testfiles/pano/00000-pano_depth.png'),\n",
       " '_depthMap': array([[14.11 , 14.117, 14.123, ..., 14.093, 14.098, 14.104],\n",
       "        [14.11 , 14.117, 14.123, ..., 14.092, 14.098, 14.104],\n",
       "        [14.109, 14.116, 14.124, ..., 14.091, 14.097, 14.103],\n",
       "        ...,\n",
       "        [ 2.044,  2.044,  2.044, ...,  2.043,  2.043,  2.043],\n",
       "        [ 2.044,  2.044,  2.044, ...,  2.043,  2.043,  2.043],\n",
       "        [ 2.044,  2.044,  2.044, ...,  2.043,  2.043,  2.043]]),\n",
       " '_imageWidth': 8192,\n",
       " '_imageHeight': 4096,\n",
       " '_jsonPath': None,\n",
       " '_resource': array([[[238, 239, 241],\n",
       "         [238, 239, 241],\n",
       "         [238, 239, 241],\n",
       "         ...,\n",
       "         [238, 239, 241],\n",
       "         [238, 239, 241],\n",
       "         [238, 239, 241]],\n",
       " \n",
       "        [[238, 239, 241],\n",
       "         [238, 239, 241],\n",
       "         [238, 239, 241],\n",
       "         ...,\n",
       "         [238, 239, 241],\n",
       "         [238, 239, 241],\n",
       "         [238, 239, 241]],\n",
       " \n",
       "        [[238, 239, 241],\n",
       "         [238, 239, 241],\n",
       "         [238, 239, 241],\n",
       "         ...,\n",
       "         [238, 239, 241],\n",
       "         [238, 239, 241],\n",
       "         [238, 239, 241]],\n",
       " \n",
       "        ...,\n",
       " \n",
       "        [[126, 138, 138],\n",
       "         [126, 138, 138],\n",
       "         [126, 138, 138],\n",
       "         ...,\n",
       "         [130, 142, 142],\n",
       "         [130, 142, 142],\n",
       "         [130, 142, 142]],\n",
       " \n",
       "        [[126, 138, 138],\n",
       "         [126, 138, 138],\n",
       "         [126, 138, 138],\n",
       "         ...,\n",
       "         [130, 142, 142],\n",
       "         [130, 142, 142],\n",
       "         [130, 142, 142]],\n",
       " \n",
       "        [[126, 138, 138],\n",
       "         [126, 138, 138],\n",
       "         [126, 138, 138],\n",
       "         ...,\n",
       "         [130, 142, 142],\n",
       "         [130, 142, 142],\n",
       "         [130, 142, 142]]], dtype=uint8),\n",
       " '_path': WindowsPath('c:/Users/u0094523/code/geomapi/tests/testfiles/pano/00000-pano.jpg'),\n",
       " '_subject': rdflib.term.URIRef('http://00000-pano'),\n",
       " '_cartesianTransform': array([[1.        , 0.        , 0.        , 6.38405617],\n",
       "        [0.        , 1.        , 0.        , 0.29007973],\n",
       "        [0.        , 0.        , 1.        , 1.74535209],\n",
       "        [0.        , 0.        , 0.        , 1.        ]]),\n",
       " '_name': '00000-pano',\n",
       " '_graphPath': None,\n",
       " '_timestamp': '2024-04-10T13:50:51',\n",
       " '_graph': None,\n",
       " '_orientedBoundingBox': OrientedBoundingBox: center: (3.1498, 0.459319, 3.62506), extent: 30.4981, 27.8178, 19.2712),\n",
       " '_convexHull': TriangleMesh with 143 points and 282 triangles.}"
      ]
     },
     "execution_count": 9,
     "metadata": {},
     "output_type": "execute_result"
    }
   ],
   "source": [
    "ball=o3d.geometry.TriangleMesh.create_sphere(radius=0.5) #this gets Obox with x,y,z and no rotation\n",
    "ball.translate([0,0,-1])\n",
    "box=o3d.geometry.TriangleMesh.create_box(1,1,1)\n",
    "box.translate([0,0,1])\n",
    "\n",
    "#base hull\n",
    "node= PanoNode(path=panoPath,depthPath=depthPath,getResource=True)\n",
    "node.__dict__\n"
   ]
  },
  {
   "cell_type": "code",
   "execution_count": 10,
   "metadata": {},
   "outputs": [],
   "source": [
    "pcd=node.get_pcd_from_depth_map()\n",
    "# pcd.paint_uniform_color([0.5, 0.5, 0.5])"
   ]
  },
  {
   "cell_type": "code",
   "execution_count": 11,
   "metadata": {},
   "outputs": [
    {
     "data": {
      "text/plain": [
       "array([6.76121701, 0.36516179, 2.96351198])"
      ]
     },
     "execution_count": 11,
     "metadata": {},
     "output_type": "execute_result"
    }
   ],
   "source": [
    "pcd.get_center()"
   ]
  },
  {
   "cell_type": "code",
   "execution_count": 12,
   "metadata": {},
   "outputs": [
    {
     "name": "stdout",
     "output_type": "stream",
     "text": [
      "[[ 6.38405617e+00  2.90079733e-01  1.74535209e+00 -1.12667506e-15\n",
      "  -1.37977900e-31  1.84000000e+01]\n",
      " [ 6.38405617e+00  2.90079733e-01  1.74535209e+00 -1.57628588e-12\n",
      "  -1.93039345e-28  1.84000000e+01]\n",
      " [ 6.38405617e+00  2.90079733e-01  1.74535209e+00 -1.12667506e-15\n",
      "  -1.93039345e-28  1.84000000e+01]\n",
      " [ 6.38405617e+00  2.90079733e-01  1.74535209e+00 -1.12667506e-15\n",
      "   9.37275611e-28  1.84000000e+01]\n",
      " [ 6.38405617e+00  2.90079733e-01  1.74535209e+00 -1.12667506e-15\n",
      "  -2.80760681e-27  1.84000000e+01]\n",
      " [ 6.38405617e+00  2.90079733e-01  1.74535209e+00  7.65343617e-12\n",
      "   9.37275611e-28  1.84000000e+01]]\n"
     ]
    },
    {
     "data": {
      "text/plain": [
       "LineSet with 6 lines."
      ]
     },
     "execution_count": 12,
     "metadata": {},
     "output_type": "execute_result"
    }
   ],
   "source": [
    "rays=node.create_rays(,depths=20)\n",
    "print(rays)\n",
    "lineset=gmu.rays_to_lineset(rays)\n",
    "lineset.paint_uniform_color([0.5,0.5,0.5])"
   ]
  },
  {
   "cell_type": "code",
   "execution_count": 15,
   "metadata": {},
   "outputs": [
    {
     "data": {
      "text/plain": [
       "array([6.76121701, 0.36516179, 2.96351198])"
      ]
     },
     "execution_count": 15,
     "metadata": {},
     "output_type": "execute_result"
    }
   ],
   "source": [
    "pcd.get_center()"
   ]
  },
  {
   "cell_type": "code",
   "execution_count": 13,
   "metadata": {},
   "outputs": [
    {
     "name": "stdout",
     "output_type": "stream",
     "text": [
      "[Open3D WARNING] GLFW Error: WGL: Failed to make context current: The handle is invalid. \n"
     ]
    }
   ],
   "source": [
    "frame=o3d.geometry.TriangleMesh.create_coordinate_frame(size=5.0, origin=[0,0,0])\n",
    "box=o3d.geometry.TriangleMesh.create_box(10,10,3)\n",
    "box.paint_uniform_color([0.5,0.5,0.5])\n",
    "#visualize\n",
    "o3d.visualization.draw_geometries([frame,pcd,lineset])"
   ]
  },
  {
   "cell_type": "code",
   "execution_count": null,
   "metadata": {},
   "outputs": [],
   "source": [
    "\n",
    "#PARKING\n",
    "#POINTCLOUD\n",
    "pcdPath=path / 'pcd'/\"parking.pcd\"\n",
    "pcd=o3d.io.read_point_cloud(str(pcdPath))\n",
    "print(f'    loaded {pcd}')\n",
    "\n",
    "e57Path1=path / 'pcd'/\"lidar.e57\"\n",
    "e57XmlPath=path / 'pcd'/\"lidar.xml\"\n",
    "e571 = pye57.E57( str(e57Path1))\n",
    "e571Data=e571.read_scan_raw(1) \n",
    "print(f'    loaded {e57Path1}')\n",
    "\n",
    "e57Path2=path / 'pcd'/\"parking.e57\"\n",
    "e572 = pye57.E57( str(e57Path2))\n",
    "e572Data=e572.read_scan_raw(0) \n",
    "print(f'    loaded {e57Path2}')\n",
    "\n",
    "lasPath=path / 'pcd'/\"parking.las\"\n",
    "las=laspy.read(str(lasPath))\n",
    "print(f'    loaded {lasPath}')\n",
    "\n",
    "pcdGraphPath=path / 'graphs' /  'pcd_graph.ttl'\n",
    "pcdGraph=Graph().parse(pcdGraphPath)\n",
    "pcdSubject=next(s for s in pcdGraph.subjects(RDF.type) if 'parking' in s.toPython() )\n",
    "print(f'    loaded {pcdGraphPath}')           \n",
    "\n",
    "#MESH\n",
    "meshPath=path / 'mesh'/ 'parking.obj'\n",
    "mesh=o3d.io.read_triangle_mesh(str(meshPath))\n",
    "print(f'    loaded {mesh}') \n",
    "    \n",
    "meshGraphPath=path / 'graphs' /  'mesh_graph.ttl'\n",
    "meshGraph=Graph().parse(str(meshGraphPath))\n",
    "meshSubject= next(s for s in meshGraph.subjects(RDF.type) if 'parking' in s.toPython() )\n",
    "print(f'    loaded {meshGraphPath}')           \n",
    "\n",
    "# #IFC\n",
    "ifcPath=path / 'ifc' / \"parking.ifc\"\n",
    "ifcWallPath=path / 'ifc' / \"Basic_Wall_168_WA_f2_Soilmix_600mm_956569_06v1k9ENv8DhGMCvKUuLQV.ply\"\n",
    "# bimNodes=tl.ifc_to_nodes_multiprocessing(str(ifcPath)) #! Note: this uses geomapi functionality\n",
    "# print(f'loaded {len(bimNodes)} bimNodes from ifc file')\n",
    "\n",
    "ifcGraphPath=path /  'graphs' / 'parking_ifc_graph.ttl'\n",
    "ifcGraph=Graph().parse(str(ifcGraphPath))\n",
    "ifcSubject=next(s for s in ifcGraph.subjects(RDF.type))\n",
    "print(f'    loaded {ifcGraphPath}')      \n",
    "\n",
    "ifc = ifcopenshell.open(str(ifcPath))   \n",
    "ifcSlab=ifc.by_guid('2qZtnImXH6Tgdb58DjNlmF')\n",
    "ifcWall=ifc.by_guid('06v1k9ENv8DhGMCvKUuLQV')\n",
    "ifcBeam=ifc.by_guid('05Is7PfoXBjhBcbRTnzewz' )\n",
    "ifcColumn=ifc.by_guid('23JN72MijBOfF91SkLzf3a')\n",
    "\n",
    "slabMesh=gmu.ifc_to_mesh(ifcSlab)\n",
    "wallMesh=gmu.ifc_to_mesh(ifcWall)\n",
    "beamMesh=gmu.ifc_to_mesh(ifcBeam)\n",
    "columnMesh=gmu.ifc_to_mesh(ifcColumn) \n",
    "bimMeshes= [slabMesh,\n",
    "                wallMesh,\n",
    "                beamMesh,\n",
    "                columnMesh]\n",
    "bimBoxes=[mesh.get_oriented_bounding_box() for mesh in [slabMesh,\n",
    "                                                                wallMesh,\n",
    "                                                                beamMesh,\n",
    "                                                                columnMesh] if mesh]\n",
    "for box in bimBoxes:\n",
    "    box.color = [1, 0, 0]\n",
    "\n",
    "\n",
    "#IMG\n",
    "# csvPath=path / 'img' / 'parking.csv' #! we don't do anything with the csv\n",
    "imgGraphPath=path /  'graphs' / 'img_graph.ttl'\n",
    "imgGraph=Graph().parse(str(imgGraphPath))\n",
    "print(f'    loaded {imgGraphPath}')    \n",
    "\n",
    "imageXmpPath1 = path / 'img' / 'DJI_0085.xmp'\n",
    "imagePath1=path / 'img' / \"DJI_0085.JPG\" \n",
    "image1=cv2.imread(str(imagePath1))\n",
    "imageCartesianTransform1= np.array([[-8.13902571e-02,  6.83059476e-01 ,-7.25813597e-01,  5.18276221e+01],\n",
    "                                        [ 9.96648497e-01,  4.97790854e-02, -6.49139139e-02 , 6.10007435e+01],\n",
    "                                        [-8.20972697e-03, -7.28664391e-01, -6.84821733e-01,  1.50408221e+01],\n",
    "                                        [ 0.00000000e+00 , 0.00000000e+00, 0.00000000e+00 , 1.00000000e+00]])\n",
    "imageSubject1=next((s for s in imgGraph.subjects() if 'DJI_0085' in s.toPython()),None )\n",
    "principalPointV=-0.00481084380622187\n",
    "principalPointU=-0.00219347744418651\n",
    "print(f'    loaded {imagePath1}')           \n",
    "\n",
    "imageXmpPath2 = path / 'img' / 'IMG_8834.xmp'\n",
    "imagePath2=path / 'img' / \"IMG_8834.JPG\" \n",
    "image2=o3d.io.read_image(str(imagePath2))\n",
    "imageCartesianTransform2= np.array([[ 4.12555151e-01,  4.12058430e-02 ,-9.10000179e-01, 6.68850552e+01],\n",
    "                                        [ 9.10841440e-01, -4.52553581e-03,  4.12731621e-01 , 4.52551195e+01],\n",
    "                                        [ 1.28887160e-02 ,-9.99140430e-01 ,-3.93990225e-02 , 5.45377093e+00],\n",
    "                                        [ 0.00000000e+00 , 0.00000000e+00  ,0.00000000e+00 , 1.00000000e+00]])\n",
    "imageSubject2=next((s for s in imgGraph.subjects() if 'IMG_8834' in s.toPython()),None )\n",
    "print(f'    loaded {imagePath2}')    \n",
    "\n",
    "# #RESOURCES\n",
    "resourceGraphPath=path /  'graphs' / 'resources_graph.ttl'\n",
    "resourceGraph=Graph().parse(str(resourceGraphPath))\n",
    "print(f'    loaded {resourceGraphPath}')\n",
    "\n",
    "#SET\n",
    "setGraphPath=path /  'graphs' / 'set_graph.ttl'\n",
    "setGraph=Graph().parse(str(setGraphPath))\n",
    "print(f'    loaded {setGraphPath}')\n",
    "        \n",
    "#RESOURCES temporary folder\n",
    "resourcePath= path / \"resources\"\n",
    "if not os.path.exists(resourcePath):\n",
    "    os.mkdir(resourcePath)"
   ]
  },
  {
   "cell_type": "code",
   "execution_count": null,
   "metadata": {},
   "outputs": [],
   "source": [
    "nodes=tl.graph_path_to_nodes(resourceGraphPath,getResource=True)\n",
    "pcdNode=next(n for n in nodes if isinstance(n,PointCloudNode))\n",
    "meshNode=next(n for n in nodes if isinstance(n,MeshNode))\n",
    "imageNode=next(n for n in nodes if isinstance(n,ImageNode))\n",
    "bimNode=next(n for n in nodes if isinstance(n,BIMNode))\n",
    "#big hull\n",
    "points=o3d.utility.Vector3dVector()\n",
    "for node in nodes:\n",
    "    points.extend(node.convexHull.vertices)\n",
    "pcd= o3d.geometry.PointCloud()\n",
    "pcd.points=points\n",
    "big_hull, _ =pcd.compute_convex_hull()\n",
    "#big box\n",
    "big_box =big_hull.get_oriented_bounding_box()\n",
    "#big center\n",
    "big_center = gmu.get_cartesian_transform(translation=big_hull.get_center())\n",
    "\n",
    "\n"
   ]
  },
  {
   "cell_type": "code",
   "execution_count": 12,
   "metadata": {},
   "outputs": [],
   "source": [
    "\n",
    "# # #ROAD\n",
    "# #CAD\n",
    "# dxfPath= path / 'cad' / \"road.dxf\"\n",
    "# cadPath= path / 'cad' / \"line.ply\"                \n",
    "# dxf=ezdxf.readfile(dxfPath)\n",
    "# entity = next(entity for entity in dxf.modelspace().query(\"INSERT\"))\n",
    "# insert=cadu.ezdxf_entity_to_o3d(entity)\n",
    "# line=o3d.io.read_line_set(str(cadPath))\n",
    "# cadGraphPath=path /  'graphs' / 'cad_graph.ttl'\n",
    "# cadGraph=Graph().parse(cadGraphPath)\n",
    "# print(f'loaded {dxf}')\n",
    "\n",
    "# pcdPath=path / 'pcd'/\"road.pcd\"\n",
    "# pcd=o3d.io.read_point_cloud(str(pcdPath))\n",
    "# ifcPath=path / 'ifc' / \"road.ifc\"\n",
    "# # bimNodes=tl.ifc_to_nodes_multiprocessing(str(ifcPath)) #! Note: this uses geomapi functionality\n",
    "# # print(f'    loaded {len(bimNodes)} bimNodes from ifc file')\n",
    "\n",
    "# meshPath=path / 'mesh'/\"road.ply\"\n",
    "# mesh2=o3d.io.read_triangle_mesh(str(meshPath))\n",
    "# print(f'    loaded {mesh2}')    \n",
    "\n",
    "# #IMG\n",
    "# imgGraphPath=path /  'graphs' / 'img_graph.ttl'\n",
    "# imgGraph=Graph().parse(str(imgGraphPath))\n",
    "# print(f'    loaded {imgGraphPath}')    \n",
    "\n",
    "\n",
    "# imageXmlPath = path / 'img' / 'road.xml'            \n",
    "# imagePath1=path / 'img' / \"101_0367_0007.JPG\" \n",
    "# image1=cv2.imread(str(imagePath1))\n",
    "# imageCartesianTransform1= np.array([[-7.99965974e-01, -5.98493762e-01 ,-4.31237396e-02,  1.00592066e+05],\n",
    "#                                         [-5.99164887e-01,  8.00618459e-01,  3.39417250e-03 , 1.96282855e+05],\n",
    "#                                         [ 3.24942709e-02 , 2.85534531e-02, -9.99063973e-01,  3.19272496e+01],\n",
    "#                                         [ 0.00000000e+00 , 0.00000000e+00,  0.00000000e+00 , 1.00000000e+00]])\n",
    "# imageSubject1=next((s for s in imgGraph.subjects(RDF.type) if '101_0367_0007' in s.toPython()),None )\n",
    "# focalLength1=3693.1569475809993\n",
    "# imageWidth1=5472\n",
    "# imageHeight1=3648\n",
    "# print(f'    loaded {imagePath1}')           \n",
    "\n",
    "\n",
    "# imagePath2=path / 'img' / \"101_0367_0055.JPG\" \n",
    "# image2=Image.open(imagePath2)\n",
    "# imageCartesianTransform2= np.array([[ 8.16701918e-01,  5.76783553e-01,  1.78524640e-02,  1.00585779e+05],\n",
    "#                                         [ 5.76947600e-01, -8.16762274e-01, -5.55470424e-03,  1.96265377e+05],\n",
    "#                                         [ 1.13773570e-02 , 1.48364739e-02, -9.99825202e-01,  3.19327009e+01],\n",
    "#                                         [ 0.00000000e+00, 0.00000000e+00 , 0.00000000e+00 , 1.00000000e+00]])\n",
    "# imageSubject2=next((s for s in imgGraph.subjects(RDF.type) if '101_0367_0055' in s.toPython()),None )\n",
    "# focalLength2=3693.1569475809993\n",
    "# imageWidth2=5472\n",
    "# imageHeight2=3648\n",
    "# print(f'    loaded {imagePath2}')      "
   ]
  },
  {
   "cell_type": "code",
   "execution_count": 13,
   "metadata": {},
   "outputs": [],
   "source": [
    "# #RAILWAY\n",
    "\n",
    "# #CAD\n",
    "# dxfPath= path / 'cad' / \"railway.dxf\"\n",
    "# dxf=ezdxf.readfile(dxfPath)\n",
    "# entity = next(entity for entity in dxf.modelspace().query(\"LINE\"))\n",
    "# line=cadu.ezdxf_entity_to_o3d(entity)\n",
    "# cadGraphPath=path /  'graphs' / 'cad_graph.ttl'        \n",
    "# cadGraph=Graph().parse(cadGraphPath)    \n",
    "# cadSubject=next((s for s in cadGraph.subjects(RDF.type) if 'railway' in s.toPython()),None )\n",
    "# #PCD\n",
    "# pcdPath=path / 'pcd'/\"railway.laz\"\n",
    "# laz=laspy.read(str(pcdPath))\n",
    "# pcd=gmu.las_to_pcd(laz)\n",
    "# print(f'    loaded {laz}')\n",
    "\n",
    "# pcdGraphpath=path / 'graphs' /  'pcd_graph.ttl'\n",
    "# pcdGraph=Graph().parse(str(pcdGraphpath))\n",
    "# # pcdSubject=next(s for s in pcdGraph.subjects(RDF.type) if 'railway' in s.toPython() )\n",
    "# print(f'    loaded {pcdGraphpath}')\n",
    "\n",
    "# #MESH\n",
    "# meshPath=path / 'mesh'/\"railway.obj\"\n",
    "# mesh=o3d.io.read_triangle_mesh(str(meshPath))\n",
    "# print(f'    loaded {mesh}')    \n",
    "    \n",
    "# meshGraphPath=path / 'graphs' /  'mesh_graph.ttl'\n",
    "# meshGraph=Graph().parse(meshGraphPath)\n",
    "# # meshSubject= next(s for s in meshGraph.subjects(RDF.type) if 'railway' in s.toPython() )\n",
    "# print(f'    loaded {meshGraphPath}')    \n",
    "\n",
    "# #IMG\n",
    "# imgGraphPath=path /  'graphs' / 'img_graph.ttl'\n",
    "# imgGraph=Graph().parse(str(imgGraphPath))\n",
    "# print(f'    loaded {imgGraphPath}')    \n",
    "\n",
    "\n",
    "# imageXmlPath = path / 'img' / 'railway.xml'            \n",
    "# imagePath1=path / 'img' / \"P0024688.JPG\" \n",
    "# image1=cv2.imread(str(imagePath1))\n",
    "# imageCartesianTransform1= np.array([[ 5.83812227e-02, -9.98234429e-01,  1.09387827e-02, 2.63374319e+05],\n",
    "#                                     [-9.98294230e-01, -5.83833322e-02,  1.26659890e-04,1.51069035e+05],\n",
    "#                                     [ 5.12206323e-04, -1.09275183e-02, -9.99940162e-01,2.82230717e+02],\n",
    "#                                     [ 0.00000000e+00,  0.00000000e+00,  0.00000000e+00,1.00000000e+00]])\n",
    "\n",
    "# distance=25.98837076368911\n",
    "# imageSubject1=next(s for s in imgGraph.subjects(RDF.type) if 'P0024688' in s.toPython() )\n",
    "# focalLength1=21963.0445544689\n",
    "# imageWidth1=11664\n",
    "# imageHeight1=8750\n",
    "# worldCoordinate= np.array([[263377.98, 151064.413 , 256.92,1]])\n",
    "# imgCoordinate= np.array([[1676, 10007]]) \n",
    "\n",
    "# #ORTHO\n",
    "# # orthoPath1=path / 'ortho' / \"railway_0.01m.jpg\"\n",
    "# # orthoTfwPath1=path / 'ortho' / \"railway_0.01m.tfw\"\n",
    "# # ortho1=Image.open(orthoPath1)\n",
    "# # gsd1=0.01\n",
    "# # orthoCenter1= np.array([151080.793, -263395.50100000005,256]) #how to we get height?\n",
    "# # print(f'    loaded {orthoPath1}')  \n",
    "# orthoPath2=path / 'ortho' / \"railway-0-0.tif\"\n",
    "# orthoTfwPath2=path / 'ortho' / \"railway-0-0.tfw\"\n",
    "# orthoDxfPath2=path / 'ortho' / \"railway-scheme.dxf\"        \n",
    "# ortho2=Image.open(orthoPath2)\n",
    "# gsd2=0.01560589037\n",
    "# orthoCenter2= np.array([263379.5193, 151089.1667,256]) #how to we get height?\n",
    "# orthoWidth2= 31.961\n",
    "# orthoHeight2= 31.961\n",
    "# orthoHeight=256\n",
    "# print(f'    loaded {orthoPath2}')    \n",
    "# orthoGraphPath=path /  'graphs' / 'ortho_graph.ttl'\n",
    "# orthoGraph=Graph().parse(str(orthoGraphPath))\n",
    "# orthoSubject=next(s for s in orthoGraph.subjects(RDF.type) if 'railway-0-0' in s.toPython() )"
   ]
  },
  {
   "cell_type": "code",
   "execution_count": null,
   "metadata": {},
   "outputs": [],
   "source": [
    "graph=Graph()\n",
    "graph=ut.bind_ontologies(graph)\n",
    "string=ut.get_attribute_from_predicate(graph, predicate =Literal('http://libe57.org#pointCount')) \n",
    "print(string,'pointCount')\n",
    "string=ut.get_attribute_from_predicate(graph, predicate =Literal('https://w3id.org/v4d/core#faceCount')) \n",
    "print(string,'faceCount')\n",
    "string=ut.get_attribute_from_predicate(graph, predicate =Literal('http://purl.org/dc/terms/created')) \n",
    "print(string,'timestamp')\n",
    "string=ut.get_attribute_from_predicate(graph, predicate =Literal('http://standards.buildingsmart.org/IFC/DEV/IFC2x3/TC1/OWL#className')) \n",
    "print(string,'className')\n",
    "string=ut.get_attribute_from_predicate(graph, predicate =Literal('http://www.w3.org/2003/12/exif/ns#xResolution')) \n",
    "print(string,'xResolution')\n",
    "string=ut.get_attribute_from_predicate(graph, predicate =Literal('https://w3id.org/gom#coordinateSystem')) \n",
    "print(string,'coordinateSystem')"
   ]
  },
  {
   "cell_type": "code",
   "execution_count": null,
   "metadata": {},
   "outputs": [],
   "source": [
    "g=setNode.get_graph()\n",
    "print(g.serialize())"
   ]
  },
  {
   "cell_type": "code",
   "execution_count": 31,
   "metadata": {},
   "outputs": [],
   "source": [
    "lineset=gmu.mesh_get_lineset(big_hull)\n",
    "lineset.paint_uniform_color([1,0,0])\n",
    "\n",
    "nodelineset=gmu.mesh_get_lineset(node.convexHull)\n",
    "nodelineset.paint_uniform_color([0,1,0])\n",
    "# big_hull.paint_uniform_color([1,0,0])\n",
    "#visualize the data\n",
    "o3d.visualization.draw_geometries([pcdNode.resource,meshNode.resource,bimNode.resource,imageNode.convexHull,nodelineset,lineset])\n",
    "# o3d.visualization.draw_geometries([node.convexHull,big_hull])\n"
   ]
  },
  {
   "cell_type": "code",
   "execution_count": null,
   "metadata": {},
   "outputs": [],
   "source": [
    "lineSetNodes=tl.ezdxf_path_to_nodes(dxfPath)\n",
    "lineSetNode=lineSetNodes[0].__dict__"
   ]
  },
  {
   "cell_type": "code",
   "execution_count": null,
   "metadata": {},
   "outputs": [],
   "source": [
    "rays=imageNode.create_rays()\n",
    "lineset1=gmu.rays_to_lineset(rays)\n",
    "\n",
    "rays=imageNode.create_rays(np.array([1676,10007]),25)\n",
    "lineset2=gmu.rays_to_lineset(rays)\n",
    "lineset2.paint_uniform_color(np.array([  0, 189,   0])/255) "
   ]
  },
  {
   "cell_type": "code",
   "execution_count": null,
   "metadata": {},
   "outputs": [],
   "source": [
    "node.orientedBoundingBox.color=[1,0,0]"
   ]
  },
  {
   "cell_type": "code",
   "execution_count": null,
   "metadata": {},
   "outputs": [],
   "source": [
    "#visualize mesh, rays and lineset \n",
    "# o3d.visualization.draw_geometries([lineset1,lineset2]+[n.resource for n in lineSetNodes])\n",
    "geometries=gmu.join_geometries([n.resource for n in lineSetNodes])\n",
    "o3d.visualization.draw_geometries([geometries,node.orientedBoundingBox,mesh])\n",
    "# o3d.visualization.draw_geometries([lineset1,lineset2,geometries,imageNode.orientedBoundingBox, imageNode.convexHull])\n"
   ]
  },
  {
   "cell_type": "code",
   "execution_count": null,
   "metadata": {},
   "outputs": [],
   "source": [
    "# tl.compute_graph_topology() #function that takes a graph and returns a graph with the topology of the graph"
   ]
  },
  {
   "cell_type": "code",
   "execution_count": null,
   "metadata": {},
   "outputs": [],
   "source": [
    "translation=[1,2,3]\n",
    "rotation=None\n",
    "# Initialize identity rotation matrix and zero translation vector\n",
    "r = np.eye(3)\n",
    "t = np.zeros((3, 1))\n",
    "\n",
    "# Update rotation matrix if provided\n",
    "if rotation is not None:\n",
    "    rotation=np.asarray(rotation)\n",
    "    if rotation.size == 3:\n",
    "        r = R.from_euler('xyz', rotation,degrees=True).as_matrix()\n",
    "    elif rotation.size == 9:\n",
    "        r = np.reshape(np.asarray(rotation), (3, 3))\n",
    "    else:\n",
    "        raise ValueError(\"Rotation must be either a 3x3 matrix or a tuple/list of three Euler angles.\")\n",
    "\n",
    "# Update translation vector if provided\n",
    "if translation is not None:\n",
    "    t = np.reshape(np.asarray(translation), (3, 1))\n",
    "\n",
    "# Create the last row of the transformation matrix\n",
    "h = np.array([[0, 0, 0, 1]])\n",
    "\n",
    "# Concatenate rotation and translation to form the 3x4 upper part of the transformation matrix\n",
    "transformation = np.hstack((r, t))\n",
    "\n",
    "# Add the last row to make it a 4x4 matrix\n",
    "transformation = np.vstack((transformation, h))\n",
    "print(transformation)"
   ]
  },
  {
   "cell_type": "code",
   "execution_count": null,
   "metadata": {},
   "outputs": [],
   "source": [
    "transformation = np.array([[1, 0, 0, 1],\n",
    "                                   [0, 1, 0, 2],\n",
    "                                   [0, 0, 1, 3],\n",
    "                                   [0, 0, 0, 1]])\n",
    "resource=copy.deepcopy(mesh)\n",
    "center=resource.get_center()\n",
    "node=Node(resource=resource,cartesianTransform=center)\n",
    "print(node.cartesianTransform)\n",
    "print(node.resource.get_center())\n",
    "\n",
    "\n",
    "node.transform(transformation=transformation)\n",
    "\n",
    "# node.transform(translation=translation)\n",
    "print(node.cartesianTransform)\n",
    "print(node.resource.get_center())\n",
    "print(center[0]+1)\n",
    "print(node.cartesianTransform[0,3])"
   ]
  },
  {
   "cell_type": "code",
   "execution_count": null,
   "metadata": {},
   "outputs": [],
   "source": [
    "# imgNodes=[geomapi.imgNode(xmlPath=imageXmpPath1),imgNode(xmlPath=imageXmpPath1)]\n",
    "imgNode1=ImageNode(xmpPath=imageXmpPath1,getResource=True)\n",
    "imgNode2=ImageNode(xmpPath=imageXmpPath2,getResource=True)\n",
    "meshNode=MeshNode(path=meshPath,getResource=True)\n",
    "pcdNode=PointCloudNode(path=pcdPath,getResource=True)"
   ]
  },
  {
   "cell_type": "code",
   "execution_count": null,
   "metadata": {},
   "outputs": [],
   "source": [
    "#get list of files\n",
    "files=[str(path / 'IMG' / 'DJI_0085.xmp'),str(path / 'IMG' / 'IMG_8834.xmp')]\n",
    "print(files)\n",
    "#select every fifth files\n",
    "imgNodes=[]\n",
    "for f in files:     \n",
    "    n=ImageNode(name=ut.get_filename(f),  #! this took quite long from remote drive                            \n",
    "                                xmpPath=f,getResource=True)\n",
    "    del n.resource\n",
    "    if getattr(n,'imageWidth',None) is not None:\n",
    "    #delete resource\n",
    "    \n",
    "\n",
    "        #set focallength and cartesianTransform\n",
    "        n.focalLength35mm=n.focalLength35mm/36*n.imageWidth #! multiple definitions possible    \n",
    "        rotation= n.cartesianTransform[0:3,0:3].T #! RC uses column-based rotaton matrix\n",
    "        translation=n.cartesianTransform[0:3,3]\n",
    "        n.cartesianTransform=gmu.get_cartesian_transform(rotation=rotation,translation=translation)\n",
    "        \n",
    "        imgNodes.append(n)\n",
    "    \n",
    "number=len(imgNodes)\n",
    "imgNodes=[n for n in imgNodes if all(n.cartesianTransform[0:3,3] !=0)]\n",
    "joinedImages=gmu.join_geometries([gmu.generate_visual_cone_from_image(n.cartesianTransform, height =1).paint_uniform_color([1,0,0]) for n in imgNodes])\n",
    "print(f\"{len(imgNodes)} / {number} Nodes created (remainder is not properly localised)!\")"
   ]
  },
  {
   "cell_type": "code",
   "execution_count": null,
   "metadata": {},
   "outputs": [],
   "source": [
    "tl.nodes_to_graph(imgNodes,graphPath=str(path / 'img' / 'parking_img_graph.ttl'),save=   True)"
   ]
  },
  {
   "cell_type": "code",
   "execution_count": null,
   "metadata": {},
   "outputs": [],
   "source": [
    "ut.cartesianTransform_to_literal(imageCartesianTransform1)"
   ]
  },
  {
   "cell_type": "code",
   "execution_count": null,
   "metadata": {},
   "outputs": [],
   "source": [
    "assert '-8.1390571e-02' in ut.cartesianTransform_to_literal(imageCartesianTransform1)"
   ]
  }
 ],
 "metadata": {
  "kernelspec": {
   "display_name": "geomapi_dev",
   "language": "python",
   "name": "python3"
  },
  "language_info": {
   "codemirror_mode": {
    "name": "ipython",
    "version": 3
   },
   "file_extension": ".py",
   "mimetype": "text/x-python",
   "name": "python",
   "nbconvert_exporter": "python",
   "pygments_lexer": "ipython3",
   "version": "3.10.14"
  },
  "orig_nbformat": 4
 },
 "nbformat": 4,
 "nbformat_minor": 2
}

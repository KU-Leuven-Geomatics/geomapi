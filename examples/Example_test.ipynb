{
 "cells": [
  {
   "cell_type": "code",
   "execution_count": 1,
   "metadata": {},
   "outputs": [
    {
     "name": "stdout",
     "output_type": "stream",
     "text": [
      "Jupyter environment detected. Enabling Open3D WebVisualizer.\n",
      "[Open3D INFO] WebRTC GUI backend enabled.\n",
      "[Open3D INFO] WebRTCWindowSystem: HTTP handshake server disabled.\n"
     ]
    }
   ],
   "source": [
    "#IMPORT PACKAGES\n",
    "from rdflib import Graph, URIRef\n",
    "import os.path\n",
    "import importlib\n",
    "import numpy as np\n",
    "import xml.etree.ElementTree as ET\n",
    "import open3d as o3d\n",
    "import uuid    \n",
    "import pye57 \n",
    "import ifcopenshell\n",
    "import ifcopenshell.geom as geom\n",
    "import ifcopenshell.util\n",
    "import ifcopenshell.util.selector\n",
    "import random as rd\n",
    "import pandas as pd\n",
    "from tabulate import tabulate\n",
    "import cv2\n",
    "\n",
    "\n",
    "#IMPORT MODULES\n",
    "from context import geomapi \n",
    "from geomapi.nodes import *\n",
    "import geomapi.utils as ut\n",
    "from geomapi.utils import geometryutils as gmu\n",
    "import geomapi.tools as tl"
   ]
  },
  {
   "cell_type": "code",
   "execution_count": 2,
   "metadata": {},
   "outputs": [
    {
     "name": "stderr",
     "output_type": "stream",
     "text": [
      "UsageError: Line magic function `%autoreload` not found.\n"
     ]
    }
   ],
   "source": [
    "%autoreload 2"
   ]
  },
  {
   "cell_type": "code",
   "execution_count": 3,
   "metadata": {},
   "outputs": [],
   "source": [
    "%load_ext autoreload"
   ]
  },
  {
   "cell_type": "code",
   "execution_count": 4,
   "metadata": {},
   "outputs": [
    {
     "name": "stdout",
     "output_type": "stream",
     "text": [
      "loaded D:\\geomapi\\tests\\testfiles\\graphs\\parking_resource_graph.ttl\n",
      "loaded PointCloud with 556485 points.\n",
      "loaded D:\\geomapi\\tests\\testfiles\\pcd\\lidar.e57\n",
      "loaded D:\\geomapi\\tests\\testfiles\\pcd\\parking.e57\n",
      "loaded D:\\geomapi\\tests\\testfiles\\pcd\\parking.las\n",
      "loaded D:\\geomapi\\tests\\testfiles\\graphs\\pcd_graph.ttl\n",
      "loaded TriangleMesh with 62143 points and 49999 triangles.\n",
      "loaded D:\\geomapi\\tests\\testfiles\\graphs\\mesh_graph.ttl\n",
      "loaded 2368 bimNodes from ifc file\n",
      "loaded D:\\geomapi\\tests\\testfiles\\graphs\\parking_ifc_graph.ttl\n",
      "loaded D:\\geomapi\\tests\\testfiles\\graphs\\road_img_graph.ttl\n",
      "loaded D:\\geomapi\\tests\\testfiles\\IMG\\DJI_0085.JPG\n",
      "loaded D:\\geomapi\\tests\\testfiles\\IMG\\IMG_8834.JPG\n"
     ]
    }
   ],
   "source": [
    "# path='D:\\geomapi\\tests\\testfiles'\n",
    "from pathlib import Path\n",
    "import pye57\n",
    "import laspy\n",
    "\n",
    "#PATH\n",
    "path= Path('D:\\geomapi') / \"tests\" / \"testfiles\"  \n",
    "\n",
    "#RESOURCES\n",
    "resourceGraphPath=path /  'graphs' / 'parking_resource_graph.ttl'\n",
    "resourceGraph=Graph().parse(str(resourceGraphPath))\n",
    "print(f'loaded {resourceGraphPath}')\n",
    "\n",
    "#POINTCLOUD\n",
    "pcdPath=path / 'pcd'/\"parking.pcd\"\n",
    "pcd=o3d.io.read_point_cloud(str(pcdPath))\n",
    "print(f'loaded {pcd}')\n",
    "\n",
    "e57Path1=path / 'pcd'/\"lidar.e57\"\n",
    "xmlPath=path / 'pcd'/\"lidar.xml\"\n",
    "e57_1 = pye57.E57( str(e57Path1))\n",
    "e571=e57_1.read_scan_raw(1) \n",
    "print(f'loaded {e57Path1}')\n",
    "\n",
    "e57Path2=path / 'pcd'/\"parking.e57\"\n",
    "e57_2 = pye57.E57( str(e57Path2))\n",
    "e572=e57_2.read_scan_raw(0) \n",
    "print(f'loaded {e57Path2}')\n",
    "\n",
    "lasPath=path / 'pcd'/\"parking.las\"\n",
    "las=laspy.read(str(lasPath))\n",
    "print(f'loaded {lasPath}')\n",
    "\n",
    "pcdGraphpath=path / 'graphs' /  'pcd_graph.ttl'\n",
    "pcdGraph=Graph().parse(pcdGraphpath)\n",
    "print(f'loaded {pcdGraphpath}')           \n",
    "\n",
    "\n",
    "#MESH\n",
    "meshPath=path / 'mesh'/ 'parking.obj'\n",
    "mesh=o3d.io.read_triangle_mesh(str(meshPath))\n",
    "print(f'loaded {mesh}') \n",
    "\n",
    "meshGraphPath=path / 'graphs' /  'mesh_graph.ttl'\n",
    "meshGraph=Graph().parse(str(meshGraphPath))\n",
    "print(f'loaded {meshGraphPath}')           \n",
    "\n",
    "\n",
    "#IFC\n",
    "ifcPath=path / 'ifc' / \"parking.ifc\"\n",
    "bimNodes=tl.ifc_to_nodes_multiprocessing(str(ifcPath)) #! Note: this uses geomapi functionality\n",
    "print(f'loaded {len(bimNodes)} bimNodes from ifc file')\n",
    "\n",
    "ifcGraphPath=path /  'graphs' / 'parking_ifc_graph.ttl'\n",
    "ifcGraph=Graph().parse(str(ifcGraphPath))\n",
    "print(f'loaded {ifcGraphPath}')           \n",
    "\n",
    "#IMG\n",
    "csvPath=path / 'IMG' / 'parking.csv' #! we don't do anything with the csv\n",
    "imgGraphPath=path /  'graphs' / 'road_img_graph.ttl'\n",
    "imgGraph=Graph().parse(str(imgGraphPath))\n",
    "print(f'loaded {imgGraphPath}')    \n",
    "\n",
    "imageXmpPath1 = path / 'IMG' / 'DJI_0085.xmp'\n",
    "imagePath1=path / 'IMG' / \"DJI_0085.JPG\" \n",
    "image1=cv2.imread(str(imagePath1))\n",
    "imageCartesianTransform1= np.array([[-8.13902571e-02,  6.83059476e-01 ,-7.25813597e-01,  5.18276221e+01],\n",
    "                                    [ 9.96648497e-01,  4.97790854e-02, -6.49139139e-02 , 6.10007435e+01],\n",
    "                                    [-8.20972697e-03, -7.28664391e-01, -6.84821733e-01,  1.50408221e+01],\n",
    "                                    [ 0.00000000e+00 , 0.00000000e+00, 0.00000000e+00 , 1.00000000e+00]])\n",
    "print(f'loaded {imagePath1}')           \n",
    "\n",
    "imageXmpPath2 = path / 'IMG' / 'IMG_8834.xmp'\n",
    "imagePath2=path / 'IMG' / \"IMG_8834.JPG\" \n",
    "image2=cv2.imread(str(imagePath2))\n",
    "imageCartesianTransform2= np.array([[ 4.12555151e-01,  4.12058430e-02 ,-9.10000179e-01, 6.68850552e+01],\n",
    "                                    [ 9.10841440e-01, -4.52553581e-03,  4.12731621e-01 , 4.52551195e+01],\n",
    "                                    [ 1.28887160e-02 ,-9.99140430e-01 ,-3.93990225e-02 , 5.45377093e+00],\n",
    "                                    [ 0.00000000e+00 , 0.00000000e+00  ,0.00000000e+00 , 1.00000000e+00]])\n",
    "print(f'loaded {imagePath2}')    \n"
   ]
  },
  {
   "cell_type": "code",
   "execution_count": 5,
   "metadata": {},
   "outputs": [],
   "source": [
    "# imgNodes=[geomapi.imgNode(xmlPath=imageXmpPath1),imgNode(xmlPath=imageXmpPath1)]\n",
    "imgNode1=ImageNode(xmpPath=imageXmpPath1,getResource=True)\n",
    "imgNode2=ImageNode(xmpPath=imageXmpPath2,getResource=True)\n",
    "meshNode=MeshNode(path=meshPath,getResource=True)\n",
    "pcdNode=PointCloudNode(path=pcdPath,getResource=True)"
   ]
  },
  {
   "cell_type": "code",
   "execution_count": 9,
   "metadata": {},
   "outputs": [
    {
     "name": "stdout",
     "output_type": "stream",
     "text": [
      "['D:\\\\geomapi\\\\tests\\\\testfiles\\\\IMG\\\\DJI_0085.xmp', 'D:\\\\geomapi\\\\tests\\\\testfiles\\\\IMG\\\\IMG_8834.xmp']\n",
      "2 / 2 Nodes created (remainder is not properly localised)!\n"
     ]
    }
   ],
   "source": [
    "#get list of files\n",
    "files=[str(path / 'IMG' / 'DJI_0085.xmp'),str(path / 'IMG' / 'IMG_8834.xmp')]\n",
    "print(files)\n",
    "#select every fifth files\n",
    "imgNodes=[]\n",
    "for f in files:     \n",
    "    n=ImageNode(name=ut.get_filename(f),  #! this took quite long from remote drive                            \n",
    "                                xmpPath=f,getResource=True)\n",
    "    del n.resource\n",
    "    if getattr(n,'imageWidth',None) is not None:\n",
    "    #delete resource\n",
    "    \n",
    "\n",
    "        #set focallength and cartesianTransform\n",
    "        n.focalLength35mm=n.focalLength35mm/36*n.imageWidth #! multiple definitions possible    \n",
    "        rotation= n.cartesianTransform[0:3,0:3].T #! RC uses column-based rotaton matrix\n",
    "        translation=n.cartesianTransform[0:3,3]\n",
    "        n.cartesianTransform=gmu.get_cartesian_transform(rotation=rotation,translation=translation)\n",
    "        \n",
    "        imgNodes.append(n)\n",
    "    \n",
    "number=len(imgNodes)\n",
    "imgNodes=[n for n in imgNodes if all(n.cartesianTransform[0:3,3] !=0)]\n",
    "joinedImages=gmu.join_geometries([gmu.generate_visual_cone_from_image(n.cartesianTransform, height =1).paint_uniform_color([1,0,0]) for n in imgNodes])\n",
    "print(f\"{len(imgNodes)} / {number} Nodes created (remainder is not properly localised)!\")"
   ]
  },
  {
   "cell_type": "code",
   "execution_count": 8,
   "metadata": {},
   "outputs": [
    {
     "data": {
      "text/plain": [
       "<Graph identifier=N45ae4ee814a9438c9dbf82f0120ea5f3 (<class 'rdflib.graph.Graph'>)>"
      ]
     },
     "execution_count": 8,
     "metadata": {},
     "output_type": "execute_result"
    }
   ],
   "source": [
    "tl.nodes_to_graph(imgNodes,graphPath=str(path / 'img' / 'parking_img_graph.ttl'),save=   True)"
   ]
  },
  {
   "cell_type": "code",
   "execution_count": 7,
   "metadata": {},
   "outputs": [
    {
     "data": {
      "text/plain": [
       "'[[-8.13902571e-02]\\n [ 6.83059476e-01]\\n [-7.25813597e-01]\\n [ 5.18276221e+01]\\n [ 9.96648497e-01]\\n [ 4.97790854e-02]\\n [-6.49139139e-02]\\n [ 6.10007435e+01]\\n [-8.20972697e-03]\\n [-7.28664391e-01]\\n [-6.84821733e-01]\\n [ 1.50408221e+01]\\n [ 0.00000000e+00]\\n [ 0.00000000e+00]\\n [ 0.00000000e+00]\\n [ 1.00000000e+00]]'"
      ]
     },
     "execution_count": 7,
     "metadata": {},
     "output_type": "execute_result"
    }
   ],
   "source": [
    "ut.cartesianTransform_to_literal(imageCartesianTransform1)"
   ]
  },
  {
   "cell_type": "code",
   "execution_count": 10,
   "metadata": {},
   "outputs": [
    {
     "ename": "AssertionError",
     "evalue": "",
     "output_type": "error",
     "traceback": [
      "\u001b[1;31m---------------------------------------------------------------------------\u001b[0m",
      "\u001b[1;31mAssertionError\u001b[0m                            Traceback (most recent call last)",
      "\u001b[1;32m~\\AppData\\Local\\Temp/ipykernel_11772/2115818224.py\u001b[0m in \u001b[0;36m<module>\u001b[1;34m\u001b[0m\n\u001b[1;32m----> 1\u001b[1;33m \u001b[1;32massert\u001b[0m \u001b[1;34m'-8.1390571e-02'\u001b[0m \u001b[1;32min\u001b[0m \u001b[0mut\u001b[0m\u001b[1;33m.\u001b[0m\u001b[0mcartesianTransform_to_literal\u001b[0m\u001b[1;33m(\u001b[0m\u001b[0mimageCartesianTransform1\u001b[0m\u001b[1;33m)\u001b[0m\u001b[1;33m\u001b[0m\u001b[1;33m\u001b[0m\u001b[0m\n\u001b[0m",
      "\u001b[1;31mAssertionError\u001b[0m: "
     ]
    }
   ],
   "source": [
    "assert '-8.1390571e-02' in ut.cartesianTransform_to_literal(imageCartesianTransform1)"
   ]
  }
 ],
 "metadata": {
  "kernelspec": {
   "display_name": "conda_environment3",
   "language": "python",
   "name": "python3"
  },
  "language_info": {
   "codemirror_mode": {
    "name": "ipython",
    "version": 3
   },
   "file_extension": ".py",
   "mimetype": "text/x-python",
   "name": "python",
   "nbconvert_exporter": "python",
   "pygments_lexer": "ipython3",
   "version": "3.8.13"
  },
  "orig_nbformat": 4,
  "vscode": {
   "interpreter": {
    "hash": "801b4083378541fd050d6c91abf6ec053c863905e8162e031d57b83e7cdb3051"
   }
  }
 },
 "nbformat": 4,
 "nbformat_minor": 2
}

{
 "cells": [
  {
   "cell_type": "markdown",
   "metadata": {},
   "source": [
    "# EXAMPLE BIMNODES\n",
    "In this notebook, we create and manipulate BIMNodes from different inputs."
   ]
  },
  {
   "cell_type": "code",
   "execution_count": 11,
   "metadata": {},
   "outputs": [],
   "source": [
    "#IMPORT PACKAGES\n",
    "from rdflib import Graph,URIRef,Literal, RDFS,XSD\n",
    "import rdflib\n",
    "import os.path, time\n",
    "import importlib\n",
    "import numpy as np\n",
    "import open3d as o3d\n",
    "import ifcopenshell\n",
    "import ifcopenshell.util.selector\n",
    "\n",
    "#IMPORT MODULES\n",
    "from context import geomapi \n",
    "from geomapi.nodes import *\n",
    "import geomapi.utils as ut\n",
    "from geomapi.utils import geometryutils as gmu\n",
    "import geomapi.tools as tl\n",
    "from rdflib import RDF"
   ]
  },
  {
   "cell_type": "code",
   "execution_count": 12,
   "metadata": {},
   "outputs": [
    {
     "name": "stdout",
     "output_type": "stream",
     "text": [
      "The autoreload extension is already loaded. To reload it, use:\n",
      "  %reload_ext autoreload\n"
     ]
    }
   ],
   "source": [
    "%load_ext autoreload"
   ]
  },
  {
   "cell_type": "code",
   "execution_count": 13,
   "metadata": {},
   "outputs": [],
   "source": [
    "%autoreload 2"
   ]
  },
  {
   "cell_type": "markdown",
   "metadata": {},
   "source": [
    "## 1. INPUT"
   ]
  },
  {
   "cell_type": "code",
   "execution_count": 14,
   "metadata": {},
   "outputs": [],
   "source": [
    "path= os.path.join(os.path.abspath(os.path.join(os.getcwd(), os.pardir)),\"test\",\"testfiles\" )#\"D:\\\\Data\\\\2018-06 Werfopvolging Academiestraat Gent\" \n"
   ]
  },
  {
   "cell_type": "code",
   "execution_count": 15,
   "metadata": {},
   "outputs": [],
   "source": [
    "\n",
    "#IFC1 (IfcWall)\n",
    "bimGraphPath1=os.path.join(path,'bimGraph1.ttl')\n",
    "bimGraph1=Graph().parse(bimGraphPath1)\n",
    "ifcPath1=os.path.join(path,'IFC',\"Academiestraat_building_1.ifc\")  \n",
    "ifc1=ifcopenshell.open(ifcPath1)   \n",
    "ifcElement1= ifc1.by_guid('0KysUSO6T3_gOJKtAiUE7d')\n",
    "path1=os.path.join(path,'BIM',\"Basic_Wall_211_WA_Ff1_Glued_brickwork_sandlime_150mm_1118860_0KysUSO6T3_gOJKtAiUE7d.ply\")  \n",
    "mesh1=gmu.ifc_to_mesh(ifcElement1)\n",
    "subject1=next(s for s in bimGraph1.subjects() if \"file:///Basic_Wall_211_WA_Ff1_Glued_brickwork_sandlime_150mm_1118860_0KysUSO6T3_gOJKtAiUE7d\" in s.toPython())\n",
    "\n",
    "#IFC2 (IfcSite)\n",
    "bimGraphPath2=os.path.join(path,'bimGraph2.ttl')\n",
    "bimGraph2=Graph().parse(bimGraphPath2)\n",
    "ifcPath2=os.path.join(path,'IFC',\"Mariakerke_AWV_Conform_3D_BT_l72.ifc\")  \n",
    "ifc2=ifcopenshell.open(ifcPath2)   \n",
    "ifcElement2= ifc2.by_guid('3dzlFaOIb0bx0z6uxD96Sz')\n",
    "path2=os.path.join(path,'BIM',\"BT1_Bodembedekking_WSV10_3dzlFaOIb0bx0z6uxD96Sz.ply\")  \n",
    "mesh2=gmu.ifc_to_mesh(ifcElement2) \n",
    "subject2=next(s for s in bimGraph2.subjects() if \"file:///BT1_Bodembedekking_WSV10_3dzlFaOIb0bx0z6uxD96Sz\" in s.toPython())\n",
    "\n",
    "#IFC3 (IfcSlab)\n",
    "bimGraphPath3=os.path.join(path,'bimGraph3.ttl')\n",
    "bimGraph3=Graph().parse(bimGraphPath3)\n",
    "ifcPath3=os.path.join(path,'IFC',\"Academiestraat_parking.ifc\")  \n",
    "ifc3=ifcopenshell.open(ifcPath3)   \n",
    "ifcElement3= ifc3.by_guid('3fuhig3Pv7AexdYIkSgcdp')\n",
    "path3=os.path.join(path,'BIM',\"174_SFO_Pile_type_1_CS_800kN_TS_250kN_1341745_3fuhig3Pv7AexdYIkSgcdp.ply\")  \n",
    "mesh3=gmu.ifc_to_mesh(ifcElement3) \n",
    "subject3=next(s for s in bimGraph3.subjects() if \"file:///174_SFO_Pile_type_1_CS_800kN_TS_250kN_1341745_3fuhig3Pv7AexdYIkSgcdp\" in s.toPython())\n",
    "\n",
    "#IFC4 (IfcDoor)\n",
    "bimGraphPath4=os.path.join(path,'bimGraph4.ttl')\n",
    "bimGraph4=Graph().parse(bimGraphPath4)\n",
    "ifcPath4=os.path.join(path,'IFC',\"B1_ALG_Model.ifc\")  \n",
    "ifc4=ifcopenshell.open(ifcPath4)   \n",
    "ifcElement4= ifc4.by_guid('3M6cRe8S51TfU811R8bxHi')\n",
    "path4=os.path.join(path,'BIM',\"2RA_doors_single_omlijsting_omlijsting_-_85_x_217_1855492_3M6cRe8S51TfU811R8bxHi.ply\")  \n",
    "mesh4=gmu.ifc_to_mesh(ifcElement4) \n",
    "subject4=next(s for s in bimGraph4.subjects() if \"file:///2RA_doors_single_omlijsting_omlijsting_-_85_x_217_1855492_3M6cRe8S51TfU811R8bxHi\" in s.toPython())\n",
    "\n",
    "#RESOURCES\n",
    "resourcePath=os.path.join(path,\"resources\")\n",
    "if not os.path.exists(resourcePath):\n",
    "    os.mkdir(resourcePath)\n",
    "   "
   ]
  },
  {
   "cell_type": "code",
   "execution_count": 16,
   "metadata": {},
   "outputs": [],
   "source": [
    "exif = rdflib.Namespace('http://www.w3.org/2003/12/exif/ns#')\n",
    "geo=rdflib.Namespace('http://www.opengis.net/ont/geosparql#') #coordinate system information\n",
    "gom=rdflib.Namespace('https://w3id.org/gom#') # geometry representations => this is from mathias\n",
    "omg=rdflib.Namespace('https://w3id.org/omg#') # geometry relations\n",
    "fog=rdflib.Namespace('https://w3id.org/fog#')\n",
    "v4d=rdflib.Namespace('https://w3id.org/v4d/core#')\n",
    "openlabel=rdflib.Namespace('https://www.asam.net/index.php?eID=dumpFile&t=f&f=3876&token=413e8c85031ae64cc35cf42d0768627514868b2f#')\n",
    "e57=rdflib.Namespace('http://libe57.org#')\n",
    "xcr=rdflib.Namespace('http://www.w3.org/1999/02/22-rdf-syntax-ns#')\n",
    "ifc=rdflib.Namespace('http://ifcowl.openbimstandards.org/IFC2X3_Final#')\n"
   ]
  },
  {
   "cell_type": "code",
   "execution_count": 23,
   "metadata": {},
   "outputs": [
    {
     "name": "stdout",
     "output_type": "stream",
     "text": [
      "100577.69420749845\n"
     ]
    }
   ],
   "source": [
    "node= BIMNode(subject=subject2,path=path2,getResource=True)\n",
    "print(np.asarray(node.orientedBounds)[0,0])"
   ]
  }
 ],
 "metadata": {
  "interpreter": {
   "hash": "801b4083378541fd050d6c91abf6ec053c863905e8162e031d57b83e7cdb3051"
  },
  "kernelspec": {
   "display_name": "Python 3.8.13 ('conda_environment3')",
   "language": "python",
   "name": "python3"
  },
  "language_info": {
   "codemirror_mode": {
    "name": "ipython",
    "version": 3
   },
   "file_extension": ".py",
   "mimetype": "text/x-python",
   "name": "python",
   "nbconvert_exporter": "python",
   "pygments_lexer": "ipython3",
   "version": "3.8.13 | packaged by conda-forge | (default, Mar 25 2022, 05:59:00) [MSC v.1929 64 bit (AMD64)]"
  },
  "orig_nbformat": 4,
  "vscode": {
   "interpreter": {
    "hash": "832bf5fd5c6660b37dd2a90a45a57b02f877bb0a297fe89ca9c261a7f9e32997"
   }
  }
 },
 "nbformat": 4,
 "nbformat_minor": 2
}

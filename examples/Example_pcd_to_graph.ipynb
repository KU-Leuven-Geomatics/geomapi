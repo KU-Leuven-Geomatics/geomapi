{
 "cells": [
  {
   "cell_type": "markdown",
   "metadata": {},
   "source": [
    "# PREPROCESSING POINT CLOUD DATA TO LINKED DATA\n",
    "In this notebook, we evaluate the point cloud assets in a session repository.\n",
    "For every e57 point cloud with its accompanying xml file, a POINTCLOUDNODE metadata class is created \n",
    "that governs all the metadata of the point cloud (paths, pose, etc.).\n",
    "As ouput, the method generates RDF GRAPHS (.ttl) and O3D.GEOMETRY.POINTCLOUD (.pcd) files\n",
    "\n",
    ">This codebase operates on the scan2bim2.yml environment (python 3.8)"
   ]
  },
  {
   "cell_type": "code",
   "execution_count": 1,
   "metadata": {},
   "outputs": [
    {
     "name": "stdout",
     "output_type": "stream",
     "text": [
      "Jupyter environment detected. Enabling Open3D WebVisualizer.\n",
      "[Open3D INFO] WebRTC GUI backend enabled.\n",
      "[Open3D INFO] WebRTCWindowSystem: HTTP handshake server disabled.\n"
     ]
    }
   ],
   "source": [
    "#IMPORT PACKAGES\n",
    "import rdflib\n",
    "from rdflib import Graph, plugin\n",
    "from rdflib.serializer import Serializer #pip install rdflib-jsonld https://pypi.org/project/rdflib-jsonld/\n",
    "from rdflib import Graph\n",
    "from rdflib import URIRef, BNode, Literal\n",
    "from rdflib.namespace import CSVW, DC, DCAT, DCTERMS, DOAP, FOAF, ODRL2, ORG, OWL, \\\n",
    "                           PROF, PROV, RDF, RDFS, SDO, SH, SKOS, SOSA, SSN, TIME, \\\n",
    "                           VOID, XMLNS, XSD\n",
    "\n",
    "import os.path, time\n",
    "import importlib\n",
    "import numpy as np\n",
    "import xml.etree.ElementTree as ET\n",
    "import open3d as o3d\n",
    "import uuid    \n",
    "import pye57 \n",
    "\n",
    "#IMPORT MODULES\n",
    "from context import geomapi \n",
    "from geomapi.nodes import *\n",
    "import geomapi.utils as ut\n",
    "from geomapi.utils import geometryutils as gmu\n",
    "import geomapi.tools as tl"
   ]
  },
  {
   "cell_type": "code",
   "execution_count": 2,
   "metadata": {},
   "outputs": [],
   "source": [
    "%load_ext autoreload"
   ]
  },
  {
   "cell_type": "code",
   "execution_count": 3,
   "metadata": {},
   "outputs": [],
   "source": [
    "%autoreload 2"
   ]
  },
  {
   "cell_type": "markdown",
   "metadata": {},
   "source": [
    "## 1. INITIALIZE SESSION"
   ]
  },
  {
   "cell_type": "code",
   "execution_count": 4,
   "metadata": {},
   "outputs": [],
   "source": [
    "## INPUTS\n",
    "projectPath= os.path.join(os.path.abspath(os.path.join(os.getcwd(), os.pardir)),\"test\" )#\"D:\\\\Data\\\\2018-06 Werfopvolging Academiestraat Gent\" \n",
    "sessionPath = os.path.join(projectPath,\"testfiles\") #\"K:\\Projects\\2025-03 Project FWO SB Jelle\\7.Data\\21-11 House Maarten\\RAW data\\session_22-03-13 canon\n",
    "graphPath = os.path.join(sessionPath,\"pcdGraph.ttl\")\n",
    "\n",
    "sensor='Leica Scanstation P30'\n",
    "accuracy=0.002"
   ]
  },
  {
   "cell_type": "code",
   "execution_count": 5,
   "metadata": {},
   "outputs": [],
   "source": [
    "# # run e57xmldump.exe on e57 files:THIS CURRENTLY DOESN4T WORK\n",
    "# command = \"\"\n",
    "# command = \"D:\\\\Scan-to-BIM repository\\\\Scan-to-BIM-Grasshopper\\\\Scan2BIM\\\\4.Python\\\\e57xmldump \"\n",
    "# command = command + pcdfolderpath+filepath\n",
    "# command = command + \" > \" + pcdfolderpath+filepath.replace('.e57', '.xml') \n",
    "# command = \".\\e57xmldump\" +' \"'+filepath+'\" ' +\">\"+ ' \"'+filepath.replace('.e57', '.xml') +'\" '\n",
    "\n",
    "# # os.system(command)\n",
    "# #os.system(\".\\e57xmldump D:\\\\Data\\\\2018-06 Werfopvolging Academiestraat Gent\\\\week 22\\\\PCD\\\\week 22 lidar.e57 > D:\\\\Data\\\\2018-06 Werfopvolging Academiestraat Gent\\\\week 22\\\\PCD\\\\week 22 lidar.xml\")\n",
    "# # there is an issue with this command\n",
    "# # import subprocess\n",
    "# # subprocess.run([\"e57xmldump\", \"D:\\\\Data\\\\2018-06 Werfopvolging Academiestraat Gent\\\\week 22\\\\PCD\\\\week22_photogrammetry_densecloud - Cloud.e57\",\"D:\\\\Data\\\\2018-06 Werfopvolging Academiestraat Gent\\\\week 22\\\\PCD\\\\week22_photogrammetry_densecloud - Cloud.xml\"],shell=True)\n",
    "# # THIS COMMAND WORKS IN CMD BUT NOT WITH OS.SYSTEM\n",
    "# # command = '.\\e57xmldump \"D:\\\\Data\\\\2018-06 Werfopvolging Academiestraat Gent\\\\week 22\\\\PCD\\\\week22 photogrammetry - Cloud.e57\" > \"D:\\\\Data\\\\2018-06 Werfopvolging Academiestraat Gent\\\\week 22\\\\PCD\\\\week22 photogrammetry - Cloud.xml\"'\n",
    "# # os.system(command)\n",
    "# .\\e57xmldump \"D:\\\\Data\\\\2021-07 Peter Benoitlaan\\\\PCD\\\\Peter Benoitlaan 16 1.e57\" > \"D:\\\\Data\\\\2021-07 Peter Benoitlaan\\\\PCD\\\\Peter Benoitlaan 16 1.xml\""
   ]
  },
  {
   "cell_type": "markdown",
   "metadata": {},
   "source": [
    "## 2. READ PRESENT E57 XML/.E57 FILES CONTAINING POINT CLOUDS\n",
    "A PointCloudNode is created per e57 point cloud scan in the session\n",
    "This codes presumes that .e57xmldump.exe has generated an .xml metadata file for every e57 in the session\n",
    "Also, the .xml should not contain <?xml version=\"1.0\" encoding=\"UTF-8\"?>\n",
    "E.g.: .\\e57xmldump \"D:\\\\Data\\\\2018-06 Werfopvolging Academiestraat Gent\\\\week 22\\\\PCD\\\\week22 photogrammetry - Cloud.e57\" > \"D:\\\\Data\\\\2018-06 Werfopvolging Academiestraat Gent\\\\week 22\\\\PCD\\\\week22 photogrammetry - Cloud.xml\"\n",
    ".\\e57xmldump \"K:\\Projects\\2024-10 Project FWO Postdoc MB\\6.Code\\GEOMAPITICS\\tests\\Samples\\\\pointcloud.e57\" > \"K:\\Projects\\2024-10 Project FWO Postdoc MB\\6.Code\\GEOMAPITICS\\tests\\Samples\\\\pointcloud.xml\""
   ]
  },
  {
   "cell_type": "code",
   "execution_count": 6,
   "metadata": {},
   "outputs": [
    {
     "name": "stdout",
     "output_type": "stream",
     "text": [
      "d:\\Scan-to-BIM repository\\geomapi\\test\\testfiles\\PCD\\academiestraat week 22 19a.pcd\n",
      "d:\\Scan-to-BIM repository\\geomapi\\test\\testfiles\\PCD\\academiestraat week 22 20a.pcd\n",
      "d:\\Scan-to-BIM repository\\geomapi\\test\\testfiles\\PCD\\navvis.e57\n",
      "d:\\Scan-to-BIM repository\\geomapi\\test\\testfiles\\PCD\\week 22 - Lidar.e57\n",
      "d:\\Scan-to-BIM repository\\geomapi\\test\\testfiles\\PCD\\week22 photogrammetry - Cloud.e57\n",
      "d:\\Scan-to-BIM repository\\geomapi\\test\\testfiles\\PCD\\week22 photogrammetry - Cloud.pcd\n",
      "d:\\Scan-to-BIM repository\\geomapi\\test\\testfiles\\PCD\\week22_photogrammetry_densecloud - Cloud.e57\n"
     ]
    }
   ],
   "source": [
    "nodelist=[]\n",
    "\n",
    "pcdPath=os.path.join(sessionPath,'PCD')\n",
    "allSessionFilePaths=ut.get_list_of_files(pcdPath) \n",
    "for path in allSessionFilePaths:\n",
    "    if path.endswith(\".e57\"): \n",
    "        print(path)        \n",
    "        list=tl.e57header_to_nodes(path,getResource=True) \n",
    "        nodelist.extend(list)       \n",
    "    if path.endswith('.pcd'):   \n",
    "        print(path) \n",
    "        nodelist.append(PointCloudNode(path=path,getResource=True))"
   ]
  },
  {
   "cell_type": "code",
   "execution_count": 7,
   "metadata": {},
   "outputs": [
    {
     "name": "stdout",
     "output_type": "stream",
     "text": [
      "e57 file found: d:\\Scan-to-BIM repository\\geomapi\\test\\testfiles\\e57.e57\n",
      "e57 file found: d:\\Scan-to-BIM repository\\geomapi\\test\\testfiles\\PCD\\navvis.e57\n"
     ]
    }
   ],
   "source": [
    "# Retrieve all (.e57, e57xml and pcd) files in the session\n",
    "allSessionFilePaths=ut.get_list_of_files(sessionPath) \n",
    "e57Counter=0\n",
    "pcdCounter=0\n",
    "nodelist=[]\n",
    "\n",
    "for path in allSessionFilePaths:\n",
    "    if path.endswith(\".e57\"): \n",
    "        list=[]\n",
    "        xmlPath=path.replace('.e57','.xml')\n",
    "        if xmlPath in allSessionFilePaths:\n",
    "            print('e57 xml file found: '+path)   \n",
    "            list=tl.e57xml_to_nodes(xmlPath,getResource=True,sessionPath=sessionPath)\n",
    "        if list is None or len(list)==0:\n",
    "            print('e57 file found: '+path)   \n",
    "            list=tl.e57header_to_nodes(path,getResource=True,sessionPath=sessionPath)        \n",
    "        if list is not None:\n",
    "            e57Counter=e57Counter+len(list) \n",
    "            nodelist.extend(list)\n",
    "    # if path.endswith('.pcd'):         \n",
    "    #     pcdPath=path.replace('.pcd','.e57')\n",
    "    #     if pcdPath not in allSessionFilePaths:\n",
    "    #         print('pcd file found: '+path)\n",
    "    #         pcdCounter+=1\n",
    "    #         nodelist.append(tl.pcd_to_node(path))           \n",
    "\n",
    "# for node in nodelist:\n",
    "#     node.sessionPath=sessionPath\n",
    "\n",
    "print(str(len(nodelist))+ ' PointCloudNodes are created:')\n",
    "print(str(e57Counter) +'/'+str(len(nodelist))+' from e57 files')\n",
    "print(str(pcdCounter) +'/'+str(len(nodelist))+' from pcd files')\n",
    "print('these nodes do not yet contain data but only the metadata')"
   ]
  },
  {
   "cell_type": "code",
   "execution_count": 5,
   "metadata": {},
   "outputs": [
    {
     "name": "stdout",
     "output_type": "stream",
     "text": [
      "Node coordinate systems have been set based on file names (l72, l2008, wgs84, local)!\n"
     ]
    }
   ],
   "source": [
    "for node in nodelist:\n",
    "    if 'l72'in node.name:\n",
    "        node.coordinateSystem='Lambert72'\n",
    "    elif 'l2008' in node.name:\n",
    "        node.coordinateSystem='Lambert2008'\n",
    "    elif 'wgs84' in node.name:\n",
    "        node.coordinateSystem='geospatial-wgs84'\n",
    "    else:\n",
    "        node.coordinateSystem='local'\n",
    "print('Node coordinate systems have been set based on file names (l72, l2008, wgs84, local)!')"
   ]
  },
  {
   "cell_type": "markdown",
   "metadata": {},
   "source": [
    "## 3. WRITE PCD FILES \n",
    "A .pcd file is created per lidar scan in the session\n",
    "already processed .pcd files are not overwritten"
   ]
  },
  {
   "cell_type": "code",
   "execution_count": 6,
   "metadata": {},
   "outputs": [
    {
     "name": "stdout",
     "output_type": "stream",
     "text": [
      "0 of 4 PointCloudNodes already have data!\n",
      "4 of 4 PointCloudNodes newly created!\n"
     ]
    }
   ],
   "source": [
    "#Read e57 files, create o3d point clouds and write them to \\\\PCD\\\\'pcdnode.name'.pcd\n",
    "newPcdCounter=0\n",
    "oldPcdCounter=0\n",
    "for node in nodelist:\n",
    "    if node.path is not None and os.path.exists(node.path):\n",
    "        oldPcdCounter+=1\n",
    "        pass\n",
    "    else:\n",
    "        node.set_pcd_path_from_e57()\n",
    "        node.get_geometry()\n",
    "        o3d.io.write_point_cloud(node.path, node.pcd)\n",
    "        newPcdCounter+=1\n",
    "       \n",
    "print (str(oldPcdCounter)+' of '+str(len(nodelist))+ ' PointCloudNodes already have data!')\n",
    "print (str(newPcdCounter)+' of '+str(len(nodelist))+ ' PointCloudNodes newly created!')"
   ]
  },
  {
   "cell_type": "markdown",
   "metadata": {},
   "source": [
    "## 4. CREATE RDF GRAPHS FOR EACH POINTCLOUDNODES AND EXPORT THEM TO .TTL\n",
    "An RDF graph and .ttl file is created for all point clouds in the session\n",
    "(data itself is not stored in the graph, only metadata)"
   ]
  },
  {
   "cell_type": "code",
   "execution_count": 7,
   "metadata": {},
   "outputs": [
    {
     "name": "stdout",
     "output_type": "stream",
     "text": [
      "@prefix e57: <http://libe57.org#> .\n",
      "@prefix openlabel: <https://www.asam.net/index.php?eID=dumpFile&t=f&f=3876&token=413e8c85031ae64cc35cf42d0768627514868b2f#> .\n",
      "@prefix v4d: <https://w3id.org/v4d/core#> .\n",
      "@prefix xsd: <http://www.w3.org/2001/XMLSchema#> .\n",
      "\n",
      "<file:///_65FBBFC3-1192-47C2-BCC1-B2BF66840C4A_-Cloud-1> a v4d:PointCloudNode ;\n",
      "    e57:cartesianBounds \"\"\"[-14.56856251  18.11331177 -16.01319885  15.32858181  -1.11594343\n",
      "  15.32411003]\"\"\" ;\n",
      "    e57:cartesianTransform \"\"\"[[1. 0. 0. 0.]\n",
      " [0. 1. 0. 0.]\n",
      " [0. 0. 1. 0.]\n",
      " [0. 0. 0. 1.]]\"\"\" ;\n",
      "    e57:e57Index 0 ;\n",
      "    e57:pointCount 20168806 ;\n",
      "    v4d:name \"{65FBBFC3-1192-47C2-BCC1-B2BF66840C4A}-Cloud-1\" ;\n",
      "    v4d:orientedBounds \"\"\"[[-13.47140023 -17.40796858  -0.17794121]\n",
      " [ 19.16010023 -15.45181523  -1.25154832]\n",
      " [-15.44981412  13.51956681  -3.95922326]\n",
      " [-13.02567042 -15.24017258  17.31949716]\n",
      " [ 17.62741617  17.64351618  12.46460799]\n",
      " [-15.0040843   15.68736282  13.5382151 ]\n",
      " [ 19.60583005 -13.28401922  16.24589004]\n",
      " [ 17.18168635  15.47572017  -5.03283037]]\"\"\" ;\n",
      "    v4d:path \"PCD\\\\navvis.e57\" ;\n",
      "    openlabel:timestamp \"2022-07-25 10:26:49\" .\n",
      "\n",
      "\n"
     ]
    }
   ],
   "source": [
    "graph=nodelist[2].to_graph(graphPath)\n",
    "print(graph.serialize())"
   ]
  },
  {
   "cell_type": "code",
   "execution_count": 274,
   "metadata": {},
   "outputs": [
    {
     "name": "stdout",
     "output_type": "stream",
     "text": [
      "21\n"
     ]
    },
    {
     "ename": "ValueError",
     "evalue": "The truth value of an array with more than one element is ambiguous. Use a.any() or a.all()",
     "output_type": "error",
     "traceback": [
      "\u001b[1;31m---------------------------------------------------------------------------\u001b[0m",
      "\u001b[1;31mValueError\u001b[0m                                Traceback (most recent call last)",
      "\u001b[1;32m~\\AppData\\Local\\Temp/ipykernel_17940/3539059877.py\u001b[0m in \u001b[0;36m<module>\u001b[1;34m\u001b[0m\n\u001b[0;32m     11\u001b[0m \u001b[1;31m#     g+= node.graph\u001b[0m\u001b[1;33m\u001b[0m\u001b[1;33m\u001b[0m\u001b[1;33m\u001b[0m\u001b[0m\n\u001b[0;32m     12\u001b[0m \u001b[0mprint\u001b[0m\u001b[1;33m(\u001b[0m\u001b[0mlen\u001b[0m\u001b[1;33m(\u001b[0m\u001b[0mg\u001b[0m\u001b[1;33m)\u001b[0m\u001b[1;33m)\u001b[0m\u001b[1;33m\u001b[0m\u001b[1;33m\u001b[0m\u001b[0m\n\u001b[1;32m---> 13\u001b[1;33m \u001b[0mprint\u001b[0m\u001b[1;33m(\u001b[0m\u001b[0mg\u001b[0m\u001b[1;33m.\u001b[0m\u001b[0mserialize\u001b[0m\u001b[1;33m(\u001b[0m\u001b[1;33m)\u001b[0m\u001b[1;33m)\u001b[0m\u001b[1;33m\u001b[0m\u001b[1;33m\u001b[0m\u001b[0m\n\u001b[0m",
      "\u001b[1;32mc:\\Users\\u0094523\\.conda\\envs\\conda_environment3\\lib\\site-packages\\rdflib\\graph.py\u001b[0m in \u001b[0;36mserialize\u001b[1;34m(self, destination, format, base, encoding, **args)\u001b[0m\n\u001b[0;32m   1114\u001b[0m             \u001b[0mstream\u001b[0m \u001b[1;33m=\u001b[0m \u001b[0mBytesIO\u001b[0m\u001b[1;33m(\u001b[0m\u001b[1;33m)\u001b[0m\u001b[1;33m\u001b[0m\u001b[1;33m\u001b[0m\u001b[0m\n\u001b[0;32m   1115\u001b[0m             \u001b[1;32mif\u001b[0m \u001b[0mencoding\u001b[0m \u001b[1;32mis\u001b[0m \u001b[1;32mNone\u001b[0m\u001b[1;33m:\u001b[0m\u001b[1;33m\u001b[0m\u001b[1;33m\u001b[0m\u001b[0m\n\u001b[1;32m-> 1116\u001b[1;33m                 \u001b[0mserializer\u001b[0m\u001b[1;33m.\u001b[0m\u001b[0mserialize\u001b[0m\u001b[1;33m(\u001b[0m\u001b[0mstream\u001b[0m\u001b[1;33m,\u001b[0m \u001b[0mbase\u001b[0m\u001b[1;33m=\u001b[0m\u001b[0mbase\u001b[0m\u001b[1;33m,\u001b[0m \u001b[0mencoding\u001b[0m\u001b[1;33m=\u001b[0m\u001b[1;34m\"utf-8\"\u001b[0m\u001b[1;33m,\u001b[0m \u001b[1;33m**\u001b[0m\u001b[0margs\u001b[0m\u001b[1;33m)\u001b[0m\u001b[1;33m\u001b[0m\u001b[1;33m\u001b[0m\u001b[0m\n\u001b[0m\u001b[0;32m   1117\u001b[0m                 \u001b[1;32mreturn\u001b[0m \u001b[0mstream\u001b[0m\u001b[1;33m.\u001b[0m\u001b[0mgetvalue\u001b[0m\u001b[1;33m(\u001b[0m\u001b[1;33m)\u001b[0m\u001b[1;33m.\u001b[0m\u001b[0mdecode\u001b[0m\u001b[1;33m(\u001b[0m\u001b[1;34m\"utf-8\"\u001b[0m\u001b[1;33m)\u001b[0m\u001b[1;33m\u001b[0m\u001b[1;33m\u001b[0m\u001b[0m\n\u001b[0;32m   1118\u001b[0m             \u001b[1;32melse\u001b[0m\u001b[1;33m:\u001b[0m\u001b[1;33m\u001b[0m\u001b[1;33m\u001b[0m\u001b[0m\n",
      "\u001b[1;32mc:\\Users\\u0094523\\.conda\\envs\\conda_environment3\\lib\\site-packages\\rdflib\\plugins\\serializers\\turtle.py\u001b[0m in \u001b[0;36mserialize\u001b[1;34m(self, stream, base, encoding, spacious, **args)\u001b[0m\n\u001b[0;32m    247\u001b[0m             \u001b[1;32mif\u001b[0m \u001b[0mfirstTime\u001b[0m\u001b[1;33m:\u001b[0m\u001b[1;33m\u001b[0m\u001b[1;33m\u001b[0m\u001b[0m\n\u001b[0;32m    248\u001b[0m                 \u001b[0mfirstTime\u001b[0m \u001b[1;33m=\u001b[0m \u001b[1;32mFalse\u001b[0m\u001b[1;33m\u001b[0m\u001b[1;33m\u001b[0m\u001b[0m\n\u001b[1;32m--> 249\u001b[1;33m             \u001b[1;32mif\u001b[0m \u001b[0mself\u001b[0m\u001b[1;33m.\u001b[0m\u001b[0mstatement\u001b[0m\u001b[1;33m(\u001b[0m\u001b[0msubject\u001b[0m\u001b[1;33m)\u001b[0m \u001b[1;32mand\u001b[0m \u001b[1;32mnot\u001b[0m \u001b[0mfirstTime\u001b[0m\u001b[1;33m:\u001b[0m\u001b[1;33m\u001b[0m\u001b[1;33m\u001b[0m\u001b[0m\n\u001b[0m\u001b[0;32m    250\u001b[0m                 \u001b[0mself\u001b[0m\u001b[1;33m.\u001b[0m\u001b[0mwrite\u001b[0m\u001b[1;33m(\u001b[0m\u001b[1;34m\"\\n\"\u001b[0m\u001b[1;33m)\u001b[0m\u001b[1;33m\u001b[0m\u001b[1;33m\u001b[0m\u001b[0m\n\u001b[0;32m    251\u001b[0m \u001b[1;33m\u001b[0m\u001b[0m\n",
      "\u001b[1;32mc:\\Users\\u0094523\\.conda\\envs\\conda_environment3\\lib\\site-packages\\rdflib\\plugins\\serializers\\turtle.py\u001b[0m in \u001b[0;36mstatement\u001b[1;34m(self, subject)\u001b[0m\n\u001b[0;32m    314\u001b[0m     \u001b[1;32mdef\u001b[0m \u001b[0mstatement\u001b[0m\u001b[1;33m(\u001b[0m\u001b[0mself\u001b[0m\u001b[1;33m,\u001b[0m \u001b[0msubject\u001b[0m\u001b[1;33m)\u001b[0m\u001b[1;33m:\u001b[0m\u001b[1;33m\u001b[0m\u001b[1;33m\u001b[0m\u001b[0m\n\u001b[0;32m    315\u001b[0m         \u001b[0mself\u001b[0m\u001b[1;33m.\u001b[0m\u001b[0msubjectDone\u001b[0m\u001b[1;33m(\u001b[0m\u001b[0msubject\u001b[0m\u001b[1;33m)\u001b[0m\u001b[1;33m\u001b[0m\u001b[1;33m\u001b[0m\u001b[0m\n\u001b[1;32m--> 316\u001b[1;33m         \u001b[1;32mreturn\u001b[0m \u001b[0mself\u001b[0m\u001b[1;33m.\u001b[0m\u001b[0ms_squared\u001b[0m\u001b[1;33m(\u001b[0m\u001b[0msubject\u001b[0m\u001b[1;33m)\u001b[0m \u001b[1;32mor\u001b[0m \u001b[0mself\u001b[0m\u001b[1;33m.\u001b[0m\u001b[0ms_default\u001b[0m\u001b[1;33m(\u001b[0m\u001b[0msubject\u001b[0m\u001b[1;33m)\u001b[0m\u001b[1;33m\u001b[0m\u001b[1;33m\u001b[0m\u001b[0m\n\u001b[0m\u001b[0;32m    317\u001b[0m \u001b[1;33m\u001b[0m\u001b[0m\n\u001b[0;32m    318\u001b[0m     \u001b[1;32mdef\u001b[0m \u001b[0ms_default\u001b[0m\u001b[1;33m(\u001b[0m\u001b[0mself\u001b[0m\u001b[1;33m,\u001b[0m \u001b[0msubject\u001b[0m\u001b[1;33m)\u001b[0m\u001b[1;33m:\u001b[0m\u001b[1;33m\u001b[0m\u001b[1;33m\u001b[0m\u001b[0m\n",
      "\u001b[1;32mc:\\Users\\u0094523\\.conda\\envs\\conda_environment3\\lib\\site-packages\\rdflib\\plugins\\serializers\\turtle.py\u001b[0m in \u001b[0;36ms_default\u001b[1;34m(self, subject)\u001b[0m\n\u001b[0;32m    319\u001b[0m         \u001b[0mself\u001b[0m\u001b[1;33m.\u001b[0m\u001b[0mwrite\u001b[0m\u001b[1;33m(\u001b[0m\u001b[1;34m\"\\n\"\u001b[0m \u001b[1;33m+\u001b[0m \u001b[0mself\u001b[0m\u001b[1;33m.\u001b[0m\u001b[0mindent\u001b[0m\u001b[1;33m(\u001b[0m\u001b[1;33m)\u001b[0m\u001b[1;33m)\u001b[0m\u001b[1;33m\u001b[0m\u001b[1;33m\u001b[0m\u001b[0m\n\u001b[0;32m    320\u001b[0m         \u001b[0mself\u001b[0m\u001b[1;33m.\u001b[0m\u001b[0mpath\u001b[0m\u001b[1;33m(\u001b[0m\u001b[0msubject\u001b[0m\u001b[1;33m,\u001b[0m \u001b[0mSUBJECT\u001b[0m\u001b[1;33m)\u001b[0m\u001b[1;33m\u001b[0m\u001b[1;33m\u001b[0m\u001b[0m\n\u001b[1;32m--> 321\u001b[1;33m         \u001b[0mself\u001b[0m\u001b[1;33m.\u001b[0m\u001b[0mpredicateList\u001b[0m\u001b[1;33m(\u001b[0m\u001b[0msubject\u001b[0m\u001b[1;33m)\u001b[0m\u001b[1;33m\u001b[0m\u001b[1;33m\u001b[0m\u001b[0m\n\u001b[0m\u001b[0;32m    322\u001b[0m         \u001b[0mself\u001b[0m\u001b[1;33m.\u001b[0m\u001b[0mwrite\u001b[0m\u001b[1;33m(\u001b[0m\u001b[1;34m\" .\"\u001b[0m\u001b[1;33m)\u001b[0m\u001b[1;33m\u001b[0m\u001b[1;33m\u001b[0m\u001b[0m\n\u001b[0;32m    323\u001b[0m         \u001b[1;32mreturn\u001b[0m \u001b[1;32mTrue\u001b[0m\u001b[1;33m\u001b[0m\u001b[1;33m\u001b[0m\u001b[0m\n",
      "\u001b[1;32mc:\\Users\\u0094523\\.conda\\envs\\conda_environment3\\lib\\site-packages\\rdflib\\plugins\\serializers\\turtle.py\u001b[0m in \u001b[0;36mpredicateList\u001b[1;34m(self, subject, newline)\u001b[0m\n\u001b[0;32m    417\u001b[0m     \u001b[1;32mdef\u001b[0m \u001b[0mpredicateList\u001b[0m\u001b[1;33m(\u001b[0m\u001b[0mself\u001b[0m\u001b[1;33m,\u001b[0m \u001b[0msubject\u001b[0m\u001b[1;33m,\u001b[0m \u001b[0mnewline\u001b[0m\u001b[1;33m=\u001b[0m\u001b[1;32mFalse\u001b[0m\u001b[1;33m)\u001b[0m\u001b[1;33m:\u001b[0m\u001b[1;33m\u001b[0m\u001b[1;33m\u001b[0m\u001b[0m\n\u001b[0;32m    418\u001b[0m         \u001b[0mproperties\u001b[0m \u001b[1;33m=\u001b[0m \u001b[0mself\u001b[0m\u001b[1;33m.\u001b[0m\u001b[0mbuildPredicateHash\u001b[0m\u001b[1;33m(\u001b[0m\u001b[0msubject\u001b[0m\u001b[1;33m)\u001b[0m\u001b[1;33m\u001b[0m\u001b[1;33m\u001b[0m\u001b[0m\n\u001b[1;32m--> 419\u001b[1;33m         \u001b[0mpropList\u001b[0m \u001b[1;33m=\u001b[0m \u001b[0mself\u001b[0m\u001b[1;33m.\u001b[0m\u001b[0msortProperties\u001b[0m\u001b[1;33m(\u001b[0m\u001b[0mproperties\u001b[0m\u001b[1;33m)\u001b[0m\u001b[1;33m\u001b[0m\u001b[1;33m\u001b[0m\u001b[0m\n\u001b[0m\u001b[0;32m    420\u001b[0m         \u001b[1;32mif\u001b[0m \u001b[0mlen\u001b[0m\u001b[1;33m(\u001b[0m\u001b[0mpropList\u001b[0m\u001b[1;33m)\u001b[0m \u001b[1;33m==\u001b[0m \u001b[1;36m0\u001b[0m\u001b[1;33m:\u001b[0m\u001b[1;33m\u001b[0m\u001b[1;33m\u001b[0m\u001b[0m\n\u001b[0;32m    421\u001b[0m             \u001b[1;32mreturn\u001b[0m\u001b[1;33m\u001b[0m\u001b[1;33m\u001b[0m\u001b[0m\n",
      "\u001b[1;32mc:\\Users\\u0094523\\.conda\\envs\\conda_environment3\\lib\\site-packages\\rdflib\\plugins\\serializers\\turtle.py\u001b[0m in \u001b[0;36msortProperties\u001b[1;34m(self, properties)\u001b[0m\n\u001b[0;32m    142\u001b[0m         \u001b[1;31m# Sort object lists\u001b[0m\u001b[1;33m\u001b[0m\u001b[1;33m\u001b[0m\u001b[1;33m\u001b[0m\u001b[0m\n\u001b[0;32m    143\u001b[0m         \u001b[1;32mfor\u001b[0m \u001b[0mprop\u001b[0m\u001b[1;33m,\u001b[0m \u001b[0mobjects\u001b[0m \u001b[1;32min\u001b[0m \u001b[0mproperties\u001b[0m\u001b[1;33m.\u001b[0m\u001b[0mitems\u001b[0m\u001b[1;33m(\u001b[0m\u001b[1;33m)\u001b[0m\u001b[1;33m:\u001b[0m\u001b[1;33m\u001b[0m\u001b[1;33m\u001b[0m\u001b[0m\n\u001b[1;32m--> 144\u001b[1;33m             \u001b[0mobjects\u001b[0m\u001b[1;33m.\u001b[0m\u001b[0msort\u001b[0m\u001b[1;33m(\u001b[0m\u001b[0mkey\u001b[0m\u001b[1;33m=\u001b[0m\u001b[0mcmp_to_key\u001b[0m\u001b[1;33m(\u001b[0m\u001b[0m_object_comparator\u001b[0m\u001b[1;33m)\u001b[0m\u001b[1;33m)\u001b[0m\u001b[1;33m\u001b[0m\u001b[1;33m\u001b[0m\u001b[0m\n\u001b[0m\u001b[0;32m    145\u001b[0m \u001b[1;33m\u001b[0m\u001b[0m\n\u001b[0;32m    146\u001b[0m         \u001b[1;31m# Make sorted list of properties\u001b[0m\u001b[1;33m\u001b[0m\u001b[1;33m\u001b[0m\u001b[1;33m\u001b[0m\u001b[0m\n",
      "\u001b[1;32mc:\\Users\\u0094523\\.conda\\envs\\conda_environment3\\lib\\site-packages\\rdflib\\plugins\\serializers\\turtle.py\u001b[0m in \u001b[0;36m_object_comparator\u001b[1;34m(a, b)\u001b[0m\n\u001b[0;32m     25\u001b[0m \u001b[1;33m\u001b[0m\u001b[0m\n\u001b[0;32m     26\u001b[0m     \u001b[1;32mtry\u001b[0m\u001b[1;33m:\u001b[0m\u001b[1;33m\u001b[0m\u001b[1;33m\u001b[0m\u001b[0m\n\u001b[1;32m---> 27\u001b[1;33m         \u001b[1;32mif\u001b[0m \u001b[0ma\u001b[0m \u001b[1;33m>\u001b[0m \u001b[0mb\u001b[0m\u001b[1;33m:\u001b[0m\u001b[1;33m\u001b[0m\u001b[1;33m\u001b[0m\u001b[0m\n\u001b[0m\u001b[0;32m     28\u001b[0m             \u001b[1;32mreturn\u001b[0m \u001b[1;36m1\u001b[0m\u001b[1;33m\u001b[0m\u001b[1;33m\u001b[0m\u001b[0m\n\u001b[0;32m     29\u001b[0m         \u001b[1;32mif\u001b[0m \u001b[0ma\u001b[0m \u001b[1;33m<\u001b[0m \u001b[0mb\u001b[0m\u001b[1;33m:\u001b[0m\u001b[1;33m\u001b[0m\u001b[1;33m\u001b[0m\u001b[0m\n",
      "\u001b[1;31mValueError\u001b[0m: The truth value of an array with more than one element is ambiguous. Use a.any() or a.all()"
     ]
    }
   ],
   "source": [
    "# print(graph.serialize())\n",
    "g=Graph()\n",
    "g=ut.bind_ontologies(g)\n",
    "g+=nodelist[0].to_graph(graphPath)\n",
    "g+=nodelist[1].to_graph(graphPath)\n",
    "g+=nodelist[2].to_graph(graphPath)\n",
    "\n",
    "\n",
    "# for node in nodelist:\n",
    "#     node.to_graph(graphPath)\n",
    "#     g+= node.graph\n",
    "print(len(g))\n",
    "print(g.serialize())"
   ]
  },
  {
   "cell_type": "code",
   "execution_count": 8,
   "metadata": {},
   "outputs": [
    {
     "name": "stdout",
     "output_type": "stream",
     "text": [
      "65\n",
      "@prefix e57: <http://libe57.org#> .\n",
      "@prefix openlabel: <https://www.asam.net/index.php?eID=dumpFile&t=f&f=3876&token=413e8c85031ae64cc35cf42d0768627514868b2f#> .\n",
      "@prefix v4d: <https://w3id.org/v4d/core#> .\n",
      "@prefix xsd: <http://www.w3.org/2001/XMLSchema#> .\n",
      "\n",
      "<file:///_65FBBFC3-1192-47C2-BCC1-B2BF66840C4A_-Cloud-1> a v4d:PointCloudNode ;\n",
      "    e57:cartesianBounds \"\"\"[-14.56856251  18.11331177 -16.01319885  15.32858181  -1.11594343\n",
      "  15.32411003]\"\"\" ;\n",
      "    e57:cartesianTransform \"\"\"[[1. 0. 0. 0.]\n",
      " [0. 1. 0. 0.]\n",
      " [0. 0. 1. 0.]\n",
      " [0. 0. 0. 1.]]\"\"\" ;\n",
      "    e57:e57Index 0 ;\n",
      "    e57:pointCount 20168806 ;\n",
      "    v4d:name \"{65FBBFC3-1192-47C2-BCC1-B2BF66840C4A}-Cloud-1\" ;\n",
      "    v4d:orientedBounds \"\"\"[[-13.47140023 -17.40796858  -0.17794121]\n",
      " [ 19.16010023 -15.45181523  -1.25154832]\n",
      " [-15.44981412  13.51956681  -3.95922326]\n",
      " [-13.02567042 -15.24017258  17.31949716]\n",
      " [ 17.62741617  17.64351618  12.46460799]\n",
      " [-15.0040843   15.68736282  13.5382151 ]\n",
      " [ 19.60583005 -13.28401922  16.24589004]\n",
      " [ 17.18168635  15.47572017  -5.03283037]]\"\"\" ;\n",
      "    v4d:path \"PCD\\\\navvis.e57\" ;\n",
      "    openlabel:timestamp \"2022-07-25 10:26:49\" .\n",
      "\n",
      "<file:///academiestraat_week_22_19> a v4d:PointCloudNode ;\n",
      "    e57:cartesianBounds \"\"\"[-2.83604126e+01  5.53711433e+01  5.41933060e+01  1.07839798e+02\n",
      " -1.84059143e-03  1.11153946e+01]\"\"\" ;\n",
      "    e57:cartesianTransform \"\"\"[[ 9.41956643e-01  3.35629898e-01  8.38182635e-03  4.52469539e+00]\n",
      " [-3.35667307e-01  9.41974081e-01  3.50574413e-03  8.06594036e+01]\n",
      " [-6.71883063e-03 -6.11576404e-03  9.99958727e-01  4.73435675e+00]\n",
      " [ 0.00000000e+00  0.00000000e+00  0.00000000e+00  1.00000000e+00]]\"\"\" ;\n",
      "    e57:e57Index 1 ;\n",
      "    e57:pointCount 11934055 ;\n",
      "    v4d:name \"academiestraat week 22 19\" ;\n",
      "    v4d:orientedBounds \"\"\"[[-28.29434604 107.59087906  13.82616016]\n",
      " [ 55.41784627 107.92406433  10.80271168]\n",
      " [-28.1432203   53.77160234  12.07957068]\n",
      " [-28.71135451 107.96307725   2.32119093]\n",
      " [ 55.15196355  54.4769858   -2.44884703]\n",
      " [-28.56022877  54.14380053   0.57460145]\n",
      " [ 55.00083781 108.29626252  -0.70225755]\n",
      " [ 55.56897201  54.10478761   9.05612219]]\"\"\" ;\n",
      "    v4d:path \"PCD\\\\week 22 - Lidar.e57\" ;\n",
      "    openlabel:timestamp \"2022-07-18 16:42:21\" .\n",
      "\n",
      "<file:///academiestraat_week_22_19a> a v4d:PointCloudNode ;\n",
      "    e57:cartesianBounds \"\"\"[-37.36532974 106.94235229  16.87863541 130.69406128   0.71651864\n",
      "  23.73304749]\"\"\" ;\n",
      "    e57:cartesianTransform \"\"\"[[ 1.          0.          0.         28.03427131]\n",
      " [ 0.          1.          0.         72.25597195]\n",
      " [ 0.          0.          1.          4.47910446]\n",
      " [ 0.          0.          0.          1.        ]]\"\"\" ;\n",
      "    e57:e57Index 0 ;\n",
      "    e57:pointCount 242750 ;\n",
      "    v4d:name \"academiestraat week 22 19a\" ;\n",
      "    v4d:orientedBounds \"\"\"[[-1.96025758e+01  1.65884155e+02  2.22874746e+01]\n",
      " [ 1.22465470e+02  1.23859440e+02  2.29468276e+01]\n",
      " [-5.26111779e+01  5.43129133e+01  2.33762930e+01]\n",
      " [-1.95654774e+01  1.65648750e+02 -7.09825603e-01]\n",
      " [ 8.94939663e+01  1.20527928e+01  1.03834566e+00]\n",
      " [-5.25740795e+01  5.40775081e+01  3.78992731e-01]\n",
      " [ 1.22502568e+02  1.23624035e+02 -5.04726756e-02]\n",
      " [ 8.94568679e+01  1.22881979e+01  2.40356459e+01]]\"\"\" ;\n",
      "    v4d:path \"PCD\\\\academiestraat week 22 19a.pcd\" ;\n",
      "    openlabel:timestamp \"2022-06-27 12:06:29\" .\n",
      "\n",
      "<file:///academiestraat_week_22_20> a v4d:PointCloudNode ;\n",
      "    e57:cartesianBounds \"\"\"[-36.77039719  44.17316818  61.75132751 112.70298767   1.28037024\n",
      "  10.4529705 ]\"\"\" ;\n",
      "    e57:cartesianTransform \"\"\"[[-4.32203630e-01  9.01764516e-01  4.55851494e-03  5.10162327e-01]\n",
      " [-9.01695863e-01 -4.32092277e-01 -1.55188352e-02  8.75119260e+01]\n",
      " [-1.20246358e-02 -1.08176910e-02  9.99869184e-01  4.74824153e+00]\n",
      " [ 0.00000000e+00  0.00000000e+00  0.00000000e+00  1.00000000e+00]]\"\"\" ;\n",
      "    e57:e57Index 0 ;\n",
      "    e57:pointCount 11936498 ;\n",
      "    v4d:name \"academiestraat week 22 20\" ;\n",
      "    v4d:orientedBounds \"\"\"[[-27.59671911  51.72761794  -1.25327147]\n",
      " [ 49.06238199  63.57009444  -2.84643677]\n",
      " [-36.96459236 113.19129529   4.86625143]\n",
      " [-27.30329536  50.94547558   7.0516411 ]\n",
      " [ 39.98793249 124.25162941  11.57799869]\n",
      " [-36.67116861 112.40915292  13.17116399]\n",
      " [ 49.35580574  62.78795207   5.4584758 ]\n",
      " [ 39.69450874 125.03377178   3.27308612]]\"\"\" ;\n",
      "    v4d:path \"PCD\\\\week 22 - Lidar.e57\" ;\n",
      "    openlabel:timestamp \"2022-07-18 16:42:21\" .\n",
      "\n",
      "<file:///academiestraat_week_22_20a> a v4d:PointCloudNode ;\n",
      "    e57:cartesianBounds \"\"\"[-36.77039719  44.17316818  61.75132751 112.70298767   1.28037024\n",
      "  10.4529705 ]\"\"\" ;\n",
      "    e57:cartesianTransform \"\"\"[[ 1.          0.          0.          0.58767088]\n",
      " [ 0.          1.          0.         87.49782357]\n",
      " [ 0.          0.          1.          5.07468233]\n",
      " [ 0.          0.          0.          1.        ]]\"\"\" ;\n",
      "    e57:e57Index 0 ;\n",
      "    e57:pointCount 11936498 ;\n",
      "    v4d:name \"academiestraat week 22 20a\" ;\n",
      "    v4d:orientedBounds \"\"\"[[-27.59671761  51.72761543  -1.25327158]\n",
      " [ 49.06238386  63.57009377  -2.84643678]\n",
      " [-36.96459257 113.19129453   4.86625159]\n",
      " [-27.30329385  50.94547305   7.05164109]\n",
      " [ 39.98793266 124.25163049  11.57799906]\n",
      " [-36.67116881 112.40915215  13.17116426]\n",
      " [ 49.35580762  62.78795139   5.45847589]\n",
      " [ 39.6945089  125.03377287   3.27308639]]\"\"\" ;\n",
      "    v4d:path \"PCD\\\\academiestraat week 22 20a.pcd\" ;\n",
      "    openlabel:timestamp \"2022-06-27 12:06:44\" .\n",
      "\n",
      "<file:///week22_photogrammetry_-_Cloud> a v4d:PointCloudNode ;\n",
      "    e57:cartesianBounds \"\"\"[-37.36532974 106.94235229  16.87863541 130.69406128   0.71651864\n",
      "  23.73304749]\"\"\" ;\n",
      "    e57:cartesianTransform \"\"\"[[ 1.          0.          0.         28.03427131]\n",
      " [ 0.          1.          0.         72.25597195]\n",
      " [ 0.          0.          1.          4.47910446]\n",
      " [ 0.          0.          0.          1.        ]]\"\"\" ;\n",
      "    e57:e57Index 0 ;\n",
      "    e57:pointCount 242750 ;\n",
      "    v4d:name \"week22 photogrammetry - Cloud\" ;\n",
      "    v4d:orientedBounds \"\"\"[[-1.96025758e+01  1.65884155e+02  2.22874746e+01]\n",
      " [ 1.22465470e+02  1.23859440e+02  2.29468276e+01]\n",
      " [-5.26111779e+01  5.43129133e+01  2.33762930e+01]\n",
      " [-1.95654774e+01  1.65648750e+02 -7.09825603e-01]\n",
      " [ 8.94939663e+01  1.20527928e+01  1.03834566e+00]\n",
      " [-5.25740795e+01  5.40775081e+01  3.78992731e-01]\n",
      " [ 1.22502568e+02  1.23624035e+02 -5.04726756e-02]\n",
      " [ 8.94568679e+01  1.22881979e+01  2.40356459e+01]]\"\"\" ;\n",
      "    v4d:path \"PCD\\\\week22 photogrammetry - Cloud.e57\",\n",
      "        \"PCD\\\\week22 photogrammetry - Cloud.pcd\" ;\n",
      "    openlabel:timestamp \"2022-07-18 15:47:20\",\n",
      "        \"2022-07-25 08:45:40\" .\n",
      "\n",
      "<file:///week22_photogrammetry_densecloud_-_Cloud> a v4d:PointCloudNode ;\n",
      "    e57:cartesianBounds \"\"\"[-56.29446411  40.62007523 -31.56158638  62.90998459 -20.2924881\n",
      "  26.78645134]\"\"\" ;\n",
      "    e57:cartesianTransform \"\"\"[[ 1.          0.          0.         -0.12833009]\n",
      " [ 0.          1.          0.          0.74505644]\n",
      " [ 0.          0.          1.          1.07167853]\n",
      " [ 0.          0.          0.          1.        ]]\"\"\" ;\n",
      "    e57:e57Index 0 ;\n",
      "    e57:pointCount 10945575 ;\n",
      "    v4d:name \"week22_photogrammetry_densecloud - Cloud\" ;\n",
      "    v4d:orientedBounds \"\"\"[[-56.29446411 -31.56158638 -20.2924881 ]\n",
      " [ 40.62007523 -31.56158638 -20.2924881 ]\n",
      " [-56.29446411  62.90998459 -20.2924881 ]\n",
      " [-56.29446411 -31.56158638  26.78645134]\n",
      " [ 40.62007523  62.90998459  26.78645134]\n",
      " [-56.29446411  62.90998459  26.78645134]\n",
      " [ 40.62007523 -31.56158638  26.78645134]\n",
      " [ 40.62007523  62.90998459 -20.2924881 ]]\"\"\" ;\n",
      "    v4d:path \"PCD\\\\week22_photogrammetry_densecloud - Cloud.e57\" ;\n",
      "    openlabel:timestamp \"2022-07-18 15:47:16\" .\n",
      "\n",
      "\n",
      "8 Nodes succesfully serialized in: d:\\Scan-to-BIM repository\\geomapi\\test\\testfiles\\pcdGraph.ttl\n"
     ]
    }
   ],
   "source": [
    "graph=tl.nodes_to_graph(nodelist=nodelist,graphPath=graphPath,save=True)\n",
    "print(len(graph))\n",
    "print(graph.serialize())\n",
    "print (str(len(nodelist))+' Nodes succesfully serialized in: '+graphPath)\n"
   ]
  }
 ],
 "metadata": {
  "interpreter": {
   "hash": "801b4083378541fd050d6c91abf6ec053c863905e8162e031d57b83e7cdb3051"
  },
  "kernelspec": {
   "display_name": "Python 3.8.13 ('conda_environment3')",
   "language": "python",
   "name": "python3"
  },
  "language_info": {
   "codemirror_mode": {
    "name": "ipython",
    "version": 3
   },
   "file_extension": ".py",
   "mimetype": "text/x-python",
   "name": "python",
   "nbconvert_exporter": "python",
   "pygments_lexer": "ipython3",
   "version": "3.8.13"
  },
  "orig_nbformat": 4,
  "vscode": {
   "interpreter": {
    "hash": "801b4083378541fd050d6c91abf6ec053c863905e8162e031d57b83e7cdb3051"
   }
  }
 },
 "nbformat": 4,
 "nbformat_minor": 2
}

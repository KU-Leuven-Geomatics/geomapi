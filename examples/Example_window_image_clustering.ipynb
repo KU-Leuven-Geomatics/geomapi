{
 "cells": [
  {
   "cell_type": "code",
   "execution_count": null,
   "metadata": {},
   "outputs": [],
   "source": [
    "import tensorflow as tf\n",
    "import tensorflow_hub as hub\n",
    "from PIL import Image\n",
    "import numpy as np\n",
    "from scipy import ndimage\n",
    "import matplotlib.pyplot as plt\n"
   ]
  },
  {
   "cell_type": "code",
   "execution_count": null,
   "metadata": {},
   "outputs": [],
   "source": [
    "model_url = \"https://tfhub.dev/tensorflow/efficientnet/lite0/feature-vector/2\"\n",
    "\n",
    "IMAGE_SHAPE = (224, 224)\n",
    "\n",
    "layer = hub.KerasLayer(model_url)\n",
    "model = tf.keras.Sequential([layer])"
   ]
  },
  {
   "cell_type": "code",
   "execution_count": null,
   "metadata": {},
   "outputs": [],
   "source": [
    "def extract2(file):\n",
    "  file = Image.open(file).convert('L').resize(IMAGE_SHAPE)\n",
    "  #display(file)\n",
    "\n",
    "  file = np.stack((file,)*3, axis=-1)\n",
    "\n",
    "  file = np.array(file)/255.0\n",
    "  print(file.shape)\n",
    "\n",
    "  embedding = model.predict(file[np.newaxis, ...])\n",
    "  #print(embedding)\n",
    "  vgg16_feature_np = np.array(embedding)\n",
    "  flattended_feature = vgg16_feature_np.flatten()\n",
    "\n",
    "  #print(len(flattended_feature))\n",
    "  #print(flattended_feature)\n",
    "  #print('-----------')\n",
    "  return flattended_feature"
   ]
  },
  {
   "cell_type": "code",
   "execution_count": null,
   "metadata": {},
   "outputs": [],
   "source": [
    "def get_image(file):\n",
    "  file = Image.open(file).convert('L').resize(IMAGE_SHAPE)\n",
    "  file = np.stack((file,)*3, axis=-1)\n",
    "  file = np.array(file)/255.0\n",
    "  return file"
   ]
  },
  {
   "cell_type": "code",
   "execution_count": null,
   "metadata": {},
   "outputs": [],
   "source": [
    "def get_sobel_image(image):\n",
    "  # Get x-gradient in \"sx\"\n",
    "  sx = ndimage.sobel(image,axis=0,mode='constant')\n",
    "  # Get y-gradient in \"sy\"\n",
    "  sy = ndimage.sobel(image,axis=1,mode='constant')\n",
    "  # Get square root of sum of squares\n",
    "  return np.hypot(sx,sy)"
   ]
  },
  {
   "cell_type": "code",
   "execution_count": null,
   "metadata": {},
   "outputs": [],
   "source": [
    "def extract_features(image):\n",
    "\n",
    "  embedding = model.predict(image[np.newaxis, ...])\n",
    "  #print(embedding)\n",
    "  vgg16_feature_np = np.array(embedding)\n",
    "  flattended_feature = vgg16_feature_np.flatten()\n",
    "\n",
    "  #print(len(flattended_feature))\n",
    "  #print(flattended_feature)\n",
    "  #print('-----------')\n",
    "  return flattended_feature"
   ]
  },
  {
   "cell_type": "code",
   "execution_count": null,
   "metadata": {},
   "outputs": [],
   "source": [
    "im1=get_image(r\"C:\\Data\\Ramen\\FOTOS\\window1-1.jpg\")\n",
    "im1_lines=get_sobel_image(im1)\n",
    "im1_features=extract_features(im1)\n",
    "im1_features_lines=extract_features(im1_lines)\n",
    "\n",
    "im2=get_image(r\"C:\\Data\\Ramen\\FOTOS\\window1-2.jpg\")\n",
    "im2_lines=get_sobel_image(im2)\n",
    "im2_features=extract_features(im2)\n",
    "im2_features_lines=extract_features(im2_lines)\n"
   ]
  },
  {
   "cell_type": "code",
   "execution_count": null,
   "metadata": {},
   "outputs": [],
   "source": [
    "f = plt.figure()\n",
    "\n",
    "#subplot(r,c) provide the no. of rows and columns\n",
    "f, axarr = plt.subplots(2,2) \n",
    "# use the created array to output your multiple images. In this case I have stacked 4 images vertically\n",
    "axarr[0,0].imshow(im1,cmap=plt.cm.gray)\n",
    "axarr[0,1].imshow(im1_lines)\n",
    "axarr[1,0].imshow(im2)\n",
    "axarr[1,1].imshow(im2_lines)"
   ]
  },
  {
   "cell_type": "code",
   "execution_count": null,
   "metadata": {},
   "outputs": [],
   "source": [
    "from scipy.spatial import distance"
   ]
  },
  {
   "cell_type": "code",
   "execution_count": null,
   "metadata": {},
   "outputs": [],
   "source": [
    "metric = 'cosine'"
   ]
  },
  {
   "cell_type": "code",
   "execution_count": null,
   "metadata": {},
   "outputs": [],
   "source": [
    "dc = distance.cdist([im1_features], [im2_features], metric)[0]\n",
    "print(dc)\n",
    "print(\"the distance between original and the original is {}\".format(dc))"
   ]
  },
  {
   "cell_type": "code",
   "execution_count": null,
   "metadata": {},
   "outputs": [],
   "source": [
    "dc = distance.cdist([im1_features_lines], [im2_features_lines], metric)[0]\n",
    "print(dc)\n",
    "print(\"the distance between original and the original is {}\".format(dc))"
   ]
  },
  {
   "cell_type": "code",
   "execution_count": null,
   "metadata": {},
   "outputs": [],
   "source": [
    "dc = distance.cdist([im1_features], [im1_features_lines], metric)[0]\n",
    "print(dc)\n",
    "print(\"the distance between original and the original is {}\".format(dc))"
   ]
  },
  {
   "cell_type": "code",
   "execution_count": null,
   "metadata": {},
   "outputs": [],
   "source": [
    "dc = distance.cdist([im1_features], [im1_features], metric)[0]\n",
    "print(dc)\n",
    "print(\"the distance between original and the original is {}\".format(dc))"
   ]
  },
  {
   "cell_type": "code",
   "execution_count": null,
   "metadata": {},
   "outputs": [],
   "source": [
    "from tensorflow.keras import layers\n",
    "# Embedding output layer with L2 norm\n",
    "from tensorflow_similarity.layers import MetricEmbedding \n",
    "# Specialized metric loss\n",
    "from tensorflow_similarity.losses import MultiSimilarityLoss \n",
    "# Sub classed keras Model with support for indexing\n",
    "from tensorflow_similarity.models import SimilarityModel\n",
    "# Data sampler that pulls datasets directly from tf dataset catalog\n",
    "from tensorflow_similarity.samplers import TFDatasetMultiShotMemorySampler\n",
    "# Nearest neighbor visualizer\n",
    "from tensorflow_similarity.visualization import viz_neigbors_imgs\n"
   ]
  }
 ],
 "metadata": {
  "kernelspec": {
   "display_name": "Python 3.8.12 ('geomapi')",
   "language": "python",
   "name": "python3"
  },
  "language_info": {
   "codemirror_mode": {
    "name": "ipython",
    "version": 3
   },
   "file_extension": ".py",
   "mimetype": "text/x-python",
   "name": "python",
   "nbconvert_exporter": "python",
   "pygments_lexer": "ipython3",
   "version": "3.8.12"
  },
  "orig_nbformat": 4,
  "vscode": {
   "interpreter": {
    "hash": "7b0db85312e942cd21ffa02a2b4d605628df2d270f262ec7ff7e4d83fb03e7a1"
   }
  }
 },
 "nbformat": 4,
 "nbformat_minor": 2
}

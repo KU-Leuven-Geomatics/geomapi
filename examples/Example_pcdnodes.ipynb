{
 "cells": [
  {
   "cell_type": "markdown",
   "metadata": {},
   "source": [
    "# EXAMPLE PCDNODES\n",
    "In this notebook, we create and manipulate PointCloudNodes from different inputs."
   ]
  },
  {
   "cell_type": "code",
   "execution_count": 73,
   "metadata": {},
   "outputs": [],
   "source": [
    "#IMPORT PACKAGES\n",
    "from rdflib import Graph,URIRef,Literal, RDFS,XSD\n",
    "import rdflib\n",
    "import os.path, time\n",
    "import importlib\n",
    "import numpy as np\n",
    "import open3d as o3d\n",
    "import ifcopenshell\n",
    "from ifcopenshell.util.selector import Selector\n",
    "\n",
    "#IMPORT MODULES\n",
    "from context import geomapi \n",
    "from geomapi.nodes import *\n",
    "import geomapi.utils as ut\n",
    "from geomapi.utils import geometryutils as gmu\n",
    "import geomapi.tools as tl\n",
    "import pye57 \n",
    "from rdflib import RDF"
   ]
  },
  {
   "cell_type": "code",
   "execution_count": 74,
   "metadata": {},
   "outputs": [
    {
     "name": "stdout",
     "output_type": "stream",
     "text": [
      "The autoreload extension is already loaded. To reload it, use:\n",
      "  %reload_ext autoreload\n"
     ]
    }
   ],
   "source": [
    "%load_ext autoreload"
   ]
  },
  {
   "cell_type": "code",
   "execution_count": 75,
   "metadata": {},
   "outputs": [],
   "source": [
    "%autoreload 2"
   ]
  },
  {
   "cell_type": "markdown",
   "metadata": {},
   "source": [
    "## 1. INPUT"
   ]
  },
  {
   "cell_type": "code",
   "execution_count": 62,
   "metadata": {},
   "outputs": [],
   "source": [
    "path= os.path.join(os.path.abspath(os.path.join(os.getcwd(), os.pardir)),\"test\",\"testfiles\" )#\"D:\\\\Data\\\\2018-06 Werfopvolging Academiestraat Gent\" \n",
    "\n",
    "#GRAPH \n",
    "graphPath=os.path.join(path,'pcdGraph.ttl')\n",
    "graph=Graph().parse(graphPath)\n",
    "          \n",
    "#PCD1\n",
    "pye57.e57.SUPPORTED_POINT_FIELDS.update({'nor:normalX' : 'd','nor:normalY': 'd','nor:normalZ': 'd'})\n",
    "\n",
    "path1=os.path.join(path,'PCD',\"academiestraat week 22 a 20.pcd\")  \n",
    "pcd1= o3d.io.read_point_cloud(path1)\n",
    "subject1=[s for s in graph.subjects() if \"file:///academiestraat_week_22_a_20\" in s.toPython()]\n",
    "subject1=subject1[0]\n",
    "\n",
    "#E57_2\n",
    "path2=os.path.join(path,'PCD',\"week22 photogrammetry - Cloud.e57\")  \n",
    "e57_2 = pye57.E57(path2)\n",
    "e57_scan2=e57_2.read_scan_raw(0) \n",
    "e57_header2=e57_2.get_header(0)  \n",
    "pcd2=gmu.e57_to_pcd(e57_2)  \n",
    "subject2=[s for s in graph.subjects() if \"file:///week22_photogrammetry_-_Cloud\" in s.toPython()]\n",
    "subject2=subject2[0]  \n",
    "\n",
    "# #E57_3\n",
    "path3=os.path.join(path,'PCD',\"week 22 - Lidar.e57\")  \n",
    "e57_3 = pye57.E57(path3)  \n",
    "e57_scan3=e57_3.read_scan_raw(0)    \n",
    "e57_header3=e57_3.get_header(0)  \n",
    "pcd3=gmu.e57_to_pcd(e57_3)  \n",
    "subject3=[s for s in graph.subjects() if \"file:///academiestraat_week_22_19\" in s.toPython()]\n",
    "subject3=subject3[0]  \n",
    "\n"
   ]
  },
  {
   "cell_type": "code",
   "execution_count": 67,
   "metadata": {},
   "outputs": [],
   "source": [
    "\n",
    "#RESOURCES\n",
    "resourcePath=os.path.join(path,\"resources\")\n",
    "if not os.path.exists(resourcePath):\n",
    "    os.mkdir(resourcePath)\n"
   ]
  },
  {
   "cell_type": "code",
   "execution_count": 65,
   "metadata": {},
   "outputs": [],
   "source": [
    "exif = rdflib.Namespace('http://www.w3.org/2003/12/exif/ns#')\n",
    "geo=rdflib.Namespace('http://www.opengis.net/ont/geosparql#') #coordinate system information\n",
    "gom=rdflib.Namespace('https://w3id.org/gom#') # geometry representations => this is from mathias\n",
    "omg=rdflib.Namespace('https://w3id.org/omg#') # geometry relations\n",
    "fog=rdflib.Namespace('https://w3id.org/fog#')\n",
    "v4d=rdflib.Namespace('https://w3id.org/v4d/core#')\n",
    "openlabel=rdflib.Namespace('https://www.asam.net/index.php?eID=dumpFile&t=f&f=3876&token=413e8c85031ae64cc35cf42d0768627514868b2f#')\n",
    "e57=rdflib.Namespace('http://libe57.org#')\n",
    "xcr=rdflib.Namespace('http://www.w3.org/1999/02/22-rdf-syntax-ns#')\n",
    "ifc=rdflib.Namespace('http://ifcowl.openbimstandards.org/IFC2X3_Final#')\n"
   ]
  },
  {
   "cell_type": "code",
   "execution_count": 64,
   "metadata": {},
   "outputs": [],
   "source": [
    "subjects=[s for s in graph.subjects()]"
   ]
  },
  {
   "cell_type": "code",
   "execution_count": 76,
   "metadata": {},
   "outputs": [
    {
     "name": "stdout",
     "output_type": "stream",
     "text": [
      "file:///academiestraat_week_22_19\n",
      "PointCloud with 11936498 points.\n",
      "True\n",
      "file:///week22_photogrammetry_-_Cloud\n",
      "242750\n",
      "0\n"
     ]
    }
   ],
   "source": [
    "print(subject3)\n",
    "print(pcd3)\n",
    "\n",
    "node=PointCloudNode(subject=subject2,graphPath=graphPath, resource=pcd3)\n",
    "print(node.save_resource(resourcePath))\n",
    "# assertTrue()\n",
    "\n",
    "print(node.subject)\n",
    "print(node.pointCount)\n",
    "print(node.e57Index)\n",
    "\n",
    "\n"
   ]
  },
  {
   "cell_type": "code",
   "execution_count": 36,
   "metadata": {},
   "outputs": [
    {
     "name": "stdout",
     "output_type": "stream",
     "text": [
      "2bcfae4f-0c00-11ed-84a0-c8f75043ce59\n",
      "None\n"
     ]
    }
   ],
   "source": [
    "\n",
    "node= PointCloudNode(pcd=e57_2)\n",
    "print(node.name)\n",
    "print(node.export_resource(resourcePath,'.e57'))\n",
    "\n",
    "# self.assertTrue(node.export_resource(os.path.join(self.path,'resources'),'.e57'))"
   ]
  }
 ],
 "metadata": {
  "interpreter": {
   "hash": "801b4083378541fd050d6c91abf6ec053c863905e8162e031d57b83e7cdb3051"
  },
  "kernelspec": {
   "display_name": "Python 3.8.13 ('conda_environment3')",
   "language": "python",
   "name": "python3"
  },
  "language_info": {
   "codemirror_mode": {
    "name": "ipython",
    "version": 3
   },
   "file_extension": ".py",
   "mimetype": "text/x-python",
   "name": "python",
   "nbconvert_exporter": "python",
   "pygments_lexer": "ipython3",
   "version": "3.8.13"
  },
  "orig_nbformat": 4,
  "vscode": {
   "interpreter": {
    "hash": "832bf5fd5c6660b37dd2a90a45a57b02f877bb0a297fe89ca9c261a7f9e32997"
   }
  }
 },
 "nbformat": 4,
 "nbformat_minor": 2
}

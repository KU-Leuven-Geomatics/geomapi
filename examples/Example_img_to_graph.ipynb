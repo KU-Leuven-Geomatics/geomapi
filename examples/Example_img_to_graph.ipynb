{
 "cells": [
  {
   "cell_type": "markdown",
   "metadata": {},
   "source": [
    "# PREPROCESSING IMAGE DATA TO LINKED DATA\n",
    "In this notebook, we evaluate the image assets in a session repository.\n",
    "For every jpeg/png with its accompanying xmp or xmp file, an IMAGENODE metadata class is created \n",
    "that governs all the metadata of the image (paths, pose, etc.).\n",
    "As ouput, the method generates RDF GRAPHS (.ttl) files\n",
    "\n",
    ">This codebase operates on the scan2bim2.yml environment (python 3.8)"
   ]
  },
  {
   "cell_type": "code",
   "execution_count": 90,
   "metadata": {},
   "outputs": [],
   "source": [
    "from rdflib import Graph, plugin\n",
    "import uuid    \n",
    "import importlib\n",
    "import PIL.Image as PILimage\n",
    "import os.path\n",
    "import cv2\n",
    "#IMPORT MODULES\n",
    "from context import geomapi \n",
    "from geomapi.nodes import *\n",
    "import geomapi.utils as ut\n",
    "from geomapi.utils import geometryutils as gmu\n",
    "import geomapi.tools as tl"
   ]
  },
  {
   "cell_type": "code",
   "execution_count": null,
   "metadata": {},
   "outputs": [],
   "source": [
    "%load_ext autoreload"
   ]
  },
  {
   "cell_type": "code",
   "execution_count": null,
   "metadata": {},
   "outputs": [],
   "source": [
    "%autoreload 2"
   ]
  },
  {
   "cell_type": "markdown",
   "metadata": {},
   "source": [
    "## 1. INITIALIZE SESSION"
   ]
  },
  {
   "cell_type": "code",
   "execution_count": 91,
   "metadata": {},
   "outputs": [],
   "source": [
    "## INPUTS\n",
    "projectPath= os.path.abspath(os.path.join(os.getcwd(), os.pardir))+\"\\\\tests\"#\"D:\\\\Data\\\\2018-06 Werfopvolging Academiestraat Gent\" \n",
    "sessionPath = projectPath + \"\\\\Sample1\" #\"K:\\Projects\\2025-03 Project FWO SB Jelle\\7.Data\\21-11 House Maarten\\RAW data\\session_22-03-13 canon\n",
    "sensor='CANON'\n",
    "accuracy='0.1'"
   ]
  },
  {
   "cell_type": "markdown",
   "metadata": {},
   "source": [
    "## 2. READ PRESENT JPEG/PNG/XMP/XML CONTAINING IMAGES + METADATA\n",
    "An IMAGENODE is created per image in the session"
   ]
  },
  {
   "cell_type": "code",
   "execution_count": 93,
   "metadata": {},
   "outputs": [],
   "source": [
    "path=sessionPath+\"\\\\100_0848_0005.JPG\"\n",
    "img=cv2.imread(path)\n",
    "graphPath=sessionPath+\"\\\\imgGraph.ttl\"\n",
    "xmpPath=sessionPath+\"\\\\IMG_2173.xmp\"\n",
    "node1=ImageNode(path=path, sessionPath=sessionPath, sensor=sensor, accuracy=accuracy)\n",
    "node2=ImageNode(img=img, sessionPath=sessionPath, sensor=sensor, accuracy=accuracy)\n",
    "# node3=ImageNode(graphPath=graphPath, sessionPath=sessionPath, sensor=sensor, accuracy=accuracy)\n",
    "# node3=ImageNode(xmpPath=xmpPath, sessionPath=sessionPath, sensor=sensor, accuracy=accuracy)\n"
   ]
  },
  {
   "cell_type": "code",
   "execution_count": 94,
   "metadata": {},
   "outputs": [
    {
     "name": "stdout",
     "output_type": "stream",
     "text": [
      "http://815ad806-e321-11ec-adc3-b07d64b65615\n",
      "[51.19156891666666, 3.543635777777778, 68.342]\n"
     ]
    }
   ],
   "source": [
    "print(node1.subject)\n",
    "print(node1.geospatialTransform)"
   ]
  },
  {
   "cell_type": "code",
   "execution_count": 95,
   "metadata": {},
   "outputs": [
    {
     "name": "stdout",
     "output_type": "stream",
     "text": [
      "3 ImageNodes are created.\n",
      "Note that these nodes do not yet contain actual data but only the metadata\n"
     ]
    }
   ],
   "source": [
    "# Retrieve all image files in the session along with their xml metadata\n",
    "allSessionFilePaths=ut.get_list_of_files(sessionPath) \n",
    "nodelist=[]\n",
    "\n",
    "for path in allSessionFilePaths:        \n",
    "    \n",
    "    if path.endswith(\".JPG\") or path.endswith(\".PNG\"): \n",
    "        testXmpPath=path.replace('JPG','xmp')\n",
    "        if testXmpPath in allSessionFilePaths:\n",
    "            nodelist.append(ImageNode(path=path,xmpPath=testXmpPath,sessionPath=sessionPath, sensor=sensor, accuracy=accuracy))\n",
    "        else:\n",
    "            nodelist.append(ImageNode(path=path,sessionPath=sessionPath, sensor=sensor, accuracy=accuracy))\n",
    "\n",
    "    if path.endswith(\".xml\"):\n",
    "        list=tl.img_xml_to_nodes(path,sessionPath=sessionPath)\n",
    "        if list is not None:\n",
    "            nodelist.extend(list)\n",
    "          \n",
    "print(str(len(nodelist))+' ImageNodes are created.')\n",
    "# print(str(exifCounter)+' have poses in exif data')\n",
    "# print(str(xmpCounter)+' have poses in xmp data')\n",
    "# print(str(xmlCounter)+' have poses in xml data (not implemented yet)')\n",
    "print('Note that these nodes do not yet contain actual data but only the metadata')"
   ]
  },
  {
   "cell_type": "markdown",
   "metadata": {},
   "source": [
    "## 3. CREATE RDF GRAPH FOR All IMAGENODES AND EXPORT THEM TO .TTL\n",
    "An RDF graph and .ttl file is created for all images in the session\n",
    "(images themselves are not stored in the graph, only metadata)"
   ]
  },
  {
   "cell_type": "code",
   "execution_count": 96,
   "metadata": {},
   "outputs": [
    {
     "name": "stdout",
     "output_type": "stream",
     "text": [
      "3 Nodes succesfully serialized in: c:\\RepoHeinder\\geomapi\\tests\\Sample1\\imgGraph.ttl\n"
     ]
    }
   ],
   "source": [
    "graph=tl.nodes_to_graph(nodelist)\n",
    "subjectList=[1 for node in nodelist if node.graph is not None]\n",
    "graph.serialize(destination=sessionPath+\"\\\\imgGraph.ttl\", format='ttl')\n",
    "print (str(len(subjectList))+' Nodes succesfully serialized in: '+sessionPath+\"\\\\imgGraph.ttl\")"
   ]
  },
  {
   "cell_type": "code",
   "execution_count": 97,
   "metadata": {},
   "outputs": [
    {
     "name": "stdout",
     "output_type": "stream",
     "text": [
      "@prefix e57: <http://libe57.org#> .\n",
      "@prefix exif: <http://www.w3.org/2003/12/exif/ns#> .\n",
      "@prefix gom: <https://w3id.org/gom#> .\n",
      "@prefix openlabel: <https://www.asam.net/index.php?eID=dumpFile&t=f&f=3876&token=413e8c85031ae64cc35cf42d0768627514868b2f#> .\n",
      "@prefix v4d: <https://w3id.org/v4d/core#> .\n",
      "\n",
      "<http://91e5b583-e321-11ec-9969-b07d64b65615> a \"<class 'geomapi.imagenode.ImageNode'>\" ;\n",
      "    e57:geospatialTransform \"[51.19158297222222, 3.543775888888889, 68.305]\" ;\n",
      "    exif:imageHeight \"3648\" ;\n",
      "    exif:imageWidth \"5472\" ;\n",
      "    exif:resolutionUnit \"2\" ;\n",
      "    exif:xResolution \"72.0\" ;\n",
      "    exif:yResolution \"72.0\" ;\n",
      "    gom:coordinateSystem \"geospatial-wgs84\" ;\n",
      "    v4d:accuracy \"0.1\" ;\n",
      "    v4d:kwargs \"{'sessionPath': 'c:\\\\\\\\RepoHeinder\\\\\\\\geomapi\\\\\\\\tests\\\\\\\\Sample1', 'sensor': 'CANON', 'accuracy': '0.1'}\" ;\n",
      "    v4d:path \"100_0848_0003.JPG\" ;\n",
      "    openlabel:sensor \"CANON\" ;\n",
      "    openlabel:timestamp \"2020:09:22 16:01:29\" .\n",
      "\n",
      "<http://91e84d80-e321-11ec-8e9b-b07d64b65615> a \"<class 'geomapi.imagenode.ImageNode'>\" ;\n",
      "    e57:geospatialTransform \"[51.19157497222222, 3.5437067222222223, 68.356]\" ;\n",
      "    exif:imageHeight \"3648\" ;\n",
      "    exif:imageWidth \"5472\" ;\n",
      "    exif:resolutionUnit \"2\" ;\n",
      "    exif:xResolution \"72.0\" ;\n",
      "    exif:yResolution \"72.0\" ;\n",
      "    gom:coordinateSystem \"geospatial-wgs84\" ;\n",
      "    v4d:accuracy \"0.1\" ;\n",
      "    v4d:kwargs \"{'sessionPath': 'c:\\\\\\\\RepoHeinder\\\\\\\\geomapi\\\\\\\\tests\\\\\\\\Sample1', 'sensor': 'CANON', 'accuracy': '0.1'}\" ;\n",
      "    v4d:path \"100_0848_0004.JPG\" ;\n",
      "    openlabel:sensor \"CANON\" ;\n",
      "    openlabel:timestamp \"2020:09:22 16:01:34\" .\n",
      "\n",
      "<http://91eacb70-e321-11ec-8ec7-b07d64b65615> a \"<class 'geomapi.imagenode.ImageNode'>\" ;\n",
      "    e57:geospatialTransform \"[51.19156891666666, 3.543635777777778, 68.342]\" ;\n",
      "    exif:imageHeight \"3648\" ;\n",
      "    exif:imageWidth \"5472\" ;\n",
      "    exif:resolutionUnit \"2\" ;\n",
      "    exif:xResolution \"72.0\" ;\n",
      "    exif:yResolution \"72.0\" ;\n",
      "    gom:coordinateSystem \"geospatial-wgs84\" ;\n",
      "    v4d:accuracy \"0.1\" ;\n",
      "    v4d:kwargs \"{'sessionPath': 'c:\\\\\\\\RepoHeinder\\\\\\\\geomapi\\\\\\\\tests\\\\\\\\Sample1', 'sensor': 'CANON', 'accuracy': '0.1'}\" ;\n",
      "    v4d:path \"100_0848_0005.JPG\" ;\n",
      "    openlabel:sensor \"CANON\" ;\n",
      "    openlabel:timestamp \"2020:09:22 16:01:39\" .\n",
      "\n",
      "\n"
     ]
    }
   ],
   "source": [
    "print(graph.serialize())"
   ]
  }
 ],
 "metadata": {
  "interpreter": {
   "hash": "801b4083378541fd050d6c91abf6ec053c863905e8162e031d57b83e7cdb3051"
  },
  "kernelspec": {
   "display_name": "Python 3.8.13 ('conda_environment3')",
   "language": "python",
   "name": "python3"
  },
  "language_info": {
   "codemirror_mode": {
    "name": "ipython",
    "version": 3
   },
   "file_extension": ".py",
   "mimetype": "text/x-python",
   "name": "python",
   "nbconvert_exporter": "python",
   "pygments_lexer": "ipython3",
   "version": "3.8.13"
  },
  "orig_nbformat": 4,
  "vscode": {
   "interpreter": {
    "hash": "832bf5fd5c6660b37dd2a90a45a57b02f877bb0a297fe89ca9c261a7f9e32997"
   }
  }
 },
 "nbformat": 4,
 "nbformat_minor": 2
}

{
 "cells": [
  {
   "cell_type": "markdown",
   "metadata": {},
   "source": [
    "# EXAMPLE CROP GEOMETRY"
   ]
  },
  {
   "cell_type": "code",
   "execution_count": 29,
   "metadata": {},
   "outputs": [],
   "source": [
    "#IMPORT PACKAGES\n",
    "import rdflib\n",
    "from rdflib import Graph, plugin\n",
    "from rdflib.serializer import Serializer #pip install rdflib-jsonld https://pypi.org/project/rdflib-jsonld/\n",
    "from rdflib import Graph\n",
    "from rdflib import URIRef, BNode, Literal\n",
    "from rdflib.namespace import CSVW, DC, DCAT, DCTERMS, DOAP, FOAF, ODRL2, ORG, OWL, \\\n",
    "                           PROF, PROV, RDF, RDFS, SDO, SH, SKOS, SOSA, SSN, TIME, \\\n",
    "                           VOID, XMLNS, XSD\n",
    "import trimesh \n",
    "\n",
    "import os.path, time\n",
    "import importlib\n",
    "import numpy as np\n",
    "import xml.etree.ElementTree as ET\n",
    "import open3d as o3d\n",
    "import uuid    \n",
    "import pye57 \n",
    "import ifcopenshell\n",
    "import ifcopenshell.geom as geom\n",
    "import ifcopenshell.util\n",
    "from ifcopenshell.util.selector import Selector\n",
    "import operator\n",
    "import copy\n",
    "\n",
    "#IMPORT MODULES\n",
    "from context import geomapi \n",
    "from geomapi.nodes import *\n",
    "import geomapi.utils as ut\n",
    "from geomapi.utils import geometryutils as gmu\n",
    "import geomapi.tools as tl"
   ]
  },
  {
   "cell_type": "code",
   "execution_count": 30,
   "metadata": {},
   "outputs": [
    {
     "name": "stdout",
     "output_type": "stream",
     "text": [
      "The autoreload extension is already loaded. To reload it, use:\n",
      "  %reload_ext autoreload\n"
     ]
    }
   ],
   "source": [
    "%load_ext autoreload"
   ]
  },
  {
   "cell_type": "code",
   "execution_count": 31,
   "metadata": {},
   "outputs": [],
   "source": [
    "%autoreload 2"
   ]
  },
  {
   "cell_type": "markdown",
   "metadata": {},
   "source": [
    "## 1. INPUTS"
   ]
  },
  {
   "cell_type": "code",
   "execution_count": 32,
   "metadata": {},
   "outputs": [],
   "source": [
    "## INPUTS\n",
    "projectPath= os.path.join(os.path.abspath(os.path.join(os.getcwd(), os.pardir)),\"tests\" )#\"D:\\\\Data\\\\2018-06 Werfopvolging Academiestraat Gent\" \n",
    "sessionPath = os.path.join(projectPath,\"Samples11\") #\"K:\\Projects\\2025-03 Project FWO SB Jelle\\7.Data\\21-11 House Maarten\\RAW data\\session_22-03-13 canon\n",
    "\n",
    "threshold=0.1"
   ]
  },
  {
   "cell_type": "markdown",
   "metadata": {},
   "source": [
    "## 2. READ Data"
   ]
  },
  {
   "cell_type": "code",
   "execution_count": 33,
   "metadata": {},
   "outputs": [],
   "source": [
    "# bimMeshesPaths=[os.path.join(sessionPath,\"Basic Wall_211_WA_Ff1_Glued brickwork sandlime 150mm_1095339.ply\") ,\n",
    "#                          os.path.join(sessionPath,\"Basic Wall_211_WA_Ff1_Glued brickwork sandlime 150mm_1095304.ply\") ,\n",
    "#                          os.path.join(sessionPath,\"Basic Wall_211_WA_Ff1_Glued brickwork sandlime 150mm_1095314.ply\") ,\n",
    "#                          os.path.join(sessionPath,\"Basic Wall_211_WA_Ff1_Glued brickwork sandlime 150mm_1095319.ply\") ,\n",
    "#                          os.path.join(sessionPath,\"Basic Wall_211_WA_Ff1_Glued brickwork sandlime 150mm_1095324.ply\") ,\n",
    "#                          os.path.join(sessionPath,\"Basic Wall_211_WA_Ff1_Glued brickwork sandlime 150mm_1095329.ply\")]\n",
    "# cutterMeshes=[o3d.io.read_triangle_mesh(path) for path in bimMeshesPaths]\n",
    "# sourcePcd=o3d.io.read_point_cloud(os.path.join(sessionPath,'academiestraat week 22 19.pcd'))\n",
    "# sourceMesh=o3d.io.read_triangle_mesh(os.path.join(sessionPath,'week22.obj'))\n",
    "# cutterPcd=[sourcePcd.select_by_index([0,1,2,3]),sourcePcd.select_by_index([1000,1001,1002,1003])]\n"
   ]
  },
  {
   "cell_type": "code",
   "execution_count": 34,
   "metadata": {},
   "outputs": [],
   "source": [
    "meshPath=os.path.join(sessionPath,\"week22.obj\")  \n",
    "mesh= o3d.io.read_triangle_mesh(meshPath)"
   ]
  },
  {
   "cell_type": "code",
   "execution_count": 35,
   "metadata": {},
   "outputs": [],
   "source": [
    "pcdPath=os.path.join(sessionPath,\"academiestraat week 22 19.pcd\")  \n",
    "pcd= o3d.io.read_point_cloud(pcdPath) "
   ]
  },
  {
   "cell_type": "code",
   "execution_count": 36,
   "metadata": {},
   "outputs": [],
   "source": [
    "path=sessionPath\n",
    "ifcPath2=os.path.join(path,\"ifc_parking.ifc\") \n",
    "classes= '.IfcBeam | .IfcColumn | .IfcWall | .IfcSlab'\n",
    "ifc2 = ifcopenshell.open(ifcPath2)   \n",
    "\n",
    "ifcSlab=ifc2.by_guid('2qZtnImXH6Tgdb58DjNlmF')\n",
    "ifcWall=ifc2.by_guid('06v1k9ENv8DhGMCvKUuLQV')\n",
    "ifcBeam=ifc2.by_guid('05Is7PfoXBjhBcbRTnzewz' )\n",
    "ifcColumn=ifc2.by_guid('23JN72MijBOfF91SkLzf3a')\n",
    "# ifcWindow=ifc.by_guid(cls.slabGlobalid) \n",
    "# ifcDoor=ifc.by_guid(cls.slabGlobalid)\n",
    "\n",
    "slabMesh=gmu.ifc_to_mesh(ifcSlab)\n",
    "wallMesh=gmu.ifc_to_mesh(ifcWall)\n",
    "beamMesh=gmu.ifc_to_mesh(ifcBeam)\n",
    "columnMesh=gmu.ifc_to_mesh(ifcColumn)"
   ]
  },
  {
   "cell_type": "code",
   "execution_count": 37,
   "metadata": {},
   "outputs": [],
   "source": [
    "o3d.visualization.draw_geometries( [slabMesh,wallMesh,columnMesh,beamMesh] + [mesh]  )"
   ]
  },
  {
   "cell_type": "code",
   "execution_count": 38,
   "metadata": {},
   "outputs": [
    {
     "name": "stdout",
     "output_type": "stream",
     "text": [
      "[[-37.36532974  16.87863541   0.71651864]\n",
      " [106.94235229  16.87863541   0.71651864]\n",
      " [-37.36532974 130.69406128   0.71651864]\n",
      " [-37.36532974  16.87863541  23.73304558]\n",
      " [106.94235229 130.69406128  23.73304558]\n",
      " [-37.36532974 130.69406128  23.73304558]\n",
      " [106.94235229  16.87863541  23.73304558]\n",
      " [106.94235229 130.69406128   0.71651864]]\n",
      "[-37.36532974 106.94235229  16.87863541 130.69406128   0.71651864\n",
      "  23.73304558]\n",
      "[[-37.36532974  16.87863541   0.71651864]\n",
      " [106.94235229  16.87863541   0.71651864]\n",
      " [-37.36532974 130.69406128   0.71651864]\n",
      " [-37.36532974  16.87863541  23.73304558]\n",
      " [106.94235229 130.69406128  23.73304558]\n",
      " [-37.36532974 130.69406128  23.73304558]\n",
      " [106.94235229  16.87863541  23.73304558]\n",
      " [106.94235229 130.69406128   0.71651864]]\n",
      "0.0\n",
      "0.0\n",
      "0.0\n",
      "0.0\n",
      "0.0\n",
      "0.0\n",
      "0.0\n",
      "0.0\n",
      "0.0\n",
      "0.0\n",
      "0.0\n",
      "0.0\n",
      "0.0\n",
      "0.0\n"
     ]
    }
   ],
   "source": [
    "box=mesh.get_axis_aligned_bounding_box()\n",
    "boxPoints=np.asarray(box.get_box_points())\n",
    "print(boxPoints)\n",
    "cartesianBounds=gmu.get_cartesian_bounds(mesh)\n",
    "print(cartesianBounds)\n",
    "boundingPoints=np.asarray(gmu.get_bounding_points(cartesianBounds)) \n",
    "print(boundingPoints)\n",
    "\n",
    "for i in range(0,7):\n",
    "    for j in range(0,2):\n",
    "        print(boundingPoints[i][j]-boxPoints[i][j])\n",
    "        # self.assertAlmostEqual(boundingPoints[i][j],boxPoints[i][j],delta=0.01)"
   ]
  },
  {
   "cell_type": "markdown",
   "metadata": {},
   "source": [
    "## crop_geometry_by_distance"
   ]
  },
  {
   "cell_type": "code",
   "execution_count": 23,
   "metadata": {},
   "outputs": [
    {
     "name": "stdout",
     "output_type": "stream",
     "text": [
      "[Open3D WARNING] [SelectByIndex] This mesh contains triangle uvs that are not handled in this function\n",
      "TriangleMesh with 2024 points and 2471 triangles.\n",
      "PointCloud with 361075 points.\n",
      "[Open3D WARNING] [SelectByIndex] This mesh contains triangle uvs that are not handled in this function\n",
      "TriangleMesh with 8596 points and 10387 triangles.\n",
      "PointCloud with 1322636 points.\n"
     ]
    }
   ],
   "source": [
    "test1=gmu.crop_geometry_by_distance(source=mesh,cutters=meshes)\n",
    "print(test1)\n",
    "\n",
    "test2=gmu.crop_geometry_by_distance(source=pcd,cutters=meshes)\n",
    "print(test2)\n",
    "\n",
    "test3=gmu.crop_geometry_by_distance(source=mesh,cutters=pcd)\n",
    "print(test3)\n",
    "\n",
    "test4=gmu.crop_geometry_by_distance(source=pcd,cutters=mesh)\n",
    "print(test4)"
   ]
  },
  {
   "cell_type": "markdown",
   "metadata": {},
   "source": [
    "## crop_geometry_by_convex_hull"
   ]
  },
  {
   "cell_type": "code",
   "execution_count": 21,
   "metadata": {},
   "outputs": [
    {
     "name": "stderr",
     "output_type": "stream",
     "text": [
      "unable to convert colors!\n"
     ]
    },
    {
     "name": "stdout",
     "output_type": "stream",
     "text": [
      "[TriangleMesh with 12563 points and 10262 triangles., TriangleMesh with 814 points and 669 triangles., TriangleMesh with 1036 points and 893 triangles., TriangleMesh with 1266 points and 1169 triangles.]\n"
     ]
    }
   ],
   "source": [
    "# cutters= [gmu.mesh_to_trimesh(mesh) for mesh in cutterMeshes]\n",
    "sourceMesh=gmu.mesh_to_trimesh(mesh)\n",
    "meshes=[slabMesh,wallMesh,columnMesh,beamMesh]\n",
    "cutters=[gmu.mesh_to_trimesh(mesh) for mesh in meshes]\n",
    "\n",
    "innerCrop=gmu.crop_geometry_by_convex_hull(source=sourceMesh, cutters=cutters, inside = True )\n",
    "innerCrop=[mesh.as_open3d for mesh in innerCrop]\n",
    "print(innerCrop)\n"
   ]
  },
  {
   "cell_type": "code",
   "execution_count": 12,
   "metadata": {},
   "outputs": [],
   "source": [
    "boxes=[mesh.get_oriented_bounding_box() for mesh in innerCrop]\n",
    "for box in boxes:\n",
    "    box.color=[1,0,0]\n",
    "innerCrop=[mesh.paint_uniform_color([1, 0.706, 0]) for mesh in innerCrop]\n",
    "# hull_ls = o3d.geometry.LineSet.create_from_triangle_mesh(hull)\n",
    "# hull_ls.paint_uniform_color((1, 0, 0))\n",
    "# o3d.visualization.draw_geometries( meshes +test3 + [hull_ls]  )\n",
    "o3d.visualization.draw_geometries( [mesh] + boxes + innerCrop  )\n"
   ]
  },
  {
   "cell_type": "code",
   "execution_count": 14,
   "metadata": {},
   "outputs": [
    {
     "name": "stdout",
     "output_type": "stream",
     "text": [
      "[TriangleMesh with 255157 points and 499966 triangles.]\n"
     ]
    }
   ],
   "source": [
    "outerCrop=gmu.crop_geometry_by_convex_hull(source=sourceMesh, cutters=cutters[0], inside = False ) \n",
    "outerCrop=[mesh.as_open3d for mesh in outerCrop]\n",
    "print(outerCrop)\n",
    "# hull, _ = sourcePcd.compute_convex_hull()"
   ]
  },
  {
   "cell_type": "code",
   "execution_count": 19,
   "metadata": {},
   "outputs": [
    {
     "name": "stdout",
     "output_type": "stream",
     "text": [
      "[Open3D WARNING] [ViewControl] SetViewPoint() failed because window height and width are not set.\n"
     ]
    }
   ],
   "source": [
    "boxes=[mesh.get_oriented_bounding_box() for mesh in outerCrop]\n",
    "for box in boxes:\n",
    "    box.color=[1,0,0]\n",
    "outerCrop=[mesh.paint_uniform_color([1, 0.706, 0]) for mesh in outerCrop]\n",
    "# hull_ls = o3d.geometry.LineSet.create_from_triangle_mesh(hull)\n",
    "# hull_ls.paint_uniform_color((1, 0, 0))\n",
    "# o3d.visualization.draw_geometries( meshes +test3 + [hull_ls]  )\n",
    "o3d.visualization.draw_geometries( boxes + outerCrop + [slabMesh] )"
   ]
  },
  {
   "cell_type": "markdown",
   "metadata": {},
   "source": [
    "## crop_geometry_by_raycasting"
   ]
  },
  {
   "cell_type": "code",
   "execution_count": 81,
   "metadata": {},
   "outputs": [
    {
     "name": "stdout",
     "output_type": "stream",
     "text": [
      "[Open3D WARNING] [RemoveDegenerateTriangles] This mesh contains triangle uvs that are not handled in this function\n",
      "TriangleMesh with 173154 points and 243839 triangles.\n",
      "TriangleMesh with 174586 points and 246108 triangles.\n",
      "[Open3D WARNING] [RemoveDegenerateTriangles] This mesh contains triangle uvs that are not handled in this function\n",
      "TriangleMesh with 157109 points and 236652 triangles.\n"
     ]
    }
   ],
   "source": [
    "pcd=sourcePcd\n",
    "mesh=sourceMesh\n",
    "hull, _ = pcd.compute_convex_hull()\n",
    "\n",
    "test1=gmu.crop_geometry_by_raycasting(source=mesh, cutter=hull, inside=True, strict =True ) \n",
    "print(test1)\n",
    "\n",
    "test2=gmu.crop_geometry_by_raycasting(source=mesh, cutter=hull, inside=True, strict =False ) \n",
    "print(test2)\n",
    "\n",
    "test3=gmu.crop_geometry_by_raycasting(source=mesh, cutter=hull, inside=False, strict =True ) \n",
    "print(test3)"
   ]
  },
  {
   "cell_type": "code",
   "execution_count": 90,
   "metadata": {},
   "outputs": [],
   "source": [
    "hull_ls = o3d.geometry.LineSet.create_from_triangle_mesh(hull)\n",
    "hull_ls.paint_uniform_color((1, 0, 0))\n",
    "o3d.visualization.draw_geometries([test3] + [hull_ls]  )"
   ]
  }
 ],
 "metadata": {
  "kernelspec": {
   "display_name": "Python 3.8.13 ('conda_environment3')",
   "language": "python",
   "name": "python3"
  },
  "language_info": {
   "codemirror_mode": {
    "name": "ipython",
    "version": 3
   },
   "file_extension": ".py",
   "mimetype": "text/x-python",
   "name": "python",
   "nbconvert_exporter": "python",
   "pygments_lexer": "ipython3",
   "version": "3.8.13"
  },
  "orig_nbformat": 4,
  "vscode": {
   "interpreter": {
    "hash": "801b4083378541fd050d6c91abf6ec053c863905e8162e031d57b83e7cdb3051"
   }
  }
 },
 "nbformat": 4,
 "nbformat_minor": 2
}
